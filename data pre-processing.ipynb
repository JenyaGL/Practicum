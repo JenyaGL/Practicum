{
 "cells": [
  {
   "cell_type": "markdown",
   "metadata": {},
   "source": [
    "# Analyzing borrowers’ risk of defaulting\n",
    "\n",
    "\n",
    "\n",
    "\n",
    "**The following analysis is devided into 3 steps:**\n",
    "\n",
    "-processing of the data.\n",
    "\n",
    "-categorization of the data.\n",
    "\n",
    "-presenting the hypotheses results.\n",
    "\n"
   ]
  },
  {
   "cell_type": "markdown",
   "metadata": {},
   "source": [
    "## General overview of the infornamtion - "
   ]
  },
  {
   "cell_type": "code",
   "execution_count": 1,
   "metadata": {},
   "outputs": [],
   "source": [
    "# Loading all the libraries\n",
    "import pandas as pd \n",
    "import nltk\n",
    "from nltk.stem import WordNetLemmatizer \n",
    "wordnet_lemma = WordNetLemmatizer()\n",
    "from pymystem3 import Mystem\n",
    "from collections import Counter\n",
    "m = Mystem()\n",
    "# Load the data\n",
    "\n",
    "credit_scoring = pd.read_csv('/datasets/credit_scoring_eng.csv')"
   ]
  },
  {
   "cell_type": "code",
   "execution_count": 2,
   "metadata": {},
   "outputs": [
    {
     "data": {
      "text/html": [
       "<div>\n",
       "<style scoped>\n",
       "    .dataframe tbody tr th:only-of-type {\n",
       "        vertical-align: middle;\n",
       "    }\n",
       "\n",
       "    .dataframe tbody tr th {\n",
       "        vertical-align: top;\n",
       "    }\n",
       "\n",
       "    .dataframe thead th {\n",
       "        text-align: right;\n",
       "    }\n",
       "</style>\n",
       "<table border=\"1\" class=\"dataframe\">\n",
       "  <thead>\n",
       "    <tr style=\"text-align: right;\">\n",
       "      <th></th>\n",
       "      <th>children</th>\n",
       "      <th>days_employed</th>\n",
       "      <th>dob_years</th>\n",
       "      <th>education</th>\n",
       "      <th>education_id</th>\n",
       "      <th>family_status</th>\n",
       "      <th>family_status_id</th>\n",
       "      <th>gender</th>\n",
       "      <th>income_type</th>\n",
       "      <th>debt</th>\n",
       "      <th>total_income</th>\n",
       "      <th>purpose</th>\n",
       "    </tr>\n",
       "  </thead>\n",
       "  <tbody>\n",
       "    <tr>\n",
       "      <th>count</th>\n",
       "      <td>21525.000000</td>\n",
       "      <td>19351.000000</td>\n",
       "      <td>21525.000000</td>\n",
       "      <td>21525</td>\n",
       "      <td>21525.000000</td>\n",
       "      <td>21525</td>\n",
       "      <td>21525.000000</td>\n",
       "      <td>21525</td>\n",
       "      <td>21525</td>\n",
       "      <td>21525.000000</td>\n",
       "      <td>19351.000000</td>\n",
       "      <td>21525</td>\n",
       "    </tr>\n",
       "    <tr>\n",
       "      <th>unique</th>\n",
       "      <td>NaN</td>\n",
       "      <td>NaN</td>\n",
       "      <td>NaN</td>\n",
       "      <td>15</td>\n",
       "      <td>NaN</td>\n",
       "      <td>5</td>\n",
       "      <td>NaN</td>\n",
       "      <td>3</td>\n",
       "      <td>8</td>\n",
       "      <td>NaN</td>\n",
       "      <td>NaN</td>\n",
       "      <td>38</td>\n",
       "    </tr>\n",
       "    <tr>\n",
       "      <th>top</th>\n",
       "      <td>NaN</td>\n",
       "      <td>NaN</td>\n",
       "      <td>NaN</td>\n",
       "      <td>secondary education</td>\n",
       "      <td>NaN</td>\n",
       "      <td>married</td>\n",
       "      <td>NaN</td>\n",
       "      <td>F</td>\n",
       "      <td>employee</td>\n",
       "      <td>NaN</td>\n",
       "      <td>NaN</td>\n",
       "      <td>wedding ceremony</td>\n",
       "    </tr>\n",
       "    <tr>\n",
       "      <th>freq</th>\n",
       "      <td>NaN</td>\n",
       "      <td>NaN</td>\n",
       "      <td>NaN</td>\n",
       "      <td>13750</td>\n",
       "      <td>NaN</td>\n",
       "      <td>12380</td>\n",
       "      <td>NaN</td>\n",
       "      <td>14236</td>\n",
       "      <td>11119</td>\n",
       "      <td>NaN</td>\n",
       "      <td>NaN</td>\n",
       "      <td>797</td>\n",
       "    </tr>\n",
       "    <tr>\n",
       "      <th>mean</th>\n",
       "      <td>0.538908</td>\n",
       "      <td>63046.497661</td>\n",
       "      <td>43.293380</td>\n",
       "      <td>NaN</td>\n",
       "      <td>0.817236</td>\n",
       "      <td>NaN</td>\n",
       "      <td>0.972544</td>\n",
       "      <td>NaN</td>\n",
       "      <td>NaN</td>\n",
       "      <td>0.080883</td>\n",
       "      <td>26787.568355</td>\n",
       "      <td>NaN</td>\n",
       "    </tr>\n",
       "    <tr>\n",
       "      <th>std</th>\n",
       "      <td>1.381587</td>\n",
       "      <td>140827.311974</td>\n",
       "      <td>12.574584</td>\n",
       "      <td>NaN</td>\n",
       "      <td>0.548138</td>\n",
       "      <td>NaN</td>\n",
       "      <td>1.420324</td>\n",
       "      <td>NaN</td>\n",
       "      <td>NaN</td>\n",
       "      <td>0.272661</td>\n",
       "      <td>16475.450632</td>\n",
       "      <td>NaN</td>\n",
       "    </tr>\n",
       "    <tr>\n",
       "      <th>min</th>\n",
       "      <td>-1.000000</td>\n",
       "      <td>-18388.949901</td>\n",
       "      <td>0.000000</td>\n",
       "      <td>NaN</td>\n",
       "      <td>0.000000</td>\n",
       "      <td>NaN</td>\n",
       "      <td>0.000000</td>\n",
       "      <td>NaN</td>\n",
       "      <td>NaN</td>\n",
       "      <td>0.000000</td>\n",
       "      <td>3306.762000</td>\n",
       "      <td>NaN</td>\n",
       "    </tr>\n",
       "    <tr>\n",
       "      <th>25%</th>\n",
       "      <td>0.000000</td>\n",
       "      <td>-2747.423625</td>\n",
       "      <td>33.000000</td>\n",
       "      <td>NaN</td>\n",
       "      <td>1.000000</td>\n",
       "      <td>NaN</td>\n",
       "      <td>0.000000</td>\n",
       "      <td>NaN</td>\n",
       "      <td>NaN</td>\n",
       "      <td>0.000000</td>\n",
       "      <td>16488.504500</td>\n",
       "      <td>NaN</td>\n",
       "    </tr>\n",
       "    <tr>\n",
       "      <th>50%</th>\n",
       "      <td>0.000000</td>\n",
       "      <td>-1203.369529</td>\n",
       "      <td>42.000000</td>\n",
       "      <td>NaN</td>\n",
       "      <td>1.000000</td>\n",
       "      <td>NaN</td>\n",
       "      <td>0.000000</td>\n",
       "      <td>NaN</td>\n",
       "      <td>NaN</td>\n",
       "      <td>0.000000</td>\n",
       "      <td>23202.870000</td>\n",
       "      <td>NaN</td>\n",
       "    </tr>\n",
       "    <tr>\n",
       "      <th>75%</th>\n",
       "      <td>1.000000</td>\n",
       "      <td>-291.095954</td>\n",
       "      <td>53.000000</td>\n",
       "      <td>NaN</td>\n",
       "      <td>1.000000</td>\n",
       "      <td>NaN</td>\n",
       "      <td>1.000000</td>\n",
       "      <td>NaN</td>\n",
       "      <td>NaN</td>\n",
       "      <td>0.000000</td>\n",
       "      <td>32549.611000</td>\n",
       "      <td>NaN</td>\n",
       "    </tr>\n",
       "    <tr>\n",
       "      <th>max</th>\n",
       "      <td>20.000000</td>\n",
       "      <td>401755.400475</td>\n",
       "      <td>75.000000</td>\n",
       "      <td>NaN</td>\n",
       "      <td>4.000000</td>\n",
       "      <td>NaN</td>\n",
       "      <td>4.000000</td>\n",
       "      <td>NaN</td>\n",
       "      <td>NaN</td>\n",
       "      <td>1.000000</td>\n",
       "      <td>362496.645000</td>\n",
       "      <td>NaN</td>\n",
       "    </tr>\n",
       "  </tbody>\n",
       "</table>\n",
       "</div>"
      ],
      "text/plain": [
       "            children  days_employed     dob_years            education  \\\n",
       "count   21525.000000   19351.000000  21525.000000                21525   \n",
       "unique           NaN            NaN           NaN                   15   \n",
       "top              NaN            NaN           NaN  secondary education   \n",
       "freq             NaN            NaN           NaN                13750   \n",
       "mean        0.538908   63046.497661     43.293380                  NaN   \n",
       "std         1.381587  140827.311974     12.574584                  NaN   \n",
       "min        -1.000000  -18388.949901      0.000000                  NaN   \n",
       "25%         0.000000   -2747.423625     33.000000                  NaN   \n",
       "50%         0.000000   -1203.369529     42.000000                  NaN   \n",
       "75%         1.000000    -291.095954     53.000000                  NaN   \n",
       "max        20.000000  401755.400475     75.000000                  NaN   \n",
       "\n",
       "        education_id family_status  family_status_id gender income_type  \\\n",
       "count   21525.000000         21525      21525.000000  21525       21525   \n",
       "unique           NaN             5               NaN      3           8   \n",
       "top              NaN       married               NaN      F    employee   \n",
       "freq             NaN         12380               NaN  14236       11119   \n",
       "mean        0.817236           NaN          0.972544    NaN         NaN   \n",
       "std         0.548138           NaN          1.420324    NaN         NaN   \n",
       "min         0.000000           NaN          0.000000    NaN         NaN   \n",
       "25%         1.000000           NaN          0.000000    NaN         NaN   \n",
       "50%         1.000000           NaN          0.000000    NaN         NaN   \n",
       "75%         1.000000           NaN          1.000000    NaN         NaN   \n",
       "max         4.000000           NaN          4.000000    NaN         NaN   \n",
       "\n",
       "                debt   total_income           purpose  \n",
       "count   21525.000000   19351.000000             21525  \n",
       "unique           NaN            NaN                38  \n",
       "top              NaN            NaN  wedding ceremony  \n",
       "freq             NaN            NaN               797  \n",
       "mean        0.080883   26787.568355               NaN  \n",
       "std         0.272661   16475.450632               NaN  \n",
       "min         0.000000    3306.762000               NaN  \n",
       "25%         0.000000   16488.504500               NaN  \n",
       "50%         0.000000   23202.870000               NaN  \n",
       "75%         0.000000   32549.611000               NaN  \n",
       "max         1.000000  362496.645000               NaN  "
      ]
     },
     "execution_count": 2,
     "metadata": {},
     "output_type": "execute_result"
    }
   ],
   "source": [
    "# Let's see how many rows and columns our dataset has\n",
    "\n",
    "credit_scoring.describe(include='all')"
   ]
  },
  {
   "cell_type": "code",
   "execution_count": 3,
   "metadata": {
    "scrolled": true
   },
   "outputs": [
    {
     "data": {
      "text/html": [
       "<div>\n",
       "<style scoped>\n",
       "    .dataframe tbody tr th:only-of-type {\n",
       "        vertical-align: middle;\n",
       "    }\n",
       "\n",
       "    .dataframe tbody tr th {\n",
       "        vertical-align: top;\n",
       "    }\n",
       "\n",
       "    .dataframe thead th {\n",
       "        text-align: right;\n",
       "    }\n",
       "</style>\n",
       "<table border=\"1\" class=\"dataframe\">\n",
       "  <thead>\n",
       "    <tr style=\"text-align: right;\">\n",
       "      <th></th>\n",
       "      <th>children</th>\n",
       "      <th>days_employed</th>\n",
       "      <th>dob_years</th>\n",
       "      <th>education</th>\n",
       "      <th>education_id</th>\n",
       "      <th>family_status</th>\n",
       "      <th>family_status_id</th>\n",
       "      <th>gender</th>\n",
       "      <th>income_type</th>\n",
       "      <th>debt</th>\n",
       "      <th>total_income</th>\n",
       "      <th>purpose</th>\n",
       "    </tr>\n",
       "  </thead>\n",
       "  <tbody>\n",
       "    <tr>\n",
       "      <th>0</th>\n",
       "      <td>1</td>\n",
       "      <td>-8437.673028</td>\n",
       "      <td>42</td>\n",
       "      <td>bachelor's degree</td>\n",
       "      <td>0</td>\n",
       "      <td>married</td>\n",
       "      <td>0</td>\n",
       "      <td>F</td>\n",
       "      <td>employee</td>\n",
       "      <td>0</td>\n",
       "      <td>40620.102</td>\n",
       "      <td>purchase of the house</td>\n",
       "    </tr>\n",
       "    <tr>\n",
       "      <th>1</th>\n",
       "      <td>1</td>\n",
       "      <td>-4024.803754</td>\n",
       "      <td>36</td>\n",
       "      <td>secondary education</td>\n",
       "      <td>1</td>\n",
       "      <td>married</td>\n",
       "      <td>0</td>\n",
       "      <td>F</td>\n",
       "      <td>employee</td>\n",
       "      <td>0</td>\n",
       "      <td>17932.802</td>\n",
       "      <td>car purchase</td>\n",
       "    </tr>\n",
       "    <tr>\n",
       "      <th>2</th>\n",
       "      <td>0</td>\n",
       "      <td>-5623.422610</td>\n",
       "      <td>33</td>\n",
       "      <td>Secondary Education</td>\n",
       "      <td>1</td>\n",
       "      <td>married</td>\n",
       "      <td>0</td>\n",
       "      <td>M</td>\n",
       "      <td>employee</td>\n",
       "      <td>0</td>\n",
       "      <td>23341.752</td>\n",
       "      <td>purchase of the house</td>\n",
       "    </tr>\n",
       "    <tr>\n",
       "      <th>3</th>\n",
       "      <td>3</td>\n",
       "      <td>-4124.747207</td>\n",
       "      <td>32</td>\n",
       "      <td>secondary education</td>\n",
       "      <td>1</td>\n",
       "      <td>married</td>\n",
       "      <td>0</td>\n",
       "      <td>M</td>\n",
       "      <td>employee</td>\n",
       "      <td>0</td>\n",
       "      <td>42820.568</td>\n",
       "      <td>supplementary education</td>\n",
       "    </tr>\n",
       "    <tr>\n",
       "      <th>4</th>\n",
       "      <td>0</td>\n",
       "      <td>340266.072047</td>\n",
       "      <td>53</td>\n",
       "      <td>secondary education</td>\n",
       "      <td>1</td>\n",
       "      <td>civil partnership</td>\n",
       "      <td>1</td>\n",
       "      <td>F</td>\n",
       "      <td>retiree</td>\n",
       "      <td>0</td>\n",
       "      <td>25378.572</td>\n",
       "      <td>to have a wedding</td>\n",
       "    </tr>\n",
       "    <tr>\n",
       "      <th>5</th>\n",
       "      <td>0</td>\n",
       "      <td>-926.185831</td>\n",
       "      <td>27</td>\n",
       "      <td>bachelor's degree</td>\n",
       "      <td>0</td>\n",
       "      <td>civil partnership</td>\n",
       "      <td>1</td>\n",
       "      <td>M</td>\n",
       "      <td>business</td>\n",
       "      <td>0</td>\n",
       "      <td>40922.170</td>\n",
       "      <td>purchase of the house</td>\n",
       "    </tr>\n",
       "    <tr>\n",
       "      <th>6</th>\n",
       "      <td>0</td>\n",
       "      <td>-2879.202052</td>\n",
       "      <td>43</td>\n",
       "      <td>bachelor's degree</td>\n",
       "      <td>0</td>\n",
       "      <td>married</td>\n",
       "      <td>0</td>\n",
       "      <td>F</td>\n",
       "      <td>business</td>\n",
       "      <td>0</td>\n",
       "      <td>38484.156</td>\n",
       "      <td>housing transactions</td>\n",
       "    </tr>\n",
       "    <tr>\n",
       "      <th>7</th>\n",
       "      <td>0</td>\n",
       "      <td>-152.779569</td>\n",
       "      <td>50</td>\n",
       "      <td>SECONDARY EDUCATION</td>\n",
       "      <td>1</td>\n",
       "      <td>married</td>\n",
       "      <td>0</td>\n",
       "      <td>M</td>\n",
       "      <td>employee</td>\n",
       "      <td>0</td>\n",
       "      <td>21731.829</td>\n",
       "      <td>education</td>\n",
       "    </tr>\n",
       "    <tr>\n",
       "      <th>8</th>\n",
       "      <td>2</td>\n",
       "      <td>-6929.865299</td>\n",
       "      <td>35</td>\n",
       "      <td>BACHELOR'S DEGREE</td>\n",
       "      <td>0</td>\n",
       "      <td>civil partnership</td>\n",
       "      <td>1</td>\n",
       "      <td>F</td>\n",
       "      <td>employee</td>\n",
       "      <td>0</td>\n",
       "      <td>15337.093</td>\n",
       "      <td>having a wedding</td>\n",
       "    </tr>\n",
       "    <tr>\n",
       "      <th>9</th>\n",
       "      <td>0</td>\n",
       "      <td>-2188.756445</td>\n",
       "      <td>41</td>\n",
       "      <td>secondary education</td>\n",
       "      <td>1</td>\n",
       "      <td>married</td>\n",
       "      <td>0</td>\n",
       "      <td>M</td>\n",
       "      <td>employee</td>\n",
       "      <td>0</td>\n",
       "      <td>23108.150</td>\n",
       "      <td>purchase of the house for my family</td>\n",
       "    </tr>\n",
       "  </tbody>\n",
       "</table>\n",
       "</div>"
      ],
      "text/plain": [
       "   children  days_employed  dob_years            education  education_id  \\\n",
       "0         1   -8437.673028         42    bachelor's degree             0   \n",
       "1         1   -4024.803754         36  secondary education             1   \n",
       "2         0   -5623.422610         33  Secondary Education             1   \n",
       "3         3   -4124.747207         32  secondary education             1   \n",
       "4         0  340266.072047         53  secondary education             1   \n",
       "5         0    -926.185831         27    bachelor's degree             0   \n",
       "6         0   -2879.202052         43    bachelor's degree             0   \n",
       "7         0    -152.779569         50  SECONDARY EDUCATION             1   \n",
       "8         2   -6929.865299         35    BACHELOR'S DEGREE             0   \n",
       "9         0   -2188.756445         41  secondary education             1   \n",
       "\n",
       "       family_status  family_status_id gender income_type  debt  total_income  \\\n",
       "0            married                 0      F    employee     0     40620.102   \n",
       "1            married                 0      F    employee     0     17932.802   \n",
       "2            married                 0      M    employee     0     23341.752   \n",
       "3            married                 0      M    employee     0     42820.568   \n",
       "4  civil partnership                 1      F     retiree     0     25378.572   \n",
       "5  civil partnership                 1      M    business     0     40922.170   \n",
       "6            married                 0      F    business     0     38484.156   \n",
       "7            married                 0      M    employee     0     21731.829   \n",
       "8  civil partnership                 1      F    employee     0     15337.093   \n",
       "9            married                 0      M    employee     0     23108.150   \n",
       "\n",
       "                               purpose  \n",
       "0                purchase of the house  \n",
       "1                         car purchase  \n",
       "2                purchase of the house  \n",
       "3              supplementary education  \n",
       "4                    to have a wedding  \n",
       "5                purchase of the house  \n",
       "6                 housing transactions  \n",
       "7                            education  \n",
       "8                     having a wedding  \n",
       "9  purchase of the house for my family  "
      ]
     },
     "execution_count": 3,
     "metadata": {},
     "output_type": "execute_result"
    }
   ],
   "source": [
    "# let's print the first N rows \n",
    "\n",
    "credit_scoring.head(10)"
   ]
  },
  {
   "cell_type": "code",
   "execution_count": 4,
   "metadata": {},
   "outputs": [
    {
     "name": "stdout",
     "output_type": "stream",
     "text": [
      "<class 'pandas.core.frame.DataFrame'>\n",
      "RangeIndex: 21525 entries, 0 to 21524\n",
      "Data columns (total 12 columns):\n",
      " #   Column            Non-Null Count  Dtype  \n",
      "---  ------            --------------  -----  \n",
      " 0   children          21525 non-null  int64  \n",
      " 1   days_employed     19351 non-null  float64\n",
      " 2   dob_years         21525 non-null  int64  \n",
      " 3   education         21525 non-null  object \n",
      " 4   education_id      21525 non-null  int64  \n",
      " 5   family_status     21525 non-null  object \n",
      " 6   family_status_id  21525 non-null  int64  \n",
      " 7   gender            21525 non-null  object \n",
      " 8   income_type       21525 non-null  object \n",
      " 9   debt              21525 non-null  int64  \n",
      " 10  total_income      19351 non-null  float64\n",
      " 11  purpose           21525 non-null  object \n",
      "dtypes: float64(2), int64(5), object(5)\n",
      "memory usage: 2.0+ MB\n"
     ]
    }
   ],
   "source": [
    "credit_scoring.info()"
   ]
  },
  {
   "cell_type": "markdown",
   "metadata": {},
   "source": [
    "**comments**\n",
    "\n",
    "- There appear to be duplicated valued in the [purpose] column that needs rewriting.\n",
    "\n",
    "- There are big negative values in the [days_employed], it could mean that column is corrupted. The data needs to be rearranged and undergo abd() method.\n",
    "\n",
    "- There could be duplicated values, we can locate them by the [total income] column."
   ]
  },
  {
   "cell_type": "code",
   "execution_count": 5,
   "metadata": {},
   "outputs": [
    {
     "name": "stdout",
     "output_type": "stream",
     "text": [
      "children               0\n",
      "days_employed       2174\n",
      "dob_years              0\n",
      "education              0\n",
      "education_id           0\n",
      "family_status          0\n",
      "family_status_id       0\n",
      "gender                 0\n",
      "income_type            0\n",
      "debt                   0\n",
      "total_income        2174\n",
      "purpose                0\n",
      "dtype: int64\n",
      "\n",
      "Only columns with missing values:------------\n",
      "days_employed\n",
      "total_income\n"
     ]
    }
   ],
   "source": [
    "#credit_scoring[credit_scoring[''].isnull()].count()\n",
    "print(credit_scoring.isnull().sum())\n",
    "print('')\n",
    "\n",
    "\n",
    "\n",
    "print('Only columns with missing values:------------')\n",
    "\n",
    "for i in credit_scoring:\n",
    "    if credit_scoring[i].isnull().sum()>0:\n",
    "        print(i)"
   ]
  },
  {
   "cell_type": "markdown",
   "metadata": {},
   "source": [
    "\n",
    "- there are missing values in colums 'days_employed' and 'total_income'. these colums are also the only float type colums in the data and they have the same number of missing values, which is interesting.\n",
    "\n",
    "- we are looking at missing to check whether theres a pattern in the columns across the data. "
   ]
  },
  {
   "cell_type": "code",
   "execution_count": 6,
   "metadata": {},
   "outputs": [
    {
     "name": "stdout",
     "output_type": "stream",
     "text": [
      "days employed NaN values - filtered table----------------------------------------------------------------------------\n",
      "\n",
      "       children  days_employed  dob_years            education  education_id  \\\n",
      "12            0            NaN         65  secondary education             1   \n",
      "26            0            NaN         41  secondary education             1   \n",
      "29            0            NaN         63  secondary education             1   \n",
      "41            0            NaN         50  secondary education             1   \n",
      "55            0            NaN         54  secondary education             1   \n",
      "...         ...            ...        ...                  ...           ...   \n",
      "21489         2            NaN         47  Secondary Education             1   \n",
      "21495         1            NaN         50  secondary education             1   \n",
      "21497         0            NaN         48    BACHELOR'S DEGREE             0   \n",
      "21502         1            NaN         42  secondary education             1   \n",
      "21510         2            NaN         28  secondary education             1   \n",
      "\n",
      "           family_status  family_status_id gender    income_type  debt  \\\n",
      "12     civil partnership                 1      M        retiree     0   \n",
      "26               married                 0      M  civil servant     0   \n",
      "29             unmarried                 4      F        retiree     0   \n",
      "41               married                 0      F  civil servant     0   \n",
      "55     civil partnership                 1      F        retiree     1   \n",
      "...                  ...               ...    ...            ...   ...   \n",
      "21489            married                 0      M       business     0   \n",
      "21495  civil partnership                 1      F       employee     0   \n",
      "21497            married                 0      F       business     0   \n",
      "21502            married                 0      F       employee     0   \n",
      "21510            married                 0      F       employee     0   \n",
      "\n",
      "       total_income                   purpose  \n",
      "12              NaN         to have a wedding  \n",
      "26              NaN                 education  \n",
      "29              NaN    building a real estate  \n",
      "41              NaN  second-hand car purchase  \n",
      "55              NaN         to have a wedding  \n",
      "...             ...                       ...  \n",
      "21489           NaN         purchase of a car  \n",
      "21495           NaN          wedding ceremony  \n",
      "21497           NaN       building a property  \n",
      "21502           NaN    building a real estate  \n",
      "21510           NaN              car purchase  \n",
      "\n",
      "[2174 rows x 12 columns]\n",
      "-----------------------------------------------------------------------------------------\n",
      "       children  days_employed  dob_years  education  education_id  \\\n",
      "12          0.0        0.00046        0.0        0.0           0.0   \n",
      "26          0.0        0.00046        0.0        0.0           0.0   \n",
      "29          0.0        0.00046        0.0        0.0           0.0   \n",
      "41          0.0        0.00046        0.0        0.0           0.0   \n",
      "55          0.0        0.00046        0.0        0.0           0.0   \n",
      "...         ...            ...        ...        ...           ...   \n",
      "21489       0.0        0.00046        0.0        0.0           0.0   \n",
      "21495       0.0        0.00046        0.0        0.0           0.0   \n",
      "21497       0.0        0.00046        0.0        0.0           0.0   \n",
      "21502       0.0        0.00046        0.0        0.0           0.0   \n",
      "21510       0.0        0.00046        0.0        0.0           0.0   \n",
      "\n",
      "       family_status  family_status_id  gender  income_type  debt  \\\n",
      "12               0.0               0.0     0.0          0.0   0.0   \n",
      "26               0.0               0.0     0.0          0.0   0.0   \n",
      "29               0.0               0.0     0.0          0.0   0.0   \n",
      "41               0.0               0.0     0.0          0.0   0.0   \n",
      "55               0.0               0.0     0.0          0.0   0.0   \n",
      "...              ...               ...     ...          ...   ...   \n",
      "21489            0.0               0.0     0.0          0.0   0.0   \n",
      "21495            0.0               0.0     0.0          0.0   0.0   \n",
      "21497            0.0               0.0     0.0          0.0   0.0   \n",
      "21502            0.0               0.0     0.0          0.0   0.0   \n",
      "21510            0.0               0.0     0.0          0.0   0.0   \n",
      "\n",
      "       total_income  purpose  \n",
      "12          0.00046      0.0  \n",
      "26          0.00046      0.0  \n",
      "29          0.00046      0.0  \n",
      "41          0.00046      0.0  \n",
      "55          0.00046      0.0  \n",
      "...             ...      ...  \n",
      "21489       0.00046      0.0  \n",
      "21495       0.00046      0.0  \n",
      "21497       0.00046      0.0  \n",
      "21502       0.00046      0.0  \n",
      "21510       0.00046      0.0  \n",
      "\n",
      "[2174 rows x 12 columns]\n",
      "-----------------------------------------------------------------------------------------\n",
      "total income NaN values -  filtered table---------------------------------------------------------------------------\n",
      "\n",
      "       children  days_employed  dob_years            education  education_id  \\\n",
      "12            0            NaN         65  secondary education             1   \n",
      "26            0            NaN         41  secondary education             1   \n",
      "29            0            NaN         63  secondary education             1   \n",
      "41            0            NaN         50  secondary education             1   \n",
      "55            0            NaN         54  secondary education             1   \n",
      "...         ...            ...        ...                  ...           ...   \n",
      "21489         2            NaN         47  Secondary Education             1   \n",
      "21495         1            NaN         50  secondary education             1   \n",
      "21497         0            NaN         48    BACHELOR'S DEGREE             0   \n",
      "21502         1            NaN         42  secondary education             1   \n",
      "21510         2            NaN         28  secondary education             1   \n",
      "\n",
      "           family_status  family_status_id gender    income_type  debt  \\\n",
      "12     civil partnership                 1      M        retiree     0   \n",
      "26               married                 0      M  civil servant     0   \n",
      "29             unmarried                 4      F        retiree     0   \n",
      "41               married                 0      F  civil servant     0   \n",
      "55     civil partnership                 1      F        retiree     1   \n",
      "...                  ...               ...    ...            ...   ...   \n",
      "21489            married                 0      M       business     0   \n",
      "21495  civil partnership                 1      F       employee     0   \n",
      "21497            married                 0      F       business     0   \n",
      "21502            married                 0      F       employee     0   \n",
      "21510            married                 0      F       employee     0   \n",
      "\n",
      "       total_income                   purpose  \n",
      "12              NaN         to have a wedding  \n",
      "26              NaN                 education  \n",
      "29              NaN    building a real estate  \n",
      "41              NaN  second-hand car purchase  \n",
      "55              NaN         to have a wedding  \n",
      "...             ...                       ...  \n",
      "21489           NaN         purchase of a car  \n",
      "21495           NaN          wedding ceremony  \n",
      "21497           NaN       building a property  \n",
      "21502           NaN    building a real estate  \n",
      "21510           NaN              car purchase  \n",
      "\n",
      "[2174 rows x 12 columns]\n",
      "-----------------------------------------------------------------------------------------\n",
      "       children  days_employed  dob_years  education  education_id  \\\n",
      "12          0.0        0.00046        0.0        0.0           0.0   \n",
      "26          0.0        0.00046        0.0        0.0           0.0   \n",
      "29          0.0        0.00046        0.0        0.0           0.0   \n",
      "41          0.0        0.00046        0.0        0.0           0.0   \n",
      "55          0.0        0.00046        0.0        0.0           0.0   \n",
      "...         ...            ...        ...        ...           ...   \n",
      "21489       0.0        0.00046        0.0        0.0           0.0   \n",
      "21495       0.0        0.00046        0.0        0.0           0.0   \n",
      "21497       0.0        0.00046        0.0        0.0           0.0   \n",
      "21502       0.0        0.00046        0.0        0.0           0.0   \n",
      "21510       0.0        0.00046        0.0        0.0           0.0   \n",
      "\n",
      "       family_status  family_status_id  gender  income_type  debt  \\\n",
      "12               0.0               0.0     0.0          0.0   0.0   \n",
      "26               0.0               0.0     0.0          0.0   0.0   \n",
      "29               0.0               0.0     0.0          0.0   0.0   \n",
      "41               0.0               0.0     0.0          0.0   0.0   \n",
      "55               0.0               0.0     0.0          0.0   0.0   \n",
      "...              ...               ...     ...          ...   ...   \n",
      "21489            0.0               0.0     0.0          0.0   0.0   \n",
      "21495            0.0               0.0     0.0          0.0   0.0   \n",
      "21497            0.0               0.0     0.0          0.0   0.0   \n",
      "21502            0.0               0.0     0.0          0.0   0.0   \n",
      "21510            0.0               0.0     0.0          0.0   0.0   \n",
      "\n",
      "       total_income  purpose  \n",
      "12          0.00046      0.0  \n",
      "26          0.00046      0.0  \n",
      "29          0.00046      0.0  \n",
      "41          0.00046      0.0  \n",
      "55          0.00046      0.0  \n",
      "...             ...      ...  \n",
      "21489       0.00046      0.0  \n",
      "21495       0.00046      0.0  \n",
      "21497       0.00046      0.0  \n",
      "21502       0.00046      0.0  \n",
      "21510       0.00046      0.0  \n",
      "\n",
      "[2174 rows x 12 columns]\n",
      "-----------------------------------------------------------------------------------------\n",
      "days employed and total income in relation to family_status--------------------------------------------------------\n",
      "married              1237\n",
      "civil partnership     442\n",
      "unmarried             288\n",
      "divorced              112\n",
      "widow / widower        95\n",
      "Name: family_status, dtype: int64\n",
      "\n",
      "married              1237\n",
      "civil partnership     442\n",
      "unmarried             288\n",
      "divorced              112\n",
      "widow / widower        95\n",
      "Name: family_status, dtype: int64\n",
      "-----------------------------------------------------------------------------------------\n",
      "days employed and total income in relation to children --------------------------------------------------------------\n",
      " 0     1439\n",
      " 1      475\n",
      " 2      204\n",
      " 3       36\n",
      " 20       9\n",
      " 4        7\n",
      "-1        3\n",
      " 5        1\n",
      "Name: children, dtype: int64\n",
      "\n",
      " 0     1439\n",
      " 1      475\n",
      " 2      204\n",
      " 3       36\n",
      " 20       9\n",
      " 4        7\n",
      "-1        3\n",
      " 5        1\n",
      "Name: children, dtype: int64\n"
     ]
    }
   ],
   "source": [
    "\n",
    "\n",
    "missing_days_employed = credit_scoring[credit_scoring.days_employed.isna()]\n",
    "missing_total_income = credit_scoring[credit_scoring.total_income.isna()]\n",
    "\n",
    "print('days employed NaN values - filtered table----------------------------------------------------------------------------')\n",
    "print('')\n",
    "print(missing_days_employed)\n",
    "print('-----------------------------------------------------------------------------------------')\n",
    "print(missing_days_employed.isnull()/len(missing_days_employed))\n",
    "print('-----------------------------------------------------------------------------------------')\n",
    "print('total income NaN values -  filtered table---------------------------------------------------------------------------')\n",
    "print('')\n",
    "print(missing_total_income)\n",
    "print('-----------------------------------------------------------------------------------------')\n",
    "print(missing_total_income.isnull()/len(missing_total_income))\n",
    "print('-----------------------------------------------------------------------------------------')\n",
    "print('days employed and total income in relation to family_status--------------------------------------------------------')\n",
    "print(credit_scoring[credit_scoring.days_employed.isnull()]['family_status'].value_counts())\n",
    "print('')\n",
    "print(credit_scoring[credit_scoring.total_income.isnull()]['family_status'].value_counts())\n",
    "print('-----------------------------------------------------------------------------------------')\n",
    "print('days employed and total income in relation to children --------------------------------------------------------------')\n",
    "print(credit_scoring[credit_scoring.total_income.isnull()]['children'].value_counts())\n",
    "print('')\n",
    "print(credit_scoring[credit_scoring.days_employed.isnull()]['children'].value_counts())\n",
    "\n",
    "\n",
    "\n",
    "\n",
    "\n"
   ]
  },
  {
   "cell_type": "markdown",
   "metadata": {},
   "source": [
    "\n",
    "\n",
    "-The 2 columns with missing values appear to be symmetric, both missing values in the same rows, by observing the size of NaN values across other columns.\n",
    "we checked 2 different columns with value_counts method and found the same results for the given column with the missing values.\n",
    "\n",
    "- we are now filtering the remaining columns from duplicated values since there are no more missin values."
   ]
  },
  {
   "cell_type": "code",
   "execution_count": 7,
   "metadata": {
    "scrolled": false
   },
   "outputs": [
    {
     "name": "stdout",
     "output_type": "stream",
     "text": [
      "missing values in  children\n",
      "-----------------\n",
      " 0     1439\n",
      " 1      475\n",
      " 2      204\n",
      " 3       36\n",
      " 20       9\n",
      " 4        7\n",
      "-1        3\n",
      " 5        1\n",
      "Name: children, dtype: int64\n",
      "\n",
      "missing values in  family_status\n",
      "-----------------\n",
      "married              1237\n",
      "civil partnership     442\n",
      "unmarried             288\n",
      "divorced              112\n",
      "widow / widower        95\n",
      "Name: family_status, dtype: int64\n",
      "\n",
      "missing values in  income_type\n",
      "-----------------\n",
      "employee         1105\n",
      "business          508\n",
      "retiree           413\n",
      "civil servant     147\n",
      "entrepreneur        1\n",
      "Name: income_type, dtype: int64\n",
      "\n",
      "missing values in  days_employed\n",
      "-----------------\n",
      "Series([], Name: days_employed, dtype: int64)\n",
      "\n",
      "missing values in  purpose\n",
      "-----------------\n",
      "having a wedding                            92\n",
      "to have a wedding                           81\n",
      "wedding ceremony                            76\n",
      "construction of own property                75\n",
      "housing transactions                        74\n",
      "buy real estate                             72\n",
      "transactions with my real estate            71\n",
      "purchase of the house for my family         71\n",
      "transactions with commercial real estate    70\n",
      "housing renovation                          70\n",
      "buy commercial real estate                  67\n",
      "buying property for renting out             65\n",
      "property                                    62\n",
      "buy residential real estate                 61\n",
      "real estate transactions                    61\n",
      "housing                                     60\n",
      "building a property                         59\n",
      "cars                                        57\n",
      "going to university                         56\n",
      "to become educated                          55\n",
      "second-hand car purchase                    54\n",
      "buying my own car                           53\n",
      "purchase of the house                       52\n",
      "to own a car                                52\n",
      "to get a supplementary education            51\n",
      "getting an education                        50\n",
      "supplementary education                     48\n",
      "profile education                           47\n",
      "purchase of my own house                    46\n",
      "building a real estate                      46\n",
      "purchase of a car                           46\n",
      "car purchase                                43\n",
      "buying a second-hand car                    42\n",
      "education                                   42\n",
      "car                                         41\n",
      "university education                        40\n",
      "getting higher education                    36\n",
      "to buy a car                                30\n",
      "Name: purpose, dtype: int64\n",
      "\n",
      "missing values in  dob_years\n",
      "-----------------\n",
      "34    69\n",
      "40    66\n",
      "31    65\n",
      "42    65\n",
      "35    64\n",
      "36    63\n",
      "47    59\n",
      "41    59\n",
      "30    58\n",
      "28    57\n",
      "57    56\n",
      "58    56\n",
      "54    55\n",
      "38    54\n",
      "56    54\n",
      "37    53\n",
      "52    53\n",
      "39    51\n",
      "33    51\n",
      "50    51\n",
      "51    50\n",
      "45    50\n",
      "49    50\n",
      "29    50\n",
      "43    50\n",
      "46    48\n",
      "55    48\n",
      "48    46\n",
      "53    44\n",
      "44    44\n",
      "60    39\n",
      "61    38\n",
      "62    38\n",
      "64    37\n",
      "32    37\n",
      "27    36\n",
      "23    36\n",
      "26    35\n",
      "59    34\n",
      "63    29\n",
      "25    23\n",
      "24    21\n",
      "66    20\n",
      "65    20\n",
      "21    18\n",
      "22    17\n",
      "67    16\n",
      "0     10\n",
      "68     9\n",
      "69     5\n",
      "20     5\n",
      "71     5\n",
      "70     3\n",
      "72     2\n",
      "19     1\n",
      "73     1\n",
      "Name: dob_years, dtype: int64\n",
      "\n"
     ]
    }
   ],
   "source": [
    "\n",
    "column = ['children','family_status','income_type','days_employed','purpose','dob_years']\n",
    "\n",
    "missing_values = []\n",
    "\n",
    "for value in column:\n",
    "    filtered_data = credit_scoring[credit_scoring['total_income'].isna()][value].value_counts()\n",
    "    missing_values.append(filtered_data)\n",
    "    print('missing values in ',value)\n",
    "    print('-----------------')\n",
    "    print(filtered_data)\n",
    "    print('')\n",
    "    \n",
    "   "
   ]
  },
  {
   "cell_type": "markdown",
   "metadata": {},
   "source": [
    "**Intermediate conclusion**\n",
    "\n",
    "\n",
    "- There are several conclutions we can make from the filtered data:\n",
    "  \n",
    "  The columns [days_employed] and [total_income] appear to have missing values in the same columns throught the data.\n",
    "  It could suggest that a systematic error accured when data was generated. \n",
    "  \n",
    "  The majority of rows with missing data appear to be valued as married employees with 0 kids.\n",
    "  \n",
    "  \n",
    "\n",
    "-lets check the percentage of missing values in the columns of the data table to have the missing values in the same rows"
   ]
  },
  {
   "cell_type": "code",
   "execution_count": 8,
   "metadata": {
    "scrolled": false
   },
   "outputs": [
    {
     "name": "stdout",
     "output_type": "stream",
     "text": [
      "patcentage of missing values within columns:------------\n",
      "\n",
      "children            0.000000\n",
      "days_employed       0.100999\n",
      "dob_years           0.000000\n",
      "education           0.000000\n",
      "education_id        0.000000\n",
      "family_status       0.000000\n",
      "family_status_id    0.000000\n",
      "gender              0.000000\n",
      "income_type         0.000000\n",
      "debt                0.000000\n",
      "total_income        0.100999\n",
      "purpose             0.000000\n",
      "dtype: float64\n"
     ]
    }
   ],
   "source": [
    "# Let's investigate clients who do not have data on identified characteristic and the column with the missing values\n",
    "\n",
    "#print('percentage of missing values compared to the whole data set')\n",
    "#print('days employed-----')\n",
    "#print(len(credit_scoring[credit_scoring['days_employed'].isnull()])/len(credit_scoring) * 100)\n",
    "#print('total income------')\n",
    "#print(len(credit_scoring[credit_scoring['total_income'].isnull()])/len(credit_scoring) * 100)\n",
    "#print('------------------')\n",
    "print('patcentage of missing values within columns:------------')\n",
    "print('')\n",
    "print(credit_scoring.isnull().sum()/len(credit_scoring))\n",
    "\n",
    "\n"
   ]
  },
  {
   "cell_type": "code",
   "execution_count": 9,
   "metadata": {},
   "outputs": [
    {
     "data": {
      "text/plain": [
       "employee         1105\n",
       "business          508\n",
       "retiree           413\n",
       "civil servant     147\n",
       "entrepreneur        1\n",
       "Name: income_type, dtype: int64"
      ]
     },
     "execution_count": 9,
     "metadata": {},
     "output_type": "execute_result"
    }
   ],
   "source": [
    "# applying values to total_income by the mean of income type values.\n",
    "credit_scoring[credit_scoring.total_income.isnull()]['income_type'].value_counts()"
   ]
  },
  {
   "cell_type": "code",
   "execution_count": 10,
   "metadata": {},
   "outputs": [],
   "source": [
    "credit_scoring['total_income_median']=credit_scoring['total_income']\n"
   ]
  },
  {
   "cell_type": "code",
   "execution_count": 11,
   "metadata": {},
   "outputs": [],
   "source": [
    "credit_scoring['total_income_median'] = credit_scoring['total_income_median'].fillna(credit_scoring.groupby('income_type')['total_income'].transform('median'))\n"
   ]
  },
  {
   "cell_type": "code",
   "execution_count": 12,
   "metadata": {
    "scrolled": true
   },
   "outputs": [
    {
     "data": {
      "text/plain": [
       "Series([], Name: income_type, dtype: int64)"
      ]
     },
     "execution_count": 12,
     "metadata": {},
     "output_type": "execute_result"
    }
   ],
   "source": [
    "import pandas as pd \n",
    "credit_scoring[credit_scoring.total_income_median.isnull()]['income_type'].value_counts()"
   ]
  },
  {
   "cell_type": "code",
   "execution_count": null,
   "metadata": {},
   "outputs": [],
   "source": []
  },
  {
   "cell_type": "code",
   "execution_count": 13,
   "metadata": {
    "scrolled": true
   },
   "outputs": [
    {
     "data": {
      "text/plain": [
       "count    19350.000000\n",
       "mean         1.112403\n",
       "std          9.286179\n",
       "min          1.000000\n",
       "25%          1.000000\n",
       "50%          1.000000\n",
       "75%          1.000000\n",
       "max       1105.000000\n",
       "Name: total_income_median, dtype: float64"
      ]
     },
     "execution_count": 13,
     "metadata": {},
     "output_type": "execute_result"
    }
   ],
   "source": [
    "#Checking distribution\n",
    "credit_scoring['total_income_median'].value_counts().describe(include='all')"
   ]
  },
  {
   "cell_type": "code",
   "execution_count": 14,
   "metadata": {},
   "outputs": [
    {
     "data": {
      "text/plain": [
       "Series([], Name: income_type, dtype: int64)"
      ]
     },
     "execution_count": 14,
     "metadata": {},
     "output_type": "execute_result"
    }
   ],
   "source": [
    "credit_scoring[credit_scoring.total_income_median.isna()]['income_type'].value_counts()"
   ]
  },
  {
   "cell_type": "code",
   "execution_count": 15,
   "metadata": {},
   "outputs": [
    {
     "name": "stdout",
     "output_type": "stream",
     "text": [
      "<class 'pandas.core.frame.DataFrame'>\n",
      "RangeIndex: 21525 entries, 0 to 21524\n",
      "Data columns (total 13 columns):\n",
      " #   Column               Non-Null Count  Dtype  \n",
      "---  ------               --------------  -----  \n",
      " 0   children             21525 non-null  int64  \n",
      " 1   days_employed        19351 non-null  float64\n",
      " 2   dob_years            21525 non-null  int64  \n",
      " 3   education            21525 non-null  object \n",
      " 4   education_id         21525 non-null  int64  \n",
      " 5   family_status        21525 non-null  object \n",
      " 6   family_status_id     21525 non-null  int64  \n",
      " 7   gender               21525 non-null  object \n",
      " 8   income_type          21525 non-null  object \n",
      " 9   debt                 21525 non-null  int64  \n",
      " 10  total_income         19351 non-null  float64\n",
      " 11  purpose              21525 non-null  object \n",
      " 12  total_income_median  21525 non-null  float64\n",
      "dtypes: float64(3), int64(5), object(5)\n",
      "memory usage: 2.1+ MB\n"
     ]
    }
   ],
   "source": [
    "credit_scoring.info()"
   ]
  },
  {
   "cell_type": "markdown",
   "metadata": {},
   "source": [
    "**The column [income_type_mean] is our new [income_type] column as there are no missing values in the income_type_mean**\n",
    "\n",
    "\n",
    "\n"
   ]
  },
  {
   "cell_type": "code",
   "execution_count": 16,
   "metadata": {
    "scrolled": true
   },
   "outputs": [
    {
     "data": {
      "text/html": [
       "<div>\n",
       "<style scoped>\n",
       "    .dataframe tbody tr th:only-of-type {\n",
       "        vertical-align: middle;\n",
       "    }\n",
       "\n",
       "    .dataframe tbody tr th {\n",
       "        vertical-align: top;\n",
       "    }\n",
       "\n",
       "    .dataframe thead th {\n",
       "        text-align: right;\n",
       "    }\n",
       "</style>\n",
       "<table border=\"1\" class=\"dataframe\">\n",
       "  <thead>\n",
       "    <tr style=\"text-align: right;\">\n",
       "      <th></th>\n",
       "      <th>children</th>\n",
       "      <th>days_employed</th>\n",
       "      <th>dob_years</th>\n",
       "      <th>education_id</th>\n",
       "      <th>family_status_id</th>\n",
       "      <th>debt</th>\n",
       "      <th>total_income</th>\n",
       "      <th>total_income_median</th>\n",
       "    </tr>\n",
       "  </thead>\n",
       "  <tbody>\n",
       "    <tr>\n",
       "      <th>count</th>\n",
       "      <td>21525.000000</td>\n",
       "      <td>19351.000000</td>\n",
       "      <td>21525.000000</td>\n",
       "      <td>21525.000000</td>\n",
       "      <td>21525.000000</td>\n",
       "      <td>21525.000000</td>\n",
       "      <td>19351.000000</td>\n",
       "      <td>21525.000000</td>\n",
       "    </tr>\n",
       "    <tr>\n",
       "      <th>mean</th>\n",
       "      <td>0.538908</td>\n",
       "      <td>63046.497661</td>\n",
       "      <td>43.293380</td>\n",
       "      <td>0.817236</td>\n",
       "      <td>0.972544</td>\n",
       "      <td>0.080883</td>\n",
       "      <td>26787.568355</td>\n",
       "      <td>26436.051922</td>\n",
       "    </tr>\n",
       "    <tr>\n",
       "      <th>std</th>\n",
       "      <td>1.381587</td>\n",
       "      <td>140827.311974</td>\n",
       "      <td>12.574584</td>\n",
       "      <td>0.548138</td>\n",
       "      <td>1.420324</td>\n",
       "      <td>0.272661</td>\n",
       "      <td>16475.450632</td>\n",
       "      <td>15686.986477</td>\n",
       "    </tr>\n",
       "    <tr>\n",
       "      <th>min</th>\n",
       "      <td>-1.000000</td>\n",
       "      <td>-18388.949901</td>\n",
       "      <td>0.000000</td>\n",
       "      <td>0.000000</td>\n",
       "      <td>0.000000</td>\n",
       "      <td>0.000000</td>\n",
       "      <td>3306.762000</td>\n",
       "      <td>3306.762000</td>\n",
       "    </tr>\n",
       "    <tr>\n",
       "      <th>25%</th>\n",
       "      <td>0.000000</td>\n",
       "      <td>-2747.423625</td>\n",
       "      <td>33.000000</td>\n",
       "      <td>1.000000</td>\n",
       "      <td>0.000000</td>\n",
       "      <td>0.000000</td>\n",
       "      <td>16488.504500</td>\n",
       "      <td>17247.708000</td>\n",
       "    </tr>\n",
       "    <tr>\n",
       "      <th>50%</th>\n",
       "      <td>0.000000</td>\n",
       "      <td>-1203.369529</td>\n",
       "      <td>42.000000</td>\n",
       "      <td>1.000000</td>\n",
       "      <td>0.000000</td>\n",
       "      <td>0.000000</td>\n",
       "      <td>23202.870000</td>\n",
       "      <td>22815.103500</td>\n",
       "    </tr>\n",
       "    <tr>\n",
       "      <th>75%</th>\n",
       "      <td>1.000000</td>\n",
       "      <td>-291.095954</td>\n",
       "      <td>53.000000</td>\n",
       "      <td>1.000000</td>\n",
       "      <td>1.000000</td>\n",
       "      <td>0.000000</td>\n",
       "      <td>32549.611000</td>\n",
       "      <td>31287.991000</td>\n",
       "    </tr>\n",
       "    <tr>\n",
       "      <th>max</th>\n",
       "      <td>20.000000</td>\n",
       "      <td>401755.400475</td>\n",
       "      <td>75.000000</td>\n",
       "      <td>4.000000</td>\n",
       "      <td>4.000000</td>\n",
       "      <td>1.000000</td>\n",
       "      <td>362496.645000</td>\n",
       "      <td>362496.645000</td>\n",
       "    </tr>\n",
       "  </tbody>\n",
       "</table>\n",
       "</div>"
      ],
      "text/plain": [
       "           children  days_employed     dob_years  education_id  \\\n",
       "count  21525.000000   19351.000000  21525.000000  21525.000000   \n",
       "mean       0.538908   63046.497661     43.293380      0.817236   \n",
       "std        1.381587  140827.311974     12.574584      0.548138   \n",
       "min       -1.000000  -18388.949901      0.000000      0.000000   \n",
       "25%        0.000000   -2747.423625     33.000000      1.000000   \n",
       "50%        0.000000   -1203.369529     42.000000      1.000000   \n",
       "75%        1.000000    -291.095954     53.000000      1.000000   \n",
       "max       20.000000  401755.400475     75.000000      4.000000   \n",
       "\n",
       "       family_status_id          debt   total_income  total_income_median  \n",
       "count      21525.000000  21525.000000   19351.000000         21525.000000  \n",
       "mean           0.972544      0.080883   26787.568355         26436.051922  \n",
       "std            1.420324      0.272661   16475.450632         15686.986477  \n",
       "min            0.000000      0.000000    3306.762000          3306.762000  \n",
       "25%            0.000000      0.000000   16488.504500         17247.708000  \n",
       "50%            0.000000      0.000000   23202.870000         22815.103500  \n",
       "75%            1.000000      0.000000   32549.611000         31287.991000  \n",
       "max            4.000000      1.000000  362496.645000        362496.645000  "
      ]
     },
     "execution_count": 16,
     "metadata": {},
     "output_type": "execute_result"
    }
   ],
   "source": [
    "# Checking the distribution in the whole dataset\n",
    "\n",
    "credit_scoring.describe()"
   ]
  },
  {
   "cell_type": "code",
   "execution_count": 17,
   "metadata": {},
   "outputs": [
    {
     "data": {
      "text/html": [
       "<div>\n",
       "<style scoped>\n",
       "    .dataframe tbody tr th:only-of-type {\n",
       "        vertical-align: middle;\n",
       "    }\n",
       "\n",
       "    .dataframe tbody tr th {\n",
       "        vertical-align: top;\n",
       "    }\n",
       "\n",
       "    .dataframe thead th {\n",
       "        text-align: right;\n",
       "    }\n",
       "</style>\n",
       "<table border=\"1\" class=\"dataframe\">\n",
       "  <thead>\n",
       "    <tr style=\"text-align: right;\">\n",
       "      <th></th>\n",
       "      <th>children</th>\n",
       "      <th>days_employed</th>\n",
       "      <th>dob_years</th>\n",
       "      <th>education</th>\n",
       "      <th>education_id</th>\n",
       "      <th>family_status</th>\n",
       "      <th>family_status_id</th>\n",
       "      <th>gender</th>\n",
       "      <th>income_type</th>\n",
       "      <th>debt</th>\n",
       "      <th>total_income</th>\n",
       "      <th>purpose</th>\n",
       "      <th>total_income_median</th>\n",
       "    </tr>\n",
       "  </thead>\n",
       "  <tbody>\n",
       "    <tr>\n",
       "      <th>26</th>\n",
       "      <td>0</td>\n",
       "      <td>NaN</td>\n",
       "      <td>41</td>\n",
       "      <td>secondary education</td>\n",
       "      <td>1</td>\n",
       "      <td>married</td>\n",
       "      <td>0</td>\n",
       "      <td>M</td>\n",
       "      <td>civil servant</td>\n",
       "      <td>0</td>\n",
       "      <td>NaN</td>\n",
       "      <td>education</td>\n",
       "      <td>24071.6695</td>\n",
       "    </tr>\n",
       "    <tr>\n",
       "      <th>29</th>\n",
       "      <td>0</td>\n",
       "      <td>NaN</td>\n",
       "      <td>63</td>\n",
       "      <td>secondary education</td>\n",
       "      <td>1</td>\n",
       "      <td>unmarried</td>\n",
       "      <td>4</td>\n",
       "      <td>F</td>\n",
       "      <td>retiree</td>\n",
       "      <td>0</td>\n",
       "      <td>NaN</td>\n",
       "      <td>building a real estate</td>\n",
       "      <td>18962.3180</td>\n",
       "    </tr>\n",
       "    <tr>\n",
       "      <th>41</th>\n",
       "      <td>0</td>\n",
       "      <td>NaN</td>\n",
       "      <td>50</td>\n",
       "      <td>secondary education</td>\n",
       "      <td>1</td>\n",
       "      <td>married</td>\n",
       "      <td>0</td>\n",
       "      <td>F</td>\n",
       "      <td>civil servant</td>\n",
       "      <td>0</td>\n",
       "      <td>NaN</td>\n",
       "      <td>second-hand car purchase</td>\n",
       "      <td>24071.6695</td>\n",
       "    </tr>\n",
       "    <tr>\n",
       "      <th>55</th>\n",
       "      <td>0</td>\n",
       "      <td>NaN</td>\n",
       "      <td>54</td>\n",
       "      <td>secondary education</td>\n",
       "      <td>1</td>\n",
       "      <td>civil partnership</td>\n",
       "      <td>1</td>\n",
       "      <td>F</td>\n",
       "      <td>retiree</td>\n",
       "      <td>1</td>\n",
       "      <td>NaN</td>\n",
       "      <td>to have a wedding</td>\n",
       "      <td>18962.3180</td>\n",
       "    </tr>\n",
       "    <tr>\n",
       "      <th>65</th>\n",
       "      <td>0</td>\n",
       "      <td>NaN</td>\n",
       "      <td>21</td>\n",
       "      <td>secondary education</td>\n",
       "      <td>1</td>\n",
       "      <td>unmarried</td>\n",
       "      <td>4</td>\n",
       "      <td>M</td>\n",
       "      <td>business</td>\n",
       "      <td>0</td>\n",
       "      <td>NaN</td>\n",
       "      <td>transactions with commercial real estate</td>\n",
       "      <td>27577.2720</td>\n",
       "    </tr>\n",
       "    <tr>\n",
       "      <th>...</th>\n",
       "      <td>...</td>\n",
       "      <td>...</td>\n",
       "      <td>...</td>\n",
       "      <td>...</td>\n",
       "      <td>...</td>\n",
       "      <td>...</td>\n",
       "      <td>...</td>\n",
       "      <td>...</td>\n",
       "      <td>...</td>\n",
       "      <td>...</td>\n",
       "      <td>...</td>\n",
       "      <td>...</td>\n",
       "      <td>...</td>\n",
       "    </tr>\n",
       "    <tr>\n",
       "      <th>21489</th>\n",
       "      <td>2</td>\n",
       "      <td>NaN</td>\n",
       "      <td>47</td>\n",
       "      <td>Secondary Education</td>\n",
       "      <td>1</td>\n",
       "      <td>married</td>\n",
       "      <td>0</td>\n",
       "      <td>M</td>\n",
       "      <td>business</td>\n",
       "      <td>0</td>\n",
       "      <td>NaN</td>\n",
       "      <td>purchase of a car</td>\n",
       "      <td>27577.2720</td>\n",
       "    </tr>\n",
       "    <tr>\n",
       "      <th>21495</th>\n",
       "      <td>1</td>\n",
       "      <td>NaN</td>\n",
       "      <td>50</td>\n",
       "      <td>secondary education</td>\n",
       "      <td>1</td>\n",
       "      <td>civil partnership</td>\n",
       "      <td>1</td>\n",
       "      <td>F</td>\n",
       "      <td>employee</td>\n",
       "      <td>0</td>\n",
       "      <td>NaN</td>\n",
       "      <td>wedding ceremony</td>\n",
       "      <td>22815.1035</td>\n",
       "    </tr>\n",
       "    <tr>\n",
       "      <th>21497</th>\n",
       "      <td>0</td>\n",
       "      <td>NaN</td>\n",
       "      <td>48</td>\n",
       "      <td>BACHELOR'S DEGREE</td>\n",
       "      <td>0</td>\n",
       "      <td>married</td>\n",
       "      <td>0</td>\n",
       "      <td>F</td>\n",
       "      <td>business</td>\n",
       "      <td>0</td>\n",
       "      <td>NaN</td>\n",
       "      <td>building a property</td>\n",
       "      <td>27577.2720</td>\n",
       "    </tr>\n",
       "    <tr>\n",
       "      <th>21502</th>\n",
       "      <td>1</td>\n",
       "      <td>NaN</td>\n",
       "      <td>42</td>\n",
       "      <td>secondary education</td>\n",
       "      <td>1</td>\n",
       "      <td>married</td>\n",
       "      <td>0</td>\n",
       "      <td>F</td>\n",
       "      <td>employee</td>\n",
       "      <td>0</td>\n",
       "      <td>NaN</td>\n",
       "      <td>building a real estate</td>\n",
       "      <td>22815.1035</td>\n",
       "    </tr>\n",
       "    <tr>\n",
       "      <th>21510</th>\n",
       "      <td>2</td>\n",
       "      <td>NaN</td>\n",
       "      <td>28</td>\n",
       "      <td>secondary education</td>\n",
       "      <td>1</td>\n",
       "      <td>married</td>\n",
       "      <td>0</td>\n",
       "      <td>F</td>\n",
       "      <td>employee</td>\n",
       "      <td>0</td>\n",
       "      <td>NaN</td>\n",
       "      <td>car purchase</td>\n",
       "      <td>22815.1035</td>\n",
       "    </tr>\n",
       "  </tbody>\n",
       "</table>\n",
       "<p>2173 rows × 13 columns</p>\n",
       "</div>"
      ],
      "text/plain": [
       "       children  days_employed  dob_years            education  education_id  \\\n",
       "26            0            NaN         41  secondary education             1   \n",
       "29            0            NaN         63  secondary education             1   \n",
       "41            0            NaN         50  secondary education             1   \n",
       "55            0            NaN         54  secondary education             1   \n",
       "65            0            NaN         21  secondary education             1   \n",
       "...         ...            ...        ...                  ...           ...   \n",
       "21489         2            NaN         47  Secondary Education             1   \n",
       "21495         1            NaN         50  secondary education             1   \n",
       "21497         0            NaN         48    BACHELOR'S DEGREE             0   \n",
       "21502         1            NaN         42  secondary education             1   \n",
       "21510         2            NaN         28  secondary education             1   \n",
       "\n",
       "           family_status  family_status_id gender    income_type  debt  \\\n",
       "26               married                 0      M  civil servant     0   \n",
       "29             unmarried                 4      F        retiree     0   \n",
       "41               married                 0      F  civil servant     0   \n",
       "55     civil partnership                 1      F        retiree     1   \n",
       "65             unmarried                 4      M       business     0   \n",
       "...                  ...               ...    ...            ...   ...   \n",
       "21489            married                 0      M       business     0   \n",
       "21495  civil partnership                 1      F       employee     0   \n",
       "21497            married                 0      F       business     0   \n",
       "21502            married                 0      F       employee     0   \n",
       "21510            married                 0      F       employee     0   \n",
       "\n",
       "       total_income                                   purpose  \\\n",
       "26              NaN                                 education   \n",
       "29              NaN                    building a real estate   \n",
       "41              NaN                  second-hand car purchase   \n",
       "55              NaN                         to have a wedding   \n",
       "65              NaN  transactions with commercial real estate   \n",
       "...             ...                                       ...   \n",
       "21489           NaN                         purchase of a car   \n",
       "21495           NaN                          wedding ceremony   \n",
       "21497           NaN                       building a property   \n",
       "21502           NaN                    building a real estate   \n",
       "21510           NaN                              car purchase   \n",
       "\n",
       "       total_income_median  \n",
       "26              24071.6695  \n",
       "29              18962.3180  \n",
       "41              24071.6695  \n",
       "55              18962.3180  \n",
       "65              27577.2720  \n",
       "...                    ...  \n",
       "21489           27577.2720  \n",
       "21495           22815.1035  \n",
       "21497           27577.2720  \n",
       "21502           22815.1035  \n",
       "21510           22815.1035  \n",
       "\n",
       "[2173 rows x 13 columns]"
      ]
     },
     "execution_count": 17,
     "metadata": {},
     "output_type": "execute_result"
    }
   ],
   "source": [
    "# Check for other reasons and patterns that could lead to missing values\n",
    "\n",
    "credit_scoring[credit_scoring.duplicated('days_employed')]"
   ]
  },
  {
   "cell_type": "markdown",
   "metadata": {},
   "source": [
    "**Intermediate conclusion**\n",
    "\n",
    "[Can we finally confirm that missing values are accidental? Check for anything else that you think might be important here.]"
   ]
  },
  {
   "cell_type": "code",
   "execution_count": 18,
   "metadata": {
    "scrolled": true
   },
   "outputs": [],
   "source": [
    "# Checking for other patterns - explain which"
   ]
  },
  {
   "cell_type": "markdown",
   "metadata": {},
   "source": [
    "## Data transformation\n",
    "\n"
   ]
  },
  {
   "cell_type": "code",
   "execution_count": 19,
   "metadata": {},
   "outputs": [
    {
     "data": {
      "text/plain": [
       "secondary education    13750\n",
       "bachelor's degree       4718\n",
       "SECONDARY EDUCATION      772\n",
       "Secondary Education      711\n",
       "some college             668\n",
       "BACHELOR'S DEGREE        274\n",
       "Bachelor's Degree        268\n",
       "primary education        250\n",
       "Some College              47\n",
       "SOME COLLEGE              29\n",
       "PRIMARY EDUCATION         17\n",
       "Primary Education         15\n",
       "graduate degree            4\n",
       "GRADUATE DEGREE            1\n",
       "Graduate Degree            1\n",
       "Name: education, dtype: int64"
      ]
     },
     "execution_count": 19,
     "metadata": {},
     "output_type": "execute_result"
    }
   ],
   "source": [
    "# Let's see all values in education column to check if and what spellings will need to be fixed\n",
    "credit_scoring['education'].value_counts()"
   ]
  },
  {
   "cell_type": "code",
   "execution_count": 20,
   "metadata": {
    "scrolled": true
   },
   "outputs": [],
   "source": [
    "# Fix the registers if required\n",
    "credit_scoring['education'] = credit_scoring.education.astype(str).str.lower()"
   ]
  },
  {
   "cell_type": "code",
   "execution_count": 21,
   "metadata": {},
   "outputs": [
    {
     "data": {
      "text/plain": [
       "secondary education    15233\n",
       "bachelor's degree       5260\n",
       "some college             744\n",
       "primary education        282\n",
       "graduate degree            6\n",
       "Name: education, dtype: int64"
      ]
     },
     "execution_count": 21,
     "metadata": {},
     "output_type": "execute_result"
    }
   ],
   "source": [
    "# Checking all the values in the column to make sure we fixed them\n",
    "credit_scoring['education'].value_counts()\n"
   ]
  },
  {
   "cell_type": "code",
   "execution_count": 22,
   "metadata": {},
   "outputs": [
    {
     "data": {
      "text/plain": [
       " 0     14149\n",
       " 1      4818\n",
       " 2      2055\n",
       " 3       330\n",
       " 20       76\n",
       "-1        47\n",
       " 4        41\n",
       " 5         9\n",
       "Name: children, dtype: int64"
      ]
     },
     "execution_count": 22,
     "metadata": {},
     "output_type": "execute_result"
    }
   ],
   "source": [
    "# Let's see the distribution of values in the `children` column\n",
    "credit_scoring['children'].value_counts()"
   ]
  },
  {
   "cell_type": "code",
   "execution_count": 23,
   "metadata": {},
   "outputs": [],
   "source": [
    "# [fix the data based on your decision]\n",
    "\n",
    "credit_scoring['children'] = credit_scoring['children'].replace(-1,0)\n",
    "credit_scoring['children'] = credit_scoring['children'].replace(20,2)\n"
   ]
  },
  {
   "cell_type": "code",
   "execution_count": 24,
   "metadata": {},
   "outputs": [],
   "source": [
    "#  **I removed the value of '-1' from the column 'children' and replaced all its data to '0' instead**\n",
    "\n",
    "#  **I also believe the value of '20' to be a typo of the value 2, so i replaced it across the data**"
   ]
  },
  {
   "cell_type": "code",
   "execution_count": 25,
   "metadata": {},
   "outputs": [
    {
     "data": {
      "text/plain": [
       "0    14196\n",
       "1     4818\n",
       "2     2131\n",
       "3      330\n",
       "4       41\n",
       "5        9\n",
       "Name: children, dtype: int64"
      ]
     },
     "execution_count": 25,
     "metadata": {},
     "output_type": "execute_result"
    }
   ],
   "source": [
    "# Checking the `children` column again to make sure it's all fixed\n",
    "\n",
    "credit_scoring['children'].value_counts()"
   ]
  },
  {
   "cell_type": "code",
   "execution_count": 26,
   "metadata": {},
   "outputs": [
    {
     "data": {
      "text/plain": [
       "-327.685916     1\n",
       "-1580.622577    1\n",
       "-4122.460569    1\n",
       "-2828.237691    1\n",
       "-2636.090517    1\n",
       "               ..\n",
       "-7120.517564    1\n",
       "-2146.884040    1\n",
       "-881.454684     1\n",
       "-794.666350     1\n",
       "-3382.113891    1\n",
       "Name: days_employed, Length: 19351, dtype: int64"
      ]
     },
     "execution_count": 26,
     "metadata": {},
     "output_type": "execute_result"
    }
   ],
   "source": [
    "# Find problematic data in `days_employed`, if they exist, and calculate the percentage\n",
    "credit_scoring['days_employed'].value_counts()"
   ]
  },
  {
   "cell_type": "code",
   "execution_count": 27,
   "metadata": {},
   "outputs": [
    {
     "data": {
      "text/plain": [
       "0          351.569709\n",
       "1          167.700156\n",
       "2          234.309275\n",
       "3          171.864467\n",
       "4        14177.753002\n",
       "             ...     \n",
       "21520      188.721528\n",
       "21521    14330.725172\n",
       "21522       88.056120\n",
       "21523      129.686738\n",
       "21524       82.687816\n",
       "Name: days_employed_positive, Length: 21525, dtype: float64"
      ]
     },
     "execution_count": 27,
     "metadata": {},
     "output_type": "execute_result"
    }
   ],
   "source": [
    "# Address the problematic values, if they exist\n",
    "\n",
    "credit_scoring['days_employed_positive'] = credit_scoring['days_employed'].abs()\n",
    "credit_scoring['days_employed_positive'] = credit_scoring['days_employed_positive'] / 24\n",
    "\n",
    "credit_scoring['days_employed_positive'] = credit_scoring.groupby(['income_type', 'dob_years'])['days_employed_positive']\\\n",
    "    .transform(lambda x: x.fillna(x.mean()))\n",
    "\n",
    "credit_scoring['days_employed_positive']= credit_scoring['days_employed_positive'].fillna(credit_scoring['days_employed_positive'].median())\n",
    "credit_scoring['days_employed_positive']"
   ]
  },
  {
   "cell_type": "code",
   "execution_count": 28,
   "metadata": {},
   "outputs": [],
   "source": [
    "#   After filtering the values of days_employed column, by groupby method, and regarding the values as hours of being employes and not days.\n",
    "#   It doesnt appers curropted and we can rely on its values."
   ]
  },
  {
   "cell_type": "code",
   "execution_count": 29,
   "metadata": {},
   "outputs": [
    {
     "data": {
      "text/plain": [
       "0          351.569709\n",
       "1          167.700156\n",
       "2          234.309275\n",
       "3          171.864467\n",
       "4        14177.753002\n",
       "             ...     \n",
       "21520      188.721528\n",
       "21521    14330.725172\n",
       "21522       88.056120\n",
       "21523      129.686738\n",
       "21524       82.687816\n",
       "Name: days_employed_positive, Length: 21525, dtype: float64"
      ]
     },
     "execution_count": 29,
     "metadata": {},
     "output_type": "execute_result"
    }
   ],
   "source": [
    "# Check the result - make sure it's fixed\n",
    "credit_scoring['days_employed_positive']\n"
   ]
  },
  {
   "cell_type": "markdown",
   "metadata": {},
   "source": [
    "**-The column [days_employed_positive] is our new [days_employed] column as there are no missing values in the days_employed_positive**\n",
    "\n",
    "**-After preccesing the data it appears more organized, and perhaps can be used in our analysis if needed.**"
   ]
  },
  {
   "cell_type": "code",
   "execution_count": 30,
   "metadata": {
    "scrolled": true
   },
   "outputs": [
    {
     "data": {
      "text/plain": [
       "35    617\n",
       "40    609\n",
       "41    607\n",
       "34    603\n",
       "38    598\n",
       "42    597\n",
       "33    581\n",
       "39    573\n",
       "31    560\n",
       "36    555\n",
       "44    547\n",
       "29    545\n",
       "30    540\n",
       "48    538\n",
       "37    537\n",
       "50    514\n",
       "43    513\n",
       "32    510\n",
       "49    508\n",
       "28    503\n",
       "45    497\n",
       "27    493\n",
       "56    487\n",
       "52    484\n",
       "47    480\n",
       "54    479\n",
       "46    475\n",
       "58    461\n",
       "57    460\n",
       "53    459\n",
       "51    448\n",
       "59    444\n",
       "55    443\n",
       "26    408\n",
       "60    377\n",
       "25    357\n",
       "61    355\n",
       "62    352\n",
       "63    269\n",
       "64    265\n",
       "24    264\n",
       "23    254\n",
       "65    194\n",
       "66    183\n",
       "22    183\n",
       "67    167\n",
       "21    111\n",
       "0     101\n",
       "68     99\n",
       "69     85\n",
       "70     65\n",
       "71     58\n",
       "20     51\n",
       "72     33\n",
       "19     14\n",
       "73      8\n",
       "74      6\n",
       "75      1\n",
       "Name: dob_years, dtype: int64"
      ]
     },
     "execution_count": 30,
     "metadata": {},
     "output_type": "execute_result"
    }
   ],
   "source": [
    "# Check the `dob_years` for suspicious values and count the percentage\n",
    "\n",
    "credit_scoring['dob_years'].value_counts()\n"
   ]
  },
  {
   "cell_type": "code",
   "execution_count": 31,
   "metadata": {},
   "outputs": [
    {
     "data": {
      "text/plain": [
       "count    21525.000000\n",
       "mean        43.293380\n",
       "std         12.574584\n",
       "min          0.000000\n",
       "25%         33.000000\n",
       "50%         42.000000\n",
       "75%         53.000000\n",
       "max         75.000000\n",
       "Name: dob_years, dtype: float64"
      ]
     },
     "execution_count": 31,
     "metadata": {},
     "output_type": "execute_result"
    }
   ],
   "source": [
    "credit_scoring['dob_years'].describe()"
   ]
  },
  {
   "cell_type": "markdown",
   "metadata": {},
   "source": [
    "[I changed the value 0 with the mean of the column.]"
   ]
  },
  {
   "cell_type": "code",
   "execution_count": 32,
   "metadata": {},
   "outputs": [],
   "source": [
    "# Address the issues in the `dob_years` column, if they exist\n",
    "\n",
    "credit_scoring['dob_years'] = credit_scoring['dob_years'].replace(0,43)"
   ]
  },
  {
   "cell_type": "code",
   "execution_count": 33,
   "metadata": {},
   "outputs": [
    {
     "data": {
      "text/plain": [
       "75      1\n",
       "74      6\n",
       "73      8\n",
       "19     14\n",
       "72     33\n",
       "20     51\n",
       "71     58\n",
       "70     65\n",
       "69     85\n",
       "68     99\n",
       "21    111\n",
       "67    167\n",
       "22    183\n",
       "66    183\n",
       "65    194\n",
       "23    254\n",
       "24    264\n",
       "64    265\n",
       "63    269\n",
       "62    352\n",
       "61    355\n",
       "25    357\n",
       "60    377\n",
       "26    408\n",
       "55    443\n",
       "59    444\n",
       "51    448\n",
       "53    459\n",
       "57    460\n",
       "58    461\n",
       "46    475\n",
       "54    479\n",
       "47    480\n",
       "52    484\n",
       "56    487\n",
       "27    493\n",
       "45    497\n",
       "28    503\n",
       "49    508\n",
       "32    510\n",
       "50    514\n",
       "37    537\n",
       "48    538\n",
       "30    540\n",
       "29    545\n",
       "44    547\n",
       "36    555\n",
       "31    560\n",
       "39    573\n",
       "33    581\n",
       "42    597\n",
       "38    598\n",
       "34    603\n",
       "41    607\n",
       "40    609\n",
       "43    614\n",
       "35    617\n",
       "Name: dob_years, dtype: int64"
      ]
     },
     "execution_count": 33,
     "metadata": {},
     "output_type": "execute_result"
    }
   ],
   "source": [
    "# Check the result - make sure it's fixed\n",
    "credit_scoring['dob_years'].value_counts(ascending=True)"
   ]
  },
  {
   "cell_type": "code",
   "execution_count": 34,
   "metadata": {},
   "outputs": [
    {
     "data": {
      "text/plain": [
       "married              12380\n",
       "civil partnership     4177\n",
       "unmarried             2813\n",
       "divorced              1195\n",
       "widow / widower        960\n",
       "Name: family_status, dtype: int64"
      ]
     },
     "execution_count": 34,
     "metadata": {},
     "output_type": "execute_result"
    }
   ],
   "source": [
    "# Let's see the values for the column\n",
    "credit_scoring['family_status'].value_counts()\n",
    "\n"
   ]
  },
  {
   "cell_type": "code",
   "execution_count": 35,
   "metadata": {},
   "outputs": [
    {
     "data": {
      "text/plain": [
       "married              12380\n",
       "civil partnership     4177\n",
       "unmarried             2813\n",
       "divorced              1195\n",
       "widow / widower        960\n",
       "Name: family_status, dtype: int64"
      ]
     },
     "execution_count": 35,
     "metadata": {},
     "output_type": "execute_result"
    }
   ],
   "source": [
    "# Address the problematic values in `family_status`, if they exist\n",
    "credit_scoring['family_status'].value_counts()\n"
   ]
  },
  {
   "cell_type": "code",
   "execution_count": 36,
   "metadata": {},
   "outputs": [],
   "source": [
    "# Check the result - make sure it's fixed\n"
   ]
  },
  {
   "cell_type": "code",
   "execution_count": 37,
   "metadata": {
    "scrolled": true
   },
   "outputs": [
    {
     "data": {
      "text/plain": [
       "F      14236\n",
       "M       7288\n",
       "XNA        1\n",
       "Name: gender, dtype: int64"
      ]
     },
     "execution_count": 37,
     "metadata": {},
     "output_type": "execute_result"
    }
   ],
   "source": [
    "# Address the problematic values in `gender`, if they exist\n",
    "credit_scoring['gender'].value_counts()"
   ]
  },
  {
   "cell_type": "code",
   "execution_count": 38,
   "metadata": {},
   "outputs": [
    {
     "data": {
      "text/plain": [
       "wedding ceremony                            797\n",
       "having a wedding                            777\n",
       "to have a wedding                           774\n",
       "real estate transactions                    676\n",
       "buy commercial real estate                  664\n",
       "housing transactions                        653\n",
       "buying property for renting out             653\n",
       "transactions with commercial real estate    651\n",
       "housing                                     647\n",
       "purchase of the house                       647\n",
       "purchase of the house for my family         641\n",
       "construction of own property                635\n",
       "property                                    634\n",
       "transactions with my real estate            630\n",
       "building a real estate                      626\n",
       "buy real estate                             624\n",
       "building a property                         620\n",
       "purchase of my own house                    620\n",
       "housing renovation                          612\n",
       "buy residential real estate                 607\n",
       "buying my own car                           505\n",
       "going to university                         496\n",
       "car                                         495\n",
       "second-hand car purchase                    489\n",
       "to own a car                                480\n",
       "buying a second-hand car                    479\n",
       "cars                                        478\n",
       "to buy a car                                472\n",
       "car purchase                                462\n",
       "supplementary education                     462\n",
       "purchase of a car                           455\n",
       "university education                        453\n",
       "education                                   447\n",
       "to get a supplementary education            447\n",
       "getting an education                        443\n",
       "profile education                           436\n",
       "getting higher education                    426\n",
       "to become educated                          412\n",
       "Name: purpose, dtype: int64"
      ]
     },
     "execution_count": 38,
     "metadata": {},
     "output_type": "execute_result"
    }
   ],
   "source": [
    "# lets see the values of purpose column\n",
    "credit_scoring['purpose'].value_counts()"
   ]
  },
  {
   "cell_type": "code",
   "execution_count": 39,
   "metadata": {},
   "outputs": [
    {
     "data": {
      "text/plain": [
       "38"
      ]
     },
     "execution_count": 39,
     "metadata": {},
     "output_type": "execute_result"
    }
   ],
   "source": [
    "credit_scoring[credit_scoring.purpose.notna()]['purpose'].nunique()\n"
   ]
  },
  {
   "cell_type": "code",
   "execution_count": 40,
   "metadata": {},
   "outputs": [
    {
     "data": {
      "text/plain": [
       "array(['purchase of the house', 'car purchase', 'supplementary education',\n",
       "       'to have a wedding', 'housing transactions', 'education',\n",
       "       'having a wedding', 'purchase of the house for my family',\n",
       "       'buy real estate', 'buy commercial real estate',\n",
       "       'buy residential real estate', 'construction of own property',\n",
       "       'property', 'building a property', 'buying a second-hand car',\n",
       "       'buying my own car', 'transactions with commercial real estate',\n",
       "       'building a real estate', 'housing',\n",
       "       'transactions with my real estate', 'cars', 'to become educated',\n",
       "       'second-hand car purchase', 'getting an education', 'car',\n",
       "       'wedding ceremony', 'to get a supplementary education',\n",
       "       'purchase of my own house', 'real estate transactions',\n",
       "       'getting higher education', 'to own a car', 'purchase of a car',\n",
       "       'profile education', 'university education',\n",
       "       'buying property for renting out', 'to buy a car',\n",
       "       'housing renovation', 'going to university'], dtype=object)"
      ]
     },
     "execution_count": 40,
     "metadata": {},
     "output_type": "execute_result"
    }
   ],
   "source": [
    "credit_scoring[credit_scoring.purpose.notna()]['purpose'].unique()\n"
   ]
  },
  {
   "cell_type": "code",
   "execution_count": 41,
   "metadata": {},
   "outputs": [],
   "source": [
    "credit_scoring['education'] = credit_scoring['education'].str.lower()"
   ]
  },
  {
   "cell_type": "code",
   "execution_count": 42,
   "metadata": {},
   "outputs": [],
   "source": [
    "wedding = ['wedding']\n",
    "real_estate = ['house','housing','estate','renting','propery']\n",
    "car = ['car','cars']\n",
    "education =['education','educated','university'] "
   ]
  },
  {
   "cell_type": "code",
   "execution_count": 43,
   "metadata": {},
   "outputs": [],
   "source": [
    "m = Mystem()"
   ]
  },
  {
   "cell_type": "code",
   "execution_count": 44,
   "metadata": {},
   "outputs": [],
   "source": [
    "def purpose_category(i):\n",
    "    lemmatized = m.lemmatize(i)\n",
    "    if any(word in lemmatized for word in real_estate):\n",
    "        return 'real estate'\n",
    "    elif any(word in lemmatized for word in wedding):\n",
    "        return 'wedding'\n",
    "    elif any(word in lemmatized for word in car):\n",
    "        return 'car'\n",
    "    elif any(word in lemmatized for word in education):\n",
    "        return 'education'\n",
    "    else:\n",
    "        return 'other'\n",
    "    \n"
   ]
  },
  {
   "cell_type": "code",
   "execution_count": 45,
   "metadata": {},
   "outputs": [],
   "source": [
    "# Check the result - make sure it's fixed\n",
    "credit_scoring['purpose_index'] = credit_scoring['purpose'].apply(purpose_category)"
   ]
  },
  {
   "cell_type": "code",
   "execution_count": 46,
   "metadata": {},
   "outputs": [
    {
     "data": {
      "text/plain": [
       "real estate    8951\n",
       "car            4315\n",
       "education      4022\n",
       "wedding        2348\n",
       "other          1889\n",
       "Name: purpose_index, dtype: int64"
      ]
     },
     "execution_count": 46,
     "metadata": {},
     "output_type": "execute_result"
    }
   ],
   "source": [
    "credit_scoring['purpose_index'].value_counts()"
   ]
  },
  {
   "cell_type": "code",
   "execution_count": 47,
   "metadata": {},
   "outputs": [
    {
     "data": {
      "text/plain": [
       "employee                       11119\n",
       "business                        5085\n",
       "retiree                         3856\n",
       "civil servant                   1459\n",
       "entrepreneur                       2\n",
       "unemployed                         2\n",
       "student                            1\n",
       "paternity / maternity leave        1\n",
       "Name: income_type, dtype: int64"
      ]
     },
     "execution_count": 47,
     "metadata": {},
     "output_type": "execute_result"
    }
   ],
   "source": [
    "# Let's see the values in the column\n",
    "credit_scoring['income_type'].value_counts()"
   ]
  },
  {
   "cell_type": "code",
   "execution_count": 48,
   "metadata": {},
   "outputs": [
    {
     "data": {
      "text/plain": [
       "employee                       11119\n",
       "business                        5085\n",
       "retiree                         3856\n",
       "civil servant                   1459\n",
       "entrepreneur                       2\n",
       "unemployed                         2\n",
       "student                            1\n",
       "paternity / maternity leave        1\n",
       "Name: income_type, dtype: int64"
      ]
     },
     "execution_count": 48,
     "metadata": {},
     "output_type": "execute_result"
    }
   ],
   "source": [
    "# Address the problematic values, if they exist\n",
    "credit_scoring['income_type'].value_counts()"
   ]
  },
  {
   "cell_type": "code",
   "execution_count": 49,
   "metadata": {},
   "outputs": [],
   "source": [
    "# Check the result - make sure it's fixed\n"
   ]
  },
  {
   "cell_type": "code",
   "execution_count": 50,
   "metadata": {},
   "outputs": [
    {
     "data": {
      "text/html": [
       "<div>\n",
       "<style scoped>\n",
       "    .dataframe tbody tr th:only-of-type {\n",
       "        vertical-align: middle;\n",
       "    }\n",
       "\n",
       "    .dataframe tbody tr th {\n",
       "        vertical-align: top;\n",
       "    }\n",
       "\n",
       "    .dataframe thead th {\n",
       "        text-align: right;\n",
       "    }\n",
       "</style>\n",
       "<table border=\"1\" class=\"dataframe\">\n",
       "  <thead>\n",
       "    <tr style=\"text-align: right;\">\n",
       "      <th></th>\n",
       "      <th>children</th>\n",
       "      <th>days_employed</th>\n",
       "      <th>dob_years</th>\n",
       "      <th>education</th>\n",
       "      <th>education_id</th>\n",
       "      <th>family_status</th>\n",
       "      <th>family_status_id</th>\n",
       "      <th>gender</th>\n",
       "      <th>income_type</th>\n",
       "      <th>debt</th>\n",
       "      <th>total_income</th>\n",
       "      <th>purpose</th>\n",
       "      <th>total_income_median</th>\n",
       "      <th>days_employed_positive</th>\n",
       "      <th>purpose_index</th>\n",
       "    </tr>\n",
       "  </thead>\n",
       "  <tbody>\n",
       "    <tr>\n",
       "      <th>2849</th>\n",
       "      <td>0</td>\n",
       "      <td>NaN</td>\n",
       "      <td>41</td>\n",
       "      <td>secondary education</td>\n",
       "      <td>1</td>\n",
       "      <td>married</td>\n",
       "      <td>0</td>\n",
       "      <td>F</td>\n",
       "      <td>employee</td>\n",
       "      <td>0</td>\n",
       "      <td>NaN</td>\n",
       "      <td>purchase of the house for my family</td>\n",
       "      <td>22815.1035</td>\n",
       "      <td>99.744643</td>\n",
       "      <td>real estate</td>\n",
       "    </tr>\n",
       "    <tr>\n",
       "      <th>3290</th>\n",
       "      <td>0</td>\n",
       "      <td>NaN</td>\n",
       "      <td>58</td>\n",
       "      <td>secondary education</td>\n",
       "      <td>1</td>\n",
       "      <td>civil partnership</td>\n",
       "      <td>1</td>\n",
       "      <td>F</td>\n",
       "      <td>retiree</td>\n",
       "      <td>0</td>\n",
       "      <td>NaN</td>\n",
       "      <td>to have a wedding</td>\n",
       "      <td>18962.3180</td>\n",
       "      <td>15169.758660</td>\n",
       "      <td>wedding</td>\n",
       "    </tr>\n",
       "    <tr>\n",
       "      <th>4182</th>\n",
       "      <td>1</td>\n",
       "      <td>NaN</td>\n",
       "      <td>34</td>\n",
       "      <td>bachelor's degree</td>\n",
       "      <td>0</td>\n",
       "      <td>civil partnership</td>\n",
       "      <td>1</td>\n",
       "      <td>F</td>\n",
       "      <td>employee</td>\n",
       "      <td>0</td>\n",
       "      <td>NaN</td>\n",
       "      <td>wedding ceremony</td>\n",
       "      <td>22815.1035</td>\n",
       "      <td>83.443335</td>\n",
       "      <td>wedding</td>\n",
       "    </tr>\n",
       "    <tr>\n",
       "      <th>4851</th>\n",
       "      <td>0</td>\n",
       "      <td>NaN</td>\n",
       "      <td>60</td>\n",
       "      <td>secondary education</td>\n",
       "      <td>1</td>\n",
       "      <td>civil partnership</td>\n",
       "      <td>1</td>\n",
       "      <td>F</td>\n",
       "      <td>retiree</td>\n",
       "      <td>0</td>\n",
       "      <td>NaN</td>\n",
       "      <td>wedding ceremony</td>\n",
       "      <td>18962.3180</td>\n",
       "      <td>15176.387882</td>\n",
       "      <td>wedding</td>\n",
       "    </tr>\n",
       "    <tr>\n",
       "      <th>5557</th>\n",
       "      <td>0</td>\n",
       "      <td>NaN</td>\n",
       "      <td>58</td>\n",
       "      <td>secondary education</td>\n",
       "      <td>1</td>\n",
       "      <td>civil partnership</td>\n",
       "      <td>1</td>\n",
       "      <td>F</td>\n",
       "      <td>retiree</td>\n",
       "      <td>0</td>\n",
       "      <td>NaN</td>\n",
       "      <td>to have a wedding</td>\n",
       "      <td>18962.3180</td>\n",
       "      <td>15169.758660</td>\n",
       "      <td>wedding</td>\n",
       "    </tr>\n",
       "    <tr>\n",
       "      <th>...</th>\n",
       "      <td>...</td>\n",
       "      <td>...</td>\n",
       "      <td>...</td>\n",
       "      <td>...</td>\n",
       "      <td>...</td>\n",
       "      <td>...</td>\n",
       "      <td>...</td>\n",
       "      <td>...</td>\n",
       "      <td>...</td>\n",
       "      <td>...</td>\n",
       "      <td>...</td>\n",
       "      <td>...</td>\n",
       "      <td>...</td>\n",
       "      <td>...</td>\n",
       "      <td>...</td>\n",
       "    </tr>\n",
       "    <tr>\n",
       "      <th>20702</th>\n",
       "      <td>0</td>\n",
       "      <td>NaN</td>\n",
       "      <td>64</td>\n",
       "      <td>secondary education</td>\n",
       "      <td>1</td>\n",
       "      <td>married</td>\n",
       "      <td>0</td>\n",
       "      <td>F</td>\n",
       "      <td>retiree</td>\n",
       "      <td>0</td>\n",
       "      <td>NaN</td>\n",
       "      <td>supplementary education</td>\n",
       "      <td>18962.3180</td>\n",
       "      <td>15221.286268</td>\n",
       "      <td>education</td>\n",
       "    </tr>\n",
       "    <tr>\n",
       "      <th>21032</th>\n",
       "      <td>0</td>\n",
       "      <td>NaN</td>\n",
       "      <td>60</td>\n",
       "      <td>secondary education</td>\n",
       "      <td>1</td>\n",
       "      <td>married</td>\n",
       "      <td>0</td>\n",
       "      <td>F</td>\n",
       "      <td>retiree</td>\n",
       "      <td>0</td>\n",
       "      <td>NaN</td>\n",
       "      <td>to become educated</td>\n",
       "      <td>18962.3180</td>\n",
       "      <td>15176.387882</td>\n",
       "      <td>education</td>\n",
       "    </tr>\n",
       "    <tr>\n",
       "      <th>21132</th>\n",
       "      <td>0</td>\n",
       "      <td>NaN</td>\n",
       "      <td>47</td>\n",
       "      <td>secondary education</td>\n",
       "      <td>1</td>\n",
       "      <td>married</td>\n",
       "      <td>0</td>\n",
       "      <td>F</td>\n",
       "      <td>employee</td>\n",
       "      <td>0</td>\n",
       "      <td>NaN</td>\n",
       "      <td>housing renovation</td>\n",
       "      <td>22815.1035</td>\n",
       "      <td>117.365059</td>\n",
       "      <td>real estate</td>\n",
       "    </tr>\n",
       "    <tr>\n",
       "      <th>21281</th>\n",
       "      <td>1</td>\n",
       "      <td>NaN</td>\n",
       "      <td>30</td>\n",
       "      <td>bachelor's degree</td>\n",
       "      <td>0</td>\n",
       "      <td>married</td>\n",
       "      <td>0</td>\n",
       "      <td>F</td>\n",
       "      <td>employee</td>\n",
       "      <td>0</td>\n",
       "      <td>NaN</td>\n",
       "      <td>buy commercial real estate</td>\n",
       "      <td>22815.1035</td>\n",
       "      <td>68.531248</td>\n",
       "      <td>real estate</td>\n",
       "    </tr>\n",
       "    <tr>\n",
       "      <th>21415</th>\n",
       "      <td>0</td>\n",
       "      <td>NaN</td>\n",
       "      <td>54</td>\n",
       "      <td>secondary education</td>\n",
       "      <td>1</td>\n",
       "      <td>married</td>\n",
       "      <td>0</td>\n",
       "      <td>F</td>\n",
       "      <td>retiree</td>\n",
       "      <td>0</td>\n",
       "      <td>NaN</td>\n",
       "      <td>housing transactions</td>\n",
       "      <td>18962.3180</td>\n",
       "      <td>15205.140523</td>\n",
       "      <td>real estate</td>\n",
       "    </tr>\n",
       "  </tbody>\n",
       "</table>\n",
       "<p>71 rows × 15 columns</p>\n",
       "</div>"
      ],
      "text/plain": [
       "       children  days_employed  dob_years            education  education_id  \\\n",
       "2849          0            NaN         41  secondary education             1   \n",
       "3290          0            NaN         58  secondary education             1   \n",
       "4182          1            NaN         34    bachelor's degree             0   \n",
       "4851          0            NaN         60  secondary education             1   \n",
       "5557          0            NaN         58  secondary education             1   \n",
       "...         ...            ...        ...                  ...           ...   \n",
       "20702         0            NaN         64  secondary education             1   \n",
       "21032         0            NaN         60  secondary education             1   \n",
       "21132         0            NaN         47  secondary education             1   \n",
       "21281         1            NaN         30    bachelor's degree             0   \n",
       "21415         0            NaN         54  secondary education             1   \n",
       "\n",
       "           family_status  family_status_id gender income_type  debt  \\\n",
       "2849             married                 0      F    employee     0   \n",
       "3290   civil partnership                 1      F     retiree     0   \n",
       "4182   civil partnership                 1      F    employee     0   \n",
       "4851   civil partnership                 1      F     retiree     0   \n",
       "5557   civil partnership                 1      F     retiree     0   \n",
       "...                  ...               ...    ...         ...   ...   \n",
       "20702            married                 0      F     retiree     0   \n",
       "21032            married                 0      F     retiree     0   \n",
       "21132            married                 0      F    employee     0   \n",
       "21281            married                 0      F    employee     0   \n",
       "21415            married                 0      F     retiree     0   \n",
       "\n",
       "       total_income                              purpose  total_income_median  \\\n",
       "2849            NaN  purchase of the house for my family           22815.1035   \n",
       "3290            NaN                    to have a wedding           18962.3180   \n",
       "4182            NaN                     wedding ceremony           22815.1035   \n",
       "4851            NaN                     wedding ceremony           18962.3180   \n",
       "5557            NaN                    to have a wedding           18962.3180   \n",
       "...             ...                                  ...                  ...   \n",
       "20702           NaN              supplementary education           18962.3180   \n",
       "21032           NaN                   to become educated           18962.3180   \n",
       "21132           NaN                   housing renovation           22815.1035   \n",
       "21281           NaN           buy commercial real estate           22815.1035   \n",
       "21415           NaN                 housing transactions           18962.3180   \n",
       "\n",
       "       days_employed_positive purpose_index  \n",
       "2849                99.744643   real estate  \n",
       "3290             15169.758660       wedding  \n",
       "4182                83.443335       wedding  \n",
       "4851             15176.387882       wedding  \n",
       "5557             15169.758660       wedding  \n",
       "...                       ...           ...  \n",
       "20702            15221.286268     education  \n",
       "21032            15176.387882     education  \n",
       "21132              117.365059   real estate  \n",
       "21281               68.531248   real estate  \n",
       "21415            15205.140523   real estate  \n",
       "\n",
       "[71 rows x 15 columns]"
      ]
     },
     "execution_count": 50,
     "metadata": {},
     "output_type": "execute_result"
    }
   ],
   "source": [
    "# Checking duplicates\n",
    "credit_scoring[credit_scoring.duplicated()] "
   ]
  },
  {
   "cell_type": "code",
   "execution_count": 51,
   "metadata": {},
   "outputs": [
    {
     "data": {
      "text/plain": [
       "children                                                                 16\n",
       "days_employed                                                           0.0\n",
       "dob_years                                                              3549\n",
       "education                 secondary educationsecondary educationbachelor...\n",
       "education_id                                                             61\n",
       "family_status             marriedcivil partnershipcivil partnershipcivil...\n",
       "family_status_id                                                         40\n",
       "gender                    FFFFFMFFFFFFFFFFFFFFMFFFFFFFFFFFMMFFFFFFFFMMFM...\n",
       "income_type               employeeretireeemployeeretireeretireeemployeer...\n",
       "debt                                                                      0\n",
       "total_income                                                            0.0\n",
       "purpose                   purchase of the house for my familyto have a w...\n",
       "total_income_median                                            1551695.4515\n",
       "days_employed_positive                                        415661.216572\n",
       "purpose_index             real estateweddingweddingweddingweddingreal es...\n",
       "dtype: object"
      ]
     },
     "execution_count": 51,
     "metadata": {},
     "output_type": "execute_result"
    }
   ],
   "source": [
    "# Address the duplicates, if they exist\n",
    "credit_scoring[credit_scoring.duplicated()].sum()"
   ]
  },
  {
   "cell_type": "code",
   "execution_count": 52,
   "metadata": {},
   "outputs": [],
   "source": [
    "# Last check whether we have any duplicates\n",
    "credit_scoring.drop_duplicates(inplace=True)"
   ]
  },
  {
   "cell_type": "code",
   "execution_count": 53,
   "metadata": {},
   "outputs": [
    {
     "name": "stdout",
     "output_type": "stream",
     "text": [
      "<class 'pandas.core.frame.DataFrame'>\n",
      "Int64Index: 21454 entries, 0 to 21524\n",
      "Data columns (total 13 columns):\n",
      " #   Column                  Non-Null Count  Dtype \n",
      "---  ------                  --------------  ----- \n",
      " 0   children                21454 non-null  int64 \n",
      " 1   dob_years               21454 non-null  int64 \n",
      " 2   education               21454 non-null  object\n",
      " 3   education_id            21454 non-null  int64 \n",
      " 4   family_status           21454 non-null  object\n",
      " 5   family_status_id        21454 non-null  int64 \n",
      " 6   gender                  21454 non-null  object\n",
      " 7   income_type             21454 non-null  object\n",
      " 8   debt                    21454 non-null  int64 \n",
      " 9   purpose                 21454 non-null  object\n",
      " 10  total_income_median     21454 non-null  int64 \n",
      " 11  days_employed_positive  21454 non-null  int64 \n",
      " 12  purpose_index           21454 non-null  object\n",
      "dtypes: int64(7), object(6)\n",
      "memory usage: 2.3+ MB\n"
     ]
    }
   ],
   "source": [
    "del credit_scoring['total_income']\n",
    "\n",
    "del credit_scoring['days_employed']\n",
    "\n",
    "credit_scoring['total_income_median']=credit_scoring['total_income_median'].astype('int64')\n",
    "credit_scoring['days_employed_positive']=credit_scoring['days_employed_positive'].astype('int64')\n",
    "\n",
    "credit_scoring.info()"
   ]
  },
  {
   "cell_type": "markdown",
   "metadata": {},
   "source": [
    " **conclutions**\n",
    " \n",
    " **we chose to restore the missing values of the table with the mean of the column that the missing values were, with regards to its relevant values**\n",
    " \n",
    " We add new columns to the dataset. each new column contains filtered data of a previous lacking column.\n",
    " \n",
    " Since we removed all the problematic data from our data frame, thres no more duplicated no missing values.\n",
    " \n",
    " Now we can use our new filtered data for categorization and deeper analysis of the data.\n"
   ]
  },
  {
   "cell_type": "markdown",
   "metadata": {},
   "source": [
    "## Categorization of data\n",
    "\n",
    "[To answer the questions and test the hypotheses, you will want to work with categorized data. Look at the questions that were posed to you and that you should answer. Think about which of the data will need to be categorized to answer these questions. Below you will find a template through which you can work your way when categorizing data. The first step-by-step processing covers the text data; the second one addresses the numerical data that needs to be categorized. You can use both or none of the suggested instructions - it's up to you.]\n",
    "\n",
    "\n",
    "\n",
    "In the following section we intend to categorize the data and to answer the following questions:\n",
    "\n",
    "**heres a table oif all the relevant columns for our research questions:**\n",
    "\n",
    "\n",
    "Is there a connection between having kids and repaying a loan on time?\n",
    "\n",
    "Is there a connection between marital status and repaying a loan on time?\n",
    "\n",
    "Is there a connection between income level and repaying a loan on time?\n",
    "\n",
    "How do different loan purposes affect on-time loan repayment?\n",
    "\n",
    "**in order to so do, we create a data table out of the columns we need for the categorization regarding the question above.** \n",
    "\n"
   ]
  },
  {
   "cell_type": "code",
   "execution_count": 54,
   "metadata": {
    "scrolled": true
   },
   "outputs": [
    {
     "name": "stdout",
     "output_type": "stream",
     "text": [
      "<class 'pandas.core.frame.DataFrame'>\n",
      "Int64Index: 21454 entries, 0 to 21524\n",
      "Data columns (total 8 columns):\n",
      " #   Column               Non-Null Count  Dtype \n",
      "---  ------               --------------  ----- \n",
      " 0   children             21454 non-null  int64 \n",
      " 1   dob_years            21454 non-null  int64 \n",
      " 2   education_id         21454 non-null  int64 \n",
      " 3   family_status_id     21454 non-null  int64 \n",
      " 4   income_type          21454 non-null  object\n",
      " 5   debt                 21454 non-null  int64 \n",
      " 6   total_income_median  21454 non-null  int64 \n",
      " 7   purpose_index        21454 non-null  object\n",
      "dtypes: int64(6), object(2)\n",
      "memory usage: 1.5+ MB\n"
     ]
    }
   ],
   "source": [
    "# Print the values for your selected data for categorization\n",
    "\n",
    "\n",
    "credit_scoring_loan=credit_scoring.loc[:, credit_scoring.columns.drop(['education','family_status','gender','days_employed_positive','purpose'])]\n",
    "\n",
    "credit_scoring_loan.info()"
   ]
  },
  {
   "cell_type": "markdown",
   "metadata": {},
   "source": []
  },
  {
   "cell_type": "code",
   "execution_count": 55,
   "metadata": {},
   "outputs": [
    {
     "data": {
      "text/plain": [
       "age_years  dob_years\n",
       "1987       35           616\n",
       "1979       43           613\n",
       "1982       40           607\n",
       "1981       41           605\n",
       "1988       34           601\n",
       "1984       38           597\n",
       "1980       42           596\n",
       "1989       33           581\n",
       "1983       39           572\n",
       "1991       31           559\n",
       "1986       36           554\n",
       "1978       44           545\n",
       "1993       29           544\n",
       "1992       30           537\n",
       "1974       48           536\n",
       "1985       37           536\n",
       "1972       50           513\n",
       "1990       32           509\n",
       "1973       49           508\n",
       "1994       28           503\n",
       "1977       45           496\n",
       "1995       27           493\n",
       "1970       52           484\n",
       "1966       56           483\n",
       "1975       47           477\n",
       "1968       54           476\n",
       "1976       46           472\n",
       "1969       53           459\n",
       "1965       57           456\n",
       "1964       58           454\n",
       "1971       51           446\n",
       "1967       55           443\n",
       "1963       59           443\n",
       "1996       26           408\n",
       "1962       60           374\n",
       "1997       25           357\n",
       "1961       61           354\n",
       "1960       62           348\n",
       "1959       63           269\n",
       "1998       24           264\n",
       "1958       64           260\n",
       "1999       23           252\n",
       "1957       65           193\n",
       "2000       22           183\n",
       "1956       66           182\n",
       "1955       67           167\n",
       "2001       21           111\n",
       "1954       68            99\n",
       "1953       69            85\n",
       "1952       70            65\n",
       "1951       71            56\n",
       "2002       20            51\n",
       "1950       72            33\n",
       "2003       19            14\n",
       "1949       73             8\n",
       "1948       74             6\n",
       "1947       75             1\n",
       "dtype: int64"
      ]
     },
     "execution_count": 55,
     "metadata": {},
     "output_type": "execute_result"
    }
   ],
   "source": [
    "\n",
    "def age_years(dob_years):\n",
    "    return (2022 - dob_years)\n",
    "\n",
    "credit_scoring_loan['age_years'] = credit_scoring_loan['dob_years'].apply(age_years) \n",
    "\n",
    "credit_scoring_loan[['age_years','dob_years']].value_counts()\n",
    "\n"
   ]
  },
  {
   "cell_type": "markdown",
   "metadata": {},
   "source": [
    "[What main groups can you identify based on the unique values?]\n",
    "\n",
    "Here we check whether having children has a relation to being in debt:"
   ]
  },
  {
   "cell_type": "code",
   "execution_count": 56,
   "metadata": {},
   "outputs": [
    {
     "name": "stdout",
     "output_type": "stream",
     "text": [
      "      children\n",
      "debt          \n",
      "0         9318\n",
      "1          945\n"
     ]
    }
   ],
   "source": [
    "# Let's write a function to categorize the data based on common topics\n",
    "debt_children = credit_scoring_loan.pivot_table(index='debt',values='children',aggfunc='sum')\n",
    "\n",
    "print(debt_children)"
   ]
  },
  {
   "cell_type": "markdown",
   "metadata": {},
   "source": [
    "The pivot table above shows that the relation between having children, by itself as a parameter, and not having children in relation to being in debt doesnt have an affect on .\n",
    " \n",
    " **Hence, we can presume that having children dont have an affect on return a loan.**"
   ]
  },
  {
   "cell_type": "markdown",
   "metadata": {},
   "source": [
    "we can same the same about having or not education.\n",
    "education status doesnt affect the ability to return a loan, as we see below."
   ]
  },
  {
   "cell_type": "code",
   "execution_count": 57,
   "metadata": {},
   "outputs": [
    {
     "data": {
      "text/html": [
       "<div>\n",
       "<style scoped>\n",
       "    .dataframe tbody tr th:only-of-type {\n",
       "        vertical-align: middle;\n",
       "    }\n",
       "\n",
       "    .dataframe tbody tr th {\n",
       "        vertical-align: top;\n",
       "    }\n",
       "\n",
       "    .dataframe thead th {\n",
       "        text-align: right;\n",
       "    }\n",
       "</style>\n",
       "<table border=\"1\" class=\"dataframe\">\n",
       "  <thead>\n",
       "    <tr style=\"text-align: right;\">\n",
       "      <th></th>\n",
       "      <th>education_id</th>\n",
       "    </tr>\n",
       "    <tr>\n",
       "      <th>debt</th>\n",
       "      <th></th>\n",
       "    </tr>\n",
       "  </thead>\n",
       "  <tbody>\n",
       "    <tr>\n",
       "      <th>0</th>\n",
       "      <td>15937</td>\n",
       "    </tr>\n",
       "    <tr>\n",
       "      <th>1</th>\n",
       "      <td>1593</td>\n",
       "    </tr>\n",
       "  </tbody>\n",
       "</table>\n",
       "</div>"
      ],
      "text/plain": [
       "      education_id\n",
       "debt              \n",
       "0            15937\n",
       "1             1593"
      ]
     },
     "execution_count": 57,
     "metadata": {},
     "output_type": "execute_result"
    }
   ],
   "source": [
    "debt_education = credit_scoring_loan.pivot_table(index='debt',values='education_id',aggfunc='sum')\n",
    "\n",
    "debt_education"
   ]
  },
  {
   "cell_type": "code",
   "execution_count": 58,
   "metadata": {},
   "outputs": [
    {
     "name": "stdout",
     "output_type": "stream",
     "text": [
      "      family_status_id\n",
      "debt                  \n",
      "0                19029\n",
      "1                 1865\n"
     ]
    }
   ],
   "source": [
    " debt_family_status = credit_scoring_loan.pivot_table(index='debt',values='family_status_id',aggfunc='sum')\n",
    "\n",
    "print(debt_family_status)"
   ]
  },
  {
   "cell_type": "markdown",
   "metadata": {},
   "source": [
    "Family status doestn have a relation to debt either. "
   ]
  },
  {
   "cell_type": "code",
   "execution_count": 59,
   "metadata": {
    "scrolled": true
   },
   "outputs": [
    {
     "name": "stdout",
     "output_type": "stream",
     "text": [
      "      total_income_median\n",
      "debt                     \n",
      "0            26509.543499\n",
      "1            25784.954049\n"
     ]
    }
   ],
   "source": [
    "debt_income = credit_scoring_loan.pivot_table(index='debt',values='total_income_median')\n",
    "\n",
    "print(debt_income)"
   ]
  },
  {
   "cell_type": "markdown",
   "metadata": {},
   "source": []
  },
  {
   "cell_type": "markdown",
   "metadata": {},
   "source": [
    "## Checking the Hypotheses\n"
   ]
  },
  {
   "cell_type": "markdown",
   "metadata": {},
   "source": [
    "**Is there a correlation between having children and paying back on time?**"
   ]
  },
  {
   "cell_type": "code",
   "execution_count": 60,
   "metadata": {},
   "outputs": [
    {
     "name": "stdout",
     "output_type": "stream",
     "text": [
      "children  debt\n",
      "0         0       13074\n",
      "1         0        4364\n",
      "2         0        1926\n",
      "0         1        1064\n",
      "1         1         444\n",
      "3         0         303\n",
      "2         1         202\n",
      "4         0          37\n",
      "3         1          27\n",
      "5         0           9\n",
      "4         1           4\n",
      "dtype: int64\n",
      "\n",
      "pivot table:\n",
      "      children\n",
      "debt          \n",
      "0         9318\n",
      "1          945\n"
     ]
    }
   ],
   "source": [
    "# Check the children data and paying back on time\n",
    "\n",
    "credit_scoring_children = credit_scoring_loan[['children','debt']]\n",
    "\n",
    "# Calculating default-rate based on the number of children\n",
    "\n",
    "print(credit_scoring_children.value_counts())\n",
    "print('')\n",
    "print('pivot table:')\n",
    "print(debt_children)"
   ]
  },
  {
   "cell_type": "markdown",
   "metadata": {},
   "source": [
    "**Conclusion**\n",
    "\n",
    "As we see in the column and the pivot table; There is no relation found between having children to not being able to return a loan."
   ]
  },
  {
   "cell_type": "markdown",
   "metadata": {},
   "source": [
    "**Is there a correlation between family status and paying back on time?**"
   ]
  },
  {
   "cell_type": "code",
   "execution_count": 61,
   "metadata": {
    "scrolled": true
   },
   "outputs": [
    {
     "name": "stdout",
     "output_type": "stream",
     "text": [
      "family_status_id  debt\n",
      "0                 0       11408\n",
      "1                 0        3763\n",
      "4                 0        2536\n",
      "3                 0        1110\n",
      "0                 1         931\n",
      "2                 0         896\n",
      "1                 1         388\n",
      "4                 1         274\n",
      "3                 1          85\n",
      "2                 1          63\n",
      "dtype: int64\n",
      "\n",
      "pivot table:\n",
      "      family_status_id\n",
      "debt                  \n",
      "0                19029\n",
      "1                 1865\n"
     ]
    }
   ],
   "source": [
    "# Check the family status data and paying back on time\n",
    "\n",
    "credit_scoring_family_status = credit_scoring_loan[['family_status_id','debt']]\n",
    "\n",
    "\n",
    "# Calculating default-rate based on family status\n",
    "\n",
    "print(credit_scoring_family_status.value_counts())\n",
    "print('')\n",
    "print('pivot table:')\n",
    "print(debt_family_status)"
   ]
  },
  {
   "cell_type": "markdown",
   "metadata": {},
   "source": [
    "Family status doesnt have a cerrelation between being unable to return a debt on time."
   ]
  },
  {
   "cell_type": "markdown",
   "metadata": {},
   "source": [
    "**Conclusion**\n",
    "\n",
    "[Write your conclusions based on your manipulations and observations.]"
   ]
  },
  {
   "cell_type": "markdown",
   "metadata": {},
   "source": [
    "**Is there a correlation between income level and paying back on time?**\n",
    "\n",
    "we dont see a certain pattern."
   ]
  },
  {
   "cell_type": "code",
   "execution_count": 62,
   "metadata": {},
   "outputs": [
    {
     "name": "stdout",
     "output_type": "stream",
     "text": [
      "total_income_median  debt\n",
      "22815                0       973\n",
      "27577                0       472\n",
      "18962                0       353\n",
      "24071                0       138\n",
      "22815                1        98\n",
      "                            ... \n",
      "20327                0         1\n",
      "20328                0         1\n",
      "20330                0         1\n",
      "20340                0         1\n",
      "362496               0         1\n",
      "Length: 15948, dtype: int64\n",
      "   total_income_median  debt\n",
      "0                40620     0\n",
      "1                17932     0\n",
      "2                23341     0\n",
      "3                42820     0\n",
      "4                25378     0\n",
      "5                40922     0\n",
      "6                38484     0\n",
      "7                21731     0\n",
      "8                15337     0\n",
      "9                23108     0\n"
     ]
    }
   ],
   "source": [
    "# Check the income level data and paying back on time\n",
    "\n",
    "credit_scoring_income = credit_scoring_loan[['total_income_median','debt']]\n",
    "\n",
    "\n",
    "# Calculating default-rate based on income level\n",
    "\n",
    "print(credit_scoring_income.sort_values('debt').value_counts(ascending=False))\n",
    "\n",
    "print(credit_scoring_income.head(10))"
   ]
  },
  {
   "cell_type": "markdown",
   "metadata": {},
   "source": [
    "\n",
    "**Conclusion**\n",
    "\n",
    "There is no distinct obresvation between total_income and debt."
   ]
  },
  {
   "cell_type": "markdown",
   "metadata": {},
   "source": [
    "**How does credit purpose affect the default rate?**"
   ]
  },
  {
   "cell_type": "code",
   "execution_count": 63,
   "metadata": {
    "scrolled": true
   },
   "outputs": [
    {
     "name": "stdout",
     "output_type": "stream",
     "text": [
      "purpose_index  debt\n",
      "real estate    0       8280\n",
      "car            0       3903\n",
      "education      0       3643\n",
      "wedding        0       2138\n",
      "other          0       1749\n",
      "real estate    1        644\n",
      "car            1        403\n",
      "education      1        370\n",
      "wedding        1        186\n",
      "other          1        138\n",
      "dtype: int64\n"
     ]
    }
   ],
   "source": [
    "# Check the percentages for default rate for each credit purpose and analyze them\n",
    "\n",
    "credit_scoring_purpose = credit_scoring_loan[['purpose_index','debt']]\n",
    "\n",
    "print(credit_scoring_purpose.value_counts())\n"
   ]
  },
  {
   "cell_type": "markdown",
   "metadata": {},
   "source": [
    "**Conclusion**\n",
    "\n",
    "We didnt find any relation between purpose of the loan, children number or martial status to having debt.\n",
    "\n",
    " "
   ]
  },
  {
   "cell_type": "markdown",
   "metadata": {},
   "source": [
    "# General Conclusion \n",
    "\n",
    "After processig the credit scoring data; removing empty and duplicated values, rearranging new columns and and cetegorizing the data for our needs and hypotheses. We come to the conclutions in terms of relation to debt and the inability to return a loan:\n",
    "\n",
    "-There is no distinct relation between having children and being unable to return a loan\n",
    "\n",
    "-There is no distinct relation between any matrial status and being unable to return a loan\n",
    "\n",
    "-There is no distinct relation between purpose of applying for a loan and being unable to return a loan\n",
    " \n",
    "And There is no distinct relation between income level and being unable to return a loan.\n",
    "\n",
    "\n",
    "\n",
    "\n"
   ]
  }
 ],
 "metadata": {
  "ExecuteTimeLog": [
   {
    "duration": 2741,
    "start_time": "2021-10-21T01:08:49.480Z"
   },
   {
    "duration": 52,
    "start_time": "2021-10-21T01:08:53.315Z"
   },
   {
    "duration": 49,
    "start_time": "2021-10-21T01:08:57.432Z"
   },
   {
    "duration": 70,
    "start_time": "2021-10-21T01:09:07.706Z"
   },
   {
    "duration": 52,
    "start_time": "2022-07-28T17:46:37.896Z"
   },
   {
    "duration": 75,
    "start_time": "2022-07-28T17:46:43.749Z"
   },
   {
    "duration": 555,
    "start_time": "2022-07-28T17:46:50.587Z"
   },
   {
    "duration": 54,
    "start_time": "2022-07-28T17:46:54.051Z"
   },
   {
    "duration": 17,
    "start_time": "2022-07-28T17:46:56.364Z"
   },
   {
    "duration": 13,
    "start_time": "2022-07-28T17:51:13.170Z"
   },
   {
    "duration": 8,
    "start_time": "2022-07-28T17:51:40.599Z"
   },
   {
    "duration": 22,
    "start_time": "2022-07-28T17:53:40.145Z"
   },
   {
    "duration": 14,
    "start_time": "2022-07-28T18:25:05.139Z"
   },
   {
    "duration": 27,
    "start_time": "2022-07-28T18:25:45.199Z"
   },
   {
    "duration": 4,
    "start_time": "2022-07-28T18:55:18.101Z"
   },
   {
    "duration": 14,
    "start_time": "2022-07-28T18:55:38.794Z"
   },
   {
    "duration": 12,
    "start_time": "2022-07-28T18:56:00.831Z"
   },
   {
    "duration": 13,
    "start_time": "2022-07-28T19:01:33.979Z"
   },
   {
    "duration": 50,
    "start_time": "2022-07-29T06:45:03.099Z"
   },
   {
    "duration": 635,
    "start_time": "2022-07-29T06:45:08.511Z"
   },
   {
    "duration": 16,
    "start_time": "2022-07-29T06:45:16.290Z"
   },
   {
    "duration": 19,
    "start_time": "2022-07-29T06:45:59.129Z"
   },
   {
    "duration": 37,
    "start_time": "2022-07-29T07:17:10.485Z"
   },
   {
    "duration": 15,
    "start_time": "2022-07-29T07:18:50.490Z"
   },
   {
    "duration": 6,
    "start_time": "2022-07-29T07:19:26.495Z"
   },
   {
    "duration": 0,
    "start_time": "2022-07-29T07:19:50.512Z"
   },
   {
    "duration": 1333,
    "start_time": "2022-07-29T07:19:52.404Z"
   },
   {
    "duration": 29,
    "start_time": "2022-07-29T07:20:33.237Z"
   },
   {
    "duration": 32,
    "start_time": "2022-07-29T07:20:44.340Z"
   },
   {
    "duration": 79,
    "start_time": "2022-07-29T07:30:18.023Z"
   },
   {
    "duration": 35,
    "start_time": "2022-07-29T07:51:59.737Z"
   },
   {
    "duration": 39,
    "start_time": "2022-07-29T08:00:45.384Z"
   },
   {
    "duration": 21,
    "start_time": "2022-07-29T08:00:59.617Z"
   },
   {
    "duration": 20,
    "start_time": "2022-07-29T08:01:34.254Z"
   },
   {
    "duration": 15,
    "start_time": "2022-07-29T08:01:43.449Z"
   },
   {
    "duration": 40,
    "start_time": "2022-07-29T08:06:06.985Z"
   },
   {
    "duration": 44,
    "start_time": "2022-07-29T08:06:24.963Z"
   },
   {
    "duration": 55,
    "start_time": "2022-07-29T08:09:19.033Z"
   },
   {
    "duration": 50,
    "start_time": "2022-07-29T08:09:28.030Z"
   },
   {
    "duration": 67,
    "start_time": "2022-07-29T08:10:59.799Z"
   },
   {
    "duration": 63,
    "start_time": "2022-07-29T08:11:30.075Z"
   },
   {
    "duration": 49,
    "start_time": "2022-07-29T08:11:47.505Z"
   },
   {
    "duration": 54,
    "start_time": "2022-07-29T08:12:11.558Z"
   },
   {
    "duration": 77,
    "start_time": "2022-07-29T08:12:39.236Z"
   },
   {
    "duration": 66,
    "start_time": "2022-07-29T08:13:15.881Z"
   },
   {
    "duration": 63,
    "start_time": "2022-07-29T08:13:34.776Z"
   },
   {
    "duration": 69,
    "start_time": "2022-07-29T08:17:42.934Z"
   },
   {
    "duration": 62,
    "start_time": "2022-07-29T08:19:27.491Z"
   },
   {
    "duration": 69,
    "start_time": "2022-07-29T08:20:04.052Z"
   },
   {
    "duration": 61,
    "start_time": "2022-07-29T08:20:19.693Z"
   },
   {
    "duration": 67,
    "start_time": "2022-07-29T08:20:25.860Z"
   },
   {
    "duration": 60,
    "start_time": "2022-07-29T08:20:50.574Z"
   },
   {
    "duration": 59,
    "start_time": "2022-07-29T08:21:00.573Z"
   },
   {
    "duration": 62,
    "start_time": "2022-07-29T08:21:09.866Z"
   },
   {
    "duration": 76,
    "start_time": "2022-07-29T08:21:15.865Z"
   },
   {
    "duration": 71,
    "start_time": "2022-07-29T08:21:20.829Z"
   },
   {
    "duration": 53,
    "start_time": "2022-07-29T08:21:27.404Z"
   },
   {
    "duration": 50,
    "start_time": "2022-07-29T08:21:34.722Z"
   },
   {
    "duration": 49,
    "start_time": "2022-07-29T08:21:41.597Z"
   },
   {
    "duration": 44,
    "start_time": "2022-07-29T08:21:52.860Z"
   },
   {
    "duration": 5,
    "start_time": "2022-07-29T08:22:38.469Z"
   },
   {
    "duration": 51,
    "start_time": "2022-07-29T08:22:43.970Z"
   },
   {
    "duration": 58,
    "start_time": "2022-07-29T08:24:15.610Z"
   },
   {
    "duration": 54,
    "start_time": "2022-07-29T08:24:59.326Z"
   },
   {
    "duration": 52,
    "start_time": "2022-07-29T08:49:10.055Z"
   },
   {
    "duration": 52,
    "start_time": "2022-07-29T08:49:17.962Z"
   },
   {
    "duration": 24,
    "start_time": "2022-07-29T08:51:08.091Z"
   },
   {
    "duration": 9,
    "start_time": "2022-07-29T09:51:10.847Z"
   },
   {
    "duration": 11,
    "start_time": "2022-07-29T10:04:07.892Z"
   },
   {
    "duration": 31,
    "start_time": "2022-07-29T10:04:23.180Z"
   },
   {
    "duration": 27,
    "start_time": "2022-07-29T10:05:18.315Z"
   },
   {
    "duration": 23,
    "start_time": "2022-07-29T10:07:14.539Z"
   },
   {
    "duration": 29,
    "start_time": "2022-07-29T10:07:31.818Z"
   },
   {
    "duration": 20,
    "start_time": "2022-07-29T10:19:09.738Z"
   },
   {
    "duration": 17,
    "start_time": "2022-07-29T10:19:54.384Z"
   },
   {
    "duration": 4,
    "start_time": "2022-07-29T10:29:55.769Z"
   },
   {
    "duration": 20,
    "start_time": "2022-07-29T10:30:01.005Z"
   },
   {
    "duration": 19,
    "start_time": "2022-07-29T10:30:30.046Z"
   },
   {
    "duration": 23,
    "start_time": "2022-07-29T10:41:41.421Z"
   },
   {
    "duration": 21,
    "start_time": "2022-07-29T10:42:07.046Z"
   },
   {
    "duration": 24,
    "start_time": "2022-07-29T10:42:43.393Z"
   },
   {
    "duration": 22,
    "start_time": "2022-07-29T10:43:12.340Z"
   },
   {
    "duration": 35,
    "start_time": "2022-07-29T10:43:22.433Z"
   },
   {
    "duration": 18,
    "start_time": "2022-07-29T11:12:58.191Z"
   },
   {
    "duration": 20,
    "start_time": "2022-07-29T11:13:31.365Z"
   },
   {
    "duration": 593,
    "start_time": "2022-07-30T18:54:29.407Z"
   },
   {
    "duration": 26,
    "start_time": "2022-07-30T18:54:30.002Z"
   },
   {
    "duration": 76,
    "start_time": "2022-07-30T18:54:30.030Z"
   },
   {
    "duration": 0,
    "start_time": "2022-07-30T18:54:30.110Z"
   },
   {
    "duration": 0,
    "start_time": "2022-07-30T18:54:30.111Z"
   },
   {
    "duration": 0,
    "start_time": "2022-07-30T18:54:30.112Z"
   },
   {
    "duration": 0,
    "start_time": "2022-07-30T18:54:30.113Z"
   },
   {
    "duration": 0,
    "start_time": "2022-07-30T18:54:30.114Z"
   },
   {
    "duration": 0,
    "start_time": "2022-07-30T18:54:30.116Z"
   },
   {
    "duration": 0,
    "start_time": "2022-07-30T18:54:30.117Z"
   },
   {
    "duration": 0,
    "start_time": "2022-07-30T18:54:30.118Z"
   },
   {
    "duration": 0,
    "start_time": "2022-07-30T18:54:30.118Z"
   },
   {
    "duration": 0,
    "start_time": "2022-07-30T18:54:30.119Z"
   },
   {
    "duration": 0,
    "start_time": "2022-07-30T18:54:30.120Z"
   },
   {
    "duration": 0,
    "start_time": "2022-07-30T18:54:30.121Z"
   },
   {
    "duration": 0,
    "start_time": "2022-07-30T18:54:30.123Z"
   },
   {
    "duration": 0,
    "start_time": "2022-07-30T18:54:30.124Z"
   },
   {
    "duration": 0,
    "start_time": "2022-07-30T18:54:30.125Z"
   },
   {
    "duration": 0,
    "start_time": "2022-07-30T18:54:30.126Z"
   },
   {
    "duration": 0,
    "start_time": "2022-07-30T18:54:30.127Z"
   },
   {
    "duration": 0,
    "start_time": "2022-07-30T18:54:30.128Z"
   },
   {
    "duration": 0,
    "start_time": "2022-07-30T18:54:30.129Z"
   },
   {
    "duration": 0,
    "start_time": "2022-07-30T18:54:30.130Z"
   },
   {
    "duration": 0,
    "start_time": "2022-07-30T18:54:30.131Z"
   },
   {
    "duration": 0,
    "start_time": "2022-07-30T18:54:30.132Z"
   },
   {
    "duration": 0,
    "start_time": "2022-07-30T18:54:30.133Z"
   },
   {
    "duration": 0,
    "start_time": "2022-07-30T18:54:30.134Z"
   },
   {
    "duration": 0,
    "start_time": "2022-07-30T18:54:30.134Z"
   },
   {
    "duration": 0,
    "start_time": "2022-07-30T18:54:30.136Z"
   },
   {
    "duration": 0,
    "start_time": "2022-07-30T18:54:30.136Z"
   },
   {
    "duration": 0,
    "start_time": "2022-07-30T18:54:30.137Z"
   },
   {
    "duration": 0,
    "start_time": "2022-07-30T18:54:30.137Z"
   },
   {
    "duration": 0,
    "start_time": "2022-07-30T18:54:30.138Z"
   },
   {
    "duration": 0,
    "start_time": "2022-07-30T18:54:30.139Z"
   },
   {
    "duration": 0,
    "start_time": "2022-07-30T18:54:30.140Z"
   },
   {
    "duration": 0,
    "start_time": "2022-07-30T18:54:30.141Z"
   },
   {
    "duration": 0,
    "start_time": "2022-07-30T18:54:30.198Z"
   },
   {
    "duration": 0,
    "start_time": "2022-07-30T18:54:30.199Z"
   },
   {
    "duration": 0,
    "start_time": "2022-07-30T18:54:30.201Z"
   },
   {
    "duration": 0,
    "start_time": "2022-07-30T18:54:30.202Z"
   },
   {
    "duration": 0,
    "start_time": "2022-07-30T18:54:30.203Z"
   },
   {
    "duration": 0,
    "start_time": "2022-07-30T18:54:30.204Z"
   },
   {
    "duration": 0,
    "start_time": "2022-07-30T18:54:30.204Z"
   },
   {
    "duration": 0,
    "start_time": "2022-07-30T18:54:30.205Z"
   },
   {
    "duration": 0,
    "start_time": "2022-07-30T18:54:30.206Z"
   },
   {
    "duration": 0,
    "start_time": "2022-07-30T18:54:30.207Z"
   },
   {
    "duration": 0,
    "start_time": "2022-07-30T18:54:30.208Z"
   },
   {
    "duration": 0,
    "start_time": "2022-07-30T18:54:30.209Z"
   },
   {
    "duration": 0,
    "start_time": "2022-07-30T18:54:30.209Z"
   },
   {
    "duration": 0,
    "start_time": "2022-07-30T18:54:30.210Z"
   },
   {
    "duration": 0,
    "start_time": "2022-07-30T18:54:30.211Z"
   },
   {
    "duration": 0,
    "start_time": "2022-07-30T18:54:30.212Z"
   },
   {
    "duration": 0,
    "start_time": "2022-07-30T18:54:30.212Z"
   },
   {
    "duration": 0,
    "start_time": "2022-07-30T18:54:30.213Z"
   },
   {
    "duration": 0,
    "start_time": "2022-07-30T18:54:30.214Z"
   },
   {
    "duration": 0,
    "start_time": "2022-07-30T18:54:30.214Z"
   },
   {
    "duration": 0,
    "start_time": "2022-07-30T18:54:30.215Z"
   },
   {
    "duration": 0,
    "start_time": "2022-07-30T18:54:30.216Z"
   },
   {
    "duration": 0,
    "start_time": "2022-07-30T18:54:30.217Z"
   },
   {
    "duration": 0,
    "start_time": "2022-07-30T18:54:30.218Z"
   },
   {
    "duration": 0,
    "start_time": "2022-07-30T18:54:30.218Z"
   },
   {
    "duration": 0,
    "start_time": "2022-07-30T18:54:30.219Z"
   },
   {
    "duration": 0,
    "start_time": "2022-07-30T18:54:30.220Z"
   },
   {
    "duration": 0,
    "start_time": "2022-07-30T18:54:30.220Z"
   },
   {
    "duration": 0,
    "start_time": "2022-07-30T18:54:30.221Z"
   },
   {
    "duration": 0,
    "start_time": "2022-07-30T18:54:30.222Z"
   },
   {
    "duration": 0,
    "start_time": "2022-07-30T18:54:30.223Z"
   },
   {
    "duration": 0,
    "start_time": "2022-07-30T18:54:30.223Z"
   },
   {
    "duration": 0,
    "start_time": "2022-07-30T18:54:30.225Z"
   },
   {
    "duration": 0,
    "start_time": "2022-07-30T18:54:30.226Z"
   },
   {
    "duration": 0,
    "start_time": "2022-07-30T18:54:30.226Z"
   },
   {
    "duration": 59,
    "start_time": "2022-07-30T18:54:35.906Z"
   },
   {
    "duration": 20,
    "start_time": "2022-07-30T18:54:38.820Z"
   },
   {
    "duration": 8,
    "start_time": "2022-07-30T19:03:01.061Z"
   },
   {
    "duration": 12,
    "start_time": "2022-07-30T19:03:12.285Z"
   },
   {
    "duration": 8,
    "start_time": "2022-07-30T19:03:45.482Z"
   },
   {
    "duration": 41,
    "start_time": "2022-07-30T19:05:37.901Z"
   },
   {
    "duration": 45,
    "start_time": "2022-07-30T19:06:09.331Z"
   },
   {
    "duration": 18,
    "start_time": "2022-07-30T19:12:33.768Z"
   },
   {
    "duration": 19,
    "start_time": "2022-07-30T19:12:49.789Z"
   },
   {
    "duration": 53,
    "start_time": "2022-07-30T19:31:00.476Z"
   },
   {
    "duration": 686,
    "start_time": "2022-07-31T07:19:07.316Z"
   },
   {
    "duration": 428,
    "start_time": "2022-07-31T07:19:23.408Z"
   },
   {
    "duration": 23,
    "start_time": "2022-07-31T07:19:23.838Z"
   },
   {
    "duration": 6,
    "start_time": "2022-07-31T07:19:23.863Z"
   },
   {
    "duration": 30,
    "start_time": "2022-07-31T07:19:23.872Z"
   },
   {
    "duration": 45,
    "start_time": "2022-07-31T07:19:23.904Z"
   },
   {
    "duration": 32,
    "start_time": "2022-07-31T07:19:23.950Z"
   },
   {
    "duration": 2,
    "start_time": "2022-07-31T07:19:23.988Z"
   },
   {
    "duration": 7,
    "start_time": "2022-07-31T07:19:23.992Z"
   },
   {
    "duration": 6,
    "start_time": "2022-07-31T07:19:24.000Z"
   },
   {
    "duration": 4,
    "start_time": "2022-07-31T07:19:24.008Z"
   },
   {
    "duration": 5,
    "start_time": "2022-07-31T07:19:24.013Z"
   },
   {
    "duration": 5,
    "start_time": "2022-07-31T07:19:24.019Z"
   },
   {
    "duration": 5,
    "start_time": "2022-07-31T07:19:24.025Z"
   },
   {
    "duration": 12,
    "start_time": "2022-07-31T07:19:24.031Z"
   },
   {
    "duration": 25,
    "start_time": "2022-07-31T07:19:24.044Z"
   },
   {
    "duration": 24,
    "start_time": "2022-07-31T07:19:24.071Z"
   },
   {
    "duration": 5,
    "start_time": "2022-07-31T07:19:24.097Z"
   },
   {
    "duration": 5,
    "start_time": "2022-07-31T07:19:24.103Z"
   },
   {
    "duration": 5,
    "start_time": "2022-07-31T07:19:24.110Z"
   },
   {
    "duration": 4,
    "start_time": "2022-07-31T07:19:24.116Z"
   },
   {
    "duration": 8,
    "start_time": "2022-07-31T07:19:24.121Z"
   },
   {
    "duration": 7,
    "start_time": "2022-07-31T07:19:24.130Z"
   },
   {
    "duration": 5,
    "start_time": "2022-07-31T07:19:24.139Z"
   },
   {
    "duration": 5,
    "start_time": "2022-07-31T07:19:24.145Z"
   },
   {
    "duration": 5,
    "start_time": "2022-07-31T07:19:24.152Z"
   },
   {
    "duration": 5,
    "start_time": "2022-07-31T07:19:24.158Z"
   },
   {
    "duration": 4,
    "start_time": "2022-07-31T07:19:24.164Z"
   },
   {
    "duration": 6,
    "start_time": "2022-07-31T07:19:24.173Z"
   },
   {
    "duration": 3,
    "start_time": "2022-07-31T07:19:24.185Z"
   },
   {
    "duration": 6,
    "start_time": "2022-07-31T07:19:24.190Z"
   },
   {
    "duration": 16,
    "start_time": "2022-07-31T07:19:24.198Z"
   },
   {
    "duration": 5,
    "start_time": "2022-07-31T07:19:24.216Z"
   },
   {
    "duration": 5,
    "start_time": "2022-07-31T07:19:24.223Z"
   },
   {
    "duration": 7,
    "start_time": "2022-07-31T07:19:24.229Z"
   },
   {
    "duration": 8,
    "start_time": "2022-07-31T07:19:24.238Z"
   },
   {
    "duration": 3,
    "start_time": "2022-07-31T07:19:24.248Z"
   },
   {
    "duration": 5,
    "start_time": "2022-07-31T07:19:24.252Z"
   },
   {
    "duration": 4,
    "start_time": "2022-07-31T07:19:24.258Z"
   },
   {
    "duration": 7,
    "start_time": "2022-07-31T07:19:24.264Z"
   },
   {
    "duration": 16,
    "start_time": "2022-07-31T07:19:24.274Z"
   },
   {
    "duration": 6,
    "start_time": "2022-07-31T07:19:24.292Z"
   },
   {
    "duration": 5,
    "start_time": "2022-07-31T07:19:24.300Z"
   },
   {
    "duration": 5,
    "start_time": "2022-07-31T07:19:24.306Z"
   },
   {
    "duration": 9,
    "start_time": "2022-07-31T07:19:24.312Z"
   },
   {
    "duration": 5,
    "start_time": "2022-07-31T07:19:24.322Z"
   },
   {
    "duration": 7,
    "start_time": "2022-07-31T07:19:24.329Z"
   },
   {
    "duration": 6,
    "start_time": "2022-07-31T07:19:24.338Z"
   },
   {
    "duration": 8,
    "start_time": "2022-07-31T07:19:24.346Z"
   },
   {
    "duration": 4,
    "start_time": "2022-07-31T07:19:24.356Z"
   },
   {
    "duration": 4,
    "start_time": "2022-07-31T07:19:24.361Z"
   },
   {
    "duration": 4,
    "start_time": "2022-07-31T07:19:24.367Z"
   },
   {
    "duration": 18,
    "start_time": "2022-07-31T07:19:24.372Z"
   },
   {
    "duration": 5,
    "start_time": "2022-07-31T07:19:24.392Z"
   },
   {
    "duration": 7,
    "start_time": "2022-07-31T07:19:24.399Z"
   },
   {
    "duration": 4,
    "start_time": "2022-07-31T07:19:24.408Z"
   },
   {
    "duration": 6,
    "start_time": "2022-07-31T07:19:24.414Z"
   },
   {
    "duration": 4,
    "start_time": "2022-07-31T07:19:24.422Z"
   },
   {
    "duration": 8,
    "start_time": "2022-07-31T07:19:24.427Z"
   },
   {
    "duration": 6,
    "start_time": "2022-07-31T07:19:24.436Z"
   },
   {
    "duration": 4,
    "start_time": "2022-07-31T07:19:24.444Z"
   },
   {
    "duration": 6,
    "start_time": "2022-07-31T07:19:24.450Z"
   },
   {
    "duration": 5,
    "start_time": "2022-07-31T07:19:24.457Z"
   },
   {
    "duration": 6,
    "start_time": "2022-07-31T07:19:24.464Z"
   },
   {
    "duration": 20,
    "start_time": "2022-07-31T07:19:24.471Z"
   },
   {
    "duration": 4,
    "start_time": "2022-07-31T07:19:24.493Z"
   },
   {
    "duration": 7,
    "start_time": "2022-07-31T07:19:24.498Z"
   },
   {
    "duration": 13,
    "start_time": "2022-07-31T07:19:24.506Z"
   },
   {
    "duration": 9,
    "start_time": "2022-07-31T07:19:24.520Z"
   },
   {
    "duration": 5,
    "start_time": "2022-07-31T07:19:24.530Z"
   },
   {
    "duration": 8,
    "start_time": "2022-07-31T07:19:24.536Z"
   },
   {
    "duration": 5,
    "start_time": "2022-07-31T07:19:24.545Z"
   },
   {
    "duration": 50,
    "start_time": "2022-07-31T07:19:29.987Z"
   },
   {
    "duration": 14,
    "start_time": "2022-07-31T07:19:37.491Z"
   },
   {
    "duration": 13,
    "start_time": "2022-07-31T07:19:42.433Z"
   },
   {
    "duration": 54,
    "start_time": "2022-07-31T07:19:52.617Z"
   },
   {
    "duration": 15,
    "start_time": "2022-07-31T07:19:57.540Z"
   },
   {
    "duration": 14,
    "start_time": "2022-07-31T07:20:44.201Z"
   },
   {
    "duration": 34,
    "start_time": "2022-07-31T07:20:54.166Z"
   },
   {
    "duration": 11,
    "start_time": "2022-07-31T08:05:55.102Z"
   },
   {
    "duration": 15,
    "start_time": "2022-07-31T08:06:56.808Z"
   },
   {
    "duration": 37,
    "start_time": "2022-07-31T08:10:13.028Z"
   },
   {
    "duration": 22,
    "start_time": "2022-07-31T08:11:45.462Z"
   },
   {
    "duration": 60,
    "start_time": "2022-07-31T08:13:21.789Z"
   },
   {
    "duration": 67,
    "start_time": "2022-07-31T08:29:22.267Z"
   },
   {
    "duration": 49,
    "start_time": "2022-07-31T08:29:29.997Z"
   },
   {
    "duration": 52,
    "start_time": "2022-07-31T08:45:03.392Z"
   },
   {
    "duration": 63,
    "start_time": "2022-07-31T08:46:01.240Z"
   },
   {
    "duration": 40,
    "start_time": "2022-07-31T08:52:09.915Z"
   },
   {
    "duration": 56,
    "start_time": "2022-07-31T08:54:34.743Z"
   },
   {
    "duration": 49,
    "start_time": "2022-07-31T08:55:28.643Z"
   },
   {
    "duration": 45,
    "start_time": "2022-07-31T08:55:47.790Z"
   },
   {
    "duration": 56,
    "start_time": "2022-07-31T08:55:56.680Z"
   },
   {
    "duration": 11,
    "start_time": "2022-07-31T09:04:52.646Z"
   },
   {
    "duration": 19,
    "start_time": "2022-07-31T09:05:18.200Z"
   },
   {
    "duration": 88,
    "start_time": "2022-07-31T09:10:40.701Z"
   },
   {
    "duration": 20,
    "start_time": "2022-07-31T09:10:51.488Z"
   },
   {
    "duration": 16,
    "start_time": "2022-07-31T09:10:56.601Z"
   },
   {
    "duration": 28,
    "start_time": "2022-07-31T09:12:08.158Z"
   },
   {
    "duration": 17,
    "start_time": "2022-07-31T09:12:18.899Z"
   },
   {
    "duration": 30,
    "start_time": "2022-07-31T09:12:27.468Z"
   },
   {
    "duration": 14,
    "start_time": "2022-07-31T09:13:02.401Z"
   },
   {
    "duration": 16,
    "start_time": "2022-07-31T09:13:49.622Z"
   },
   {
    "duration": 17,
    "start_time": "2022-07-31T09:14:03.052Z"
   },
   {
    "duration": 11,
    "start_time": "2022-07-31T09:25:25.760Z"
   },
   {
    "duration": 17,
    "start_time": "2022-07-31T09:25:41.927Z"
   },
   {
    "duration": 17,
    "start_time": "2022-07-31T09:25:46.448Z"
   },
   {
    "duration": 25,
    "start_time": "2022-07-31T09:33:06.404Z"
   },
   {
    "duration": 15,
    "start_time": "2022-07-31T09:33:25.705Z"
   },
   {
    "duration": 9,
    "start_time": "2022-07-31T09:33:51.843Z"
   },
   {
    "duration": 9,
    "start_time": "2022-07-31T09:34:04.716Z"
   },
   {
    "duration": 10,
    "start_time": "2022-07-31T09:34:11.323Z"
   },
   {
    "duration": 9,
    "start_time": "2022-07-31T09:39:18.247Z"
   },
   {
    "duration": 465,
    "start_time": "2022-07-31T09:46:15.089Z"
   },
   {
    "duration": 41,
    "start_time": "2022-07-31T09:46:15.556Z"
   },
   {
    "duration": 33,
    "start_time": "2022-07-31T09:46:15.598Z"
   },
   {
    "duration": 16,
    "start_time": "2022-07-31T09:46:15.633Z"
   },
   {
    "duration": 18,
    "start_time": "2022-07-31T09:46:15.651Z"
   },
   {
    "duration": 38,
    "start_time": "2022-07-31T09:46:15.670Z"
   },
   {
    "duration": 26,
    "start_time": "2022-07-31T09:46:15.713Z"
   },
   {
    "duration": 8,
    "start_time": "2022-07-31T09:46:15.740Z"
   },
   {
    "duration": 2,
    "start_time": "2022-07-31T09:46:15.749Z"
   },
   {
    "duration": 7,
    "start_time": "2022-07-31T09:46:15.753Z"
   },
   {
    "duration": 5,
    "start_time": "2022-07-31T09:46:15.761Z"
   },
   {
    "duration": 8,
    "start_time": "2022-07-31T09:46:15.768Z"
   },
   {
    "duration": 49,
    "start_time": "2022-07-31T09:46:15.779Z"
   },
   {
    "duration": 6,
    "start_time": "2022-07-31T09:46:15.832Z"
   },
   {
    "duration": 12,
    "start_time": "2022-07-31T09:46:15.839Z"
   },
   {
    "duration": 9,
    "start_time": "2022-07-31T09:46:15.853Z"
   },
   {
    "duration": 4,
    "start_time": "2022-07-31T09:46:15.864Z"
   },
   {
    "duration": 46,
    "start_time": "2022-07-31T09:46:15.870Z"
   },
   {
    "duration": 5,
    "start_time": "2022-07-31T09:46:15.918Z"
   },
   {
    "duration": 7,
    "start_time": "2022-07-31T09:46:15.925Z"
   },
   {
    "duration": 7,
    "start_time": "2022-07-31T09:46:15.933Z"
   },
   {
    "duration": 5,
    "start_time": "2022-07-31T09:46:15.941Z"
   },
   {
    "duration": 6,
    "start_time": "2022-07-31T09:46:15.947Z"
   },
   {
    "duration": 12,
    "start_time": "2022-07-31T09:46:15.955Z"
   },
   {
    "duration": 8,
    "start_time": "2022-07-31T09:46:15.968Z"
   },
   {
    "duration": 41,
    "start_time": "2022-07-31T09:46:15.983Z"
   },
   {
    "duration": 5,
    "start_time": "2022-07-31T09:46:16.025Z"
   },
   {
    "duration": 7,
    "start_time": "2022-07-31T09:46:16.032Z"
   },
   {
    "duration": 11,
    "start_time": "2022-07-31T09:46:16.040Z"
   },
   {
    "duration": 8,
    "start_time": "2022-07-31T09:46:16.052Z"
   },
   {
    "duration": 5,
    "start_time": "2022-07-31T09:46:16.061Z"
   },
   {
    "duration": 4,
    "start_time": "2022-07-31T09:46:16.068Z"
   },
   {
    "duration": 47,
    "start_time": "2022-07-31T09:46:16.073Z"
   },
   {
    "duration": 4,
    "start_time": "2022-07-31T09:46:16.122Z"
   },
   {
    "duration": 4,
    "start_time": "2022-07-31T09:46:16.128Z"
   },
   {
    "duration": 7,
    "start_time": "2022-07-31T09:46:16.134Z"
   },
   {
    "duration": 7,
    "start_time": "2022-07-31T09:46:16.142Z"
   },
   {
    "duration": 9,
    "start_time": "2022-07-31T09:46:16.150Z"
   },
   {
    "duration": 5,
    "start_time": "2022-07-31T09:46:16.161Z"
   },
   {
    "duration": 4,
    "start_time": "2022-07-31T09:46:16.167Z"
   },
   {
    "duration": 50,
    "start_time": "2022-07-31T09:46:16.175Z"
   },
   {
    "duration": 4,
    "start_time": "2022-07-31T09:46:16.226Z"
   },
   {
    "duration": 5,
    "start_time": "2022-07-31T09:46:16.232Z"
   },
   {
    "duration": 8,
    "start_time": "2022-07-31T09:46:16.239Z"
   },
   {
    "duration": 9,
    "start_time": "2022-07-31T09:46:16.248Z"
   },
   {
    "duration": 10,
    "start_time": "2022-07-31T09:46:16.259Z"
   },
   {
    "duration": 30,
    "start_time": "2022-07-31T09:46:16.271Z"
   },
   {
    "duration": 8,
    "start_time": "2022-07-31T09:46:16.306Z"
   },
   {
    "duration": 6,
    "start_time": "2022-07-31T09:46:16.316Z"
   },
   {
    "duration": 4,
    "start_time": "2022-07-31T09:46:16.324Z"
   },
   {
    "duration": 5,
    "start_time": "2022-07-31T09:46:16.330Z"
   },
   {
    "duration": 5,
    "start_time": "2022-07-31T09:46:16.336Z"
   },
   {
    "duration": 5,
    "start_time": "2022-07-31T09:46:16.342Z"
   },
   {
    "duration": 11,
    "start_time": "2022-07-31T09:46:16.348Z"
   },
   {
    "duration": 9,
    "start_time": "2022-07-31T09:46:16.360Z"
   },
   {
    "duration": 19,
    "start_time": "2022-07-31T09:46:16.370Z"
   },
   {
    "duration": 37,
    "start_time": "2022-07-31T09:46:16.392Z"
   },
   {
    "duration": 6,
    "start_time": "2022-07-31T09:46:16.430Z"
   },
   {
    "duration": 5,
    "start_time": "2022-07-31T09:46:16.437Z"
   },
   {
    "duration": 5,
    "start_time": "2022-07-31T09:46:16.443Z"
   },
   {
    "duration": 13,
    "start_time": "2022-07-31T09:46:16.450Z"
   },
   {
    "duration": 5,
    "start_time": "2022-07-31T09:46:16.464Z"
   },
   {
    "duration": 51,
    "start_time": "2022-07-31T09:46:16.470Z"
   },
   {
    "duration": 8,
    "start_time": "2022-07-31T09:46:16.522Z"
   },
   {
    "duration": 8,
    "start_time": "2022-07-31T09:46:16.531Z"
   },
   {
    "duration": 5,
    "start_time": "2022-07-31T09:46:16.540Z"
   },
   {
    "duration": 7,
    "start_time": "2022-07-31T09:46:16.546Z"
   },
   {
    "duration": 7,
    "start_time": "2022-07-31T09:46:16.554Z"
   },
   {
    "duration": 6,
    "start_time": "2022-07-31T09:46:16.563Z"
   },
   {
    "duration": 47,
    "start_time": "2022-07-31T09:46:16.570Z"
   },
   {
    "duration": 6,
    "start_time": "2022-07-31T09:46:16.619Z"
   },
   {
    "duration": 38,
    "start_time": "2022-07-31T09:48:56.046Z"
   },
   {
    "duration": 26,
    "start_time": "2022-07-31T09:49:44.200Z"
   },
   {
    "duration": 1124,
    "start_time": "2022-07-31T09:57:13.134Z"
   },
   {
    "duration": 11,
    "start_time": "2022-07-31T09:57:47.394Z"
   },
   {
    "duration": 9,
    "start_time": "2022-07-31T10:18:15.039Z"
   },
   {
    "duration": 93,
    "start_time": "2022-07-31T10:18:27.255Z"
   },
   {
    "duration": 7,
    "start_time": "2022-07-31T10:18:40.141Z"
   },
   {
    "duration": 1113,
    "start_time": "2022-07-31T10:30:40.303Z"
   },
   {
    "duration": 13,
    "start_time": "2022-07-31T10:30:53.640Z"
   },
   {
    "duration": 10,
    "start_time": "2022-07-31T10:37:24.240Z"
   },
   {
    "duration": 15,
    "start_time": "2022-07-31T10:38:24.366Z"
   },
   {
    "duration": 15,
    "start_time": "2022-07-31T11:03:29.228Z"
   },
   {
    "duration": 8,
    "start_time": "2022-07-31T11:03:54.112Z"
   },
   {
    "duration": 20,
    "start_time": "2022-07-31T11:08:07.465Z"
   },
   {
    "duration": 20,
    "start_time": "2022-07-31T11:08:15.611Z"
   },
   {
    "duration": 28,
    "start_time": "2022-07-31T11:15:15.079Z"
   },
   {
    "duration": 9,
    "start_time": "2022-07-31T11:15:47.221Z"
   },
   {
    "duration": 7,
    "start_time": "2022-07-31T11:16:13.354Z"
   },
   {
    "duration": 7,
    "start_time": "2022-07-31T11:19:56.221Z"
   },
   {
    "duration": 8,
    "start_time": "2022-07-31T11:21:11.712Z"
   },
   {
    "duration": 11,
    "start_time": "2022-07-31T11:21:21.216Z"
   },
   {
    "duration": 14,
    "start_time": "2022-07-31T11:21:39.296Z"
   },
   {
    "duration": 7,
    "start_time": "2022-07-31T11:23:02.548Z"
   },
   {
    "duration": 9,
    "start_time": "2022-07-31T11:32:14.060Z"
   },
   {
    "duration": 12,
    "start_time": "2022-07-31T11:32:25.291Z"
   },
   {
    "duration": 1058,
    "start_time": "2022-07-31T11:32:37.461Z"
   },
   {
    "duration": 9,
    "start_time": "2022-07-31T11:32:53.946Z"
   },
   {
    "duration": 24,
    "start_time": "2022-07-31T11:33:02.966Z"
   },
   {
    "duration": 7,
    "start_time": "2022-07-31T11:33:05.452Z"
   },
   {
    "duration": 10,
    "start_time": "2022-07-31T11:33:08.220Z"
   },
   {
    "duration": 8,
    "start_time": "2022-07-31T11:35:45.052Z"
   },
   {
    "duration": 21,
    "start_time": "2022-07-31T11:42:50.615Z"
   },
   {
    "duration": 1412,
    "start_time": "2022-07-31T11:45:32.945Z"
   },
   {
    "duration": 23,
    "start_time": "2022-07-31T11:45:53.203Z"
   },
   {
    "duration": 18,
    "start_time": "2022-07-31T11:49:17.195Z"
   },
   {
    "duration": 8,
    "start_time": "2022-07-31T11:56:06.241Z"
   },
   {
    "duration": 7,
    "start_time": "2022-07-31T11:56:15.797Z"
   },
   {
    "duration": 8,
    "start_time": "2022-07-31T11:56:36.018Z"
   },
   {
    "duration": 25,
    "start_time": "2022-07-31T11:56:41.518Z"
   },
   {
    "duration": 27,
    "start_time": "2022-07-31T11:56:51.197Z"
   },
   {
    "duration": 6,
    "start_time": "2022-07-31T12:04:25.650Z"
   },
   {
    "duration": 5,
    "start_time": "2022-07-31T12:04:36.840Z"
   },
   {
    "duration": 8,
    "start_time": "2022-07-31T12:04:41.556Z"
   },
   {
    "duration": 7,
    "start_time": "2022-07-31T12:04:51.869Z"
   },
   {
    "duration": 7,
    "start_time": "2022-07-31T12:05:02.503Z"
   },
   {
    "duration": 3,
    "start_time": "2022-07-31T12:10:09.339Z"
   },
   {
    "duration": 14,
    "start_time": "2022-07-31T12:10:15.186Z"
   },
   {
    "duration": 74,
    "start_time": "2022-07-31T12:15:37.054Z"
   },
   {
    "duration": 11,
    "start_time": "2022-07-31T12:15:43.999Z"
   },
   {
    "duration": 6,
    "start_time": "2022-07-31T12:15:46.524Z"
   },
   {
    "duration": 3,
    "start_time": "2022-07-31T12:15:50.240Z"
   },
   {
    "duration": 6,
    "start_time": "2022-07-31T12:15:51.657Z"
   },
   {
    "duration": 7,
    "start_time": "2022-07-31T12:15:52.721Z"
   },
   {
    "duration": 10,
    "start_time": "2022-07-31T12:16:06.902Z"
   },
   {
    "duration": 9,
    "start_time": "2022-07-31T12:16:07.126Z"
   },
   {
    "duration": 4,
    "start_time": "2022-07-31T12:16:43.452Z"
   },
   {
    "duration": 20,
    "start_time": "2022-07-31T12:18:08.203Z"
   },
   {
    "duration": 11,
    "start_time": "2022-07-31T12:18:50.583Z"
   },
   {
    "duration": 3,
    "start_time": "2022-07-31T12:20:31.322Z"
   },
   {
    "duration": 23,
    "start_time": "2022-07-31T12:20:36.146Z"
   },
   {
    "duration": 38,
    "start_time": "2022-07-31T12:22:11.323Z"
   },
   {
    "duration": 10,
    "start_time": "2022-07-31T12:22:24.503Z"
   },
   {
    "duration": 6,
    "start_time": "2022-07-31T12:22:29.047Z"
   },
   {
    "duration": 9,
    "start_time": "2022-07-31T12:22:33.318Z"
   },
   {
    "duration": 7,
    "start_time": "2022-07-31T12:22:58.822Z"
   },
   {
    "duration": 10,
    "start_time": "2022-07-31T12:25:19.645Z"
   },
   {
    "duration": 8,
    "start_time": "2022-07-31T12:30:02.542Z"
   },
   {
    "duration": 6,
    "start_time": "2022-07-31T12:30:13.265Z"
   },
   {
    "duration": 11,
    "start_time": "2022-07-31T12:30:21.875Z"
   },
   {
    "duration": 33,
    "start_time": "2022-07-31T12:30:37.693Z"
   },
   {
    "duration": 72,
    "start_time": "2022-07-31T12:31:21.492Z"
   },
   {
    "duration": 12,
    "start_time": "2022-07-31T12:31:40.560Z"
   },
   {
    "duration": 33,
    "start_time": "2022-07-31T12:32:21.270Z"
   },
   {
    "duration": 36,
    "start_time": "2022-07-31T12:32:28.369Z"
   },
   {
    "duration": 6,
    "start_time": "2022-07-31T12:32:28.853Z"
   },
   {
    "duration": 10,
    "start_time": "2022-07-31T12:32:29.517Z"
   },
   {
    "duration": 11,
    "start_time": "2022-07-31T12:32:30.145Z"
   },
   {
    "duration": 17,
    "start_time": "2022-07-31T12:32:30.603Z"
   },
   {
    "duration": 10,
    "start_time": "2022-07-31T12:33:15.477Z"
   },
   {
    "duration": 9,
    "start_time": "2022-07-31T12:34:28.063Z"
   },
   {
    "duration": 27,
    "start_time": "2022-07-31T12:34:29.555Z"
   },
   {
    "duration": 6,
    "start_time": "2022-07-31T12:36:35.753Z"
   },
   {
    "duration": 7,
    "start_time": "2022-07-31T12:36:37.150Z"
   },
   {
    "duration": 12,
    "start_time": "2022-07-31T12:36:38.743Z"
   },
   {
    "duration": 8,
    "start_time": "2022-07-31T12:36:42.707Z"
   },
   {
    "duration": 30,
    "start_time": "2022-07-31T12:36:49.741Z"
   },
   {
    "duration": 48,
    "start_time": "2022-07-31T12:38:45.570Z"
   },
   {
    "duration": 16,
    "start_time": "2022-07-31T12:39:20.269Z"
   },
   {
    "duration": 3,
    "start_time": "2022-07-31T12:39:46.352Z"
   },
   {
    "duration": 5,
    "start_time": "2022-07-31T12:39:52.765Z"
   },
   {
    "duration": 24,
    "start_time": "2022-07-31T12:40:05.943Z"
   },
   {
    "duration": 22,
    "start_time": "2022-07-31T12:45:29.036Z"
   },
   {
    "duration": 24,
    "start_time": "2022-07-31T12:46:16.398Z"
   },
   {
    "duration": 9,
    "start_time": "2022-07-31T12:46:40.131Z"
   },
   {
    "duration": 69,
    "start_time": "2022-07-31T12:47:52.333Z"
   },
   {
    "duration": 34,
    "start_time": "2022-07-31T12:48:08.733Z"
   },
   {
    "duration": 20,
    "start_time": "2022-07-31T12:51:34.600Z"
   },
   {
    "duration": 9,
    "start_time": "2022-07-31T12:51:39.142Z"
   },
   {
    "duration": 62,
    "start_time": "2022-07-31T12:51:46.395Z"
   },
   {
    "duration": 14,
    "start_time": "2022-07-31T12:52:37.197Z"
   },
   {
    "duration": 15,
    "start_time": "2022-07-31T12:52:55.656Z"
   },
   {
    "duration": 44,
    "start_time": "2022-07-31T12:53:05.581Z"
   },
   {
    "duration": 36,
    "start_time": "2022-07-31T12:54:13.969Z"
   },
   {
    "duration": 22,
    "start_time": "2022-07-31T12:55:07.808Z"
   },
   {
    "duration": 9,
    "start_time": "2022-07-31T12:55:19.856Z"
   },
   {
    "duration": 31,
    "start_time": "2022-07-31T12:55:38.800Z"
   },
   {
    "duration": 5,
    "start_time": "2022-07-31T12:55:46.243Z"
   },
   {
    "duration": 18,
    "start_time": "2022-07-31T12:55:50.621Z"
   },
   {
    "duration": 14,
    "start_time": "2022-07-31T12:56:05.047Z"
   },
   {
    "duration": 8,
    "start_time": "2022-07-31T12:56:14.835Z"
   },
   {
    "duration": 16,
    "start_time": "2022-07-31T12:56:26.790Z"
   },
   {
    "duration": 14,
    "start_time": "2022-07-31T12:56:31.993Z"
   },
   {
    "duration": 13,
    "start_time": "2022-07-31T12:57:02.658Z"
   },
   {
    "duration": 19,
    "start_time": "2022-07-31T12:57:55.671Z"
   },
   {
    "duration": 12,
    "start_time": "2022-07-31T12:58:59.568Z"
   },
   {
    "duration": 21,
    "start_time": "2022-07-31T12:59:09.295Z"
   },
   {
    "duration": 23,
    "start_time": "2022-07-31T12:59:25.465Z"
   },
   {
    "duration": 114,
    "start_time": "2022-07-31T12:59:42.104Z"
   },
   {
    "duration": 17,
    "start_time": "2022-07-31T13:04:02.628Z"
   },
   {
    "duration": 90,
    "start_time": "2022-07-31T13:04:10.944Z"
   },
   {
    "duration": 23,
    "start_time": "2022-07-31T13:04:22.259Z"
   },
   {
    "duration": 3,
    "start_time": "2022-07-31T13:05:44.393Z"
   },
   {
    "duration": 6,
    "start_time": "2022-07-31T13:15:26.394Z"
   },
   {
    "duration": 20,
    "start_time": "2022-07-31T13:15:40.372Z"
   },
   {
    "duration": 10,
    "start_time": "2022-07-31T13:16:36.952Z"
   },
   {
    "duration": 44,
    "start_time": "2022-07-31T13:16:43.900Z"
   },
   {
    "duration": 19,
    "start_time": "2022-07-31T13:17:03.569Z"
   },
   {
    "duration": 14,
    "start_time": "2022-07-31T13:20:51.230Z"
   },
   {
    "duration": 22,
    "start_time": "2022-07-31T13:20:54.276Z"
   },
   {
    "duration": 7,
    "start_time": "2022-07-31T13:21:18.636Z"
   },
   {
    "duration": 140,
    "start_time": "2022-07-31T13:26:31.051Z"
   },
   {
    "duration": 155,
    "start_time": "2022-07-31T13:32:14.839Z"
   },
   {
    "duration": 22,
    "start_time": "2022-07-31T13:32:26.516Z"
   },
   {
    "duration": 23,
    "start_time": "2022-07-31T13:32:41.786Z"
   },
   {
    "duration": 191,
    "start_time": "2022-07-31T13:37:41.651Z"
   },
   {
    "duration": 10,
    "start_time": "2022-07-31T13:37:54.741Z"
   },
   {
    "duration": 28,
    "start_time": "2022-07-31T13:38:33.619Z"
   },
   {
    "duration": 12,
    "start_time": "2022-07-31T13:38:34.959Z"
   },
   {
    "duration": 16,
    "start_time": "2022-07-31T13:38:38.398Z"
   },
   {
    "duration": 8,
    "start_time": "2022-07-31T13:41:16.584Z"
   },
   {
    "duration": 10,
    "start_time": "2022-07-31T13:41:19.589Z"
   },
   {
    "duration": 7,
    "start_time": "2022-07-31T13:41:20.515Z"
   },
   {
    "duration": 9,
    "start_time": "2022-07-31T13:41:22.899Z"
   },
   {
    "duration": 9,
    "start_time": "2022-07-31T13:50:39.331Z"
   },
   {
    "duration": 14,
    "start_time": "2022-07-31T13:51:37.996Z"
   },
   {
    "duration": 7,
    "start_time": "2022-07-31T13:52:07.965Z"
   },
   {
    "duration": 9,
    "start_time": "2022-07-31T14:02:16.829Z"
   },
   {
    "duration": 20,
    "start_time": "2022-07-31T14:02:27.593Z"
   },
   {
    "duration": 14,
    "start_time": "2022-07-31T14:02:31.088Z"
   },
   {
    "duration": 22,
    "start_time": "2022-07-31T14:03:36.558Z"
   },
   {
    "duration": 10,
    "start_time": "2022-07-31T14:03:37.931Z"
   },
   {
    "duration": 4,
    "start_time": "2022-07-31T14:03:55.743Z"
   },
   {
    "duration": 48,
    "start_time": "2022-07-31T14:03:58.911Z"
   },
   {
    "duration": 27,
    "start_time": "2022-07-31T14:04:29.803Z"
   },
   {
    "duration": 7,
    "start_time": "2022-07-31T14:08:16.375Z"
   },
   {
    "duration": 12,
    "start_time": "2022-07-31T14:08:34.620Z"
   },
   {
    "duration": 14,
    "start_time": "2022-07-31T14:14:46.151Z"
   },
   {
    "duration": 7,
    "start_time": "2022-07-31T14:14:58.637Z"
   },
   {
    "duration": 5,
    "start_time": "2022-07-31T14:15:21.351Z"
   },
   {
    "duration": 9,
    "start_time": "2022-07-31T14:15:33.193Z"
   },
   {
    "duration": 156,
    "start_time": "2022-07-31T14:15:40.246Z"
   },
   {
    "duration": 6,
    "start_time": "2022-07-31T14:15:47.159Z"
   },
   {
    "duration": 64,
    "start_time": "2022-07-31T14:17:09.403Z"
   },
   {
    "duration": 88,
    "start_time": "2022-07-31T14:17:21.655Z"
   },
   {
    "duration": 11,
    "start_time": "2022-07-31T14:17:26.903Z"
   },
   {
    "duration": 10,
    "start_time": "2022-07-31T14:17:44.250Z"
   },
   {
    "duration": 10,
    "start_time": "2022-07-31T14:17:56.004Z"
   },
   {
    "duration": 15,
    "start_time": "2022-07-31T14:23:28.502Z"
   },
   {
    "duration": 6,
    "start_time": "2022-07-31T14:24:14.666Z"
   },
   {
    "duration": 10,
    "start_time": "2022-07-31T14:24:16.736Z"
   },
   {
    "duration": 10,
    "start_time": "2022-07-31T14:24:18.308Z"
   },
   {
    "duration": 6,
    "start_time": "2022-07-31T14:24:19.735Z"
   },
   {
    "duration": 13,
    "start_time": "2022-07-31T14:24:23.797Z"
   },
   {
    "duration": 8,
    "start_time": "2022-07-31T15:33:20.328Z"
   },
   {
    "duration": 6,
    "start_time": "2022-07-31T15:33:22.123Z"
   },
   {
    "duration": 11,
    "start_time": "2022-07-31T15:33:25.088Z"
   },
   {
    "duration": 6,
    "start_time": "2022-07-31T15:34:17.120Z"
   },
   {
    "duration": 9,
    "start_time": "2022-07-31T15:34:19.908Z"
   },
   {
    "duration": 16,
    "start_time": "2022-07-31T15:34:35.602Z"
   },
   {
    "duration": 7,
    "start_time": "2022-07-31T15:34:37.722Z"
   },
   {
    "duration": 8,
    "start_time": "2022-07-31T15:34:41.762Z"
   },
   {
    "duration": 17,
    "start_time": "2022-07-31T15:35:02.198Z"
   },
   {
    "duration": 12,
    "start_time": "2022-07-31T15:35:18.983Z"
   },
   {
    "duration": 11,
    "start_time": "2022-07-31T15:36:29.911Z"
   },
   {
    "duration": 6,
    "start_time": "2022-07-31T15:36:43.316Z"
   },
   {
    "duration": 17,
    "start_time": "2022-07-31T15:37:53.479Z"
   },
   {
    "duration": 7,
    "start_time": "2022-07-31T15:38:04.950Z"
   },
   {
    "duration": 441,
    "start_time": "2022-07-31T15:39:05.011Z"
   },
   {
    "duration": 28,
    "start_time": "2022-07-31T15:39:05.454Z"
   },
   {
    "duration": 53,
    "start_time": "2022-07-31T15:39:05.483Z"
   },
   {
    "duration": 34,
    "start_time": "2022-07-31T15:39:05.538Z"
   },
   {
    "duration": 56,
    "start_time": "2022-07-31T15:39:05.579Z"
   },
   {
    "duration": 84,
    "start_time": "2022-07-31T15:39:05.637Z"
   },
   {
    "duration": 19,
    "start_time": "2022-07-31T15:39:05.723Z"
   },
   {
    "duration": 17,
    "start_time": "2022-07-31T15:39:05.743Z"
   },
   {
    "duration": 65,
    "start_time": "2022-07-31T15:39:05.761Z"
   },
   {
    "duration": 34,
    "start_time": "2022-07-31T15:39:05.828Z"
   },
   {
    "duration": 45,
    "start_time": "2022-07-31T15:39:05.863Z"
   },
   {
    "duration": 43,
    "start_time": "2022-07-31T15:39:05.913Z"
   },
   {
    "duration": 66,
    "start_time": "2022-07-31T15:39:05.958Z"
   },
   {
    "duration": 7,
    "start_time": "2022-07-31T15:39:06.026Z"
   },
   {
    "duration": 41,
    "start_time": "2022-07-31T15:39:06.035Z"
   },
   {
    "duration": 9,
    "start_time": "2022-07-31T15:39:06.077Z"
   },
   {
    "duration": 46,
    "start_time": "2022-07-31T15:39:06.087Z"
   },
   {
    "duration": 13,
    "start_time": "2022-07-31T15:39:06.135Z"
   },
   {
    "duration": 15,
    "start_time": "2022-07-31T15:39:06.149Z"
   },
   {
    "duration": 80,
    "start_time": "2022-07-31T15:39:06.166Z"
   },
   {
    "duration": 36,
    "start_time": "2022-07-31T15:39:06.248Z"
   },
   {
    "duration": 51,
    "start_time": "2022-07-31T15:39:06.286Z"
   },
   {
    "duration": 23,
    "start_time": "2022-07-31T15:39:06.338Z"
   },
   {
    "duration": 60,
    "start_time": "2022-07-31T15:39:06.363Z"
   },
   {
    "duration": 35,
    "start_time": "2022-07-31T15:39:06.424Z"
   },
   {
    "duration": 56,
    "start_time": "2022-07-31T15:39:06.460Z"
   },
   {
    "duration": 24,
    "start_time": "2022-07-31T15:39:06.517Z"
   },
   {
    "duration": 25,
    "start_time": "2022-07-31T15:39:06.545Z"
   },
   {
    "duration": 67,
    "start_time": "2022-07-31T15:39:06.571Z"
   },
   {
    "duration": 28,
    "start_time": "2022-07-31T15:39:06.639Z"
   },
   {
    "duration": 49,
    "start_time": "2022-07-31T15:39:06.669Z"
   },
   {
    "duration": 30,
    "start_time": "2022-07-31T15:39:06.721Z"
   },
   {
    "duration": 46,
    "start_time": "2022-07-31T15:39:06.752Z"
   },
   {
    "duration": 53,
    "start_time": "2022-07-31T15:39:06.799Z"
   },
   {
    "duration": 75,
    "start_time": "2022-07-31T15:39:06.854Z"
   },
   {
    "duration": 10,
    "start_time": "2022-07-31T15:39:06.931Z"
   },
   {
    "duration": 27,
    "start_time": "2022-07-31T15:39:06.943Z"
   },
   {
    "duration": 80,
    "start_time": "2022-07-31T15:39:06.972Z"
   },
   {
    "duration": 12,
    "start_time": "2022-07-31T15:39:07.053Z"
   },
   {
    "duration": 55,
    "start_time": "2022-07-31T15:39:07.067Z"
   },
   {
    "duration": 36,
    "start_time": "2022-07-31T15:39:07.124Z"
   },
   {
    "duration": 67,
    "start_time": "2022-07-31T15:39:07.161Z"
   },
   {
    "duration": 40,
    "start_time": "2022-07-31T15:39:07.230Z"
   },
   {
    "duration": 58,
    "start_time": "2022-07-31T15:39:07.272Z"
   },
   {
    "duration": 17,
    "start_time": "2022-07-31T15:39:07.332Z"
   },
   {
    "duration": 8,
    "start_time": "2022-07-31T15:39:07.351Z"
   },
   {
    "duration": 55,
    "start_time": "2022-07-31T15:39:07.361Z"
   },
   {
    "duration": 17,
    "start_time": "2022-07-31T15:39:07.417Z"
   },
   {
    "duration": 7,
    "start_time": "2022-07-31T15:39:07.436Z"
   },
   {
    "duration": 17,
    "start_time": "2022-07-31T15:39:07.444Z"
   },
   {
    "duration": 12,
    "start_time": "2022-07-31T15:39:07.463Z"
   },
   {
    "duration": 2,
    "start_time": "2022-07-31T15:39:07.476Z"
   },
   {
    "duration": 3,
    "start_time": "2022-07-31T15:39:07.479Z"
   },
   {
    "duration": 44,
    "start_time": "2022-07-31T15:39:07.483Z"
   },
   {
    "duration": 14,
    "start_time": "2022-07-31T15:39:07.528Z"
   },
   {
    "duration": 8,
    "start_time": "2022-07-31T15:39:07.543Z"
   },
   {
    "duration": 5,
    "start_time": "2022-07-31T15:39:07.553Z"
   },
   {
    "duration": 12,
    "start_time": "2022-07-31T15:39:07.559Z"
   },
   {
    "duration": 65,
    "start_time": "2022-07-31T15:39:07.575Z"
   },
   {
    "duration": 12,
    "start_time": "2022-07-31T15:39:07.641Z"
   },
   {
    "duration": 5,
    "start_time": "2022-07-31T15:39:07.655Z"
   },
   {
    "duration": 13,
    "start_time": "2022-07-31T15:39:07.661Z"
   },
   {
    "duration": 40,
    "start_time": "2022-07-31T15:39:07.681Z"
   },
   {
    "duration": 6,
    "start_time": "2022-07-31T15:39:07.723Z"
   },
   {
    "duration": 17,
    "start_time": "2022-07-31T15:39:07.731Z"
   },
   {
    "duration": 8,
    "start_time": "2022-07-31T15:39:07.750Z"
   },
   {
    "duration": 7,
    "start_time": "2022-07-31T15:39:07.760Z"
   },
   {
    "duration": 17,
    "start_time": "2022-07-31T15:39:07.768Z"
   },
   {
    "duration": 35,
    "start_time": "2022-07-31T15:39:07.787Z"
   },
   {
    "duration": 11,
    "start_time": "2022-07-31T15:39:07.823Z"
   },
   {
    "duration": 11,
    "start_time": "2022-07-31T15:39:07.836Z"
   },
   {
    "duration": 5,
    "start_time": "2022-07-31T15:39:07.849Z"
   },
   {
    "duration": 8,
    "start_time": "2022-07-31T15:39:07.855Z"
   },
   {
    "duration": 6,
    "start_time": "2022-07-31T15:39:07.865Z"
   },
   {
    "duration": 56,
    "start_time": "2022-07-31T15:39:07.872Z"
   },
   {
    "duration": 14,
    "start_time": "2022-07-31T15:39:07.929Z"
   },
   {
    "duration": 12,
    "start_time": "2022-07-31T15:39:07.945Z"
   },
   {
    "duration": 14,
    "start_time": "2022-07-31T15:39:07.959Z"
   },
   {
    "duration": 64,
    "start_time": "2022-07-31T15:39:13.547Z"
   },
   {
    "duration": 39,
    "start_time": "2022-07-31T15:39:14.147Z"
   },
   {
    "duration": 20,
    "start_time": "2022-07-31T15:39:15.640Z"
   },
   {
    "duration": 11,
    "start_time": "2022-07-31T15:39:17.022Z"
   },
   {
    "duration": 13,
    "start_time": "2022-07-31T15:39:18.250Z"
   },
   {
    "duration": 18,
    "start_time": "2022-07-31T15:39:19.451Z"
   },
   {
    "duration": 7,
    "start_time": "2022-07-31T15:39:26.314Z"
   },
   {
    "duration": 10,
    "start_time": "2022-07-31T15:39:29.701Z"
   },
   {
    "duration": 21,
    "start_time": "2022-07-31T15:39:32.218Z"
   },
   {
    "duration": 25,
    "start_time": "2022-07-31T15:39:44.408Z"
   },
   {
    "duration": 6,
    "start_time": "2022-07-31T15:39:46.644Z"
   },
   {
    "duration": 37,
    "start_time": "2022-07-31T15:39:56.062Z"
   },
   {
    "duration": 8,
    "start_time": "2022-07-31T15:39:58.646Z"
   },
   {
    "duration": 10,
    "start_time": "2022-07-31T15:40:02.012Z"
   },
   {
    "duration": 40,
    "start_time": "2022-07-31T15:40:09.146Z"
   },
   {
    "duration": 3,
    "start_time": "2022-07-31T15:40:10.833Z"
   },
   {
    "duration": 10,
    "start_time": "2022-07-31T15:40:15.473Z"
   },
   {
    "duration": 16,
    "start_time": "2022-07-31T15:40:18.709Z"
   },
   {
    "duration": 12,
    "start_time": "2022-07-31T15:40:20.272Z"
   },
   {
    "duration": 7,
    "start_time": "2022-07-31T15:40:21.834Z"
   },
   {
    "duration": 9,
    "start_time": "2022-07-31T15:40:26.898Z"
   },
   {
    "duration": 8,
    "start_time": "2022-07-31T15:40:28.996Z"
   },
   {
    "duration": 7,
    "start_time": "2022-07-31T15:40:31.244Z"
   },
   {
    "duration": 1332,
    "start_time": "2022-07-31T15:40:35.018Z"
   },
   {
    "duration": 1222,
    "start_time": "2022-07-31T15:41:12.744Z"
   },
   {
    "duration": 5,
    "start_time": "2022-07-31T15:41:20.933Z"
   },
   {
    "duration": 5,
    "start_time": "2022-07-31T15:41:22.721Z"
   },
   {
    "duration": 10,
    "start_time": "2022-07-31T15:41:25.698Z"
   },
   {
    "duration": 15,
    "start_time": "2022-07-31T15:41:36.117Z"
   },
   {
    "duration": 6,
    "start_time": "2022-07-31T15:41:37.423Z"
   },
   {
    "duration": 9,
    "start_time": "2022-07-31T15:41:39.307Z"
   },
   {
    "duration": 15,
    "start_time": "2022-07-31T15:41:41.637Z"
   },
   {
    "duration": 6,
    "start_time": "2022-07-31T15:41:46.265Z"
   },
   {
    "duration": 10,
    "start_time": "2022-07-31T15:41:48.500Z"
   },
   {
    "duration": 4,
    "start_time": "2022-07-31T15:43:01.646Z"
   },
   {
    "duration": 13,
    "start_time": "2022-07-31T15:43:17.407Z"
   },
   {
    "duration": 6,
    "start_time": "2022-07-31T15:43:27.860Z"
   },
   {
    "duration": 15,
    "start_time": "2022-07-31T15:43:31.199Z"
   },
   {
    "duration": 9,
    "start_time": "2022-07-31T15:43:34.868Z"
   },
   {
    "duration": 9,
    "start_time": "2022-07-31T15:43:37.103Z"
   },
   {
    "duration": 14,
    "start_time": "2022-07-31T15:48:50.208Z"
   },
   {
    "duration": 4,
    "start_time": "2022-07-31T15:49:03.545Z"
   },
   {
    "duration": 16,
    "start_time": "2022-07-31T15:49:14.599Z"
   },
   {
    "duration": 10,
    "start_time": "2022-07-31T15:49:55.408Z"
   },
   {
    "duration": 18,
    "start_time": "2022-07-31T15:50:01.516Z"
   },
   {
    "duration": 6,
    "start_time": "2022-07-31T15:50:06.535Z"
   },
   {
    "duration": 28,
    "start_time": "2022-07-31T15:50:13.995Z"
   },
   {
    "duration": 7,
    "start_time": "2022-07-31T15:50:18.655Z"
   },
   {
    "duration": 7,
    "start_time": "2022-07-31T15:52:13.638Z"
   },
   {
    "duration": 448,
    "start_time": "2022-07-31T18:44:36.710Z"
   },
   {
    "duration": 45,
    "start_time": "2022-07-31T18:44:37.160Z"
   },
   {
    "duration": 11,
    "start_time": "2022-07-31T18:44:37.206Z"
   },
   {
    "duration": 17,
    "start_time": "2022-07-31T18:44:37.220Z"
   },
   {
    "duration": 20,
    "start_time": "2022-07-31T18:44:37.238Z"
   },
   {
    "duration": 78,
    "start_time": "2022-07-31T18:44:37.260Z"
   },
   {
    "duration": 16,
    "start_time": "2022-07-31T18:44:37.339Z"
   },
   {
    "duration": 6,
    "start_time": "2022-07-31T18:44:37.356Z"
   },
   {
    "duration": 32,
    "start_time": "2022-07-31T18:44:37.363Z"
   },
   {
    "duration": 40,
    "start_time": "2022-07-31T18:44:37.397Z"
   },
   {
    "duration": 8,
    "start_time": "2022-07-31T18:44:37.438Z"
   },
   {
    "duration": 20,
    "start_time": "2022-07-31T18:44:37.447Z"
   },
   {
    "duration": 11,
    "start_time": "2022-07-31T18:44:37.468Z"
   },
   {
    "duration": 25,
    "start_time": "2022-07-31T18:44:37.489Z"
   },
   {
    "duration": 32,
    "start_time": "2022-07-31T18:44:37.515Z"
   },
   {
    "duration": 2,
    "start_time": "2022-07-31T18:44:37.548Z"
   },
   {
    "duration": 7,
    "start_time": "2022-07-31T18:44:37.551Z"
   },
   {
    "duration": 9,
    "start_time": "2022-07-31T18:44:37.559Z"
   },
   {
    "duration": 47,
    "start_time": "2022-07-31T18:44:37.570Z"
   },
   {
    "duration": 12,
    "start_time": "2022-07-31T18:44:37.619Z"
   },
   {
    "duration": 6,
    "start_time": "2022-07-31T18:44:37.633Z"
   },
   {
    "duration": 8,
    "start_time": "2022-07-31T18:44:37.641Z"
   },
   {
    "duration": 2,
    "start_time": "2022-07-31T18:44:37.650Z"
   },
   {
    "duration": 7,
    "start_time": "2022-07-31T18:44:37.653Z"
   },
   {
    "duration": 9,
    "start_time": "2022-07-31T18:44:37.661Z"
   },
   {
    "duration": 8,
    "start_time": "2022-07-31T18:44:37.671Z"
   },
   {
    "duration": 42,
    "start_time": "2022-07-31T18:44:37.680Z"
   },
   {
    "duration": 5,
    "start_time": "2022-07-31T18:44:37.726Z"
   },
   {
    "duration": 9,
    "start_time": "2022-07-31T18:44:37.732Z"
   },
   {
    "duration": 5,
    "start_time": "2022-07-31T18:44:37.743Z"
   },
   {
    "duration": 7,
    "start_time": "2022-07-31T18:44:37.750Z"
   },
   {
    "duration": 7,
    "start_time": "2022-07-31T18:44:37.758Z"
   },
   {
    "duration": 5,
    "start_time": "2022-07-31T18:44:37.767Z"
   },
   {
    "duration": 34,
    "start_time": "2022-07-31T18:44:37.786Z"
   },
   {
    "duration": 8,
    "start_time": "2022-07-31T18:44:37.822Z"
   },
   {
    "duration": 4,
    "start_time": "2022-07-31T18:44:37.832Z"
   },
   {
    "duration": 8,
    "start_time": "2022-07-31T18:44:37.837Z"
   },
   {
    "duration": 9,
    "start_time": "2022-07-31T18:44:37.846Z"
   },
   {
    "duration": 4,
    "start_time": "2022-07-31T18:44:37.856Z"
   },
   {
    "duration": 6,
    "start_time": "2022-07-31T18:44:37.861Z"
   },
   {
    "duration": 7,
    "start_time": "2022-07-31T18:44:37.869Z"
   },
   {
    "duration": 41,
    "start_time": "2022-07-31T18:44:37.877Z"
   },
   {
    "duration": 4,
    "start_time": "2022-07-31T18:44:37.919Z"
   },
   {
    "duration": 4,
    "start_time": "2022-07-31T18:44:37.925Z"
   },
   {
    "duration": 13,
    "start_time": "2022-07-31T18:44:37.930Z"
   },
   {
    "duration": 8,
    "start_time": "2022-07-31T18:44:37.945Z"
   },
   {
    "duration": 6,
    "start_time": "2022-07-31T18:44:37.954Z"
   },
   {
    "duration": 4,
    "start_time": "2022-07-31T18:44:37.961Z"
   },
   {
    "duration": 4,
    "start_time": "2022-07-31T18:44:37.967Z"
   },
   {
    "duration": 48,
    "start_time": "2022-07-31T18:44:37.972Z"
   },
   {
    "duration": 8,
    "start_time": "2022-07-31T18:44:38.022Z"
   },
   {
    "duration": 8,
    "start_time": "2022-07-31T18:44:38.031Z"
   },
   {
    "duration": 5,
    "start_time": "2022-07-31T18:44:38.041Z"
   },
   {
    "duration": 5,
    "start_time": "2022-07-31T18:44:38.047Z"
   },
   {
    "duration": 5,
    "start_time": "2022-07-31T18:44:38.053Z"
   },
   {
    "duration": 6,
    "start_time": "2022-07-31T18:44:38.060Z"
   },
   {
    "duration": 22,
    "start_time": "2022-07-31T18:44:38.068Z"
   },
   {
    "duration": 30,
    "start_time": "2022-07-31T18:44:38.091Z"
   },
   {
    "duration": 7,
    "start_time": "2022-07-31T18:44:38.124Z"
   },
   {
    "duration": 6,
    "start_time": "2022-07-31T18:44:38.132Z"
   },
   {
    "duration": 5,
    "start_time": "2022-07-31T18:44:38.139Z"
   },
   {
    "duration": 4,
    "start_time": "2022-07-31T18:44:38.145Z"
   },
   {
    "duration": 7,
    "start_time": "2022-07-31T18:44:38.150Z"
   },
   {
    "duration": 9,
    "start_time": "2022-07-31T18:44:38.158Z"
   },
   {
    "duration": 5,
    "start_time": "2022-07-31T18:44:38.169Z"
   },
   {
    "duration": 37,
    "start_time": "2022-07-31T18:44:38.179Z"
   },
   {
    "duration": 5,
    "start_time": "2022-07-31T18:44:38.217Z"
   },
   {
    "duration": 7,
    "start_time": "2022-07-31T18:44:38.224Z"
   },
   {
    "duration": 5,
    "start_time": "2022-07-31T18:44:38.232Z"
   },
   {
    "duration": 6,
    "start_time": "2022-07-31T18:44:38.238Z"
   },
   {
    "duration": 4,
    "start_time": "2022-07-31T18:44:38.245Z"
   },
   {
    "duration": 4,
    "start_time": "2022-07-31T18:44:38.250Z"
   },
   {
    "duration": 5,
    "start_time": "2022-07-31T18:44:38.255Z"
   },
   {
    "duration": 7,
    "start_time": "2022-07-31T18:44:38.261Z"
   },
   {
    "duration": 15,
    "start_time": "2022-07-31T18:44:38.269Z"
   },
   {
    "duration": 33,
    "start_time": "2022-07-31T18:44:38.288Z"
   },
   {
    "duration": 10,
    "start_time": "2022-07-31T18:44:38.322Z"
   },
   {
    "duration": 6,
    "start_time": "2022-07-31T18:44:38.334Z"
   },
   {
    "duration": 49,
    "start_time": "2022-07-31T18:44:44.514Z"
   },
   {
    "duration": 17,
    "start_time": "2022-07-31T18:44:45.633Z"
   },
   {
    "duration": 8,
    "start_time": "2022-07-31T18:44:46.346Z"
   },
   {
    "duration": 13,
    "start_time": "2022-07-31T18:44:47.410Z"
   },
   {
    "duration": 23,
    "start_time": "2022-07-31T18:44:48.802Z"
   },
   {
    "duration": 61,
    "start_time": "2022-07-31T18:44:49.783Z"
   },
   {
    "duration": 21,
    "start_time": "2022-07-31T18:44:52.097Z"
   },
   {
    "duration": 23,
    "start_time": "2022-07-31T18:44:53.270Z"
   },
   {
    "duration": 7,
    "start_time": "2022-07-31T18:44:53.854Z"
   },
   {
    "duration": 45,
    "start_time": "2022-07-31T18:44:54.959Z"
   },
   {
    "duration": 11,
    "start_time": "2022-07-31T18:44:56.170Z"
   },
   {
    "duration": 20,
    "start_time": "2022-07-31T18:44:56.930Z"
   },
   {
    "duration": 9,
    "start_time": "2022-07-31T18:44:59.358Z"
   },
   {
    "duration": 6,
    "start_time": "2022-07-31T18:45:00.361Z"
   },
   {
    "duration": 49,
    "start_time": "2022-07-31T18:45:01.798Z"
   },
   {
    "duration": 2,
    "start_time": "2022-07-31T18:45:03.124Z"
   },
   {
    "duration": 6,
    "start_time": "2022-07-31T18:51:00.503Z"
   },
   {
    "duration": 9,
    "start_time": "2022-07-31T18:51:03.473Z"
   },
   {
    "duration": 7,
    "start_time": "2022-07-31T18:51:06.943Z"
   },
   {
    "duration": 6,
    "start_time": "2022-07-31T18:51:09.832Z"
   },
   {
    "duration": 12,
    "start_time": "2022-07-31T18:52:11.890Z"
   },
   {
    "duration": 25,
    "start_time": "2022-07-31T18:54:10.060Z"
   },
   {
    "duration": 24,
    "start_time": "2022-07-31T18:54:18.813Z"
   },
   {
    "duration": 33,
    "start_time": "2022-07-31T18:54:28.774Z"
   },
   {
    "duration": 20,
    "start_time": "2022-07-31T18:55:25.232Z"
   },
   {
    "duration": 77,
    "start_time": "2022-07-31T18:55:35.635Z"
   },
   {
    "duration": 90,
    "start_time": "2022-07-31T18:55:43.438Z"
   },
   {
    "duration": 34,
    "start_time": "2022-07-31T18:55:55.769Z"
   },
   {
    "duration": 39,
    "start_time": "2022-07-31T18:56:25.406Z"
   },
   {
    "duration": 12,
    "start_time": "2022-07-31T18:57:35.611Z"
   },
   {
    "duration": 1001,
    "start_time": "2022-07-31T18:59:09.643Z"
   },
   {
    "duration": 74,
    "start_time": "2022-07-31T19:00:22.640Z"
   },
   {
    "duration": 14,
    "start_time": "2022-07-31T19:26:00.816Z"
   },
   {
    "duration": 25,
    "start_time": "2022-07-31T19:26:02.808Z"
   },
   {
    "duration": 10,
    "start_time": "2022-07-31T19:26:10.962Z"
   },
   {
    "duration": 8,
    "start_time": "2022-07-31T19:27:02.446Z"
   },
   {
    "duration": 29,
    "start_time": "2022-07-31T19:44:08.368Z"
   },
   {
    "duration": 26,
    "start_time": "2022-07-31T19:44:25.864Z"
   },
   {
    "duration": 18,
    "start_time": "2022-07-31T19:44:37.042Z"
   },
   {
    "duration": 5,
    "start_time": "2022-07-31T19:57:44.642Z"
   },
   {
    "duration": 6,
    "start_time": "2022-07-31T19:57:47.696Z"
   },
   {
    "duration": 9,
    "start_time": "2022-07-31T19:58:44.292Z"
   },
   {
    "duration": 5,
    "start_time": "2022-07-31T19:58:59.366Z"
   },
   {
    "duration": 7,
    "start_time": "2022-07-31T19:59:43.016Z"
   },
   {
    "duration": 5,
    "start_time": "2022-07-31T19:59:44.413Z"
   },
   {
    "duration": 13,
    "start_time": "2022-07-31T19:59:49.571Z"
   },
   {
    "duration": 4,
    "start_time": "2022-07-31T19:59:52.753Z"
   },
   {
    "duration": 5,
    "start_time": "2022-07-31T19:59:54.513Z"
   },
   {
    "duration": 7,
    "start_time": "2022-07-31T20:00:04.014Z"
   },
   {
    "duration": 6,
    "start_time": "2022-07-31T20:00:08.014Z"
   },
   {
    "duration": 6,
    "start_time": "2022-07-31T20:03:00.505Z"
   },
   {
    "duration": 20,
    "start_time": "2022-07-31T20:03:22.970Z"
   },
   {
    "duration": 3,
    "start_time": "2022-07-31T20:03:25.623Z"
   },
   {
    "duration": 5,
    "start_time": "2022-07-31T20:03:39.700Z"
   },
   {
    "duration": 13,
    "start_time": "2022-07-31T20:03:41.470Z"
   },
   {
    "duration": 24,
    "start_time": "2022-07-31T20:04:03.670Z"
   },
   {
    "duration": 2033,
    "start_time": "2022-08-01T15:07:57.924Z"
   },
   {
    "duration": 28,
    "start_time": "2022-08-01T15:07:59.959Z"
   },
   {
    "duration": 8,
    "start_time": "2022-08-01T15:07:59.989Z"
   },
   {
    "duration": 30,
    "start_time": "2022-08-01T15:07:59.999Z"
   },
   {
    "duration": 26,
    "start_time": "2022-08-01T15:08:00.031Z"
   },
   {
    "duration": 62,
    "start_time": "2022-08-01T15:08:00.177Z"
   },
   {
    "duration": 20,
    "start_time": "2022-08-01T15:08:00.493Z"
   },
   {
    "duration": 8,
    "start_time": "2022-08-01T15:08:00.825Z"
   },
   {
    "duration": 8,
    "start_time": "2022-08-01T15:08:00.982Z"
   },
   {
    "duration": 27,
    "start_time": "2022-08-01T15:08:01.168Z"
   },
   {
    "duration": 7,
    "start_time": "2022-08-01T15:08:01.485Z"
   },
   {
    "duration": 27,
    "start_time": "2022-08-01T15:08:01.645Z"
   },
   {
    "duration": 10,
    "start_time": "2022-08-01T15:08:01.993Z"
   },
   {
    "duration": 8,
    "start_time": "2022-08-01T15:08:02.175Z"
   },
   {
    "duration": 36,
    "start_time": "2022-08-01T15:08:02.691Z"
   },
   {
    "duration": 3,
    "start_time": "2022-08-01T15:08:02.998Z"
   },
   {
    "duration": 3,
    "start_time": "2022-08-01T15:08:03.356Z"
   },
   {
    "duration": 6,
    "start_time": "2022-08-01T15:08:03.890Z"
   },
   {
    "duration": 11,
    "start_time": "2022-08-01T15:08:04.064Z"
   },
   {
    "duration": 8,
    "start_time": "2022-08-01T15:08:04.238Z"
   },
   {
    "duration": 6,
    "start_time": "2022-08-01T15:08:04.627Z"
   },
   {
    "duration": 4,
    "start_time": "2022-08-01T15:08:04.940Z"
   },
   {
    "duration": 3,
    "start_time": "2022-08-01T15:08:05.122Z"
   },
   {
    "duration": 7,
    "start_time": "2022-08-01T15:08:05.297Z"
   },
   {
    "duration": 8,
    "start_time": "2022-08-01T15:08:05.650Z"
   },
   {
    "duration": 8,
    "start_time": "2022-08-01T15:08:05.989Z"
   },
   {
    "duration": 5,
    "start_time": "2022-08-01T15:08:06.171Z"
   },
   {
    "duration": 8,
    "start_time": "2022-08-01T15:08:06.528Z"
   },
   {
    "duration": 4,
    "start_time": "2022-08-01T15:08:07.058Z"
   },
   {
    "duration": 6,
    "start_time": "2022-08-01T15:08:07.204Z"
   },
   {
    "duration": 8,
    "start_time": "2022-08-01T15:08:07.570Z"
   },
   {
    "duration": 7,
    "start_time": "2022-08-01T15:08:07.762Z"
   },
   {
    "duration": 2,
    "start_time": "2022-08-01T15:08:08.129Z"
   },
   {
    "duration": 8,
    "start_time": "2022-08-01T15:08:08.486Z"
   },
   {
    "duration": 4,
    "start_time": "2022-08-01T15:08:08.685Z"
   },
   {
    "duration": 8,
    "start_time": "2022-08-01T15:08:08.871Z"
   },
   {
    "duration": 7,
    "start_time": "2022-08-01T15:08:09.271Z"
   },
   {
    "duration": 7,
    "start_time": "2022-08-01T15:08:09.455Z"
   },
   {
    "duration": 3,
    "start_time": "2022-08-01T15:08:09.638Z"
   },
   {
    "duration": 41,
    "start_time": "2022-08-01T15:08:09.990Z"
   },
   {
    "duration": 29,
    "start_time": "2022-08-01T15:08:10.188Z"
   },
   {
    "duration": 2,
    "start_time": "2022-08-01T15:08:10.376Z"
   },
   {
    "duration": 2,
    "start_time": "2022-08-01T15:08:10.551Z"
   },
   {
    "duration": 2,
    "start_time": "2022-08-01T15:08:11.304Z"
   },
   {
    "duration": 2,
    "start_time": "2022-08-01T15:08:11.819Z"
   },
   {
    "duration": 2,
    "start_time": "2022-08-01T15:08:11.986Z"
   },
   {
    "duration": 3,
    "start_time": "2022-08-01T15:08:12.169Z"
   },
   {
    "duration": 3,
    "start_time": "2022-08-01T15:08:12.802Z"
   },
   {
    "duration": 58,
    "start_time": "2022-08-01T17:47:18.390Z"
   },
   {
    "duration": 58,
    "start_time": "2022-08-01T17:47:53.523Z"
   },
   {
    "duration": 8,
    "start_time": "2022-08-01T17:48:34.717Z"
   },
   {
    "duration": 57,
    "start_time": "2022-08-01T18:02:34.692Z"
   },
   {
    "duration": 23,
    "start_time": "2022-08-01T18:02:35.730Z"
   },
   {
    "duration": 11,
    "start_time": "2022-08-01T18:02:36.570Z"
   },
   {
    "duration": 17,
    "start_time": "2022-08-01T18:02:38.022Z"
   },
   {
    "duration": 33,
    "start_time": "2022-08-01T18:02:43.118Z"
   },
   {
    "duration": 4,
    "start_time": "2022-08-01T18:03:56.760Z"
   },
   {
    "duration": 146,
    "start_time": "2022-08-01T18:04:36.118Z"
   },
   {
    "duration": 30,
    "start_time": "2022-08-01T18:04:55.568Z"
   },
   {
    "duration": 88,
    "start_time": "2022-08-01T18:05:12.462Z"
   },
   {
    "duration": 69,
    "start_time": "2022-08-01T18:08:26.077Z"
   },
   {
    "duration": 66,
    "start_time": "2022-08-01T18:08:27.792Z"
   },
   {
    "duration": 4,
    "start_time": "2022-08-01T18:19:07.701Z"
   },
   {
    "duration": 16,
    "start_time": "2022-08-01T18:19:11.428Z"
   },
   {
    "duration": 12,
    "start_time": "2022-08-01T18:19:31.563Z"
   },
   {
    "duration": 3,
    "start_time": "2022-08-01T18:24:14.723Z"
   },
   {
    "duration": 9,
    "start_time": "2022-08-01T18:25:38.611Z"
   },
   {
    "duration": 11,
    "start_time": "2022-08-01T18:26:06.749Z"
   },
   {
    "duration": 11,
    "start_time": "2022-08-01T18:28:02.904Z"
   },
   {
    "duration": 15,
    "start_time": "2022-08-01T19:05:44.954Z"
   },
   {
    "duration": 43,
    "start_time": "2022-08-01T19:06:10.134Z"
   },
   {
    "duration": 22,
    "start_time": "2022-08-01T19:06:16.397Z"
   },
   {
    "duration": 1270,
    "start_time": "2022-08-01T19:14:03.422Z"
   },
   {
    "duration": 12,
    "start_time": "2022-08-01T19:14:16.024Z"
   },
   {
    "duration": 12,
    "start_time": "2022-08-01T19:14:23.326Z"
   },
   {
    "duration": 15,
    "start_time": "2022-08-01T19:15:24.201Z"
   },
   {
    "duration": 15,
    "start_time": "2022-08-01T19:15:41.042Z"
   },
   {
    "duration": 28,
    "start_time": "2022-08-01T19:19:51.611Z"
   },
   {
    "duration": 26,
    "start_time": "2022-08-01T19:24:09.193Z"
   },
   {
    "duration": 73,
    "start_time": "2022-08-01T19:28:51.306Z"
   },
   {
    "duration": 58,
    "start_time": "2022-08-01T19:31:31.557Z"
   },
   {
    "duration": 68,
    "start_time": "2022-08-01T19:31:34.730Z"
   },
   {
    "duration": 25,
    "start_time": "2022-08-01T19:31:45.657Z"
   },
   {
    "duration": 30,
    "start_time": "2022-08-01T19:50:03.027Z"
   },
   {
    "duration": 29,
    "start_time": "2022-08-01T19:50:09.166Z"
   },
   {
    "duration": 10,
    "start_time": "2022-08-01T19:50:13.198Z"
   },
   {
    "duration": 38,
    "start_time": "2022-08-01T19:50:14.047Z"
   },
   {
    "duration": 2,
    "start_time": "2022-08-01T19:58:49.468Z"
   },
   {
    "duration": 7,
    "start_time": "2022-08-01T19:58:53.967Z"
   },
   {
    "duration": 26,
    "start_time": "2022-08-01T19:58:54.717Z"
   },
   {
    "duration": 13,
    "start_time": "2022-08-01T19:59:56.166Z"
   },
   {
    "duration": 11,
    "start_time": "2022-08-01T20:00:06.843Z"
   },
   {
    "duration": 12,
    "start_time": "2022-08-01T20:00:44.612Z"
   },
   {
    "duration": 9,
    "start_time": "2022-08-01T20:01:16.185Z"
   },
   {
    "duration": 148,
    "start_time": "2022-08-01T20:01:40.715Z"
   },
   {
    "duration": 7,
    "start_time": "2022-08-01T20:01:47.771Z"
   },
   {
    "duration": 5,
    "start_time": "2022-08-01T20:04:31.494Z"
   },
   {
    "duration": 8,
    "start_time": "2022-08-01T20:04:35.989Z"
   },
   {
    "duration": 7,
    "start_time": "2022-08-01T20:04:39.189Z"
   },
   {
    "duration": 7,
    "start_time": "2022-08-01T20:04:42.084Z"
   },
   {
    "duration": 8,
    "start_time": "2022-08-01T20:04:44.522Z"
   },
   {
    "duration": 12,
    "start_time": "2022-08-01T20:05:54.477Z"
   },
   {
    "duration": 10,
    "start_time": "2022-08-01T20:06:11.496Z"
   },
   {
    "duration": 11,
    "start_time": "2022-08-01T20:12:04.111Z"
   },
   {
    "duration": 13,
    "start_time": "2022-08-01T20:12:09.761Z"
   },
   {
    "duration": 10,
    "start_time": "2022-08-01T20:12:32.922Z"
   },
   {
    "duration": 26,
    "start_time": "2022-08-01T20:13:47.820Z"
   },
   {
    "duration": 61,
    "start_time": "2022-08-01T20:18:24.146Z"
   },
   {
    "duration": 1642,
    "start_time": "2022-08-01T20:32:43.038Z"
   },
   {
    "duration": 16,
    "start_time": "2022-08-01T20:33:00.816Z"
   },
   {
    "duration": 17,
    "start_time": "2022-08-01T20:33:03.588Z"
   },
   {
    "duration": 20,
    "start_time": "2022-08-01T20:45:48.732Z"
   },
   {
    "duration": 11,
    "start_time": "2022-08-01T20:46:00.718Z"
   },
   {
    "duration": 56,
    "start_time": "2022-08-01T20:46:10.031Z"
   },
   {
    "duration": 5,
    "start_time": "2022-08-01T20:48:51.543Z"
   },
   {
    "duration": 11,
    "start_time": "2022-08-01T20:52:15.670Z"
   },
   {
    "duration": 15,
    "start_time": "2022-08-01T20:52:59.930Z"
   },
   {
    "duration": 1359,
    "start_time": "2022-08-01T20:53:14.586Z"
   },
   {
    "duration": 14,
    "start_time": "2022-08-01T20:53:31.933Z"
   },
   {
    "duration": 1332,
    "start_time": "2022-08-01T20:53:44.137Z"
   },
   {
    "duration": 18,
    "start_time": "2022-08-01T20:53:59.333Z"
   },
   {
    "duration": 12,
    "start_time": "2022-08-01T20:54:21.692Z"
   },
   {
    "duration": 26,
    "start_time": "2022-08-01T20:54:28.114Z"
   },
   {
    "duration": 0,
    "start_time": "2022-08-02T06:00:46.644Z"
   },
   {
    "duration": 0,
    "start_time": "2022-08-02T06:00:46.647Z"
   },
   {
    "duration": 0,
    "start_time": "2022-08-02T06:00:46.649Z"
   },
   {
    "duration": 0,
    "start_time": "2022-08-02T06:00:46.649Z"
   },
   {
    "duration": 0,
    "start_time": "2022-08-02T06:00:46.650Z"
   },
   {
    "duration": 1,
    "start_time": "2022-08-02T06:00:46.651Z"
   },
   {
    "duration": 0,
    "start_time": "2022-08-02T06:00:46.653Z"
   },
   {
    "duration": 0,
    "start_time": "2022-08-02T06:00:46.654Z"
   },
   {
    "duration": 30,
    "start_time": "2022-08-02T06:00:46.696Z"
   },
   {
    "duration": 0,
    "start_time": "2022-08-02T06:00:46.732Z"
   },
   {
    "duration": 0,
    "start_time": "2022-08-02T06:00:46.733Z"
   },
   {
    "duration": 0,
    "start_time": "2022-08-02T06:00:46.734Z"
   },
   {
    "duration": 0,
    "start_time": "2022-08-02T06:00:46.735Z"
   },
   {
    "duration": 2,
    "start_time": "2022-08-02T06:00:46.737Z"
   },
   {
    "duration": 8,
    "start_time": "2022-08-02T06:00:46.741Z"
   },
   {
    "duration": 0,
    "start_time": "2022-08-02T06:00:46.751Z"
   },
   {
    "duration": 8,
    "start_time": "2022-08-02T06:00:46.753Z"
   },
   {
    "duration": 0,
    "start_time": "2022-08-02T06:00:46.763Z"
   },
   {
    "duration": 0,
    "start_time": "2022-08-02T06:00:46.764Z"
   },
   {
    "duration": 0,
    "start_time": "2022-08-02T06:00:46.764Z"
   },
   {
    "duration": 0,
    "start_time": "2022-08-02T06:00:46.766Z"
   },
   {
    "duration": 0,
    "start_time": "2022-08-02T06:00:46.767Z"
   },
   {
    "duration": 0,
    "start_time": "2022-08-02T06:00:46.824Z"
   },
   {
    "duration": 0,
    "start_time": "2022-08-02T06:00:46.825Z"
   },
   {
    "duration": 0,
    "start_time": "2022-08-02T06:00:46.826Z"
   },
   {
    "duration": 0,
    "start_time": "2022-08-02T06:00:46.827Z"
   },
   {
    "duration": 0,
    "start_time": "2022-08-02T06:00:46.828Z"
   },
   {
    "duration": 0,
    "start_time": "2022-08-02T06:00:46.829Z"
   },
   {
    "duration": 0,
    "start_time": "2022-08-02T06:00:46.830Z"
   },
   {
    "duration": 0,
    "start_time": "2022-08-02T06:00:46.831Z"
   },
   {
    "duration": 1,
    "start_time": "2022-08-02T06:00:46.831Z"
   },
   {
    "duration": 0,
    "start_time": "2022-08-02T06:00:46.833Z"
   },
   {
    "duration": 0,
    "start_time": "2022-08-02T06:00:46.834Z"
   },
   {
    "duration": 6,
    "start_time": "2022-08-02T06:00:46.836Z"
   },
   {
    "duration": 0,
    "start_time": "2022-08-02T06:00:46.844Z"
   },
   {
    "duration": 0,
    "start_time": "2022-08-02T06:00:46.845Z"
   },
   {
    "duration": 0,
    "start_time": "2022-08-02T06:00:46.846Z"
   },
   {
    "duration": 0,
    "start_time": "2022-08-02T06:00:46.847Z"
   },
   {
    "duration": 0,
    "start_time": "2022-08-02T06:00:46.848Z"
   },
   {
    "duration": 0,
    "start_time": "2022-08-02T06:00:46.849Z"
   },
   {
    "duration": 6,
    "start_time": "2022-08-02T06:00:46.850Z"
   },
   {
    "duration": 68,
    "start_time": "2022-08-02T06:00:46.857Z"
   },
   {
    "duration": 0,
    "start_time": "2022-08-02T06:00:46.927Z"
   },
   {
    "duration": 0,
    "start_time": "2022-08-02T06:00:46.928Z"
   },
   {
    "duration": 0,
    "start_time": "2022-08-02T06:00:46.930Z"
   },
   {
    "duration": 0,
    "start_time": "2022-08-02T06:00:46.930Z"
   },
   {
    "duration": 0,
    "start_time": "2022-08-02T06:00:46.932Z"
   },
   {
    "duration": 0,
    "start_time": "2022-08-02T06:00:46.932Z"
   },
   {
    "duration": 0,
    "start_time": "2022-08-02T06:00:46.933Z"
   },
   {
    "duration": 6,
    "start_time": "2022-08-02T06:00:46.935Z"
   },
   {
    "duration": 0,
    "start_time": "2022-08-02T06:00:46.943Z"
   },
   {
    "duration": 0,
    "start_time": "2022-08-02T06:00:46.944Z"
   },
   {
    "duration": 0,
    "start_time": "2022-08-02T06:00:46.945Z"
   },
   {
    "duration": 1389,
    "start_time": "2022-08-02T06:00:47.740Z"
   },
   {
    "duration": 61,
    "start_time": "2022-08-02T06:00:49.131Z"
   },
   {
    "duration": 8,
    "start_time": "2022-08-02T06:00:49.193Z"
   },
   {
    "duration": 24,
    "start_time": "2022-08-02T06:00:49.203Z"
   },
   {
    "duration": 22,
    "start_time": "2022-08-02T06:00:49.229Z"
   },
   {
    "duration": 50,
    "start_time": "2022-08-02T06:00:49.252Z"
   },
   {
    "duration": 22,
    "start_time": "2022-08-02T06:00:49.324Z"
   },
   {
    "duration": 21,
    "start_time": "2022-08-02T06:00:49.348Z"
   },
   {
    "duration": 6,
    "start_time": "2022-08-02T06:00:49.371Z"
   },
   {
    "duration": 53,
    "start_time": "2022-08-02T06:00:49.380Z"
   },
   {
    "duration": 6,
    "start_time": "2022-08-02T06:00:49.434Z"
   },
   {
    "duration": 9,
    "start_time": "2022-08-02T06:00:49.441Z"
   },
   {
    "duration": 6,
    "start_time": "2022-08-02T06:00:49.452Z"
   },
   {
    "duration": 5,
    "start_time": "2022-08-02T06:00:49.459Z"
   },
   {
    "duration": 13,
    "start_time": "2022-08-02T06:00:49.465Z"
   },
   {
    "duration": 5,
    "start_time": "2022-08-02T06:00:49.480Z"
   },
   {
    "duration": 54,
    "start_time": "2022-08-02T06:00:49.486Z"
   },
   {
    "duration": 2,
    "start_time": "2022-08-02T06:00:49.542Z"
   },
   {
    "duration": 11,
    "start_time": "2022-08-02T06:00:49.545Z"
   },
   {
    "duration": 11,
    "start_time": "2022-08-02T06:00:49.557Z"
   },
   {
    "duration": 12,
    "start_time": "2022-08-02T06:00:49.569Z"
   },
   {
    "duration": 7,
    "start_time": "2022-08-02T06:00:49.582Z"
   },
   {
    "duration": 7,
    "start_time": "2022-08-02T06:00:49.590Z"
   },
   {
    "duration": 5,
    "start_time": "2022-08-02T06:00:49.598Z"
   },
   {
    "duration": 19,
    "start_time": "2022-08-02T06:00:49.605Z"
   },
   {
    "duration": 13,
    "start_time": "2022-08-02T06:00:49.625Z"
   },
   {
    "duration": 18,
    "start_time": "2022-08-02T06:00:49.639Z"
   },
   {
    "duration": 7,
    "start_time": "2022-08-02T06:00:49.661Z"
   },
   {
    "duration": 13,
    "start_time": "2022-08-02T06:00:49.669Z"
   },
   {
    "duration": 13,
    "start_time": "2022-08-02T06:00:49.684Z"
   },
   {
    "duration": 6,
    "start_time": "2022-08-02T06:00:49.699Z"
   },
   {
    "duration": 8,
    "start_time": "2022-08-02T06:00:49.706Z"
   },
   {
    "duration": 11,
    "start_time": "2022-08-02T06:00:49.716Z"
   },
   {
    "duration": 13,
    "start_time": "2022-08-02T06:00:49.728Z"
   },
   {
    "duration": 12,
    "start_time": "2022-08-02T06:00:49.742Z"
   },
   {
    "duration": 19,
    "start_time": "2022-08-02T06:00:49.756Z"
   },
   {
    "duration": 11,
    "start_time": "2022-08-02T06:00:49.776Z"
   },
   {
    "duration": 17,
    "start_time": "2022-08-02T06:00:49.789Z"
   },
   {
    "duration": 8,
    "start_time": "2022-08-02T06:00:49.807Z"
   },
   {
    "duration": 12,
    "start_time": "2022-08-02T06:00:49.817Z"
   },
   {
    "duration": 5,
    "start_time": "2022-08-02T06:00:49.831Z"
   },
   {
    "duration": 5,
    "start_time": "2022-08-02T06:00:49.838Z"
   },
   {
    "duration": 12,
    "start_time": "2022-08-02T06:00:49.845Z"
   },
   {
    "duration": 1907,
    "start_time": "2022-08-02T06:00:49.859Z"
   },
   {
    "duration": 8,
    "start_time": "2022-08-02T06:00:51.769Z"
   },
   {
    "duration": 12,
    "start_time": "2022-08-02T06:00:51.778Z"
   },
   {
    "duration": 11,
    "start_time": "2022-08-02T06:00:51.791Z"
   },
   {
    "duration": 23,
    "start_time": "2022-08-02T06:00:51.804Z"
   },
   {
    "duration": 47,
    "start_time": "2022-08-02T06:00:51.828Z"
   },
   {
    "duration": 24,
    "start_time": "2022-08-02T06:00:51.876Z"
   },
   {
    "duration": 3,
    "start_time": "2022-08-02T06:00:51.901Z"
   },
   {
    "duration": 18,
    "start_time": "2022-08-02T06:00:51.905Z"
   },
   {
    "duration": 2,
    "start_time": "2022-08-02T06:00:51.924Z"
   },
   {
    "duration": 5,
    "start_time": "2022-08-02T06:00:51.928Z"
   },
   {
    "duration": 7,
    "start_time": "2022-08-02T06:00:51.935Z"
   },
   {
    "duration": 6,
    "start_time": "2022-08-02T06:00:51.943Z"
   },
   {
    "duration": 13,
    "start_time": "2022-08-02T06:00:51.959Z"
   },
   {
    "duration": 15,
    "start_time": "2022-08-02T06:00:51.974Z"
   },
   {
    "duration": 13,
    "start_time": "2022-08-02T06:00:51.991Z"
   },
   {
    "duration": 11,
    "start_time": "2022-08-02T06:00:52.006Z"
   },
   {
    "duration": 10,
    "start_time": "2022-08-02T06:00:52.019Z"
   },
   {
    "duration": 7,
    "start_time": "2022-08-02T06:00:52.031Z"
   },
   {
    "duration": 9,
    "start_time": "2022-08-02T06:00:52.040Z"
   },
   {
    "duration": 10,
    "start_time": "2022-08-02T06:00:52.050Z"
   },
   {
    "duration": 7,
    "start_time": "2022-08-02T06:00:52.062Z"
   },
   {
    "duration": 8,
    "start_time": "2022-08-02T06:00:52.071Z"
   },
   {
    "duration": 8,
    "start_time": "2022-08-02T06:00:52.080Z"
   },
   {
    "duration": 10,
    "start_time": "2022-08-02T06:00:52.090Z"
   },
   {
    "duration": 16,
    "start_time": "2022-08-02T06:00:52.101Z"
   },
   {
    "duration": 21,
    "start_time": "2022-08-02T06:00:52.118Z"
   },
   {
    "duration": 15,
    "start_time": "2022-08-02T06:00:52.141Z"
   },
   {
    "duration": 10,
    "start_time": "2022-08-02T06:00:52.158Z"
   },
   {
    "duration": 7,
    "start_time": "2022-08-02T06:00:52.170Z"
   },
   {
    "duration": 12,
    "start_time": "2022-08-02T06:00:52.178Z"
   },
   {
    "duration": 16,
    "start_time": "2022-08-02T06:00:52.191Z"
   },
   {
    "duration": 13,
    "start_time": "2022-08-02T06:00:52.209Z"
   },
   {
    "duration": 16,
    "start_time": "2022-08-02T06:00:52.223Z"
   },
   {
    "duration": 9,
    "start_time": "2022-08-02T06:00:52.241Z"
   },
   {
    "duration": 9,
    "start_time": "2022-08-02T06:00:52.251Z"
   },
   {
    "duration": 9,
    "start_time": "2022-08-02T06:00:52.262Z"
   },
   {
    "duration": 13,
    "start_time": "2022-08-02T06:00:52.273Z"
   },
   {
    "duration": 8,
    "start_time": "2022-08-02T06:00:52.290Z"
   },
   {
    "duration": 5,
    "start_time": "2022-08-02T06:00:52.300Z"
   },
   {
    "duration": 6,
    "start_time": "2022-08-02T06:00:52.307Z"
   },
   {
    "duration": 9,
    "start_time": "2022-08-02T06:00:52.315Z"
   },
   {
    "duration": 11,
    "start_time": "2022-08-02T06:00:52.326Z"
   },
   {
    "duration": 11,
    "start_time": "2022-08-02T06:00:59.157Z"
   },
   {
    "duration": 3,
    "start_time": "2022-08-02T06:01:00.236Z"
   },
   {
    "duration": 16,
    "start_time": "2022-08-02T06:01:00.881Z"
   },
   {
    "duration": 4,
    "start_time": "2022-08-02T06:01:01.426Z"
   },
   {
    "duration": 1988,
    "start_time": "2022-08-02T06:01:02.010Z"
   },
   {
    "duration": 8,
    "start_time": "2022-08-02T06:01:07.009Z"
   },
   {
    "duration": 7,
    "start_time": "2022-08-02T06:01:08.350Z"
   },
   {
    "duration": 7,
    "start_time": "2022-08-02T06:01:26.950Z"
   },
   {
    "duration": 2,
    "start_time": "2022-08-02T06:01:27.489Z"
   },
   {
    "duration": 25,
    "start_time": "2022-08-02T06:01:55.750Z"
   },
   {
    "duration": 80,
    "start_time": "2022-08-02T06:31:28.373Z"
   },
   {
    "duration": 7,
    "start_time": "2022-08-02T06:31:43.439Z"
   },
   {
    "duration": 7,
    "start_time": "2022-08-02T06:31:45.324Z"
   },
   {
    "duration": 10,
    "start_time": "2022-08-02T06:31:48.025Z"
   },
   {
    "duration": 6,
    "start_time": "2022-08-02T06:31:50.470Z"
   },
   {
    "duration": 38,
    "start_time": "2022-08-02T06:31:52.260Z"
   },
   {
    "duration": 13,
    "start_time": "2022-08-02T06:53:55.861Z"
   },
   {
    "duration": 14,
    "start_time": "2022-08-02T06:55:07.138Z"
   },
   {
    "duration": 11,
    "start_time": "2022-08-02T07:01:04.711Z"
   },
   {
    "duration": 12,
    "start_time": "2022-08-02T07:01:11.676Z"
   },
   {
    "duration": 12,
    "start_time": "2022-08-02T07:04:28.030Z"
   },
   {
    "duration": 5,
    "start_time": "2022-08-02T07:04:39.221Z"
   },
   {
    "duration": 23,
    "start_time": "2022-08-02T07:04:47.150Z"
   },
   {
    "duration": 17,
    "start_time": "2022-08-02T07:05:12.689Z"
   },
   {
    "duration": 14,
    "start_time": "2022-08-02T07:13:54.049Z"
   },
   {
    "duration": 23,
    "start_time": "2022-08-02T07:14:11.673Z"
   },
   {
    "duration": 3,
    "start_time": "2022-08-02T07:14:21.676Z"
   },
   {
    "duration": 33,
    "start_time": "2022-08-02T07:15:55.112Z"
   },
   {
    "duration": 22,
    "start_time": "2022-08-02T07:16:06.216Z"
   },
   {
    "duration": 22,
    "start_time": "2022-08-02T07:43:02.643Z"
   },
   {
    "duration": 45,
    "start_time": "2022-08-02T07:43:27.659Z"
   },
   {
    "duration": 13,
    "start_time": "2022-08-02T07:43:36.144Z"
   },
   {
    "duration": 7,
    "start_time": "2022-08-02T07:45:49.941Z"
   },
   {
    "duration": 11,
    "start_time": "2022-08-02T07:46:00.575Z"
   },
   {
    "duration": 6,
    "start_time": "2022-08-02T07:52:45.570Z"
   },
   {
    "duration": 58,
    "start_time": "2022-08-02T07:53:18.788Z"
   },
   {
    "duration": 66,
    "start_time": "2022-08-02T07:53:39.380Z"
   },
   {
    "duration": 6,
    "start_time": "2022-08-02T07:53:54.362Z"
   },
   {
    "duration": 9,
    "start_time": "2022-08-02T07:54:18.080Z"
   },
   {
    "duration": 13,
    "start_time": "2022-08-02T07:54:50.474Z"
   },
   {
    "duration": 10,
    "start_time": "2022-08-02T07:54:57.137Z"
   },
   {
    "duration": 10,
    "start_time": "2022-08-02T08:22:57.765Z"
   },
   {
    "duration": 8,
    "start_time": "2022-08-02T08:23:19.043Z"
   },
   {
    "duration": 9,
    "start_time": "2022-08-02T08:23:25.288Z"
   },
   {
    "duration": 5,
    "start_time": "2022-08-02T08:25:06.551Z"
   },
   {
    "duration": 16,
    "start_time": "2022-08-02T08:30:11.177Z"
   },
   {
    "duration": 88,
    "start_time": "2022-08-02T08:30:55.843Z"
   },
   {
    "duration": 22,
    "start_time": "2022-08-02T08:31:01.580Z"
   },
   {
    "duration": 133,
    "start_time": "2022-08-02T09:20:30.171Z"
   },
   {
    "duration": 23,
    "start_time": "2022-08-02T09:20:40.630Z"
   },
   {
    "duration": 12,
    "start_time": "2022-08-02T09:21:26.440Z"
   },
   {
    "duration": 9,
    "start_time": "2022-08-02T09:22:26.887Z"
   },
   {
    "duration": 3,
    "start_time": "2022-08-02T09:24:59.661Z"
   },
   {
    "duration": 23,
    "start_time": "2022-08-02T10:19:16.768Z"
   },
   {
    "duration": 23,
    "start_time": "2022-08-02T10:27:42.672Z"
   },
   {
    "duration": 111,
    "start_time": "2022-08-02T10:31:40.390Z"
   },
   {
    "duration": 1,
    "start_time": "2022-08-02T10:31:50.285Z"
   },
   {
    "duration": 1237,
    "start_time": "2022-08-02T10:32:07.124Z"
   },
   {
    "duration": 23,
    "start_time": "2022-08-02T10:34:21.065Z"
   },
   {
    "duration": 21,
    "start_time": "2022-08-02T10:34:41.437Z"
   },
   {
    "duration": 27,
    "start_time": "2022-08-02T10:35:45.127Z"
   },
   {
    "duration": 24,
    "start_time": "2022-08-02T10:36:12.166Z"
   },
   {
    "duration": 10,
    "start_time": "2022-08-02T10:43:19.325Z"
   },
   {
    "duration": 9,
    "start_time": "2022-08-02T10:43:24.841Z"
   },
   {
    "duration": 4,
    "start_time": "2022-08-02T10:43:56.985Z"
   },
   {
    "duration": 7,
    "start_time": "2022-08-02T10:44:01.428Z"
   },
   {
    "duration": 8,
    "start_time": "2022-08-02T10:44:03.948Z"
   },
   {
    "duration": 7,
    "start_time": "2022-08-02T10:44:08.032Z"
   },
   {
    "duration": 7,
    "start_time": "2022-08-02T10:44:11.655Z"
   },
   {
    "duration": 10,
    "start_time": "2022-08-02T10:44:14.827Z"
   },
   {
    "duration": 10,
    "start_time": "2022-08-02T10:44:17.129Z"
   },
   {
    "duration": 10,
    "start_time": "2022-08-02T10:44:21.557Z"
   },
   {
    "duration": 4,
    "start_time": "2022-08-02T10:44:23.056Z"
   },
   {
    "duration": 17,
    "start_time": "2022-08-02T10:44:23.772Z"
   },
   {
    "duration": 4,
    "start_time": "2022-08-02T10:44:24.282Z"
   },
   {
    "duration": 2018,
    "start_time": "2022-08-02T10:44:24.756Z"
   },
   {
    "duration": 8,
    "start_time": "2022-08-02T10:44:26.776Z"
   },
   {
    "duration": 6,
    "start_time": "2022-08-02T10:44:30.756Z"
   },
   {
    "duration": 7,
    "start_time": "2022-08-02T10:44:31.230Z"
   },
   {
    "duration": 2,
    "start_time": "2022-08-02T10:44:31.761Z"
   },
   {
    "duration": 40,
    "start_time": "2022-08-02T10:44:33.291Z"
   },
   {
    "duration": 23,
    "start_time": "2022-08-02T10:44:37.829Z"
   },
   {
    "duration": 2,
    "start_time": "2022-08-02T10:44:38.327Z"
   },
   {
    "duration": 3,
    "start_time": "2022-08-02T10:44:45.977Z"
   },
   {
    "duration": 3,
    "start_time": "2022-08-02T10:44:48.623Z"
   },
   {
    "duration": 3,
    "start_time": "2022-08-02T10:44:48.789Z"
   },
   {
    "duration": 2,
    "start_time": "2022-08-02T10:44:48.941Z"
   },
   {
    "duration": 2,
    "start_time": "2022-08-02T10:44:49.129Z"
   },
   {
    "duration": 3,
    "start_time": "2022-08-02T10:44:49.630Z"
   },
   {
    "duration": 2,
    "start_time": "2022-08-02T10:44:49.761Z"
   },
   {
    "duration": 2,
    "start_time": "2022-08-02T10:44:49.959Z"
   },
   {
    "duration": 2,
    "start_time": "2022-08-02T10:44:50.439Z"
   },
   {
    "duration": 3,
    "start_time": "2022-08-02T10:44:50.629Z"
   },
   {
    "duration": 2,
    "start_time": "2022-08-02T10:44:50.774Z"
   },
   {
    "duration": 2,
    "start_time": "2022-08-02T10:44:50.955Z"
   },
   {
    "duration": 2,
    "start_time": "2022-08-02T10:44:51.331Z"
   },
   {
    "duration": 3,
    "start_time": "2022-08-02T10:44:51.666Z"
   },
   {
    "duration": 3,
    "start_time": "2022-08-02T10:44:52.356Z"
   },
   {
    "duration": 2,
    "start_time": "2022-08-02T10:44:52.677Z"
   },
   {
    "duration": 3,
    "start_time": "2022-08-02T10:44:53.223Z"
   },
   {
    "duration": 2,
    "start_time": "2022-08-02T10:44:53.369Z"
   },
   {
    "duration": 3,
    "start_time": "2022-08-02T10:44:53.572Z"
   },
   {
    "duration": 2,
    "start_time": "2022-08-02T10:44:53.828Z"
   },
   {
    "duration": 2,
    "start_time": "2022-08-02T10:44:54.029Z"
   },
   {
    "duration": 3,
    "start_time": "2022-08-02T10:44:54.356Z"
   },
   {
    "duration": 19,
    "start_time": "2022-08-02T10:44:54.732Z"
   },
   {
    "duration": 9,
    "start_time": "2022-08-02T10:45:01.631Z"
   },
   {
    "duration": 10,
    "start_time": "2022-08-02T10:45:08.690Z"
   },
   {
    "duration": 15,
    "start_time": "2022-08-02T10:45:11.327Z"
   },
   {
    "duration": 9,
    "start_time": "2022-08-02T10:45:14.574Z"
   },
   {
    "duration": 49,
    "start_time": "2022-08-03T09:25:08.340Z"
   },
   {
    "duration": 1559,
    "start_time": "2022-08-03T09:25:12.833Z"
   },
   {
    "duration": 74,
    "start_time": "2022-08-03T09:25:14.394Z"
   },
   {
    "duration": 8,
    "start_time": "2022-08-03T09:25:14.469Z"
   },
   {
    "duration": 20,
    "start_time": "2022-08-03T09:25:14.479Z"
   },
   {
    "duration": 20,
    "start_time": "2022-08-03T09:25:14.503Z"
   },
   {
    "duration": 52,
    "start_time": "2022-08-03T09:25:14.525Z"
   },
   {
    "duration": 39,
    "start_time": "2022-08-03T09:25:14.579Z"
   },
   {
    "duration": 22,
    "start_time": "2022-08-03T09:25:14.619Z"
   },
   {
    "duration": 7,
    "start_time": "2022-08-03T09:25:14.643Z"
   },
   {
    "duration": 55,
    "start_time": "2022-08-03T09:25:14.653Z"
   },
   {
    "duration": 5,
    "start_time": "2022-08-03T09:25:14.709Z"
   },
   {
    "duration": 9,
    "start_time": "2022-08-03T09:25:14.715Z"
   },
   {
    "duration": 8,
    "start_time": "2022-08-03T09:25:14.726Z"
   },
   {
    "duration": 5,
    "start_time": "2022-08-03T09:25:14.736Z"
   },
   {
    "duration": 12,
    "start_time": "2022-08-03T09:25:14.743Z"
   },
   {
    "duration": 5,
    "start_time": "2022-08-03T09:25:14.757Z"
   },
   {
    "duration": 64,
    "start_time": "2022-08-03T09:25:14.764Z"
   },
   {
    "duration": 2,
    "start_time": "2022-08-03T09:25:14.830Z"
   },
   {
    "duration": 12,
    "start_time": "2022-08-03T09:25:14.834Z"
   },
   {
    "duration": 10,
    "start_time": "2022-08-03T09:25:14.848Z"
   },
   {
    "duration": 14,
    "start_time": "2022-08-03T09:25:14.860Z"
   },
   {
    "duration": 11,
    "start_time": "2022-08-03T09:25:14.876Z"
   },
   {
    "duration": 17,
    "start_time": "2022-08-03T09:25:14.889Z"
   },
   {
    "duration": 5,
    "start_time": "2022-08-03T09:25:14.907Z"
   },
   {
    "duration": 4,
    "start_time": "2022-08-03T09:25:14.914Z"
   },
   {
    "duration": 7,
    "start_time": "2022-08-03T09:25:14.919Z"
   },
   {
    "duration": 11,
    "start_time": "2022-08-03T09:25:14.927Z"
   },
   {
    "duration": 8,
    "start_time": "2022-08-03T09:25:14.942Z"
   },
   {
    "duration": 3,
    "start_time": "2022-08-03T09:25:14.951Z"
   },
   {
    "duration": 8,
    "start_time": "2022-08-03T09:25:14.955Z"
   },
   {
    "duration": 39,
    "start_time": "2022-08-03T09:25:14.965Z"
   },
   {
    "duration": 10,
    "start_time": "2022-08-03T09:25:15.006Z"
   },
   {
    "duration": 22,
    "start_time": "2022-08-03T09:25:15.017Z"
   },
   {
    "duration": 15,
    "start_time": "2022-08-03T09:25:15.040Z"
   },
   {
    "duration": 9,
    "start_time": "2022-08-03T09:25:15.057Z"
   },
   {
    "duration": 12,
    "start_time": "2022-08-03T09:25:15.068Z"
   },
   {
    "duration": 5,
    "start_time": "2022-08-03T09:25:15.082Z"
   },
   {
    "duration": 15,
    "start_time": "2022-08-03T09:25:15.088Z"
   },
   {
    "duration": 8,
    "start_time": "2022-08-03T09:25:15.105Z"
   },
   {
    "duration": 16,
    "start_time": "2022-08-03T09:25:15.115Z"
   },
   {
    "duration": 10,
    "start_time": "2022-08-03T09:25:15.133Z"
   },
   {
    "duration": 11,
    "start_time": "2022-08-03T09:25:15.145Z"
   },
   {
    "duration": 6,
    "start_time": "2022-08-03T09:25:15.158Z"
   },
   {
    "duration": 40,
    "start_time": "2022-08-03T09:25:15.166Z"
   },
   {
    "duration": 11,
    "start_time": "2022-08-03T09:25:15.208Z"
   },
   {
    "duration": 2205,
    "start_time": "2022-08-03T09:25:15.221Z"
   },
   {
    "duration": 8,
    "start_time": "2022-08-03T09:25:17.428Z"
   },
   {
    "duration": 15,
    "start_time": "2022-08-03T09:25:17.439Z"
   },
   {
    "duration": 12,
    "start_time": "2022-08-03T09:25:17.456Z"
   },
   {
    "duration": 8,
    "start_time": "2022-08-03T09:25:17.469Z"
   },
   {
    "duration": 62,
    "start_time": "2022-08-03T09:25:17.479Z"
   },
   {
    "duration": 26,
    "start_time": "2022-08-03T09:25:17.543Z"
   },
   {
    "duration": 2,
    "start_time": "2022-08-03T09:25:17.571Z"
   },
   {
    "duration": 27,
    "start_time": "2022-08-03T09:25:17.575Z"
   },
   {
    "duration": 4,
    "start_time": "2022-08-03T09:25:17.605Z"
   },
   {
    "duration": 8,
    "start_time": "2022-08-03T09:25:17.610Z"
   },
   {
    "duration": 4,
    "start_time": "2022-08-03T09:25:17.620Z"
   },
   {
    "duration": 5,
    "start_time": "2022-08-03T09:25:17.626Z"
   },
   {
    "duration": 5,
    "start_time": "2022-08-03T09:25:17.633Z"
   },
   {
    "duration": 6,
    "start_time": "2022-08-03T09:25:17.639Z"
   },
   {
    "duration": 5,
    "start_time": "2022-08-03T09:25:17.646Z"
   },
   {
    "duration": 5,
    "start_time": "2022-08-03T09:25:17.653Z"
   },
   {
    "duration": 4,
    "start_time": "2022-08-03T09:25:17.660Z"
   },
   {
    "duration": 7,
    "start_time": "2022-08-03T09:25:17.666Z"
   },
   {
    "duration": 6,
    "start_time": "2022-08-03T09:25:17.674Z"
   },
   {
    "duration": 4,
    "start_time": "2022-08-03T09:25:17.682Z"
   },
   {
    "duration": 15,
    "start_time": "2022-08-03T09:25:17.688Z"
   },
   {
    "duration": 6,
    "start_time": "2022-08-03T09:25:17.704Z"
   },
   {
    "duration": 4,
    "start_time": "2022-08-03T09:25:17.712Z"
   },
   {
    "duration": 4,
    "start_time": "2022-08-03T09:25:17.718Z"
   },
   {
    "duration": 4,
    "start_time": "2022-08-03T09:25:17.724Z"
   },
   {
    "duration": 5,
    "start_time": "2022-08-03T09:25:17.729Z"
   },
   {
    "duration": 7,
    "start_time": "2022-08-03T09:25:17.735Z"
   },
   {
    "duration": 5,
    "start_time": "2022-08-03T09:25:17.743Z"
   },
   {
    "duration": 7,
    "start_time": "2022-08-03T09:25:17.750Z"
   },
   {
    "duration": 24,
    "start_time": "2022-08-03T09:25:17.758Z"
   },
   {
    "duration": 30,
    "start_time": "2022-08-03T09:25:17.783Z"
   },
   {
    "duration": 4,
    "start_time": "2022-08-03T09:25:17.814Z"
   },
   {
    "duration": 4,
    "start_time": "2022-08-03T09:25:17.820Z"
   },
   {
    "duration": 4,
    "start_time": "2022-08-03T09:25:17.825Z"
   },
   {
    "duration": 4,
    "start_time": "2022-08-03T09:25:17.831Z"
   },
   {
    "duration": 2,
    "start_time": "2022-08-03T09:25:17.839Z"
   },
   {
    "duration": 5,
    "start_time": "2022-08-03T09:25:17.843Z"
   },
   {
    "duration": 5,
    "start_time": "2022-08-03T09:25:17.849Z"
   },
   {
    "duration": 4,
    "start_time": "2022-08-03T09:25:17.856Z"
   },
   {
    "duration": 11,
    "start_time": "2022-08-03T09:25:17.862Z"
   },
   {
    "duration": 35,
    "start_time": "2022-08-03T09:25:17.874Z"
   },
   {
    "duration": 18,
    "start_time": "2022-08-03T09:25:17.911Z"
   },
   {
    "duration": 8,
    "start_time": "2022-08-03T09:25:17.930Z"
   },
   {
    "duration": 25,
    "start_time": "2022-08-03T09:25:17.940Z"
   },
   {
    "duration": 27,
    "start_time": "2022-08-03T09:27:50.330Z"
   },
   {
    "duration": 24,
    "start_time": "2022-08-03T09:27:54.586Z"
   },
   {
    "duration": 23,
    "start_time": "2022-08-03T09:29:30.297Z"
   },
   {
    "duration": 23,
    "start_time": "2022-08-03T09:31:21.907Z"
   },
   {
    "duration": 46,
    "start_time": "2022-08-09T12:51:23.338Z"
   },
   {
    "duration": 1581,
    "start_time": "2022-08-09T12:51:41.042Z"
   },
   {
    "duration": 58,
    "start_time": "2022-08-09T12:51:45.840Z"
   },
   {
    "duration": 58,
    "start_time": "2022-08-09T12:51:48.190Z"
   },
   {
    "duration": 14,
    "start_time": "2022-08-09T12:51:50.089Z"
   },
   {
    "duration": 13,
    "start_time": "2022-08-09T12:59:31.439Z"
   },
   {
    "duration": 4,
    "start_time": "2022-08-09T13:12:48.692Z"
   },
   {
    "duration": 7,
    "start_time": "2022-08-09T13:12:52.913Z"
   },
   {
    "duration": 74,
    "start_time": "2022-08-09T13:31:04.822Z"
   },
   {
    "duration": 9,
    "start_time": "2022-08-09T13:31:10.603Z"
   },
   {
    "duration": 9,
    "start_time": "2022-08-09T13:31:33.345Z"
   },
   {
    "duration": 7,
    "start_time": "2022-08-09T13:31:51.892Z"
   },
   {
    "duration": 9,
    "start_time": "2022-08-09T13:32:32.692Z"
   },
   {
    "duration": 6,
    "start_time": "2022-08-09T13:32:42.239Z"
   },
   {
    "duration": 69,
    "start_time": "2022-08-09T13:32:58.659Z"
   },
   {
    "duration": 6,
    "start_time": "2022-08-09T13:33:01.402Z"
   },
   {
    "duration": 6,
    "start_time": "2022-08-09T13:35:01.663Z"
   },
   {
    "duration": 13,
    "start_time": "2022-08-09T16:42:05.643Z"
   },
   {
    "duration": 22,
    "start_time": "2022-08-09T16:42:22.017Z"
   },
   {
    "duration": 799,
    "start_time": "2022-08-09T16:58:40.482Z"
   },
   {
    "duration": 12,
    "start_time": "2022-08-09T16:58:59.190Z"
   },
   {
    "duration": 8,
    "start_time": "2022-08-09T16:59:05.211Z"
   },
   {
    "duration": 3,
    "start_time": "2022-08-09T16:59:07.011Z"
   },
   {
    "duration": 3,
    "start_time": "2022-08-09T16:59:08.632Z"
   },
   {
    "duration": 6,
    "start_time": "2022-08-09T16:59:09.395Z"
   },
   {
    "duration": 7,
    "start_time": "2022-08-09T16:59:10.404Z"
   },
   {
    "duration": 3,
    "start_time": "2022-08-09T16:59:11.293Z"
   },
   {
    "duration": 9,
    "start_time": "2022-08-09T16:59:11.982Z"
   },
   {
    "duration": 6,
    "start_time": "2022-08-09T16:59:13.425Z"
   },
   {
    "duration": 55,
    "start_time": "2022-08-09T22:18:39.622Z"
   },
   {
    "duration": 38,
    "start_time": "2022-08-09T22:18:51.666Z"
   },
   {
    "duration": 19,
    "start_time": "2022-08-09T22:18:52.679Z"
   },
   {
    "duration": 8,
    "start_time": "2022-08-09T22:19:08.750Z"
   },
   {
    "duration": 16,
    "start_time": "2022-08-09T22:19:21.033Z"
   },
   {
    "duration": 16,
    "start_time": "2022-08-09T22:26:06.434Z"
   },
   {
    "duration": 57,
    "start_time": "2022-08-09T22:26:24.526Z"
   },
   {
    "duration": 57,
    "start_time": "2022-08-09T22:26:25.728Z"
   },
   {
    "duration": 14,
    "start_time": "2022-08-09T22:26:26.425Z"
   },
   {
    "duration": 16,
    "start_time": "2022-08-09T22:26:27.249Z"
   },
   {
    "duration": 14,
    "start_time": "2022-08-09T22:26:31.741Z"
   },
   {
    "duration": 25,
    "start_time": "2022-08-09T22:26:34.013Z"
   },
   {
    "duration": 35,
    "start_time": "2022-08-09T22:26:39.346Z"
   },
   {
    "duration": 90,
    "start_time": "2022-08-09T22:39:05.232Z"
   },
   {
    "duration": 109,
    "start_time": "2022-08-09T22:39:14.684Z"
   },
   {
    "duration": 76,
    "start_time": "2022-08-09T22:39:23.655Z"
   },
   {
    "duration": 14,
    "start_time": "2022-08-09T22:39:34.827Z"
   },
   {
    "duration": 19,
    "start_time": "2022-08-09T22:39:51.902Z"
   },
   {
    "duration": 4,
    "start_time": "2022-08-09T22:40:15.204Z"
   },
   {
    "duration": 12,
    "start_time": "2022-08-09T22:40:25.411Z"
   },
   {
    "duration": 72,
    "start_time": "2022-08-09T22:40:32.445Z"
   },
   {
    "duration": 24,
    "start_time": "2022-08-09T22:40:45.338Z"
   },
   {
    "duration": 27,
    "start_time": "2022-08-09T22:42:54.019Z"
   },
   {
    "duration": 54,
    "start_time": "2022-08-09T22:42:57.441Z"
   },
   {
    "duration": 20,
    "start_time": "2022-08-09T22:45:19.456Z"
   },
   {
    "duration": 19,
    "start_time": "2022-08-09T22:45:24.301Z"
   },
   {
    "duration": 52,
    "start_time": "2022-08-09T22:45:28.817Z"
   },
   {
    "duration": 20,
    "start_time": "2022-08-09T22:45:29.602Z"
   },
   {
    "duration": 17,
    "start_time": "2022-08-09T22:45:31.166Z"
   },
   {
    "duration": 7,
    "start_time": "2022-08-09T22:45:56.426Z"
   },
   {
    "duration": 4,
    "start_time": "2022-08-09T22:45:56.957Z"
   },
   {
    "duration": 8,
    "start_time": "2022-08-09T22:45:57.807Z"
   },
   {
    "duration": 17,
    "start_time": "2022-08-09T22:45:59.905Z"
   },
   {
    "duration": 7,
    "start_time": "2022-08-09T22:46:00.612Z"
   },
   {
    "duration": 4,
    "start_time": "2022-08-09T22:46:01.220Z"
   },
   {
    "duration": 8,
    "start_time": "2022-08-09T22:46:01.779Z"
   },
   {
    "duration": 7,
    "start_time": "2022-08-09T22:46:02.253Z"
   },
   {
    "duration": 2,
    "start_time": "2022-08-09T22:46:02.780Z"
   },
   {
    "duration": 10,
    "start_time": "2022-08-09T22:46:03.182Z"
   },
   {
    "duration": 8,
    "start_time": "2022-08-09T22:46:09.326Z"
   },
   {
    "duration": 56,
    "start_time": "2022-08-09T22:47:03.862Z"
   },
   {
    "duration": 14,
    "start_time": "2022-08-09T22:47:04.752Z"
   },
   {
    "duration": 15,
    "start_time": "2022-08-09T22:47:05.396Z"
   },
   {
    "duration": 1458,
    "start_time": "2022-08-09T22:47:33.312Z"
   },
   {
    "duration": 66,
    "start_time": "2022-08-09T22:47:34.772Z"
   },
   {
    "duration": 16,
    "start_time": "2022-08-09T22:47:34.839Z"
   },
   {
    "duration": 21,
    "start_time": "2022-08-09T22:47:34.856Z"
   },
   {
    "duration": 24,
    "start_time": "2022-08-09T22:47:34.879Z"
   },
   {
    "duration": 55,
    "start_time": "2022-08-09T22:47:34.905Z"
   },
   {
    "duration": 46,
    "start_time": "2022-08-09T22:47:34.962Z"
   },
   {
    "duration": 17,
    "start_time": "2022-08-09T22:47:35.010Z"
   },
   {
    "duration": 6,
    "start_time": "2022-08-09T22:47:35.028Z"
   },
   {
    "duration": 4,
    "start_time": "2022-08-09T22:47:35.037Z"
   },
   {
    "duration": 9,
    "start_time": "2022-08-09T22:47:35.043Z"
   },
   {
    "duration": 7,
    "start_time": "2022-08-09T22:47:35.053Z"
   },
   {
    "duration": 2,
    "start_time": "2022-08-09T22:47:35.093Z"
   },
   {
    "duration": 13,
    "start_time": "2022-08-09T22:47:35.097Z"
   },
   {
    "duration": 8,
    "start_time": "2022-08-09T22:47:35.111Z"
   },
   {
    "duration": 48,
    "start_time": "2022-08-09T22:47:35.120Z"
   },
   {
    "duration": 24,
    "start_time": "2022-08-09T22:47:35.170Z"
   },
   {
    "duration": 2,
    "start_time": "2022-08-09T22:47:35.196Z"
   },
   {
    "duration": 34,
    "start_time": "2022-08-09T22:47:35.200Z"
   },
   {
    "duration": 20,
    "start_time": "2022-08-09T22:47:35.236Z"
   },
   {
    "duration": 27,
    "start_time": "2022-08-09T22:47:35.258Z"
   },
   {
    "duration": 26,
    "start_time": "2022-08-09T22:47:35.287Z"
   },
   {
    "duration": 11,
    "start_time": "2022-08-09T22:47:35.314Z"
   },
   {
    "duration": 15,
    "start_time": "2022-08-09T22:47:35.327Z"
   },
   {
    "duration": 15,
    "start_time": "2022-08-09T22:47:35.344Z"
   },
   {
    "duration": 17,
    "start_time": "2022-08-09T22:47:35.361Z"
   },
   {
    "duration": 24,
    "start_time": "2022-08-09T22:47:35.380Z"
   },
   {
    "duration": 19,
    "start_time": "2022-08-09T22:47:35.408Z"
   },
   {
    "duration": 21,
    "start_time": "2022-08-09T22:47:35.429Z"
   },
   {
    "duration": 20,
    "start_time": "2022-08-09T22:47:35.451Z"
   },
   {
    "duration": 30,
    "start_time": "2022-08-09T22:47:35.472Z"
   },
   {
    "duration": 10,
    "start_time": "2022-08-09T22:47:35.504Z"
   },
   {
    "duration": 26,
    "start_time": "2022-08-09T22:47:35.515Z"
   },
   {
    "duration": 19,
    "start_time": "2022-08-09T22:47:35.543Z"
   },
   {
    "duration": 11,
    "start_time": "2022-08-09T22:47:35.564Z"
   },
   {
    "duration": 19,
    "start_time": "2022-08-09T22:47:35.577Z"
   },
   {
    "duration": 19,
    "start_time": "2022-08-09T22:47:35.598Z"
   },
   {
    "duration": 23,
    "start_time": "2022-08-09T22:47:35.619Z"
   },
   {
    "duration": 31,
    "start_time": "2022-08-09T22:47:35.644Z"
   },
   {
    "duration": 13,
    "start_time": "2022-08-09T22:47:35.677Z"
   },
   {
    "duration": 14,
    "start_time": "2022-08-09T22:47:35.692Z"
   },
   {
    "duration": 15,
    "start_time": "2022-08-09T22:47:35.708Z"
   },
   {
    "duration": 9,
    "start_time": "2022-08-09T22:47:35.725Z"
   },
   {
    "duration": 11,
    "start_time": "2022-08-09T22:47:35.736Z"
   },
   {
    "duration": 2162,
    "start_time": "2022-08-09T22:47:35.749Z"
   },
   {
    "duration": 8,
    "start_time": "2022-08-09T22:47:37.913Z"
   },
   {
    "duration": 13,
    "start_time": "2022-08-09T22:47:37.922Z"
   },
   {
    "duration": 11,
    "start_time": "2022-08-09T22:47:37.937Z"
   },
   {
    "duration": 6,
    "start_time": "2022-08-09T22:47:37.950Z"
   },
   {
    "duration": 52,
    "start_time": "2022-08-09T22:47:37.958Z"
   },
   {
    "duration": 25,
    "start_time": "2022-08-09T22:47:38.012Z"
   },
   {
    "duration": 2,
    "start_time": "2022-08-09T22:47:38.039Z"
   },
   {
    "duration": 8,
    "start_time": "2022-08-09T22:47:38.043Z"
   },
   {
    "duration": 6,
    "start_time": "2022-08-09T22:47:38.053Z"
   },
   {
    "duration": 5,
    "start_time": "2022-08-09T22:47:38.061Z"
   },
   {
    "duration": 26,
    "start_time": "2022-08-09T22:47:38.067Z"
   },
   {
    "duration": 8,
    "start_time": "2022-08-09T22:47:38.094Z"
   },
   {
    "duration": 6,
    "start_time": "2022-08-09T22:47:38.103Z"
   },
   {
    "duration": 7,
    "start_time": "2022-08-09T22:47:38.111Z"
   },
   {
    "duration": 5,
    "start_time": "2022-08-09T22:47:38.120Z"
   },
   {
    "duration": 6,
    "start_time": "2022-08-09T22:47:38.127Z"
   },
   {
    "duration": 5,
    "start_time": "2022-08-09T22:47:38.135Z"
   },
   {
    "duration": 8,
    "start_time": "2022-08-09T22:47:38.142Z"
   },
   {
    "duration": 5,
    "start_time": "2022-08-09T22:47:38.152Z"
   },
   {
    "duration": 5,
    "start_time": "2022-08-09T22:47:38.159Z"
   },
   {
    "duration": 5,
    "start_time": "2022-08-09T22:47:38.165Z"
   },
   {
    "duration": 4,
    "start_time": "2022-08-09T22:47:38.172Z"
   },
   {
    "duration": 17,
    "start_time": "2022-08-09T22:47:38.178Z"
   },
   {
    "duration": 9,
    "start_time": "2022-08-09T22:47:38.197Z"
   },
   {
    "duration": 10,
    "start_time": "2022-08-09T22:47:38.208Z"
   },
   {
    "duration": 7,
    "start_time": "2022-08-09T22:47:38.220Z"
   },
   {
    "duration": 5,
    "start_time": "2022-08-09T22:47:38.229Z"
   },
   {
    "duration": 5,
    "start_time": "2022-08-09T22:47:38.236Z"
   },
   {
    "duration": 6,
    "start_time": "2022-08-09T22:47:38.243Z"
   },
   {
    "duration": 22,
    "start_time": "2022-08-09T22:47:38.250Z"
   },
   {
    "duration": 6,
    "start_time": "2022-08-09T22:47:38.274Z"
   },
   {
    "duration": 21,
    "start_time": "2022-08-09T22:47:38.282Z"
   },
   {
    "duration": 6,
    "start_time": "2022-08-09T22:47:38.305Z"
   },
   {
    "duration": 5,
    "start_time": "2022-08-09T22:47:38.312Z"
   },
   {
    "duration": 7,
    "start_time": "2022-08-09T22:47:38.319Z"
   },
   {
    "duration": 8,
    "start_time": "2022-08-09T22:47:38.328Z"
   },
   {
    "duration": 3,
    "start_time": "2022-08-09T22:47:38.341Z"
   },
   {
    "duration": 7,
    "start_time": "2022-08-09T22:47:38.346Z"
   },
   {
    "duration": 10,
    "start_time": "2022-08-09T22:47:38.355Z"
   },
   {
    "duration": 8,
    "start_time": "2022-08-09T22:47:38.367Z"
   },
   {
    "duration": 27,
    "start_time": "2022-08-09T22:47:38.377Z"
   },
   {
    "duration": 8,
    "start_time": "2022-08-09T22:47:38.406Z"
   },
   {
    "duration": 27,
    "start_time": "2022-08-09T22:47:38.416Z"
   },
   {
    "duration": 25,
    "start_time": "2022-08-09T22:50:58.576Z"
   },
   {
    "duration": 99,
    "start_time": "2022-08-09T22:56:00.551Z"
   },
   {
    "duration": 3,
    "start_time": "2022-08-09T22:56:17.584Z"
   },
   {
    "duration": 73,
    "start_time": "2022-08-09T22:56:49.798Z"
   },
   {
    "duration": 75,
    "start_time": "2022-08-09T22:57:29.347Z"
   },
   {
    "duration": 2,
    "start_time": "2022-08-09T23:02:55.601Z"
   },
   {
    "duration": 18,
    "start_time": "2022-08-09T23:09:54.704Z"
   },
   {
    "duration": 16,
    "start_time": "2022-08-09T23:10:32.809Z"
   },
   {
    "duration": 90,
    "start_time": "2022-08-09T23:10:39.975Z"
   },
   {
    "duration": 56,
    "start_time": "2022-08-09T23:10:41.528Z"
   },
   {
    "duration": 14,
    "start_time": "2022-08-09T23:10:42.330Z"
   },
   {
    "duration": 15,
    "start_time": "2022-08-09T23:10:43.148Z"
   },
   {
    "duration": 15,
    "start_time": "2022-08-09T23:10:47.274Z"
   },
   {
    "duration": 19,
    "start_time": "2022-08-09T23:10:50.935Z"
   },
   {
    "duration": 54,
    "start_time": "2022-08-09T23:10:57.178Z"
   },
   {
    "duration": 22,
    "start_time": "2022-08-09T23:11:23.780Z"
   },
   {
    "duration": 1440,
    "start_time": "2022-08-09T23:11:34.631Z"
   },
   {
    "duration": 71,
    "start_time": "2022-08-09T23:11:36.073Z"
   },
   {
    "duration": 16,
    "start_time": "2022-08-09T23:11:36.146Z"
   },
   {
    "duration": 31,
    "start_time": "2022-08-09T23:11:36.164Z"
   },
   {
    "duration": 19,
    "start_time": "2022-08-09T23:11:36.197Z"
   },
   {
    "duration": 78,
    "start_time": "2022-08-09T23:11:36.217Z"
   },
   {
    "duration": 20,
    "start_time": "2022-08-09T23:11:36.297Z"
   },
   {
    "duration": 17,
    "start_time": "2022-08-09T23:11:36.319Z"
   },
   {
    "duration": 6,
    "start_time": "2022-08-09T23:11:36.338Z"
   },
   {
    "duration": 4,
    "start_time": "2022-08-09T23:11:36.348Z"
   },
   {
    "duration": 41,
    "start_time": "2022-08-09T23:11:36.354Z"
   },
   {
    "duration": 8,
    "start_time": "2022-08-09T23:11:36.396Z"
   },
   {
    "duration": 14,
    "start_time": "2022-08-09T23:11:36.405Z"
   },
   {
    "duration": 6,
    "start_time": "2022-08-09T23:11:36.421Z"
   },
   {
    "duration": 36,
    "start_time": "2022-08-09T23:11:36.428Z"
   },
   {
    "duration": 34,
    "start_time": "2022-08-09T23:11:36.466Z"
   },
   {
    "duration": 6,
    "start_time": "2022-08-09T23:11:36.502Z"
   },
   {
    "duration": 10,
    "start_time": "2022-08-09T23:11:36.510Z"
   },
   {
    "duration": 14,
    "start_time": "2022-08-09T23:11:36.522Z"
   },
   {
    "duration": 8,
    "start_time": "2022-08-09T23:11:36.538Z"
   },
   {
    "duration": 11,
    "start_time": "2022-08-09T23:11:36.547Z"
   },
   {
    "duration": 34,
    "start_time": "2022-08-09T23:11:36.559Z"
   },
   {
    "duration": 5,
    "start_time": "2022-08-09T23:11:36.595Z"
   },
   {
    "duration": 9,
    "start_time": "2022-08-09T23:11:36.601Z"
   },
   {
    "duration": 11,
    "start_time": "2022-08-09T23:11:36.611Z"
   },
   {
    "duration": 8,
    "start_time": "2022-08-09T23:11:36.623Z"
   },
   {
    "duration": 2,
    "start_time": "2022-08-09T23:11:36.633Z"
   },
   {
    "duration": 13,
    "start_time": "2022-08-09T23:11:36.639Z"
   },
   {
    "duration": 8,
    "start_time": "2022-08-09T23:11:36.654Z"
   },
   {
    "duration": 31,
    "start_time": "2022-08-09T23:11:36.664Z"
   },
   {
    "duration": 3,
    "start_time": "2022-08-09T23:11:36.697Z"
   },
   {
    "duration": 11,
    "start_time": "2022-08-09T23:11:36.702Z"
   },
   {
    "duration": 13,
    "start_time": "2022-08-09T23:11:36.715Z"
   },
   {
    "duration": 13,
    "start_time": "2022-08-09T23:11:36.729Z"
   },
   {
    "duration": 5,
    "start_time": "2022-08-09T23:11:36.743Z"
   },
   {
    "duration": 9,
    "start_time": "2022-08-09T23:11:36.750Z"
   },
   {
    "duration": 32,
    "start_time": "2022-08-09T23:11:36.761Z"
   },
   {
    "duration": 13,
    "start_time": "2022-08-09T23:11:36.795Z"
   },
   {
    "duration": 11,
    "start_time": "2022-08-09T23:11:36.810Z"
   },
   {
    "duration": 11,
    "start_time": "2022-08-09T23:11:36.823Z"
   },
   {
    "duration": 5,
    "start_time": "2022-08-09T23:11:36.836Z"
   },
   {
    "duration": 5,
    "start_time": "2022-08-09T23:11:36.843Z"
   },
   {
    "duration": 5,
    "start_time": "2022-08-09T23:11:36.849Z"
   },
   {
    "duration": 2096,
    "start_time": "2022-08-09T23:11:36.856Z"
   },
   {
    "duration": 8,
    "start_time": "2022-08-09T23:11:38.955Z"
   },
   {
    "duration": 28,
    "start_time": "2022-08-09T23:11:38.965Z"
   },
   {
    "duration": 10,
    "start_time": "2022-08-09T23:11:38.995Z"
   },
   {
    "duration": 6,
    "start_time": "2022-08-09T23:11:39.007Z"
   },
   {
    "duration": 32,
    "start_time": "2022-08-09T23:11:39.015Z"
   },
   {
    "duration": 24,
    "start_time": "2022-08-09T23:11:39.049Z"
   },
   {
    "duration": 2,
    "start_time": "2022-08-09T23:11:39.092Z"
   },
   {
    "duration": 5,
    "start_time": "2022-08-09T23:11:39.096Z"
   },
   {
    "duration": 5,
    "start_time": "2022-08-09T23:11:39.103Z"
   },
   {
    "duration": 5,
    "start_time": "2022-08-09T23:11:39.109Z"
   },
   {
    "duration": 8,
    "start_time": "2022-08-09T23:11:39.115Z"
   },
   {
    "duration": 5,
    "start_time": "2022-08-09T23:11:39.124Z"
   },
   {
    "duration": 7,
    "start_time": "2022-08-09T23:11:39.130Z"
   },
   {
    "duration": 8,
    "start_time": "2022-08-09T23:11:39.139Z"
   },
   {
    "duration": 5,
    "start_time": "2022-08-09T23:11:39.148Z"
   },
   {
    "duration": 5,
    "start_time": "2022-08-09T23:11:39.154Z"
   },
   {
    "duration": 5,
    "start_time": "2022-08-09T23:11:39.160Z"
   },
   {
    "duration": 25,
    "start_time": "2022-08-09T23:11:39.167Z"
   },
   {
    "duration": 3,
    "start_time": "2022-08-09T23:11:39.193Z"
   },
   {
    "duration": 3,
    "start_time": "2022-08-09T23:11:39.198Z"
   },
   {
    "duration": 6,
    "start_time": "2022-08-09T23:11:39.203Z"
   },
   {
    "duration": 5,
    "start_time": "2022-08-09T23:11:39.211Z"
   },
   {
    "duration": 4,
    "start_time": "2022-08-09T23:11:39.218Z"
   },
   {
    "duration": 5,
    "start_time": "2022-08-09T23:11:39.224Z"
   },
   {
    "duration": 4,
    "start_time": "2022-08-09T23:11:39.231Z"
   },
   {
    "duration": 6,
    "start_time": "2022-08-09T23:11:39.237Z"
   },
   {
    "duration": 6,
    "start_time": "2022-08-09T23:11:39.244Z"
   },
   {
    "duration": 5,
    "start_time": "2022-08-09T23:11:39.251Z"
   },
   {
    "duration": 5,
    "start_time": "2022-08-09T23:11:39.258Z"
   },
   {
    "duration": 44,
    "start_time": "2022-08-09T23:11:39.264Z"
   },
   {
    "duration": 3,
    "start_time": "2022-08-09T23:11:39.311Z"
   },
   {
    "duration": 3,
    "start_time": "2022-08-09T23:11:39.316Z"
   },
   {
    "duration": 8,
    "start_time": "2022-08-09T23:11:39.321Z"
   },
   {
    "duration": 10,
    "start_time": "2022-08-09T23:11:39.331Z"
   },
   {
    "duration": 9,
    "start_time": "2022-08-09T23:11:39.343Z"
   },
   {
    "duration": 6,
    "start_time": "2022-08-09T23:11:39.354Z"
   },
   {
    "duration": 8,
    "start_time": "2022-08-09T23:11:39.362Z"
   },
   {
    "duration": 2,
    "start_time": "2022-08-09T23:11:39.394Z"
   },
   {
    "duration": 11,
    "start_time": "2022-08-09T23:11:39.398Z"
   },
   {
    "duration": 11,
    "start_time": "2022-08-09T23:11:39.411Z"
   },
   {
    "duration": 23,
    "start_time": "2022-08-09T23:11:39.425Z"
   },
   {
    "duration": 9,
    "start_time": "2022-08-09T23:11:39.449Z"
   },
   {
    "duration": 57,
    "start_time": "2022-08-09T23:11:39.459Z"
   },
   {
    "duration": 1459,
    "start_time": "2022-08-09T23:18:30.948Z"
   },
   {
    "duration": 67,
    "start_time": "2022-08-09T23:18:32.411Z"
   },
   {
    "duration": 18,
    "start_time": "2022-08-09T23:18:32.479Z"
   },
   {
    "duration": 24,
    "start_time": "2022-08-09T23:18:32.499Z"
   },
   {
    "duration": 20,
    "start_time": "2022-08-09T23:18:32.524Z"
   },
   {
    "duration": 69,
    "start_time": "2022-08-09T23:18:32.546Z"
   },
   {
    "duration": 19,
    "start_time": "2022-08-09T23:18:32.617Z"
   },
   {
    "duration": 11,
    "start_time": "2022-08-09T23:18:32.638Z"
   },
   {
    "duration": 7,
    "start_time": "2022-08-09T23:18:32.651Z"
   },
   {
    "duration": 33,
    "start_time": "2022-08-09T23:18:32.660Z"
   },
   {
    "duration": 16,
    "start_time": "2022-08-09T23:18:32.695Z"
   },
   {
    "duration": 13,
    "start_time": "2022-08-09T23:18:32.712Z"
   },
   {
    "duration": 15,
    "start_time": "2022-08-09T23:18:32.727Z"
   },
   {
    "duration": 6,
    "start_time": "2022-08-09T23:18:32.744Z"
   },
   {
    "duration": 52,
    "start_time": "2022-08-09T23:18:32.751Z"
   },
   {
    "duration": 25,
    "start_time": "2022-08-09T23:18:32.805Z"
   },
   {
    "duration": 2,
    "start_time": "2022-08-09T23:18:32.832Z"
   },
   {
    "duration": 19,
    "start_time": "2022-08-09T23:18:32.836Z"
   },
   {
    "duration": 13,
    "start_time": "2022-08-09T23:18:32.857Z"
   },
   {
    "duration": 23,
    "start_time": "2022-08-09T23:18:32.872Z"
   },
   {
    "duration": 13,
    "start_time": "2022-08-09T23:18:32.897Z"
   },
   {
    "duration": 16,
    "start_time": "2022-08-09T23:18:32.912Z"
   },
   {
    "duration": 5,
    "start_time": "2022-08-09T23:18:32.930Z"
   },
   {
    "duration": 12,
    "start_time": "2022-08-09T23:18:32.937Z"
   },
   {
    "duration": 11,
    "start_time": "2022-08-09T23:18:32.951Z"
   },
   {
    "duration": 9,
    "start_time": "2022-08-09T23:18:32.963Z"
   },
   {
    "duration": 17,
    "start_time": "2022-08-09T23:18:32.974Z"
   },
   {
    "duration": 6,
    "start_time": "2022-08-09T23:18:32.996Z"
   },
   {
    "duration": 10,
    "start_time": "2022-08-09T23:18:33.004Z"
   },
   {
    "duration": 11,
    "start_time": "2022-08-09T23:18:33.015Z"
   },
   {
    "duration": 3,
    "start_time": "2022-08-09T23:18:33.028Z"
   },
   {
    "duration": 8,
    "start_time": "2022-08-09T23:18:33.033Z"
   },
   {
    "duration": 29,
    "start_time": "2022-08-09T23:18:33.043Z"
   },
   {
    "duration": 28,
    "start_time": "2022-08-09T23:18:33.074Z"
   },
   {
    "duration": 24,
    "start_time": "2022-08-09T23:18:33.104Z"
   },
   {
    "duration": 16,
    "start_time": "2022-08-09T23:18:33.130Z"
   },
   {
    "duration": 16,
    "start_time": "2022-08-09T23:18:33.148Z"
   },
   {
    "duration": 14,
    "start_time": "2022-08-09T23:18:33.166Z"
   },
   {
    "duration": 12,
    "start_time": "2022-08-09T23:18:33.182Z"
   },
   {
    "duration": 14,
    "start_time": "2022-08-09T23:18:33.196Z"
   },
   {
    "duration": 7,
    "start_time": "2022-08-09T23:18:33.212Z"
   },
   {
    "duration": 6,
    "start_time": "2022-08-09T23:18:33.220Z"
   },
   {
    "duration": 9,
    "start_time": "2022-08-09T23:18:33.228Z"
   },
   {
    "duration": 2161,
    "start_time": "2022-08-09T23:18:33.239Z"
   },
   {
    "duration": 8,
    "start_time": "2022-08-09T23:18:35.402Z"
   },
   {
    "duration": 10,
    "start_time": "2022-08-09T23:18:35.412Z"
   },
   {
    "duration": 14,
    "start_time": "2022-08-09T23:18:35.423Z"
   },
   {
    "duration": 6,
    "start_time": "2022-08-09T23:18:35.439Z"
   },
   {
    "duration": 60,
    "start_time": "2022-08-09T23:18:35.447Z"
   },
   {
    "duration": 27,
    "start_time": "2022-08-09T23:18:35.510Z"
   },
   {
    "duration": 3,
    "start_time": "2022-08-09T23:18:35.539Z"
   },
   {
    "duration": 10,
    "start_time": "2022-08-09T23:18:35.544Z"
   },
   {
    "duration": 9,
    "start_time": "2022-08-09T23:18:35.556Z"
   },
   {
    "duration": 5,
    "start_time": "2022-08-09T23:18:35.567Z"
   },
   {
    "duration": 3,
    "start_time": "2022-08-09T23:18:35.592Z"
   },
   {
    "duration": 5,
    "start_time": "2022-08-09T23:18:35.597Z"
   },
   {
    "duration": 8,
    "start_time": "2022-08-09T23:18:35.604Z"
   },
   {
    "duration": 7,
    "start_time": "2022-08-09T23:18:35.614Z"
   },
   {
    "duration": 6,
    "start_time": "2022-08-09T23:18:35.622Z"
   },
   {
    "duration": 11,
    "start_time": "2022-08-09T23:18:35.629Z"
   },
   {
    "duration": 8,
    "start_time": "2022-08-09T23:18:35.642Z"
   },
   {
    "duration": 10,
    "start_time": "2022-08-09T23:18:35.651Z"
   },
   {
    "duration": 7,
    "start_time": "2022-08-09T23:18:35.662Z"
   },
   {
    "duration": 6,
    "start_time": "2022-08-09T23:18:35.671Z"
   },
   {
    "duration": 13,
    "start_time": "2022-08-09T23:18:35.678Z"
   },
   {
    "duration": 10,
    "start_time": "2022-08-09T23:18:35.693Z"
   },
   {
    "duration": 16,
    "start_time": "2022-08-09T23:18:35.704Z"
   },
   {
    "duration": 10,
    "start_time": "2022-08-09T23:18:35.722Z"
   },
   {
    "duration": 11,
    "start_time": "2022-08-09T23:18:35.733Z"
   },
   {
    "duration": 19,
    "start_time": "2022-08-09T23:18:35.746Z"
   },
   {
    "duration": 5,
    "start_time": "2022-08-09T23:18:35.767Z"
   },
   {
    "duration": 6,
    "start_time": "2022-08-09T23:18:35.774Z"
   },
   {
    "duration": 5,
    "start_time": "2022-08-09T23:18:35.781Z"
   },
   {
    "duration": 21,
    "start_time": "2022-08-09T23:18:35.788Z"
   },
   {
    "duration": 5,
    "start_time": "2022-08-09T23:18:35.811Z"
   },
   {
    "duration": 7,
    "start_time": "2022-08-09T23:18:35.818Z"
   },
   {
    "duration": 9,
    "start_time": "2022-08-09T23:18:35.827Z"
   },
   {
    "duration": 7,
    "start_time": "2022-08-09T23:18:35.838Z"
   },
   {
    "duration": 12,
    "start_time": "2022-08-09T23:18:35.847Z"
   },
   {
    "duration": 11,
    "start_time": "2022-08-09T23:18:35.861Z"
   },
   {
    "duration": 7,
    "start_time": "2022-08-09T23:18:35.873Z"
   },
   {
    "duration": 7,
    "start_time": "2022-08-09T23:18:35.887Z"
   },
   {
    "duration": 13,
    "start_time": "2022-08-09T23:18:35.896Z"
   },
   {
    "duration": 10,
    "start_time": "2022-08-09T23:18:35.912Z"
   },
   {
    "duration": 18,
    "start_time": "2022-08-09T23:18:35.923Z"
   },
   {
    "duration": 9,
    "start_time": "2022-08-09T23:18:35.943Z"
   },
   {
    "duration": 63,
    "start_time": "2022-08-09T23:18:35.954Z"
   },
   {
    "duration": 2123,
    "start_time": "2022-08-11T11:45:53.903Z"
   },
   {
    "duration": 307,
    "start_time": "2022-08-11T11:45:56.092Z"
   },
   {
    "duration": 15,
    "start_time": "2022-08-11T11:45:56.401Z"
   },
   {
    "duration": 17,
    "start_time": "2022-08-11T11:45:56.492Z"
   },
   {
    "duration": 85,
    "start_time": "2022-08-11T11:45:56.510Z"
   },
   {
    "duration": 128,
    "start_time": "2022-08-11T11:45:56.597Z"
   },
   {
    "duration": 81,
    "start_time": "2022-08-11T11:45:56.727Z"
   },
   {
    "duration": 14,
    "start_time": "2022-08-11T11:45:56.810Z"
   },
   {
    "duration": 7,
    "start_time": "2022-08-11T11:45:56.826Z"
   },
   {
    "duration": 6,
    "start_time": "2022-08-11T11:45:56.891Z"
   },
   {
    "duration": 13,
    "start_time": "2022-08-11T11:45:56.899Z"
   },
   {
    "duration": 12,
    "start_time": "2022-08-11T11:45:56.914Z"
   },
   {
    "duration": 2478,
    "start_time": "2022-08-11T11:45:56.928Z"
   },
   {
    "duration": 0,
    "start_time": "2022-08-11T11:45:59.410Z"
   },
   {
    "duration": 0,
    "start_time": "2022-08-11T11:45:59.412Z"
   },
   {
    "duration": 0,
    "start_time": "2022-08-11T11:45:59.413Z"
   },
   {
    "duration": 0,
    "start_time": "2022-08-11T11:45:59.414Z"
   },
   {
    "duration": 0,
    "start_time": "2022-08-11T11:45:59.415Z"
   },
   {
    "duration": 0,
    "start_time": "2022-08-11T11:45:59.417Z"
   },
   {
    "duration": 0,
    "start_time": "2022-08-11T11:45:59.418Z"
   },
   {
    "duration": 0,
    "start_time": "2022-08-11T11:45:59.419Z"
   },
   {
    "duration": 0,
    "start_time": "2022-08-11T11:45:59.421Z"
   },
   {
    "duration": 0,
    "start_time": "2022-08-11T11:45:59.422Z"
   },
   {
    "duration": 0,
    "start_time": "2022-08-11T11:45:59.423Z"
   },
   {
    "duration": 0,
    "start_time": "2022-08-11T11:45:59.425Z"
   },
   {
    "duration": 0,
    "start_time": "2022-08-11T11:45:59.426Z"
   },
   {
    "duration": 0,
    "start_time": "2022-08-11T11:45:59.428Z"
   },
   {
    "duration": 0,
    "start_time": "2022-08-11T11:45:59.429Z"
   },
   {
    "duration": 0,
    "start_time": "2022-08-11T11:45:59.431Z"
   },
   {
    "duration": 0,
    "start_time": "2022-08-11T11:45:59.432Z"
   },
   {
    "duration": 0,
    "start_time": "2022-08-11T11:45:59.433Z"
   },
   {
    "duration": 0,
    "start_time": "2022-08-11T11:45:59.434Z"
   },
   {
    "duration": 0,
    "start_time": "2022-08-11T11:45:59.435Z"
   },
   {
    "duration": 0,
    "start_time": "2022-08-11T11:45:59.436Z"
   },
   {
    "duration": 0,
    "start_time": "2022-08-11T11:45:59.437Z"
   },
   {
    "duration": 0,
    "start_time": "2022-08-11T11:45:59.438Z"
   },
   {
    "duration": 0,
    "start_time": "2022-08-11T11:45:59.439Z"
   },
   {
    "duration": 0,
    "start_time": "2022-08-11T11:45:59.440Z"
   },
   {
    "duration": 0,
    "start_time": "2022-08-11T11:45:59.441Z"
   },
   {
    "duration": 0,
    "start_time": "2022-08-11T11:45:59.442Z"
   },
   {
    "duration": 0,
    "start_time": "2022-08-11T11:45:59.443Z"
   },
   {
    "duration": 0,
    "start_time": "2022-08-11T11:45:59.444Z"
   },
   {
    "duration": 0,
    "start_time": "2022-08-11T11:45:59.445Z"
   },
   {
    "duration": 0,
    "start_time": "2022-08-11T11:45:59.446Z"
   },
   {
    "duration": 0,
    "start_time": "2022-08-11T11:45:59.491Z"
   },
   {
    "duration": 0,
    "start_time": "2022-08-11T11:45:59.493Z"
   },
   {
    "duration": 0,
    "start_time": "2022-08-11T11:45:59.494Z"
   },
   {
    "duration": 0,
    "start_time": "2022-08-11T11:45:59.495Z"
   },
   {
    "duration": 0,
    "start_time": "2022-08-11T11:45:59.497Z"
   },
   {
    "duration": 0,
    "start_time": "2022-08-11T11:45:59.498Z"
   },
   {
    "duration": 0,
    "start_time": "2022-08-11T11:45:59.499Z"
   },
   {
    "duration": 0,
    "start_time": "2022-08-11T11:45:59.500Z"
   },
   {
    "duration": 0,
    "start_time": "2022-08-11T11:45:59.501Z"
   },
   {
    "duration": 0,
    "start_time": "2022-08-11T11:45:59.502Z"
   },
   {
    "duration": 0,
    "start_time": "2022-08-11T11:45:59.503Z"
   },
   {
    "duration": 0,
    "start_time": "2022-08-11T11:45:59.504Z"
   },
   {
    "duration": 0,
    "start_time": "2022-08-11T11:45:59.505Z"
   },
   {
    "duration": 0,
    "start_time": "2022-08-11T11:45:59.506Z"
   },
   {
    "duration": 0,
    "start_time": "2022-08-11T11:45:59.507Z"
   },
   {
    "duration": 0,
    "start_time": "2022-08-11T11:45:59.508Z"
   },
   {
    "duration": 0,
    "start_time": "2022-08-11T11:45:59.509Z"
   },
   {
    "duration": 0,
    "start_time": "2022-08-11T11:45:59.511Z"
   },
   {
    "duration": 0,
    "start_time": "2022-08-11T11:45:59.512Z"
   },
   {
    "duration": 1596,
    "start_time": "2022-08-11T11:47:00.960Z"
   },
   {
    "duration": 66,
    "start_time": "2022-08-11T11:47:02.558Z"
   },
   {
    "duration": 15,
    "start_time": "2022-08-11T11:47:02.625Z"
   },
   {
    "duration": 29,
    "start_time": "2022-08-11T11:47:02.643Z"
   },
   {
    "duration": 26,
    "start_time": "2022-08-11T11:47:02.674Z"
   },
   {
    "duration": 58,
    "start_time": "2022-08-11T11:47:02.702Z"
   },
   {
    "duration": 43,
    "start_time": "2022-08-11T11:47:02.762Z"
   },
   {
    "duration": 12,
    "start_time": "2022-08-11T11:47:02.806Z"
   },
   {
    "duration": 8,
    "start_time": "2022-08-11T11:47:02.819Z"
   },
   {
    "duration": 3,
    "start_time": "2022-08-11T11:47:02.830Z"
   },
   {
    "duration": 11,
    "start_time": "2022-08-11T11:47:02.835Z"
   },
   {
    "duration": 7,
    "start_time": "2022-08-11T11:47:02.848Z"
   },
   {
    "duration": 1928,
    "start_time": "2022-08-11T11:47:02.856Z"
   },
   {
    "duration": 0,
    "start_time": "2022-08-11T11:47:04.786Z"
   },
   {
    "duration": 0,
    "start_time": "2022-08-11T11:47:04.788Z"
   },
   {
    "duration": 0,
    "start_time": "2022-08-11T11:47:04.789Z"
   },
   {
    "duration": 0,
    "start_time": "2022-08-11T11:47:04.790Z"
   },
   {
    "duration": 0,
    "start_time": "2022-08-11T11:47:04.791Z"
   },
   {
    "duration": 0,
    "start_time": "2022-08-11T11:47:04.792Z"
   },
   {
    "duration": 0,
    "start_time": "2022-08-11T11:47:04.793Z"
   },
   {
    "duration": 0,
    "start_time": "2022-08-11T11:47:04.794Z"
   },
   {
    "duration": 0,
    "start_time": "2022-08-11T11:47:04.795Z"
   },
   {
    "duration": 0,
    "start_time": "2022-08-11T11:47:04.796Z"
   },
   {
    "duration": 0,
    "start_time": "2022-08-11T11:47:04.797Z"
   },
   {
    "duration": 0,
    "start_time": "2022-08-11T11:47:04.798Z"
   },
   {
    "duration": 0,
    "start_time": "2022-08-11T11:47:04.799Z"
   },
   {
    "duration": 0,
    "start_time": "2022-08-11T11:47:04.801Z"
   },
   {
    "duration": 0,
    "start_time": "2022-08-11T11:47:04.802Z"
   },
   {
    "duration": 0,
    "start_time": "2022-08-11T11:47:04.803Z"
   },
   {
    "duration": 0,
    "start_time": "2022-08-11T11:47:04.804Z"
   },
   {
    "duration": 0,
    "start_time": "2022-08-11T11:47:04.805Z"
   },
   {
    "duration": 0,
    "start_time": "2022-08-11T11:47:04.806Z"
   },
   {
    "duration": 0,
    "start_time": "2022-08-11T11:47:04.808Z"
   },
   {
    "duration": 0,
    "start_time": "2022-08-11T11:47:04.809Z"
   },
   {
    "duration": 0,
    "start_time": "2022-08-11T11:47:04.810Z"
   },
   {
    "duration": 0,
    "start_time": "2022-08-11T11:47:04.811Z"
   },
   {
    "duration": 0,
    "start_time": "2022-08-11T11:47:04.812Z"
   },
   {
    "duration": 0,
    "start_time": "2022-08-11T11:47:04.813Z"
   },
   {
    "duration": 0,
    "start_time": "2022-08-11T11:47:04.814Z"
   },
   {
    "duration": 0,
    "start_time": "2022-08-11T11:47:04.815Z"
   },
   {
    "duration": 0,
    "start_time": "2022-08-11T11:47:04.816Z"
   },
   {
    "duration": 0,
    "start_time": "2022-08-11T11:47:04.817Z"
   },
   {
    "duration": 0,
    "start_time": "2022-08-11T11:47:04.818Z"
   },
   {
    "duration": 0,
    "start_time": "2022-08-11T11:47:04.819Z"
   },
   {
    "duration": 0,
    "start_time": "2022-08-11T11:47:04.820Z"
   },
   {
    "duration": 0,
    "start_time": "2022-08-11T11:47:04.821Z"
   },
   {
    "duration": 0,
    "start_time": "2022-08-11T11:47:04.822Z"
   },
   {
    "duration": 0,
    "start_time": "2022-08-11T11:47:04.823Z"
   },
   {
    "duration": 0,
    "start_time": "2022-08-11T11:47:04.824Z"
   },
   {
    "duration": 0,
    "start_time": "2022-08-11T11:47:04.825Z"
   },
   {
    "duration": 0,
    "start_time": "2022-08-11T11:47:04.826Z"
   },
   {
    "duration": 0,
    "start_time": "2022-08-11T11:47:04.827Z"
   },
   {
    "duration": 0,
    "start_time": "2022-08-11T11:47:04.828Z"
   },
   {
    "duration": 0,
    "start_time": "2022-08-11T11:47:04.829Z"
   },
   {
    "duration": 0,
    "start_time": "2022-08-11T11:47:04.892Z"
   },
   {
    "duration": 0,
    "start_time": "2022-08-11T11:47:04.892Z"
   },
   {
    "duration": 0,
    "start_time": "2022-08-11T11:47:04.893Z"
   },
   {
    "duration": 1,
    "start_time": "2022-08-11T11:47:04.894Z"
   },
   {
    "duration": 0,
    "start_time": "2022-08-11T11:47:04.895Z"
   },
   {
    "duration": 0,
    "start_time": "2022-08-11T11:47:04.896Z"
   },
   {
    "duration": 0,
    "start_time": "2022-08-11T11:47:04.897Z"
   },
   {
    "duration": 0,
    "start_time": "2022-08-11T11:47:04.898Z"
   },
   {
    "duration": 0,
    "start_time": "2022-08-11T11:47:04.900Z"
   },
   {
    "duration": 47,
    "start_time": "2022-08-11T15:00:30.215Z"
   },
   {
    "duration": 1820,
    "start_time": "2022-08-11T15:00:34.032Z"
   },
   {
    "duration": 57,
    "start_time": "2022-08-11T15:00:35.854Z"
   },
   {
    "duration": 16,
    "start_time": "2022-08-11T15:00:35.913Z"
   },
   {
    "duration": 14,
    "start_time": "2022-08-11T15:00:35.964Z"
   },
   {
    "duration": 10,
    "start_time": "2022-08-11T15:01:10.157Z"
   },
   {
    "duration": 7,
    "start_time": "2022-08-11T15:01:10.693Z"
   },
   {
    "duration": 4,
    "start_time": "2022-08-11T15:01:11.351Z"
   },
   {
    "duration": 6,
    "start_time": "2022-08-11T15:01:11.774Z"
   },
   {
    "duration": 7,
    "start_time": "2022-08-11T15:01:12.423Z"
   },
   {
    "duration": 0,
    "start_time": "2022-08-11T15:01:15.659Z"
   },
   {
    "duration": 15,
    "start_time": "2022-08-11T15:01:16.206Z"
   },
   {
    "duration": 17,
    "start_time": "2022-08-11T15:01:16.558Z"
   },
   {
    "duration": 10,
    "start_time": "2022-08-11T15:01:32.305Z"
   },
   {
    "duration": 10,
    "start_time": "2022-08-11T15:01:34.409Z"
   },
   {
    "duration": 3,
    "start_time": "2022-08-11T15:01:40.914Z"
   },
   {
    "duration": 7,
    "start_time": "2022-08-11T15:01:41.250Z"
   },
   {
    "duration": 6,
    "start_time": "2022-08-11T15:01:41.556Z"
   },
   {
    "duration": 1270,
    "start_time": "2022-08-11T15:01:42.248Z"
   },
   {
    "duration": 0,
    "start_time": "2022-08-11T15:01:43.520Z"
   },
   {
    "duration": 11,
    "start_time": "2022-08-11T15:02:06.154Z"
   },
   {
    "duration": 10,
    "start_time": "2022-08-11T15:02:07.164Z"
   },
   {
    "duration": 17,
    "start_time": "2022-08-11T15:02:07.438Z"
   },
   {
    "duration": 6,
    "start_time": "2022-08-11T15:02:26.831Z"
   },
   {
    "duration": 20,
    "start_time": "2022-08-11T15:02:27.557Z"
   },
   {
    "duration": 34,
    "start_time": "2022-08-11T15:02:28.341Z"
   },
   {
    "duration": 20,
    "start_time": "2022-08-11T15:02:28.529Z"
   },
   {
    "duration": 2,
    "start_time": "2022-08-11T15:02:28.884Z"
   },
   {
    "duration": 6,
    "start_time": "2022-08-11T15:02:29.236Z"
   },
   {
    "duration": 11,
    "start_time": "2022-08-11T15:02:29.443Z"
   },
   {
    "duration": 7,
    "start_time": "2022-08-11T15:02:29.573Z"
   },
   {
    "duration": 5,
    "start_time": "2022-08-11T15:02:29.764Z"
   },
   {
    "duration": 4,
    "start_time": "2022-08-11T15:02:30.077Z"
   },
   {
    "duration": 2,
    "start_time": "2022-08-11T15:02:30.345Z"
   },
   {
    "duration": 5,
    "start_time": "2022-08-11T15:02:31.744Z"
   },
   {
    "duration": 7,
    "start_time": "2022-08-11T15:02:32.039Z"
   },
   {
    "duration": 77,
    "start_time": "2022-08-11T15:02:32.176Z"
   },
   {
    "duration": 3,
    "start_time": "2022-08-11T15:02:32.404Z"
   },
   {
    "duration": 5,
    "start_time": "2022-08-11T15:02:32.530Z"
   },
   {
    "duration": 6,
    "start_time": "2022-08-11T15:02:32.911Z"
   },
   {
    "duration": 8,
    "start_time": "2022-08-11T15:02:33.092Z"
   },
   {
    "duration": 4,
    "start_time": "2022-08-11T15:02:33.424Z"
   },
   {
    "duration": 6,
    "start_time": "2022-08-11T15:02:33.653Z"
   },
   {
    "duration": 7,
    "start_time": "2022-08-11T15:02:33.827Z"
   },
   {
    "duration": 7,
    "start_time": "2022-08-11T15:02:34.046Z"
   },
   {
    "duration": 2,
    "start_time": "2022-08-11T15:02:34.190Z"
   },
   {
    "duration": 7,
    "start_time": "2022-08-11T15:02:34.852Z"
   },
   {
    "duration": 7,
    "start_time": "2022-08-11T15:02:35.281Z"
   },
   {
    "duration": 10,
    "start_time": "2022-08-11T15:02:35.530Z"
   },
   {
    "duration": 9,
    "start_time": "2022-08-11T15:02:35.684Z"
   },
   {
    "duration": 10,
    "start_time": "2022-08-11T15:02:35.912Z"
   },
   {
    "duration": 4,
    "start_time": "2022-08-11T15:02:36.078Z"
   },
   {
    "duration": 3,
    "start_time": "2022-08-11T15:02:36.240Z"
   },
   {
    "duration": 5,
    "start_time": "2022-08-11T15:02:36.469Z"
   },
   {
    "duration": 2041,
    "start_time": "2022-08-11T15:02:36.611Z"
   },
   {
    "duration": 7,
    "start_time": "2022-08-11T15:02:38.655Z"
   },
   {
    "duration": 24,
    "start_time": "2022-08-11T15:02:38.664Z"
   },
   {
    "duration": 11,
    "start_time": "2022-08-11T15:02:38.690Z"
   },
   {
    "duration": 5,
    "start_time": "2022-08-11T15:02:38.703Z"
   },
   {
    "duration": 46,
    "start_time": "2022-08-11T15:02:38.709Z"
   },
   {
    "duration": 42,
    "start_time": "2022-08-11T15:02:38.756Z"
   },
   {
    "duration": 19,
    "start_time": "2022-08-11T15:02:38.800Z"
   },
   {
    "duration": 18,
    "start_time": "2022-08-11T15:02:42.550Z"
   },
   {
    "duration": 13,
    "start_time": "2022-08-11T15:02:46.907Z"
   },
   {
    "duration": 18,
    "start_time": "2022-08-11T15:02:47.644Z"
   },
   {
    "duration": 10,
    "start_time": "2022-08-11T15:02:48.205Z"
   },
   {
    "duration": 11,
    "start_time": "2022-08-11T15:02:48.859Z"
   },
   {
    "duration": 10,
    "start_time": "2022-08-11T15:02:49.065Z"
   },
   {
    "duration": 12,
    "start_time": "2022-08-11T15:02:49.442Z"
   },
   {
    "duration": 8,
    "start_time": "2022-08-11T15:02:54.836Z"
   },
   {
    "duration": 14,
    "start_time": "2022-08-11T15:02:56.051Z"
   },
   {
    "duration": 17,
    "start_time": "2022-08-11T15:03:01.205Z"
   },
   {
    "duration": 8,
    "start_time": "2022-08-11T15:03:02.175Z"
   },
   {
    "duration": 1340,
    "start_time": "2022-08-11T15:10:03.665Z"
   },
   {
    "duration": 60,
    "start_time": "2022-08-11T15:10:05.007Z"
   },
   {
    "duration": 20,
    "start_time": "2022-08-11T15:10:05.068Z"
   },
   {
    "duration": 14,
    "start_time": "2022-08-11T15:10:05.091Z"
   },
   {
    "duration": 24,
    "start_time": "2022-08-11T15:10:05.106Z"
   },
   {
    "duration": 67,
    "start_time": "2022-08-11T15:10:05.132Z"
   },
   {
    "duration": 17,
    "start_time": "2022-08-11T15:10:05.201Z"
   },
   {
    "duration": 11,
    "start_time": "2022-08-11T15:10:05.220Z"
   },
   {
    "duration": 7,
    "start_time": "2022-08-11T15:10:05.233Z"
   },
   {
    "duration": 13,
    "start_time": "2022-08-11T15:10:05.242Z"
   },
   {
    "duration": 30,
    "start_time": "2022-08-11T15:10:05.257Z"
   },
   {
    "duration": 8,
    "start_time": "2022-08-11T15:10:05.288Z"
   },
   {
    "duration": 15,
    "start_time": "2022-08-11T15:10:05.297Z"
   },
   {
    "duration": 12,
    "start_time": "2022-08-11T15:10:05.314Z"
   },
   {
    "duration": 16,
    "start_time": "2022-08-11T15:10:05.328Z"
   },
   {
    "duration": 48,
    "start_time": "2022-08-11T15:10:05.345Z"
   },
   {
    "duration": 23,
    "start_time": "2022-08-11T15:10:05.395Z"
   },
   {
    "duration": 2,
    "start_time": "2022-08-11T15:10:05.420Z"
   },
   {
    "duration": 16,
    "start_time": "2022-08-11T15:10:05.424Z"
   },
   {
    "duration": 17,
    "start_time": "2022-08-11T15:10:05.441Z"
   },
   {
    "duration": 29,
    "start_time": "2022-08-11T15:10:05.459Z"
   },
   {
    "duration": 7,
    "start_time": "2022-08-11T15:10:05.490Z"
   },
   {
    "duration": 6,
    "start_time": "2022-08-11T15:10:05.499Z"
   },
   {
    "duration": 9,
    "start_time": "2022-08-11T15:10:05.507Z"
   },
   {
    "duration": 9,
    "start_time": "2022-08-11T15:10:05.517Z"
   },
   {
    "duration": 10,
    "start_time": "2022-08-11T15:10:05.528Z"
   },
   {
    "duration": 90,
    "start_time": "2022-08-11T15:10:05.540Z"
   },
   {
    "duration": 3,
    "start_time": "2022-08-11T15:10:05.633Z"
   },
   {
    "duration": 15,
    "start_time": "2022-08-11T15:10:05.637Z"
   },
   {
    "duration": 11,
    "start_time": "2022-08-11T15:10:05.654Z"
   },
   {
    "duration": 29,
    "start_time": "2022-08-11T15:10:05.667Z"
   },
   {
    "duration": 9,
    "start_time": "2022-08-11T15:10:05.698Z"
   },
   {
    "duration": 25,
    "start_time": "2022-08-11T15:10:05.708Z"
   },
   {
    "duration": 25,
    "start_time": "2022-08-11T15:10:05.734Z"
   },
   {
    "duration": 35,
    "start_time": "2022-08-11T15:10:05.761Z"
   },
   {
    "duration": 22,
    "start_time": "2022-08-11T15:10:05.797Z"
   },
   {
    "duration": 24,
    "start_time": "2022-08-11T15:10:05.820Z"
   },
   {
    "duration": 19,
    "start_time": "2022-08-11T15:10:05.846Z"
   },
   {
    "duration": 23,
    "start_time": "2022-08-11T15:10:05.867Z"
   },
   {
    "duration": 8,
    "start_time": "2022-08-11T15:10:05.892Z"
   },
   {
    "duration": 28,
    "start_time": "2022-08-11T15:10:05.901Z"
   },
   {
    "duration": 17,
    "start_time": "2022-08-11T15:10:05.931Z"
   },
   {
    "duration": 16,
    "start_time": "2022-08-11T15:10:05.950Z"
   },
   {
    "duration": 27,
    "start_time": "2022-08-11T15:10:05.969Z"
   },
   {
    "duration": 2226,
    "start_time": "2022-08-11T15:10:05.999Z"
   },
   {
    "duration": 8,
    "start_time": "2022-08-11T15:10:08.227Z"
   },
   {
    "duration": 9,
    "start_time": "2022-08-11T15:10:08.236Z"
   },
   {
    "duration": 10,
    "start_time": "2022-08-11T15:10:08.246Z"
   },
   {
    "duration": 10,
    "start_time": "2022-08-11T15:10:08.258Z"
   },
   {
    "duration": 63,
    "start_time": "2022-08-11T15:10:08.270Z"
   },
   {
    "duration": 23,
    "start_time": "2022-08-11T15:10:08.335Z"
   },
   {
    "duration": 38,
    "start_time": "2022-08-11T15:10:08.360Z"
   },
   {
    "duration": 19,
    "start_time": "2022-08-11T15:10:08.399Z"
   },
   {
    "duration": 12,
    "start_time": "2022-08-11T15:10:08.420Z"
   },
   {
    "duration": 17,
    "start_time": "2022-08-11T15:10:08.434Z"
   },
   {
    "duration": 41,
    "start_time": "2022-08-11T15:10:08.453Z"
   },
   {
    "duration": 11,
    "start_time": "2022-08-11T15:10:08.496Z"
   },
   {
    "duration": 8,
    "start_time": "2022-08-11T15:10:08.509Z"
   },
   {
    "duration": 10,
    "start_time": "2022-08-11T15:10:08.519Z"
   },
   {
    "duration": 8,
    "start_time": "2022-08-11T15:10:08.531Z"
   },
   {
    "duration": 50,
    "start_time": "2022-08-11T15:10:08.540Z"
   },
   {
    "duration": 16,
    "start_time": "2022-08-11T15:10:08.592Z"
   },
   {
    "duration": 8,
    "start_time": "2022-08-11T15:10:08.609Z"
   },
   {
    "duration": 2416,
    "start_time": "2022-08-12T10:45:43.690Z"
   },
   {
    "duration": 110,
    "start_time": "2022-08-12T10:45:46.108Z"
   },
   {
    "duration": 14,
    "start_time": "2022-08-12T10:45:46.220Z"
   },
   {
    "duration": 86,
    "start_time": "2022-08-12T10:45:46.236Z"
   },
   {
    "duration": 98,
    "start_time": "2022-08-12T10:45:46.324Z"
   },
   {
    "duration": 103,
    "start_time": "2022-08-12T10:45:46.423Z"
   },
   {
    "duration": 20,
    "start_time": "2022-08-12T10:45:46.527Z"
   },
   {
    "duration": 15,
    "start_time": "2022-08-12T10:45:46.609Z"
   },
   {
    "duration": 13,
    "start_time": "2022-08-12T10:45:46.626Z"
   },
   {
    "duration": 69,
    "start_time": "2022-08-12T10:45:46.641Z"
   },
   {
    "duration": 10,
    "start_time": "2022-08-12T10:45:46.712Z"
   },
   {
    "duration": 11,
    "start_time": "2022-08-12T10:45:46.724Z"
   },
   {
    "duration": 12,
    "start_time": "2022-08-12T10:45:46.737Z"
   },
   {
    "duration": 9,
    "start_time": "2022-08-12T10:45:46.812Z"
   },
   {
    "duration": 16,
    "start_time": "2022-08-12T10:45:46.823Z"
   },
   {
    "duration": 108,
    "start_time": "2022-08-12T10:45:46.841Z"
   },
   {
    "duration": 60,
    "start_time": "2022-08-12T10:45:46.951Z"
   },
   {
    "duration": 3,
    "start_time": "2022-08-12T10:45:47.013Z"
   },
   {
    "duration": 19,
    "start_time": "2022-08-12T10:45:47.018Z"
   },
   {
    "duration": 23,
    "start_time": "2022-08-12T10:45:47.039Z"
   },
   {
    "duration": 17,
    "start_time": "2022-08-12T10:45:47.064Z"
   },
   {
    "duration": 16,
    "start_time": "2022-08-12T10:45:47.083Z"
   },
   {
    "duration": 15,
    "start_time": "2022-08-12T10:45:47.101Z"
   },
   {
    "duration": 27,
    "start_time": "2022-08-12T10:45:47.118Z"
   },
   {
    "duration": 10,
    "start_time": "2022-08-12T10:45:47.147Z"
   },
   {
    "duration": 29,
    "start_time": "2022-08-12T10:45:47.159Z"
   },
   {
    "duration": 156,
    "start_time": "2022-08-12T10:45:47.190Z"
   },
   {
    "duration": 3,
    "start_time": "2022-08-12T10:45:47.348Z"
   },
   {
    "duration": 18,
    "start_time": "2022-08-12T10:45:47.353Z"
   },
   {
    "duration": 10,
    "start_time": "2022-08-12T10:45:47.409Z"
   },
   {
    "duration": 21,
    "start_time": "2022-08-12T10:45:47.421Z"
   },
   {
    "duration": 4,
    "start_time": "2022-08-12T10:45:47.445Z"
   },
   {
    "duration": 15,
    "start_time": "2022-08-12T10:45:47.451Z"
   },
   {
    "duration": 12,
    "start_time": "2022-08-12T10:45:47.468Z"
   },
   {
    "duration": 11,
    "start_time": "2022-08-12T10:45:47.482Z"
   },
   {
    "duration": 17,
    "start_time": "2022-08-12T10:45:47.494Z"
   },
   {
    "duration": 18,
    "start_time": "2022-08-12T10:45:47.513Z"
   },
   {
    "duration": 15,
    "start_time": "2022-08-12T10:45:47.533Z"
   },
   {
    "duration": 18,
    "start_time": "2022-08-12T10:45:47.551Z"
   },
   {
    "duration": 12,
    "start_time": "2022-08-12T10:45:47.571Z"
   },
   {
    "duration": 32,
    "start_time": "2022-08-12T10:45:47.588Z"
   },
   {
    "duration": 125,
    "start_time": "2022-08-12T10:45:47.622Z"
   },
   {
    "duration": 7,
    "start_time": "2022-08-12T10:45:47.749Z"
   },
   {
    "duration": 6,
    "start_time": "2022-08-12T10:45:47.758Z"
   },
   {
    "duration": 2110,
    "start_time": "2022-08-12T10:45:47.765Z"
   },
   {
    "duration": 8,
    "start_time": "2022-08-12T10:45:49.877Z"
   },
   {
    "duration": 7,
    "start_time": "2022-08-12T10:45:49.909Z"
   },
   {
    "duration": 12,
    "start_time": "2022-08-12T10:45:49.917Z"
   },
   {
    "duration": 10,
    "start_time": "2022-08-12T10:45:49.930Z"
   },
   {
    "duration": 43,
    "start_time": "2022-08-12T10:45:49.942Z"
   },
   {
    "duration": 37,
    "start_time": "2022-08-12T10:45:49.986Z"
   },
   {
    "duration": 20,
    "start_time": "2022-08-12T10:45:50.024Z"
   },
   {
    "duration": 18,
    "start_time": "2022-08-12T10:45:50.046Z"
   },
   {
    "duration": 13,
    "start_time": "2022-08-12T10:45:50.066Z"
   },
   {
    "duration": 41,
    "start_time": "2022-08-12T10:45:50.080Z"
   },
   {
    "duration": 12,
    "start_time": "2022-08-12T10:45:50.122Z"
   },
   {
    "duration": 17,
    "start_time": "2022-08-12T10:45:50.136Z"
   },
   {
    "duration": 10,
    "start_time": "2022-08-12T10:45:50.155Z"
   },
   {
    "duration": 12,
    "start_time": "2022-08-12T10:45:50.166Z"
   },
   {
    "duration": 35,
    "start_time": "2022-08-12T10:45:50.181Z"
   },
   {
    "duration": 9,
    "start_time": "2022-08-12T10:45:50.218Z"
   },
   {
    "duration": 19,
    "start_time": "2022-08-12T10:45:50.229Z"
   },
   {
    "duration": 9,
    "start_time": "2022-08-12T10:45:50.249Z"
   }
  ],
  "kernelspec": {
   "display_name": "Python 3 (ipykernel)",
   "language": "python",
   "name": "python3"
  },
  "language_info": {
   "codemirror_mode": {
    "name": "ipython",
    "version": 3
   },
   "file_extension": ".py",
   "mimetype": "text/x-python",
   "name": "python",
   "nbconvert_exporter": "python",
   "pygments_lexer": "ipython3",
   "version": "3.9.12"
  },
  "toc": {
   "base_numbering": 1,
   "nav_menu": {},
   "number_sections": true,
   "sideBar": true,
   "skip_h1_title": true,
   "title_cell": "Table of Contents",
   "title_sidebar": "Contents",
   "toc_cell": false,
   "toc_position": {},
   "toc_section_display": true,
   "toc_window_display": false
  }
 },
 "nbformat": 4,
 "nbformat_minor": 2
}
