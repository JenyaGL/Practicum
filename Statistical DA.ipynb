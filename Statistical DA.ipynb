{
 "cells": [
  {
   "cell_type": "markdown",
   "metadata": {},
   "source": [
    "## general information"
   ]
  },
  {
   "cell_type": "markdown",
   "metadata": {},
   "source": [
    "This is a Data analysis for the Telecom operator Megaline.\n",
    "Telecom offers its clients two prepaid plans, Surf and Ultimate. \n",
    "We made this analysis to the commercial department for them to know which of the plans brings in more revenue in order to adjust the advertising budget.\n",
    "\n",
    "We are going to carryijng out a preliminary analysis of the plans based on a relatively small client selection. For this project we have the data on 500 Megaline clients: who the clients are, where they're from, which plan they use, and the number of calls they made and text messages they sent in 2018.\n",
    "\n",
    "Our objective here is to analyse clients behavior and determine which prepaid plan brings in more revenue."
   ]
  },
  {
   "cell_type": "markdown",
   "metadata": {},
   "source": [
    "**Libraries, Data sets and overview:**"
   ]
  },
  {
   "cell_type": "code",
   "execution_count": 1,
   "metadata": {},
   "outputs": [],
   "source": [
    "import pandas as pd\n",
    "import seaborn as sns\n",
    "import numpy as np\n",
    "from scipy import stats \n",
    "import math\n",
    "from functools import reduce\n",
    "import matplotlib.pyplot as plt\n",
    "import warnings\n",
    "warnings.simplefilter(action=\"ignore\", category=FutureWarning)\n"
   ]
  },
  {
   "cell_type": "markdown",
   "metadata": {},
   "source": [
    "**data sets:**"
   ]
  },
  {
   "cell_type": "code",
   "execution_count": 2,
   "metadata": {},
   "outputs": [],
   "source": [
    "call_data = pd.read_csv('/datasets/megaline_calls.csv')\n",
    "internet_data = pd.read_csv('/datasets/megaline_internet.csv')\n",
    "sms_data = pd.read_csv('/datasets/megaline_messages.csv')\n",
    "plan_data = pd.read_csv('/datasets/megaline_plans.csv')\n",
    "user_data = pd.read_csv('/datasets/megaline_users.csv')"
   ]
  },
  {
   "cell_type": "code",
   "execution_count": 3,
   "metadata": {},
   "outputs": [],
   "source": [
    "list_of_datasets = [call_data, internet_data, sms_data, plan_data, user_data]\n",
    "list_of_names = ['call_data','internet_data','sms_data','plan_data','user_data']"
   ]
  },
  {
   "cell_type": "code",
   "execution_count": 4,
   "metadata": {},
   "outputs": [
    {
     "name": "stdout",
     "output_type": "stream",
     "text": [
      "\n",
      "call_data\n",
      "\n",
      "<class 'pandas.core.frame.DataFrame'>\n",
      "RangeIndex: 137735 entries, 0 to 137734\n",
      "Data columns (total 4 columns):\n",
      " #   Column     Non-Null Count   Dtype  \n",
      "---  ------     --------------   -----  \n",
      " 0   id         137735 non-null  object \n",
      " 1   user_id    137735 non-null  int64  \n",
      " 2   call_date  137735 non-null  object \n",
      " 3   duration   137735 non-null  float64\n",
      "dtypes: float64(1), int64(1), object(2)\n",
      "memory usage: 4.2+ MB\n",
      "None\n",
      "\n",
      "             user_id       duration\n",
      "count  137735.000000  137735.000000\n",
      "mean     1247.658046       6.745927\n",
      "std       139.416268       5.839241\n",
      "min      1000.000000       0.000000\n",
      "25%      1128.000000       1.290000\n",
      "50%      1247.000000       5.980000\n",
      "75%      1365.000000      10.690000\n",
      "max      1499.000000      37.600000\n",
      "\n",
      "         id  user_id   call_date  duration\n",
      "0   1000_93     1000  2018-12-27      8.52\n",
      "1  1000_145     1000  2018-12-27     13.66\n",
      "2  1000_247     1000  2018-12-27     14.48\n",
      "3  1000_309     1000  2018-12-28      5.76\n",
      "4  1000_380     1000  2018-12-30      4.22\n",
      "\n",
      "internet_data\n",
      "\n",
      "<class 'pandas.core.frame.DataFrame'>\n",
      "RangeIndex: 104825 entries, 0 to 104824\n",
      "Data columns (total 4 columns):\n",
      " #   Column        Non-Null Count   Dtype  \n",
      "---  ------        --------------   -----  \n",
      " 0   id            104825 non-null  object \n",
      " 1   user_id       104825 non-null  int64  \n",
      " 2   session_date  104825 non-null  object \n",
      " 3   mb_used       104825 non-null  float64\n",
      "dtypes: float64(1), int64(1), object(2)\n",
      "memory usage: 3.2+ MB\n",
      "None\n",
      "\n",
      "             user_id        mb_used\n",
      "count  104825.000000  104825.000000\n",
      "mean     1242.496361     366.713701\n",
      "std       142.053913     277.170542\n",
      "min      1000.000000       0.000000\n",
      "25%      1122.000000     136.080000\n",
      "50%      1236.000000     343.980000\n",
      "75%      1367.000000     554.610000\n",
      "max      1499.000000    1693.470000\n",
      "\n",
      "         id  user_id session_date  mb_used\n",
      "0   1000_13     1000   2018-12-29    89.86\n",
      "1  1000_204     1000   2018-12-31     0.00\n",
      "2  1000_379     1000   2018-12-28   660.40\n",
      "3  1000_413     1000   2018-12-26   270.99\n",
      "4  1000_442     1000   2018-12-27   880.22\n",
      "\n",
      "sms_data\n",
      "\n",
      "<class 'pandas.core.frame.DataFrame'>\n",
      "RangeIndex: 76051 entries, 0 to 76050\n",
      "Data columns (total 3 columns):\n",
      " #   Column        Non-Null Count  Dtype \n",
      "---  ------        --------------  ----- \n",
      " 0   id            76051 non-null  object\n",
      " 1   user_id       76051 non-null  int64 \n",
      " 2   message_date  76051 non-null  object\n",
      "dtypes: int64(1), object(2)\n",
      "memory usage: 1.7+ MB\n",
      "None\n",
      "\n",
      "            user_id\n",
      "count  76051.000000\n",
      "mean    1245.972768\n",
      "std      139.843635\n",
      "min     1000.000000\n",
      "25%     1123.000000\n",
      "50%     1251.000000\n",
      "75%     1362.000000\n",
      "max     1497.000000\n",
      "\n",
      "         id  user_id message_date\n",
      "0  1000_125     1000   2018-12-27\n",
      "1  1000_160     1000   2018-12-31\n",
      "2  1000_223     1000   2018-12-31\n",
      "3  1000_251     1000   2018-12-27\n",
      "4  1000_255     1000   2018-12-26\n",
      "\n",
      "plan_data\n",
      "\n",
      "<class 'pandas.core.frame.DataFrame'>\n",
      "RangeIndex: 2 entries, 0 to 1\n",
      "Data columns (total 8 columns):\n",
      " #   Column                 Non-Null Count  Dtype  \n",
      "---  ------                 --------------  -----  \n",
      " 0   messages_included      2 non-null      int64  \n",
      " 1   mb_per_month_included  2 non-null      int64  \n",
      " 2   minutes_included       2 non-null      int64  \n",
      " 3   usd_monthly_pay        2 non-null      int64  \n",
      " 4   usd_per_gb             2 non-null      int64  \n",
      " 5   usd_per_message        2 non-null      float64\n",
      " 6   usd_per_minute         2 non-null      float64\n",
      " 7   plan_name              2 non-null      object \n",
      "dtypes: float64(2), int64(5), object(1)\n",
      "memory usage: 256.0+ bytes\n",
      "None\n",
      "\n",
      "       messages_included  mb_per_month_included  minutes_included  \\\n",
      "count           2.000000               2.000000          2.000000   \n",
      "mean          525.000000           23040.000000       1750.000000   \n",
      "std           671.751442           10861.160159       1767.766953   \n",
      "min            50.000000           15360.000000        500.000000   \n",
      "25%           287.500000           19200.000000       1125.000000   \n",
      "50%           525.000000           23040.000000       1750.000000   \n",
      "75%           762.500000           26880.000000       2375.000000   \n",
      "max          1000.000000           30720.000000       3000.000000   \n",
      "\n",
      "       usd_monthly_pay  usd_per_gb  usd_per_message  usd_per_minute  \n",
      "count         2.000000     2.00000         2.000000        2.000000  \n",
      "mean         45.000000     8.50000         0.020000        0.020000  \n",
      "std          35.355339     2.12132         0.014142        0.014142  \n",
      "min          20.000000     7.00000         0.010000        0.010000  \n",
      "25%          32.500000     7.75000         0.015000        0.015000  \n",
      "50%          45.000000     8.50000         0.020000        0.020000  \n",
      "75%          57.500000     9.25000         0.025000        0.025000  \n",
      "max          70.000000    10.00000         0.030000        0.030000  \n",
      "\n",
      "   messages_included  mb_per_month_included  minutes_included  \\\n",
      "0                 50                  15360               500   \n",
      "1               1000                  30720              3000   \n",
      "\n",
      "   usd_monthly_pay  usd_per_gb  usd_per_message  usd_per_minute plan_name  \n",
      "0               20          10             0.03            0.03      surf  \n",
      "1               70           7             0.01            0.01  ultimate  \n",
      "\n",
      "user_data\n",
      "\n",
      "<class 'pandas.core.frame.DataFrame'>\n",
      "RangeIndex: 500 entries, 0 to 499\n",
      "Data columns (total 8 columns):\n",
      " #   Column      Non-Null Count  Dtype \n",
      "---  ------      --------------  ----- \n",
      " 0   user_id     500 non-null    int64 \n",
      " 1   first_name  500 non-null    object\n",
      " 2   last_name   500 non-null    object\n",
      " 3   age         500 non-null    int64 \n",
      " 4   city        500 non-null    object\n",
      " 5   reg_date    500 non-null    object\n",
      " 6   plan        500 non-null    object\n",
      " 7   churn_date  34 non-null     object\n",
      "dtypes: int64(2), object(6)\n",
      "memory usage: 31.4+ KB\n",
      "None\n",
      "\n",
      "           user_id         age\n",
      "count   500.000000  500.000000\n",
      "mean   1249.500000   45.486000\n",
      "std     144.481833   16.972269\n",
      "min    1000.000000   18.000000\n",
      "25%    1124.750000   30.000000\n",
      "50%    1249.500000   46.000000\n",
      "75%    1374.250000   61.000000\n",
      "max    1499.000000   75.000000\n",
      "\n",
      "   user_id first_name  last_name  age                                   city  \\\n",
      "0     1000   Anamaria      Bauer   45  Atlanta-Sandy Springs-Roswell, GA MSA   \n",
      "1     1001     Mickey  Wilkerson   28        Seattle-Tacoma-Bellevue, WA MSA   \n",
      "2     1002     Carlee    Hoffman   36   Las Vegas-Henderson-Paradise, NV MSA   \n",
      "3     1003   Reynaldo    Jenkins   52                          Tulsa, OK MSA   \n",
      "4     1004    Leonila   Thompson   40        Seattle-Tacoma-Bellevue, WA MSA   \n",
      "\n",
      "     reg_date      plan churn_date  \n",
      "0  2018-12-24  ultimate        NaN  \n",
      "1  2018-08-13      surf        NaN  \n",
      "2  2018-10-21      surf        NaN  \n",
      "3  2018-01-28      surf        NaN  \n",
      "4  2018-05-23      surf        NaN  \n"
     ]
    }
   ],
   "source": [
    "for n,d in zip(list_of_names,list_of_datasets):\n",
    "    print()\n",
    "    print(n)\n",
    "    print()\n",
    "    print(d.info())\n",
    "    print()\n",
    "    print(d.describe())\n",
    "    print()\n",
    "    print(d.head())"
   ]
  },
  {
   "cell_type": "markdown",
   "metadata": {},
   "source": [
    "**Overview**\n",
    "\n",
    "The data presented from the 5 datasets desrcribes the activity of 500 clients, users, in the year of 2018.\n",
    "\n",
    "The users data:\n",
    "\n",
    "    user_id — unique user identifier\n",
    "\n",
    "    first_name — user's name\n",
    "\n",
    "    last_name — user's last name\n",
    "\n",
    "    age — user's age (in years)\n",
    "\n",
    "    reg_date — subscription date ( in the format of - dd, mm, yy)\n",
    "\n",
    "    churn_date — the date the user stopped using the service (if the value is\n",
    "    missing, the calling plan was being used when this data was generated)\n",
    "\n",
    "    city — user's city of residence\n",
    "\n",
    "    plan — calling plan name\n",
    "\n",
    "The call data:\n",
    "\n",
    "    id — unique call identifier\n",
    "    \n",
    "    call_date — call date\n",
    "    \n",
    "    duration — call duration (in minutes)\n",
    "\n",
    "    user_id — the identifier of the user making the call\n",
    "\n",
    "The sms data:\n",
    "\n",
    "    id — unique text message identifier\n",
    "    \n",
    "    message_date — text message date\n",
    "    \n",
    "    user_id — the identifier of the user sending the text\n",
    "\n",
    "The internet data:\n",
    "\n",
    "    id — unique session identifier\n",
    "\n",
    "    mb_used — the volume of data spent during the session (in megabytes)\n",
    "\n",
    "    session_date — web session date\n",
    "\n",
    "    user_id — user identifier\n",
    "\n",
    "The plan data:\n",
    "\n",
    "    plan_name — calling plan name\n",
    "\n",
    "    usd_monthly_fee — monthly charge in US dollars\n",
    "\n",
    "    minutes_included — monthly minute allowance\n",
    "\n",
    "    messages_included — monthly text allowance\n",
    "\n",
    "    mb_per_month_included — data volume allowance (in megabytes)\n",
    "\n",
    "    usd_per_minute — price per minute after exceeding the package limits\n",
    "                    (e.g., if the package includes 100 minutes, the 101st minute will be charged)\n",
    "\n",
    "    usd_per_message — price per text after exceeding the package limits\n",
    "\n",
    "    usd_per_gb — price per extra gigabyte of data after exceeding the package limits (1 GB = 1024 megabytes)\n",
    "\n",
    "**Observations:**\n",
    "\n",
    "\n",
    "-It seem to be that the only missing values are from the user_dataset in the churn_date column. This column represent the date when the user stopped using the service of the company, A missing value indicates that the service was still used when the data was generated \n",
    "\n",
    "-Theres some datetime values that appear to be object type, which needs to be reassigned to datetime type.\n",
    "\n",
    "-Duration column in calls_data needs to be applyed with .ciel() method.\n",
    "\n",
    "-We have columns with a min value of 0, we need to check how significant their amount is before we begin our statistical analysis. "
   ]
  },
  {
   "cell_type": "markdown",
   "metadata": {},
   "source": [
    "-----------------------"
   ]
  },
  {
   "cell_type": "markdown",
   "metadata": {},
   "source": [
    "## Preparing the data\n"
   ]
  },
  {
   "cell_type": "markdown",
   "metadata": {},
   "source": [
    "**A Note**\n",
    "\n",
    "Megaline has a policy of rounding seconds up to minutes, and megabytes to gigabytes.\n",
    "\n",
    "For calls, each individual call is rounded up:\n",
    "whether the call lasted one second, it will be counted as one minute. \n",
    " \n",
    "For web traffic, individual web sessions are not rounded up.\n",
    "\n",
    "Instead, the total for the month is rounded up.\n",
    "\n",
    "If someone uses 1025 megabytes this month, they will be charged for 2 gigabytes.\n",
    "\n",
    "\n",
    "\n",
    "----------------\n",
    "\n",
    "\n",
    "   **our steps for this data processing will be:**\n",
    "\n",
    "1) Changing data types: \n",
    "\n",
    "-Change all date related columns to a timeframe type and the values to a unified format of (year, month, day).\n",
    "\n",
    "2) Missing values:\n",
    "\n",
    "-In this section we will deal with missing values in the churn_date column of the user data by applying the last date of the data to all the missing values in the column.\n",
    "\n",
    "\n",
    "3) Rounding up the values we need:\n",
    "\n",
    "-In the calls data we will round up the seconds to minutes for each  individual call.\n",
    "\n",
    "-In the Internet data we will round up the Megabytes to Gigabytes for each month.\n",
    "\n",
    "-We will check for values of 0 in the data.\n",
    "\n",
    "4) Adding new data for each user:\n",
    "\n",
    "-we add a column of total calls made and minutes used per month.\n",
    "\n",
    "-we add a column of total sms sent per month.\n",
    "\n",
    "-we add a column of total data usge in gb per month.\n",
    "\n",
    "-we add a column of total The monthly revenue from each user.\n",
    "\n",
    "5) bulding the data frame we will analyze.\n",
    "\n",
    "6) Counting the monthly revenue of each client"
   ]
  },
  {
   "cell_type": "markdown",
   "metadata": {},
   "source": [
    "---------------------------------------"
   ]
  },
  {
   "cell_type": "markdown",
   "metadata": {},
   "source": [
    "**1) Changing data types:**"
   ]
  },
  {
   "cell_type": "markdown",
   "metadata": {},
   "source": [
    "First we change all date related columns to a timeframe type and the values to a unified format of (year, month, day)."
   ]
  },
  {
   "cell_type": "code",
   "execution_count": 5,
   "metadata": {},
   "outputs": [],
   "source": [
    "call_data['call_date'] = pd.to_datetime(call_data['call_date'], format ='%Y/%m/%d')\n",
    "internet_data['session_date'] = pd.to_datetime(internet_data['session_date'], format ='%Y/%m/%d')\n",
    "sms_data['message_date'] = pd.to_datetime(sms_data['message_date'], format ='%Y/%m/%d')\n",
    "user_data['reg_date'] = pd.to_datetime(call_data['call_date'], format ='%Y/%m/%d')"
   ]
  },
  {
   "cell_type": "code",
   "execution_count": 6,
   "metadata": {
    "scrolled": false
   },
   "outputs": [
    {
     "name": "stdout",
     "output_type": "stream",
     "text": [
      "2018-12-31 00:00:00\n",
      "2018-12-31 00:00:00\n",
      "2018-12-31 00:00:00\n",
      "2018-12-31 00:00:00\n"
     ]
    }
   ],
   "source": [
    "print(internet_data['session_date'].max())\n",
    "print(sms_data['message_date'].max())\n",
    "print(call_data['call_date'].max())\n",
    "print(user_data['reg_date'].max())"
   ]
  },
  {
   "cell_type": "markdown",
   "metadata": {},
   "source": [
    "**2) Missing values:**"
   ]
  },
  {
   "cell_type": "markdown",
   "metadata": {},
   "source": [
    "Now we deal with missing values in the churn_date column of the user data by applying the last date of the data to all the missing values in the column"
   ]
  },
  {
   "cell_type": "code",
   "execution_count": 7,
   "metadata": {
    "scrolled": true
   },
   "outputs": [
    {
     "data": {
      "text/plain": [
       "0   2018-12-31\n",
       "1   2018-12-31\n",
       "2   2018-12-31\n",
       "3   2018-12-31\n",
       "4   2018-12-31\n",
       "Name: churn_date, dtype: datetime64[ns]"
      ]
     },
     "execution_count": 7,
     "metadata": {},
     "output_type": "execute_result"
    }
   ],
   "source": [
    "user_data['churn_date'].fillna('2018-12-31',inplace=True)\n",
    "user_data['churn_date'] = pd.to_datetime(user_data['churn_date'], format ='%Y/%m/%d')\n",
    "user_data['churn_date'].head()"
   ]
  },
  {
   "cell_type": "markdown",
   "metadata": {},
   "source": [
    "**3) Rounding up the values we need:**"
   ]
  },
  {
   "cell_type": "markdown",
   "metadata": {},
   "source": [
    "Here we apply .ceil() method to call_data['duration'] since its one of the company's requirements."
   ]
  },
  {
   "cell_type": "code",
   "execution_count": 8,
   "metadata": {},
   "outputs": [
    {
     "data": {
      "text/plain": [
       "0          8.52\n",
       "1         13.66\n",
       "2         14.48\n",
       "3          5.76\n",
       "4          4.22\n",
       "          ...  \n",
       "137730     8.72\n",
       "137731    10.89\n",
       "137732     8.12\n",
       "137733     0.37\n",
       "137734    13.86\n",
       "Name: duration, Length: 137735, dtype: float64"
      ]
     },
     "execution_count": 8,
     "metadata": {},
     "output_type": "execute_result"
    }
   ],
   "source": [
    "call_data['duration']"
   ]
  },
  {
   "cell_type": "code",
   "execution_count": 9,
   "metadata": {},
   "outputs": [
    {
     "data": {
      "text/plain": [
       "0          9\n",
       "1         14\n",
       "2         15\n",
       "3          6\n",
       "4          5\n",
       "          ..\n",
       "137730     9\n",
       "137731    11\n",
       "137732     9\n",
       "137733     1\n",
       "137734    14\n",
       "Name: duration, Length: 137735, dtype: int64"
      ]
     },
     "execution_count": 9,
     "metadata": {},
     "output_type": "execute_result"
    }
   ],
   "source": [
    "call_data['duration'] = np.ceil(call_data['duration']).astype(int)\n",
    "call_data['duration']"
   ]
  },
  {
   "cell_type": "markdown",
   "metadata": {},
   "source": [
    "Here we apply .ceil() method to round up the month traffic internet_data['mb_used'] since its one of the company's requirements."
   ]
  },
  {
   "cell_type": "code",
   "execution_count": 10,
   "metadata": {},
   "outputs": [],
   "source": [
    "internet_data['gb_used'] = internet_data['mb_used']/ 1024\n",
    "\n"
   ]
  },
  {
   "cell_type": "code",
   "execution_count": 11,
   "metadata": {
    "scrolled": true
   },
   "outputs": [
    {
     "data": {
      "text/plain": [
       "0    0.087754\n",
       "1    0.000000\n",
       "2    0.644922\n",
       "3    0.264639\n",
       "4    0.859590\n",
       "Name: gb_used, dtype: float64"
      ]
     },
     "execution_count": 11,
     "metadata": {},
     "output_type": "execute_result"
    }
   ],
   "source": [
    "internet_data['gb_used'].head()"
   ]
  },
  {
   "cell_type": "code",
   "execution_count": 12,
   "metadata": {},
   "outputs": [
    {
     "data": {
      "text/html": [
       "<div>\n",
       "<style scoped>\n",
       "    .dataframe tbody tr th:only-of-type {\n",
       "        vertical-align: middle;\n",
       "    }\n",
       "\n",
       "    .dataframe tbody tr th {\n",
       "        vertical-align: top;\n",
       "    }\n",
       "\n",
       "    .dataframe thead th {\n",
       "        text-align: right;\n",
       "    }\n",
       "</style>\n",
       "<table border=\"1\" class=\"dataframe\">\n",
       "  <thead>\n",
       "    <tr style=\"text-align: right;\">\n",
       "      <th></th>\n",
       "      <th>id</th>\n",
       "      <th>user_id</th>\n",
       "      <th>session_date</th>\n",
       "      <th>mb_used</th>\n",
       "      <th>gb_used</th>\n",
       "    </tr>\n",
       "  </thead>\n",
       "  <tbody>\n",
       "    <tr>\n",
       "      <th>0</th>\n",
       "      <td>1000_13</td>\n",
       "      <td>1000</td>\n",
       "      <td>2018-12-29</td>\n",
       "      <td>89.86</td>\n",
       "      <td>0.087754</td>\n",
       "    </tr>\n",
       "    <tr>\n",
       "      <th>1</th>\n",
       "      <td>1000_204</td>\n",
       "      <td>1000</td>\n",
       "      <td>2018-12-31</td>\n",
       "      <td>0.00</td>\n",
       "      <td>0.000000</td>\n",
       "    </tr>\n",
       "    <tr>\n",
       "      <th>2</th>\n",
       "      <td>1000_379</td>\n",
       "      <td>1000</td>\n",
       "      <td>2018-12-28</td>\n",
       "      <td>660.40</td>\n",
       "      <td>0.644922</td>\n",
       "    </tr>\n",
       "    <tr>\n",
       "      <th>3</th>\n",
       "      <td>1000_413</td>\n",
       "      <td>1000</td>\n",
       "      <td>2018-12-26</td>\n",
       "      <td>270.99</td>\n",
       "      <td>0.264639</td>\n",
       "    </tr>\n",
       "    <tr>\n",
       "      <th>4</th>\n",
       "      <td>1000_442</td>\n",
       "      <td>1000</td>\n",
       "      <td>2018-12-27</td>\n",
       "      <td>880.22</td>\n",
       "      <td>0.859590</td>\n",
       "    </tr>\n",
       "    <tr>\n",
       "      <th>...</th>\n",
       "      <td>...</td>\n",
       "      <td>...</td>\n",
       "      <td>...</td>\n",
       "      <td>...</td>\n",
       "      <td>...</td>\n",
       "    </tr>\n",
       "    <tr>\n",
       "      <th>104820</th>\n",
       "      <td>1499_215</td>\n",
       "      <td>1499</td>\n",
       "      <td>2018-10-20</td>\n",
       "      <td>218.06</td>\n",
       "      <td>0.212949</td>\n",
       "    </tr>\n",
       "    <tr>\n",
       "      <th>104821</th>\n",
       "      <td>1499_216</td>\n",
       "      <td>1499</td>\n",
       "      <td>2018-12-30</td>\n",
       "      <td>304.72</td>\n",
       "      <td>0.297578</td>\n",
       "    </tr>\n",
       "    <tr>\n",
       "      <th>104822</th>\n",
       "      <td>1499_217</td>\n",
       "      <td>1499</td>\n",
       "      <td>2018-09-22</td>\n",
       "      <td>292.75</td>\n",
       "      <td>0.285889</td>\n",
       "    </tr>\n",
       "    <tr>\n",
       "      <th>104823</th>\n",
       "      <td>1499_218</td>\n",
       "      <td>1499</td>\n",
       "      <td>2018-12-07</td>\n",
       "      <td>0.00</td>\n",
       "      <td>0.000000</td>\n",
       "    </tr>\n",
       "    <tr>\n",
       "      <th>104824</th>\n",
       "      <td>1499_219</td>\n",
       "      <td>1499</td>\n",
       "      <td>2018-12-24</td>\n",
       "      <td>758.31</td>\n",
       "      <td>0.740537</td>\n",
       "    </tr>\n",
       "  </tbody>\n",
       "</table>\n",
       "<p>104825 rows × 5 columns</p>\n",
       "</div>"
      ],
      "text/plain": [
       "              id  user_id session_date  mb_used   gb_used\n",
       "0        1000_13     1000   2018-12-29    89.86  0.087754\n",
       "1       1000_204     1000   2018-12-31     0.00  0.000000\n",
       "2       1000_379     1000   2018-12-28   660.40  0.644922\n",
       "3       1000_413     1000   2018-12-26   270.99  0.264639\n",
       "4       1000_442     1000   2018-12-27   880.22  0.859590\n",
       "...          ...      ...          ...      ...       ...\n",
       "104820  1499_215     1499   2018-10-20   218.06  0.212949\n",
       "104821  1499_216     1499   2018-12-30   304.72  0.297578\n",
       "104822  1499_217     1499   2018-09-22   292.75  0.285889\n",
       "104823  1499_218     1499   2018-12-07     0.00  0.000000\n",
       "104824  1499_219     1499   2018-12-24   758.31  0.740537\n",
       "\n",
       "[104825 rows x 5 columns]"
      ]
     },
     "execution_count": 12,
     "metadata": {},
     "output_type": "execute_result"
    }
   ],
   "source": [
    "internet_data"
   ]
  },
  {
   "cell_type": "markdown",
   "metadata": {},
   "source": [
    "-Now we will check if the values of 0 in the call_data['duration'] and internet_data['gb_used'] have a significant volume in the datasets."
   ]
  },
  {
   "cell_type": "code",
   "execution_count": 13,
   "metadata": {},
   "outputs": [],
   "source": [
    "def distributions(data,parameter):\n",
    "    print('A histogram of: {}'.format(parameter))\n",
    "    print('')\n",
    "    sns.histplot(data=data,x=parameter)\n",
    "    if data[parameter].median()<data[parameter].mean():\n",
    "        print('The distribution is skewed to the right')\n",
    "    else:\n",
    "        print('The distribution is skewed to the left')\n",
    "    print('---------------------------------------')\n",
    "    print('Statistics on: {}'.format(parameter))\n",
    "    print(data[parameter].describe())\n",
    "    \n",
    "    ninety_eight = np.percentile(data[parameter], 98)\n",
    "    two = np.percentile(data[parameter], 2)\n",
    "    print('---------------------------------------')\n",
    "    print('min border:',two)\n",
    "    print('max border:',ninety_eight)\n",
    "    print('---------------------------------------')\n",
    "    print('The outliers are considered to be values below',two, 'and above',ninety_eight)\n",
    "    print('We have',len(data[(data[parameter]<two)|(data[parameter]>ninety_eight)]),'values that we can consider outliers')"
   ]
  },
  {
   "cell_type": "code",
   "execution_count": 14,
   "metadata": {},
   "outputs": [
    {
     "name": "stdout",
     "output_type": "stream",
     "text": [
      "A histogram of: duration\n",
      "\n",
      "The distribution is skewed to the right\n",
      "---------------------------------------\n",
      "Statistics on: duration\n",
      "count    137735.000000\n",
      "mean          7.146673\n",
      "std           5.953919\n",
      "min           0.000000\n",
      "25%           2.000000\n",
      "50%           6.000000\n",
      "75%          11.000000\n",
      "max          38.000000\n",
      "Name: duration, dtype: float64\n",
      "---------------------------------------\n",
      "min border: 0.0\n",
      "max border: 21.0\n",
      "---------------------------------------\n",
      "The outliers are considered to be values below 0.0 and above 21.0\n",
      "We have 2157 values that we can consider outliers\n"
     ]
    },
    {
     "data": {
      "image/png": "[encoded data removed]",
      "text/plain": [
       "<Figure size 432x288 with 1 Axes>"
      ]
     },
     "metadata": {
      "needs_background": "light"
     },
     "output_type": "display_data"
    }
   ],
   "source": [
    "distributions(call_data,'duration')"
   ]
  },
  {
   "cell_type": "code",
   "execution_count": 15,
   "metadata": {
    "scrolled": true
   },
   "outputs": [
    {
     "name": "stdout",
     "output_type": "stream",
     "text": [
      "A histogram of: gb_used\n",
      "\n",
      "The distribution is skewed to the right\n",
      "---------------------------------------\n",
      "Statistics on: gb_used\n",
      "count    104825.000000\n",
      "mean          0.358119\n",
      "std           0.270674\n",
      "min           0.000000\n",
      "25%           0.132891\n",
      "50%           0.335918\n",
      "75%           0.541611\n",
      "max           1.653779\n",
      "Name: gb_used, dtype: float64\n",
      "---------------------------------------\n",
      "min border: 0.0\n",
      "max border: 0.9681707031250004\n",
      "---------------------------------------\n",
      "The outliers are considered to be values below 0.0 and above 0.9681707031250004\n",
      "We have 2097 values that we can consider outliers\n"
     ]
    },
    {
     "data": {
      "image/png": "[encoded data removed]",
      "text/plain": [
       "<Figure size 432x288 with 1 Axes>"
      ]
     },
     "metadata": {
      "needs_background": "light"
     },
     "output_type": "display_data"
    }
   ],
   "source": [
    "distributions(internet_data,'gb_used')"
   ]
  },
  {
   "cell_type": "markdown",
   "metadata": {},
   "source": [
    "**Note**\n",
    "\n",
    "We see that althrough there are many values of 0 in the datasets they dont seem to effect the distribution by any means so we can either leave them or remove them as it wouldnt make any change. "
   ]
  },
  {
   "cell_type": "markdown",
   "metadata": {},
   "source": [
    "**4) Adding new data for each user:**"
   ]
  },
  {
   "cell_type": "markdown",
   "metadata": {},
   "source": [
    "first we being with sms values per client:"
   ]
  },
  {
   "cell_type": "code",
   "execution_count": 16,
   "metadata": {},
   "outputs": [
    {
     "data": {
      "text/html": [
       "<div>\n",
       "<style scoped>\n",
       "    .dataframe tbody tr th:only-of-type {\n",
       "        vertical-align: middle;\n",
       "    }\n",
       "\n",
       "    .dataframe tbody tr th {\n",
       "        vertical-align: top;\n",
       "    }\n",
       "\n",
       "    .dataframe thead th {\n",
       "        text-align: right;\n",
       "    }\n",
       "</style>\n",
       "<table border=\"1\" class=\"dataframe\">\n",
       "  <thead>\n",
       "    <tr style=\"text-align: right;\">\n",
       "      <th></th>\n",
       "      <th>user_id</th>\n",
       "      <th>message_date</th>\n",
       "      <th>sms_count</th>\n",
       "    </tr>\n",
       "  </thead>\n",
       "  <tbody>\n",
       "    <tr>\n",
       "      <th>0</th>\n",
       "      <td>1000</td>\n",
       "      <td>2018-12-25</td>\n",
       "      <td>1</td>\n",
       "    </tr>\n",
       "    <tr>\n",
       "      <th>1</th>\n",
       "      <td>1000</td>\n",
       "      <td>2018-12-26</td>\n",
       "      <td>1</td>\n",
       "    </tr>\n",
       "    <tr>\n",
       "      <th>2</th>\n",
       "      <td>1000</td>\n",
       "      <td>2018-12-27</td>\n",
       "      <td>3</td>\n",
       "    </tr>\n",
       "    <tr>\n",
       "      <th>3</th>\n",
       "      <td>1000</td>\n",
       "      <td>2018-12-28</td>\n",
       "      <td>1</td>\n",
       "    </tr>\n",
       "    <tr>\n",
       "      <th>4</th>\n",
       "      <td>1000</td>\n",
       "      <td>2018-12-29</td>\n",
       "      <td>1</td>\n",
       "    </tr>\n",
       "  </tbody>\n",
       "</table>\n",
       "</div>"
      ],
      "text/plain": [
       "   user_id message_date  sms_count\n",
       "0     1000   2018-12-25          1\n",
       "1     1000   2018-12-26          1\n",
       "2     1000   2018-12-27          3\n",
       "3     1000   2018-12-28          1\n",
       "4     1000   2018-12-29          1"
      ]
     },
     "execution_count": 16,
     "metadata": {},
     "output_type": "execute_result"
    }
   ],
   "source": [
    "sms_per_client= sms_data.pivot_table(index=['user_id','message_date'],values='id',aggfunc='count').reset_index()\n",
    "sms_per_client.rename(columns={'id':'sms_count'},inplace=True)\n",
    "sms_per_client.head()"
   ]
  },
  {
   "cell_type": "code",
   "execution_count": 17,
   "metadata": {
    "scrolled": true
   },
   "outputs": [
    {
     "data": {
      "text/html": [
       "<div>\n",
       "<style scoped>\n",
       "    .dataframe tbody tr th:only-of-type {\n",
       "        vertical-align: middle;\n",
       "    }\n",
       "\n",
       "    .dataframe tbody tr th {\n",
       "        vertical-align: top;\n",
       "    }\n",
       "\n",
       "    .dataframe thead th {\n",
       "        text-align: right;\n",
       "    }\n",
       "</style>\n",
       "<table border=\"1\" class=\"dataframe\">\n",
       "  <thead>\n",
       "    <tr style=\"text-align: right;\">\n",
       "      <th></th>\n",
       "      <th>user_id</th>\n",
       "      <th>message_date</th>\n",
       "      <th>sms_count</th>\n",
       "      <th>month</th>\n",
       "    </tr>\n",
       "  </thead>\n",
       "  <tbody>\n",
       "    <tr>\n",
       "      <th>0</th>\n",
       "      <td>1000</td>\n",
       "      <td>2018-12-25</td>\n",
       "      <td>1</td>\n",
       "      <td>12</td>\n",
       "    </tr>\n",
       "    <tr>\n",
       "      <th>1</th>\n",
       "      <td>1000</td>\n",
       "      <td>2018-12-26</td>\n",
       "      <td>1</td>\n",
       "      <td>12</td>\n",
       "    </tr>\n",
       "    <tr>\n",
       "      <th>2</th>\n",
       "      <td>1000</td>\n",
       "      <td>2018-12-27</td>\n",
       "      <td>3</td>\n",
       "      <td>12</td>\n",
       "    </tr>\n",
       "    <tr>\n",
       "      <th>3</th>\n",
       "      <td>1000</td>\n",
       "      <td>2018-12-28</td>\n",
       "      <td>1</td>\n",
       "      <td>12</td>\n",
       "    </tr>\n",
       "    <tr>\n",
       "      <th>4</th>\n",
       "      <td>1000</td>\n",
       "      <td>2018-12-29</td>\n",
       "      <td>1</td>\n",
       "      <td>12</td>\n",
       "    </tr>\n",
       "  </tbody>\n",
       "</table>\n",
       "</div>"
      ],
      "text/plain": [
       "   user_id message_date  sms_count  month\n",
       "0     1000   2018-12-25          1     12\n",
       "1     1000   2018-12-26          1     12\n",
       "2     1000   2018-12-27          3     12\n",
       "3     1000   2018-12-28          1     12\n",
       "4     1000   2018-12-29          1     12"
      ]
     },
     "execution_count": 17,
     "metadata": {},
     "output_type": "execute_result"
    }
   ],
   "source": [
    "sms_per_client['month'] = pd.to_datetime(sms_per_client['message_date']).dt.month\n",
    "sms_per_client.head()"
   ]
  },
  {
   "cell_type": "code",
   "execution_count": 18,
   "metadata": {},
   "outputs": [
    {
     "data": {
      "text/html": [
       "<div>\n",
       "<style scoped>\n",
       "    .dataframe tbody tr th:only-of-type {\n",
       "        vertical-align: middle;\n",
       "    }\n",
       "\n",
       "    .dataframe tbody tr th {\n",
       "        vertical-align: top;\n",
       "    }\n",
       "\n",
       "    .dataframe thead th {\n",
       "        text-align: right;\n",
       "    }\n",
       "</style>\n",
       "<table border=\"1\" class=\"dataframe\">\n",
       "  <thead>\n",
       "    <tr style=\"text-align: right;\">\n",
       "      <th></th>\n",
       "      <th>user_id</th>\n",
       "      <th>month</th>\n",
       "      <th>sms_count</th>\n",
       "    </tr>\n",
       "  </thead>\n",
       "  <tbody>\n",
       "    <tr>\n",
       "      <th>0</th>\n",
       "      <td>1000</td>\n",
       "      <td>12</td>\n",
       "      <td>7</td>\n",
       "    </tr>\n",
       "    <tr>\n",
       "      <th>1</th>\n",
       "      <td>1001</td>\n",
       "      <td>8</td>\n",
       "      <td>14</td>\n",
       "    </tr>\n",
       "    <tr>\n",
       "      <th>2</th>\n",
       "      <td>1001</td>\n",
       "      <td>9</td>\n",
       "      <td>23</td>\n",
       "    </tr>\n",
       "    <tr>\n",
       "      <th>3</th>\n",
       "      <td>1001</td>\n",
       "      <td>10</td>\n",
       "      <td>25</td>\n",
       "    </tr>\n",
       "    <tr>\n",
       "      <th>4</th>\n",
       "      <td>1001</td>\n",
       "      <td>11</td>\n",
       "      <td>19</td>\n",
       "    </tr>\n",
       "  </tbody>\n",
       "</table>\n",
       "</div>"
      ],
      "text/plain": [
       "   user_id  month  sms_count\n",
       "0     1000     12          7\n",
       "1     1001      8         14\n",
       "2     1001      9         23\n",
       "3     1001     10         25\n",
       "4     1001     11         19"
      ]
     },
     "execution_count": 18,
     "metadata": {},
     "output_type": "execute_result"
    }
   ],
   "source": [
    "sms_per_month = sms_per_client.groupby(['user_id','month'], as_index=False)['sms_count'].count()\n",
    "sms_per_month.head()"
   ]
  },
  {
   "cell_type": "markdown",
   "metadata": {},
   "source": [
    "we created a pivot table for sms data in which theres an sms count for each day when the client sent sms and a column on which month it was."
   ]
  },
  {
   "cell_type": "markdown",
   "metadata": {},
   "source": [
    "Now we continue with call dutation per client for each month:"
   ]
  },
  {
   "cell_type": "code",
   "execution_count": 19,
   "metadata": {},
   "outputs": [],
   "source": [
    "call_per_client= call_data.pivot_table(index=['user_id','call_date'],values='id',aggfunc='count').reset_index()\n",
    "call_per_client.rename(columns={'id':'call_count'},inplace=True)"
   ]
  },
  {
   "cell_type": "code",
   "execution_count": 20,
   "metadata": {},
   "outputs": [
    {
     "data": {
      "text/html": [
       "<div>\n",
       "<style scoped>\n",
       "    .dataframe tbody tr th:only-of-type {\n",
       "        vertical-align: middle;\n",
       "    }\n",
       "\n",
       "    .dataframe tbody tr th {\n",
       "        vertical-align: top;\n",
       "    }\n",
       "\n",
       "    .dataframe thead th {\n",
       "        text-align: right;\n",
       "    }\n",
       "</style>\n",
       "<table border=\"1\" class=\"dataframe\">\n",
       "  <thead>\n",
       "    <tr style=\"text-align: right;\">\n",
       "      <th></th>\n",
       "      <th>id</th>\n",
       "      <th>user_id</th>\n",
       "      <th>call_date</th>\n",
       "      <th>duration</th>\n",
       "      <th>month</th>\n",
       "    </tr>\n",
       "  </thead>\n",
       "  <tbody>\n",
       "    <tr>\n",
       "      <th>0</th>\n",
       "      <td>1000_93</td>\n",
       "      <td>1000</td>\n",
       "      <td>2018-12-27</td>\n",
       "      <td>9</td>\n",
       "      <td>12</td>\n",
       "    </tr>\n",
       "    <tr>\n",
       "      <th>1</th>\n",
       "      <td>1000_145</td>\n",
       "      <td>1000</td>\n",
       "      <td>2018-12-27</td>\n",
       "      <td>14</td>\n",
       "      <td>12</td>\n",
       "    </tr>\n",
       "    <tr>\n",
       "      <th>2</th>\n",
       "      <td>1000_247</td>\n",
       "      <td>1000</td>\n",
       "      <td>2018-12-27</td>\n",
       "      <td>15</td>\n",
       "      <td>12</td>\n",
       "    </tr>\n",
       "    <tr>\n",
       "      <th>3</th>\n",
       "      <td>1000_309</td>\n",
       "      <td>1000</td>\n",
       "      <td>2018-12-28</td>\n",
       "      <td>6</td>\n",
       "      <td>12</td>\n",
       "    </tr>\n",
       "    <tr>\n",
       "      <th>4</th>\n",
       "      <td>1000_380</td>\n",
       "      <td>1000</td>\n",
       "      <td>2018-12-30</td>\n",
       "      <td>5</td>\n",
       "      <td>12</td>\n",
       "    </tr>\n",
       "  </tbody>\n",
       "</table>\n",
       "</div>"
      ],
      "text/plain": [
       "         id  user_id  call_date  duration  month\n",
       "0   1000_93     1000 2018-12-27         9     12\n",
       "1  1000_145     1000 2018-12-27        14     12\n",
       "2  1000_247     1000 2018-12-27        15     12\n",
       "3  1000_309     1000 2018-12-28         6     12\n",
       "4  1000_380     1000 2018-12-30         5     12"
      ]
     },
     "execution_count": 20,
     "metadata": {},
     "output_type": "execute_result"
    }
   ],
   "source": [
    "call_data['month'] = pd.to_datetime(call_data['call_date']).dt.month\n",
    "call_data.head()"
   ]
  },
  {
   "cell_type": "code",
   "execution_count": 21,
   "metadata": {
    "scrolled": true
   },
   "outputs": [
    {
     "data": {
      "text/html": [
       "<div>\n",
       "<style scoped>\n",
       "    .dataframe tbody tr th:only-of-type {\n",
       "        vertical-align: middle;\n",
       "    }\n",
       "\n",
       "    .dataframe tbody tr th {\n",
       "        vertical-align: top;\n",
       "    }\n",
       "\n",
       "    .dataframe thead th {\n",
       "        text-align: right;\n",
       "    }\n",
       "</style>\n",
       "<table border=\"1\" class=\"dataframe\">\n",
       "  <thead>\n",
       "    <tr style=\"text-align: right;\">\n",
       "      <th></th>\n",
       "      <th>user_id</th>\n",
       "      <th>month</th>\n",
       "      <th>duration</th>\n",
       "    </tr>\n",
       "  </thead>\n",
       "  <tbody>\n",
       "    <tr>\n",
       "      <th>0</th>\n",
       "      <td>1000</td>\n",
       "      <td>12</td>\n",
       "      <td>124</td>\n",
       "    </tr>\n",
       "    <tr>\n",
       "      <th>1</th>\n",
       "      <td>1001</td>\n",
       "      <td>8</td>\n",
       "      <td>182</td>\n",
       "    </tr>\n",
       "    <tr>\n",
       "      <th>2</th>\n",
       "      <td>1001</td>\n",
       "      <td>9</td>\n",
       "      <td>315</td>\n",
       "    </tr>\n",
       "    <tr>\n",
       "      <th>3</th>\n",
       "      <td>1001</td>\n",
       "      <td>10</td>\n",
       "      <td>393</td>\n",
       "    </tr>\n",
       "    <tr>\n",
       "      <th>4</th>\n",
       "      <td>1001</td>\n",
       "      <td>11</td>\n",
       "      <td>426</td>\n",
       "    </tr>\n",
       "  </tbody>\n",
       "</table>\n",
       "</div>"
      ],
      "text/plain": [
       "   user_id  month  duration\n",
       "0     1000     12       124\n",
       "1     1001      8       182\n",
       "2     1001      9       315\n",
       "3     1001     10       393\n",
       "4     1001     11       426"
      ]
     },
     "execution_count": 21,
     "metadata": {},
     "output_type": "execute_result"
    }
   ],
   "source": [
    "calls_per_month = call_data.groupby(['user_id', 'month'], as_index=False)['duration'].sum()\n",
    "calls_per_month.head()"
   ]
  },
  {
   "cell_type": "markdown",
   "metadata": {},
   "source": [
    "Continuing to internet usage:"
   ]
  },
  {
   "cell_type": "code",
   "execution_count": 22,
   "metadata": {},
   "outputs": [
    {
     "data": {
      "text/html": [
       "<div>\n",
       "<style scoped>\n",
       "    .dataframe tbody tr th:only-of-type {\n",
       "        vertical-align: middle;\n",
       "    }\n",
       "\n",
       "    .dataframe tbody tr th {\n",
       "        vertical-align: top;\n",
       "    }\n",
       "\n",
       "    .dataframe thead th {\n",
       "        text-align: right;\n",
       "    }\n",
       "</style>\n",
       "<table border=\"1\" class=\"dataframe\">\n",
       "  <thead>\n",
       "    <tr style=\"text-align: right;\">\n",
       "      <th></th>\n",
       "      <th>id</th>\n",
       "      <th>user_id</th>\n",
       "      <th>session_date</th>\n",
       "      <th>mb_used</th>\n",
       "      <th>gb_used</th>\n",
       "      <th>month</th>\n",
       "    </tr>\n",
       "  </thead>\n",
       "  <tbody>\n",
       "    <tr>\n",
       "      <th>0</th>\n",
       "      <td>1000_13</td>\n",
       "      <td>1000</td>\n",
       "      <td>2018-12-29</td>\n",
       "      <td>89.86</td>\n",
       "      <td>0.087754</td>\n",
       "      <td>12</td>\n",
       "    </tr>\n",
       "    <tr>\n",
       "      <th>1</th>\n",
       "      <td>1000_204</td>\n",
       "      <td>1000</td>\n",
       "      <td>2018-12-31</td>\n",
       "      <td>0.00</td>\n",
       "      <td>0.000000</td>\n",
       "      <td>12</td>\n",
       "    </tr>\n",
       "    <tr>\n",
       "      <th>2</th>\n",
       "      <td>1000_379</td>\n",
       "      <td>1000</td>\n",
       "      <td>2018-12-28</td>\n",
       "      <td>660.40</td>\n",
       "      <td>0.644922</td>\n",
       "      <td>12</td>\n",
       "    </tr>\n",
       "    <tr>\n",
       "      <th>3</th>\n",
       "      <td>1000_413</td>\n",
       "      <td>1000</td>\n",
       "      <td>2018-12-26</td>\n",
       "      <td>270.99</td>\n",
       "      <td>0.264639</td>\n",
       "      <td>12</td>\n",
       "    </tr>\n",
       "    <tr>\n",
       "      <th>4</th>\n",
       "      <td>1000_442</td>\n",
       "      <td>1000</td>\n",
       "      <td>2018-12-27</td>\n",
       "      <td>880.22</td>\n",
       "      <td>0.859590</td>\n",
       "      <td>12</td>\n",
       "    </tr>\n",
       "  </tbody>\n",
       "</table>\n",
       "</div>"
      ],
      "text/plain": [
       "         id  user_id session_date  mb_used   gb_used  month\n",
       "0   1000_13     1000   2018-12-29    89.86  0.087754     12\n",
       "1  1000_204     1000   2018-12-31     0.00  0.000000     12\n",
       "2  1000_379     1000   2018-12-28   660.40  0.644922     12\n",
       "3  1000_413     1000   2018-12-26   270.99  0.264639     12\n",
       "4  1000_442     1000   2018-12-27   880.22  0.859590     12"
      ]
     },
     "execution_count": 22,
     "metadata": {},
     "output_type": "execute_result"
    }
   ],
   "source": [
    "internet_data['month'] = pd.to_datetime(internet_data['session_date']).dt.month\n",
    "internet_data.head()"
   ]
  },
  {
   "cell_type": "code",
   "execution_count": 23,
   "metadata": {
    "scrolled": true
   },
   "outputs": [
    {
     "data": {
      "text/html": [
       "<div>\n",
       "<style scoped>\n",
       "    .dataframe tbody tr th:only-of-type {\n",
       "        vertical-align: middle;\n",
       "    }\n",
       "\n",
       "    .dataframe tbody tr th {\n",
       "        vertical-align: top;\n",
       "    }\n",
       "\n",
       "    .dataframe thead th {\n",
       "        text-align: right;\n",
       "    }\n",
       "</style>\n",
       "<table border=\"1\" class=\"dataframe\">\n",
       "  <thead>\n",
       "    <tr style=\"text-align: right;\">\n",
       "      <th></th>\n",
       "      <th>user_id</th>\n",
       "      <th>month</th>\n",
       "      <th>gb_used</th>\n",
       "    </tr>\n",
       "  </thead>\n",
       "  <tbody>\n",
       "    <tr>\n",
       "      <th>0</th>\n",
       "      <td>1000</td>\n",
       "      <td>12</td>\n",
       "      <td>2.0</td>\n",
       "    </tr>\n",
       "    <tr>\n",
       "      <th>1</th>\n",
       "      <td>1001</td>\n",
       "      <td>8</td>\n",
       "      <td>7.0</td>\n",
       "    </tr>\n",
       "    <tr>\n",
       "      <th>2</th>\n",
       "      <td>1001</td>\n",
       "      <td>9</td>\n",
       "      <td>14.0</td>\n",
       "    </tr>\n",
       "    <tr>\n",
       "      <th>3</th>\n",
       "      <td>1001</td>\n",
       "      <td>10</td>\n",
       "      <td>22.0</td>\n",
       "    </tr>\n",
       "    <tr>\n",
       "      <th>4</th>\n",
       "      <td>1001</td>\n",
       "      <td>11</td>\n",
       "      <td>19.0</td>\n",
       "    </tr>\n",
       "  </tbody>\n",
       "</table>\n",
       "</div>"
      ],
      "text/plain": [
       "   user_id  month  gb_used\n",
       "0     1000     12      2.0\n",
       "1     1001      8      7.0\n",
       "2     1001      9     14.0\n",
       "3     1001     10     22.0\n",
       "4     1001     11     19.0"
      ]
     },
     "execution_count": 23,
     "metadata": {},
     "output_type": "execute_result"
    }
   ],
   "source": [
    "gb_per_month = internet_data.groupby(['user_id','month'], as_index=False)['gb_used'].sum()\n",
    "gb_per_month['gb_used'] = gb_per_month['gb_used'].apply(np.ceil)\n",
    "gb_per_month.head()"
   ]
  },
  {
   "cell_type": "markdown",
   "metadata": {},
   "source": [
    "After adjusting the data to our needs.\n",
    "We can merge it together into a dataframe that we can analyse"
   ]
  },
  {
   "cell_type": "markdown",
   "metadata": {},
   "source": [
    "**5) bulding the data frame we will analyze.**"
   ]
  },
  {
   "cell_type": "code",
   "execution_count": 24,
   "metadata": {},
   "outputs": [],
   "source": [
    "data_frames = [calls_per_month, sms_per_month, gb_per_month]\n",
    "data_month = reduce(lambda  left,right: pd.merge(left,right,on=['user_id','month'],\n",
    "                                            how='outer'), data_frames).fillna(0)"
   ]
  },
  {
   "cell_type": "code",
   "execution_count": 25,
   "metadata": {},
   "outputs": [
    {
     "data": {
      "text/html": [
       "<div>\n",
       "<style scoped>\n",
       "    .dataframe tbody tr th:only-of-type {\n",
       "        vertical-align: middle;\n",
       "    }\n",
       "\n",
       "    .dataframe tbody tr th {\n",
       "        vertical-align: top;\n",
       "    }\n",
       "\n",
       "    .dataframe thead th {\n",
       "        text-align: right;\n",
       "    }\n",
       "</style>\n",
       "<table border=\"1\" class=\"dataframe\">\n",
       "  <thead>\n",
       "    <tr style=\"text-align: right;\">\n",
       "      <th></th>\n",
       "      <th>user_id</th>\n",
       "      <th>month</th>\n",
       "      <th>duration</th>\n",
       "      <th>sms_count</th>\n",
       "      <th>gb_used</th>\n",
       "    </tr>\n",
       "  </thead>\n",
       "  <tbody>\n",
       "    <tr>\n",
       "      <th>0</th>\n",
       "      <td>1000</td>\n",
       "      <td>12</td>\n",
       "      <td>124.0</td>\n",
       "      <td>7.0</td>\n",
       "      <td>2.0</td>\n",
       "    </tr>\n",
       "    <tr>\n",
       "      <th>1</th>\n",
       "      <td>1001</td>\n",
       "      <td>8</td>\n",
       "      <td>182.0</td>\n",
       "      <td>14.0</td>\n",
       "      <td>7.0</td>\n",
       "    </tr>\n",
       "    <tr>\n",
       "      <th>2</th>\n",
       "      <td>1001</td>\n",
       "      <td>9</td>\n",
       "      <td>315.0</td>\n",
       "      <td>23.0</td>\n",
       "      <td>14.0</td>\n",
       "    </tr>\n",
       "    <tr>\n",
       "      <th>3</th>\n",
       "      <td>1001</td>\n",
       "      <td>10</td>\n",
       "      <td>393.0</td>\n",
       "      <td>25.0</td>\n",
       "      <td>22.0</td>\n",
       "    </tr>\n",
       "    <tr>\n",
       "      <th>4</th>\n",
       "      <td>1001</td>\n",
       "      <td>11</td>\n",
       "      <td>426.0</td>\n",
       "      <td>19.0</td>\n",
       "      <td>19.0</td>\n",
       "    </tr>\n",
       "    <tr>\n",
       "      <th>...</th>\n",
       "      <td>...</td>\n",
       "      <td>...</td>\n",
       "      <td>...</td>\n",
       "      <td>...</td>\n",
       "      <td>...</td>\n",
       "    </tr>\n",
       "    <tr>\n",
       "      <th>2288</th>\n",
       "      <td>1349</td>\n",
       "      <td>12</td>\n",
       "      <td>0.0</td>\n",
       "      <td>28.0</td>\n",
       "      <td>13.0</td>\n",
       "    </tr>\n",
       "    <tr>\n",
       "      <th>2289</th>\n",
       "      <td>1361</td>\n",
       "      <td>5</td>\n",
       "      <td>0.0</td>\n",
       "      <td>2.0</td>\n",
       "      <td>2.0</td>\n",
       "    </tr>\n",
       "    <tr>\n",
       "      <th>2290</th>\n",
       "      <td>1482</td>\n",
       "      <td>10</td>\n",
       "      <td>0.0</td>\n",
       "      <td>1.0</td>\n",
       "      <td>0.0</td>\n",
       "    </tr>\n",
       "    <tr>\n",
       "      <th>2291</th>\n",
       "      <td>1108</td>\n",
       "      <td>12</td>\n",
       "      <td>0.0</td>\n",
       "      <td>0.0</td>\n",
       "      <td>1.0</td>\n",
       "    </tr>\n",
       "    <tr>\n",
       "      <th>2292</th>\n",
       "      <td>1311</td>\n",
       "      <td>6</td>\n",
       "      <td>0.0</td>\n",
       "      <td>0.0</td>\n",
       "      <td>2.0</td>\n",
       "    </tr>\n",
       "  </tbody>\n",
       "</table>\n",
       "<p>2293 rows × 5 columns</p>\n",
       "</div>"
      ],
      "text/plain": [
       "      user_id  month  duration  sms_count  gb_used\n",
       "0        1000     12     124.0        7.0      2.0\n",
       "1        1001      8     182.0       14.0      7.0\n",
       "2        1001      9     315.0       23.0     14.0\n",
       "3        1001     10     393.0       25.0     22.0\n",
       "4        1001     11     426.0       19.0     19.0\n",
       "...       ...    ...       ...        ...      ...\n",
       "2288     1349     12       0.0       28.0     13.0\n",
       "2289     1361      5       0.0        2.0      2.0\n",
       "2290     1482     10       0.0        1.0      0.0\n",
       "2291     1108     12       0.0        0.0      1.0\n",
       "2292     1311      6       0.0        0.0      2.0\n",
       "\n",
       "[2293 rows x 5 columns]"
      ]
     },
     "execution_count": 25,
     "metadata": {},
     "output_type": "execute_result"
    }
   ],
   "source": [
    "data_month"
   ]
  },
  {
   "cell_type": "code",
   "execution_count": 26,
   "metadata": {},
   "outputs": [],
   "source": [
    "data= pd.merge(left = user_data ,right = data_month, how='outer',on=['user_id']).fillna(0)\n"
   ]
  },
  {
   "cell_type": "markdown",
   "metadata": {},
   "source": [
    "**This is the dataframe we will conduct our analysis from.**"
   ]
  },
  {
   "cell_type": "code",
   "execution_count": 27,
   "metadata": {
    "scrolled": true
   },
   "outputs": [
    {
     "data": {
      "text/html": [
       "<div>\n",
       "<style scoped>\n",
       "    .dataframe tbody tr th:only-of-type {\n",
       "        vertical-align: middle;\n",
       "    }\n",
       "\n",
       "    .dataframe tbody tr th {\n",
       "        vertical-align: top;\n",
       "    }\n",
       "\n",
       "    .dataframe thead th {\n",
       "        text-align: right;\n",
       "    }\n",
       "</style>\n",
       "<table border=\"1\" class=\"dataframe\">\n",
       "  <thead>\n",
       "    <tr style=\"text-align: right;\">\n",
       "      <th></th>\n",
       "      <th>user_id</th>\n",
       "      <th>first_name</th>\n",
       "      <th>last_name</th>\n",
       "      <th>age</th>\n",
       "      <th>city</th>\n",
       "      <th>reg_date</th>\n",
       "      <th>plan</th>\n",
       "      <th>churn_date</th>\n",
       "      <th>month</th>\n",
       "      <th>duration</th>\n",
       "      <th>sms_count</th>\n",
       "      <th>gb_used</th>\n",
       "    </tr>\n",
       "  </thead>\n",
       "  <tbody>\n",
       "    <tr>\n",
       "      <th>0</th>\n",
       "      <td>1000</td>\n",
       "      <td>Anamaria</td>\n",
       "      <td>Bauer</td>\n",
       "      <td>45</td>\n",
       "      <td>Atlanta-Sandy Springs-Roswell, GA MSA</td>\n",
       "      <td>2018-12-27</td>\n",
       "      <td>ultimate</td>\n",
       "      <td>2018-12-31</td>\n",
       "      <td>12.0</td>\n",
       "      <td>124.0</td>\n",
       "      <td>7.0</td>\n",
       "      <td>2.0</td>\n",
       "    </tr>\n",
       "    <tr>\n",
       "      <th>1</th>\n",
       "      <td>1001</td>\n",
       "      <td>Mickey</td>\n",
       "      <td>Wilkerson</td>\n",
       "      <td>28</td>\n",
       "      <td>Seattle-Tacoma-Bellevue, WA MSA</td>\n",
       "      <td>2018-12-27</td>\n",
       "      <td>surf</td>\n",
       "      <td>2018-12-31</td>\n",
       "      <td>8.0</td>\n",
       "      <td>182.0</td>\n",
       "      <td>14.0</td>\n",
       "      <td>7.0</td>\n",
       "    </tr>\n",
       "    <tr>\n",
       "      <th>2</th>\n",
       "      <td>1001</td>\n",
       "      <td>Mickey</td>\n",
       "      <td>Wilkerson</td>\n",
       "      <td>28</td>\n",
       "      <td>Seattle-Tacoma-Bellevue, WA MSA</td>\n",
       "      <td>2018-12-27</td>\n",
       "      <td>surf</td>\n",
       "      <td>2018-12-31</td>\n",
       "      <td>9.0</td>\n",
       "      <td>315.0</td>\n",
       "      <td>23.0</td>\n",
       "      <td>14.0</td>\n",
       "    </tr>\n",
       "    <tr>\n",
       "      <th>3</th>\n",
       "      <td>1001</td>\n",
       "      <td>Mickey</td>\n",
       "      <td>Wilkerson</td>\n",
       "      <td>28</td>\n",
       "      <td>Seattle-Tacoma-Bellevue, WA MSA</td>\n",
       "      <td>2018-12-27</td>\n",
       "      <td>surf</td>\n",
       "      <td>2018-12-31</td>\n",
       "      <td>10.0</td>\n",
       "      <td>393.0</td>\n",
       "      <td>25.0</td>\n",
       "      <td>22.0</td>\n",
       "    </tr>\n",
       "    <tr>\n",
       "      <th>4</th>\n",
       "      <td>1001</td>\n",
       "      <td>Mickey</td>\n",
       "      <td>Wilkerson</td>\n",
       "      <td>28</td>\n",
       "      <td>Seattle-Tacoma-Bellevue, WA MSA</td>\n",
       "      <td>2018-12-27</td>\n",
       "      <td>surf</td>\n",
       "      <td>2018-12-31</td>\n",
       "      <td>11.0</td>\n",
       "      <td>426.0</td>\n",
       "      <td>19.0</td>\n",
       "      <td>19.0</td>\n",
       "    </tr>\n",
       "    <tr>\n",
       "      <th>5</th>\n",
       "      <td>1001</td>\n",
       "      <td>Mickey</td>\n",
       "      <td>Wilkerson</td>\n",
       "      <td>28</td>\n",
       "      <td>Seattle-Tacoma-Bellevue, WA MSA</td>\n",
       "      <td>2018-12-27</td>\n",
       "      <td>surf</td>\n",
       "      <td>2018-12-31</td>\n",
       "      <td>12.0</td>\n",
       "      <td>412.0</td>\n",
       "      <td>25.0</td>\n",
       "      <td>19.0</td>\n",
       "    </tr>\n",
       "    <tr>\n",
       "      <th>6</th>\n",
       "      <td>1002</td>\n",
       "      <td>Carlee</td>\n",
       "      <td>Hoffman</td>\n",
       "      <td>36</td>\n",
       "      <td>Las Vegas-Henderson-Paradise, NV MSA</td>\n",
       "      <td>2018-12-27</td>\n",
       "      <td>surf</td>\n",
       "      <td>2018-12-31</td>\n",
       "      <td>10.0</td>\n",
       "      <td>59.0</td>\n",
       "      <td>8.0</td>\n",
       "      <td>7.0</td>\n",
       "    </tr>\n",
       "    <tr>\n",
       "      <th>7</th>\n",
       "      <td>1002</td>\n",
       "      <td>Carlee</td>\n",
       "      <td>Hoffman</td>\n",
       "      <td>36</td>\n",
       "      <td>Las Vegas-Henderson-Paradise, NV MSA</td>\n",
       "      <td>2018-12-27</td>\n",
       "      <td>surf</td>\n",
       "      <td>2018-12-31</td>\n",
       "      <td>11.0</td>\n",
       "      <td>386.0</td>\n",
       "      <td>21.0</td>\n",
       "      <td>19.0</td>\n",
       "    </tr>\n",
       "    <tr>\n",
       "      <th>8</th>\n",
       "      <td>1002</td>\n",
       "      <td>Carlee</td>\n",
       "      <td>Hoffman</td>\n",
       "      <td>36</td>\n",
       "      <td>Las Vegas-Henderson-Paradise, NV MSA</td>\n",
       "      <td>2018-12-27</td>\n",
       "      <td>surf</td>\n",
       "      <td>2018-12-31</td>\n",
       "      <td>12.0</td>\n",
       "      <td>384.0</td>\n",
       "      <td>22.0</td>\n",
       "      <td>15.0</td>\n",
       "    </tr>\n",
       "    <tr>\n",
       "      <th>9</th>\n",
       "      <td>1003</td>\n",
       "      <td>Reynaldo</td>\n",
       "      <td>Jenkins</td>\n",
       "      <td>52</td>\n",
       "      <td>Tulsa, OK MSA</td>\n",
       "      <td>2018-12-28</td>\n",
       "      <td>surf</td>\n",
       "      <td>2018-12-31</td>\n",
       "      <td>12.0</td>\n",
       "      <td>1104.0</td>\n",
       "      <td>14.0</td>\n",
       "      <td>27.0</td>\n",
       "    </tr>\n",
       "  </tbody>\n",
       "</table>\n",
       "</div>"
      ],
      "text/plain": [
       "   user_id first_name  last_name  age                                   city  \\\n",
       "0     1000   Anamaria      Bauer   45  Atlanta-Sandy Springs-Roswell, GA MSA   \n",
       "1     1001     Mickey  Wilkerson   28        Seattle-Tacoma-Bellevue, WA MSA   \n",
       "2     1001     Mickey  Wilkerson   28        Seattle-Tacoma-Bellevue, WA MSA   \n",
       "3     1001     Mickey  Wilkerson   28        Seattle-Tacoma-Bellevue, WA MSA   \n",
       "4     1001     Mickey  Wilkerson   28        Seattle-Tacoma-Bellevue, WA MSA   \n",
       "5     1001     Mickey  Wilkerson   28        Seattle-Tacoma-Bellevue, WA MSA   \n",
       "6     1002     Carlee    Hoffman   36   Las Vegas-Henderson-Paradise, NV MSA   \n",
       "7     1002     Carlee    Hoffman   36   Las Vegas-Henderson-Paradise, NV MSA   \n",
       "8     1002     Carlee    Hoffman   36   Las Vegas-Henderson-Paradise, NV MSA   \n",
       "9     1003   Reynaldo    Jenkins   52                          Tulsa, OK MSA   \n",
       "\n",
       "    reg_date      plan churn_date  month  duration  sms_count  gb_used  \n",
       "0 2018-12-27  ultimate 2018-12-31   12.0     124.0        7.0      2.0  \n",
       "1 2018-12-27      surf 2018-12-31    8.0     182.0       14.0      7.0  \n",
       "2 2018-12-27      surf 2018-12-31    9.0     315.0       23.0     14.0  \n",
       "3 2018-12-27      surf 2018-12-31   10.0     393.0       25.0     22.0  \n",
       "4 2018-12-27      surf 2018-12-31   11.0     426.0       19.0     19.0  \n",
       "5 2018-12-27      surf 2018-12-31   12.0     412.0       25.0     19.0  \n",
       "6 2018-12-27      surf 2018-12-31   10.0      59.0        8.0      7.0  \n",
       "7 2018-12-27      surf 2018-12-31   11.0     386.0       21.0     19.0  \n",
       "8 2018-12-27      surf 2018-12-31   12.0     384.0       22.0     15.0  \n",
       "9 2018-12-28      surf 2018-12-31   12.0    1104.0       14.0     27.0  "
      ]
     },
     "execution_count": 27,
     "metadata": {},
     "output_type": "execute_result"
    }
   ],
   "source": [
    "data.head(10)"
   ]
  },
  {
   "cell_type": "markdown",
   "metadata": {},
   "source": [
    "This dataframe has all the monthly information on each client in our data.\n"
   ]
  },
  {
   "cell_type": "markdown",
   "metadata": {},
   "source": [
    "**6) Counting the monthly revenue of each client**"
   ]
  },
  {
   "cell_type": "code",
   "execution_count": 28,
   "metadata": {},
   "outputs": [],
   "source": [
    "def revenue(row):\n",
    "    #by using row accessor we will take each row of each client separately\n",
    "    # so we're creating variables of plans/duration/gbytes/sms inside the function\n",
    "    # and we can operate them for each user\n",
    "    sms=row['sms_count']\n",
    "    duration=row['duration']\n",
    "    gb=row['gb_used']\n",
    "    plan=row['plan']\n",
    "    \n",
    "    plan_cost = 0  \n",
    "    internet_cost = 0\n",
    "    calls_cost = 0\n",
    "    sms_cost = 0\n",
    "    \n",
    "    if plan == 'surf':\n",
    "        plan_cost=20\n",
    "        if sms>50:\n",
    "            sms_cost=(sms-50)*0.03\n",
    "        if duration>500:\n",
    "            calls_cost=(duration-500)*0.03\n",
    "        if gb>15:\n",
    "            internet_cost=(gb-15)*10\n",
    "            \n",
    "    elif plan == 'ultimate':\n",
    "        plan_cost=70\n",
    "        if sms>1000:\n",
    "            sms_cost=(sms-100)*0.01\n",
    "        if duration>3000:\n",
    "            calls_cost>(duration - 3000) * 0.01\n",
    "        if gb > 30:\n",
    "            internet_cost = (gb - 30) * 7.\n",
    "#now calculate the total cost by simply summing it all up\n",
    "    total_cost=plan_cost+internet_cost+calls_cost+sms_cost\n",
    "    return total_cost"
   ]
  },
  {
   "cell_type": "code",
   "execution_count": 29,
   "metadata": {},
   "outputs": [
    {
     "data": {
      "text/html": [
       "<div>\n",
       "<style scoped>\n",
       "    .dataframe tbody tr th:only-of-type {\n",
       "        vertical-align: middle;\n",
       "    }\n",
       "\n",
       "    .dataframe tbody tr th {\n",
       "        vertical-align: top;\n",
       "    }\n",
       "\n",
       "    .dataframe thead th {\n",
       "        text-align: right;\n",
       "    }\n",
       "</style>\n",
       "<table border=\"1\" class=\"dataframe\">\n",
       "  <thead>\n",
       "    <tr style=\"text-align: right;\">\n",
       "      <th></th>\n",
       "      <th>user_id</th>\n",
       "      <th>first_name</th>\n",
       "      <th>last_name</th>\n",
       "      <th>age</th>\n",
       "      <th>city</th>\n",
       "      <th>reg_date</th>\n",
       "      <th>plan</th>\n",
       "      <th>churn_date</th>\n",
       "      <th>month</th>\n",
       "      <th>duration</th>\n",
       "      <th>sms_count</th>\n",
       "      <th>gb_used</th>\n",
       "    </tr>\n",
       "  </thead>\n",
       "  <tbody>\n",
       "    <tr>\n",
       "      <th>651</th>\n",
       "      <td>1138</td>\n",
       "      <td>Arlie</td>\n",
       "      <td>Higgins</td>\n",
       "      <td>66</td>\n",
       "      <td>Riverside-San Bernardino-Ontario, CA MSA</td>\n",
       "      <td>2018-10-05</td>\n",
       "      <td>surf</td>\n",
       "      <td>2018-12-31</td>\n",
       "      <td>2.0</td>\n",
       "      <td>307.0</td>\n",
       "      <td>6.0</td>\n",
       "      <td>16.0</td>\n",
       "    </tr>\n",
       "    <tr>\n",
       "      <th>652</th>\n",
       "      <td>1138</td>\n",
       "      <td>Arlie</td>\n",
       "      <td>Higgins</td>\n",
       "      <td>66</td>\n",
       "      <td>Riverside-San Bernardino-Ontario, CA MSA</td>\n",
       "      <td>2018-10-05</td>\n",
       "      <td>surf</td>\n",
       "      <td>2018-12-31</td>\n",
       "      <td>3.0</td>\n",
       "      <td>363.0</td>\n",
       "      <td>11.0</td>\n",
       "      <td>18.0</td>\n",
       "    </tr>\n",
       "    <tr>\n",
       "      <th>653</th>\n",
       "      <td>1138</td>\n",
       "      <td>Arlie</td>\n",
       "      <td>Higgins</td>\n",
       "      <td>66</td>\n",
       "      <td>Riverside-San Bernardino-Ontario, CA MSA</td>\n",
       "      <td>2018-10-05</td>\n",
       "      <td>surf</td>\n",
       "      <td>2018-12-31</td>\n",
       "      <td>4.0</td>\n",
       "      <td>321.0</td>\n",
       "      <td>9.0</td>\n",
       "      <td>20.0</td>\n",
       "    </tr>\n",
       "    <tr>\n",
       "      <th>654</th>\n",
       "      <td>1138</td>\n",
       "      <td>Arlie</td>\n",
       "      <td>Higgins</td>\n",
       "      <td>66</td>\n",
       "      <td>Riverside-San Bernardino-Ontario, CA MSA</td>\n",
       "      <td>2018-10-05</td>\n",
       "      <td>surf</td>\n",
       "      <td>2018-12-31</td>\n",
       "      <td>5.0</td>\n",
       "      <td>381.0</td>\n",
       "      <td>15.0</td>\n",
       "      <td>23.0</td>\n",
       "    </tr>\n",
       "    <tr>\n",
       "      <th>655</th>\n",
       "      <td>1138</td>\n",
       "      <td>Arlie</td>\n",
       "      <td>Higgins</td>\n",
       "      <td>66</td>\n",
       "      <td>Riverside-San Bernardino-Ontario, CA MSA</td>\n",
       "      <td>2018-10-05</td>\n",
       "      <td>surf</td>\n",
       "      <td>2018-12-31</td>\n",
       "      <td>6.0</td>\n",
       "      <td>530.0</td>\n",
       "      <td>13.0</td>\n",
       "      <td>19.0</td>\n",
       "    </tr>\n",
       "    <tr>\n",
       "      <th>656</th>\n",
       "      <td>1138</td>\n",
       "      <td>Arlie</td>\n",
       "      <td>Higgins</td>\n",
       "      <td>66</td>\n",
       "      <td>Riverside-San Bernardino-Ontario, CA MSA</td>\n",
       "      <td>2018-10-05</td>\n",
       "      <td>surf</td>\n",
       "      <td>2018-12-31</td>\n",
       "      <td>7.0</td>\n",
       "      <td>399.0</td>\n",
       "      <td>11.0</td>\n",
       "      <td>24.0</td>\n",
       "    </tr>\n",
       "    <tr>\n",
       "      <th>657</th>\n",
       "      <td>1138</td>\n",
       "      <td>Arlie</td>\n",
       "      <td>Higgins</td>\n",
       "      <td>66</td>\n",
       "      <td>Riverside-San Bernardino-Ontario, CA MSA</td>\n",
       "      <td>2018-10-05</td>\n",
       "      <td>surf</td>\n",
       "      <td>2018-12-31</td>\n",
       "      <td>8.0</td>\n",
       "      <td>549.0</td>\n",
       "      <td>6.0</td>\n",
       "      <td>19.0</td>\n",
       "    </tr>\n",
       "    <tr>\n",
       "      <th>658</th>\n",
       "      <td>1138</td>\n",
       "      <td>Arlie</td>\n",
       "      <td>Higgins</td>\n",
       "      <td>66</td>\n",
       "      <td>Riverside-San Bernardino-Ontario, CA MSA</td>\n",
       "      <td>2018-10-05</td>\n",
       "      <td>surf</td>\n",
       "      <td>2018-12-31</td>\n",
       "      <td>9.0</td>\n",
       "      <td>374.0</td>\n",
       "      <td>14.0</td>\n",
       "      <td>21.0</td>\n",
       "    </tr>\n",
       "    <tr>\n",
       "      <th>659</th>\n",
       "      <td>1138</td>\n",
       "      <td>Arlie</td>\n",
       "      <td>Higgins</td>\n",
       "      <td>66</td>\n",
       "      <td>Riverside-San Bernardino-Ontario, CA MSA</td>\n",
       "      <td>2018-10-05</td>\n",
       "      <td>surf</td>\n",
       "      <td>2018-12-31</td>\n",
       "      <td>10.0</td>\n",
       "      <td>469.0</td>\n",
       "      <td>5.0</td>\n",
       "      <td>24.0</td>\n",
       "    </tr>\n",
       "    <tr>\n",
       "      <th>660</th>\n",
       "      <td>1138</td>\n",
       "      <td>Arlie</td>\n",
       "      <td>Higgins</td>\n",
       "      <td>66</td>\n",
       "      <td>Riverside-San Bernardino-Ontario, CA MSA</td>\n",
       "      <td>2018-10-05</td>\n",
       "      <td>surf</td>\n",
       "      <td>2018-12-31</td>\n",
       "      <td>11.0</td>\n",
       "      <td>375.0</td>\n",
       "      <td>6.0</td>\n",
       "      <td>17.0</td>\n",
       "    </tr>\n",
       "    <tr>\n",
       "      <th>661</th>\n",
       "      <td>1138</td>\n",
       "      <td>Arlie</td>\n",
       "      <td>Higgins</td>\n",
       "      <td>66</td>\n",
       "      <td>Riverside-San Bernardino-Ontario, CA MSA</td>\n",
       "      <td>2018-10-05</td>\n",
       "      <td>surf</td>\n",
       "      <td>2018-12-31</td>\n",
       "      <td>12.0</td>\n",
       "      <td>177.0</td>\n",
       "      <td>6.0</td>\n",
       "      <td>8.0</td>\n",
       "    </tr>\n",
       "  </tbody>\n",
       "</table>\n",
       "</div>"
      ],
      "text/plain": [
       "     user_id first_name last_name  age  \\\n",
       "651     1138      Arlie   Higgins   66   \n",
       "652     1138      Arlie   Higgins   66   \n",
       "653     1138      Arlie   Higgins   66   \n",
       "654     1138      Arlie   Higgins   66   \n",
       "655     1138      Arlie   Higgins   66   \n",
       "656     1138      Arlie   Higgins   66   \n",
       "657     1138      Arlie   Higgins   66   \n",
       "658     1138      Arlie   Higgins   66   \n",
       "659     1138      Arlie   Higgins   66   \n",
       "660     1138      Arlie   Higgins   66   \n",
       "661     1138      Arlie   Higgins   66   \n",
       "\n",
       "                                         city   reg_date  plan churn_date  \\\n",
       "651  Riverside-San Bernardino-Ontario, CA MSA 2018-10-05  surf 2018-12-31   \n",
       "652  Riverside-San Bernardino-Ontario, CA MSA 2018-10-05  surf 2018-12-31   \n",
       "653  Riverside-San Bernardino-Ontario, CA MSA 2018-10-05  surf 2018-12-31   \n",
       "654  Riverside-San Bernardino-Ontario, CA MSA 2018-10-05  surf 2018-12-31   \n",
       "655  Riverside-San Bernardino-Ontario, CA MSA 2018-10-05  surf 2018-12-31   \n",
       "656  Riverside-San Bernardino-Ontario, CA MSA 2018-10-05  surf 2018-12-31   \n",
       "657  Riverside-San Bernardino-Ontario, CA MSA 2018-10-05  surf 2018-12-31   \n",
       "658  Riverside-San Bernardino-Ontario, CA MSA 2018-10-05  surf 2018-12-31   \n",
       "659  Riverside-San Bernardino-Ontario, CA MSA 2018-10-05  surf 2018-12-31   \n",
       "660  Riverside-San Bernardino-Ontario, CA MSA 2018-10-05  surf 2018-12-31   \n",
       "661  Riverside-San Bernardino-Ontario, CA MSA 2018-10-05  surf 2018-12-31   \n",
       "\n",
       "     month  duration  sms_count  gb_used  \n",
       "651    2.0     307.0        6.0     16.0  \n",
       "652    3.0     363.0       11.0     18.0  \n",
       "653    4.0     321.0        9.0     20.0  \n",
       "654    5.0     381.0       15.0     23.0  \n",
       "655    6.0     530.0       13.0     19.0  \n",
       "656    7.0     399.0       11.0     24.0  \n",
       "657    8.0     549.0        6.0     19.0  \n",
       "658    9.0     374.0       14.0     21.0  \n",
       "659   10.0     469.0        5.0     24.0  \n",
       "660   11.0     375.0        6.0     17.0  \n",
       "661   12.0     177.0        6.0      8.0  "
      ]
     },
     "execution_count": 29,
     "metadata": {},
     "output_type": "execute_result"
    }
   ],
   "source": [
    "data[data['user_id']==1138]"
   ]
  },
  {
   "cell_type": "code",
   "execution_count": 30,
   "metadata": {
    "scrolled": true
   },
   "outputs": [
    {
     "data": {
      "text/html": [
       "<div>\n",
       "<style scoped>\n",
       "    .dataframe tbody tr th:only-of-type {\n",
       "        vertical-align: middle;\n",
       "    }\n",
       "\n",
       "    .dataframe tbody tr th {\n",
       "        vertical-align: top;\n",
       "    }\n",
       "\n",
       "    .dataframe thead th {\n",
       "        text-align: right;\n",
       "    }\n",
       "</style>\n",
       "<table border=\"1\" class=\"dataframe\">\n",
       "  <thead>\n",
       "    <tr style=\"text-align: right;\">\n",
       "      <th></th>\n",
       "      <th>user_id</th>\n",
       "      <th>first_name</th>\n",
       "      <th>last_name</th>\n",
       "      <th>age</th>\n",
       "      <th>city</th>\n",
       "      <th>reg_date</th>\n",
       "      <th>plan</th>\n",
       "      <th>churn_date</th>\n",
       "      <th>month</th>\n",
       "      <th>duration</th>\n",
       "      <th>sms_count</th>\n",
       "      <th>gb_used</th>\n",
       "      <th>revenue</th>\n",
       "    </tr>\n",
       "  </thead>\n",
       "  <tbody>\n",
       "    <tr>\n",
       "      <th>0</th>\n",
       "      <td>1000</td>\n",
       "      <td>Anamaria</td>\n",
       "      <td>Bauer</td>\n",
       "      <td>45</td>\n",
       "      <td>Atlanta-Sandy Springs-Roswell, GA MSA</td>\n",
       "      <td>2018-12-27</td>\n",
       "      <td>ultimate</td>\n",
       "      <td>2018-12-31</td>\n",
       "      <td>12.0</td>\n",
       "      <td>124.0</td>\n",
       "      <td>7.0</td>\n",
       "      <td>2.0</td>\n",
       "      <td>70.0</td>\n",
       "    </tr>\n",
       "    <tr>\n",
       "      <th>1</th>\n",
       "      <td>1001</td>\n",
       "      <td>Mickey</td>\n",
       "      <td>Wilkerson</td>\n",
       "      <td>28</td>\n",
       "      <td>Seattle-Tacoma-Bellevue, WA MSA</td>\n",
       "      <td>2018-12-27</td>\n",
       "      <td>surf</td>\n",
       "      <td>2018-12-31</td>\n",
       "      <td>8.0</td>\n",
       "      <td>182.0</td>\n",
       "      <td>14.0</td>\n",
       "      <td>7.0</td>\n",
       "      <td>20.0</td>\n",
       "    </tr>\n",
       "    <tr>\n",
       "      <th>2</th>\n",
       "      <td>1001</td>\n",
       "      <td>Mickey</td>\n",
       "      <td>Wilkerson</td>\n",
       "      <td>28</td>\n",
       "      <td>Seattle-Tacoma-Bellevue, WA MSA</td>\n",
       "      <td>2018-12-27</td>\n",
       "      <td>surf</td>\n",
       "      <td>2018-12-31</td>\n",
       "      <td>9.0</td>\n",
       "      <td>315.0</td>\n",
       "      <td>23.0</td>\n",
       "      <td>14.0</td>\n",
       "      <td>20.0</td>\n",
       "    </tr>\n",
       "    <tr>\n",
       "      <th>3</th>\n",
       "      <td>1001</td>\n",
       "      <td>Mickey</td>\n",
       "      <td>Wilkerson</td>\n",
       "      <td>28</td>\n",
       "      <td>Seattle-Tacoma-Bellevue, WA MSA</td>\n",
       "      <td>2018-12-27</td>\n",
       "      <td>surf</td>\n",
       "      <td>2018-12-31</td>\n",
       "      <td>10.0</td>\n",
       "      <td>393.0</td>\n",
       "      <td>25.0</td>\n",
       "      <td>22.0</td>\n",
       "      <td>90.0</td>\n",
       "    </tr>\n",
       "    <tr>\n",
       "      <th>4</th>\n",
       "      <td>1001</td>\n",
       "      <td>Mickey</td>\n",
       "      <td>Wilkerson</td>\n",
       "      <td>28</td>\n",
       "      <td>Seattle-Tacoma-Bellevue, WA MSA</td>\n",
       "      <td>2018-12-27</td>\n",
       "      <td>surf</td>\n",
       "      <td>2018-12-31</td>\n",
       "      <td>11.0</td>\n",
       "      <td>426.0</td>\n",
       "      <td>19.0</td>\n",
       "      <td>19.0</td>\n",
       "      <td>60.0</td>\n",
       "    </tr>\n",
       "  </tbody>\n",
       "</table>\n",
       "</div>"
      ],
      "text/plain": [
       "   user_id first_name  last_name  age                                   city  \\\n",
       "0     1000   Anamaria      Bauer   45  Atlanta-Sandy Springs-Roswell, GA MSA   \n",
       "1     1001     Mickey  Wilkerson   28        Seattle-Tacoma-Bellevue, WA MSA   \n",
       "2     1001     Mickey  Wilkerson   28        Seattle-Tacoma-Bellevue, WA MSA   \n",
       "3     1001     Mickey  Wilkerson   28        Seattle-Tacoma-Bellevue, WA MSA   \n",
       "4     1001     Mickey  Wilkerson   28        Seattle-Tacoma-Bellevue, WA MSA   \n",
       "\n",
       "    reg_date      plan churn_date  month  duration  sms_count  gb_used  \\\n",
       "0 2018-12-27  ultimate 2018-12-31   12.0     124.0        7.0      2.0   \n",
       "1 2018-12-27      surf 2018-12-31    8.0     182.0       14.0      7.0   \n",
       "2 2018-12-27      surf 2018-12-31    9.0     315.0       23.0     14.0   \n",
       "3 2018-12-27      surf 2018-12-31   10.0     393.0       25.0     22.0   \n",
       "4 2018-12-27      surf 2018-12-31   11.0     426.0       19.0     19.0   \n",
       "\n",
       "   revenue  \n",
       "0     70.0  \n",
       "1     20.0  \n",
       "2     20.0  \n",
       "3     90.0  \n",
       "4     60.0  "
      ]
     },
     "execution_count": 30,
     "metadata": {},
     "output_type": "execute_result"
    }
   ],
   "source": [
    "data['revenue']=data.apply(revenue,axis=1)\n",
    "data.head()"
   ]
  },
  {
   "cell_type": "markdown",
   "metadata": {},
   "source": [
    "After adding the total revenue per month for each client we ready  to analyze which plan brings more revenue"
   ]
  },
  {
   "cell_type": "markdown",
   "metadata": {},
   "source": [
    "## Analyzing the Data"
   ]
  },
  {
   "cell_type": "markdown",
   "metadata": {},
   "source": [
    "In this pant we describe the customers behavior. We do it by Calculating the mean, variance, and standard\n",
    "deviation. \n",
    "First we will plot histograms for comparing the plans by the different columns, boxplots and then describe the distributions."
   ]
  },
  {
   "cell_type": "code",
   "execution_count": 31,
   "metadata": {},
   "outputs": [],
   "source": [
    "def distribution(parameter):\n",
    "    print('The histogram and boxplot of: {}'.format(parameter))\n",
    "    print('')\n",
    "    fig, axes = plt.subplots(1,2,figsize=(16, 5))\n",
    "    sns.histplot(data=data,bins=100,x=parameter,hue='plan',ax=axes[0])\n",
    "    sns.boxplot(data=data,x=parameter,y='plan',showfliers = False, orient=\"h\", palette=\"Set2\",ax=axes[1])\n",
    "    if data[parameter].median()>data[parameter].median():\n",
    "        print('The distribution is skewed to the right')\n",
    "    else:\n",
    "        print('The distribution is skewed to the left')\n",
    "    print('')\n",
    "    print('Statistics on: {}'.format(parameter))\n",
    "    print('Standard deviation is {}'.format(data[parameter].std()))\n",
    "    print('Variance is {}'.format(data[parameter].var()))\n",
    "    print(data[parameter].describe())"
   ]
  },
  {
   "cell_type": "code",
   "execution_count": 32,
   "metadata": {
    "scrolled": false
   },
   "outputs": [
    {
     "name": "stdout",
     "output_type": "stream",
     "text": [
      "The histogram and boxplot of: duration\n",
      "\n",
      "The distribution is skewed to the left\n",
      "\n",
      "Statistics on: duration\n",
      "Standard deviation is 237.4902941073229\n",
      "Variance is 56401.63979518273\n",
      "count    2303.000000\n",
      "mean      427.419453\n",
      "std       237.490294\n",
      "min         0.000000\n",
      "25%       262.500000\n",
      "50%       424.000000\n",
      "75%       571.500000\n",
      "max      1510.000000\n",
      "Name: duration, dtype: float64\n"
     ]
    },
    {
     "data": {
      "image/png": "[encoded data removed]",
      "text/plain": [
       "<Figure size 1152x360 with 2 Axes>"
      ]
     },
     "metadata": {
      "needs_background": "light"
     },
     "output_type": "display_data"
    }
   ],
   "source": [
    "distribution('duration')"
   ]
  },
  {
   "cell_type": "code",
   "execution_count": 33,
   "metadata": {},
   "outputs": [
    {
     "name": "stdout",
     "output_type": "stream",
     "text": [
      "The histogram and boxplot of: sms_count\n",
      "\n",
      "The distribution is skewed to the left\n",
      "\n",
      "Statistics on: sms_count\n",
      "Standard deviation is 10.791723726836153\n",
      "Variance is 116.4613009963584\n",
      "count    2303.000000\n",
      "mean       14.434650\n",
      "std        10.791724\n",
      "min         0.000000\n",
      "25%         2.000000\n",
      "50%        16.000000\n",
      "75%        24.000000\n",
      "max        31.000000\n",
      "Name: sms_count, dtype: float64\n"
     ]
    },
    {
     "data": {
      "image/png": "[encoded data removed]",
      "text/plain": [
       "<Figure size 1152x360 with 2 Axes>"
      ]
     },
     "metadata": {
      "needs_background": "light"
     },
     "output_type": "display_data"
    }
   ],
   "source": [
    "distribution('sms_count')"
   ]
  },
  {
   "cell_type": "code",
   "execution_count": 34,
   "metadata": {},
   "outputs": [
    {
     "name": "stdout",
     "output_type": "stream",
     "text": [
      "The histogram and boxplot of: gb_used\n",
      "\n",
      "The distribution is skewed to the left\n",
      "\n",
      "Statistics on: gb_used\n",
      "Standard deviation is 7.85794551087151\n",
      "Variance is 61.74730765182573\n",
      "count    2303.000000\n",
      "mean       16.797221\n",
      "std         7.857946\n",
      "min         0.000000\n",
      "25%        12.000000\n",
      "50%        17.000000\n",
      "75%        21.000000\n",
      "max        70.000000\n",
      "Name: gb_used, dtype: float64\n"
     ]
    },
    {
     "data": {
      "image/png": "[encoded data removed]",
      "text/plain": [
       "<Figure size 1152x360 with 2 Axes>"
      ]
     },
     "metadata": {
      "needs_background": "light"
     },
     "output_type": "display_data"
    }
   ],
   "source": [
    "distribution('gb_used')"
   ]
  },
  {
   "cell_type": "markdown",
   "metadata": {},
   "source": [
    "Based on the histograms:\n",
    "\n",
    "clients with the ultimate plan use less sms, less surfing data and spoke less minutes than the surf clients."
   ]
  },
  {
   "cell_type": "markdown",
   "metadata": {},
   "source": [
    "Bases on the boxplots:\n",
    "\n",
    "The call durations of the clients in both plans were the very similiar, and slighlty higher for surf clients\n",
    "\n",
    "Morever, surf plan clients seem to use more gigabyes than ultimate plan clients that have a more centered usage.\n",
    "Regarding SMS values, the boxplon shows that ultimate clients send more sms than surf clients as the distribution of the ultimate clients is higher.\n"
   ]
  },
  {
   "cell_type": "markdown",
   "metadata": {},
   "source": [
    "## Testing the hypotheses"
   ]
  },
  {
   "cell_type": "markdown",
   "metadata": {},
   "source": [
    "in this part we intend to check:\n",
    "\n",
    "-How the average revenue from users of Ultimate and Surf calling plans differs.\n",
    "\n",
    "-How the average revenue from users in NY-NJ area is different from that of the users\n",
    "from other regions.\n",
    "\n",
    "-For the t-tests alpha will equal 0.05\n",
    "\n",
    "**procedure:**\n",
    "      \n",
    "      - For the first hypothesis:\n",
    "    \n",
    "        H0: Average of revenue of ultimate clients equal to average of revenue of surf clients.\n",
    "        \n",
    "        H1: Average of revenue of ultimate clients not equal to average of revenue of surf clients.\n",
    "      \n",
    "\n",
    "1) We will seperate the revenue values from the dataframes to test out our hypothesis of them.\n",
    "\n",
    "2) We will compare the revenue of this 2 different plans by using t-test.\n",
    "\n",
    "3) Presenting findings.\n",
    "\n",
    "       - For the second hypothesis:\n",
    "       \n",
    "       H0: Average of revenue of clients from the NY-NJ region is equal to average of revenue of clients of other regions.\n",
    "        \n",
    "       H1: Average of revenue of clients from the NY-NJ region is not equal to average of revenue of clients of \n",
    "       other regions.\n",
    "        \n",
    "\n",
    "1) We will devide the data by regions and then extract the revenue of the regions we are interested in.\n",
    "\n",
    "2) We will compare the revenue of the regions we specify and the rest of the data revenue by using t-test.\n",
    "\n",
    "3) Presenting findings.\n"
   ]
  },
  {
   "cell_type": "markdown",
   "metadata": {},
   "source": [
    "-------------------------"
   ]
  },
  {
   "cell_type": "code",
   "execution_count": 35,
   "metadata": {},
   "outputs": [],
   "source": [
    "def t_test(sample1,sample2,alpha=0.05):\n",
    "    p_value=stats.ttest_ind(sample1, sample2,nan_policy='omit').pvalue.astype(int)\n",
    "    if p_value<alpha:\n",
    "        print('Reject H0: average of sample 1 is not equal to average of sample 2')\n",
    "    else:\n",
    "        print( \"Fail to Reject H0: We don't have enough evidence to say that averages of sample 1 \\\n",
    "  and sample 2 are not the same\") "
   ]
  },
  {
   "cell_type": "code",
   "execution_count": 36,
   "metadata": {
    "scrolled": true
   },
   "outputs": [
    {
     "data": {
      "text/html": [
       "<div>\n",
       "<style scoped>\n",
       "    .dataframe tbody tr th:only-of-type {\n",
       "        vertical-align: middle;\n",
       "    }\n",
       "\n",
       "    .dataframe tbody tr th {\n",
       "        vertical-align: top;\n",
       "    }\n",
       "\n",
       "    .dataframe thead th {\n",
       "        text-align: right;\n",
       "    }\n",
       "</style>\n",
       "<table border=\"1\" class=\"dataframe\">\n",
       "  <thead>\n",
       "    <tr style=\"text-align: right;\">\n",
       "      <th></th>\n",
       "      <th>user_id</th>\n",
       "      <th>first_name</th>\n",
       "      <th>last_name</th>\n",
       "      <th>age</th>\n",
       "      <th>city</th>\n",
       "      <th>reg_date</th>\n",
       "      <th>plan</th>\n",
       "      <th>churn_date</th>\n",
       "      <th>month</th>\n",
       "      <th>duration</th>\n",
       "      <th>sms_count</th>\n",
       "      <th>gb_used</th>\n",
       "      <th>revenue</th>\n",
       "    </tr>\n",
       "  </thead>\n",
       "  <tbody>\n",
       "    <tr>\n",
       "      <th>1</th>\n",
       "      <td>1001</td>\n",
       "      <td>Mickey</td>\n",
       "      <td>Wilkerson</td>\n",
       "      <td>28</td>\n",
       "      <td>Seattle-Tacoma-Bellevue, WA MSA</td>\n",
       "      <td>2018-12-27</td>\n",
       "      <td>surf</td>\n",
       "      <td>2018-12-31</td>\n",
       "      <td>8.0</td>\n",
       "      <td>182.0</td>\n",
       "      <td>14.0</td>\n",
       "      <td>7.0</td>\n",
       "      <td>20.0</td>\n",
       "    </tr>\n",
       "    <tr>\n",
       "      <th>2</th>\n",
       "      <td>1001</td>\n",
       "      <td>Mickey</td>\n",
       "      <td>Wilkerson</td>\n",
       "      <td>28</td>\n",
       "      <td>Seattle-Tacoma-Bellevue, WA MSA</td>\n",
       "      <td>2018-12-27</td>\n",
       "      <td>surf</td>\n",
       "      <td>2018-12-31</td>\n",
       "      <td>9.0</td>\n",
       "      <td>315.0</td>\n",
       "      <td>23.0</td>\n",
       "      <td>14.0</td>\n",
       "      <td>20.0</td>\n",
       "    </tr>\n",
       "    <tr>\n",
       "      <th>3</th>\n",
       "      <td>1001</td>\n",
       "      <td>Mickey</td>\n",
       "      <td>Wilkerson</td>\n",
       "      <td>28</td>\n",
       "      <td>Seattle-Tacoma-Bellevue, WA MSA</td>\n",
       "      <td>2018-12-27</td>\n",
       "      <td>surf</td>\n",
       "      <td>2018-12-31</td>\n",
       "      <td>10.0</td>\n",
       "      <td>393.0</td>\n",
       "      <td>25.0</td>\n",
       "      <td>22.0</td>\n",
       "      <td>90.0</td>\n",
       "    </tr>\n",
       "    <tr>\n",
       "      <th>4</th>\n",
       "      <td>1001</td>\n",
       "      <td>Mickey</td>\n",
       "      <td>Wilkerson</td>\n",
       "      <td>28</td>\n",
       "      <td>Seattle-Tacoma-Bellevue, WA MSA</td>\n",
       "      <td>2018-12-27</td>\n",
       "      <td>surf</td>\n",
       "      <td>2018-12-31</td>\n",
       "      <td>11.0</td>\n",
       "      <td>426.0</td>\n",
       "      <td>19.0</td>\n",
       "      <td>19.0</td>\n",
       "      <td>60.0</td>\n",
       "    </tr>\n",
       "    <tr>\n",
       "      <th>5</th>\n",
       "      <td>1001</td>\n",
       "      <td>Mickey</td>\n",
       "      <td>Wilkerson</td>\n",
       "      <td>28</td>\n",
       "      <td>Seattle-Tacoma-Bellevue, WA MSA</td>\n",
       "      <td>2018-12-27</td>\n",
       "      <td>surf</td>\n",
       "      <td>2018-12-31</td>\n",
       "      <td>12.0</td>\n",
       "      <td>412.0</td>\n",
       "      <td>25.0</td>\n",
       "      <td>19.0</td>\n",
       "      <td>60.0</td>\n",
       "    </tr>\n",
       "  </tbody>\n",
       "</table>\n",
       "</div>"
      ],
      "text/plain": [
       "   user_id first_name  last_name  age                             city  \\\n",
       "1     1001     Mickey  Wilkerson   28  Seattle-Tacoma-Bellevue, WA MSA   \n",
       "2     1001     Mickey  Wilkerson   28  Seattle-Tacoma-Bellevue, WA MSA   \n",
       "3     1001     Mickey  Wilkerson   28  Seattle-Tacoma-Bellevue, WA MSA   \n",
       "4     1001     Mickey  Wilkerson   28  Seattle-Tacoma-Bellevue, WA MSA   \n",
       "5     1001     Mickey  Wilkerson   28  Seattle-Tacoma-Bellevue, WA MSA   \n",
       "\n",
       "    reg_date  plan churn_date  month  duration  sms_count  gb_used  revenue  \n",
       "1 2018-12-27  surf 2018-12-31    8.0     182.0       14.0      7.0     20.0  \n",
       "2 2018-12-27  surf 2018-12-31    9.0     315.0       23.0     14.0     20.0  \n",
       "3 2018-12-27  surf 2018-12-31   10.0     393.0       25.0     22.0     90.0  \n",
       "4 2018-12-27  surf 2018-12-31   11.0     426.0       19.0     19.0     60.0  \n",
       "5 2018-12-27  surf 2018-12-31   12.0     412.0       25.0     19.0     60.0  "
      ]
     },
     "execution_count": 36,
     "metadata": {},
     "output_type": "execute_result"
    }
   ],
   "source": [
    "surf = data.query('plan == \"surf\"')\n",
    "surf.head()"
   ]
  },
  {
   "cell_type": "code",
   "execution_count": 37,
   "metadata": {
    "scrolled": true
   },
   "outputs": [
    {
     "data": {
      "text/html": [
       "<div>\n",
       "<style scoped>\n",
       "    .dataframe tbody tr th:only-of-type {\n",
       "        vertical-align: middle;\n",
       "    }\n",
       "\n",
       "    .dataframe tbody tr th {\n",
       "        vertical-align: top;\n",
       "    }\n",
       "\n",
       "    .dataframe thead th {\n",
       "        text-align: right;\n",
       "    }\n",
       "</style>\n",
       "<table border=\"1\" class=\"dataframe\">\n",
       "  <thead>\n",
       "    <tr style=\"text-align: right;\">\n",
       "      <th></th>\n",
       "      <th>user_id</th>\n",
       "      <th>first_name</th>\n",
       "      <th>last_name</th>\n",
       "      <th>age</th>\n",
       "      <th>city</th>\n",
       "      <th>reg_date</th>\n",
       "      <th>plan</th>\n",
       "      <th>churn_date</th>\n",
       "      <th>month</th>\n",
       "      <th>duration</th>\n",
       "      <th>sms_count</th>\n",
       "      <th>gb_used</th>\n",
       "      <th>revenue</th>\n",
       "    </tr>\n",
       "  </thead>\n",
       "  <tbody>\n",
       "    <tr>\n",
       "      <th>0</th>\n",
       "      <td>1000</td>\n",
       "      <td>Anamaria</td>\n",
       "      <td>Bauer</td>\n",
       "      <td>45</td>\n",
       "      <td>Atlanta-Sandy Springs-Roswell, GA MSA</td>\n",
       "      <td>2018-12-27</td>\n",
       "      <td>ultimate</td>\n",
       "      <td>2018-12-31</td>\n",
       "      <td>12.0</td>\n",
       "      <td>124.0</td>\n",
       "      <td>7.0</td>\n",
       "      <td>2.0</td>\n",
       "      <td>70.0</td>\n",
       "    </tr>\n",
       "    <tr>\n",
       "      <th>19</th>\n",
       "      <td>1006</td>\n",
       "      <td>Jesusa</td>\n",
       "      <td>Bradford</td>\n",
       "      <td>73</td>\n",
       "      <td>San Francisco-Oakland-Berkeley, CA MSA</td>\n",
       "      <td>2018-12-27</td>\n",
       "      <td>ultimate</td>\n",
       "      <td>2018-12-18</td>\n",
       "      <td>11.0</td>\n",
       "      <td>10.0</td>\n",
       "      <td>3.0</td>\n",
       "      <td>3.0</td>\n",
       "      <td>70.0</td>\n",
       "    </tr>\n",
       "    <tr>\n",
       "      <th>20</th>\n",
       "      <td>1006</td>\n",
       "      <td>Jesusa</td>\n",
       "      <td>Bradford</td>\n",
       "      <td>73</td>\n",
       "      <td>San Francisco-Oakland-Berkeley, CA MSA</td>\n",
       "      <td>2018-12-27</td>\n",
       "      <td>ultimate</td>\n",
       "      <td>2018-12-18</td>\n",
       "      <td>12.0</td>\n",
       "      <td>59.0</td>\n",
       "      <td>31.0</td>\n",
       "      <td>32.0</td>\n",
       "      <td>84.0</td>\n",
       "    </tr>\n",
       "    <tr>\n",
       "      <th>26</th>\n",
       "      <td>1008</td>\n",
       "      <td>Emely</td>\n",
       "      <td>Hoffman</td>\n",
       "      <td>53</td>\n",
       "      <td>Orlando-Kissimmee-Sanford, FL MSA</td>\n",
       "      <td>2018-12-28</td>\n",
       "      <td>ultimate</td>\n",
       "      <td>2018-12-31</td>\n",
       "      <td>10.0</td>\n",
       "      <td>476.0</td>\n",
       "      <td>16.0</td>\n",
       "      <td>17.0</td>\n",
       "      <td>70.0</td>\n",
       "    </tr>\n",
       "    <tr>\n",
       "      <th>27</th>\n",
       "      <td>1008</td>\n",
       "      <td>Emely</td>\n",
       "      <td>Hoffman</td>\n",
       "      <td>53</td>\n",
       "      <td>Orlando-Kissimmee-Sanford, FL MSA</td>\n",
       "      <td>2018-12-28</td>\n",
       "      <td>ultimate</td>\n",
       "      <td>2018-12-31</td>\n",
       "      <td>11.0</td>\n",
       "      <td>446.0</td>\n",
       "      <td>21.0</td>\n",
       "      <td>24.0</td>\n",
       "      <td>70.0</td>\n",
       "    </tr>\n",
       "  </tbody>\n",
       "</table>\n",
       "</div>"
      ],
      "text/plain": [
       "    user_id first_name last_name  age                                    city  \\\n",
       "0      1000   Anamaria     Bauer   45   Atlanta-Sandy Springs-Roswell, GA MSA   \n",
       "19     1006     Jesusa  Bradford   73  San Francisco-Oakland-Berkeley, CA MSA   \n",
       "20     1006     Jesusa  Bradford   73  San Francisco-Oakland-Berkeley, CA MSA   \n",
       "26     1008      Emely   Hoffman   53       Orlando-Kissimmee-Sanford, FL MSA   \n",
       "27     1008      Emely   Hoffman   53       Orlando-Kissimmee-Sanford, FL MSA   \n",
       "\n",
       "     reg_date      plan churn_date  month  duration  sms_count  gb_used  \\\n",
       "0  2018-12-27  ultimate 2018-12-31   12.0     124.0        7.0      2.0   \n",
       "19 2018-12-27  ultimate 2018-12-18   11.0      10.0        3.0      3.0   \n",
       "20 2018-12-27  ultimate 2018-12-18   12.0      59.0       31.0     32.0   \n",
       "26 2018-12-28  ultimate 2018-12-31   10.0     476.0       16.0     17.0   \n",
       "27 2018-12-28  ultimate 2018-12-31   11.0     446.0       21.0     24.0   \n",
       "\n",
       "    revenue  \n",
       "0      70.0  \n",
       "19     70.0  \n",
       "20     84.0  \n",
       "26     70.0  \n",
       "27     70.0  "
      ]
     },
     "execution_count": 37,
     "metadata": {},
     "output_type": "execute_result"
    }
   ],
   "source": [
    "ultimate = data.query('plan == \"ultimate\"')\n",
    "ultimate.head()"
   ]
  },
  {
   "cell_type": "markdown",
   "metadata": {},
   "source": [
    "# First hypothesis\n",
    "\n",
    "-The average revenue from users of Ultimate and Surf calling plans differs."
   ]
  },
  {
   "cell_type": "markdown",
   "metadata": {},
   "source": [
    "1) we will seperate the revenue values from the dataframes to test out our hypothesis of them."
   ]
  },
  {
   "cell_type": "code",
   "execution_count": 38,
   "metadata": {},
   "outputs": [],
   "source": [
    "surf_revenue = surf['revenue']\n",
    "ultimate_revenue = ultimate['revenue']"
   ]
  },
  {
   "cell_type": "code",
   "execution_count": 39,
   "metadata": {},
   "outputs": [
    {
     "data": {
      "text/plain": [
       "1    20.0\n",
       "2    20.0\n",
       "3    90.0\n",
       "4    60.0\n",
       "5    60.0\n",
       "Name: revenue, dtype: float64"
      ]
     },
     "execution_count": 39,
     "metadata": {},
     "output_type": "execute_result"
    }
   ],
   "source": [
    "surf_revenue.head()"
   ]
  },
  {
   "cell_type": "code",
   "execution_count": 40,
   "metadata": {},
   "outputs": [
    {
     "data": {
      "text/plain": [
       "0     70.0\n",
       "19    70.0\n",
       "20    84.0\n",
       "26    70.0\n",
       "27    70.0\n",
       "Name: revenue, dtype: float64"
      ]
     },
     "execution_count": 40,
     "metadata": {},
     "output_type": "execute_result"
    }
   ],
   "source": [
    "ultimate_revenue.head()"
   ]
  },
  {
   "cell_type": "markdown",
   "metadata": {},
   "source": [
    "2) we will compare the revenue of this 2 different plans by using t-test."
   ]
  },
  {
   "cell_type": "code",
   "execution_count": 41,
   "metadata": {
    "scrolled": true
   },
   "outputs": [
    {
     "name": "stdout",
     "output_type": "stream",
     "text": [
      "Reject H0: average of sample 1 is not equal to average of sample 2\n"
     ]
    }
   ],
   "source": [
    "t_test(surf_revenue,ultimate_revenue,alpha=0.05)"
   ]
  },
  {
   "cell_type": "code",
   "execution_count": 42,
   "metadata": {},
   "outputs": [
    {
     "name": "stdout",
     "output_type": "stream",
     "text": [
      "60.34214692843572\n",
      "72.3011049723757\n"
     ]
    }
   ],
   "source": [
    "print(surf_revenue.mean())\n",
    "print(ultimate_revenue.mean())"
   ]
  },
  {
   "cell_type": "markdown",
   "metadata": {},
   "source": [
    "3) presenting findings:"
   ]
  },
  {
   "cell_type": "markdown",
   "metadata": {},
   "source": [
    "after running our data sample through a t-test with a statistical significance level of 0.05 our hypothesis on the Equality of the Means of Paired Samples was rejected and the average of surf_revenue is not equal to average of ultimate_revenue.\n",
    "\n",
    "It seems that the mean of ultimate_revenue lower than the surf revenue."
   ]
  },
  {
   "cell_type": "markdown",
   "metadata": {},
   "source": [
    "# Second hypothesis\n",
    "\n",
    "-The average revenue from users in NY-NJ area is different from that of the users\n",
    "from other regions."
   ]
  },
  {
   "cell_type": "markdown",
   "metadata": {},
   "source": [
    "1) we will devide the data by regions and then extract the revenue of the regions we are interested in."
   ]
  },
  {
   "cell_type": "code",
   "execution_count": null,
   "metadata": {},
   "outputs": [],
   "source": []
  },
  {
   "cell_type": "code",
   "execution_count": 43,
   "metadata": {},
   "outputs": [
    {
     "data": {
      "text/html": [
       "<div>\n",
       "<style scoped>\n",
       "    .dataframe tbody tr th:only-of-type {\n",
       "        vertical-align: middle;\n",
       "    }\n",
       "\n",
       "    .dataframe tbody tr th {\n",
       "        vertical-align: top;\n",
       "    }\n",
       "\n",
       "    .dataframe thead th {\n",
       "        text-align: right;\n",
       "    }\n",
       "</style>\n",
       "<table border=\"1\" class=\"dataframe\">\n",
       "  <thead>\n",
       "    <tr style=\"text-align: right;\">\n",
       "      <th></th>\n",
       "      <th>user_id</th>\n",
       "      <th>first_name</th>\n",
       "      <th>last_name</th>\n",
       "      <th>age</th>\n",
       "      <th>city</th>\n",
       "      <th>reg_date</th>\n",
       "      <th>plan</th>\n",
       "      <th>churn_date</th>\n",
       "      <th>month</th>\n",
       "      <th>duration</th>\n",
       "      <th>sms_count</th>\n",
       "      <th>gb_used</th>\n",
       "      <th>revenue</th>\n",
       "    </tr>\n",
       "  </thead>\n",
       "  <tbody>\n",
       "    <tr>\n",
       "      <th>56</th>\n",
       "      <td>1014</td>\n",
       "      <td>Edmundo</td>\n",
       "      <td>Simon</td>\n",
       "      <td>61</td>\n",
       "      <td>New York-Newark-Jersey City, NY-NJ-PA MSA</td>\n",
       "      <td>2018-12-26</td>\n",
       "      <td>surf</td>\n",
       "      <td>2018-12-31</td>\n",
       "      <td>11.0</td>\n",
       "      <td>163.0</td>\n",
       "      <td>5.0</td>\n",
       "      <td>2.0</td>\n",
       "      <td>20.00</td>\n",
       "    </tr>\n",
       "    <tr>\n",
       "      <th>57</th>\n",
       "      <td>1014</td>\n",
       "      <td>Edmundo</td>\n",
       "      <td>Simon</td>\n",
       "      <td>61</td>\n",
       "      <td>New York-Newark-Jersey City, NY-NJ-PA MSA</td>\n",
       "      <td>2018-12-26</td>\n",
       "      <td>surf</td>\n",
       "      <td>2018-12-31</td>\n",
       "      <td>12.0</td>\n",
       "      <td>1114.0</td>\n",
       "      <td>27.0</td>\n",
       "      <td>8.0</td>\n",
       "      <td>38.42</td>\n",
       "    </tr>\n",
       "    <tr>\n",
       "      <th>75</th>\n",
       "      <td>1022</td>\n",
       "      <td>Bo</td>\n",
       "      <td>Snow</td>\n",
       "      <td>73</td>\n",
       "      <td>New York-Newark-Jersey City, NY-NJ-PA MSA</td>\n",
       "      <td>2018-11-17</td>\n",
       "      <td>surf</td>\n",
       "      <td>2018-09-07</td>\n",
       "      <td>5.0</td>\n",
       "      <td>302.0</td>\n",
       "      <td>0.0</td>\n",
       "      <td>5.0</td>\n",
       "      <td>20.00</td>\n",
       "    </tr>\n",
       "    <tr>\n",
       "      <th>76</th>\n",
       "      <td>1022</td>\n",
       "      <td>Bo</td>\n",
       "      <td>Snow</td>\n",
       "      <td>73</td>\n",
       "      <td>New York-Newark-Jersey City, NY-NJ-PA MSA</td>\n",
       "      <td>2018-11-17</td>\n",
       "      <td>surf</td>\n",
       "      <td>2018-09-07</td>\n",
       "      <td>6.0</td>\n",
       "      <td>490.0</td>\n",
       "      <td>0.0</td>\n",
       "      <td>23.0</td>\n",
       "      <td>100.00</td>\n",
       "    </tr>\n",
       "    <tr>\n",
       "      <th>77</th>\n",
       "      <td>1022</td>\n",
       "      <td>Bo</td>\n",
       "      <td>Snow</td>\n",
       "      <td>73</td>\n",
       "      <td>New York-Newark-Jersey City, NY-NJ-PA MSA</td>\n",
       "      <td>2018-11-17</td>\n",
       "      <td>surf</td>\n",
       "      <td>2018-09-07</td>\n",
       "      <td>7.0</td>\n",
       "      <td>475.0</td>\n",
       "      <td>0.0</td>\n",
       "      <td>10.0</td>\n",
       "      <td>20.00</td>\n",
       "    </tr>\n",
       "  </tbody>\n",
       "</table>\n",
       "</div>"
      ],
      "text/plain": [
       "    user_id first_name last_name  age  \\\n",
       "56     1014    Edmundo     Simon   61   \n",
       "57     1014    Edmundo     Simon   61   \n",
       "75     1022         Bo      Snow   73   \n",
       "76     1022         Bo      Snow   73   \n",
       "77     1022         Bo      Snow   73   \n",
       "\n",
       "                                         city   reg_date  plan churn_date  \\\n",
       "56  New York-Newark-Jersey City, NY-NJ-PA MSA 2018-12-26  surf 2018-12-31   \n",
       "57  New York-Newark-Jersey City, NY-NJ-PA MSA 2018-12-26  surf 2018-12-31   \n",
       "75  New York-Newark-Jersey City, NY-NJ-PA MSA 2018-11-17  surf 2018-09-07   \n",
       "76  New York-Newark-Jersey City, NY-NJ-PA MSA 2018-11-17  surf 2018-09-07   \n",
       "77  New York-Newark-Jersey City, NY-NJ-PA MSA 2018-11-17  surf 2018-09-07   \n",
       "\n",
       "    month  duration  sms_count  gb_used  revenue  \n",
       "56   11.0     163.0        5.0      2.0    20.00  \n",
       "57   12.0    1114.0       27.0      8.0    38.42  \n",
       "75    5.0     302.0        0.0      5.0    20.00  \n",
       "76    6.0     490.0        0.0     23.0   100.00  \n",
       "77    7.0     475.0        0.0     10.0    20.00  "
      ]
     },
     "execution_count": 43,
     "metadata": {},
     "output_type": "execute_result"
    }
   ],
   "source": [
    "ny_nj = data[data['city'].str.contains(\"NY\")]\n",
    "regions = data[~ data['city'].str.contains(\"NY\")]\n",
    "ny_nj.head()"
   ]
  },
  {
   "cell_type": "code",
   "execution_count": 44,
   "metadata": {},
   "outputs": [
    {
     "data": {
      "text/html": [
       "<div>\n",
       "<style scoped>\n",
       "    .dataframe tbody tr th:only-of-type {\n",
       "        vertical-align: middle;\n",
       "    }\n",
       "\n",
       "    .dataframe tbody tr th {\n",
       "        vertical-align: top;\n",
       "    }\n",
       "\n",
       "    .dataframe thead th {\n",
       "        text-align: right;\n",
       "    }\n",
       "</style>\n",
       "<table border=\"1\" class=\"dataframe\">\n",
       "  <thead>\n",
       "    <tr style=\"text-align: right;\">\n",
       "      <th></th>\n",
       "      <th>user_id</th>\n",
       "      <th>first_name</th>\n",
       "      <th>last_name</th>\n",
       "      <th>age</th>\n",
       "      <th>city</th>\n",
       "      <th>reg_date</th>\n",
       "      <th>plan</th>\n",
       "      <th>churn_date</th>\n",
       "      <th>month</th>\n",
       "      <th>duration</th>\n",
       "      <th>sms_count</th>\n",
       "      <th>gb_used</th>\n",
       "      <th>revenue</th>\n",
       "    </tr>\n",
       "  </thead>\n",
       "  <tbody>\n",
       "    <tr>\n",
       "      <th>0</th>\n",
       "      <td>1000</td>\n",
       "      <td>Anamaria</td>\n",
       "      <td>Bauer</td>\n",
       "      <td>45</td>\n",
       "      <td>Atlanta-Sandy Springs-Roswell, GA MSA</td>\n",
       "      <td>2018-12-27</td>\n",
       "      <td>ultimate</td>\n",
       "      <td>2018-12-31</td>\n",
       "      <td>12.0</td>\n",
       "      <td>124.0</td>\n",
       "      <td>7.0</td>\n",
       "      <td>2.0</td>\n",
       "      <td>70.0</td>\n",
       "    </tr>\n",
       "    <tr>\n",
       "      <th>1</th>\n",
       "      <td>1001</td>\n",
       "      <td>Mickey</td>\n",
       "      <td>Wilkerson</td>\n",
       "      <td>28</td>\n",
       "      <td>Seattle-Tacoma-Bellevue, WA MSA</td>\n",
       "      <td>2018-12-27</td>\n",
       "      <td>surf</td>\n",
       "      <td>2018-12-31</td>\n",
       "      <td>8.0</td>\n",
       "      <td>182.0</td>\n",
       "      <td>14.0</td>\n",
       "      <td>7.0</td>\n",
       "      <td>20.0</td>\n",
       "    </tr>\n",
       "    <tr>\n",
       "      <th>2</th>\n",
       "      <td>1001</td>\n",
       "      <td>Mickey</td>\n",
       "      <td>Wilkerson</td>\n",
       "      <td>28</td>\n",
       "      <td>Seattle-Tacoma-Bellevue, WA MSA</td>\n",
       "      <td>2018-12-27</td>\n",
       "      <td>surf</td>\n",
       "      <td>2018-12-31</td>\n",
       "      <td>9.0</td>\n",
       "      <td>315.0</td>\n",
       "      <td>23.0</td>\n",
       "      <td>14.0</td>\n",
       "      <td>20.0</td>\n",
       "    </tr>\n",
       "    <tr>\n",
       "      <th>3</th>\n",
       "      <td>1001</td>\n",
       "      <td>Mickey</td>\n",
       "      <td>Wilkerson</td>\n",
       "      <td>28</td>\n",
       "      <td>Seattle-Tacoma-Bellevue, WA MSA</td>\n",
       "      <td>2018-12-27</td>\n",
       "      <td>surf</td>\n",
       "      <td>2018-12-31</td>\n",
       "      <td>10.0</td>\n",
       "      <td>393.0</td>\n",
       "      <td>25.0</td>\n",
       "      <td>22.0</td>\n",
       "      <td>90.0</td>\n",
       "    </tr>\n",
       "    <tr>\n",
       "      <th>4</th>\n",
       "      <td>1001</td>\n",
       "      <td>Mickey</td>\n",
       "      <td>Wilkerson</td>\n",
       "      <td>28</td>\n",
       "      <td>Seattle-Tacoma-Bellevue, WA MSA</td>\n",
       "      <td>2018-12-27</td>\n",
       "      <td>surf</td>\n",
       "      <td>2018-12-31</td>\n",
       "      <td>11.0</td>\n",
       "      <td>426.0</td>\n",
       "      <td>19.0</td>\n",
       "      <td>19.0</td>\n",
       "      <td>60.0</td>\n",
       "    </tr>\n",
       "  </tbody>\n",
       "</table>\n",
       "</div>"
      ],
      "text/plain": [
       "   user_id first_name  last_name  age                                   city  \\\n",
       "0     1000   Anamaria      Bauer   45  Atlanta-Sandy Springs-Roswell, GA MSA   \n",
       "1     1001     Mickey  Wilkerson   28        Seattle-Tacoma-Bellevue, WA MSA   \n",
       "2     1001     Mickey  Wilkerson   28        Seattle-Tacoma-Bellevue, WA MSA   \n",
       "3     1001     Mickey  Wilkerson   28        Seattle-Tacoma-Bellevue, WA MSA   \n",
       "4     1001     Mickey  Wilkerson   28        Seattle-Tacoma-Bellevue, WA MSA   \n",
       "\n",
       "    reg_date      plan churn_date  month  duration  sms_count  gb_used  \\\n",
       "0 2018-12-27  ultimate 2018-12-31   12.0     124.0        7.0      2.0   \n",
       "1 2018-12-27      surf 2018-12-31    8.0     182.0       14.0      7.0   \n",
       "2 2018-12-27      surf 2018-12-31    9.0     315.0       23.0     14.0   \n",
       "3 2018-12-27      surf 2018-12-31   10.0     393.0       25.0     22.0   \n",
       "4 2018-12-27      surf 2018-12-31   11.0     426.0       19.0     19.0   \n",
       "\n",
       "   revenue  \n",
       "0     70.0  \n",
       "1     20.0  \n",
       "2     20.0  \n",
       "3     90.0  \n",
       "4     60.0  "
      ]
     },
     "execution_count": 44,
     "metadata": {},
     "output_type": "execute_result"
    }
   ],
   "source": [
    "regions.head()"
   ]
  },
  {
   "cell_type": "code",
   "execution_count": 45,
   "metadata": {},
   "outputs": [
    {
     "data": {
      "text/plain": [
       "56     20.00\n",
       "57     38.42\n",
       "75     20.00\n",
       "76    100.00\n",
       "77     20.00\n",
       "Name: revenue, dtype: float64"
      ]
     },
     "execution_count": 45,
     "metadata": {},
     "output_type": "execute_result"
    }
   ],
   "source": [
    "ny_nj_revenue = ny_nj['revenue']\n",
    "regions_revenue = regions['revenue']\n",
    "ny_nj_revenue.head()"
   ]
  },
  {
   "cell_type": "code",
   "execution_count": 46,
   "metadata": {},
   "outputs": [
    {
     "data": {
      "text/plain": [
       "0    70.0\n",
       "1    20.0\n",
       "2    20.0\n",
       "3    90.0\n",
       "4    60.0\n",
       "Name: revenue, dtype: float64"
      ]
     },
     "execution_count": 46,
     "metadata": {},
     "output_type": "execute_result"
    }
   ],
   "source": [
    "regions_revenue.head()"
   ]
  },
  {
   "cell_type": "markdown",
   "metadata": {},
   "source": [
    "2) we will compare the revenue of the regions we specify and the rest of the data revenue by using t-test."
   ]
  },
  {
   "cell_type": "code",
   "execution_count": 47,
   "metadata": {
    "scrolled": true
   },
   "outputs": [
    {
     "name": "stdout",
     "output_type": "stream",
     "text": [
      "Reject H0: average of sample 1 is not equal to average of sample 2\n"
     ]
    }
   ],
   "source": [
    "t_test(ny_nj_revenue,regions_revenue,alpha=0.05)"
   ]
  },
  {
   "cell_type": "code",
   "execution_count": 48,
   "metadata": {},
   "outputs": [
    {
     "name": "stdout",
     "output_type": "stream",
     "text": [
      "60.803366093366094\n",
      "64.80974683544304\n"
     ]
    }
   ],
   "source": [
    "print(ny_nj_revenue.mean())\n",
    "print(regions_revenue.mean())"
   ]
  },
  {
   "cell_type": "markdown",
   "metadata": {},
   "source": [
    "3) presenting findings."
   ]
  },
  {
   "cell_type": "markdown",
   "metadata": {},
   "source": [
    "after running our data sample through a t-test with a statistical significance level of 0.05 our hypothesis on the Equality of the Means of Paired Samples was rejected and the average of ny_nj_revenue is not equal to average of regions_revenue.\n",
    "\n",
    "It seems that the mean of all other regions is slightly higher than the New York-Newark-Jersey revenue. Perhaps there are more ultimate clients outside of New York-Newark-Jersey area."
   ]
  },
  {
   "cell_type": "markdown",
   "metadata": {},
   "source": [
    "## Overall conclusions"
   ]
  },
  {
   "cell_type": "markdown",
   "metadata": {},
   "source": [
    "**conclusion of each part:**\n",
    "\n",
    "1. Preparing the Data\n",
    "\n",
    "At this part we startedpreparinf the data at the following: \n",
    "\n",
    "We changed all date related columns to a timeframe type and the values to a unified format of (year, month, day).\n",
    "\n",
    "We dealt with missing values in the churn_date column of the user data by applying the last date of the data to all the missing values in the column.\n",
    "\n",
    "We rounding up the values \n",
    "\n",
    "-In the calls data we rounded up the seconds to minutes for each individual call.\n",
    "\n",
    "-In the Internet data we rounded up the Megabytes to Gigabytes for each month.\n",
    "\n",
    "We Added new data for each user\n",
    "\n",
    "-A column of total calls made and minutes used per month.\n",
    "\n",
    "-A column of total sms sent per month.\n",
    "\n",
    "-A column of total data usge in gb per month.\n",
    "\n",
    "-A column of total The monthly revenue from each user.\n",
    "\n",
    "We built the data frame we later analysed.\n",
    "\n",
    "And we Counted the monthly revenue of each client\n",
    "\n",
    "2. Analysis of the data\n",
    "\n",
    "For this part we used a funtion to tompare the histograms of the 2 plans-Surf and Histogram.\n",
    "we came to the conclutions that:\n",
    "\n",
    "-clients of the ultimate plan used less sms compared to clients of the surf plan.\n",
    "\n",
    "-clients of the ultimate plan used less surfing data and had shjorted duration calls than the surf clients.\n",
    "\n",
    "Also, we used compared the 2 plans with boxplots and came to the conclutions that:\n",
    "\n",
    "-The call durations of the clients in both plans were the very similiar, and slighlty higher for surf clients\n",
    "\n",
    "Morever, surf plan clients seem to use more gigabyes than ultimate plan clients that had more of a centered usage.\n",
    "\n",
    "-Interesting finding was regarding SMS values of the plans. The boxplots showed that ultimate clients send more sms than surf clients but the ultimate clients distribution is also higher.\n",
    "\n",
    "3. Hypothesis testing\n",
    "\n",
    "-The average revenue from users of Ultimate and Surf calling plans differs.\n",
    "\n",
    "after running our data sample through a t-test with a statistical significance level of 0.05 our hypothesis on the Equality of the Means of Paired Samples was rejected and the average of surf_revenue is not equal to average of ultimate_revenue.\n",
    "It seems that the mean of ultimate_revenue much higher than the surf revenue.\n",
    "\n",
    "-The average revenue from users in NY-NJ area is different from that of the users\n",
    "from other regions.\n",
    "\n",
    "after running our data sample through a t-test with a statistical significance level of 0.05 our hypothesis on the Equality of the Means of Paired Samples was rejected and the average of ny_nj_revenue is not equal to average of regions_revenue.\n",
    "It seems that the mean of all other regions is slightly higher than the New York-Newark-Jersey revenue. Perhaps there are more ultimate clients outside of New York-Newark-Jersey area.\n"
   ]
  }
 ],
 "metadata": {
  "ExecuteTimeLog": [
   {
    "duration": 141,
    "start_time": "2022-08-20T12:32:07.457Z"
   },
   {
    "duration": 100,
    "start_time": "2022-08-20T12:32:29.819Z"
   },
   {
    "duration": 47,
    "start_time": "2022-08-20T12:33:00.396Z"
   },
   {
    "duration": 1509,
    "start_time": "2022-08-20T12:33:09.452Z"
   },
   {
    "duration": 2145,
    "start_time": "2022-08-20T12:33:10.964Z"
   },
   {
    "duration": 179,
    "start_time": "2022-08-20T12:33:33.950Z"
   },
   {
    "duration": 5,
    "start_time": "2022-08-20T18:16:17.226Z"
   },
   {
    "duration": 506,
    "start_time": "2022-08-20T18:16:17.836Z"
   },
   {
    "duration": 400,
    "start_time": "2022-08-20T18:16:18.344Z"
   },
   {
    "duration": 379,
    "start_time": "2022-08-20T18:16:50.786Z"
   },
   {
    "duration": 66,
    "start_time": "2022-08-20T18:16:51.167Z"
   },
   {
    "duration": 59,
    "start_time": "2022-08-20T18:17:32.702Z"
   },
   {
    "duration": 934,
    "start_time": "2022-08-20T18:18:09.802Z"
   },
   {
    "duration": 280,
    "start_time": "2022-08-20T18:18:10.745Z"
   },
   {
    "duration": 577,
    "start_time": "2022-08-20T18:18:30.667Z"
   },
   {
    "duration": 464,
    "start_time": "2022-08-20T18:19:07.178Z"
   },
   {
    "duration": 116,
    "start_time": "2022-08-20T18:19:07.644Z"
   },
   {
    "duration": 99,
    "start_time": "2022-08-20T18:20:04.810Z"
   },
   {
    "duration": 1242,
    "start_time": "2022-08-21T18:24:55.271Z"
   },
   {
    "duration": 875,
    "start_time": "2022-08-21T18:24:56.515Z"
   },
   {
    "duration": 85,
    "start_time": "2022-08-21T18:24:57.391Z"
   },
   {
    "duration": 0,
    "start_time": "2022-08-21T18:24:57.478Z"
   },
   {
    "duration": 3,
    "start_time": "2022-08-21T18:25:09.567Z"
   },
   {
    "duration": 85,
    "start_time": "2022-08-21T18:25:10.064Z"
   },
   {
    "duration": 291,
    "start_time": "2022-08-21T18:51:12.945Z"
   },
   {
    "duration": 9,
    "start_time": "2022-08-21T18:51:13.481Z"
   },
   {
    "duration": 96,
    "start_time": "2022-08-21T18:51:14.299Z"
   },
   {
    "duration": 97,
    "start_time": "2022-08-21T18:51:21.321Z"
   },
   {
    "duration": 96,
    "start_time": "2022-08-21T18:51:35.828Z"
   },
   {
    "duration": 121,
    "start_time": "2022-08-21T18:52:27.641Z"
   },
   {
    "duration": 94,
    "start_time": "2022-08-21T18:52:55.438Z"
   },
   {
    "duration": 77,
    "start_time": "2022-08-21T20:25:51.490Z"
   },
   {
    "duration": 3,
    "start_time": "2022-08-21T20:26:24.269Z"
   },
   {
    "duration": 62,
    "start_time": "2022-08-21T20:26:24.860Z"
   },
   {
    "duration": 48,
    "start_time": "2022-08-22T12:36:54.656Z"
   },
   {
    "duration": 1320,
    "start_time": "2022-08-22T12:37:06.169Z"
   },
   {
    "duration": 884,
    "start_time": "2022-08-22T12:37:07.491Z"
   },
   {
    "duration": 3,
    "start_time": "2022-08-22T12:37:08.376Z"
   },
   {
    "duration": 76,
    "start_time": "2022-08-22T12:37:08.381Z"
   },
   {
    "duration": 89,
    "start_time": "2022-08-22T12:37:10.187Z"
   },
   {
    "duration": 25,
    "start_time": "2022-08-22T12:39:15.784Z"
   },
   {
    "duration": 8,
    "start_time": "2022-08-22T12:39:35.307Z"
   },
   {
    "duration": 5,
    "start_time": "2022-08-22T12:39:41.802Z"
   },
   {
    "duration": 18,
    "start_time": "2022-08-22T12:42:09.076Z"
   },
   {
    "duration": 393,
    "start_time": "2022-08-22T12:50:51.188Z"
   },
   {
    "duration": 733,
    "start_time": "2022-08-22T12:51:12.625Z"
   },
   {
    "duration": 735,
    "start_time": "2022-08-22T12:51:34.725Z"
   },
   {
    "duration": 854,
    "start_time": "2022-08-22T12:52:15.851Z"
   },
   {
    "duration": 534,
    "start_time": "2022-08-22T12:54:01.710Z"
   },
   {
    "duration": 581,
    "start_time": "2022-08-22T12:54:19.048Z"
   },
   {
    "duration": 24,
    "start_time": "2022-08-22T12:55:06.435Z"
   },
   {
    "duration": 8,
    "start_time": "2022-08-22T12:55:34.392Z"
   },
   {
    "duration": 4,
    "start_time": "2022-08-22T12:55:43.775Z"
   },
   {
    "duration": 876,
    "start_time": "2022-08-22T13:00:33.907Z"
   },
   {
    "duration": 16,
    "start_time": "2022-08-22T13:07:36.280Z"
   },
   {
    "duration": 12,
    "start_time": "2022-08-22T13:07:58.231Z"
   },
   {
    "duration": 13,
    "start_time": "2022-08-22T13:09:38.334Z"
   },
   {
    "duration": 964,
    "start_time": "2022-08-22T13:25:02.485Z"
   },
   {
    "duration": 15,
    "start_time": "2022-08-22T13:25:06.823Z"
   },
   {
    "duration": 14,
    "start_time": "2022-08-22T13:25:07.194Z"
   },
   {
    "duration": 14,
    "start_time": "2022-08-22T13:25:07.675Z"
   },
   {
    "duration": 69,
    "start_time": "2022-08-22T13:25:08.172Z"
   },
   {
    "duration": 54,
    "start_time": "2022-08-22T18:10:20.377Z"
   },
   {
    "duration": 1337,
    "start_time": "2022-08-22T18:10:59.818Z"
   },
   {
    "duration": 942,
    "start_time": "2022-08-22T18:11:01.157Z"
   },
   {
    "duration": 2,
    "start_time": "2022-08-22T18:11:02.102Z"
   },
   {
    "duration": 88,
    "start_time": "2022-08-22T18:11:02.106Z"
   },
   {
    "duration": 67,
    "start_time": "2022-08-22T18:11:03.135Z"
   },
   {
    "duration": 14,
    "start_time": "2022-08-22T18:11:03.983Z"
   },
   {
    "duration": 6,
    "start_time": "2022-08-22T18:11:29.399Z"
   },
   {
    "duration": 6,
    "start_time": "2022-08-22T18:12:51.379Z"
   },
   {
    "duration": 5,
    "start_time": "2022-08-22T18:13:23.078Z"
   },
   {
    "duration": 7,
    "start_time": "2022-08-22T18:13:26.660Z"
   },
   {
    "duration": 6,
    "start_time": "2022-08-22T18:19:52.123Z"
   },
   {
    "duration": 44,
    "start_time": "2022-08-22T19:02:07.236Z"
   },
   {
    "duration": 7,
    "start_time": "2022-08-22T19:02:23.626Z"
   },
   {
    "duration": 8,
    "start_time": "2022-08-22T19:20:28.367Z"
   },
   {
    "duration": 12,
    "start_time": "2022-08-22T19:25:48.216Z"
   },
   {
    "duration": 15,
    "start_time": "2022-08-22T19:25:59.555Z"
   },
   {
    "duration": 13,
    "start_time": "2022-08-22T19:26:05.966Z"
   },
   {
    "duration": 3,
    "start_time": "2022-08-22T19:26:19.552Z"
   },
   {
    "duration": 838,
    "start_time": "2022-08-22T19:26:20.128Z"
   },
   {
    "duration": 11,
    "start_time": "2022-08-22T19:26:20.968Z"
   },
   {
    "duration": 112,
    "start_time": "2022-08-22T19:26:20.981Z"
   },
   {
    "duration": 12,
    "start_time": "2022-08-22T19:27:03.011Z"
   },
   {
    "duration": 21,
    "start_time": "2022-08-22T19:27:14.180Z"
   },
   {
    "duration": 9,
    "start_time": "2022-08-22T19:27:19.116Z"
   },
   {
    "duration": 66,
    "start_time": "2022-08-22T19:27:56.916Z"
   },
   {
    "duration": 9,
    "start_time": "2022-08-22T19:28:05.712Z"
   },
   {
    "duration": 13,
    "start_time": "2022-08-22T19:28:09.298Z"
   },
   {
    "duration": 8,
    "start_time": "2022-08-22T19:32:18.721Z"
   },
   {
    "duration": 16,
    "start_time": "2022-08-22T19:32:56.505Z"
   },
   {
    "duration": 92,
    "start_time": "2022-08-22T20:34:59.113Z"
   },
   {
    "duration": 94,
    "start_time": "2022-08-22T20:35:02.223Z"
   },
   {
    "duration": 7,
    "start_time": "2022-08-22T20:35:02.418Z"
   },
   {
    "duration": 10,
    "start_time": "2022-08-22T20:35:03.365Z"
   },
   {
    "duration": 1373,
    "start_time": "2022-08-23T07:12:04.954Z"
   },
   {
    "duration": 855,
    "start_time": "2022-08-23T07:12:06.329Z"
   },
   {
    "duration": 3,
    "start_time": "2022-08-23T07:12:07.186Z"
   },
   {
    "duration": 147,
    "start_time": "2022-08-23T07:12:07.190Z"
   },
   {
    "duration": 1011,
    "start_time": "2022-08-23T08:57:25.079Z"
   },
   {
    "duration": 1162,
    "start_time": "2022-08-23T08:57:51.052Z"
   },
   {
    "duration": 0,
    "start_time": "2022-08-23T08:57:52.216Z"
   },
   {
    "duration": 997,
    "start_time": "2022-08-23T08:58:09.171Z"
   },
   {
    "duration": 0,
    "start_time": "2022-08-23T08:58:10.171Z"
   },
   {
    "duration": 5,
    "start_time": "2022-08-23T08:59:21.957Z"
   },
   {
    "duration": 7,
    "start_time": "2022-08-23T08:59:27.432Z"
   },
   {
    "duration": 5,
    "start_time": "2022-08-23T09:00:01.931Z"
   },
   {
    "duration": 5,
    "start_time": "2022-08-23T09:01:25.512Z"
   },
   {
    "duration": 4,
    "start_time": "2022-08-23T09:01:25.910Z"
   },
   {
    "duration": 11,
    "start_time": "2022-08-23T09:03:54.033Z"
   },
   {
    "duration": 88,
    "start_time": "2022-08-23T09:04:09.611Z"
   },
   {
    "duration": 86,
    "start_time": "2022-08-23T09:04:28.964Z"
   },
   {
    "duration": 4,
    "start_time": "2022-08-23T09:04:35.391Z"
   },
   {
    "duration": 12,
    "start_time": "2022-08-23T09:04:36.139Z"
   },
   {
    "duration": 3,
    "start_time": "2022-08-23T09:04:46.040Z"
   },
   {
    "duration": 312,
    "start_time": "2022-08-23T09:04:46.552Z"
   },
   {
    "duration": 8,
    "start_time": "2022-08-23T09:04:46.867Z"
   },
   {
    "duration": 123,
    "start_time": "2022-08-23T09:04:46.968Z"
   },
   {
    "duration": 64,
    "start_time": "2022-08-23T09:04:49.665Z"
   },
   {
    "duration": 7,
    "start_time": "2022-08-23T09:04:50.014Z"
   },
   {
    "duration": 9,
    "start_time": "2022-08-23T09:04:50.736Z"
   },
   {
    "duration": 6,
    "start_time": "2022-08-23T09:04:51.609Z"
   },
   {
    "duration": 8,
    "start_time": "2022-08-23T09:04:51.768Z"
   },
   {
    "duration": 6,
    "start_time": "2022-08-23T09:04:52.080Z"
   },
   {
    "duration": 6,
    "start_time": "2022-08-23T09:04:52.252Z"
   },
   {
    "duration": 6,
    "start_time": "2022-08-23T09:04:54.327Z"
   },
   {
    "duration": 12,
    "start_time": "2022-08-23T09:04:55.121Z"
   },
   {
    "duration": 8,
    "start_time": "2022-08-23T09:05:53.062Z"
   },
   {
    "duration": 5,
    "start_time": "2022-08-23T09:05:57.206Z"
   },
   {
    "duration": 287,
    "start_time": "2022-08-23T09:05:57.808Z"
   },
   {
    "duration": 4,
    "start_time": "2022-08-23T09:07:12.691Z"
   },
   {
    "duration": 281,
    "start_time": "2022-08-23T09:07:13.359Z"
   },
   {
    "duration": 74,
    "start_time": "2022-08-23T09:09:01.186Z"
   },
   {
    "duration": 319,
    "start_time": "2022-08-23T09:09:01.830Z"
   },
   {
    "duration": 5,
    "start_time": "2022-08-23T09:09:20.114Z"
   },
   {
    "duration": 306,
    "start_time": "2022-08-23T09:09:20.851Z"
   },
   {
    "duration": 241,
    "start_time": "2022-08-23T09:19:44.737Z"
   },
   {
    "duration": 4,
    "start_time": "2022-08-23T09:21:04.773Z"
   },
   {
    "duration": 5,
    "start_time": "2022-08-23T09:21:05.233Z"
   },
   {
    "duration": 6,
    "start_time": "2022-08-23T09:21:06.462Z"
   },
   {
    "duration": 294,
    "start_time": "2022-08-23T09:21:06.824Z"
   },
   {
    "duration": 299,
    "start_time": "2022-08-23T09:21:07.278Z"
   },
   {
    "duration": 54,
    "start_time": "2022-08-23T09:53:25.930Z"
   },
   {
    "duration": 52,
    "start_time": "2022-08-23T09:53:55.315Z"
   },
   {
    "duration": 23,
    "start_time": "2022-08-23T09:54:28.141Z"
   },
   {
    "duration": 21,
    "start_time": "2022-08-23T09:54:37.421Z"
   },
   {
    "duration": 3,
    "start_time": "2022-08-23T09:55:33.639Z"
   },
   {
    "duration": 48,
    "start_time": "2022-08-23T09:55:56.181Z"
   },
   {
    "duration": 16,
    "start_time": "2022-08-23T09:59:10.317Z"
   },
   {
    "duration": 22,
    "start_time": "2022-08-23T09:59:17.125Z"
   },
   {
    "duration": 19,
    "start_time": "2022-08-23T09:59:41.121Z"
   },
   {
    "duration": 27,
    "start_time": "2022-08-23T09:59:43.413Z"
   },
   {
    "duration": 13,
    "start_time": "2022-08-23T10:13:49.455Z"
   },
   {
    "duration": 19,
    "start_time": "2022-08-23T10:14:26.030Z"
   },
   {
    "duration": 12,
    "start_time": "2022-08-23T10:14:41.318Z"
   },
   {
    "duration": 26,
    "start_time": "2022-08-23T10:14:50.377Z"
   },
   {
    "duration": 14,
    "start_time": "2022-08-23T10:14:51.145Z"
   },
   {
    "duration": 1507,
    "start_time": "2022-08-23T10:59:57.741Z"
   },
   {
    "duration": 37,
    "start_time": "2022-08-23T11:07:26.760Z"
   },
   {
    "duration": 42,
    "start_time": "2022-08-23T11:09:12.538Z"
   },
   {
    "duration": 109,
    "start_time": "2022-08-23T11:09:14.555Z"
   },
   {
    "duration": 43,
    "start_time": "2022-08-23T11:09:26.258Z"
   },
   {
    "duration": 44,
    "start_time": "2022-08-23T11:09:33.982Z"
   },
   {
    "duration": 14,
    "start_time": "2022-08-23T11:10:44.833Z"
   },
   {
    "duration": 17,
    "start_time": "2022-08-23T11:11:11.117Z"
   },
   {
    "duration": 25,
    "start_time": "2022-08-23T11:11:19.923Z"
   },
   {
    "duration": 12,
    "start_time": "2022-08-23T11:13:00.322Z"
   },
   {
    "duration": 13,
    "start_time": "2022-08-23T11:21:38.158Z"
   },
   {
    "duration": 29,
    "start_time": "2022-08-23T11:24:04.526Z"
   },
   {
    "duration": 43,
    "start_time": "2022-08-23T11:24:12.972Z"
   },
   {
    "duration": 37,
    "start_time": "2022-08-23T11:25:15.280Z"
   },
   {
    "duration": 16,
    "start_time": "2022-08-23T11:25:27.919Z"
   },
   {
    "duration": 17,
    "start_time": "2022-08-23T11:25:58.932Z"
   },
   {
    "duration": 32,
    "start_time": "2022-08-23T11:26:27.581Z"
   },
   {
    "duration": 19,
    "start_time": "2022-08-23T11:38:57.435Z"
   },
   {
    "duration": 12,
    "start_time": "2022-08-23T11:40:23.615Z"
   },
   {
    "duration": 14,
    "start_time": "2022-08-23T11:40:31.713Z"
   },
   {
    "duration": 13,
    "start_time": "2022-08-23T11:40:35.515Z"
   },
   {
    "duration": 8,
    "start_time": "2022-08-23T11:41:51.916Z"
   },
   {
    "duration": 9,
    "start_time": "2022-08-23T11:45:32.019Z"
   },
   {
    "duration": 3,
    "start_time": "2022-08-23T11:45:44.266Z"
   },
   {
    "duration": 21,
    "start_time": "2022-08-23T11:45:56.557Z"
   },
   {
    "duration": 25,
    "start_time": "2022-08-23T11:46:09.789Z"
   },
   {
    "duration": 16,
    "start_time": "2022-08-23T11:46:31.619Z"
   },
   {
    "duration": 15,
    "start_time": "2022-08-23T11:46:48.248Z"
   },
   {
    "duration": 23,
    "start_time": "2022-08-23T11:47:01.084Z"
   },
   {
    "duration": 12,
    "start_time": "2022-08-23T11:48:17.157Z"
   },
   {
    "duration": 15,
    "start_time": "2022-08-23T11:48:27.835Z"
   },
   {
    "duration": 15,
    "start_time": "2022-08-23T11:48:53.819Z"
   },
   {
    "duration": 11,
    "start_time": "2022-08-23T11:49:38.520Z"
   },
   {
    "duration": 13,
    "start_time": "2022-08-23T11:49:38.618Z"
   },
   {
    "duration": 11,
    "start_time": "2022-08-23T11:51:59.220Z"
   },
   {
    "duration": 23,
    "start_time": "2022-08-23T11:52:03.823Z"
   },
   {
    "duration": 9,
    "start_time": "2022-08-23T11:52:24.843Z"
   },
   {
    "duration": 42,
    "start_time": "2022-08-23T11:52:25.983Z"
   },
   {
    "duration": 18,
    "start_time": "2022-08-23T11:52:50.677Z"
   },
   {
    "duration": 14,
    "start_time": "2022-08-23T12:17:10.319Z"
   },
   {
    "duration": 21,
    "start_time": "2022-08-23T12:17:47.756Z"
   },
   {
    "duration": 151,
    "start_time": "2022-08-23T13:34:30.471Z"
   },
   {
    "duration": 5,
    "start_time": "2022-08-23T13:34:40.169Z"
   },
   {
    "duration": 9,
    "start_time": "2022-08-23T13:34:43.819Z"
   },
   {
    "duration": 28,
    "start_time": "2022-08-23T13:35:07.554Z"
   },
   {
    "duration": 5,
    "start_time": "2022-08-23T13:36:40.820Z"
   },
   {
    "duration": 27,
    "start_time": "2022-08-23T13:36:45.043Z"
   },
   {
    "duration": 5,
    "start_time": "2022-08-23T13:37:03.432Z"
   },
   {
    "duration": 65,
    "start_time": "2022-08-23T13:37:04.257Z"
   },
   {
    "duration": 7,
    "start_time": "2022-08-23T13:38:07.153Z"
   },
   {
    "duration": 64,
    "start_time": "2022-08-23T13:38:07.952Z"
   },
   {
    "duration": 4,
    "start_time": "2022-08-23T13:47:19.812Z"
   },
   {
    "duration": 61,
    "start_time": "2022-08-23T13:47:20.282Z"
   },
   {
    "duration": 4,
    "start_time": "2022-08-23T13:47:49.377Z"
   },
   {
    "duration": 60,
    "start_time": "2022-08-23T13:47:49.890Z"
   },
   {
    "duration": 53,
    "start_time": "2022-08-23T13:49:19.715Z"
   },
   {
    "duration": 54,
    "start_time": "2022-08-23T13:49:40.973Z"
   },
   {
    "duration": 87,
    "start_time": "2022-08-23T14:50:26.966Z"
   },
   {
    "duration": 3,
    "start_time": "2022-08-23T14:53:19.011Z"
   },
   {
    "duration": 4,
    "start_time": "2022-08-23T14:53:41.972Z"
   },
   {
    "duration": 8,
    "start_time": "2022-08-23T14:54:22.763Z"
   },
   {
    "duration": 4,
    "start_time": "2022-08-23T14:54:34.959Z"
   },
   {
    "duration": 12,
    "start_time": "2022-08-23T14:54:35.507Z"
   },
   {
    "duration": 3,
    "start_time": "2022-08-23T14:54:47.375Z"
   },
   {
    "duration": 213,
    "start_time": "2022-08-23T14:54:47.709Z"
   },
   {
    "duration": 138,
    "start_time": "2022-08-23T15:07:19.818Z"
   },
   {
    "duration": 178,
    "start_time": "2022-08-23T15:07:21.030Z"
   },
   {
    "duration": 213,
    "start_time": "2022-08-23T15:07:21.967Z"
   },
   {
    "duration": 5,
    "start_time": "2022-08-23T15:11:48.428Z"
   },
   {
    "duration": 245,
    "start_time": "2022-08-23T15:11:48.924Z"
   },
   {
    "duration": 206,
    "start_time": "2022-08-23T15:11:54.882Z"
   },
   {
    "duration": 384,
    "start_time": "2022-08-23T15:11:55.993Z"
   },
   {
    "duration": 461,
    "start_time": "2022-08-23T15:11:57.626Z"
   },
   {
    "duration": 5,
    "start_time": "2022-08-23T15:12:27.170Z"
   },
   {
    "duration": 259,
    "start_time": "2022-08-23T15:12:27.615Z"
   },
   {
    "duration": 198,
    "start_time": "2022-08-23T15:12:29.643Z"
   },
   {
    "duration": 5,
    "start_time": "2022-08-23T15:12:57.154Z"
   },
   {
    "duration": 5,
    "start_time": "2022-08-23T15:12:57.529Z"
   },
   {
    "duration": 4,
    "start_time": "2022-08-23T15:12:57.927Z"
   },
   {
    "duration": 4,
    "start_time": "2022-08-23T15:13:49.214Z"
   },
   {
    "duration": 444,
    "start_time": "2022-08-23T15:13:49.658Z"
   },
   {
    "duration": 430,
    "start_time": "2022-08-23T15:13:51.085Z"
   },
   {
    "duration": 261,
    "start_time": "2022-08-23T15:17:33.571Z"
   },
   {
    "duration": 10,
    "start_time": "2022-08-23T15:23:36.160Z"
   },
   {
    "duration": 10,
    "start_time": "2022-08-23T15:23:51.286Z"
   },
   {
    "duration": 98,
    "start_time": "2022-08-23T15:24:41.560Z"
   },
   {
    "duration": 105,
    "start_time": "2022-08-23T15:25:29.150Z"
   },
   {
    "duration": 103,
    "start_time": "2022-08-23T15:26:31.186Z"
   },
   {
    "duration": 99,
    "start_time": "2022-08-23T15:26:38.001Z"
   },
   {
    "duration": 104,
    "start_time": "2022-08-23T15:27:03.929Z"
   },
   {
    "duration": 53,
    "start_time": "2022-08-23T15:29:33.384Z"
   },
   {
    "duration": 3,
    "start_time": "2022-08-23T15:30:14.476Z"
   },
   {
    "duration": 10,
    "start_time": "2022-08-23T15:31:27.216Z"
   },
   {
    "duration": 3,
    "start_time": "2022-08-23T15:32:15.088Z"
   },
   {
    "duration": 146,
    "start_time": "2022-08-23T15:32:15.747Z"
   },
   {
    "duration": 9,
    "start_time": "2022-08-23T15:40:41.722Z"
   },
   {
    "duration": 115,
    "start_time": "2022-08-23T15:42:13.152Z"
   },
   {
    "duration": 122,
    "start_time": "2022-08-23T15:42:13.794Z"
   },
   {
    "duration": 113,
    "start_time": "2022-08-23T15:42:14.243Z"
   },
   {
    "duration": 4,
    "start_time": "2022-08-23T20:05:29.621Z"
   },
   {
    "duration": 524,
    "start_time": "2022-08-23T20:05:30.175Z"
   },
   {
    "duration": 442,
    "start_time": "2022-08-23T20:05:30.701Z"
   },
   {
    "duration": 453,
    "start_time": "2022-08-23T20:05:31.144Z"
   },
   {
    "duration": 98,
    "start_time": "2022-08-23T20:05:32.199Z"
   },
   {
    "duration": 102,
    "start_time": "2022-08-23T20:05:32.837Z"
   },
   {
    "duration": 107,
    "start_time": "2022-08-23T20:05:33.377Z"
   },
   {
    "duration": 8,
    "start_time": "2022-08-23T20:38:28.646Z"
   },
   {
    "duration": 27,
    "start_time": "2022-08-23T20:38:39.480Z"
   },
   {
    "duration": 59,
    "start_time": "2022-08-23T20:39:11.725Z"
   },
   {
    "duration": 114,
    "start_time": "2022-08-23T20:39:22.188Z"
   },
   {
    "duration": 20,
    "start_time": "2022-08-23T20:39:28.631Z"
   },
   {
    "duration": 1365,
    "start_time": "2022-08-24T19:14:12.563Z"
   },
   {
    "duration": 1270,
    "start_time": "2022-08-24T19:33:58.453Z"
   },
   {
    "duration": 858,
    "start_time": "2022-08-24T19:33:59.725Z"
   },
   {
    "duration": 3,
    "start_time": "2022-08-24T19:34:00.586Z"
   },
   {
    "duration": 190,
    "start_time": "2022-08-24T19:34:00.591Z"
   },
   {
    "duration": 82,
    "start_time": "2022-08-24T19:34:00.783Z"
   },
   {
    "duration": 7,
    "start_time": "2022-08-24T19:34:00.866Z"
   },
   {
    "duration": 28,
    "start_time": "2022-08-24T19:34:00.874Z"
   },
   {
    "duration": 13,
    "start_time": "2022-08-24T19:34:00.904Z"
   },
   {
    "duration": 20,
    "start_time": "2022-08-24T19:34:00.919Z"
   },
   {
    "duration": 21,
    "start_time": "2022-08-24T19:34:00.942Z"
   },
   {
    "duration": 13,
    "start_time": "2022-08-24T19:34:00.965Z"
   },
   {
    "duration": 35,
    "start_time": "2022-08-24T19:34:00.980Z"
   },
   {
    "duration": 40,
    "start_time": "2022-08-24T19:34:01.018Z"
   },
   {
    "duration": 409,
    "start_time": "2022-08-24T19:34:01.060Z"
   },
   {
    "duration": 352,
    "start_time": "2022-08-24T19:34:01.471Z"
   },
   {
    "duration": 31,
    "start_time": "2022-08-24T19:34:01.824Z"
   },
   {
    "duration": 52,
    "start_time": "2022-08-24T19:34:01.857Z"
   },
   {
    "duration": 19,
    "start_time": "2022-08-24T19:34:01.912Z"
   },
   {
    "duration": 46,
    "start_time": "2022-08-24T19:34:01.933Z"
   },
   {
    "duration": 61,
    "start_time": "2022-08-24T19:34:01.981Z"
   },
   {
    "duration": 33,
    "start_time": "2022-08-24T19:34:02.045Z"
   },
   {
    "duration": 47,
    "start_time": "2022-08-24T19:34:02.093Z"
   },
   {
    "duration": 30,
    "start_time": "2022-08-24T19:34:02.144Z"
   },
   {
    "duration": 31,
    "start_time": "2022-08-24T19:34:02.177Z"
   },
   {
    "duration": 21,
    "start_time": "2022-08-24T19:34:02.210Z"
   },
   {
    "duration": 15,
    "start_time": "2022-08-24T19:34:02.233Z"
   },
   {
    "duration": 42,
    "start_time": "2022-08-24T19:34:02.250Z"
   },
   {
    "duration": 8,
    "start_time": "2022-08-24T19:34:02.297Z"
   },
   {
    "duration": 160,
    "start_time": "2022-08-24T19:34:02.307Z"
   },
   {
    "duration": 4,
    "start_time": "2022-08-24T19:34:02.469Z"
   },
   {
    "duration": 568,
    "start_time": "2022-08-24T19:34:02.475Z"
   },
   {
    "duration": 600,
    "start_time": "2022-08-24T19:34:03.045Z"
   },
   {
    "duration": 530,
    "start_time": "2022-08-24T19:34:03.647Z"
   },
   {
    "duration": 152,
    "start_time": "2022-08-24T19:34:04.179Z"
   },
   {
    "duration": 129,
    "start_time": "2022-08-24T19:34:04.332Z"
   },
   {
    "duration": 240,
    "start_time": "2022-08-24T19:34:04.463Z"
   },
   {
    "duration": 20,
    "start_time": "2022-08-24T19:34:04.706Z"
   },
   {
    "duration": 18,
    "start_time": "2022-08-24T19:34:04.728Z"
   },
   {
    "duration": 7,
    "start_time": "2022-08-24T19:34:04.748Z"
   },
   {
    "duration": 8,
    "start_time": "2022-08-24T19:34:04.757Z"
   },
   {
    "duration": 29,
    "start_time": "2022-08-24T19:34:04.766Z"
   },
   {
    "duration": 5,
    "start_time": "2022-08-24T19:37:44.959Z"
   },
   {
    "duration": 5,
    "start_time": "2022-08-24T19:39:15.032Z"
   },
   {
    "duration": 3,
    "start_time": "2022-08-24T19:40:37.837Z"
   },
   {
    "duration": 3,
    "start_time": "2022-08-24T19:40:40.737Z"
   },
   {
    "duration": 4,
    "start_time": "2022-08-24T19:42:01.498Z"
   },
   {
    "duration": 4,
    "start_time": "2022-08-24T19:42:01.913Z"
   },
   {
    "duration": 3,
    "start_time": "2022-08-24T19:46:08.618Z"
   },
   {
    "duration": 9,
    "start_time": "2022-08-24T20:12:50.496Z"
   },
   {
    "duration": 5,
    "start_time": "2022-08-24T20:12:54.424Z"
   },
   {
    "duration": 99,
    "start_time": "2022-08-24T20:15:44.503Z"
   },
   {
    "duration": 9,
    "start_time": "2022-08-24T20:15:59.234Z"
   },
   {
    "duration": 3,
    "start_time": "2022-08-24T20:17:07.062Z"
   },
   {
    "duration": 7,
    "start_time": "2022-08-24T20:17:36.730Z"
   },
   {
    "duration": 6,
    "start_time": "2022-08-24T20:17:37.062Z"
   },
   {
    "duration": 5,
    "start_time": "2022-08-24T20:17:38.948Z"
   },
   {
    "duration": 4,
    "start_time": "2022-08-24T20:18:04.642Z"
   },
   {
    "duration": 26,
    "start_time": "2022-08-24T20:18:05.324Z"
   },
   {
    "duration": 40,
    "start_time": "2022-08-24T20:18:05.767Z"
   },
   {
    "duration": 27,
    "start_time": "2022-08-24T20:18:25.522Z"
   },
   {
    "duration": 25,
    "start_time": "2022-08-24T20:18:25.551Z"
   },
   {
    "duration": 6,
    "start_time": "2022-08-24T20:18:25.669Z"
   },
   {
    "duration": 6,
    "start_time": "2022-08-24T20:18:26.776Z"
   },
   {
    "duration": 8,
    "start_time": "2022-08-24T20:21:19.828Z"
   },
   {
    "duration": 10,
    "start_time": "2022-08-24T20:21:28.290Z"
   },
   {
    "duration": 4,
    "start_time": "2022-08-24T20:22:06.252Z"
   },
   {
    "duration": 1257,
    "start_time": "2022-08-25T22:02:10.421Z"
   },
   {
    "duration": 864,
    "start_time": "2022-08-25T22:02:11.680Z"
   },
   {
    "duration": 3,
    "start_time": "2022-08-25T22:02:12.546Z"
   },
   {
    "duration": 135,
    "start_time": "2022-08-25T22:02:12.552Z"
   },
   {
    "duration": 61,
    "start_time": "2022-08-25T22:02:12.688Z"
   },
   {
    "duration": 6,
    "start_time": "2022-08-25T22:02:12.750Z"
   },
   {
    "duration": 31,
    "start_time": "2022-08-25T22:02:12.757Z"
   },
   {
    "duration": 6,
    "start_time": "2022-08-25T22:02:12.789Z"
   },
   {
    "duration": 8,
    "start_time": "2022-08-25T22:02:12.796Z"
   },
   {
    "duration": 5,
    "start_time": "2022-08-25T22:02:12.806Z"
   },
   {
    "duration": 10,
    "start_time": "2022-08-25T22:02:12.812Z"
   },
   {
    "duration": 15,
    "start_time": "2022-08-25T22:02:12.824Z"
   },
   {
    "duration": 7,
    "start_time": "2022-08-25T22:02:12.840Z"
   },
   {
    "duration": 325,
    "start_time": "2022-08-25T22:02:12.848Z"
   },
   {
    "duration": 284,
    "start_time": "2022-08-25T22:02:13.175Z"
   },
   {
    "duration": 38,
    "start_time": "2022-08-25T22:02:13.460Z"
   },
   {
    "duration": 20,
    "start_time": "2022-08-25T22:02:13.499Z"
   },
   {
    "duration": 11,
    "start_time": "2022-08-25T22:02:13.521Z"
   },
   {
    "duration": 67,
    "start_time": "2022-08-25T22:02:13.534Z"
   },
   {
    "duration": 32,
    "start_time": "2022-08-25T22:02:13.603Z"
   },
   {
    "duration": 28,
    "start_time": "2022-08-25T22:02:13.636Z"
   },
   {
    "duration": 43,
    "start_time": "2022-08-25T22:02:13.665Z"
   },
   {
    "duration": 23,
    "start_time": "2022-08-25T22:02:13.709Z"
   },
   {
    "duration": 12,
    "start_time": "2022-08-25T22:02:13.734Z"
   },
   {
    "duration": 12,
    "start_time": "2022-08-25T22:02:13.747Z"
   },
   {
    "duration": 33,
    "start_time": "2022-08-25T22:02:13.761Z"
   },
   {
    "duration": 23,
    "start_time": "2022-08-25T22:02:13.795Z"
   },
   {
    "duration": 5,
    "start_time": "2022-08-25T22:02:13.822Z"
   },
   {
    "duration": 167,
    "start_time": "2022-08-25T22:02:13.828Z"
   },
   {
    "duration": 5,
    "start_time": "2022-08-25T22:02:13.996Z"
   },
   {
    "duration": 487,
    "start_time": "2022-08-25T22:02:14.002Z"
   },
   {
    "duration": 487,
    "start_time": "2022-08-25T22:02:14.490Z"
   },
   {
    "duration": 484,
    "start_time": "2022-08-25T22:02:14.979Z"
   },
   {
    "duration": 111,
    "start_time": "2022-08-25T22:02:15.465Z"
   },
   {
    "duration": 129,
    "start_time": "2022-08-25T22:02:15.578Z"
   },
   {
    "duration": 219,
    "start_time": "2022-08-25T22:02:15.709Z"
   },
   {
    "duration": 4,
    "start_time": "2022-08-25T22:02:15.929Z"
   },
   {
    "duration": 34,
    "start_time": "2022-08-25T22:02:15.934Z"
   },
   {
    "duration": 29,
    "start_time": "2022-08-25T22:02:15.970Z"
   },
   {
    "duration": 9,
    "start_time": "2022-08-25T22:02:16.000Z"
   },
   {
    "duration": 12,
    "start_time": "2022-08-25T22:02:16.011Z"
   },
   {
    "duration": 20,
    "start_time": "2022-08-25T22:02:16.025Z"
   },
   {
    "duration": 7,
    "start_time": "2022-08-25T22:02:16.047Z"
   },
   {
    "duration": 11,
    "start_time": "2022-08-25T22:02:16.056Z"
   },
   {
    "duration": 33,
    "start_time": "2022-08-25T22:02:16.069Z"
   },
   {
    "duration": 23,
    "start_time": "2022-08-25T22:02:16.104Z"
   },
   {
    "duration": 7,
    "start_time": "2022-08-25T22:02:16.129Z"
   },
   {
    "duration": 8,
    "start_time": "2022-08-25T22:02:16.137Z"
   },
   {
    "duration": 8,
    "start_time": "2022-08-25T22:02:16.147Z"
   },
   {
    "duration": 30,
    "start_time": "2022-08-25T22:02:16.157Z"
   },
   {
    "duration": 1268,
    "start_time": "2022-08-26T16:22:19.496Z"
   },
   {
    "duration": 832,
    "start_time": "2022-08-26T16:22:20.766Z"
   },
   {
    "duration": 3,
    "start_time": "2022-08-26T16:22:21.599Z"
   },
   {
    "duration": 124,
    "start_time": "2022-08-26T16:22:21.603Z"
   },
   {
    "duration": 68,
    "start_time": "2022-08-26T16:22:21.730Z"
   },
   {
    "duration": 6,
    "start_time": "2022-08-26T16:22:21.800Z"
   },
   {
    "duration": 8,
    "start_time": "2022-08-26T16:22:21.808Z"
   },
   {
    "duration": 16,
    "start_time": "2022-08-26T16:22:21.818Z"
   },
   {
    "duration": 33,
    "start_time": "2022-08-26T16:22:21.836Z"
   },
   {
    "duration": 11,
    "start_time": "2022-08-26T16:22:21.870Z"
   },
   {
    "duration": 5,
    "start_time": "2022-08-26T16:22:21.882Z"
   },
   {
    "duration": 18,
    "start_time": "2022-08-26T16:22:21.889Z"
   },
   {
    "duration": 4,
    "start_time": "2022-08-26T16:22:21.909Z"
   },
   {
    "duration": 283,
    "start_time": "2022-08-26T16:22:21.915Z"
   },
   {
    "duration": 251,
    "start_time": "2022-08-26T16:22:22.200Z"
   },
   {
    "duration": 24,
    "start_time": "2022-08-26T16:22:22.453Z"
   },
   {
    "duration": 35,
    "start_time": "2022-08-26T16:22:22.479Z"
   },
   {
    "duration": 10,
    "start_time": "2022-08-26T16:22:22.515Z"
   },
   {
    "duration": 37,
    "start_time": "2022-08-26T16:22:22.526Z"
   },
   {
    "duration": 36,
    "start_time": "2022-08-26T16:22:22.565Z"
   },
   {
    "duration": 27,
    "start_time": "2022-08-26T16:22:22.603Z"
   },
   {
    "duration": 22,
    "start_time": "2022-08-26T16:22:22.631Z"
   },
   {
    "duration": 18,
    "start_time": "2022-08-26T16:22:22.654Z"
   },
   {
    "duration": 27,
    "start_time": "2022-08-26T16:22:22.674Z"
   },
   {
    "duration": 11,
    "start_time": "2022-08-26T16:22:22.702Z"
   },
   {
    "duration": 9,
    "start_time": "2022-08-26T16:22:22.714Z"
   },
   {
    "duration": 21,
    "start_time": "2022-08-26T16:22:22.724Z"
   },
   {
    "duration": 11,
    "start_time": "2022-08-26T16:22:22.746Z"
   },
   {
    "duration": 129,
    "start_time": "2022-08-26T16:22:22.758Z"
   },
   {
    "duration": 10,
    "start_time": "2022-08-26T16:22:22.889Z"
   },
   {
    "duration": 398,
    "start_time": "2022-08-26T16:22:22.900Z"
   },
   {
    "duration": 401,
    "start_time": "2022-08-26T16:22:23.299Z"
   },
   {
    "duration": 403,
    "start_time": "2022-08-26T16:22:23.701Z"
   },
   {
    "duration": 105,
    "start_time": "2022-08-26T16:22:24.106Z"
   },
   {
    "duration": 108,
    "start_time": "2022-08-26T16:22:24.212Z"
   },
   {
    "duration": 204,
    "start_time": "2022-08-26T16:22:24.321Z"
   },
   {
    "duration": 4,
    "start_time": "2022-08-26T16:22:24.527Z"
   },
   {
    "duration": 38,
    "start_time": "2022-08-26T16:22:24.533Z"
   },
   {
    "duration": 38,
    "start_time": "2022-08-26T16:22:24.573Z"
   },
   {
    "duration": 3,
    "start_time": "2022-08-26T16:22:24.613Z"
   },
   {
    "duration": 8,
    "start_time": "2022-08-26T16:22:24.620Z"
   },
   {
    "duration": 9,
    "start_time": "2022-08-26T16:22:24.630Z"
   },
   {
    "duration": 8,
    "start_time": "2022-08-26T16:22:24.641Z"
   },
   {
    "duration": 10,
    "start_time": "2022-08-26T16:22:24.651Z"
   },
   {
    "duration": 48,
    "start_time": "2022-08-26T16:22:24.662Z"
   },
   {
    "duration": 21,
    "start_time": "2022-08-26T16:22:24.711Z"
   },
   {
    "duration": 6,
    "start_time": "2022-08-26T16:22:24.733Z"
   },
   {
    "duration": 9,
    "start_time": "2022-08-26T16:22:24.740Z"
   },
   {
    "duration": 5,
    "start_time": "2022-08-26T16:22:24.750Z"
   },
   {
    "duration": 6,
    "start_time": "2022-08-26T16:22:24.756Z"
   },
   {
    "duration": 1043,
    "start_time": "2022-08-26T16:22:26.349Z"
   },
   {
    "duration": 285,
    "start_time": "2022-08-26T16:22:27.394Z"
   },
   {
    "duration": 3,
    "start_time": "2022-08-26T16:22:27.680Z"
   },
   {
    "duration": 123,
    "start_time": "2022-08-26T16:22:27.685Z"
   },
   {
    "duration": 57,
    "start_time": "2022-08-26T16:22:27.809Z"
   },
   {
    "duration": 6,
    "start_time": "2022-08-26T16:22:27.868Z"
   },
   {
    "duration": 25,
    "start_time": "2022-08-26T16:22:27.875Z"
   },
   {
    "duration": 7,
    "start_time": "2022-08-26T16:22:27.902Z"
   },
   {
    "duration": 10,
    "start_time": "2022-08-26T16:22:27.911Z"
   },
   {
    "duration": 4,
    "start_time": "2022-08-26T16:22:27.923Z"
   },
   {
    "duration": 6,
    "start_time": "2022-08-26T16:22:27.929Z"
   },
   {
    "duration": 14,
    "start_time": "2022-08-26T16:22:27.936Z"
   },
   {
    "duration": 29,
    "start_time": "2022-08-26T16:22:27.951Z"
   },
   {
    "duration": 264,
    "start_time": "2022-08-26T16:22:27.982Z"
   },
   {
    "duration": 251,
    "start_time": "2022-08-26T16:22:28.247Z"
   },
   {
    "duration": 30,
    "start_time": "2022-08-26T16:22:28.500Z"
   },
   {
    "duration": 15,
    "start_time": "2022-08-26T16:22:28.532Z"
   },
   {
    "duration": 9,
    "start_time": "2022-08-26T16:22:28.549Z"
   },
   {
    "duration": 57,
    "start_time": "2022-08-26T16:22:28.560Z"
   },
   {
    "duration": 25,
    "start_time": "2022-08-26T16:22:28.618Z"
   },
   {
    "duration": 24,
    "start_time": "2022-08-26T16:22:28.645Z"
   },
   {
    "duration": 41,
    "start_time": "2022-08-26T16:22:28.670Z"
   },
   {
    "duration": 17,
    "start_time": "2022-08-26T16:22:28.713Z"
   },
   {
    "duration": 10,
    "start_time": "2022-08-26T16:22:28.731Z"
   },
   {
    "duration": 10,
    "start_time": "2022-08-26T16:22:28.743Z"
   },
   {
    "duration": 19,
    "start_time": "2022-08-26T16:22:28.754Z"
   },
   {
    "duration": 32,
    "start_time": "2022-08-26T16:22:28.774Z"
   },
   {
    "duration": 4,
    "start_time": "2022-08-26T16:22:28.810Z"
   },
   {
    "duration": 123,
    "start_time": "2022-08-26T16:22:28.815Z"
   },
   {
    "duration": 4,
    "start_time": "2022-08-26T16:22:28.939Z"
   },
   {
    "duration": 396,
    "start_time": "2022-08-26T16:22:28.944Z"
   },
   {
    "duration": 401,
    "start_time": "2022-08-26T16:22:29.341Z"
   },
   {
    "duration": 411,
    "start_time": "2022-08-26T16:22:29.743Z"
   },
   {
    "duration": 104,
    "start_time": "2022-08-26T16:22:30.155Z"
   },
   {
    "duration": 109,
    "start_time": "2022-08-26T16:22:30.260Z"
   },
   {
    "duration": 185,
    "start_time": "2022-08-26T16:22:30.370Z"
   },
   {
    "duration": 3,
    "start_time": "2022-08-26T16:22:30.557Z"
   },
   {
    "duration": 50,
    "start_time": "2022-08-26T16:22:30.561Z"
   },
   {
    "duration": 32,
    "start_time": "2022-08-26T16:22:30.613Z"
   },
   {
    "duration": 19,
    "start_time": "2022-08-26T16:22:30.647Z"
   },
   {
    "duration": 29,
    "start_time": "2022-08-26T16:22:30.667Z"
   },
   {
    "duration": 76,
    "start_time": "2022-08-26T16:22:30.698Z"
   },
   {
    "duration": 62,
    "start_time": "2022-08-26T16:22:30.775Z"
   },
   {
    "duration": 22,
    "start_time": "2022-08-26T16:22:30.839Z"
   },
   {
    "duration": 99,
    "start_time": "2022-08-26T16:22:30.862Z"
   },
   {
    "duration": 24,
    "start_time": "2022-08-26T16:22:30.963Z"
   },
   {
    "duration": 96,
    "start_time": "2022-08-26T16:22:30.988Z"
   },
   {
    "duration": 17,
    "start_time": "2022-08-26T16:22:31.085Z"
   },
   {
    "duration": 10,
    "start_time": "2022-08-26T16:22:31.103Z"
   },
   {
    "duration": 37,
    "start_time": "2022-08-26T16:22:31.114Z"
   },
   {
    "duration": 16,
    "start_time": "2022-08-26T16:24:57.023Z"
   },
   {
    "duration": 16,
    "start_time": "2022-08-26T16:31:46.273Z"
   },
   {
    "duration": 47,
    "start_time": "2022-08-26T19:26:47.789Z"
   },
   {
    "duration": 1266,
    "start_time": "2022-08-26T19:26:57.192Z"
   },
   {
    "duration": 809,
    "start_time": "2022-08-26T19:26:58.460Z"
   },
   {
    "duration": 3,
    "start_time": "2022-08-26T19:26:59.270Z"
   },
   {
    "duration": 128,
    "start_time": "2022-08-26T19:26:59.274Z"
   },
   {
    "duration": 60,
    "start_time": "2022-08-26T19:27:01.078Z"
   },
   {
    "duration": 6,
    "start_time": "2022-08-26T19:27:01.508Z"
   },
   {
    "duration": 9,
    "start_time": "2022-08-26T19:27:03.100Z"
   },
   {
    "duration": 7,
    "start_time": "2022-08-26T19:27:04.415Z"
   },
   {
    "duration": 6,
    "start_time": "2022-08-26T19:27:04.912Z"
   },
   {
    "duration": 5,
    "start_time": "2022-08-26T19:27:06.620Z"
   },
   {
    "duration": 6,
    "start_time": "2022-08-26T19:27:30.845Z"
   },
   {
    "duration": 3,
    "start_time": "2022-08-26T19:27:32.149Z"
   },
   {
    "duration": 4,
    "start_time": "2022-08-26T19:27:32.671Z"
   },
   {
    "duration": 13,
    "start_time": "2022-08-26T19:27:33.445Z"
   },
   {
    "duration": 5,
    "start_time": "2022-08-26T19:27:34.309Z"
   },
   {
    "duration": 260,
    "start_time": "2022-08-26T19:27:34.970Z"
   },
   {
    "duration": 242,
    "start_time": "2022-08-26T19:27:35.845Z"
   },
   {
    "duration": 24,
    "start_time": "2022-08-26T19:27:43.887Z"
   },
   {
    "duration": 20,
    "start_time": "2022-08-26T19:27:44.333Z"
   },
   {
    "duration": 12,
    "start_time": "2022-08-26T19:27:44.696Z"
   },
   {
    "duration": 37,
    "start_time": "2022-08-26T19:27:45.703Z"
   },
   {
    "duration": 27,
    "start_time": "2022-08-26T19:27:45.970Z"
   },
   {
    "duration": 23,
    "start_time": "2022-08-26T19:27:46.606Z"
   },
   {
    "duration": 26,
    "start_time": "2022-08-26T19:28:22.621Z"
   },
   {
    "duration": 19,
    "start_time": "2022-08-26T19:28:23.286Z"
   },
   {
    "duration": 73,
    "start_time": "2022-08-26T19:28:24.110Z"
   },
   {
    "duration": 21,
    "start_time": "2022-08-26T19:28:24.452Z"
   },
   {
    "duration": 11,
    "start_time": "2022-08-26T19:28:25.510Z"
   },
   {
    "duration": 11,
    "start_time": "2022-08-26T19:28:25.896Z"
   },
   {
    "duration": 8,
    "start_time": "2022-08-26T19:28:28.572Z"
   },
   {
    "duration": 14,
    "start_time": "2022-08-26T19:28:29.261Z"
   },
   {
    "duration": 4,
    "start_time": "2022-08-26T19:28:42.651Z"
   },
   {
    "duration": 69,
    "start_time": "2022-08-26T19:28:44.293Z"
   },
   {
    "duration": 5,
    "start_time": "2022-08-26T19:34:03.724Z"
   },
   {
    "duration": 80,
    "start_time": "2022-08-26T19:34:06.257Z"
   },
   {
    "duration": 48,
    "start_time": "2022-08-26T19:38:47.535Z"
   },
   {
    "duration": 159,
    "start_time": "2022-08-26T19:38:58.256Z"
   },
   {
    "duration": 96,
    "start_time": "2022-08-26T19:39:34.149Z"
   },
   {
    "duration": 94,
    "start_time": "2022-08-26T19:39:38.396Z"
   },
   {
    "duration": 92,
    "start_time": "2022-08-26T19:46:14.098Z"
   },
   {
    "duration": 4,
    "start_time": "2022-08-26T19:46:20.758Z"
   },
   {
    "duration": 16,
    "start_time": "2022-08-26T19:46:21.969Z"
   },
   {
    "duration": 3,
    "start_time": "2022-08-26T19:47:03.203Z"
   },
   {
    "duration": 278,
    "start_time": "2022-08-26T19:47:03.775Z"
   },
   {
    "duration": 4,
    "start_time": "2022-08-26T19:47:04.055Z"
   },
   {
    "duration": 108,
    "start_time": "2022-08-26T19:47:04.073Z"
   },
   {
    "duration": 63,
    "start_time": "2022-08-26T19:47:10.277Z"
   },
   {
    "duration": 6,
    "start_time": "2022-08-26T19:47:10.342Z"
   },
   {
    "duration": 9,
    "start_time": "2022-08-26T19:47:10.446Z"
   },
   {
    "duration": 6,
    "start_time": "2022-08-26T19:47:10.565Z"
   },
   {
    "duration": 6,
    "start_time": "2022-08-26T19:47:10.611Z"
   },
   {
    "duration": 4,
    "start_time": "2022-08-26T19:47:11.285Z"
   },
   {
    "duration": 5,
    "start_time": "2022-08-26T19:47:11.371Z"
   },
   {
    "duration": 16,
    "start_time": "2022-08-26T19:47:11.378Z"
   },
   {
    "duration": 5,
    "start_time": "2022-08-26T19:47:11.539Z"
   },
   {
    "duration": 249,
    "start_time": "2022-08-26T19:47:11.803Z"
   },
   {
    "duration": 256,
    "start_time": "2022-08-26T19:47:12.054Z"
   },
   {
    "duration": 24,
    "start_time": "2022-08-26T19:47:12.311Z"
   },
   {
    "duration": 81,
    "start_time": "2022-08-26T19:47:12.336Z"
   },
   {
    "duration": 10,
    "start_time": "2022-08-26T19:47:12.419Z"
   },
   {
    "duration": 30,
    "start_time": "2022-08-26T19:47:12.431Z"
   },
   {
    "duration": 45,
    "start_time": "2022-08-26T19:47:12.462Z"
   },
   {
    "duration": 19,
    "start_time": "2022-08-26T19:47:12.508Z"
   },
   {
    "duration": 21,
    "start_time": "2022-08-26T19:47:12.529Z"
   },
   {
    "duration": 14,
    "start_time": "2022-08-26T19:47:12.551Z"
   },
   {
    "duration": 10,
    "start_time": "2022-08-26T19:47:12.566Z"
   },
   {
    "duration": 23,
    "start_time": "2022-08-26T19:47:12.578Z"
   },
   {
    "duration": 9,
    "start_time": "2022-08-26T19:47:12.905Z"
   },
   {
    "duration": 14,
    "start_time": "2022-08-26T19:47:12.916Z"
   },
   {
    "duration": 5,
    "start_time": "2022-08-26T19:47:16.816Z"
   },
   {
    "duration": 60,
    "start_time": "2022-08-26T19:47:17.431Z"
   },
   {
    "duration": 4,
    "start_time": "2022-08-26T19:47:19.101Z"
   },
   {
    "duration": 12,
    "start_time": "2022-08-26T19:47:20.160Z"
   },
   {
    "duration": 9,
    "start_time": "2022-08-26T19:53:19.489Z"
   },
   {
    "duration": 2,
    "start_time": "2022-08-26T19:54:01.610Z"
   },
   {
    "duration": 9,
    "start_time": "2022-08-26T19:54:24.878Z"
   },
   {
    "duration": 5,
    "start_time": "2022-08-26T20:13:16.083Z"
   },
   {
    "duration": 56,
    "start_time": "2022-08-26T20:13:17.328Z"
   },
   {
    "duration": 5,
    "start_time": "2022-08-26T20:13:28.862Z"
   },
   {
    "duration": 56,
    "start_time": "2022-08-26T20:13:29.356Z"
   },
   {
    "duration": 4,
    "start_time": "2022-08-26T20:13:30.948Z"
   },
   {
    "duration": 170,
    "start_time": "2022-08-26T20:13:31.551Z"
   },
   {
    "duration": 168,
    "start_time": "2022-08-26T20:13:31.744Z"
   },
   {
    "duration": 5,
    "start_time": "2022-08-26T20:14:40.221Z"
   },
   {
    "duration": 486,
    "start_time": "2022-08-26T20:14:41.041Z"
   },
   {
    "duration": 4,
    "start_time": "2022-08-26T20:14:58.733Z"
   },
   {
    "duration": 467,
    "start_time": "2022-08-26T20:14:59.512Z"
   },
   {
    "duration": 425,
    "start_time": "2022-08-26T20:15:01.082Z"
   },
   {
    "duration": 434,
    "start_time": "2022-08-26T20:15:01.509Z"
   },
   {
    "duration": 93,
    "start_time": "2022-08-26T20:15:03.151Z"
   },
   {
    "duration": 8,
    "start_time": "2022-08-26T20:16:33.899Z"
   },
   {
    "duration": 106,
    "start_time": "2022-08-26T20:16:40.593Z"
   },
   {
    "duration": 560,
    "start_time": "2022-08-26T20:17:24.209Z"
   },
   {
    "duration": 407,
    "start_time": "2022-08-26T20:17:38.044Z"
   },
   {
    "duration": 118,
    "start_time": "2022-08-26T20:17:42.321Z"
   },
   {
    "duration": 92,
    "start_time": "2022-08-26T20:17:43.029Z"
   },
   {
    "duration": 101,
    "start_time": "2022-08-26T20:17:43.249Z"
   },
   {
    "duration": 4,
    "start_time": "2022-08-26T20:17:45.571Z"
   },
   {
    "duration": 28,
    "start_time": "2022-08-26T20:17:45.797Z"
   },
   {
    "duration": 26,
    "start_time": "2022-08-26T20:17:45.958Z"
   },
   {
    "duration": 3,
    "start_time": "2022-08-26T20:17:46.742Z"
   },
   {
    "duration": 5,
    "start_time": "2022-08-26T20:17:46.789Z"
   },
   {
    "duration": 5,
    "start_time": "2022-08-26T20:17:46.834Z"
   },
   {
    "duration": 3,
    "start_time": "2022-08-26T20:17:46.911Z"
   },
   {
    "duration": 4,
    "start_time": "2022-08-26T20:17:46.957Z"
   },
   {
    "duration": 23,
    "start_time": "2022-08-26T20:17:47.119Z"
   },
   {
    "duration": 21,
    "start_time": "2022-08-26T20:17:47.216Z"
   },
   {
    "duration": 6,
    "start_time": "2022-08-26T20:17:47.392Z"
   },
   {
    "duration": 6,
    "start_time": "2022-08-26T20:17:47.549Z"
   },
   {
    "duration": 4,
    "start_time": "2022-08-26T20:17:47.824Z"
   },
   {
    "duration": 4,
    "start_time": "2022-08-26T20:17:47.976Z"
   },
   {
    "duration": 8,
    "start_time": "2022-08-26T20:30:15.182Z"
   },
   {
    "duration": 76,
    "start_time": "2022-08-26T20:30:16.602Z"
   },
   {
    "duration": 1443,
    "start_time": "2022-08-26T20:30:39.504Z"
   },
   {
    "duration": 292,
    "start_time": "2022-08-26T20:30:40.949Z"
   },
   {
    "duration": 3,
    "start_time": "2022-08-26T20:30:41.243Z"
   },
   {
    "duration": 154,
    "start_time": "2022-08-26T20:30:41.249Z"
   },
   {
    "duration": 64,
    "start_time": "2022-08-26T20:30:41.405Z"
   },
   {
    "duration": 7,
    "start_time": "2022-08-26T20:30:41.470Z"
   },
   {
    "duration": 27,
    "start_time": "2022-08-26T20:30:41.478Z"
   },
   {
    "duration": 8,
    "start_time": "2022-08-26T20:30:41.507Z"
   },
   {
    "duration": 8,
    "start_time": "2022-08-26T20:30:41.517Z"
   },
   {
    "duration": 8,
    "start_time": "2022-08-26T20:30:41.528Z"
   },
   {
    "duration": 4,
    "start_time": "2022-08-26T20:30:41.538Z"
   },
   {
    "duration": 19,
    "start_time": "2022-08-26T20:30:41.544Z"
   },
   {
    "duration": 13,
    "start_time": "2022-08-26T20:30:41.565Z"
   },
   {
    "duration": 294,
    "start_time": "2022-08-26T20:30:41.580Z"
   },
   {
    "duration": 268,
    "start_time": "2022-08-26T20:30:41.875Z"
   },
   {
    "duration": 38,
    "start_time": "2022-08-26T20:30:42.146Z"
   },
   {
    "duration": 27,
    "start_time": "2022-08-26T20:30:42.198Z"
   },
   {
    "duration": 13,
    "start_time": "2022-08-26T20:30:42.227Z"
   },
   {
    "duration": 33,
    "start_time": "2022-08-26T20:30:42.241Z"
   },
   {
    "duration": 44,
    "start_time": "2022-08-26T20:30:42.276Z"
   },
   {
    "duration": 23,
    "start_time": "2022-08-26T20:30:42.322Z"
   },
   {
    "duration": 29,
    "start_time": "2022-08-26T20:30:42.346Z"
   },
   {
    "duration": 37,
    "start_time": "2022-08-26T20:30:42.377Z"
   },
   {
    "duration": 14,
    "start_time": "2022-08-26T20:30:42.415Z"
   },
   {
    "duration": 13,
    "start_time": "2022-08-26T20:30:42.431Z"
   },
   {
    "duration": 9,
    "start_time": "2022-08-26T20:30:42.446Z"
   },
   {
    "duration": 43,
    "start_time": "2022-08-26T20:30:42.456Z"
   },
   {
    "duration": 5,
    "start_time": "2022-08-26T20:30:42.502Z"
   },
   {
    "duration": 116,
    "start_time": "2022-08-26T20:30:42.509Z"
   },
   {
    "duration": 5,
    "start_time": "2022-08-26T20:30:42.626Z"
   },
   {
    "duration": 423,
    "start_time": "2022-08-26T20:30:42.632Z"
   },
   {
    "duration": 427,
    "start_time": "2022-08-26T20:30:43.057Z"
   },
   {
    "duration": 420,
    "start_time": "2022-08-26T20:30:43.485Z"
   },
   {
    "duration": 110,
    "start_time": "2022-08-26T20:30:43.906Z"
   },
   {
    "duration": 114,
    "start_time": "2022-08-26T20:30:44.018Z"
   },
   {
    "duration": 180,
    "start_time": "2022-08-26T20:30:44.134Z"
   },
   {
    "duration": 3,
    "start_time": "2022-08-26T20:30:44.315Z"
   },
   {
    "duration": 25,
    "start_time": "2022-08-26T20:30:44.320Z"
   },
   {
    "duration": 23,
    "start_time": "2022-08-26T20:30:44.346Z"
   },
   {
    "duration": 3,
    "start_time": "2022-08-26T20:30:44.371Z"
   },
   {
    "duration": 7,
    "start_time": "2022-08-26T20:30:44.398Z"
   },
   {
    "duration": 20,
    "start_time": "2022-08-26T20:30:44.407Z"
   },
   {
    "duration": 11,
    "start_time": "2022-08-26T20:30:44.429Z"
   },
   {
    "duration": 5,
    "start_time": "2022-08-26T20:30:44.442Z"
   },
   {
    "duration": 34,
    "start_time": "2022-08-26T20:30:44.449Z"
   },
   {
    "duration": 33,
    "start_time": "2022-08-26T20:30:44.485Z"
   },
   {
    "duration": 10,
    "start_time": "2022-08-26T20:30:44.520Z"
   },
   {
    "duration": 12,
    "start_time": "2022-08-26T20:30:44.532Z"
   },
   {
    "duration": 6,
    "start_time": "2022-08-26T20:30:44.546Z"
   },
   {
    "duration": 9,
    "start_time": "2022-08-26T20:30:44.554Z"
   },
   {
    "duration": 3,
    "start_time": "2022-08-26T20:34:21.057Z"
   },
   {
    "duration": 99,
    "start_time": "2022-08-26T20:34:37.093Z"
   },
   {
    "duration": 179,
    "start_time": "2022-08-26T20:34:47.389Z"
   },
   {
    "duration": 4,
    "start_time": "2022-08-26T20:35:04.205Z"
   },
   {
    "duration": 4,
    "start_time": "2022-08-26T20:35:09.909Z"
   },
   {
    "duration": 176,
    "start_time": "2022-08-26T20:35:10.475Z"
   },
   {
    "duration": 3,
    "start_time": "2022-08-26T20:35:53.233Z"
   },
   {
    "duration": 229,
    "start_time": "2022-08-26T20:35:53.954Z"
   },
   {
    "duration": 3,
    "start_time": "2022-08-26T20:36:04.143Z"
   },
   {
    "duration": 257,
    "start_time": "2022-08-26T20:36:04.562Z"
   },
   {
    "duration": 3,
    "start_time": "2022-08-26T20:36:11.976Z"
   },
   {
    "duration": 225,
    "start_time": "2022-08-26T20:36:12.391Z"
   },
   {
    "duration": 3,
    "start_time": "2022-08-26T20:37:03.127Z"
   },
   {
    "duration": 142,
    "start_time": "2022-08-26T20:37:03.527Z"
   },
   {
    "duration": 3,
    "start_time": "2022-08-26T20:37:09.510Z"
   },
   {
    "duration": 143,
    "start_time": "2022-08-26T20:37:10.124Z"
   },
   {
    "duration": 3,
    "start_time": "2022-08-26T20:37:32.822Z"
   },
   {
    "duration": 95,
    "start_time": "2022-08-26T20:37:33.195Z"
   },
   {
    "duration": 103,
    "start_time": "2022-08-26T20:39:35.235Z"
   },
   {
    "duration": 95,
    "start_time": "2022-08-26T20:39:45.489Z"
   },
   {
    "duration": 42,
    "start_time": "2022-08-26T20:43:03.198Z"
   },
   {
    "duration": 42,
    "start_time": "2022-08-26T20:43:21.564Z"
   },
   {
    "duration": 544,
    "start_time": "2022-08-26T20:43:39.063Z"
   },
   {
    "duration": 780,
    "start_time": "2022-08-26T20:43:54.689Z"
   },
   {
    "duration": 585,
    "start_time": "2022-08-26T20:45:25.952Z"
   },
   {
    "duration": 47,
    "start_time": "2022-08-26T20:46:01.383Z"
   },
   {
    "duration": 200,
    "start_time": "2022-08-26T20:46:08.066Z"
   },
   {
    "duration": 202,
    "start_time": "2022-08-26T20:47:09.353Z"
   },
   {
    "duration": 5,
    "start_time": "2022-08-26T20:47:48.367Z"
   },
   {
    "duration": 426,
    "start_time": "2022-08-26T20:47:49.752Z"
   },
   {
    "duration": 4,
    "start_time": "2022-08-26T20:48:02.559Z"
   },
   {
    "duration": 612,
    "start_time": "2022-08-26T20:48:03.554Z"
   },
   {
    "duration": 5,
    "start_time": "2022-08-26T20:48:26.283Z"
   },
   {
    "duration": 470,
    "start_time": "2022-08-26T20:48:27.142Z"
   },
   {
    "duration": 4,
    "start_time": "2022-08-26T20:50:34.115Z"
   },
   {
    "duration": 493,
    "start_time": "2022-08-26T20:50:34.982Z"
   },
   {
    "duration": 50,
    "start_time": "2022-08-26T20:51:03.850Z"
   },
   {
    "duration": 3,
    "start_time": "2022-08-26T20:51:08.855Z"
   },
   {
    "duration": 6,
    "start_time": "2022-08-26T20:51:27.938Z"
   },
   {
    "duration": 566,
    "start_time": "2022-08-26T20:51:28.811Z"
   },
   {
    "duration": 4,
    "start_time": "2022-08-26T20:52:09.199Z"
   },
   {
    "duration": 490,
    "start_time": "2022-08-26T20:52:10.701Z"
   },
   {
    "duration": 5,
    "start_time": "2022-08-26T20:52:51.276Z"
   },
   {
    "duration": 513,
    "start_time": "2022-08-26T20:52:52.110Z"
   },
   {
    "duration": 5,
    "start_time": "2022-08-26T20:53:16.385Z"
   },
   {
    "duration": 575,
    "start_time": "2022-08-26T20:53:17.266Z"
   },
   {
    "duration": 5,
    "start_time": "2022-08-26T20:55:02.215Z"
   },
   {
    "duration": 501,
    "start_time": "2022-08-26T20:55:03.034Z"
   },
   {
    "duration": 5,
    "start_time": "2022-08-26T20:55:23.542Z"
   },
   {
    "duration": 652,
    "start_time": "2022-08-26T20:55:24.335Z"
   },
   {
    "duration": 4,
    "start_time": "2022-08-26T20:56:13.465Z"
   },
   {
    "duration": 540,
    "start_time": "2022-08-26T20:56:14.337Z"
   },
   {
    "duration": 5,
    "start_time": "2022-08-26T20:56:49.813Z"
   },
   {
    "duration": 486,
    "start_time": "2022-08-26T20:56:50.513Z"
   },
   {
    "duration": 588,
    "start_time": "2022-08-26T20:56:51.084Z"
   },
   {
    "duration": 482,
    "start_time": "2022-08-26T20:56:52.869Z"
   },
   {
    "duration": 1070,
    "start_time": "2022-08-26T21:00:11.523Z"
   },
   {
    "duration": 270,
    "start_time": "2022-08-26T21:00:12.595Z"
   },
   {
    "duration": 3,
    "start_time": "2022-08-26T21:00:12.866Z"
   },
   {
    "duration": 116,
    "start_time": "2022-08-26T21:00:12.870Z"
   },
   {
    "duration": 60,
    "start_time": "2022-08-26T21:00:12.988Z"
   },
   {
    "duration": 6,
    "start_time": "2022-08-26T21:00:13.050Z"
   },
   {
    "duration": 9,
    "start_time": "2022-08-26T21:00:13.058Z"
   },
   {
    "duration": 6,
    "start_time": "2022-08-26T21:00:13.068Z"
   },
   {
    "duration": 35,
    "start_time": "2022-08-26T21:00:13.075Z"
   },
   {
    "duration": 5,
    "start_time": "2022-08-26T21:00:13.112Z"
   },
   {
    "duration": 7,
    "start_time": "2022-08-26T21:00:13.119Z"
   },
   {
    "duration": 14,
    "start_time": "2022-08-26T21:00:13.127Z"
   },
   {
    "duration": 6,
    "start_time": "2022-08-26T21:00:13.143Z"
   },
   {
    "duration": 274,
    "start_time": "2022-08-26T21:00:13.150Z"
   },
   {
    "duration": 250,
    "start_time": "2022-08-26T21:00:13.426Z"
   },
   {
    "duration": 36,
    "start_time": "2022-08-26T21:00:13.677Z"
   },
   {
    "duration": 16,
    "start_time": "2022-08-26T21:00:13.714Z"
   },
   {
    "duration": 9,
    "start_time": "2022-08-26T21:00:13.731Z"
   },
   {
    "duration": 33,
    "start_time": "2022-08-26T21:00:13.741Z"
   },
   {
    "duration": 42,
    "start_time": "2022-08-26T21:00:13.776Z"
   },
   {
    "duration": 23,
    "start_time": "2022-08-26T21:00:13.819Z"
   },
   {
    "duration": 24,
    "start_time": "2022-08-26T21:00:13.844Z"
   },
   {
    "duration": 37,
    "start_time": "2022-08-26T21:00:13.869Z"
   },
   {
    "duration": 11,
    "start_time": "2022-08-26T21:00:13.907Z"
   },
   {
    "duration": 10,
    "start_time": "2022-08-26T21:00:13.919Z"
   },
   {
    "duration": 8,
    "start_time": "2022-08-26T21:00:13.930Z"
   },
   {
    "duration": 13,
    "start_time": "2022-08-26T21:00:13.939Z"
   },
   {
    "duration": 8,
    "start_time": "2022-08-26T21:00:13.956Z"
   },
   {
    "duration": 144,
    "start_time": "2022-08-26T21:00:13.966Z"
   },
   {
    "duration": 4,
    "start_time": "2022-08-26T21:00:14.112Z"
   },
   {
    "duration": 559,
    "start_time": "2022-08-26T21:00:14.118Z"
   },
   {
    "duration": 523,
    "start_time": "2022-08-26T21:00:14.678Z"
   },
   {
    "duration": 586,
    "start_time": "2022-08-26T21:00:15.203Z"
   },
   {
    "duration": 8,
    "start_time": "2022-08-26T21:00:15.791Z"
   },
   {
    "duration": 29,
    "start_time": "2022-08-26T21:00:15.800Z"
   },
   {
    "duration": 22,
    "start_time": "2022-08-26T21:00:15.830Z"
   },
   {
    "duration": 3,
    "start_time": "2022-08-26T21:00:15.853Z"
   },
   {
    "duration": 8,
    "start_time": "2022-08-26T21:00:15.857Z"
   },
   {
    "duration": 6,
    "start_time": "2022-08-26T21:00:15.867Z"
   },
   {
    "duration": 25,
    "start_time": "2022-08-26T21:00:15.874Z"
   },
   {
    "duration": 3,
    "start_time": "2022-08-26T21:00:15.900Z"
   },
   {
    "duration": 28,
    "start_time": "2022-08-26T21:00:15.904Z"
   },
   {
    "duration": 20,
    "start_time": "2022-08-26T21:00:15.934Z"
   },
   {
    "duration": 6,
    "start_time": "2022-08-26T21:00:15.956Z"
   },
   {
    "duration": 7,
    "start_time": "2022-08-26T21:00:15.964Z"
   },
   {
    "duration": 39,
    "start_time": "2022-08-26T21:00:15.972Z"
   },
   {
    "duration": 23,
    "start_time": "2022-08-26T21:00:16.012Z"
   },
   {
    "duration": 5,
    "start_time": "2022-08-26T21:03:08.063Z"
   },
   {
    "duration": 479,
    "start_time": "2022-08-26T21:03:08.780Z"
   },
   {
    "duration": 544,
    "start_time": "2022-08-26T21:03:14.245Z"
   },
   {
    "duration": 634,
    "start_time": "2022-08-26T21:03:14.790Z"
   },
   {
    "duration": 24,
    "start_time": "2022-08-26T21:03:55.010Z"
   },
   {
    "duration": 21,
    "start_time": "2022-08-26T21:04:02.077Z"
   },
   {
    "duration": 1091,
    "start_time": "2022-08-26T21:14:06.696Z"
   },
   {
    "duration": 283,
    "start_time": "2022-08-26T21:14:07.789Z"
   },
   {
    "duration": 2,
    "start_time": "2022-08-26T21:14:08.074Z"
   },
   {
    "duration": 120,
    "start_time": "2022-08-26T21:14:08.078Z"
   },
   {
    "duration": 60,
    "start_time": "2022-08-26T21:14:08.200Z"
   },
   {
    "duration": 6,
    "start_time": "2022-08-26T21:14:08.263Z"
   },
   {
    "duration": 8,
    "start_time": "2022-08-26T21:14:08.271Z"
   },
   {
    "duration": 5,
    "start_time": "2022-08-26T21:14:08.299Z"
   },
   {
    "duration": 8,
    "start_time": "2022-08-26T21:14:08.306Z"
   },
   {
    "duration": 6,
    "start_time": "2022-08-26T21:14:08.318Z"
   },
   {
    "duration": 8,
    "start_time": "2022-08-26T21:14:08.326Z"
   },
   {
    "duration": 18,
    "start_time": "2022-08-26T21:14:08.335Z"
   },
   {
    "duration": 5,
    "start_time": "2022-08-26T21:14:08.355Z"
   },
   {
    "duration": 366,
    "start_time": "2022-08-26T21:14:08.361Z"
   },
   {
    "duration": 246,
    "start_time": "2022-08-26T21:14:08.729Z"
   },
   {
    "duration": 36,
    "start_time": "2022-08-26T21:14:08.976Z"
   },
   {
    "duration": 17,
    "start_time": "2022-08-26T21:14:09.013Z"
   },
   {
    "duration": 10,
    "start_time": "2022-08-26T21:14:09.031Z"
   },
   {
    "duration": 58,
    "start_time": "2022-08-26T21:14:09.042Z"
   },
   {
    "duration": 25,
    "start_time": "2022-08-26T21:14:09.102Z"
   },
   {
    "duration": 24,
    "start_time": "2022-08-26T21:14:09.129Z"
   },
   {
    "duration": 23,
    "start_time": "2022-08-26T21:14:09.154Z"
   },
   {
    "duration": 37,
    "start_time": "2022-08-26T21:14:09.178Z"
   },
   {
    "duration": 11,
    "start_time": "2022-08-26T21:14:09.217Z"
   },
   {
    "duration": 10,
    "start_time": "2022-08-26T21:14:09.229Z"
   },
   {
    "duration": 8,
    "start_time": "2022-08-26T21:14:09.241Z"
   },
   {
    "duration": 15,
    "start_time": "2022-08-26T21:14:09.250Z"
   },
   {
    "duration": 32,
    "start_time": "2022-08-26T21:14:09.267Z"
   },
   {
    "duration": 126,
    "start_time": "2022-08-26T21:14:09.300Z"
   },
   {
    "duration": 5,
    "start_time": "2022-08-26T21:14:09.427Z"
   },
   {
    "duration": 523,
    "start_time": "2022-08-26T21:14:09.433Z"
   },
   {
    "duration": 554,
    "start_time": "2022-08-26T21:14:09.959Z"
   },
   {
    "duration": 589,
    "start_time": "2022-08-26T21:14:10.515Z"
   },
   {
    "duration": 3,
    "start_time": "2022-08-26T21:14:11.106Z"
   },
   {
    "duration": 26,
    "start_time": "2022-08-26T21:14:11.111Z"
   },
   {
    "duration": 23,
    "start_time": "2022-08-26T21:14:11.138Z"
   },
   {
    "duration": 8,
    "start_time": "2022-08-26T21:14:11.163Z"
   },
   {
    "duration": 26,
    "start_time": "2022-08-26T21:14:11.173Z"
   },
   {
    "duration": 5,
    "start_time": "2022-08-26T21:14:11.202Z"
   },
   {
    "duration": 5,
    "start_time": "2022-08-26T21:14:11.209Z"
   },
   {
    "duration": 6,
    "start_time": "2022-08-26T21:14:11.215Z"
   },
   {
    "duration": 26,
    "start_time": "2022-08-26T21:14:11.222Z"
   },
   {
    "duration": 20,
    "start_time": "2022-08-26T21:14:11.249Z"
   },
   {
    "duration": 29,
    "start_time": "2022-08-26T21:14:11.271Z"
   },
   {
    "duration": 5,
    "start_time": "2022-08-26T21:14:11.301Z"
   },
   {
    "duration": 7,
    "start_time": "2022-08-26T21:14:11.307Z"
   },
   {
    "duration": 6,
    "start_time": "2022-08-26T21:14:11.316Z"
   },
   {
    "duration": 57,
    "start_time": "2022-08-26T21:16:11.497Z"
   },
   {
    "duration": 5,
    "start_time": "2022-08-26T21:17:46.300Z"
   },
   {
    "duration": 57,
    "start_time": "2022-08-26T21:17:47.561Z"
   },
   {
    "duration": 6,
    "start_time": "2022-08-26T21:18:07.962Z"
   },
   {
    "duration": 481,
    "start_time": "2022-08-26T21:18:08.771Z"
   },
   {
    "duration": 477,
    "start_time": "2022-08-26T21:18:13.025Z"
   },
   {
    "duration": 610,
    "start_time": "2022-08-26T21:18:13.504Z"
   },
   {
    "duration": 1261,
    "start_time": "2022-08-27T10:12:05.213Z"
   },
   {
    "duration": 834,
    "start_time": "2022-08-27T10:12:06.475Z"
   },
   {
    "duration": 3,
    "start_time": "2022-08-27T10:12:07.311Z"
   },
   {
    "duration": 128,
    "start_time": "2022-08-27T10:12:07.316Z"
   },
   {
    "duration": 64,
    "start_time": "2022-08-27T10:12:07.447Z"
   },
   {
    "duration": 6,
    "start_time": "2022-08-27T10:12:07.513Z"
   },
   {
    "duration": 15,
    "start_time": "2022-08-27T10:12:07.521Z"
   },
   {
    "duration": 7,
    "start_time": "2022-08-27T10:12:07.538Z"
   },
   {
    "duration": 11,
    "start_time": "2022-08-27T10:12:07.546Z"
   },
   {
    "duration": 4,
    "start_time": "2022-08-27T10:12:07.558Z"
   },
   {
    "duration": 4,
    "start_time": "2022-08-27T10:12:07.564Z"
   },
   {
    "duration": 35,
    "start_time": "2022-08-27T10:12:07.569Z"
   },
   {
    "duration": 6,
    "start_time": "2022-08-27T10:12:07.605Z"
   },
   {
    "duration": 267,
    "start_time": "2022-08-27T10:12:07.615Z"
   },
   {
    "duration": 267,
    "start_time": "2022-08-27T10:12:07.883Z"
   },
   {
    "duration": 25,
    "start_time": "2022-08-27T10:12:08.151Z"
   },
   {
    "duration": 28,
    "start_time": "2022-08-27T10:12:08.177Z"
   },
   {
    "duration": 10,
    "start_time": "2022-08-27T10:12:08.206Z"
   },
   {
    "duration": 35,
    "start_time": "2022-08-27T10:12:08.217Z"
   },
   {
    "duration": 45,
    "start_time": "2022-08-27T10:12:08.253Z"
   },
   {
    "duration": 23,
    "start_time": "2022-08-27T10:12:08.300Z"
   },
   {
    "duration": 23,
    "start_time": "2022-08-27T10:12:08.324Z"
   },
   {
    "duration": 18,
    "start_time": "2022-08-27T10:12:08.348Z"
   },
   {
    "duration": 32,
    "start_time": "2022-08-27T10:12:08.367Z"
   },
   {
    "duration": 10,
    "start_time": "2022-08-27T10:12:08.401Z"
   },
   {
    "duration": 7,
    "start_time": "2022-08-27T10:12:08.416Z"
   },
   {
    "duration": 22,
    "start_time": "2022-08-27T10:12:08.424Z"
   },
   {
    "duration": 5,
    "start_time": "2022-08-27T10:12:08.447Z"
   },
   {
    "duration": 130,
    "start_time": "2022-08-27T10:12:08.453Z"
   },
   {
    "duration": 4,
    "start_time": "2022-08-27T10:12:08.584Z"
   },
   {
    "duration": 500,
    "start_time": "2022-08-27T10:12:08.598Z"
   },
   {
    "duration": 534,
    "start_time": "2022-08-27T10:12:09.099Z"
   },
   {
    "duration": 586,
    "start_time": "2022-08-27T10:12:09.634Z"
   },
   {
    "duration": 4,
    "start_time": "2022-08-27T10:12:10.222Z"
   },
   {
    "duration": 41,
    "start_time": "2022-08-27T10:12:10.228Z"
   },
   {
    "duration": 27,
    "start_time": "2022-08-27T10:12:10.271Z"
   },
   {
    "duration": 3,
    "start_time": "2022-08-27T10:12:10.300Z"
   },
   {
    "duration": 7,
    "start_time": "2022-08-27T10:12:10.304Z"
   },
   {
    "duration": 6,
    "start_time": "2022-08-27T10:12:10.312Z"
   },
   {
    "duration": 9,
    "start_time": "2022-08-27T10:12:10.320Z"
   },
   {
    "duration": 5,
    "start_time": "2022-08-27T10:12:10.332Z"
   },
   {
    "duration": 32,
    "start_time": "2022-08-27T10:12:10.338Z"
   },
   {
    "duration": 34,
    "start_time": "2022-08-27T10:12:10.371Z"
   },
   {
    "duration": 5,
    "start_time": "2022-08-27T10:12:10.406Z"
   },
   {
    "duration": 5,
    "start_time": "2022-08-27T10:12:10.413Z"
   },
   {
    "duration": 4,
    "start_time": "2022-08-27T10:12:10.419Z"
   },
   {
    "duration": 5,
    "start_time": "2022-08-27T10:12:10.424Z"
   },
   {
    "duration": 16,
    "start_time": "2022-08-27T10:14:52.599Z"
   },
   {
    "duration": 5,
    "start_time": "2022-08-27T10:16:23.403Z"
   },
   {
    "duration": 88,
    "start_time": "2022-08-27T10:16:23.902Z"
   },
   {
    "duration": 16,
    "start_time": "2022-08-27T10:16:24.102Z"
   },
   {
    "duration": 55,
    "start_time": "2022-08-27T10:16:25.071Z"
   },
   {
    "duration": 68,
    "start_time": "2022-08-27T10:16:34.103Z"
   },
   {
    "duration": 25,
    "start_time": "2022-08-27T10:16:35.310Z"
   },
   {
    "duration": 5,
    "start_time": "2022-08-27T10:16:41.924Z"
   },
   {
    "duration": 45,
    "start_time": "2022-08-27T11:10:52.415Z"
   },
   {
    "duration": 1374,
    "start_time": "2022-08-27T11:24:35.147Z"
   },
   {
    "duration": 851,
    "start_time": "2022-08-27T11:24:36.523Z"
   },
   {
    "duration": 4,
    "start_time": "2022-08-27T11:24:37.375Z"
   },
   {
    "duration": 138,
    "start_time": "2022-08-27T11:24:37.381Z"
   },
   {
    "duration": 73,
    "start_time": "2022-08-27T11:24:37.521Z"
   },
   {
    "duration": 6,
    "start_time": "2022-08-27T11:24:37.596Z"
   },
   {
    "duration": 10,
    "start_time": "2022-08-27T11:24:37.604Z"
   },
   {
    "duration": 30,
    "start_time": "2022-08-27T11:24:37.616Z"
   },
   {
    "duration": 14,
    "start_time": "2022-08-27T11:24:37.648Z"
   },
   {
    "duration": 6,
    "start_time": "2022-08-27T11:24:37.665Z"
   },
   {
    "duration": 7,
    "start_time": "2022-08-27T11:24:37.673Z"
   },
   {
    "duration": 17,
    "start_time": "2022-08-27T11:24:37.686Z"
   },
   {
    "duration": 6,
    "start_time": "2022-08-27T11:24:37.705Z"
   },
   {
    "duration": 320,
    "start_time": "2022-08-27T11:24:37.713Z"
   },
   {
    "duration": 273,
    "start_time": "2022-08-27T11:24:38.037Z"
   },
   {
    "duration": 37,
    "start_time": "2022-08-27T11:24:38.312Z"
   },
   {
    "duration": 19,
    "start_time": "2022-08-27T11:24:38.351Z"
   },
   {
    "duration": 11,
    "start_time": "2022-08-27T11:24:38.371Z"
   },
   {
    "duration": 61,
    "start_time": "2022-08-27T11:24:38.384Z"
   },
   {
    "duration": 32,
    "start_time": "2022-08-27T11:24:38.447Z"
   },
   {
    "duration": 25,
    "start_time": "2022-08-27T11:24:38.480Z"
   },
   {
    "duration": 47,
    "start_time": "2022-08-27T11:24:38.506Z"
   },
   {
    "duration": 19,
    "start_time": "2022-08-27T11:24:38.555Z"
   },
   {
    "duration": 11,
    "start_time": "2022-08-27T11:24:38.575Z"
   },
   {
    "duration": 11,
    "start_time": "2022-08-27T11:24:38.588Z"
   },
   {
    "duration": 10,
    "start_time": "2022-08-27T11:24:38.600Z"
   },
   {
    "duration": 16,
    "start_time": "2022-08-27T11:24:38.639Z"
   },
   {
    "duration": 7,
    "start_time": "2022-08-27T11:24:38.658Z"
   },
   {
    "duration": 22,
    "start_time": "2022-08-27T11:24:38.666Z"
   },
   {
    "duration": 144,
    "start_time": "2022-08-27T11:24:38.690Z"
   },
   {
    "duration": 6,
    "start_time": "2022-08-27T11:24:38.838Z"
   },
   {
    "duration": 602,
    "start_time": "2022-08-27T11:24:38.845Z"
   },
   {
    "duration": 553,
    "start_time": "2022-08-27T11:24:39.448Z"
   },
   {
    "duration": 663,
    "start_time": "2022-08-27T11:24:40.002Z"
   },
   {
    "duration": 3,
    "start_time": "2022-08-27T11:24:40.667Z"
   },
   {
    "duration": 25,
    "start_time": "2022-08-27T11:24:40.672Z"
   },
   {
    "duration": 16,
    "start_time": "2022-08-27T11:24:40.698Z"
   },
   {
    "duration": 6,
    "start_time": "2022-08-27T11:24:40.715Z"
   },
   {
    "duration": 21,
    "start_time": "2022-08-27T11:24:40.722Z"
   },
   {
    "duration": 9,
    "start_time": "2022-08-27T11:24:40.744Z"
   },
   {
    "duration": 5,
    "start_time": "2022-08-27T11:24:40.755Z"
   },
   {
    "duration": 8,
    "start_time": "2022-08-27T11:24:40.762Z"
   },
   {
    "duration": 21,
    "start_time": "2022-08-27T11:24:40.771Z"
   },
   {
    "duration": 14,
    "start_time": "2022-08-27T11:24:40.793Z"
   },
   {
    "duration": 8,
    "start_time": "2022-08-27T11:24:40.808Z"
   },
   {
    "duration": 4,
    "start_time": "2022-08-27T11:24:40.839Z"
   },
   {
    "duration": 7,
    "start_time": "2022-08-27T11:24:40.845Z"
   },
   {
    "duration": 12,
    "start_time": "2022-08-27T11:24:40.853Z"
   }
  ],
  "kernelspec": {
   "display_name": "Python 3 (ipykernel)",
   "language": "python",
   "name": "python3"
  },
  "language_info": {
   "codemirror_mode": {
    "name": "ipython",
    "version": 3
   },
   "file_extension": ".py",
   "mimetype": "text/x-python",
   "name": "python",
   "nbconvert_exporter": "python",
   "pygments_lexer": "ipython3",
   "version": "3.9.12"
  },
  "toc": {
   "base_numbering": 1,
   "nav_menu": {},
   "number_sections": true,
   "sideBar": true,
   "skip_h1_title": true,
   "title_cell": "Table of Contents",
   "title_sidebar": "Contents",
   "toc_cell": false,
   "toc_position": {},
   "toc_section_display": true,
   "toc_window_display": false
  }
 },
 "nbformat": 4,
 "nbformat_minor": 2
}
