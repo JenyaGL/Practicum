{
 "cells": [
  {
   "cell_type": "markdown",
   "metadata": {},
   "source": [
    "# New customer interaction strategy for Model Fitness gys chain"
   ]
  },
  {
   "cell_type": "markdown",
   "metadata": {},
   "source": [
    "One of the most common problems gyms and other services face is customer\n",
    "churn. How do you know if a customer is no longer with the gym. We can\n",
    "calculate churn based on people who get rid of their accounts or don't renew\n",
    "their contracts. However, sometimes it's not obvious that a client has left: they\n",
    "may walk out on tiptoes.\n",
    "\n",
    "Churn indicators vary from field to field. If a user buys from an online store\n",
    "rarely but regularly, you can't say they're a runaway. But if for two weeks they\n",
    "haven't opened a channel that's updated daily, that's a reason to worry: the\n",
    "follower might have gotten bored and left.\n",
    "\n",
    "For a gym, it makes sense to say a customer has left if they don't come for a\n",
    "month. Of course, it's possible they're in Cancun and will resume their visits\n",
    "when they return, but's that's not a typical case. Usually, if a customer joins,\n",
    "comes a few times, then disappears, they're unlikely to come back.\n",
    "\n",
    "In order to fight churn, Model Fitness digitized a number of customer profiles.\n",
    "Your task is to analyze them and come up with a customer retention strategy.\n",
    "\n",
    "In this project we intend to:\n",
    "\n",
    "- Learn to predict the probability of churn (for the upcoming month) for each customer\n",
    "\n",
    "- Draw up typical user portraits: select the most outstanding groups and describe their main features\n",
    "\n",
    "- Analyze the factors that impact churn most\n",
    "\n",
    "- Draw basic conclusions and develop recommendations on how to improve customer service:\n",
    "\n",
    "          \n",
    "          - Identify target groups\n",
    "          - Suggest measures to cut churn\n",
    "          - Describe any other patterns you see with respect to interaction with customers"
   ]
  },
  {
   "cell_type": "markdown",
   "metadata": {},
   "source": [
    "-------------------------------------"
   ]
  },
  {
   "cell_type": "code",
   "execution_count": 1,
   "metadata": {},
   "outputs": [],
   "source": [
    "#libraries\n",
    "from pprint import pprint\n",
    "import sys\n",
    "import warnings\n",
    "if not sys.warnoptions:\n",
    "       warnings.simplefilter('ignore')\n",
    "        \n",
    "#-DA libs\n",
    "import pandas as pd\n",
    "import numpy as np\n",
    "\n",
    "#vis libs\n",
    "import seaborn as sns\n",
    "import matplotlib.pyplot as plt\n",
    "\n",
    "#ML libs\n",
    "from sklearn.preprocessing import StandardScaler\n",
    "from sklearn.model_selection import train_test_split\n",
    "from sklearn.linear_model import LogisticRegression\n",
    "from sklearn.metrics import accuracy_score, precision_score, recall_score, f1_score, roc_auc_score, max_error, mean_absolute_error, r2_score, mean_squared_error\n",
    "from sklearn.ensemble import RandomForestClassifier, GradientBoostingClassifier\n",
    "from sklearn.metrics import plot_confusion_matrix, confusion_matrix, accuracy_score\n",
    "from scipy.cluster.hierarchy import dendrogram, linkage\n",
    "from sklearn.cluster import KMeans\n",
    "from sklearn.model_selection import RandomizedSearchCV\n",
    "\n"
   ]
  },
  {
   "cell_type": "markdown",
   "metadata": {},
   "source": [
    "###  Download the data:"
   ]
  },
  {
   "cell_type": "code",
   "execution_count": 2,
   "metadata": {},
   "outputs": [],
   "source": [
    "try:\n",
    "    data = pd.read_csv('/datasets/gym_churn_us.csv')\n",
    "    \n",
    "except:\n",
    "    data =  pd.read_csv('C:/Users/jenya/Desktop/gym_churn_us.csv')\n",
    "    \n",
    "data.columns=data.columns.str.lower()"
   ]
  },
  {
   "cell_type": "code",
   "execution_count": 3,
   "metadata": {},
   "outputs": [
    {
     "data": {
      "text/plain": [
       "gender             uint8\n",
       "near_location      uint8\n",
       "partner            uint8\n",
       "promo_friends      uint8\n",
       "phone              uint8\n",
       "contract_period    uint8\n",
       "group_visits       uint8\n",
       "age                uint8\n",
       "lifetime           uint8\n",
       "churn              uint8\n",
       "dtype: object"
      ]
     },
     "execution_count": 3,
     "metadata": {},
     "output_type": "execute_result"
    }
   ],
   "source": [
    "int_columns = ['gender', 'near_location', 'partner', 'promo_friends', 'phone', 'contract_period', 'group_visits', 'age', 'lifetime', 'churn']\n",
    "data[int_columns] = data[int_columns].astype('uint8')\n",
    "data[int_columns].dtypes"
   ]
  },
  {
   "cell_type": "code",
   "execution_count": 4,
   "metadata": {},
   "outputs": [
    {
     "name": "stdout",
     "output_type": "stream",
     "text": [
      "(4000, 14)\n",
      "--------------------------------------------------------------------------------\n",
      "<class 'pandas.core.frame.DataFrame'>\n",
      "RangeIndex: 4000 entries, 0 to 3999\n",
      "Data columns (total 14 columns):\n",
      " #   Column                             Non-Null Count  Dtype  \n",
      "---  ------                             --------------  -----  \n",
      " 0   gender                             4000 non-null   uint8  \n",
      " 1   near_location                      4000 non-null   uint8  \n",
      " 2   partner                            4000 non-null   uint8  \n",
      " 3   promo_friends                      4000 non-null   uint8  \n",
      " 4   phone                              4000 non-null   uint8  \n",
      " 5   contract_period                    4000 non-null   uint8  \n",
      " 6   group_visits                       4000 non-null   uint8  \n",
      " 7   age                                4000 non-null   uint8  \n",
      " 8   avg_additional_charges_total       4000 non-null   float64\n",
      " 9   month_to_end_contract              4000 non-null   float64\n",
      " 10  lifetime                           4000 non-null   uint8  \n",
      " 11  avg_class_frequency_total          4000 non-null   float64\n",
      " 12  avg_class_frequency_current_month  4000 non-null   float64\n",
      " 13  churn                              4000 non-null   uint8  \n",
      "dtypes: float64(4), uint8(10)\n",
      "memory usage: 164.2 KB\n",
      "None\n",
      "--------------------------------------------------------------------------------\n",
      "            gender  near_location      partner  promo_friends        phone  \\\n",
      "count  4000.000000    4000.000000  4000.000000    4000.000000  4000.000000   \n",
      "mean      0.510250       0.845250     0.486750       0.308500     0.903500   \n",
      "std       0.499957       0.361711     0.499887       0.461932     0.295313   \n",
      "min       0.000000       0.000000     0.000000       0.000000     0.000000   \n",
      "25%       0.000000       1.000000     0.000000       0.000000     1.000000   \n",
      "50%       1.000000       1.000000     0.000000       0.000000     1.000000   \n",
      "75%       1.000000       1.000000     1.000000       1.000000     1.000000   \n",
      "max       1.000000       1.000000     1.000000       1.000000     1.000000   \n",
      "\n",
      "       contract_period  group_visits          age  \\\n",
      "count      4000.000000   4000.000000  4000.000000   \n",
      "mean          4.681250      0.412250    29.184250   \n",
      "std           4.549706      0.492301     3.258367   \n",
      "min           1.000000      0.000000    18.000000   \n",
      "25%           1.000000      0.000000    27.000000   \n",
      "50%           1.000000      0.000000    29.000000   \n",
      "75%           6.000000      1.000000    31.000000   \n",
      "max          12.000000      1.000000    41.000000   \n",
      "\n",
      "       avg_additional_charges_total  month_to_end_contract     lifetime  \\\n",
      "count                   4000.000000            4000.000000  4000.000000   \n",
      "mean                     146.943728               4.322750     3.724750   \n",
      "std                       96.355602               4.191297     3.749267   \n",
      "min                        0.148205               1.000000     0.000000   \n",
      "25%                       68.868830               1.000000     1.000000   \n",
      "50%                      136.220159               1.000000     3.000000   \n",
      "75%                      210.949625               6.000000     5.000000   \n",
      "max                      552.590740              12.000000    31.000000   \n",
      "\n",
      "       avg_class_frequency_total  avg_class_frequency_current_month  \\\n",
      "count                4000.000000                        4000.000000   \n",
      "mean                    1.879020                           1.767052   \n",
      "std                     0.972245                           1.052906   \n",
      "min                     0.000000                           0.000000   \n",
      "25%                     1.180875                           0.963003   \n",
      "50%                     1.832768                           1.719574   \n",
      "75%                     2.536078                           2.510336   \n",
      "max                     6.023668                           6.146783   \n",
      "\n",
      "             churn  \n",
      "count  4000.000000  \n",
      "mean      0.265250  \n",
      "std       0.441521  \n",
      "min       0.000000  \n",
      "25%       0.000000  \n",
      "50%       0.000000  \n",
      "75%       1.000000  \n",
      "max       1.000000  \n",
      "--------------------------------------------------------------------------------\n"
     ]
    },
    {
     "data": {
      "text/html": [
       "<div>\n",
       "<style scoped>\n",
       "    .dataframe tbody tr th:only-of-type {\n",
       "        vertical-align: middle;\n",
       "    }\n",
       "\n",
       "    .dataframe tbody tr th {\n",
       "        vertical-align: top;\n",
       "    }\n",
       "\n",
       "    .dataframe thead th {\n",
       "        text-align: right;\n",
       "    }\n",
       "</style>\n",
       "<table border=\"1\" class=\"dataframe\">\n",
       "  <thead>\n",
       "    <tr style=\"text-align: right;\">\n",
       "      <th></th>\n",
       "      <th>gender</th>\n",
       "      <th>near_location</th>\n",
       "      <th>partner</th>\n",
       "      <th>promo_friends</th>\n",
       "      <th>phone</th>\n",
       "      <th>contract_period</th>\n",
       "      <th>group_visits</th>\n",
       "      <th>age</th>\n",
       "      <th>avg_additional_charges_total</th>\n",
       "      <th>month_to_end_contract</th>\n",
       "      <th>lifetime</th>\n",
       "      <th>avg_class_frequency_total</th>\n",
       "      <th>avg_class_frequency_current_month</th>\n",
       "      <th>churn</th>\n",
       "    </tr>\n",
       "  </thead>\n",
       "  <tbody>\n",
       "    <tr>\n",
       "      <th>0</th>\n",
       "      <td>1</td>\n",
       "      <td>1</td>\n",
       "      <td>1</td>\n",
       "      <td>1</td>\n",
       "      <td>0</td>\n",
       "      <td>6</td>\n",
       "      <td>1</td>\n",
       "      <td>29</td>\n",
       "      <td>14.227470</td>\n",
       "      <td>5.0</td>\n",
       "      <td>3</td>\n",
       "      <td>0.020398</td>\n",
       "      <td>0.000000</td>\n",
       "      <td>0</td>\n",
       "    </tr>\n",
       "    <tr>\n",
       "      <th>1</th>\n",
       "      <td>0</td>\n",
       "      <td>1</td>\n",
       "      <td>0</td>\n",
       "      <td>0</td>\n",
       "      <td>1</td>\n",
       "      <td>12</td>\n",
       "      <td>1</td>\n",
       "      <td>31</td>\n",
       "      <td>113.202938</td>\n",
       "      <td>12.0</td>\n",
       "      <td>7</td>\n",
       "      <td>1.922936</td>\n",
       "      <td>1.910244</td>\n",
       "      <td>0</td>\n",
       "    </tr>\n",
       "    <tr>\n",
       "      <th>2</th>\n",
       "      <td>0</td>\n",
       "      <td>1</td>\n",
       "      <td>1</td>\n",
       "      <td>0</td>\n",
       "      <td>1</td>\n",
       "      <td>1</td>\n",
       "      <td>0</td>\n",
       "      <td>28</td>\n",
       "      <td>129.448479</td>\n",
       "      <td>1.0</td>\n",
       "      <td>2</td>\n",
       "      <td>1.859098</td>\n",
       "      <td>1.736502</td>\n",
       "      <td>0</td>\n",
       "    </tr>\n",
       "    <tr>\n",
       "      <th>3</th>\n",
       "      <td>0</td>\n",
       "      <td>1</td>\n",
       "      <td>1</td>\n",
       "      <td>1</td>\n",
       "      <td>1</td>\n",
       "      <td>12</td>\n",
       "      <td>1</td>\n",
       "      <td>33</td>\n",
       "      <td>62.669863</td>\n",
       "      <td>12.0</td>\n",
       "      <td>2</td>\n",
       "      <td>3.205633</td>\n",
       "      <td>3.357215</td>\n",
       "      <td>0</td>\n",
       "    </tr>\n",
       "    <tr>\n",
       "      <th>4</th>\n",
       "      <td>1</td>\n",
       "      <td>1</td>\n",
       "      <td>1</td>\n",
       "      <td>1</td>\n",
       "      <td>1</td>\n",
       "      <td>1</td>\n",
       "      <td>0</td>\n",
       "      <td>26</td>\n",
       "      <td>198.362265</td>\n",
       "      <td>1.0</td>\n",
       "      <td>3</td>\n",
       "      <td>1.113884</td>\n",
       "      <td>1.120078</td>\n",
       "      <td>0</td>\n",
       "    </tr>\n",
       "  </tbody>\n",
       "</table>\n",
       "</div>"
      ],
      "text/plain": [
       "   gender  near_location  partner  promo_friends  phone  contract_period  \\\n",
       "0       1              1        1              1      0                6   \n",
       "1       0              1        0              0      1               12   \n",
       "2       0              1        1              0      1                1   \n",
       "3       0              1        1              1      1               12   \n",
       "4       1              1        1              1      1                1   \n",
       "\n",
       "   group_visits  age  avg_additional_charges_total  month_to_end_contract  \\\n",
       "0             1   29                     14.227470                    5.0   \n",
       "1             1   31                    113.202938                   12.0   \n",
       "2             0   28                    129.448479                    1.0   \n",
       "3             1   33                     62.669863                   12.0   \n",
       "4             0   26                    198.362265                    1.0   \n",
       "\n",
       "   lifetime  avg_class_frequency_total  avg_class_frequency_current_month  \\\n",
       "0         3                   0.020398                           0.000000   \n",
       "1         7                   1.922936                           1.910244   \n",
       "2         2                   1.859098                           1.736502   \n",
       "3         2                   3.205633                           3.357215   \n",
       "4         3                   1.113884                           1.120078   \n",
       "\n",
       "   churn  \n",
       "0      0  \n",
       "1      0  \n",
       "2      0  \n",
       "3      0  \n",
       "4      0  "
      ]
     },
     "metadata": {},
     "output_type": "display_data"
    }
   ],
   "source": [
    "\n",
    "print(data.shape)\n",
    "print('----'*20)\n",
    "print(data.info())\n",
    "print('----'*20)\n",
    "print(data.describe())\n",
    "print('----'*20)\n",
    "display(data.head(5))"
   ]
  },
  {
   "cell_type": "markdown",
   "metadata": {},
   "source": [
    "**Current dataset fields:**\n",
    "\n",
    "User data for the preceding month:\n",
    "\n",
    "- 'Churn' — the fact of churn for the month in question\n",
    "\n",
    "- 'gender' \n",
    "\n",
    "- 'Near_Location' — whether the user lives or works in the neighborhood where the gym is located\n",
    "\n",
    "- 'Partner' — whether the user is an employee of a partner company (the gym has partner companies whose employees get discounts; in those cases the gym stores information on customers' employers)\n",
    "\n",
    "- Promo_friends — whether the user originally signed up through a \"bring a friend\" offer (they used a friend's promo code when paying for their first membership)\n",
    "\n",
    "- 'Phone' — whether the user provided their phone number\n",
    "\n",
    "- 'Age'\n",
    "\n",
    "- 'Lifetime' — the time (in months) since the customer first came to the gym Data from the log of visits and purchases and data on current membership status\n",
    "\n",
    "- 'Contract_period' — 1 month, 3 months, 6 months, or 1 year\n",
    "\n",
    "- 'Month_to_end_contract' — the months remaining until the contract expires\n",
    "\n",
    "- 'Group_visits' — whether the user takes part in group sessions\n",
    "\n",
    "- 'Avg_class_frequency_total' — average frequency of visits per week over the customer's lifetime\n",
    "\n",
    "- 'Avg_class_frequency_current_month' — average frequency of visits per week over the preceding month\n",
    "\n",
    "- 'Avg_additional_charges_total' — the total amount of money spent on other gym services: cafe, athletic goods, cosmetics, massages, etc"
   ]
  },
  {
   "cell_type": "markdown",
   "metadata": {},
   "source": [
    "**observesions:**\n",
    "\n",
    "The data consists of 4000 rows and 14 column.\n",
    "There are no missing values or duplicated values.\n",
    "majority of the data types are int types and considering the 1/0 ratio its better to simplify the type and optimize the overall memory usage.\n",
    "\n",
    "- As we can see there are no missing values in the data. most of the data is either 1 or 0, Which exlains the small std value of the columns and gives us a clear understanding of the mean values.\n",
    "\n",
    "- all the values are in numeric format\n",
    "\n",
    "- There are 4k individual values\n",
    "\n",
    "- it aseems that we can continue with our data to the next stage of EDA"
   ]
  },
  {
   "cell_type": "markdown",
   "metadata": {},
   "source": [
    "### Carry out exploratory data analysis (EDA):"
   ]
  },
  {
   "cell_type": "markdown",
   "metadata": {},
   "source": [
    "In this stage we intend to:\n",
    "\n",
    "- Look at the mean feature values in two groups: for those who left (churn) and for those who stayed (use the groupby() method).\n",
    "\n",
    "- Plot bar histograms and feature distributions for those who left (churn) and those who stayed.\n",
    "\n",
    "- Build a correlation matrix and display it."
   ]
  },
  {
   "cell_type": "code",
   "execution_count": 5,
   "metadata": {
    "scrolled": false
   },
   "outputs": [
    {
     "data": {
      "text/html": [
       "<div>\n",
       "<style scoped>\n",
       "    .dataframe tbody tr th:only-of-type {\n",
       "        vertical-align: middle;\n",
       "    }\n",
       "\n",
       "    .dataframe tbody tr th {\n",
       "        vertical-align: top;\n",
       "    }\n",
       "\n",
       "    .dataframe thead th {\n",
       "        text-align: right;\n",
       "    }\n",
       "</style>\n",
       "<table border=\"1\" class=\"dataframe\">\n",
       "  <thead>\n",
       "    <tr style=\"text-align: right;\">\n",
       "      <th></th>\n",
       "      <th>count</th>\n",
       "      <th>mean</th>\n",
       "      <th>std</th>\n",
       "      <th>min</th>\n",
       "      <th>25%</th>\n",
       "      <th>50%</th>\n",
       "      <th>75%</th>\n",
       "      <th>max</th>\n",
       "    </tr>\n",
       "  </thead>\n",
       "  <tbody>\n",
       "    <tr>\n",
       "      <th>gender</th>\n",
       "      <td>4000.0</td>\n",
       "      <td>0.510250</td>\n",
       "      <td>0.499957</td>\n",
       "      <td>0.000000</td>\n",
       "      <td>0.000000</td>\n",
       "      <td>1.000000</td>\n",
       "      <td>1.000000</td>\n",
       "      <td>1.000000</td>\n",
       "    </tr>\n",
       "    <tr>\n",
       "      <th>near_location</th>\n",
       "      <td>4000.0</td>\n",
       "      <td>0.845250</td>\n",
       "      <td>0.361711</td>\n",
       "      <td>0.000000</td>\n",
       "      <td>1.000000</td>\n",
       "      <td>1.000000</td>\n",
       "      <td>1.000000</td>\n",
       "      <td>1.000000</td>\n",
       "    </tr>\n",
       "    <tr>\n",
       "      <th>partner</th>\n",
       "      <td>4000.0</td>\n",
       "      <td>0.486750</td>\n",
       "      <td>0.499887</td>\n",
       "      <td>0.000000</td>\n",
       "      <td>0.000000</td>\n",
       "      <td>0.000000</td>\n",
       "      <td>1.000000</td>\n",
       "      <td>1.000000</td>\n",
       "    </tr>\n",
       "    <tr>\n",
       "      <th>promo_friends</th>\n",
       "      <td>4000.0</td>\n",
       "      <td>0.308500</td>\n",
       "      <td>0.461932</td>\n",
       "      <td>0.000000</td>\n",
       "      <td>0.000000</td>\n",
       "      <td>0.000000</td>\n",
       "      <td>1.000000</td>\n",
       "      <td>1.000000</td>\n",
       "    </tr>\n",
       "    <tr>\n",
       "      <th>phone</th>\n",
       "      <td>4000.0</td>\n",
       "      <td>0.903500</td>\n",
       "      <td>0.295313</td>\n",
       "      <td>0.000000</td>\n",
       "      <td>1.000000</td>\n",
       "      <td>1.000000</td>\n",
       "      <td>1.000000</td>\n",
       "      <td>1.000000</td>\n",
       "    </tr>\n",
       "    <tr>\n",
       "      <th>contract_period</th>\n",
       "      <td>4000.0</td>\n",
       "      <td>4.681250</td>\n",
       "      <td>4.549706</td>\n",
       "      <td>1.000000</td>\n",
       "      <td>1.000000</td>\n",
       "      <td>1.000000</td>\n",
       "      <td>6.000000</td>\n",
       "      <td>12.000000</td>\n",
       "    </tr>\n",
       "    <tr>\n",
       "      <th>group_visits</th>\n",
       "      <td>4000.0</td>\n",
       "      <td>0.412250</td>\n",
       "      <td>0.492301</td>\n",
       "      <td>0.000000</td>\n",
       "      <td>0.000000</td>\n",
       "      <td>0.000000</td>\n",
       "      <td>1.000000</td>\n",
       "      <td>1.000000</td>\n",
       "    </tr>\n",
       "    <tr>\n",
       "      <th>age</th>\n",
       "      <td>4000.0</td>\n",
       "      <td>29.184250</td>\n",
       "      <td>3.258367</td>\n",
       "      <td>18.000000</td>\n",
       "      <td>27.000000</td>\n",
       "      <td>29.000000</td>\n",
       "      <td>31.000000</td>\n",
       "      <td>41.000000</td>\n",
       "    </tr>\n",
       "    <tr>\n",
       "      <th>avg_additional_charges_total</th>\n",
       "      <td>4000.0</td>\n",
       "      <td>146.943728</td>\n",
       "      <td>96.355602</td>\n",
       "      <td>0.148205</td>\n",
       "      <td>68.868830</td>\n",
       "      <td>136.220159</td>\n",
       "      <td>210.949625</td>\n",
       "      <td>552.590740</td>\n",
       "    </tr>\n",
       "    <tr>\n",
       "      <th>month_to_end_contract</th>\n",
       "      <td>4000.0</td>\n",
       "      <td>4.322750</td>\n",
       "      <td>4.191297</td>\n",
       "      <td>1.000000</td>\n",
       "      <td>1.000000</td>\n",
       "      <td>1.000000</td>\n",
       "      <td>6.000000</td>\n",
       "      <td>12.000000</td>\n",
       "    </tr>\n",
       "    <tr>\n",
       "      <th>lifetime</th>\n",
       "      <td>4000.0</td>\n",
       "      <td>3.724750</td>\n",
       "      <td>3.749267</td>\n",
       "      <td>0.000000</td>\n",
       "      <td>1.000000</td>\n",
       "      <td>3.000000</td>\n",
       "      <td>5.000000</td>\n",
       "      <td>31.000000</td>\n",
       "    </tr>\n",
       "    <tr>\n",
       "      <th>avg_class_frequency_total</th>\n",
       "      <td>4000.0</td>\n",
       "      <td>1.879020</td>\n",
       "      <td>0.972245</td>\n",
       "      <td>0.000000</td>\n",
       "      <td>1.180875</td>\n",
       "      <td>1.832768</td>\n",
       "      <td>2.536078</td>\n",
       "      <td>6.023668</td>\n",
       "    </tr>\n",
       "    <tr>\n",
       "      <th>avg_class_frequency_current_month</th>\n",
       "      <td>4000.0</td>\n",
       "      <td>1.767052</td>\n",
       "      <td>1.052906</td>\n",
       "      <td>0.000000</td>\n",
       "      <td>0.963003</td>\n",
       "      <td>1.719574</td>\n",
       "      <td>2.510336</td>\n",
       "      <td>6.146783</td>\n",
       "    </tr>\n",
       "    <tr>\n",
       "      <th>churn</th>\n",
       "      <td>4000.0</td>\n",
       "      <td>0.265250</td>\n",
       "      <td>0.441521</td>\n",
       "      <td>0.000000</td>\n",
       "      <td>0.000000</td>\n",
       "      <td>0.000000</td>\n",
       "      <td>1.000000</td>\n",
       "      <td>1.000000</td>\n",
       "    </tr>\n",
       "  </tbody>\n",
       "</table>\n",
       "</div>"
      ],
      "text/plain": [
       "                                    count        mean        std        min  \\\n",
       "gender                             4000.0    0.510250   0.499957   0.000000   \n",
       "near_location                      4000.0    0.845250   0.361711   0.000000   \n",
       "partner                            4000.0    0.486750   0.499887   0.000000   \n",
       "promo_friends                      4000.0    0.308500   0.461932   0.000000   \n",
       "phone                              4000.0    0.903500   0.295313   0.000000   \n",
       "contract_period                    4000.0    4.681250   4.549706   1.000000   \n",
       "group_visits                       4000.0    0.412250   0.492301   0.000000   \n",
       "age                                4000.0   29.184250   3.258367  18.000000   \n",
       "avg_additional_charges_total       4000.0  146.943728  96.355602   0.148205   \n",
       "month_to_end_contract              4000.0    4.322750   4.191297   1.000000   \n",
       "lifetime                           4000.0    3.724750   3.749267   0.000000   \n",
       "avg_class_frequency_total          4000.0    1.879020   0.972245   0.000000   \n",
       "avg_class_frequency_current_month  4000.0    1.767052   1.052906   0.000000   \n",
       "churn                              4000.0    0.265250   0.441521   0.000000   \n",
       "\n",
       "                                         25%         50%         75%  \\\n",
       "gender                              0.000000    1.000000    1.000000   \n",
       "near_location                       1.000000    1.000000    1.000000   \n",
       "partner                             0.000000    0.000000    1.000000   \n",
       "promo_friends                       0.000000    0.000000    1.000000   \n",
       "phone                               1.000000    1.000000    1.000000   \n",
       "contract_period                     1.000000    1.000000    6.000000   \n",
       "group_visits                        0.000000    0.000000    1.000000   \n",
       "age                                27.000000   29.000000   31.000000   \n",
       "avg_additional_charges_total       68.868830  136.220159  210.949625   \n",
       "month_to_end_contract               1.000000    1.000000    6.000000   \n",
       "lifetime                            1.000000    3.000000    5.000000   \n",
       "avg_class_frequency_total           1.180875    1.832768    2.536078   \n",
       "avg_class_frequency_current_month   0.963003    1.719574    2.510336   \n",
       "churn                               0.000000    0.000000    1.000000   \n",
       "\n",
       "                                          max  \n",
       "gender                               1.000000  \n",
       "near_location                        1.000000  \n",
       "partner                              1.000000  \n",
       "promo_friends                        1.000000  \n",
       "phone                                1.000000  \n",
       "contract_period                     12.000000  \n",
       "group_visits                         1.000000  \n",
       "age                                 41.000000  \n",
       "avg_additional_charges_total       552.590740  \n",
       "month_to_end_contract               12.000000  \n",
       "lifetime                            31.000000  \n",
       "avg_class_frequency_total            6.023668  \n",
       "avg_class_frequency_current_month    6.146783  \n",
       "churn                                1.000000  "
      ]
     },
     "execution_count": 5,
     "metadata": {},
     "output_type": "execute_result"
    }
   ],
   "source": [
    "data.describe().T"
   ]
  },
  {
   "cell_type": "markdown",
   "metadata": {},
   "source": [
    "We learn from the data that the typical gym client is 29 Y.O, lives or works near the gym, the client has 4.5 month contrant and an he visits the gym 1.8 times a month; he has been doing so for the last 4 months. He spends an extra 147 on the gym and has its phone number in the gym system.   "
   ]
  },
  {
   "cell_type": "code",
   "execution_count": 6,
   "metadata": {
    "scrolled": false
   },
   "outputs": [
    {
     "data": {
      "text/html": [
       "<div>\n",
       "<style scoped>\n",
       "    .dataframe tbody tr th:only-of-type {\n",
       "        vertical-align: middle;\n",
       "    }\n",
       "\n",
       "    .dataframe tbody tr th {\n",
       "        vertical-align: top;\n",
       "    }\n",
       "\n",
       "    .dataframe thead th {\n",
       "        text-align: right;\n",
       "    }\n",
       "</style>\n",
       "<table border=\"1\" class=\"dataframe\">\n",
       "  <thead>\n",
       "    <tr style=\"text-align: right;\">\n",
       "      <th>churn</th>\n",
       "      <th>0</th>\n",
       "      <th>1</th>\n",
       "    </tr>\n",
       "  </thead>\n",
       "  <tbody>\n",
       "    <tr>\n",
       "      <th>gender</th>\n",
       "      <td>0.510037</td>\n",
       "      <td>0.510839</td>\n",
       "    </tr>\n",
       "    <tr>\n",
       "      <th>near_location</th>\n",
       "      <td>0.873086</td>\n",
       "      <td>0.768143</td>\n",
       "    </tr>\n",
       "    <tr>\n",
       "      <th>partner</th>\n",
       "      <td>0.534195</td>\n",
       "      <td>0.355325</td>\n",
       "    </tr>\n",
       "    <tr>\n",
       "      <th>promo_friends</th>\n",
       "      <td>0.353522</td>\n",
       "      <td>0.183789</td>\n",
       "    </tr>\n",
       "    <tr>\n",
       "      <th>phone</th>\n",
       "      <td>0.903709</td>\n",
       "      <td>0.902922</td>\n",
       "    </tr>\n",
       "    <tr>\n",
       "      <th>contract_period</th>\n",
       "      <td>5.747193</td>\n",
       "      <td>1.728558</td>\n",
       "    </tr>\n",
       "    <tr>\n",
       "      <th>group_visits</th>\n",
       "      <td>0.464103</td>\n",
       "      <td>0.268615</td>\n",
       "    </tr>\n",
       "    <tr>\n",
       "      <th>age</th>\n",
       "      <td>29.976523</td>\n",
       "      <td>26.989632</td>\n",
       "    </tr>\n",
       "    <tr>\n",
       "      <th>avg_additional_charges_total</th>\n",
       "      <td>158.445715</td>\n",
       "      <td>115.082899</td>\n",
       "    </tr>\n",
       "    <tr>\n",
       "      <th>month_to_end_contract</th>\n",
       "      <td>5.283089</td>\n",
       "      <td>1.662582</td>\n",
       "    </tr>\n",
       "    <tr>\n",
       "      <th>lifetime</th>\n",
       "      <td>4.711807</td>\n",
       "      <td>0.990575</td>\n",
       "    </tr>\n",
       "    <tr>\n",
       "      <th>avg_class_frequency_total</th>\n",
       "      <td>2.024876</td>\n",
       "      <td>1.474995</td>\n",
       "    </tr>\n",
       "    <tr>\n",
       "      <th>avg_class_frequency_current_month</th>\n",
       "      <td>2.027882</td>\n",
       "      <td>1.044546</td>\n",
       "    </tr>\n",
       "  </tbody>\n",
       "</table>\n",
       "</div>"
      ],
      "text/plain": [
       "churn                                       0           1\n",
       "gender                               0.510037    0.510839\n",
       "near_location                        0.873086    0.768143\n",
       "partner                              0.534195    0.355325\n",
       "promo_friends                        0.353522    0.183789\n",
       "phone                                0.903709    0.902922\n",
       "contract_period                      5.747193    1.728558\n",
       "group_visits                         0.464103    0.268615\n",
       "age                                 29.976523   26.989632\n",
       "avg_additional_charges_total       158.445715  115.082899\n",
       "month_to_end_contract                5.283089    1.662582\n",
       "lifetime                             4.711807    0.990575\n",
       "avg_class_frequency_total            2.024876    1.474995\n",
       "avg_class_frequency_current_month    2.027882    1.044546"
      ]
     },
     "execution_count": 6,
     "metadata": {},
     "output_type": "execute_result"
    }
   ],
   "source": [
    "data.groupby(['churn']).mean().T"
   ]
  },
  {
   "cell_type": "markdown",
   "metadata": {},
   "source": [
    "By comapring the means of the two groups,those who left (churn = 1) and for those who stayed, we see how their mean values are similiar in most columns and the only columns that are noticably different are values that are related to duration, such as contact lenght or fequency of gym visits.\n",
    "\n",
    "for the clients that stayed:\n",
    "\n",
    "- 87% live/works close to the gym.\n",
    "- 53% participate in th partner program.\n",
    "- 35% joined brcause of promotions.\n",
    "- 46% have group visits.\n",
    "- average contract period of 5.7 months\n",
    "- 2 calsses of average per month\n",
    "- are in the gym for the last 4.7 months.\n",
    "- spend 158 on average per month.\n",
    "- 5.2 months until the end of contract\n",
    "\n",
    "\n",
    "for the clients that left:\n",
    "- 76% live/work close to the gym\n",
    "- 35% participate in th partner program.\n",
    "- 18% joined brcause of promotions.\n",
    "- 26% have group visits.\n",
    "- average contract period of 1.7 months\n",
    "- 1 calss of average per month\n",
    "- are in the gym for the last month.\n",
    "- spend 115 on average per month.\n",
    "- 1.6 months until the end of contract\n",
    "\n",
    "Next step is to check the ratio of churn/not-churn clients in the data."
   ]
  },
  {
   "cell_type": "code",
   "execution_count": 7,
   "metadata": {
    "scrolled": true
   },
   "outputs": [
    {
     "data": {
      "image/png": "[encoded data removed]",
      "text/plain": [
       "<Figure size 432x288 with 1 Axes>"
      ]
     },
     "metadata": {},
     "output_type": "display_data"
    }
   ],
   "source": [
    "labelz=['not churn','chrun']\n",
    "plt.pie(data.churn.value_counts(), labels = labelz,autopct='%1.1f%%')\n",
    "plt.show()"
   ]
  },
  {
   "cell_type": "markdown",
   "metadata": {},
   "source": [
    "as expected the groups are not equally rpersented in the data and the churn ratio is about 4:1. "
   ]
  },
  {
   "cell_type": "code",
   "execution_count": 8,
   "metadata": {
    "scrolled": false
   },
   "outputs": [
    {
     "data": {
      "image/png": "[encoded data removed]",
      "text/plain": [
       "<Figure size 1500x1500 with 13 Axes>"
      ]
     },
     "metadata": {
      "needs_background": "light"
     },
     "output_type": "display_data"
    }
   ],
   "source": [
    "r, c = 5, 3\n",
    "x_i, y_i = 0, 0\n",
    "\n",
    "# this time we will examine the sum of all features, grouped by class, where not churn is 0 and churn is 1\n",
    "fig, axes = plt.subplots(figsize = (15, 15), dpi = 100)\n",
    "\n",
    "for col in data.drop('churn', axis = 1).columns:\n",
    "    ax = plt.subplot2grid((r, c), (x_i, y_i))\n",
    "    ax = data.groupby('churn')[col].hist()\n",
    "    plt.title(col)\n",
    "    plt.subplots_adjust(hspace=0.3)\n",
    "    plt.legend(['remaining', 'churn'])\n",
    "    y_i += 1\n",
    "    if y_i == c:\n",
    "        x_i += 1\n",
    "        y_i = 0"
   ]
  },
  {
   "cell_type": "markdown",
   "metadata": {},
   "source": [
    "Overall it seems that the clients who stay with the gym have higher values almost for each feature: living in a near location, being a part of partner program and promo campaign, having more group visits, more additional charges, longer lifetime as client in the gym, and frequency of visits.\n",
    "\n",
    "Now lets observe the correlations of the features:"
   ]
  },
  {
   "cell_type": "code",
   "execution_count": 9,
   "metadata": {
    "scrolled": false
   },
   "outputs": [
    {
     "data": {
      "text/plain": [
       "<AxesSubplot:>"
      ]
     },
     "execution_count": 9,
     "metadata": {},
     "output_type": "execute_result"
    },
    {
     "data": {
      "image/png": "[encoded data removed]",
      "text/plain": [
       "<Figure size 720x720 with 2 Axes>"
      ]
     },
     "metadata": {
      "needs_background": "light"
     },
     "output_type": "display_data"
    }
   ],
   "source": [
    "fig, ax = plt.subplots(figsize=(10,10))\n",
    "matrix = data.corr().round(2)\n",
    "sns.heatmap(matrix, annot=True, vmax=1, vmin=-1, center=0, cmap='vlag')"
   ]
  },
  {
   "cell_type": "markdown",
   "metadata": {},
   "source": [
    "Theres a negative correlation between Churn and lifetime(-0.44),avg monthly visit(-0.41), age(-0.4) contrat period (-0.39) and month to end contract(-0.38).\n",
    "\n",
    "Strongest correlation is between month_to_end_contract and contract_period, which makes sense since both column refer to months."
   ]
  },
  {
   "cell_type": "markdown",
   "metadata": {},
   "source": [
    "**Observations**\n",
    "\n",
    "By comapring the means of the two groups,those who left (churn = 1) and for those who stayed, we see how their mean values are similiar in most columns and the only columns that are noticably different are values that are related in sorts to durations of time.\n",
    "\n",
    "In general, all costumers that left the gym have shorter contract period, are generally younger, spend less on gym services and visited the gym less if comapred to the costumers that stayed."
   ]
  },
  {
   "cell_type": "markdown",
   "metadata": {},
   "source": [
    "### Build a model to predict user churn:"
   ]
  },
  {
   "cell_type": "markdown",
   "metadata": {},
   "source": [
    "For our model to work we need to associate all of our features to two classes: churn / not churn and train the model to guess each class correctly, when it is given a set of features.\n",
    "\n",
    "We will examine three algorithms: Logistic regression, Random Forest and Gradient Boosting.\n",
    "\n",
    "\n",
    "\n",
    "**In this stage we intend to:**\n",
    "- Build a binary classification model for customers where the target feature is the user's leaving next month. \n",
    "\n",
    "- Divide the data into train and validation sets using the train_test_split() function.\n",
    "\n",
    "- Train the model on the train set with two methods:\n",
    "                                                   \n",
    " - Logistic regression\n",
    " - Random forest\n",
    " - GradientBoostingClassifier\n",
    "\n",
    "- Evaluate accuracy, precision, and recall for both models using the validation data and Use them to compare the models to see  Which model gave better results"
   ]
  },
  {
   "cell_type": "code",
   "execution_count": 10,
   "metadata": {},
   "outputs": [],
   "source": [
    "# Set a random state value as constant\n",
    "RANDOM_STATE = 42"
   ]
  },
  {
   "cell_type": "code",
   "execution_count": 11,
   "metadata": {},
   "outputs": [],
   "source": [
    "# divide the data into features (the X matrix) and a target variable (y)\n",
    "X = data.drop('churn',axis=1)\n",
    "y = data['churn']"
   ]
  },
  {
   "cell_type": "code",
   "execution_count": 12,
   "metadata": {},
   "outputs": [],
   "source": [
    "X_train_og, X_test, y_train_og, y_test = train_test_split(X, y,test_size = 0.2,random_state = RANDOM_STATE)"
   ]
  },
  {
   "cell_type": "code",
   "execution_count": 13,
   "metadata": {},
   "outputs": [],
   "source": [
    "X_train, X_valid, y_train, y_valid = train_test_split(X_train_og,y_train_og,test_size = 0.25,random_state = RANDOM_STATE)"
   ]
  },
  {
   "cell_type": "markdown",
   "metadata": {},
   "source": [
    "When carrying out a linear regression, keep two things in mind:\n",
    "\n",
    "- Features should be standardized.\n",
    "\n",
    "- The linear regression model is prone to overfitting and is unstable when features are mutually correlated.\n"
   ]
  },
  {
   "cell_type": "code",
   "execution_count": 14,
   "metadata": {},
   "outputs": [],
   "source": [
    "scaler = StandardScaler()\n",
    "scaler.fit(X_train)\n",
    "X_sc_train = scaler.fit_transform(X_train)\n",
    "X_sc_test = scaler.transform(X_test)\n",
    "x_sc_valid = scaler.transform(X_valid)"
   ]
  },
  {
   "cell_type": "code",
   "execution_count": 15,
   "metadata": {},
   "outputs": [],
   "source": [
    "# Fit the chosen model and evaluate error metrics of regression\n",
    "def evaluate_regression(m, X_train, y_train, X_test, y_test):\n",
    "    model = m\n",
    "    model.fit(X_train, y_train)\n",
    "    y_pred = model.predict(X_test)\n",
    "    print('MAE:{:.3f} MSE:{:.3f} R2:{:.3f}'\\\n",
    "          .format(mean_absolute_error(y_test, y_pred), \n",
    "          mean_squared_error(y_test, y_pred),\n",
    "          r2_score(y_test, y_pred)))"
   ]
  },
  {
   "cell_type": "code",
   "execution_count": 16,
   "metadata": {},
   "outputs": [],
   "source": [
    "# Fit the chosen model and evaluate metrics for classification\n",
    "def evaluate_classification(m, X_train, y_train, X_test, y_test):\n",
    "    model = m\n",
    "    model.fit(X_train, y_train)\n",
    "    y_pred = model.predict(X_test)\n",
    "    proba = model.predict_proba(X_test)[:,1]\n",
    "    metrics_dict = {'Accuracy': accuracy_score(y_test, y_pred), \n",
    "                    'Precision': precision_score(y_test, y_pred), \n",
    "                    'Recall': recall_score(y_test, y_pred),\n",
    "                    'F1': f1_score(y_test, y_pred),\n",
    "                    'ROC_AUC': roc_auc_score(y_test, proba)}\n",
    " \n",
    "    display(pd.DataFrame([metrics_dict]).T)\n",
    "    return metrics_dict"
   ]
  },
  {
   "cell_type": "code",
   "execution_count": 17,
   "metadata": {},
   "outputs": [
    {
     "name": "stdout",
     "output_type": "stream",
     "text": [
      "MAE:14.691 MSE:0.086 R2:0.543\n"
     ]
    }
   ],
   "source": [
    "# LogisticRegression\n",
    "evaluate_regression(m = LogisticRegression(random_state=RANDOM_STATE, solver = 'newton-cg'), X_train = X_train, y_train = y_train,X_test = X_test, y_test = y_test)"
   ]
  },
  {
   "cell_type": "markdown",
   "metadata": {},
   "source": [
    "In order to make sense of the result we need to evaluate the model by more informative metrics, taken from sklearn.metrics library"
   ]
  },
  {
   "cell_type": "code",
   "execution_count": 18,
   "metadata": {},
   "outputs": [
    {
     "data": {
      "text/html": [
       "<div>\n",
       "<style scoped>\n",
       "    .dataframe tbody tr th:only-of-type {\n",
       "        vertical-align: middle;\n",
       "    }\n",
       "\n",
       "    .dataframe tbody tr th {\n",
       "        vertical-align: top;\n",
       "    }\n",
       "\n",
       "    .dataframe thead th {\n",
       "        text-align: right;\n",
       "    }\n",
       "</style>\n",
       "<table border=\"1\" class=\"dataframe\">\n",
       "  <thead>\n",
       "    <tr style=\"text-align: right;\">\n",
       "      <th></th>\n",
       "      <th>0</th>\n",
       "    </tr>\n",
       "  </thead>\n",
       "  <tbody>\n",
       "    <tr>\n",
       "      <th>Accuracy</th>\n",
       "      <td>0.920000</td>\n",
       "    </tr>\n",
       "    <tr>\n",
       "      <th>Precision</th>\n",
       "      <td>0.875576</td>\n",
       "    </tr>\n",
       "    <tr>\n",
       "      <th>Recall</th>\n",
       "      <td>0.837004</td>\n",
       "    </tr>\n",
       "    <tr>\n",
       "      <th>F1</th>\n",
       "      <td>0.855856</td>\n",
       "    </tr>\n",
       "    <tr>\n",
       "      <th>ROC_AUC</th>\n",
       "      <td>0.973538</td>\n",
       "    </tr>\n",
       "  </tbody>\n",
       "</table>\n",
       "</div>"
      ],
      "text/plain": [
       "                  0\n",
       "Accuracy   0.920000\n",
       "Precision  0.875576\n",
       "Recall     0.837004\n",
       "F1         0.855856\n",
       "ROC_AUC    0.973538"
      ]
     },
     "metadata": {},
     "output_type": "display_data"
    }
   ],
   "source": [
    "lr_predictions = evaluate_classification(m = LogisticRegression(\n",
    "    random_state = RANDOM_STATE, solver = 'newton-cg'), \n",
    "    X_train = X_sc_train, y_train = y_train,\n",
    "    X_test = x_sc_valid, y_test = y_valid)"
   ]
  },
  {
   "cell_type": "markdown",
   "metadata": {},
   "source": [
    "The metrics we got for the logistic regression model are good but we can improve them if we try our data on a random forest model.\n",
    "\n",
    "The Random Forest Classifier has a lot of hyperparameters that can have an impact on the quality of the predictions of our model. That being said, lets try to find a good score depending on the number of estimators."
   ]
  },
  {
   "cell_type": "code",
   "execution_count": 19,
   "metadata": {},
   "outputs": [
    {
     "name": "stdout",
     "output_type": "stream",
     "text": [
      "0.8370044052863436\n",
      "91\n"
     ]
    }
   ],
   "source": [
    "score = 0\n",
    "n_estimators = 1\n",
    "\n",
    "for i in range(1, 501, 10):\n",
    "    m = RandomForestClassifier(n_estimators = i, random_state = RANDOM_STATE)\n",
    "    m.fit(X_train, y_train)\n",
    "    predictions = m.predict(X_valid)\n",
    "    score_test = recall_score(y_valid, predictions)\n",
    "    if score_test > score:\n",
    "        score = score_test\n",
    "        n_estimators = i\n",
    "print(score)\n",
    "print(n_estimators)"
   ]
  },
  {
   "cell_type": "code",
   "execution_count": 20,
   "metadata": {
    "scrolled": false
   },
   "outputs": [
    {
     "data": {
      "text/html": [
       "<div>\n",
       "<style scoped>\n",
       "    .dataframe tbody tr th:only-of-type {\n",
       "        vertical-align: middle;\n",
       "    }\n",
       "\n",
       "    .dataframe tbody tr th {\n",
       "        vertical-align: top;\n",
       "    }\n",
       "\n",
       "    .dataframe thead th {\n",
       "        text-align: right;\n",
       "    }\n",
       "</style>\n",
       "<table border=\"1\" class=\"dataframe\">\n",
       "  <thead>\n",
       "    <tr style=\"text-align: right;\">\n",
       "      <th></th>\n",
       "      <th>0</th>\n",
       "    </tr>\n",
       "  </thead>\n",
       "  <tbody>\n",
       "    <tr>\n",
       "      <th>Accuracy</th>\n",
       "      <td>0.912500</td>\n",
       "    </tr>\n",
       "    <tr>\n",
       "      <th>Precision</th>\n",
       "      <td>0.855204</td>\n",
       "    </tr>\n",
       "    <tr>\n",
       "      <th>Recall</th>\n",
       "      <td>0.832599</td>\n",
       "    </tr>\n",
       "    <tr>\n",
       "      <th>F1</th>\n",
       "      <td>0.843750</td>\n",
       "    </tr>\n",
       "    <tr>\n",
       "      <th>ROC_AUC</th>\n",
       "      <td>0.970074</td>\n",
       "    </tr>\n",
       "  </tbody>\n",
       "</table>\n",
       "</div>"
      ],
      "text/plain": [
       "                  0\n",
       "Accuracy   0.912500\n",
       "Precision  0.855204\n",
       "Recall     0.832599\n",
       "F1         0.843750\n",
       "ROC_AUC    0.970074"
      ]
     },
     "metadata": {},
     "output_type": "display_data"
    }
   ],
   "source": [
    "# RandomForestClassifier\n",
    "rf_predictions = evaluate_classification(m = RandomForestClassifier(\n",
    "    n_estimators = n_estimators, random_state = RANDOM_STATE), \n",
    "    X_train = X_sc_train, y_train = y_train,\n",
    "    X_test = x_sc_valid, y_test = y_valid)"
   ]
  },
  {
   "cell_type": "code",
   "execution_count": 21,
   "metadata": {},
   "outputs": [
    {
     "name": "stdout",
     "output_type": "stream",
     "text": [
      "{'bootstrap': [True, False],\n",
      " 'max_depth': [10, 20, 30, 40, 50, 60, 70, 80, 90, 100, 110, None],\n",
      " 'max_features': ['auto', 'sqrt'],\n",
      " 'min_samples_leaf': [1, 2, 4],\n",
      " 'min_samples_split': [2, 5, 10],\n",
      " 'n_estimators': [200, 400, 600, 800, 1000, 1200, 1400, 1600, 1800, 2000]}\n"
     ]
    }
   ],
   "source": [
    "# Number of trees in random forest\n",
    "n_estimators = [int(x) for x in np.linspace(start = 200, stop = 2000, num = 10)]\n",
    "# Number of features to consider at every split\n",
    "max_features = ['auto', 'sqrt']\n",
    "# Maximum number of levels in tree\n",
    "max_depth = [int(x) for x in np.linspace(10, 110, num = 11)]\n",
    "max_depth.append(None)\n",
    "# Minimum number of samples required to split a node\n",
    "min_samples_split = [2, 5, 10]\n",
    "# Minimum number of samples required at each leaf node\n",
    "min_samples_leaf = [1, 2, 4]\n",
    "# Method of selecting samples for training each tree\n",
    "bootstrap = [True, False]\n",
    "# Create the random grid\n",
    "random_grid = {'n_estimators': n_estimators,\n",
    "               'max_features': max_features,\n",
    "               'max_depth': max_depth,\n",
    "               'min_samples_split': min_samples_split,\n",
    "               'min_samples_leaf': min_samples_leaf,\n",
    "               'bootstrap': bootstrap}\n",
    "pprint(random_grid)"
   ]
  },
  {
   "cell_type": "code",
   "execution_count": 22,
   "metadata": {
    "scrolled": true
   },
   "outputs": [
    {
     "name": "stdout",
     "output_type": "stream",
     "text": [
      "Fitting 3 folds for each of 20 candidates, totalling 60 fits\n",
      "[CV] END bootstrap=True, max_depth=50, max_features=sqrt, min_samples_leaf=2, min_samples_split=10, n_estimators=200; total time=   0.6s\n",
      "[CV] END bootstrap=True, max_depth=50, max_features=sqrt, min_samples_leaf=2, min_samples_split=10, n_estimators=200; total time=   0.5s\n",
      "[CV] END bootstrap=True, max_depth=50, max_features=sqrt, min_samples_leaf=2, min_samples_split=10, n_estimators=200; total time=   0.6s\n",
      "[CV] END bootstrap=False, max_depth=90, max_features=sqrt, min_samples_leaf=4, min_samples_split=10, n_estimators=600; total time=   1.7s\n",
      "[CV] END bootstrap=False, max_depth=90, max_features=sqrt, min_samples_leaf=4, min_samples_split=10, n_estimators=600; total time=   1.8s\n",
      "[CV] END bootstrap=False, max_depth=90, max_features=sqrt, min_samples_leaf=4, min_samples_split=10, n_estimators=600; total time=   1.8s\n",
      "[CV] END bootstrap=False, max_depth=60, max_features=auto, min_samples_leaf=2, min_samples_split=2, n_estimators=600; total time=   1.8s\n",
      "[CV] END bootstrap=False, max_depth=60, max_features=auto, min_samples_leaf=2, min_samples_split=2, n_estimators=600; total time=   1.9s\n",
      "[CV] END bootstrap=False, max_depth=60, max_features=auto, min_samples_leaf=2, min_samples_split=2, n_estimators=600; total time=   1.8s\n",
      "[CV] END bootstrap=True, max_depth=30, max_features=sqrt, min_samples_leaf=1, min_samples_split=5, n_estimators=1400; total time=   3.8s\n",
      "[CV] END bootstrap=True, max_depth=30, max_features=sqrt, min_samples_leaf=1, min_samples_split=5, n_estimators=1400; total time=   3.9s\n",
      "[CV] END bootstrap=True, max_depth=30, max_features=sqrt, min_samples_leaf=1, min_samples_split=5, n_estimators=1400; total time=   3.8s\n",
      "[CV] END bootstrap=False, max_depth=80, max_features=auto, min_samples_leaf=1, min_samples_split=10, n_estimators=1000; total time=   3.0s\n",
      "[CV] END bootstrap=False, max_depth=80, max_features=auto, min_samples_leaf=1, min_samples_split=10, n_estimators=1000; total time=   3.2s\n",
      "[CV] END bootstrap=False, max_depth=80, max_features=auto, min_samples_leaf=1, min_samples_split=10, n_estimators=1000; total time=   3.0s\n",
      "[CV] END bootstrap=False, max_depth=60, max_features=sqrt, min_samples_leaf=1, min_samples_split=10, n_estimators=400; total time=   1.2s\n",
      "[CV] END bootstrap=False, max_depth=60, max_features=sqrt, min_samples_leaf=1, min_samples_split=10, n_estimators=400; total time=   1.2s\n",
      "[CV] END bootstrap=False, max_depth=60, max_features=sqrt, min_samples_leaf=1, min_samples_split=10, n_estimators=400; total time=   1.2s\n",
      "[CV] END bootstrap=False, max_depth=50, max_features=auto, min_samples_leaf=2, min_samples_split=2, n_estimators=2000; total time=   6.1s\n",
      "[CV] END bootstrap=False, max_depth=50, max_features=auto, min_samples_leaf=2, min_samples_split=2, n_estimators=2000; total time=   6.2s\n",
      "[CV] END bootstrap=False, max_depth=50, max_features=auto, min_samples_leaf=2, min_samples_split=2, n_estimators=2000; total time=   6.0s\n",
      "[CV] END bootstrap=True, max_depth=10, max_features=sqrt, min_samples_leaf=2, min_samples_split=5, n_estimators=200; total time=   0.5s\n",
      "[CV] END bootstrap=True, max_depth=10, max_features=sqrt, min_samples_leaf=2, min_samples_split=5, n_estimators=200; total time=   0.5s\n",
      "[CV] END bootstrap=True, max_depth=10, max_features=sqrt, min_samples_leaf=2, min_samples_split=5, n_estimators=200; total time=   0.5s\n",
      "[CV] END bootstrap=True, max_depth=100, max_features=auto, min_samples_leaf=4, min_samples_split=2, n_estimators=1200; total time=   3.1s\n",
      "[CV] END bootstrap=True, max_depth=100, max_features=auto, min_samples_leaf=4, min_samples_split=2, n_estimators=1200; total time=   3.2s\n",
      "[CV] END bootstrap=True, max_depth=100, max_features=auto, min_samples_leaf=4, min_samples_split=2, n_estimators=1200; total time=   3.1s\n",
      "[CV] END bootstrap=True, max_depth=50, max_features=auto, min_samples_leaf=2, min_samples_split=5, n_estimators=2000; total time=   5.3s\n",
      "[CV] END bootstrap=True, max_depth=50, max_features=auto, min_samples_leaf=2, min_samples_split=5, n_estimators=2000; total time=   5.4s\n",
      "[CV] END bootstrap=True, max_depth=50, max_features=auto, min_samples_leaf=2, min_samples_split=5, n_estimators=2000; total time=   5.4s\n",
      "[CV] END bootstrap=False, max_depth=20, max_features=auto, min_samples_leaf=2, min_samples_split=10, n_estimators=400; total time=   1.2s\n",
      "[CV] END bootstrap=False, max_depth=20, max_features=auto, min_samples_leaf=2, min_samples_split=10, n_estimators=400; total time=   1.3s\n",
      "[CV] END bootstrap=False, max_depth=20, max_features=auto, min_samples_leaf=2, min_samples_split=10, n_estimators=400; total time=   1.3s\n",
      "[CV] END bootstrap=False, max_depth=20, max_features=sqrt, min_samples_leaf=1, min_samples_split=2, n_estimators=800; total time=   2.5s\n",
      "[CV] END bootstrap=False, max_depth=20, max_features=sqrt, min_samples_leaf=1, min_samples_split=2, n_estimators=800; total time=   2.5s\n",
      "[CV] END bootstrap=False, max_depth=20, max_features=sqrt, min_samples_leaf=1, min_samples_split=2, n_estimators=800; total time=   2.5s\n",
      "[CV] END bootstrap=True, max_depth=70, max_features=sqrt, min_samples_leaf=1, min_samples_split=5, n_estimators=1000; total time=   2.8s\n",
      "[CV] END bootstrap=True, max_depth=70, max_features=sqrt, min_samples_leaf=1, min_samples_split=5, n_estimators=1000; total time=   2.8s\n",
      "[CV] END bootstrap=True, max_depth=70, max_features=sqrt, min_samples_leaf=1, min_samples_split=5, n_estimators=1000; total time=   2.7s\n",
      "[CV] END bootstrap=False, max_depth=70, max_features=sqrt, min_samples_leaf=2, min_samples_split=10, n_estimators=1200; total time=   3.5s\n",
      "[CV] END bootstrap=False, max_depth=70, max_features=sqrt, min_samples_leaf=2, min_samples_split=10, n_estimators=1200; total time=   3.6s\n",
      "[CV] END bootstrap=False, max_depth=70, max_features=sqrt, min_samples_leaf=2, min_samples_split=10, n_estimators=1200; total time=   3.5s\n",
      "[CV] END bootstrap=False, max_depth=110, max_features=sqrt, min_samples_leaf=4, min_samples_split=2, n_estimators=1600; total time=   4.6s\n",
      "[CV] END bootstrap=False, max_depth=110, max_features=sqrt, min_samples_leaf=4, min_samples_split=2, n_estimators=1600; total time=   4.7s\n",
      "[CV] END bootstrap=False, max_depth=110, max_features=sqrt, min_samples_leaf=4, min_samples_split=2, n_estimators=1600; total time=   4.7s\n",
      "[CV] END bootstrap=False, max_depth=50, max_features=auto, min_samples_leaf=1, min_samples_split=10, n_estimators=1000; total time=   2.9s\n",
      "[CV] END bootstrap=False, max_depth=50, max_features=auto, min_samples_leaf=1, min_samples_split=10, n_estimators=1000; total time=   3.1s\n",
      "[CV] END bootstrap=False, max_depth=50, max_features=auto, min_samples_leaf=1, min_samples_split=10, n_estimators=1000; total time=   3.0s\n",
      "[CV] END bootstrap=True, max_depth=30, max_features=sqrt, min_samples_leaf=1, min_samples_split=10, n_estimators=1000; total time=   2.8s\n",
      "[CV] END bootstrap=True, max_depth=30, max_features=sqrt, min_samples_leaf=1, min_samples_split=10, n_estimators=1000; total time=   2.7s\n",
      "[CV] END bootstrap=True, max_depth=30, max_features=sqrt, min_samples_leaf=1, min_samples_split=10, n_estimators=1000; total time=   2.7s\n",
      "[CV] END bootstrap=True, max_depth=70, max_features=auto, min_samples_leaf=1, min_samples_split=2, n_estimators=600; total time=   1.6s\n",
      "[CV] END bootstrap=True, max_depth=70, max_features=auto, min_samples_leaf=1, min_samples_split=2, n_estimators=600; total time=   1.7s\n",
      "[CV] END bootstrap=True, max_depth=70, max_features=auto, min_samples_leaf=1, min_samples_split=2, n_estimators=600; total time=   1.8s\n",
      "[CV] END bootstrap=False, max_depth=30, max_features=auto, min_samples_leaf=2, min_samples_split=2, n_estimators=1800; total time=   5.5s\n",
      "[CV] END bootstrap=False, max_depth=30, max_features=auto, min_samples_leaf=2, min_samples_split=2, n_estimators=1800; total time=   5.5s\n",
      "[CV] END bootstrap=False, max_depth=30, max_features=auto, min_samples_leaf=2, min_samples_split=2, n_estimators=1800; total time=   5.5s\n",
      "[CV] END bootstrap=True, max_depth=None, max_features=auto, min_samples_leaf=4, min_samples_split=2, n_estimators=1600; total time=   4.2s\n",
      "[CV] END bootstrap=True, max_depth=None, max_features=auto, min_samples_leaf=4, min_samples_split=2, n_estimators=1600; total time=   4.2s\n",
      "[CV] END bootstrap=True, max_depth=None, max_features=auto, min_samples_leaf=4, min_samples_split=2, n_estimators=1600; total time=   4.2s\n"
     ]
    },
    {
     "data": {
      "text/plain": [
       "RandomizedSearchCV(cv=3, estimator=RandomForestClassifier(), n_iter=20,\n",
       "                   n_jobs=-1,\n",
       "                   param_distributions={'bootstrap': [True, False],\n",
       "                                        'max_depth': [10, 20, 30, 40, 50, 60,\n",
       "                                                      70, 80, 90, 100, 110,\n",
       "                                                      None],\n",
       "                                        'max_features': ['auto', 'sqrt'],\n",
       "                                        'min_samples_leaf': [1, 2, 4],\n",
       "                                        'min_samples_split': [2, 5, 10],\n",
       "                                        'n_estimators': [200, 400, 600, 800,\n",
       "                                                         1000, 1200, 1400, 1600,\n",
       "                                                         1800, 2000]},\n",
       "                   random_state=42, verbose=2)"
      ]
     },
     "execution_count": 22,
     "metadata": {},
     "output_type": "execute_result"
    }
   ],
   "source": [
    "# Use the random grid to search for best hyperparameters\n",
    "# First create the base model to tune\n",
    "rf = RandomForestClassifier()\n",
    "# Random search of parameters, using 3 fold cross validation, \n",
    "# search across 100 different combinations, and use all available cores\n",
    "rf_random = RandomizedSearchCV(estimator = rf, param_distributions = random_grid, n_iter = 20, cv = 3, verbose=2, random_state=RANDOM_STATE, n_jobs = -1)\n",
    "# Fit the random search model\n",
    "rf_random.fit(X_train, y_train)"
   ]
  },
  {
   "cell_type": "code",
   "execution_count": 23,
   "metadata": {
    "scrolled": true
   },
   "outputs": [
    {
     "data": {
      "text/plain": [
       "{'n_estimators': 600,\n",
       " 'min_samples_split': 2,\n",
       " 'min_samples_leaf': 1,\n",
       " 'max_features': 'auto',\n",
       " 'max_depth': 70,\n",
       " 'bootstrap': True}"
      ]
     },
     "execution_count": 23,
     "metadata": {},
     "output_type": "execute_result"
    }
   ],
   "source": [
    "rf_random.best_params_"
   ]
  },
  {
   "cell_type": "code",
   "execution_count": 24,
   "metadata": {},
   "outputs": [
    {
     "data": {
      "text/html": [
       "<div>\n",
       "<style scoped>\n",
       "    .dataframe tbody tr th:only-of-type {\n",
       "        vertical-align: middle;\n",
       "    }\n",
       "\n",
       "    .dataframe tbody tr th {\n",
       "        vertical-align: top;\n",
       "    }\n",
       "\n",
       "    .dataframe thead th {\n",
       "        text-align: right;\n",
       "    }\n",
       "</style>\n",
       "<table border=\"1\" class=\"dataframe\">\n",
       "  <thead>\n",
       "    <tr style=\"text-align: right;\">\n",
       "      <th></th>\n",
       "      <th>0</th>\n",
       "    </tr>\n",
       "  </thead>\n",
       "  <tbody>\n",
       "    <tr>\n",
       "      <th>Accuracy</th>\n",
       "      <td>0.912500</td>\n",
       "    </tr>\n",
       "    <tr>\n",
       "      <th>Precision</th>\n",
       "      <td>0.868545</td>\n",
       "    </tr>\n",
       "    <tr>\n",
       "      <th>Recall</th>\n",
       "      <td>0.814978</td>\n",
       "    </tr>\n",
       "    <tr>\n",
       "      <th>F1</th>\n",
       "      <td>0.840909</td>\n",
       "    </tr>\n",
       "    <tr>\n",
       "      <th>ROC_AUC</th>\n",
       "      <td>0.970628</td>\n",
       "    </tr>\n",
       "  </tbody>\n",
       "</table>\n",
       "</div>"
      ],
      "text/plain": [
       "                  0\n",
       "Accuracy   0.912500\n",
       "Precision  0.868545\n",
       "Recall     0.814978\n",
       "F1         0.840909\n",
       "ROC_AUC    0.970628"
      ]
     },
     "metadata": {},
     "output_type": "display_data"
    }
   ],
   "source": [
    "rf_predictions_2 = evaluate_classification(m = RandomForestClassifier(\n",
    "   n_estimators = rf_random.best_params_['n_estimators'],\n",
    "   min_samples_split =rf_random.best_params_['min_samples_split'],\n",
    "   min_samples_leaf=rf_random.best_params_['min_samples_leaf'],\n",
    "   max_features=rf_random.best_params_['max_features'],\n",
    "   max_depth=rf_random.best_params_['max_depth'],\n",
    "   bootstrap=True, \n",
    "   random_state=RANDOM_STATE),\n",
    "   X_train = X_sc_train, y_train = y_train,X_test = x_sc_valid, y_test = y_valid)\n"
   ]
  },
  {
   "cell_type": "markdown",
   "metadata": {},
   "source": [
    "These are very good metrics but we can try and maximize them with a gradient boosting model and see if the values can improve even more."
   ]
  },
  {
   "cell_type": "code",
   "execution_count": 25,
   "metadata": {},
   "outputs": [
    {
     "data": {
      "text/html": [
       "<div>\n",
       "<style scoped>\n",
       "    .dataframe tbody tr th:only-of-type {\n",
       "        vertical-align: middle;\n",
       "    }\n",
       "\n",
       "    .dataframe tbody tr th {\n",
       "        vertical-align: top;\n",
       "    }\n",
       "\n",
       "    .dataframe thead th {\n",
       "        text-align: right;\n",
       "    }\n",
       "</style>\n",
       "<table border=\"1\" class=\"dataframe\">\n",
       "  <thead>\n",
       "    <tr style=\"text-align: right;\">\n",
       "      <th></th>\n",
       "      <th>0</th>\n",
       "    </tr>\n",
       "  </thead>\n",
       "  <tbody>\n",
       "    <tr>\n",
       "      <th>Accuracy</th>\n",
       "      <td>0.931250</td>\n",
       "    </tr>\n",
       "    <tr>\n",
       "      <th>Precision</th>\n",
       "      <td>0.917476</td>\n",
       "    </tr>\n",
       "    <tr>\n",
       "      <th>Recall</th>\n",
       "      <td>0.832599</td>\n",
       "    </tr>\n",
       "    <tr>\n",
       "      <th>F1</th>\n",
       "      <td>0.872979</td>\n",
       "    </tr>\n",
       "    <tr>\n",
       "      <th>ROC_AUC</th>\n",
       "      <td>0.977005</td>\n",
       "    </tr>\n",
       "  </tbody>\n",
       "</table>\n",
       "</div>"
      ],
      "text/plain": [
       "                  0\n",
       "Accuracy   0.931250\n",
       "Precision  0.917476\n",
       "Recall     0.832599\n",
       "F1         0.872979\n",
       "ROC_AUC    0.977005"
      ]
     },
     "metadata": {},
     "output_type": "display_data"
    }
   ],
   "source": [
    "# GradientBoostingClassifier\n",
    "gb_predictions = evaluate_classification(m = GradientBoostingClassifier(\n",
    "    random_state = RANDOM_STATE),\n",
    "    X_train = X_sc_train, y_train = y_train,X_test = x_sc_valid, y_test = y_valid)"
   ]
  },
  {
   "cell_type": "markdown",
   "metadata": {},
   "source": [
    "lets make a plot to visually to compare the results of the models"
   ]
  },
  {
   "cell_type": "code",
   "execution_count": 26,
   "metadata": {},
   "outputs": [],
   "source": [
    "compare_results = pd.DataFrame({'logistic regression': lr_predictions,\n",
    "                                'random forest': rf_predictions,\n",
    "                                'random forest v2' : rf_predictions_2,\n",
    "                                'gradient boosting': gb_predictions\n",
    "})"
   ]
  },
  {
   "cell_type": "code",
   "execution_count": 27,
   "metadata": {},
   "outputs": [
    {
     "data": {
      "image/png": "[encoded data removed]",
      "text/plain": [
       "<Figure size 720x360 with 1 Axes>"
      ]
     },
     "metadata": {
      "needs_background": "light"
     },
     "output_type": "display_data"
    }
   ],
   "source": [
    "compare_results.plot.bar(figsize = (10, 5))\n",
    "plt.xticks(rotation = 45, ha = 'right')\n",
    "plt.title('Metrics comparison')\n",
    "plt.show()"
   ]
  },
  {
   "cell_type": "code",
   "execution_count": 28,
   "metadata": {
    "scrolled": true
   },
   "outputs": [
    {
     "data": {
      "text/html": [
       "<style  type=\"text/css\" >\n",
       "#T_a6f85_row0_col3,#T_a6f85_row1_col3,#T_a6f85_row2_col0,#T_a6f85_row3_col3,#T_a6f85_row4_col3{\n",
       "            background-color:  lightgreen;\n",
       "        }</style><table id=\"T_a6f85_\" ><thead>    <tr>        <th class=\"blank level0\" ></th>        <th class=\"col_heading level0 col0\" >logistic regression</th>        <th class=\"col_heading level0 col1\" >random forest</th>        <th class=\"col_heading level0 col2\" >random forest v2</th>        <th class=\"col_heading level0 col3\" >gradient boosting</th>    </tr></thead><tbody>\n",
       "                <tr>\n",
       "                        <th id=\"T_a6f85_level0_row0\" class=\"row_heading level0 row0\" >Accuracy</th>\n",
       "                        <td id=\"T_a6f85_row0_col0\" class=\"data row0 col0\" >0.920000</td>\n",
       "                        <td id=\"T_a6f85_row0_col1\" class=\"data row0 col1\" >0.912500</td>\n",
       "                        <td id=\"T_a6f85_row0_col2\" class=\"data row0 col2\" >0.912500</td>\n",
       "                        <td id=\"T_a6f85_row0_col3\" class=\"data row0 col3\" >0.931250</td>\n",
       "            </tr>\n",
       "            <tr>\n",
       "                        <th id=\"T_a6f85_level0_row1\" class=\"row_heading level0 row1\" >Precision</th>\n",
       "                        <td id=\"T_a6f85_row1_col0\" class=\"data row1 col0\" >0.875576</td>\n",
       "                        <td id=\"T_a6f85_row1_col1\" class=\"data row1 col1\" >0.855204</td>\n",
       "                        <td id=\"T_a6f85_row1_col2\" class=\"data row1 col2\" >0.868545</td>\n",
       "                        <td id=\"T_a6f85_row1_col3\" class=\"data row1 col3\" >0.917476</td>\n",
       "            </tr>\n",
       "            <tr>\n",
       "                        <th id=\"T_a6f85_level0_row2\" class=\"row_heading level0 row2\" >Recall</th>\n",
       "                        <td id=\"T_a6f85_row2_col0\" class=\"data row2 col0\" >0.837004</td>\n",
       "                        <td id=\"T_a6f85_row2_col1\" class=\"data row2 col1\" >0.832599</td>\n",
       "                        <td id=\"T_a6f85_row2_col2\" class=\"data row2 col2\" >0.814978</td>\n",
       "                        <td id=\"T_a6f85_row2_col3\" class=\"data row2 col3\" >0.832599</td>\n",
       "            </tr>\n",
       "            <tr>\n",
       "                        <th id=\"T_a6f85_level0_row3\" class=\"row_heading level0 row3\" >F1</th>\n",
       "                        <td id=\"T_a6f85_row3_col0\" class=\"data row3 col0\" >0.855856</td>\n",
       "                        <td id=\"T_a6f85_row3_col1\" class=\"data row3 col1\" >0.843750</td>\n",
       "                        <td id=\"T_a6f85_row3_col2\" class=\"data row3 col2\" >0.840909</td>\n",
       "                        <td id=\"T_a6f85_row3_col3\" class=\"data row3 col3\" >0.872979</td>\n",
       "            </tr>\n",
       "            <tr>\n",
       "                        <th id=\"T_a6f85_level0_row4\" class=\"row_heading level0 row4\" >ROC_AUC</th>\n",
       "                        <td id=\"T_a6f85_row4_col0\" class=\"data row4 col0\" >0.973538</td>\n",
       "                        <td id=\"T_a6f85_row4_col1\" class=\"data row4 col1\" >0.970074</td>\n",
       "                        <td id=\"T_a6f85_row4_col2\" class=\"data row4 col2\" >0.970628</td>\n",
       "                        <td id=\"T_a6f85_row4_col3\" class=\"data row4 col3\" >0.977005</td>\n",
       "            </tr>\n",
       "    </tbody></table>"
      ],
      "text/plain": [
       "<pandas.io.formats.style.Styler at 0x7fc9b2cebee0>"
      ]
     },
     "execution_count": 28,
     "metadata": {},
     "output_type": "execute_result"
    }
   ],
   "source": [
    "compare_results.style.highlight_max(axis = 1, color = 'lightgreen')\n"
   ]
  },
  {
   "cell_type": "markdown",
   "metadata": {},
   "source": [
    "Gradient boosting turned up as the best model for our data.\n",
    "We can use it to predict the target value."
   ]
  },
  {
   "cell_type": "code",
   "execution_count": 29,
   "metadata": {},
   "outputs": [
    {
     "data": {
      "text/plain": [
       "GradientBoostingClassifier(random_state=42)"
      ]
     },
     "execution_count": 29,
     "metadata": {},
     "output_type": "execute_result"
    }
   ],
   "source": [
    "# Train the model\n",
    "model = GradientBoostingClassifier(random_state = RANDOM_STATE)\n",
    "model.fit(X_train, y_train)"
   ]
  },
  {
   "cell_type": "code",
   "execution_count": 30,
   "metadata": {
    "scrolled": false
   },
   "outputs": [
    {
     "data": {
      "image/png": "[encoded data removed]",
      "text/plain": [
       "<Figure size 432x288 with 2 Axes>"
      ]
     },
     "metadata": {
      "needs_background": "light"
     },
     "output_type": "display_data"
    }
   ],
   "source": [
    "plot_confusion_matrix(model, X_test, y_test) \n",
    "plt.show()"
   ]
  },
  {
   "cell_type": "code",
   "execution_count": 31,
   "metadata": {},
   "outputs": [
    {
     "name": "stdout",
     "output_type": "stream",
     "text": [
      "True Negatives:  556\n",
      "False Positives:  17\n",
      "False Negatives:  38\n",
      "True Positives:  189\n"
     ]
    }
   ],
   "source": [
    "y_pred = model.predict(X_valid)\n",
    "cm_model = confusion_matrix(y_valid, y_pred = y_pred)\n",
    "tn, fp, fn, tp = cm_model.ravel()\n",
    "print('True Negatives: ',tn)\n",
    "print('False Positives: ',fp)\n",
    "print('False Negatives: ',fn)\n",
    "print('True Positives: ',tp)"
   ]
  },
  {
   "cell_type": "markdown",
   "metadata": {},
   "source": [
    "The model has mistaken in 35 cases of predicting positive outcome (client churned), and in 21 cases of predicting negative (client have not churned)."
   ]
  },
  {
   "cell_type": "code",
   "execution_count": 32,
   "metadata": {
    "scrolled": false
   },
   "outputs": [
    {
     "data": {
      "text/html": [
       "<div>\n",
       "<style scoped>\n",
       "    .dataframe tbody tr th:only-of-type {\n",
       "        vertical-align: middle;\n",
       "    }\n",
       "\n",
       "    .dataframe tbody tr th {\n",
       "        vertical-align: top;\n",
       "    }\n",
       "\n",
       "    .dataframe thead th {\n",
       "        text-align: right;\n",
       "    }\n",
       "</style>\n",
       "<table border=\"1\" class=\"dataframe\">\n",
       "  <thead>\n",
       "    <tr style=\"text-align: right;\">\n",
       "      <th></th>\n",
       "      <th>feature</th>\n",
       "      <th>coeff</th>\n",
       "    </tr>\n",
       "  </thead>\n",
       "  <tbody>\n",
       "    <tr>\n",
       "      <th>10</th>\n",
       "      <td>lifetime</td>\n",
       "      <td>0.429339</td>\n",
       "    </tr>\n",
       "    <tr>\n",
       "      <th>12</th>\n",
       "      <td>avg_class_frequency_current_month</td>\n",
       "      <td>0.164928</td>\n",
       "    </tr>\n",
       "    <tr>\n",
       "      <th>11</th>\n",
       "      <td>avg_class_frequency_total</td>\n",
       "      <td>0.132915</td>\n",
       "    </tr>\n",
       "    <tr>\n",
       "      <th>7</th>\n",
       "      <td>age</td>\n",
       "      <td>0.121910</td>\n",
       "    </tr>\n",
       "    <tr>\n",
       "      <th>9</th>\n",
       "      <td>month_to_end_contract</td>\n",
       "      <td>0.068864</td>\n",
       "    </tr>\n",
       "    <tr>\n",
       "      <th>5</th>\n",
       "      <td>contract_period</td>\n",
       "      <td>0.051527</td>\n",
       "    </tr>\n",
       "    <tr>\n",
       "      <th>8</th>\n",
       "      <td>avg_additional_charges_total</td>\n",
       "      <td>0.024122</td>\n",
       "    </tr>\n",
       "    <tr>\n",
       "      <th>6</th>\n",
       "      <td>group_visits</td>\n",
       "      <td>0.004685</td>\n",
       "    </tr>\n",
       "    <tr>\n",
       "      <th>1</th>\n",
       "      <td>near_location</td>\n",
       "      <td>0.000633</td>\n",
       "    </tr>\n",
       "    <tr>\n",
       "      <th>3</th>\n",
       "      <td>promo_friends</td>\n",
       "      <td>0.000523</td>\n",
       "    </tr>\n",
       "    <tr>\n",
       "      <th>2</th>\n",
       "      <td>partner</td>\n",
       "      <td>0.000198</td>\n",
       "    </tr>\n",
       "    <tr>\n",
       "      <th>0</th>\n",
       "      <td>gender</td>\n",
       "      <td>0.000194</td>\n",
       "    </tr>\n",
       "    <tr>\n",
       "      <th>4</th>\n",
       "      <td>phone</td>\n",
       "      <td>0.000161</td>\n",
       "    </tr>\n",
       "  </tbody>\n",
       "</table>\n",
       "</div>"
      ],
      "text/plain": [
       "                              feature     coeff\n",
       "10                           lifetime  0.429339\n",
       "12  avg_class_frequency_current_month  0.164928\n",
       "11          avg_class_frequency_total  0.132915\n",
       "7                                 age  0.121910\n",
       "9               month_to_end_contract  0.068864\n",
       "5                     contract_period  0.051527\n",
       "8        avg_additional_charges_total  0.024122\n",
       "6                        group_visits  0.004685\n",
       "1                       near_location  0.000633\n",
       "3                       promo_friends  0.000523\n",
       "2                             partner  0.000198\n",
       "0                              gender  0.000194\n",
       "4                               phone  0.000161"
      ]
     },
     "execution_count": 32,
     "metadata": {},
     "output_type": "execute_result"
    }
   ],
   "source": [
    "# Observe feature importances\n",
    "features = pd.DataFrame(model.feature_importances_) \n",
    "features['feature'] = X.columns\n",
    "features.columns = ['coeff', 'feature']\n",
    "features = features.reindex(columns = ['feature', 'coeff'])\n",
    "features.sort_values(by = 'coeff', ascending = False)"
   ]
  },
  {
   "cell_type": "markdown",
   "metadata": {},
   "source": [
    "The most influent feature for positive result (client churned) is lifetime. If all other feature coefficients wouldn't change and together with that the lifetime value would have increased by 1%, than the probability of predicting churn would have changed by 47%. As we remember from the heatmap - lifetime and churn were middle-level correlated as well as other features: monthly and total average visits, age, contract period and months to end contract are at the top of our feature importances table."
   ]
  },
  {
   "cell_type": "markdown",
   "metadata": {},
   "source": [
    "### Create user clusters:\n",
    "\n",
    "Set aside the column with data on churn and identify object (user) clusters:\n",
    "\n",
    "- Standardize the data.\n",
    "- Use the linkage() function to build a matrix of distances based on the standardized feature matrix and plot a dendrogram. \n",
    "- Train the clustering model with the K-means algorithm and predict customer clusters. (Let the number of clusters be n=5, so that it'll be easier to compare your results with those of other students. However, in real life, no one will give you such hints, so you'll have to decide based on the graph from the previous step.)\n",
    "\n",
    "- Look at the mean feature values for clusters. Does anything catch your eye?\n",
    "- Plot distributions of features for the clusters. Do you notice anything?\n",
    "- Calculate the churn rate for each cluster (use the groupby() method). Do they differ in terms of churn rate? Which clusters are prone to leaving, and which are loyal?"
   ]
  },
  {
   "cell_type": "code",
   "execution_count": 33,
   "metadata": {
    "scrolled": false
   },
   "outputs": [
    {
     "data": {
      "image/png": "[encoded data removed]",
      "text/plain": [
       "<Figure size 1080x720 with 1 Axes>"
      ]
     },
     "metadata": {
      "needs_background": "light"
     },
     "output_type": "display_data"
    }
   ],
   "source": [
    "# Standartize the feature matrix \n",
    "X_st = scaler.fit_transform(X)\n",
    "linked = linkage(X_st, method = 'ward')\n",
    "plt.figure(figsize = (15, 10))\n",
    "dendrogram(linked, orientation = 'top')\n",
    "plt.title('Hierarchical clustering', fontsize=18)\n",
    "plt.show()"
   ]
  },
  {
   "cell_type": "markdown",
   "metadata": {},
   "source": [
    "- we managed to distinguish between 4 clusters.\n",
    "- 1 cluster seems to be bigger than the others since the distance between the features ar closer."
   ]
  },
  {
   "cell_type": "code",
   "execution_count": 34,
   "metadata": {},
   "outputs": [],
   "source": [
    "km = KMeans(n_clusters = 5, random_state = RANDOM_STATE)\n",
    "labels = km.fit_predict(X_st)\n",
    "data['cluster_km'] = labels"
   ]
  },
  {
   "cell_type": "code",
   "execution_count": 35,
   "metadata": {},
   "outputs": [
    {
     "data": {
      "text/plain": [
       "0     633\n",
       "1     889\n",
       "2     865\n",
       "3    1227\n",
       "4     386\n",
       "Name: cluster_km, dtype: int64"
      ]
     },
     "execution_count": 35,
     "metadata": {},
     "output_type": "execute_result"
    }
   ],
   "source": [
    "data['cluster_km'].value_counts().sort_index()"
   ]
  },
  {
   "cell_type": "code",
   "execution_count": 36,
   "metadata": {
    "scrolled": false
   },
   "outputs": [
    {
     "data": {
      "text/html": [
       "<div>\n",
       "<style scoped>\n",
       "    .dataframe tbody tr th:only-of-type {\n",
       "        vertical-align: middle;\n",
       "    }\n",
       "\n",
       "    .dataframe tbody tr th {\n",
       "        vertical-align: top;\n",
       "    }\n",
       "\n",
       "    .dataframe thead th {\n",
       "        text-align: right;\n",
       "    }\n",
       "</style>\n",
       "<table border=\"1\" class=\"dataframe\">\n",
       "  <thead>\n",
       "    <tr style=\"text-align: right;\">\n",
       "      <th></th>\n",
       "      <th>0</th>\n",
       "      <th>1</th>\n",
       "      <th>2</th>\n",
       "      <th>3</th>\n",
       "      <th>4</th>\n",
       "    </tr>\n",
       "  </thead>\n",
       "  <tbody>\n",
       "    <tr>\n",
       "      <th>cluster_km</th>\n",
       "      <td>0.000000</td>\n",
       "      <td>1.000000</td>\n",
       "      <td>2.000000</td>\n",
       "      <td>3.000000</td>\n",
       "      <td>4.000000</td>\n",
       "    </tr>\n",
       "    <tr>\n",
       "      <th>gender</th>\n",
       "      <td>0.502370</td>\n",
       "      <td>0.554556</td>\n",
       "      <td>0.499422</td>\n",
       "      <td>0.485738</td>\n",
       "      <td>0.523316</td>\n",
       "    </tr>\n",
       "    <tr>\n",
       "      <th>near_location</th>\n",
       "      <td>0.949447</td>\n",
       "      <td>0.849269</td>\n",
       "      <td>0.937572</td>\n",
       "      <td>0.718011</td>\n",
       "      <td>0.862694</td>\n",
       "    </tr>\n",
       "    <tr>\n",
       "      <th>partner</th>\n",
       "      <td>0.829384</td>\n",
       "      <td>0.263217</td>\n",
       "      <td>0.737572</td>\n",
       "      <td>0.299919</td>\n",
       "      <td>0.471503</td>\n",
       "    </tr>\n",
       "    <tr>\n",
       "      <th>promo_friends</th>\n",
       "      <td>0.998420</td>\n",
       "      <td>0.052868</td>\n",
       "      <td>0.478613</td>\n",
       "      <td>0.018745</td>\n",
       "      <td>0.305699</td>\n",
       "    </tr>\n",
       "    <tr>\n",
       "      <th>phone</th>\n",
       "      <td>1.000000</td>\n",
       "      <td>1.000000</td>\n",
       "      <td>1.000000</td>\n",
       "      <td>1.000000</td>\n",
       "      <td>0.000000</td>\n",
       "    </tr>\n",
       "    <tr>\n",
       "      <th>contract_period</th>\n",
       "      <td>3.097946</td>\n",
       "      <td>2.606299</td>\n",
       "      <td>11.854335</td>\n",
       "      <td>1.914425</td>\n",
       "      <td>4.777202</td>\n",
       "    </tr>\n",
       "    <tr>\n",
       "      <th>group_visits</th>\n",
       "      <td>0.448657</td>\n",
       "      <td>0.436445</td>\n",
       "      <td>0.546821</td>\n",
       "      <td>0.276284</td>\n",
       "      <td>0.427461</td>\n",
       "    </tr>\n",
       "    <tr>\n",
       "      <th>age</th>\n",
       "      <td>29.104265</td>\n",
       "      <td>30.008999</td>\n",
       "      <td>29.905202</td>\n",
       "      <td>28.083945</td>\n",
       "      <td>29.297927</td>\n",
       "    </tr>\n",
       "    <tr>\n",
       "      <th>avg_additional_charges_total</th>\n",
       "      <td>141.774331</td>\n",
       "      <td>159.774265</td>\n",
       "      <td>163.509804</td>\n",
       "      <td>129.496414</td>\n",
       "      <td>144.208179</td>\n",
       "    </tr>\n",
       "    <tr>\n",
       "      <th>month_to_end_contract</th>\n",
       "      <td>2.887836</td>\n",
       "      <td>2.419573</td>\n",
       "      <td>10.812717</td>\n",
       "      <td>1.821516</td>\n",
       "      <td>4.466321</td>\n",
       "    </tr>\n",
       "    <tr>\n",
       "      <th>lifetime</th>\n",
       "      <td>3.772512</td>\n",
       "      <td>4.780652</td>\n",
       "      <td>4.677457</td>\n",
       "      <td>2.195599</td>\n",
       "      <td>3.940415</td>\n",
       "    </tr>\n",
       "    <tr>\n",
       "      <th>avg_class_frequency_total</th>\n",
       "      <td>1.770536</td>\n",
       "      <td>2.745505</td>\n",
       "      <td>2.006405</td>\n",
       "      <td>1.225192</td>\n",
       "      <td>1.854211</td>\n",
       "    </tr>\n",
       "    <tr>\n",
       "      <th>avg_class_frequency_current_month</th>\n",
       "      <td>1.669581</td>\n",
       "      <td>2.733173</td>\n",
       "      <td>1.998179</td>\n",
       "      <td>0.967967</td>\n",
       "      <td>1.723967</td>\n",
       "    </tr>\n",
       "    <tr>\n",
       "      <th>churn</th>\n",
       "      <td>0.246445</td>\n",
       "      <td>0.089989</td>\n",
       "      <td>0.021965</td>\n",
       "      <td>0.572942</td>\n",
       "      <td>0.266839</td>\n",
       "    </tr>\n",
       "  </tbody>\n",
       "</table>\n",
       "</div>"
      ],
      "text/plain": [
       "                                            0           1           2  \\\n",
       "cluster_km                           0.000000    1.000000    2.000000   \n",
       "gender                               0.502370    0.554556    0.499422   \n",
       "near_location                        0.949447    0.849269    0.937572   \n",
       "partner                              0.829384    0.263217    0.737572   \n",
       "promo_friends                        0.998420    0.052868    0.478613   \n",
       "phone                                1.000000    1.000000    1.000000   \n",
       "contract_period                      3.097946    2.606299   11.854335   \n",
       "group_visits                         0.448657    0.436445    0.546821   \n",
       "age                                 29.104265   30.008999   29.905202   \n",
       "avg_additional_charges_total       141.774331  159.774265  163.509804   \n",
       "month_to_end_contract                2.887836    2.419573   10.812717   \n",
       "lifetime                             3.772512    4.780652    4.677457   \n",
       "avg_class_frequency_total            1.770536    2.745505    2.006405   \n",
       "avg_class_frequency_current_month    1.669581    2.733173    1.998179   \n",
       "churn                                0.246445    0.089989    0.021965   \n",
       "\n",
       "                                            3           4  \n",
       "cluster_km                           3.000000    4.000000  \n",
       "gender                               0.485738    0.523316  \n",
       "near_location                        0.718011    0.862694  \n",
       "partner                              0.299919    0.471503  \n",
       "promo_friends                        0.018745    0.305699  \n",
       "phone                                1.000000    0.000000  \n",
       "contract_period                      1.914425    4.777202  \n",
       "group_visits                         0.276284    0.427461  \n",
       "age                                 28.083945   29.297927  \n",
       "avg_additional_charges_total       129.496414  144.208179  \n",
       "month_to_end_contract                1.821516    4.466321  \n",
       "lifetime                             2.195599    3.940415  \n",
       "avg_class_frequency_total            1.225192    1.854211  \n",
       "avg_class_frequency_current_month    0.967967    1.723967  \n",
       "churn                                0.572942    0.266839  "
      ]
     },
     "execution_count": 36,
     "metadata": {},
     "output_type": "execute_result"
    }
   ],
   "source": [
    "data.groupby('cluster_km', as_index = False).mean().T"
   ]
  },
  {
   "cell_type": "markdown",
   "metadata": {},
   "source": [
    "cluster 0 = In this cluster there are 633 clients, The majority of are in the promotional friend program, 24% of them are clients that left.\n",
    "\n",
    "cluster 1 = In this cluster there are 889 clients, average age is at 30, only 8% are clients that left.\n",
    "\n",
    "cluster 2 = In this cluster there are 865 clients, highest average of contract period that stands at 11.8 month and highest additional charges(163), lowest number of clients that left.\n",
    "\n",
    "cluster 3 = In this cluster there are 1227 clients, lowest contract period and lowest age average, highest churn rate stands at 57%.\n",
    "\n",
    "cluser 4 = In this cluster there are 386 clients, no phone registered in the system, churn rate of 26%."
   ]
  },
  {
   "cell_type": "code",
   "execution_count": 37,
   "metadata": {
    "scrolled": false
   },
   "outputs": [
    {
     "data": {
      "image/png": "[encoded data removed]",
      "text/plain": [
       "<Figure size 1500x1200 with 6 Axes>"
      ]
     },
     "metadata": {
      "needs_background": "light"
     },
     "output_type": "display_data"
    }
   ],
   "source": [
    "r, c = 3, 2\n",
    "x_i, y_i = 0, 0\n",
    "# Draw bar plots for categorical features\n",
    "fig, axes = plt.subplots(r, c, figsize = (15, 12), dpi = 100)\n",
    "for i in ['gender', 'near_location', 'partner', \n",
    "           'promo_friends', 'phone', 'group_visits']:\n",
    "    sns.countplot(data = data, x = 'cluster_km', hue = i, ax = axes[x_i, y_i])\n",
    "    plt.subplots_adjust(hspace = 0.3)\n",
    "    y_i += 1\n",
    "    if y_i == c:\n",
    "        x_i += 1\n",
    "        y_i = 0"
   ]
  },
  {
   "cell_type": "markdown",
   "metadata": {},
   "source": [
    "- gender = all clusters seem to have an equal distribution of genders\n",
    "\n",
    "- near_location = majority of clients in all the clusters live or work near the gym\n",
    "\n",
    "- partner program = here clusters 0 and 2 are more engaged than clusters 1 and 3. cluster 4 is small but seems to be balanced.\n",
    "\n",
    "- promo friends = clusters 1 and 3 are the least integrated in the program.\n",
    "\n",
    "- phone = only cluster 4 doesnt have phone numbers. \n",
    "\n",
    "- group visits = all cluster have group visits, clusers 1 and 3 have the least."
   ]
  },
  {
   "cell_type": "code",
   "execution_count": 38,
   "metadata": {
    "scrolled": false
   },
   "outputs": [
    {
     "data": {
      "image/png": "[encoded data removed]",
      "text/plain": [
       "<Figure size 720x432 with 1 Axes>"
      ]
     },
     "metadata": {
      "needs_background": "light"
     },
     "output_type": "display_data"
    }
   ],
   "source": [
    "ax = data.groupby('cluster_km', as_index = False)\\\n",
    "    .mean().sort_values(by = 'churn', ascending = False)['churn']\\\n",
    "    .plot.bar(figsize = (10, 6))\n",
    "for p in ax.patches:\n",
    "    width = p.get_width()\n",
    "    height = p.get_height()\n",
    "    x, y = p.get_xy() \n",
    "    ax.annotate(f'{height:.2%}', (x + width/2, y + height * 1.02), ha = 'center')\n",
    "plt.xticks(rotation = 0)\n",
    "plt.title('Churn rate by clusters')\n",
    "plt.show()"
   ]
  },
  {
   "cell_type": "markdown",
   "metadata": {},
   "source": [
    "Each cluster has a differnt churn rate:\n",
    "\n",
    "- Smallest churn rates are at 2.2% for cluster 2 and 9% for cluster 1, clusters remained almost full since last month.\n",
    "- Mid range churn rates are at 24-27% for clusters 0 and 4, a quarter of the churns left since last month. \n",
    "- Highest churn rate is t 57.3% for cluster 3, this cluster shrunk in more than a half since last month."
   ]
  },
  {
   "cell_type": "markdown",
   "metadata": {},
   "source": [
    " ### conclusions and basic recommendations on working with customers:"
   ]
  },
  {
   "cell_type": "markdown",
   "metadata": {},
   "source": [
    "The predictive model is based on a GradientBoostingClassifier algorithm implementation.\n",
    "\n",
    "The features that effect churn feature are lifetime, avg monthly visit, age, contrat period and month to end contract.\n",
    "\n",
    "\n",
    "for the clients that stayed:\n",
    "- 87% live/works close to the gym.\n",
    "- 53% participate in th partner program.\n",
    "- 35% joined brcause of promotions.\n",
    "- 46% have group visits.\n",
    "- average contract period of 5.7 months\n",
    "- 2 calsses of average per month\n",
    "- are in the gym for the last 4.7 months.\n",
    "- spend 158 on average per month.\n",
    "- 5.2 months until the end of contract\n",
    "\n",
    "for the clients that left:\n",
    "- 76% live/work close to the gym\n",
    "- 35% participate in th partner program.\n",
    "- 18% joined brcause of promotions.\n",
    "- 26% have group visits.\n",
    "- average contract period of 1.7 months\n",
    "- 1 calss of average per month\n",
    "- are in the gym for the last month.\n",
    "- spend 115 on average per month.\n",
    "- 1.6 months until the end of contract\n"
   ]
  },
  {
   "cell_type": "code",
   "execution_count": 39,
   "metadata": {},
   "outputs": [
    {
     "data": {
      "text/html": [
       "<div>\n",
       "<style scoped>\n",
       "    .dataframe tbody tr th:only-of-type {\n",
       "        vertical-align: middle;\n",
       "    }\n",
       "\n",
       "    .dataframe tbody tr th {\n",
       "        vertical-align: top;\n",
       "    }\n",
       "\n",
       "    .dataframe thead th {\n",
       "        text-align: right;\n",
       "    }\n",
       "</style>\n",
       "<table border=\"1\" class=\"dataframe\">\n",
       "  <thead>\n",
       "    <tr style=\"text-align: right;\">\n",
       "      <th></th>\n",
       "      <th>0</th>\n",
       "      <th>1</th>\n",
       "      <th>2</th>\n",
       "      <th>3</th>\n",
       "      <th>4</th>\n",
       "    </tr>\n",
       "  </thead>\n",
       "  <tbody>\n",
       "    <tr>\n",
       "      <th>cluster_km</th>\n",
       "      <td>0.000000</td>\n",
       "      <td>1.000000</td>\n",
       "      <td>2.000000</td>\n",
       "      <td>3.000000</td>\n",
       "      <td>4.000000</td>\n",
       "    </tr>\n",
       "    <tr>\n",
       "      <th>gender</th>\n",
       "      <td>0.502370</td>\n",
       "      <td>0.554556</td>\n",
       "      <td>0.499422</td>\n",
       "      <td>0.485738</td>\n",
       "      <td>0.523316</td>\n",
       "    </tr>\n",
       "    <tr>\n",
       "      <th>near_location</th>\n",
       "      <td>0.949447</td>\n",
       "      <td>0.849269</td>\n",
       "      <td>0.937572</td>\n",
       "      <td>0.718011</td>\n",
       "      <td>0.862694</td>\n",
       "    </tr>\n",
       "    <tr>\n",
       "      <th>partner</th>\n",
       "      <td>0.829384</td>\n",
       "      <td>0.263217</td>\n",
       "      <td>0.737572</td>\n",
       "      <td>0.299919</td>\n",
       "      <td>0.471503</td>\n",
       "    </tr>\n",
       "    <tr>\n",
       "      <th>promo_friends</th>\n",
       "      <td>0.998420</td>\n",
       "      <td>0.052868</td>\n",
       "      <td>0.478613</td>\n",
       "      <td>0.018745</td>\n",
       "      <td>0.305699</td>\n",
       "    </tr>\n",
       "    <tr>\n",
       "      <th>phone</th>\n",
       "      <td>1.000000</td>\n",
       "      <td>1.000000</td>\n",
       "      <td>1.000000</td>\n",
       "      <td>1.000000</td>\n",
       "      <td>0.000000</td>\n",
       "    </tr>\n",
       "    <tr>\n",
       "      <th>contract_period</th>\n",
       "      <td>3.097946</td>\n",
       "      <td>2.606299</td>\n",
       "      <td>11.854335</td>\n",
       "      <td>1.914425</td>\n",
       "      <td>4.777202</td>\n",
       "    </tr>\n",
       "    <tr>\n",
       "      <th>group_visits</th>\n",
       "      <td>0.448657</td>\n",
       "      <td>0.436445</td>\n",
       "      <td>0.546821</td>\n",
       "      <td>0.276284</td>\n",
       "      <td>0.427461</td>\n",
       "    </tr>\n",
       "    <tr>\n",
       "      <th>age</th>\n",
       "      <td>29.104265</td>\n",
       "      <td>30.008999</td>\n",
       "      <td>29.905202</td>\n",
       "      <td>28.083945</td>\n",
       "      <td>29.297927</td>\n",
       "    </tr>\n",
       "    <tr>\n",
       "      <th>avg_additional_charges_total</th>\n",
       "      <td>141.774331</td>\n",
       "      <td>159.774265</td>\n",
       "      <td>163.509804</td>\n",
       "      <td>129.496414</td>\n",
       "      <td>144.208179</td>\n",
       "    </tr>\n",
       "    <tr>\n",
       "      <th>month_to_end_contract</th>\n",
       "      <td>2.887836</td>\n",
       "      <td>2.419573</td>\n",
       "      <td>10.812717</td>\n",
       "      <td>1.821516</td>\n",
       "      <td>4.466321</td>\n",
       "    </tr>\n",
       "    <tr>\n",
       "      <th>lifetime</th>\n",
       "      <td>3.772512</td>\n",
       "      <td>4.780652</td>\n",
       "      <td>4.677457</td>\n",
       "      <td>2.195599</td>\n",
       "      <td>3.940415</td>\n",
       "    </tr>\n",
       "    <tr>\n",
       "      <th>avg_class_frequency_total</th>\n",
       "      <td>1.770536</td>\n",
       "      <td>2.745505</td>\n",
       "      <td>2.006405</td>\n",
       "      <td>1.225192</td>\n",
       "      <td>1.854211</td>\n",
       "    </tr>\n",
       "    <tr>\n",
       "      <th>avg_class_frequency_current_month</th>\n",
       "      <td>1.669581</td>\n",
       "      <td>2.733173</td>\n",
       "      <td>1.998179</td>\n",
       "      <td>0.967967</td>\n",
       "      <td>1.723967</td>\n",
       "    </tr>\n",
       "    <tr>\n",
       "      <th>churn</th>\n",
       "      <td>0.246445</td>\n",
       "      <td>0.089989</td>\n",
       "      <td>0.021965</td>\n",
       "      <td>0.572942</td>\n",
       "      <td>0.266839</td>\n",
       "    </tr>\n",
       "  </tbody>\n",
       "</table>\n",
       "</div>"
      ],
      "text/plain": [
       "                                            0           1           2  \\\n",
       "cluster_km                           0.000000    1.000000    2.000000   \n",
       "gender                               0.502370    0.554556    0.499422   \n",
       "near_location                        0.949447    0.849269    0.937572   \n",
       "partner                              0.829384    0.263217    0.737572   \n",
       "promo_friends                        0.998420    0.052868    0.478613   \n",
       "phone                                1.000000    1.000000    1.000000   \n",
       "contract_period                      3.097946    2.606299   11.854335   \n",
       "group_visits                         0.448657    0.436445    0.546821   \n",
       "age                                 29.104265   30.008999   29.905202   \n",
       "avg_additional_charges_total       141.774331  159.774265  163.509804   \n",
       "month_to_end_contract                2.887836    2.419573   10.812717   \n",
       "lifetime                             3.772512    4.780652    4.677457   \n",
       "avg_class_frequency_total            1.770536    2.745505    2.006405   \n",
       "avg_class_frequency_current_month    1.669581    2.733173    1.998179   \n",
       "churn                                0.246445    0.089989    0.021965   \n",
       "\n",
       "                                            3           4  \n",
       "cluster_km                           3.000000    4.000000  \n",
       "gender                               0.485738    0.523316  \n",
       "near_location                        0.718011    0.862694  \n",
       "partner                              0.299919    0.471503  \n",
       "promo_friends                        0.018745    0.305699  \n",
       "phone                                1.000000    0.000000  \n",
       "contract_period                      1.914425    4.777202  \n",
       "group_visits                         0.276284    0.427461  \n",
       "age                                 28.083945   29.297927  \n",
       "avg_additional_charges_total       129.496414  144.208179  \n",
       "month_to_end_contract                1.821516    4.466321  \n",
       "lifetime                             2.195599    3.940415  \n",
       "avg_class_frequency_total            1.225192    1.854211  \n",
       "avg_class_frequency_current_month    0.967967    1.723967  \n",
       "churn                                0.572942    0.266839  "
      ]
     },
     "execution_count": 39,
     "metadata": {},
     "output_type": "execute_result"
    }
   ],
   "source": [
    "data.groupby('cluster_km', as_index = False).mean().T"
   ]
  },
  {
   "cell_type": "markdown",
   "metadata": {},
   "source": [
    "With the help of the K-means algorithm we clustered all our customers into 5 groups and are able to recommend a specialized approach for each group:\n",
    "\n",
    "\n",
    "Cluster 0\n",
    "\n",
    "- Churn - 24%\n",
    "- Live or work near the fitness center\n",
    "- Most of them are employees of partner companies- 82% \n",
    "- Sign up for 3 month contract  \n",
    "- Most of them attend group classes - in 44% cases\n",
    "- Most of them came via the promotion campaign - 99%\n",
    "\n",
    "Clients of this cluster are soon to be churned. They need extra attention and engagement\n",
    "\n",
    "\n",
    "Cluster 1\n",
    "\n",
    "- Churn - 8%\n",
    "- Live or work near fitness center\n",
    "- Have high average additional charges - 159\n",
    "- Most frequently visit the gym - 2.7 times on average\n",
    "- Tend to sign up for contracts NOT for a long period - on average 2.6 months\n",
    "\n",
    "Those are very good clients as well, but the contract period is short, maybe they need some extra loyalty program\n",
    "\n",
    "\n",
    "Cluster 2\n",
    "- Churn - 2%\n",
    "- Live or work near fitness center\n",
    "- Have the highest contract period -11 months\n",
    "- Have the highest average additional charges - 163\n",
    "\n",
    "Those our best clients - a reward policy would be appropriate for those clients. Everybody loves free shirts and merch!\n",
    "\n",
    "\n",
    "Cluster 3\n",
    "\n",
    "- Churn - 57% - the highest\n",
    "- Live or work near a fitness center\n",
    "- Mostly 1-3 month short-term membership holders\n",
    "- Lowest number of visits in total and for month\n",
    "- Youngest group of average\n",
    "\n",
    "We should try to revive their interest with a targeted campaign. Maybe offer some exclusive discounts for membership holders \n",
    "\n",
    "\n",
    "Cluster 4\n",
    "\n",
    "- Churn - 26%\n",
    "- Live or work near a fitness center\n",
    "- No mobile number\n",
    "- The average duration of contracts is 4.5 months\n",
    "\n",
    "An alterntive way of interaction is essential for those clients, such as email or a big announcement board at the gym entrance."
   ]
  }
 ],
 "metadata": {
  "kernelspec": {
   "display_name": "Python 3 (ipykernel)",
   "language": "python",
   "name": "python3"
  },
  "language_info": {
   "codemirror_mode": {
    "name": "ipython",
    "version": 3
   },
   "file_extension": ".py",
   "mimetype": "text/x-python",
   "name": "python",
   "nbconvert_exporter": "python",
   "pygments_lexer": "ipython3",
   "version": "3.9.12"
  },
  "toc": {
   "base_numbering": 1,
   "nav_menu": {},
   "number_sections": true,
   "sideBar": true,
   "skip_h1_title": true,
   "title_cell": "Table of Contents",
   "title_sidebar": "Contents",
   "toc_cell": false,
   "toc_position": {},
   "toc_section_display": true,
   "toc_window_display": false
  }
 },
 "nbformat": 4,
 "nbformat_minor": 2
}
