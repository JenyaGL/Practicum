{
 "cells": [
  {
   "cell_type": "markdown",
   "metadata": {},
   "source": [
    "# Step 1 - Open the data file and study the general information  "
   ]
  },
  {
   "cell_type": "markdown",
   "metadata": {},
   "source": [
    "**General information**\n",
    "\n",
    "This data analysis is for the online store Ice, which sells video games all over the world.\n",
    "User and expert reviews, genres, platforms (e.g. Xbox or PlayStation), and historical data on game sales are available from open sources.\n",
    "\n",
    "in this analysis I intend to identify patterns that determine whether a game succeeds or not.\n",
    "This will allow us to spot potential big winners and plan advertising campaigns.\n",
    "\n",
    "In this analysis we are going to work with data going back to 2016 for a planned campaign for 2017.\n",
    "\n",
    "\n",
    "*The dataset contains the abbreviation ESRB. The Entertainment Software Rating Board evaluates a game's content and assigns an age rating such as Teen or Mature.\n"
   ]
  },
  {
   "cell_type": "markdown",
   "metadata": {},
   "source": [
    "**Libraries, Data sets and overview:**"
   ]
  },
  {
   "cell_type": "code",
   "execution_count": 1,
   "metadata": {},
   "outputs": [],
   "source": [
    "import pandas as pd\n",
    "import seaborn as sns\n",
    "import numpy as np\n",
    "from scipy import stats \n",
    "import math\n",
    "from functools import reduce\n",
    "import matplotlib.pyplot as plt\n",
    "from scipy.stats import levene\n",
    "from scipy import stats\n",
    "import warnings\n",
    "warnings.simplefilter(action=\"ignore\", category=FutureWarning)"
   ]
  },
  {
   "cell_type": "markdown",
   "metadata": {},
   "source": [
    "**data:**"
   ]
  },
  {
   "cell_type": "code",
   "execution_count": 2,
   "metadata": {},
   "outputs": [],
   "source": [
    "try:\n",
    "    data = pd.read_csv('/datasets/games.csv')\n",
    "except:\n",
    "    data = pd.read_csv('C:/Users/jenya/Desktop/practicum/games.csv')"
   ]
  },
  {
   "cell_type": "code",
   "execution_count": 3,
   "metadata": {},
   "outputs": [
    {
     "name": "stdout",
     "output_type": "stream",
     "text": [
      "                               Name Platform  Year_of_Release   Genre  \\\n",
      "count                         16713    16715     16446.000000   16713   \n",
      "unique                        11559       31              NaN      12   \n",
      "top     Need for Speed: Most Wanted      PS2              NaN  Action   \n",
      "freq                             12     2161              NaN    3369   \n",
      "mean                            NaN      NaN      2006.484616     NaN   \n",
      "std                             NaN      NaN         5.877050     NaN   \n",
      "min                             NaN      NaN      1980.000000     NaN   \n",
      "25%                             NaN      NaN      2003.000000     NaN   \n",
      "50%                             NaN      NaN      2007.000000     NaN   \n",
      "75%                             NaN      NaN      2010.000000     NaN   \n",
      "max                             NaN      NaN      2016.000000     NaN   \n",
      "\n",
      "            NA_sales      EU_sales      JP_sales   Other_sales  Critic_Score  \\\n",
      "count   16715.000000  16715.000000  16715.000000  16715.000000   8137.000000   \n",
      "unique           NaN           NaN           NaN           NaN           NaN   \n",
      "top              NaN           NaN           NaN           NaN           NaN   \n",
      "freq             NaN           NaN           NaN           NaN           NaN   \n",
      "mean        0.263377      0.145060      0.077617      0.047342     68.967679   \n",
      "std         0.813604      0.503339      0.308853      0.186731     13.938165   \n",
      "min         0.000000      0.000000      0.000000      0.000000     13.000000   \n",
      "25%         0.000000      0.000000      0.000000      0.000000     60.000000   \n",
      "50%         0.080000      0.020000      0.000000      0.010000     71.000000   \n",
      "75%         0.240000      0.110000      0.040000      0.030000     79.000000   \n",
      "max        41.360000     28.960000     10.220000     10.570000     98.000000   \n",
      "\n",
      "       User_Score Rating  \n",
      "count       10014   9949  \n",
      "unique         96      8  \n",
      "top           tbd      E  \n",
      "freq         2424   3990  \n",
      "mean          NaN    NaN  \n",
      "std           NaN    NaN  \n",
      "min           NaN    NaN  \n",
      "25%           NaN    NaN  \n",
      "50%           NaN    NaN  \n",
      "75%           NaN    NaN  \n",
      "max           NaN    NaN  \n",
      "\n",
      "<class 'pandas.core.frame.DataFrame'>\n",
      "RangeIndex: 16715 entries, 0 to 16714\n",
      "Data columns (total 11 columns):\n",
      " #   Column           Non-Null Count  Dtype  \n",
      "---  ------           --------------  -----  \n",
      " 0   Name             16713 non-null  object \n",
      " 1   Platform         16715 non-null  object \n",
      " 2   Year_of_Release  16446 non-null  float64\n",
      " 3   Genre            16713 non-null  object \n",
      " 4   NA_sales         16715 non-null  float64\n",
      " 5   EU_sales         16715 non-null  float64\n",
      " 6   JP_sales         16715 non-null  float64\n",
      " 7   Other_sales      16715 non-null  float64\n",
      " 8   Critic_Score     8137 non-null   float64\n",
      " 9   User_Score       10014 non-null  object \n",
      " 10  Rating           9949 non-null   object \n",
      "dtypes: float64(6), object(5)\n",
      "memory usage: 1.4+ MB\n",
      "None\n",
      "\n",
      "                       Name Platform  Year_of_Release         Genre  NA_sales  \\\n",
      "0                Wii Sports      Wii           2006.0        Sports     41.36   \n",
      "1         Super Mario Bros.      NES           1985.0      Platform     29.08   \n",
      "2            Mario Kart Wii      Wii           2008.0        Racing     15.68   \n",
      "3         Wii Sports Resort      Wii           2009.0        Sports     15.61   \n",
      "4  Pokemon Red/Pokemon Blue       GB           1996.0  Role-Playing     11.27   \n",
      "\n",
      "   EU_sales  JP_sales  Other_sales  Critic_Score User_Score Rating  \n",
      "0     28.96      3.77         8.45          76.0          8      E  \n",
      "1      3.58      6.81         0.77           NaN        NaN    NaN  \n",
      "2     12.76      3.79         3.29          82.0        8.3      E  \n",
      "3     10.93      3.28         2.95          80.0          8      E  \n",
      "4      8.89     10.22         1.00           NaN        NaN    NaN  \n"
     ]
    }
   ],
   "source": [
    "print(data.describe(include='all'))\n",
    "print()\n",
    "print(data.info())\n",
    "print()\n",
    "print(data.head())"
   ]
  },
  {
   "cell_type": "markdown",
   "metadata": {},
   "source": [
    "**Overview**\n",
    "\n",
    "—Name - Name of the Game\n",
    "\n",
    "—Platform - platform of the game\n",
    "\n",
    "—Year_of_Release - the year the game was released\n",
    "\n",
    "—Genre - the genre ofthe game\n",
    "\n",
    "—NA_sales (North American sales in USD million)\n",
    "\n",
    "—EU_sales (sales in Europe in USD million)\n",
    "\n",
    "—JP_sales (sales in Japan in USD million)\n",
    "\n",
    "—Other_sales (sales in other countries in USD million)\n",
    "\n",
    "—Critic_Score (maximum of 100)\n",
    "\n",
    "—User_Score (maximum of 10)\n",
    "\n",
    "—Rating (ESRB)\n",
    "\n",
    "**Regarding the dataset**\n",
    "\n",
    "There are missing values we are able to change or ommit without effecting the dataset.\n",
    "\n",
    "we need to change the type of certain column in order to continue with our analysis. For this part we need to replace specific string values in the columns.\n",
    "\n"
   ]
  },
  {
   "cell_type": "markdown",
   "metadata": {},
   "source": [
    "# Step 2 - Preparing the data"
   ]
  },
  {
   "cell_type": "markdown",
   "metadata": {},
   "source": [
    "**In this step we intnend to:**\n",
    "\n",
    "- Replace the column names (make them lowercase).\n",
    "\n",
    "\n",
    "- If necessary we will decide how to deal with missing values.\n",
    "\n",
    "Explain why you filled in the missing values as you did or why you decided to leave them blank.\n",
    "\n",
    "Why do you think the values are missing? Give possible reasons.\n",
    "\n",
    "Pay attention to the abbreviation TBD (to be determined). Specify how you intend to handle such cases.\n",
    "\n",
    "- Convert the data to the required types, describe the columns where the data types have been changed and why.\n",
    "\n",
    "- Calculate the total sales (the sum of sales in all regions) for each game and put these values in a separate column."
   ]
  },
  {
   "cell_type": "markdown",
   "metadata": {},
   "source": [
    "----------------------"
   ]
  },
  {
   "cell_type": "markdown",
   "metadata": {},
   "source": [
    "- Replace the column names (make them lowercase):"
   ]
  },
  {
   "cell_type": "code",
   "execution_count": 4,
   "metadata": {
    "scrolled": false
   },
   "outputs": [
    {
     "data": {
      "text/html": [
       "<div>\n",
       "<style scoped>\n",
       "    .dataframe tbody tr th:only-of-type {\n",
       "        vertical-align: middle;\n",
       "    }\n",
       "\n",
       "    .dataframe tbody tr th {\n",
       "        vertical-align: top;\n",
       "    }\n",
       "\n",
       "    .dataframe thead th {\n",
       "        text-align: right;\n",
       "    }\n",
       "</style>\n",
       "<table border=\"1\" class=\"dataframe\">\n",
       "  <thead>\n",
       "    <tr style=\"text-align: right;\">\n",
       "      <th></th>\n",
       "      <th>name</th>\n",
       "      <th>platform</th>\n",
       "      <th>year_of_release</th>\n",
       "      <th>genre</th>\n",
       "      <th>na_sales</th>\n",
       "      <th>eu_sales</th>\n",
       "      <th>jp_sales</th>\n",
       "      <th>other_sales</th>\n",
       "      <th>critic_score</th>\n",
       "      <th>user_score</th>\n",
       "      <th>rating</th>\n",
       "    </tr>\n",
       "  </thead>\n",
       "  <tbody>\n",
       "    <tr>\n",
       "      <th>0</th>\n",
       "      <td>Wii Sports</td>\n",
       "      <td>Wii</td>\n",
       "      <td>2006.0</td>\n",
       "      <td>Sports</td>\n",
       "      <td>41.36</td>\n",
       "      <td>28.96</td>\n",
       "      <td>3.77</td>\n",
       "      <td>8.45</td>\n",
       "      <td>76.0</td>\n",
       "      <td>8</td>\n",
       "      <td>E</td>\n",
       "    </tr>\n",
       "    <tr>\n",
       "      <th>1</th>\n",
       "      <td>Super Mario Bros.</td>\n",
       "      <td>NES</td>\n",
       "      <td>1985.0</td>\n",
       "      <td>Platform</td>\n",
       "      <td>29.08</td>\n",
       "      <td>3.58</td>\n",
       "      <td>6.81</td>\n",
       "      <td>0.77</td>\n",
       "      <td>NaN</td>\n",
       "      <td>NaN</td>\n",
       "      <td>NaN</td>\n",
       "    </tr>\n",
       "    <tr>\n",
       "      <th>2</th>\n",
       "      <td>Mario Kart Wii</td>\n",
       "      <td>Wii</td>\n",
       "      <td>2008.0</td>\n",
       "      <td>Racing</td>\n",
       "      <td>15.68</td>\n",
       "      <td>12.76</td>\n",
       "      <td>3.79</td>\n",
       "      <td>3.29</td>\n",
       "      <td>82.0</td>\n",
       "      <td>8.3</td>\n",
       "      <td>E</td>\n",
       "    </tr>\n",
       "    <tr>\n",
       "      <th>3</th>\n",
       "      <td>Wii Sports Resort</td>\n",
       "      <td>Wii</td>\n",
       "      <td>2009.0</td>\n",
       "      <td>Sports</td>\n",
       "      <td>15.61</td>\n",
       "      <td>10.93</td>\n",
       "      <td>3.28</td>\n",
       "      <td>2.95</td>\n",
       "      <td>80.0</td>\n",
       "      <td>8</td>\n",
       "      <td>E</td>\n",
       "    </tr>\n",
       "    <tr>\n",
       "      <th>4</th>\n",
       "      <td>Pokemon Red/Pokemon Blue</td>\n",
       "      <td>GB</td>\n",
       "      <td>1996.0</td>\n",
       "      <td>Role-Playing</td>\n",
       "      <td>11.27</td>\n",
       "      <td>8.89</td>\n",
       "      <td>10.22</td>\n",
       "      <td>1.00</td>\n",
       "      <td>NaN</td>\n",
       "      <td>NaN</td>\n",
       "      <td>NaN</td>\n",
       "    </tr>\n",
       "  </tbody>\n",
       "</table>\n",
       "</div>"
      ],
      "text/plain": [
       "                       name platform  year_of_release         genre  na_sales  \\\n",
       "0                Wii Sports      Wii           2006.0        Sports     41.36   \n",
       "1         Super Mario Bros.      NES           1985.0      Platform     29.08   \n",
       "2            Mario Kart Wii      Wii           2008.0        Racing     15.68   \n",
       "3         Wii Sports Resort      Wii           2009.0        Sports     15.61   \n",
       "4  Pokemon Red/Pokemon Blue       GB           1996.0  Role-Playing     11.27   \n",
       "\n",
       "   eu_sales  jp_sales  other_sales  critic_score user_score rating  \n",
       "0     28.96      3.77         8.45          76.0          8      E  \n",
       "1      3.58      6.81         0.77           NaN        NaN    NaN  \n",
       "2     12.76      3.79         3.29          82.0        8.3      E  \n",
       "3     10.93      3.28         2.95          80.0          8      E  \n",
       "4      8.89     10.22         1.00           NaN        NaN    NaN  "
      ]
     },
     "execution_count": 4,
     "metadata": {},
     "output_type": "execute_result"
    }
   ],
   "source": [
    "data.columns = data.columns.str.lower()\n",
    "\n",
    "data.head()"
   ]
  },
  {
   "cell_type": "markdown",
   "metadata": {},
   "source": [
    "-------------------"
   ]
  },
  {
   "cell_type": "markdown",
   "metadata": {},
   "source": [
    "- Now we will see with how much missing values we are deling with:"
   ]
  },
  {
   "cell_type": "code",
   "execution_count": 5,
   "metadata": {
    "scrolled": true
   },
   "outputs": [
    {
     "data": {
      "text/plain": [
       "name                  2\n",
       "platform              0\n",
       "year_of_release     269\n",
       "genre                 2\n",
       "na_sales              0\n",
       "eu_sales              0\n",
       "jp_sales              0\n",
       "other_sales           0\n",
       "critic_score       8578\n",
       "user_score         6701\n",
       "rating             6766\n",
       "dtype: int64"
      ]
     },
     "execution_count": 5,
     "metadata": {},
     "output_type": "execute_result"
    }
   ],
   "source": [
    "data.isnull().sum()"
   ]
  },
  {
   "cell_type": "markdown",
   "metadata": {},
   "source": [
    "we have the same amount of missing values in [name] and [genre], if there missing symmetrically we can ommit them as we cant restore any of them both."
   ]
  },
  {
   "cell_type": "code",
   "execution_count": 6,
   "metadata": {
    "scrolled": true
   },
   "outputs": [
    {
     "data": {
      "text/html": [
       "<div>\n",
       "<style scoped>\n",
       "    .dataframe tbody tr th:only-of-type {\n",
       "        vertical-align: middle;\n",
       "    }\n",
       "\n",
       "    .dataframe tbody tr th {\n",
       "        vertical-align: top;\n",
       "    }\n",
       "\n",
       "    .dataframe thead th {\n",
       "        text-align: right;\n",
       "    }\n",
       "</style>\n",
       "<table border=\"1\" class=\"dataframe\">\n",
       "  <thead>\n",
       "    <tr style=\"text-align: right;\">\n",
       "      <th></th>\n",
       "      <th>name</th>\n",
       "      <th>platform</th>\n",
       "      <th>year_of_release</th>\n",
       "      <th>genre</th>\n",
       "      <th>na_sales</th>\n",
       "      <th>eu_sales</th>\n",
       "      <th>jp_sales</th>\n",
       "      <th>other_sales</th>\n",
       "      <th>critic_score</th>\n",
       "      <th>user_score</th>\n",
       "      <th>rating</th>\n",
       "    </tr>\n",
       "  </thead>\n",
       "  <tbody>\n",
       "    <tr>\n",
       "      <th>659</th>\n",
       "      <td>NaN</td>\n",
       "      <td>GEN</td>\n",
       "      <td>1993.0</td>\n",
       "      <td>NaN</td>\n",
       "      <td>1.78</td>\n",
       "      <td>0.53</td>\n",
       "      <td>0.00</td>\n",
       "      <td>0.08</td>\n",
       "      <td>NaN</td>\n",
       "      <td>NaN</td>\n",
       "      <td>NaN</td>\n",
       "    </tr>\n",
       "    <tr>\n",
       "      <th>14244</th>\n",
       "      <td>NaN</td>\n",
       "      <td>GEN</td>\n",
       "      <td>1993.0</td>\n",
       "      <td>NaN</td>\n",
       "      <td>0.00</td>\n",
       "      <td>0.00</td>\n",
       "      <td>0.03</td>\n",
       "      <td>0.00</td>\n",
       "      <td>NaN</td>\n",
       "      <td>NaN</td>\n",
       "      <td>NaN</td>\n",
       "    </tr>\n",
       "  </tbody>\n",
       "</table>\n",
       "</div>"
      ],
      "text/plain": [
       "      name platform  year_of_release genre  na_sales  eu_sales  jp_sales  \\\n",
       "659    NaN      GEN           1993.0   NaN      1.78      0.53      0.00   \n",
       "14244  NaN      GEN           1993.0   NaN      0.00      0.00      0.03   \n",
       "\n",
       "       other_sales  critic_score user_score rating  \n",
       "659           0.08           NaN        NaN    NaN  \n",
       "14244         0.00           NaN        NaN    NaN  "
      ]
     },
     "execution_count": 6,
     "metadata": {},
     "output_type": "execute_result"
    }
   ],
   "source": [
    "data[data['name'].isnull() | data['genre'].isnull()]"
   ]
  },
  {
   "cell_type": "markdown",
   "metadata": {},
   "source": [
    "they values are the same so we can remove them without affecting the dataset at all. "
   ]
  },
  {
   "cell_type": "code",
   "execution_count": 7,
   "metadata": {},
   "outputs": [],
   "source": [
    "data.drop(labels=[659, 14244], inplace=True)"
   ]
  },
  {
   "cell_type": "code",
   "execution_count": 8,
   "metadata": {
    "scrolled": true
   },
   "outputs": [
    {
     "data": {
      "text/plain": [
       "name                  0\n",
       "platform              0\n",
       "year_of_release     269\n",
       "genre                 0\n",
       "na_sales              0\n",
       "eu_sales              0\n",
       "jp_sales              0\n",
       "other_sales           0\n",
       "critic_score       8576\n",
       "user_score         6699\n",
       "rating             6764\n",
       "dtype: int64"
      ]
     },
     "execution_count": 8,
     "metadata": {},
     "output_type": "execute_result"
    }
   ],
   "source": [
    "data.isnull().sum()"
   ]
  },
  {
   "cell_type": "markdown",
   "metadata": {},
   "source": [
    "-now we are left with missing values in [year_of_release] , [critic score] , [user score] and [rating].\n",
    "\n",
    "We cant change values to 0 or mean/median in [critic score] , [user score] and [rating] as we cant really determine such parameters. So we have to leave them as they are.\n",
    "\n",
    "However, missing values in [year_of_release] seems to be small if compared to the other column that contain missing values and we can remove those values without largely affecting the dataset.   "
   ]
  },
  {
   "cell_type": "code",
   "execution_count": 9,
   "metadata": {},
   "outputs": [],
   "source": [
    "data = data[data['year_of_release'].notna()]"
   ]
  },
  {
   "cell_type": "code",
   "execution_count": 10,
   "metadata": {
    "scrolled": true
   },
   "outputs": [
    {
     "data": {
      "text/plain": [
       "name                  0\n",
       "platform              0\n",
       "year_of_release       0\n",
       "genre                 0\n",
       "na_sales              0\n",
       "eu_sales              0\n",
       "jp_sales              0\n",
       "other_sales           0\n",
       "critic_score       8461\n",
       "user_score         6605\n",
       "rating             6676\n",
       "dtype: int64"
      ]
     },
     "execution_count": 10,
     "metadata": {},
     "output_type": "execute_result"
    }
   ],
   "source": [
    "data.isnull().sum()"
   ]
  },
  {
   "cell_type": "markdown",
   "metadata": {},
   "source": [
    "- Dealing with TBD values in [user_score]:"
   ]
  },
  {
   "cell_type": "markdown",
   "metadata": {},
   "source": [
    "we need to pay attention to the abbreviation TBD (to be determined). This values can indicate a pettern or tell us something about the data. we will check their distribution throught the eyars."
   ]
  },
  {
   "cell_type": "code",
   "execution_count": 11,
   "metadata": {},
   "outputs": [
    {
     "data": {
      "text/plain": [
       "2009.0    405\n",
       "2010.0    331\n",
       "2008.0    326\n",
       "2011.0    217\n",
       "2007.0    192\n",
       "2002.0    192\n",
       "2006.0    124\n",
       "2005.0    121\n",
       "2004.0    107\n",
       "2003.0     95\n",
       "2001.0     82\n",
       "2000.0     43\n",
       "2015.0     38\n",
       "2016.0     34\n",
       "2012.0     24\n",
       "2014.0     21\n",
       "2013.0     15\n",
       "1999.0      8\n",
       "1997.0      1\n",
       "Name: year_of_release, dtype: int64"
      ]
     },
     "execution_count": 11,
     "metadata": {},
     "output_type": "execute_result"
    }
   ],
   "source": [
    "data[data.user_score =='tbd']['year_of_release'].value_counts()\n"
   ]
  },
  {
   "cell_type": "markdown",
   "metadata": {},
   "source": [
    "we see here that we have this value in many differet years so it doesnt indicate any pattern and Such values are besically the same as null values so we can removoe them or change them to null values in order to mske our data less complex and more flexible."
   ]
  },
  {
   "cell_type": "code",
   "execution_count": 12,
   "metadata": {
    "scrolled": true
   },
   "outputs": [
    {
     "data": {
      "text/plain": [
       "8981"
      ]
     },
     "execution_count": 12,
     "metadata": {},
     "output_type": "execute_result"
    }
   ],
   "source": [
    "data.loc[data['user_score'] =='tbd', 'user_score'] = np.nan\n",
    "data['user_score'].isnull().sum()"
   ]
  },
  {
   "cell_type": "markdown",
   "metadata": {},
   "source": [
    "--------------------"
   ]
  },
  {
   "cell_type": "markdown",
   "metadata": {},
   "source": [
    "- lets check for zero value in the data columns:"
   ]
  },
  {
   "cell_type": "code",
   "execution_count": 13,
   "metadata": {},
   "outputs": [],
   "source": [
    "def zero(data):\n",
    "    for row in data:\n",
    "        print(row,len(data[data[row]== 0]))"
   ]
  },
  {
   "cell_type": "code",
   "execution_count": 14,
   "metadata": {
    "scrolled": true
   },
   "outputs": [
    {
     "name": "stdout",
     "output_type": "stream",
     "text": [
      "name 0\n",
      "platform 0\n",
      "year_of_release 0\n",
      "genre 0\n",
      "na_sales 4449\n",
      "eu_sales 5766\n",
      "jp_sales 10300\n",
      "other_sales 6492\n",
      "critic_score 0\n",
      "user_score 0\n",
      "rating 0\n"
     ]
    }
   ],
   "source": [
    "zero(data)"
   ]
  },
  {
   "cell_type": "markdown",
   "metadata": {},
   "source": [
    "-the only zero values in the data are in the sales columns. This is logical because we can expect that certain games or platforms arent avalible worldwide."
   ]
  },
  {
   "cell_type": "markdown",
   "metadata": {},
   "source": [
    "-----------------------"
   ]
  },
  {
   "cell_type": "code",
   "execution_count": 15,
   "metadata": {
    "scrolled": true
   },
   "outputs": [
    {
     "data": {
      "text/plain": [
       "0"
      ]
     },
     "execution_count": 15,
     "metadata": {},
     "output_type": "execute_result"
    }
   ],
   "source": [
    "data['year_of_release'].fillna(value=0)\n",
    "\n",
    "data['year_of_release'].isnull().sum()\n"
   ]
  },
  {
   "cell_type": "markdown",
   "metadata": {},
   "source": [
    "**Missing values summary**\n",
    "\n",
    "This is the dataset we are left with after dealing with missing values. the only missin values we allow to stay are rateing related as we cant replace them with other values because we dont have the additional information for such desicions."
   ]
  },
  {
   "cell_type": "code",
   "execution_count": 16,
   "metadata": {},
   "outputs": [
    {
     "name": "stdout",
     "output_type": "stream",
     "text": [
      "<class 'pandas.core.frame.DataFrame'>\n",
      "Int64Index: 16444 entries, 0 to 16714\n",
      "Data columns (total 11 columns):\n",
      " #   Column           Non-Null Count  Dtype  \n",
      "---  ------           --------------  -----  \n",
      " 0   name             16444 non-null  object \n",
      " 1   platform         16444 non-null  object \n",
      " 2   year_of_release  16444 non-null  float64\n",
      " 3   genre            16444 non-null  object \n",
      " 4   na_sales         16444 non-null  float64\n",
      " 5   eu_sales         16444 non-null  float64\n",
      " 6   jp_sales         16444 non-null  float64\n",
      " 7   other_sales      16444 non-null  float64\n",
      " 8   critic_score     7983 non-null   float64\n",
      " 9   user_score       7463 non-null   object \n",
      " 10  rating           9768 non-null   object \n",
      "dtypes: float64(6), object(5)\n",
      "memory usage: 1.5+ MB\n"
     ]
    }
   ],
   "source": [
    "data.info()"
   ]
  },
  {
   "cell_type": "markdown",
   "metadata": {},
   "source": [
    "-------------------"
   ]
  },
  {
   "cell_type": "markdown",
   "metadata": {},
   "source": [
    "- Convert the data to the required types:\n",
    "\n",
    "We need to change [year_of_release] column to datetime type."
   ]
  },
  {
   "cell_type": "code",
   "execution_count": 17,
   "metadata": {
    "scrolled": false
   },
   "outputs": [
    {
     "data": {
      "text/plain": [
       "0        2006\n",
       "1        1985\n",
       "2        2008\n",
       "3        2009\n",
       "4        1996\n",
       "         ... \n",
       "16710    2016\n",
       "16711    2006\n",
       "16712    2016\n",
       "16713    2003\n",
       "16714    2016\n",
       "Name: year_of_release, Length: 16444, dtype: int64"
      ]
     },
     "execution_count": 17,
     "metadata": {},
     "output_type": "execute_result"
    }
   ],
   "source": [
    "data['year_of_release'] = pd.to_datetime(data['year_of_release'], format='%Y')\n",
    "data['year_of_release'] = data['year_of_release'].dt.year\n",
    "\n",
    "data['year_of_release']"
   ]
  },
  {
   "cell_type": "markdown",
   "metadata": {},
   "source": [
    "we need to change [user_score] column to a float type"
   ]
  },
  {
   "cell_type": "code",
   "execution_count": 18,
   "metadata": {
    "scrolled": true
   },
   "outputs": [
    {
     "data": {
      "text/plain": [
       "8981"
      ]
     },
     "execution_count": 18,
     "metadata": {},
     "output_type": "execute_result"
    }
   ],
   "source": [
    "data['user_score'] = data['user_score'].astype('float')\n",
    "data['user_score'].isnull().sum()"
   ]
  },
  {
   "cell_type": "markdown",
   "metadata": {},
   "source": [
    "Here we changed the NaN value in the [rating] column to 'unknown'."
   ]
  },
  {
   "cell_type": "code",
   "execution_count": 19,
   "metadata": {},
   "outputs": [
    {
     "data": {
      "text/plain": [
       "6676"
      ]
     },
     "execution_count": 19,
     "metadata": {},
     "output_type": "execute_result"
    }
   ],
   "source": [
    "data['rating'].isnull().sum()"
   ]
  },
  {
   "cell_type": "code",
   "execution_count": 20,
   "metadata": {},
   "outputs": [],
   "source": [
    "data['rating']=data['rating'].fillna(value='unknown')"
   ]
  },
  {
   "cell_type": "code",
   "execution_count": 21,
   "metadata": {},
   "outputs": [
    {
     "data": {
      "text/plain": [
       "16444"
      ]
     },
     "execution_count": 21,
     "metadata": {},
     "output_type": "execute_result"
    }
   ],
   "source": [
    "data['rating'].value_counts().sum()"
   ]
  },
  {
   "cell_type": "markdown",
   "metadata": {},
   "source": [
    "------------------------"
   ]
  },
  {
   "cell_type": "markdown",
   "metadata": {},
   "source": [
    "- Calculate the total sales (the sum of sales in all regions) for each game and put these values in a separate column.\n",
    "\n",
    "we need to create a new column with the total value of sales for each game"
   ]
  },
  {
   "cell_type": "code",
   "execution_count": 22,
   "metadata": {},
   "outputs": [
    {
     "data": {
      "text/html": [
       "<div>\n",
       "<style scoped>\n",
       "    .dataframe tbody tr th:only-of-type {\n",
       "        vertical-align: middle;\n",
       "    }\n",
       "\n",
       "    .dataframe tbody tr th {\n",
       "        vertical-align: top;\n",
       "    }\n",
       "\n",
       "    .dataframe thead th {\n",
       "        text-align: right;\n",
       "    }\n",
       "</style>\n",
       "<table border=\"1\" class=\"dataframe\">\n",
       "  <thead>\n",
       "    <tr style=\"text-align: right;\">\n",
       "      <th></th>\n",
       "      <th>name</th>\n",
       "      <th>platform</th>\n",
       "      <th>year_of_release</th>\n",
       "      <th>genre</th>\n",
       "      <th>na_sales</th>\n",
       "      <th>eu_sales</th>\n",
       "      <th>jp_sales</th>\n",
       "      <th>other_sales</th>\n",
       "      <th>critic_score</th>\n",
       "      <th>user_score</th>\n",
       "      <th>rating</th>\n",
       "      <th>total_sales</th>\n",
       "    </tr>\n",
       "  </thead>\n",
       "  <tbody>\n",
       "    <tr>\n",
       "      <th>0</th>\n",
       "      <td>Wii Sports</td>\n",
       "      <td>Wii</td>\n",
       "      <td>2006</td>\n",
       "      <td>Sports</td>\n",
       "      <td>41.36</td>\n",
       "      <td>28.96</td>\n",
       "      <td>3.77</td>\n",
       "      <td>8.45</td>\n",
       "      <td>76.0</td>\n",
       "      <td>8.0</td>\n",
       "      <td>E</td>\n",
       "      <td>82.54</td>\n",
       "    </tr>\n",
       "    <tr>\n",
       "      <th>1</th>\n",
       "      <td>Super Mario Bros.</td>\n",
       "      <td>NES</td>\n",
       "      <td>1985</td>\n",
       "      <td>Platform</td>\n",
       "      <td>29.08</td>\n",
       "      <td>3.58</td>\n",
       "      <td>6.81</td>\n",
       "      <td>0.77</td>\n",
       "      <td>NaN</td>\n",
       "      <td>NaN</td>\n",
       "      <td>unknown</td>\n",
       "      <td>40.24</td>\n",
       "    </tr>\n",
       "    <tr>\n",
       "      <th>2</th>\n",
       "      <td>Mario Kart Wii</td>\n",
       "      <td>Wii</td>\n",
       "      <td>2008</td>\n",
       "      <td>Racing</td>\n",
       "      <td>15.68</td>\n",
       "      <td>12.76</td>\n",
       "      <td>3.79</td>\n",
       "      <td>3.29</td>\n",
       "      <td>82.0</td>\n",
       "      <td>8.3</td>\n",
       "      <td>E</td>\n",
       "      <td>35.52</td>\n",
       "    </tr>\n",
       "    <tr>\n",
       "      <th>3</th>\n",
       "      <td>Wii Sports Resort</td>\n",
       "      <td>Wii</td>\n",
       "      <td>2009</td>\n",
       "      <td>Sports</td>\n",
       "      <td>15.61</td>\n",
       "      <td>10.93</td>\n",
       "      <td>3.28</td>\n",
       "      <td>2.95</td>\n",
       "      <td>80.0</td>\n",
       "      <td>8.0</td>\n",
       "      <td>E</td>\n",
       "      <td>32.77</td>\n",
       "    </tr>\n",
       "    <tr>\n",
       "      <th>4</th>\n",
       "      <td>Pokemon Red/Pokemon Blue</td>\n",
       "      <td>GB</td>\n",
       "      <td>1996</td>\n",
       "      <td>Role-Playing</td>\n",
       "      <td>11.27</td>\n",
       "      <td>8.89</td>\n",
       "      <td>10.22</td>\n",
       "      <td>1.00</td>\n",
       "      <td>NaN</td>\n",
       "      <td>NaN</td>\n",
       "      <td>unknown</td>\n",
       "      <td>31.38</td>\n",
       "    </tr>\n",
       "  </tbody>\n",
       "</table>\n",
       "</div>"
      ],
      "text/plain": [
       "                       name platform  year_of_release         genre  na_sales  \\\n",
       "0                Wii Sports      Wii             2006        Sports     41.36   \n",
       "1         Super Mario Bros.      NES             1985      Platform     29.08   \n",
       "2            Mario Kart Wii      Wii             2008        Racing     15.68   \n",
       "3         Wii Sports Resort      Wii             2009        Sports     15.61   \n",
       "4  Pokemon Red/Pokemon Blue       GB             1996  Role-Playing     11.27   \n",
       "\n",
       "   eu_sales  jp_sales  other_sales  critic_score  user_score   rating  \\\n",
       "0     28.96      3.77         8.45          76.0         8.0        E   \n",
       "1      3.58      6.81         0.77           NaN         NaN  unknown   \n",
       "2     12.76      3.79         3.29          82.0         8.3        E   \n",
       "3     10.93      3.28         2.95          80.0         8.0        E   \n",
       "4      8.89     10.22         1.00           NaN         NaN  unknown   \n",
       "\n",
       "   total_sales  \n",
       "0        82.54  \n",
       "1        40.24  \n",
       "2        35.52  \n",
       "3        32.77  \n",
       "4        31.38  "
      ]
     },
     "execution_count": 22,
     "metadata": {},
     "output_type": "execute_result"
    }
   ],
   "source": [
    "data['total_sales']=data[['na_sales','eu_sales','jp_sales','other_sales']].sum(axis=1)\n",
    "data.head()"
   ]
  },
  {
   "cell_type": "markdown",
   "metadata": {},
   "source": [
    "**step overview**\n",
    "\n",
    "In this step we: \n",
    "\n",
    "Replaced the column names (make them lowercase).\n",
    "\n",
    "dealt with missing values in the columns [name],[genre] and [year_of_release].\n",
    "we didnt change or ommit any missing values in the score column because of their large amount and our innability to replace the missing values.\n",
    "\n",
    "We changed the TBD value to NaN in the columns [year_of_release] and [user_score] in order to remove all the string from those columns and change the types of the columns.\n",
    "\n",
    "We cteated a new column that calculates the total sales of each game, we called it [total_sales].\n"
   ]
  },
  {
   "cell_type": "markdown",
   "metadata": {},
   "source": [
    "# Step 3 - Analyze the data"
   ]
  },
  {
   "cell_type": "markdown",
   "metadata": {},
   "source": [
    "**In this step we intnend to:**\n",
    "\n",
    "- Look at how many games were released in different years. Is the data for every period significant?\n",
    "\n",
    "\n",
    "- Look at how sales varied from platform to platform. Choose the platforms with the greatest total sales and build a distribution based on data for each year. Find platforms that used to be popular but now have zero sales. How long does it generally take for new platforms to appear and old ones to fade?\n",
    "\n",
    "- Determine what period you should take data for. To do so, look at your answers to the previous questions. The data should allow you to build a prognosis for 2017.\n",
    "\n",
    "Work only with the data that you've decided is relevant. Disregard the data for previous years.\n",
    "Which platforms are leading in sales? Which ones are growing or shrinking? Select several potentially profitable platforms.\n",
    "\n",
    "- Build a box plot for the global sales of all games, broken down by platform. Are the differences in sales significant? What about average sales on various platforms? Describe your findings.\n",
    "\n",
    "- Take a look at how user and professional reviews affect sales for one popular platform (you choose). Build a scatter plot and calculate the correlation between reviews and sales. Draw conclusions.\n",
    "\n",
    "Keeping your conclusions in mind, compare the sales of the same games on other platforms\n",
    "\n",
    "- Take a look at the general distribution of games by genre. What can we say about the most profitable genres? Can you generalize about genres with high and low sales?"
   ]
  },
  {
   "cell_type": "markdown",
   "metadata": {},
   "source": [
    "------------------------"
   ]
  },
  {
   "cell_type": "markdown",
   "metadata": {},
   "source": [
    "- Look at how many games were released in different years. Is the data for every period significant?"
   ]
  },
  {
   "cell_type": "code",
   "execution_count": 23,
   "metadata": {
    "scrolled": false
   },
   "outputs": [
    {
     "data": {
      "text/html": [
       "<div>\n",
       "<style scoped>\n",
       "    .dataframe tbody tr th:only-of-type {\n",
       "        vertical-align: middle;\n",
       "    }\n",
       "\n",
       "    .dataframe tbody tr th {\n",
       "        vertical-align: top;\n",
       "    }\n",
       "\n",
       "    .dataframe thead th {\n",
       "        text-align: right;\n",
       "    }\n",
       "</style>\n",
       "<table border=\"1\" class=\"dataframe\">\n",
       "  <thead>\n",
       "    <tr style=\"text-align: right;\">\n",
       "      <th></th>\n",
       "      <th>year_of_release</th>\n",
       "      <th>name</th>\n",
       "    </tr>\n",
       "  </thead>\n",
       "  <tbody>\n",
       "    <tr>\n",
       "      <th>0</th>\n",
       "      <td>2016</td>\n",
       "      <td>502</td>\n",
       "    </tr>\n",
       "    <tr>\n",
       "      <th>1</th>\n",
       "      <td>2015</td>\n",
       "      <td>606</td>\n",
       "    </tr>\n",
       "    <tr>\n",
       "      <th>2</th>\n",
       "      <td>2014</td>\n",
       "      <td>581</td>\n",
       "    </tr>\n",
       "    <tr>\n",
       "      <th>3</th>\n",
       "      <td>2013</td>\n",
       "      <td>544</td>\n",
       "    </tr>\n",
       "    <tr>\n",
       "      <th>4</th>\n",
       "      <td>2012</td>\n",
       "      <td>653</td>\n",
       "    </tr>\n",
       "    <tr>\n",
       "      <th>5</th>\n",
       "      <td>2011</td>\n",
       "      <td>1136</td>\n",
       "    </tr>\n",
       "    <tr>\n",
       "      <th>6</th>\n",
       "      <td>2010</td>\n",
       "      <td>1255</td>\n",
       "    </tr>\n",
       "    <tr>\n",
       "      <th>7</th>\n",
       "      <td>2009</td>\n",
       "      <td>1426</td>\n",
       "    </tr>\n",
       "    <tr>\n",
       "      <th>8</th>\n",
       "      <td>2008</td>\n",
       "      <td>1427</td>\n",
       "    </tr>\n",
       "    <tr>\n",
       "      <th>9</th>\n",
       "      <td>2007</td>\n",
       "      <td>1197</td>\n",
       "    </tr>\n",
       "    <tr>\n",
       "      <th>10</th>\n",
       "      <td>2006</td>\n",
       "      <td>1006</td>\n",
       "    </tr>\n",
       "    <tr>\n",
       "      <th>11</th>\n",
       "      <td>2005</td>\n",
       "      <td>939</td>\n",
       "    </tr>\n",
       "    <tr>\n",
       "      <th>12</th>\n",
       "      <td>2004</td>\n",
       "      <td>762</td>\n",
       "    </tr>\n",
       "    <tr>\n",
       "      <th>13</th>\n",
       "      <td>2003</td>\n",
       "      <td>775</td>\n",
       "    </tr>\n",
       "    <tr>\n",
       "      <th>14</th>\n",
       "      <td>2002</td>\n",
       "      <td>829</td>\n",
       "    </tr>\n",
       "    <tr>\n",
       "      <th>15</th>\n",
       "      <td>2001</td>\n",
       "      <td>482</td>\n",
       "    </tr>\n",
       "    <tr>\n",
       "      <th>16</th>\n",
       "      <td>2000</td>\n",
       "      <td>350</td>\n",
       "    </tr>\n",
       "    <tr>\n",
       "      <th>17</th>\n",
       "      <td>1999</td>\n",
       "      <td>338</td>\n",
       "    </tr>\n",
       "    <tr>\n",
       "      <th>18</th>\n",
       "      <td>1998</td>\n",
       "      <td>379</td>\n",
       "    </tr>\n",
       "    <tr>\n",
       "      <th>19</th>\n",
       "      <td>1997</td>\n",
       "      <td>289</td>\n",
       "    </tr>\n",
       "    <tr>\n",
       "      <th>20</th>\n",
       "      <td>1996</td>\n",
       "      <td>263</td>\n",
       "    </tr>\n",
       "    <tr>\n",
       "      <th>21</th>\n",
       "      <td>1995</td>\n",
       "      <td>219</td>\n",
       "    </tr>\n",
       "    <tr>\n",
       "      <th>22</th>\n",
       "      <td>1994</td>\n",
       "      <td>121</td>\n",
       "    </tr>\n",
       "    <tr>\n",
       "      <th>23</th>\n",
       "      <td>1993</td>\n",
       "      <td>60</td>\n",
       "    </tr>\n",
       "    <tr>\n",
       "      <th>24</th>\n",
       "      <td>1992</td>\n",
       "      <td>43</td>\n",
       "    </tr>\n",
       "    <tr>\n",
       "      <th>25</th>\n",
       "      <td>1991</td>\n",
       "      <td>41</td>\n",
       "    </tr>\n",
       "    <tr>\n",
       "      <th>26</th>\n",
       "      <td>1990</td>\n",
       "      <td>16</td>\n",
       "    </tr>\n",
       "    <tr>\n",
       "      <th>27</th>\n",
       "      <td>1989</td>\n",
       "      <td>17</td>\n",
       "    </tr>\n",
       "    <tr>\n",
       "      <th>28</th>\n",
       "      <td>1988</td>\n",
       "      <td>15</td>\n",
       "    </tr>\n",
       "    <tr>\n",
       "      <th>29</th>\n",
       "      <td>1987</td>\n",
       "      <td>16</td>\n",
       "    </tr>\n",
       "    <tr>\n",
       "      <th>30</th>\n",
       "      <td>1986</td>\n",
       "      <td>21</td>\n",
       "    </tr>\n",
       "    <tr>\n",
       "      <th>31</th>\n",
       "      <td>1985</td>\n",
       "      <td>14</td>\n",
       "    </tr>\n",
       "    <tr>\n",
       "      <th>32</th>\n",
       "      <td>1984</td>\n",
       "      <td>14</td>\n",
       "    </tr>\n",
       "    <tr>\n",
       "      <th>33</th>\n",
       "      <td>1983</td>\n",
       "      <td>17</td>\n",
       "    </tr>\n",
       "    <tr>\n",
       "      <th>34</th>\n",
       "      <td>1982</td>\n",
       "      <td>36</td>\n",
       "    </tr>\n",
       "    <tr>\n",
       "      <th>35</th>\n",
       "      <td>1981</td>\n",
       "      <td>46</td>\n",
       "    </tr>\n",
       "    <tr>\n",
       "      <th>36</th>\n",
       "      <td>1980</td>\n",
       "      <td>9</td>\n",
       "    </tr>\n",
       "  </tbody>\n",
       "</table>\n",
       "</div>"
      ],
      "text/plain": [
       "    year_of_release  name\n",
       "0              2016   502\n",
       "1              2015   606\n",
       "2              2014   581\n",
       "3              2013   544\n",
       "4              2012   653\n",
       "5              2011  1136\n",
       "6              2010  1255\n",
       "7              2009  1426\n",
       "8              2008  1427\n",
       "9              2007  1197\n",
       "10             2006  1006\n",
       "11             2005   939\n",
       "12             2004   762\n",
       "13             2003   775\n",
       "14             2002   829\n",
       "15             2001   482\n",
       "16             2000   350\n",
       "17             1999   338\n",
       "18             1998   379\n",
       "19             1997   289\n",
       "20             1996   263\n",
       "21             1995   219\n",
       "22             1994   121\n",
       "23             1993    60\n",
       "24             1992    43\n",
       "25             1991    41\n",
       "26             1990    16\n",
       "27             1989    17\n",
       "28             1988    15\n",
       "29             1987    16\n",
       "30             1986    21\n",
       "31             1985    14\n",
       "32             1984    14\n",
       "33             1983    17\n",
       "34             1982    36\n",
       "35             1981    46\n",
       "36             1980     9"
      ]
     },
     "execution_count": 23,
     "metadata": {},
     "output_type": "execute_result"
    }
   ],
   "source": [
    "games_per_year = data[['year_of_release','name']].groupby(['year_of_release']).count().sort_values(by='year_of_release',ascending=False).reset_index()\n",
    "games_per_year"
   ]
  },
  {
   "cell_type": "code",
   "execution_count": 24,
   "metadata": {
    "scrolled": true
   },
   "outputs": [
    {
     "data": {
      "image/png": "[encoded data removed]",
      "text/plain": [
       "<Figure size 1440x360 with 1 Axes>"
      ]
     },
     "metadata": {
      "needs_background": "light"
     },
     "output_type": "display_data"
    }
   ],
   "source": [
    "fig, axes = plt.subplots(figsize=(20, 5))\n",
    "axes.set_title(\"Number of released Games throughout the years\", fontdict={'size':15})\n",
    "sns.barplot(data=games_per_year,x='year_of_release',y='name',ax=axes)\n",
    "plt.show()"
   ]
  },
  {
   "cell_type": "code",
   "execution_count": 25,
   "metadata": {},
   "outputs": [
    {
     "data": {
      "image/png": "[encoded data removed]",
      "text/plain": [
       "<Figure size 1224x720 with 1 Axes>"
      ]
     },
     "metadata": {
      "needs_background": "light"
     },
     "output_type": "display_data"
    }
   ],
   "source": [
    "fig,ax=plt.subplots(figsize=(17,10))\n",
    "ax.vlines(x=games_per_year.year_of_release, ymin=0, ymax=games_per_year.name, color='blue', alpha=0.7, linewidth=2)\n",
    "ax.scatter(x=games_per_year.year_of_release,y=games_per_year.name, s=75, color='red',alpha=0.7)\n",
    "ax.set_title(\"Lollypop for Released Games\", fontdict={'size':15})\n",
    "ax.set_ylabel('Number of games')\n",
    "ax.set_xticks(games_per_year.year_of_release)\n",
    "ax.set_xticklabels(games_per_year.year_of_release,rotation=90)\n",
    "ax.axhline(y=300)\n",
    "plt.show()"
   ]
  },
  {
   "cell_type": "markdown",
   "metadata": {},
   "source": [
    "**observations**\n",
    "\n",
    "It seems that in 2008 and 2009 there was the biggest amount of games, 1427 and 1426, that was ever made by 2016.\n",
    " \n",
    " (fallout 3 and GTA IV came out 2008 and are personsal favorites of mine)\n",
    " \n",
    "Data started growing noticably at 1994, before that there were less that annual 100 games and after 1994 that number of games that were released annualy started jumping and at times doubling themselves each year.\n",
    " \n",
    "After 2008, there was a declining trend of game releases per year that stabilized beetween 500-600 games in the last years of 2013 to 2016. "
   ]
  },
  {
   "cell_type": "markdown",
   "metadata": {},
   "source": [
    "------------------------"
   ]
  },
  {
   "cell_type": "markdown",
   "metadata": {},
   "source": [
    "**plan**\n",
    "- Look at how sales varied from platform to platform.\n",
    "- Choose the platforms with the greatest total sales and build a distribution based on data for each year.\n",
    "- Find platforms that used to be popular but now have zero sales.\n",
    "- How long does it generally take for new platforms to appear and old ones to fade?"
   ]
  },
  {
   "cell_type": "code",
   "execution_count": 26,
   "metadata": {},
   "outputs": [
    {
     "data": {
      "text/html": [
       "<div>\n",
       "<style scoped>\n",
       "    .dataframe tbody tr th:only-of-type {\n",
       "        vertical-align: middle;\n",
       "    }\n",
       "\n",
       "    .dataframe tbody tr th {\n",
       "        vertical-align: top;\n",
       "    }\n",
       "\n",
       "    .dataframe thead th {\n",
       "        text-align: right;\n",
       "    }\n",
       "</style>\n",
       "<table border=\"1\" class=\"dataframe\">\n",
       "  <thead>\n",
       "    <tr style=\"text-align: right;\">\n",
       "      <th></th>\n",
       "      <th>platform</th>\n",
       "      <th>total_sales</th>\n",
       "    </tr>\n",
       "  </thead>\n",
       "  <tbody>\n",
       "    <tr>\n",
       "      <th>0</th>\n",
       "      <td>PCFX</td>\n",
       "      <td>0.03</td>\n",
       "    </tr>\n",
       "    <tr>\n",
       "      <th>1</th>\n",
       "      <td>GG</td>\n",
       "      <td>0.04</td>\n",
       "    </tr>\n",
       "    <tr>\n",
       "      <th>2</th>\n",
       "      <td>3DO</td>\n",
       "      <td>0.10</td>\n",
       "    </tr>\n",
       "    <tr>\n",
       "      <th>3</th>\n",
       "      <td>TG16</td>\n",
       "      <td>0.16</td>\n",
       "    </tr>\n",
       "    <tr>\n",
       "      <th>4</th>\n",
       "      <td>WS</td>\n",
       "      <td>1.42</td>\n",
       "    </tr>\n",
       "    <tr>\n",
       "      <th>5</th>\n",
       "      <td>NG</td>\n",
       "      <td>1.44</td>\n",
       "    </tr>\n",
       "    <tr>\n",
       "      <th>6</th>\n",
       "      <td>SCD</td>\n",
       "      <td>1.86</td>\n",
       "    </tr>\n",
       "    <tr>\n",
       "      <th>7</th>\n",
       "      <td>DC</td>\n",
       "      <td>15.95</td>\n",
       "    </tr>\n",
       "    <tr>\n",
       "      <th>8</th>\n",
       "      <td>GEN</td>\n",
       "      <td>28.35</td>\n",
       "    </tr>\n",
       "    <tr>\n",
       "      <th>9</th>\n",
       "      <td>SAT</td>\n",
       "      <td>33.59</td>\n",
       "    </tr>\n",
       "    <tr>\n",
       "      <th>10</th>\n",
       "      <td>PSV</td>\n",
       "      <td>53.81</td>\n",
       "    </tr>\n",
       "    <tr>\n",
       "      <th>11</th>\n",
       "      <td>WiiU</td>\n",
       "      <td>82.19</td>\n",
       "    </tr>\n",
       "    <tr>\n",
       "      <th>12</th>\n",
       "      <td>2600</td>\n",
       "      <td>86.48</td>\n",
       "    </tr>\n",
       "    <tr>\n",
       "      <th>13</th>\n",
       "      <td>XOne</td>\n",
       "      <td>159.32</td>\n",
       "    </tr>\n",
       "    <tr>\n",
       "      <th>14</th>\n",
       "      <td>GC</td>\n",
       "      <td>196.73</td>\n",
       "    </tr>\n",
       "    <tr>\n",
       "      <th>15</th>\n",
       "      <td>SNES</td>\n",
       "      <td>200.04</td>\n",
       "    </tr>\n",
       "    <tr>\n",
       "      <th>16</th>\n",
       "      <td>N64</td>\n",
       "      <td>218.01</td>\n",
       "    </tr>\n",
       "    <tr>\n",
       "      <th>17</th>\n",
       "      <td>NES</td>\n",
       "      <td>251.05</td>\n",
       "    </tr>\n",
       "    <tr>\n",
       "      <th>18</th>\n",
       "      <td>XB</td>\n",
       "      <td>251.57</td>\n",
       "    </tr>\n",
       "    <tr>\n",
       "      <th>19</th>\n",
       "      <td>GB</td>\n",
       "      <td>254.43</td>\n",
       "    </tr>\n",
       "    <tr>\n",
       "      <th>20</th>\n",
       "      <td>PC</td>\n",
       "      <td>255.76</td>\n",
       "    </tr>\n",
       "    <tr>\n",
       "      <th>21</th>\n",
       "      <td>3DS</td>\n",
       "      <td>257.81</td>\n",
       "    </tr>\n",
       "    <tr>\n",
       "      <th>22</th>\n",
       "      <td>PSP</td>\n",
       "      <td>289.53</td>\n",
       "    </tr>\n",
       "    <tr>\n",
       "      <th>23</th>\n",
       "      <td>GBA</td>\n",
       "      <td>312.88</td>\n",
       "    </tr>\n",
       "    <tr>\n",
       "      <th>24</th>\n",
       "      <td>PS4</td>\n",
       "      <td>314.14</td>\n",
       "    </tr>\n",
       "    <tr>\n",
       "      <th>25</th>\n",
       "      <td>PS</td>\n",
       "      <td>727.58</td>\n",
       "    </tr>\n",
       "    <tr>\n",
       "      <th>26</th>\n",
       "      <td>DS</td>\n",
       "      <td>802.78</td>\n",
       "    </tr>\n",
       "    <tr>\n",
       "      <th>27</th>\n",
       "      <td>Wii</td>\n",
       "      <td>891.18</td>\n",
       "    </tr>\n",
       "    <tr>\n",
       "      <th>28</th>\n",
       "      <td>PS3</td>\n",
       "      <td>931.34</td>\n",
       "    </tr>\n",
       "    <tr>\n",
       "      <th>29</th>\n",
       "      <td>X360</td>\n",
       "      <td>961.24</td>\n",
       "    </tr>\n",
       "    <tr>\n",
       "      <th>30</th>\n",
       "      <td>PS2</td>\n",
       "      <td>1233.56</td>\n",
       "    </tr>\n",
       "  </tbody>\n",
       "</table>\n",
       "</div>"
      ],
      "text/plain": [
       "   platform  total_sales\n",
       "0      PCFX         0.03\n",
       "1        GG         0.04\n",
       "2       3DO         0.10\n",
       "3      TG16         0.16\n",
       "4        WS         1.42\n",
       "5        NG         1.44\n",
       "6       SCD         1.86\n",
       "7        DC        15.95\n",
       "8       GEN        28.35\n",
       "9       SAT        33.59\n",
       "10      PSV        53.81\n",
       "11     WiiU        82.19\n",
       "12     2600        86.48\n",
       "13     XOne       159.32\n",
       "14       GC       196.73\n",
       "15     SNES       200.04\n",
       "16      N64       218.01\n",
       "17      NES       251.05\n",
       "18       XB       251.57\n",
       "19       GB       254.43\n",
       "20       PC       255.76\n",
       "21      3DS       257.81\n",
       "22      PSP       289.53\n",
       "23      GBA       312.88\n",
       "24      PS4       314.14\n",
       "25       PS       727.58\n",
       "26       DS       802.78\n",
       "27      Wii       891.18\n",
       "28      PS3       931.34\n",
       "29     X360       961.24\n",
       "30      PS2      1233.56"
      ]
     },
     "execution_count": 26,
     "metadata": {},
     "output_type": "execute_result"
    }
   ],
   "source": [
    "platform_total_sales = data[['platform','total_sales']].groupby(['platform']).sum().sort_values(by='total_sales').reset_index()\n",
    "platform_total_sales"
   ]
  },
  {
   "cell_type": "code",
   "execution_count": 27,
   "metadata": {},
   "outputs": [
    {
     "data": {
      "image/png": "[encoded data removed]",
      "text/plain": [
       "<Figure size 1440x360 with 1 Axes>"
      ]
     },
     "metadata": {
      "needs_background": "light"
     },
     "output_type": "display_data"
    }
   ],
   "source": [
    "fig, axes = plt.subplots(figsize=(20, 5))\n",
    "sns.barplot(data=platform_total_sales,x='platform',y='total_sales',ax=axes)\n",
    "plt.show()"
   ]
  },
  {
   "cell_type": "markdown",
   "metadata": {},
   "source": [
    "As we see in the bar graph the platforms with the highest sales are PS2 and X360. \n",
    "\n",
    "now after we chose the platforms with the greatest total sales we build a distribution graph based on data for each year.\n"
   ]
  },
  {
   "cell_type": "code",
   "execution_count": 28,
   "metadata": {},
   "outputs": [],
   "source": [
    "ps2_data = data[data['platform']=='PS2']\n",
    "x360_data =  data[data['platform']=='X360']\n",
    "ps3_data =  data[data['platform']=='PS3']\n",
    "wii_data =  data[data['platform']=='Wii']"
   ]
  },
  {
   "cell_type": "code",
   "execution_count": 29,
   "metadata": {},
   "outputs": [
    {
     "name": "stdout",
     "output_type": "stream",
     "text": [
      "\n"
     ]
    },
    {
     "data": {
      "image/png": "[encoded data removed]",
      "text/plain": [
       "<Figure size 1080x360 with 1 Axes>"
      ]
     },
     "metadata": {
      "needs_background": "light"
     },
     "output_type": "display_data"
    }
   ],
   "source": [
    "fig, axes = plt.subplots(figsize=(15, 5))\n",
    "axes.set_title(\"total sales of leading platforms, 2000-2016\", fontdict={'size':15})\n",
    "print('')\n",
    "sns.histplot(data=ps2_data,x='year_of_release', kde=True,color='blue')\n",
    "sns.histplot(data=ps3_data,x='year_of_release', kde=True,color='green')\n",
    "sns.histplot(data=wii_data,x='year_of_release', kde=True,color='red')\n",
    "sns.histplot(data=x360_data,x='year_of_release', kde=True,color='orange')\n",
    "plt.show()"
   ]
  },
  {
   "cell_type": "code",
   "execution_count": 30,
   "metadata": {},
   "outputs": [
    {
     "data": {
      "image/png": "[encoded data removed]",
      "text/plain": [
       "<Figure size 1080x360 with 1 Axes>"
      ]
     },
     "metadata": {
      "needs_background": "light"
     },
     "output_type": "display_data"
    }
   ],
   "source": [
    "top_platforms = [\"PS2\", \"X360\", \"PS3\", \"Wii\"]\n",
    "#Aggregate sales per year and platform \n",
    "fig, axes = plt.subplots(figsize=(15, 5))\n",
    "axes.set_title(\"Lineplot of total sales of leading platforms, 2000-2016\", fontdict={'size':15})\n",
    "sales = (data[data.platform.isin(top_platforms)].groupby(['year_of_release','platform']).total_sales.sum() .reset_index())\n",
    "sns.lineplot(data=sales, x=\"year_of_release\", y='total_sales', hue=\"platform\");"
   ]
  },
  {
   "cell_type": "markdown",
   "metadata": {},
   "source": [
    "-----------------"
   ]
  },
  {
   "cell_type": "markdown",
   "metadata": {},
   "source": [
    "- How long does it generally take for new platforms to appear and old ones to fade?\n",
    "\n",
    "In all of the graphs of our most profitble platforms there is a visible distribution of ascending and gradually descending in the period of 10 years. The distibuiton of PS2 seems to b the most stable troughout the years as it reached a plateau between 02 to 06 indicating it was the most popular platform of that time, right by the time other leading platforms started rising.\n",
    "\n",
    "By 2005, XBOX-360 and then at 2006 Wii and PS3 came out and started gaining popularity as sales of PS2 started going down. By 2010 XBOX-360 sales were declining aswell hinting that there were another platform that was gaining popularity, the PS3. \n",
    "\n",
    "Here we see that the life time of our leading platforms are about 10 years and it reaches its peak in terms of profit in its midlife, about 5-6 yers, so we can filter the data to a minimum year of 2013 if we want to target any platform that are on the rise and could be profitable in 2017.  "
   ]
  },
  {
   "cell_type": "code",
   "execution_count": 31,
   "metadata": {},
   "outputs": [],
   "source": [
    "platform_lifetime = data.groupby(['platform', 'year_of_release'], as_index=False)['total_sales'].sum().sort_values(by='year_of_release')\n",
    "platform_lifetime = platform_lifetime.groupby(['platform'])['year_of_release'].agg(['min', 'max']).reset_index()"
   ]
  },
  {
   "cell_type": "code",
   "execution_count": 32,
   "metadata": {},
   "outputs": [
    {
     "data": {
      "text/html": [
       "<div>\n",
       "<style scoped>\n",
       "    .dataframe tbody tr th:only-of-type {\n",
       "        vertical-align: middle;\n",
       "    }\n",
       "\n",
       "    .dataframe tbody tr th {\n",
       "        vertical-align: top;\n",
       "    }\n",
       "\n",
       "    .dataframe thead th {\n",
       "        text-align: right;\n",
       "    }\n",
       "</style>\n",
       "<table border=\"1\" class=\"dataframe\">\n",
       "  <thead>\n",
       "    <tr style=\"text-align: right;\">\n",
       "      <th></th>\n",
       "      <th>platform</th>\n",
       "      <th>min</th>\n",
       "      <th>max</th>\n",
       "      <th>lifetime</th>\n",
       "    </tr>\n",
       "  </thead>\n",
       "  <tbody>\n",
       "    <tr>\n",
       "      <th>30</th>\n",
       "      <td>XOne</td>\n",
       "      <td>2013</td>\n",
       "      <td>2016</td>\n",
       "      <td>3</td>\n",
       "    </tr>\n",
       "    <tr>\n",
       "      <th>2</th>\n",
       "      <td>3DS</td>\n",
       "      <td>2011</td>\n",
       "      <td>2016</td>\n",
       "      <td>5</td>\n",
       "    </tr>\n",
       "    <tr>\n",
       "      <th>28</th>\n",
       "      <td>X360</td>\n",
       "      <td>2005</td>\n",
       "      <td>2016</td>\n",
       "      <td>11</td>\n",
       "    </tr>\n",
       "    <tr>\n",
       "      <th>27</th>\n",
       "      <td>WiiU</td>\n",
       "      <td>2012</td>\n",
       "      <td>2016</td>\n",
       "      <td>4</td>\n",
       "    </tr>\n",
       "    <tr>\n",
       "      <th>26</th>\n",
       "      <td>Wii</td>\n",
       "      <td>2006</td>\n",
       "      <td>2016</td>\n",
       "      <td>10</td>\n",
       "    </tr>\n",
       "    <tr>\n",
       "      <th>20</th>\n",
       "      <td>PSV</td>\n",
       "      <td>2011</td>\n",
       "      <td>2016</td>\n",
       "      <td>5</td>\n",
       "    </tr>\n",
       "    <tr>\n",
       "      <th>13</th>\n",
       "      <td>PC</td>\n",
       "      <td>1985</td>\n",
       "      <td>2016</td>\n",
       "      <td>31</td>\n",
       "    </tr>\n",
       "    <tr>\n",
       "      <th>18</th>\n",
       "      <td>PS4</td>\n",
       "      <td>2013</td>\n",
       "      <td>2016</td>\n",
       "      <td>3</td>\n",
       "    </tr>\n",
       "    <tr>\n",
       "      <th>17</th>\n",
       "      <td>PS3</td>\n",
       "      <td>2006</td>\n",
       "      <td>2016</td>\n",
       "      <td>10</td>\n",
       "    </tr>\n",
       "    <tr>\n",
       "      <th>19</th>\n",
       "      <td>PSP</td>\n",
       "      <td>2004</td>\n",
       "      <td>2015</td>\n",
       "      <td>11</td>\n",
       "    </tr>\n",
       "    <tr>\n",
       "      <th>4</th>\n",
       "      <td>DS</td>\n",
       "      <td>1985</td>\n",
       "      <td>2013</td>\n",
       "      <td>28</td>\n",
       "    </tr>\n",
       "    <tr>\n",
       "      <th>16</th>\n",
       "      <td>PS2</td>\n",
       "      <td>2000</td>\n",
       "      <td>2011</td>\n",
       "      <td>11</td>\n",
       "    </tr>\n",
       "    <tr>\n",
       "      <th>3</th>\n",
       "      <td>DC</td>\n",
       "      <td>1998</td>\n",
       "      <td>2008</td>\n",
       "      <td>10</td>\n",
       "    </tr>\n",
       "    <tr>\n",
       "      <th>29</th>\n",
       "      <td>XB</td>\n",
       "      <td>2000</td>\n",
       "      <td>2008</td>\n",
       "      <td>8</td>\n",
       "    </tr>\n",
       "    <tr>\n",
       "      <th>6</th>\n",
       "      <td>GBA</td>\n",
       "      <td>2000</td>\n",
       "      <td>2007</td>\n",
       "      <td>7</td>\n",
       "    </tr>\n",
       "    <tr>\n",
       "      <th>7</th>\n",
       "      <td>GC</td>\n",
       "      <td>2001</td>\n",
       "      <td>2007</td>\n",
       "      <td>6</td>\n",
       "    </tr>\n",
       "    <tr>\n",
       "      <th>15</th>\n",
       "      <td>PS</td>\n",
       "      <td>1994</td>\n",
       "      <td>2003</td>\n",
       "      <td>9</td>\n",
       "    </tr>\n",
       "    <tr>\n",
       "      <th>10</th>\n",
       "      <td>N64</td>\n",
       "      <td>1996</td>\n",
       "      <td>2002</td>\n",
       "      <td>6</td>\n",
       "    </tr>\n",
       "    <tr>\n",
       "      <th>25</th>\n",
       "      <td>WS</td>\n",
       "      <td>1999</td>\n",
       "      <td>2001</td>\n",
       "      <td>2</td>\n",
       "    </tr>\n",
       "    <tr>\n",
       "      <th>5</th>\n",
       "      <td>GB</td>\n",
       "      <td>1988</td>\n",
       "      <td>2001</td>\n",
       "      <td>13</td>\n",
       "    </tr>\n",
       "    <tr>\n",
       "      <th>21</th>\n",
       "      <td>SAT</td>\n",
       "      <td>1994</td>\n",
       "      <td>1999</td>\n",
       "      <td>5</td>\n",
       "    </tr>\n",
       "    <tr>\n",
       "      <th>23</th>\n",
       "      <td>SNES</td>\n",
       "      <td>1990</td>\n",
       "      <td>1999</td>\n",
       "      <td>9</td>\n",
       "    </tr>\n",
       "    <tr>\n",
       "      <th>14</th>\n",
       "      <td>PCFX</td>\n",
       "      <td>1996</td>\n",
       "      <td>1996</td>\n",
       "      <td>0</td>\n",
       "    </tr>\n",
       "    <tr>\n",
       "      <th>12</th>\n",
       "      <td>NG</td>\n",
       "      <td>1993</td>\n",
       "      <td>1996</td>\n",
       "      <td>3</td>\n",
       "    </tr>\n",
       "    <tr>\n",
       "      <th>1</th>\n",
       "      <td>3DO</td>\n",
       "      <td>1994</td>\n",
       "      <td>1995</td>\n",
       "      <td>1</td>\n",
       "    </tr>\n",
       "    <tr>\n",
       "      <th>24</th>\n",
       "      <td>TG16</td>\n",
       "      <td>1995</td>\n",
       "      <td>1995</td>\n",
       "      <td>0</td>\n",
       "    </tr>\n",
       "    <tr>\n",
       "      <th>11</th>\n",
       "      <td>NES</td>\n",
       "      <td>1983</td>\n",
       "      <td>1994</td>\n",
       "      <td>11</td>\n",
       "    </tr>\n",
       "    <tr>\n",
       "      <th>22</th>\n",
       "      <td>SCD</td>\n",
       "      <td>1993</td>\n",
       "      <td>1994</td>\n",
       "      <td>1</td>\n",
       "    </tr>\n",
       "    <tr>\n",
       "      <th>8</th>\n",
       "      <td>GEN</td>\n",
       "      <td>1990</td>\n",
       "      <td>1994</td>\n",
       "      <td>4</td>\n",
       "    </tr>\n",
       "    <tr>\n",
       "      <th>9</th>\n",
       "      <td>GG</td>\n",
       "      <td>1992</td>\n",
       "      <td>1992</td>\n",
       "      <td>0</td>\n",
       "    </tr>\n",
       "    <tr>\n",
       "      <th>0</th>\n",
       "      <td>2600</td>\n",
       "      <td>1980</td>\n",
       "      <td>1989</td>\n",
       "      <td>9</td>\n",
       "    </tr>\n",
       "  </tbody>\n",
       "</table>\n",
       "</div>"
      ],
      "text/plain": [
       "   platform   min   max  lifetime\n",
       "30     XOne  2013  2016         3\n",
       "2       3DS  2011  2016         5\n",
       "28     X360  2005  2016        11\n",
       "27     WiiU  2012  2016         4\n",
       "26      Wii  2006  2016        10\n",
       "20      PSV  2011  2016         5\n",
       "13       PC  1985  2016        31\n",
       "18      PS4  2013  2016         3\n",
       "17      PS3  2006  2016        10\n",
       "19      PSP  2004  2015        11\n",
       "4        DS  1985  2013        28\n",
       "16      PS2  2000  2011        11\n",
       "3        DC  1998  2008        10\n",
       "29       XB  2000  2008         8\n",
       "6       GBA  2000  2007         7\n",
       "7        GC  2001  2007         6\n",
       "15       PS  1994  2003         9\n",
       "10      N64  1996  2002         6\n",
       "25       WS  1999  2001         2\n",
       "5        GB  1988  2001        13\n",
       "21      SAT  1994  1999         5\n",
       "23     SNES  1990  1999         9\n",
       "14     PCFX  1996  1996         0\n",
       "12       NG  1993  1996         3\n",
       "1       3DO  1994  1995         1\n",
       "24     TG16  1995  1995         0\n",
       "11      NES  1983  1994        11\n",
       "22      SCD  1993  1994         1\n",
       "8       GEN  1990  1994         4\n",
       "9        GG  1992  1992         0\n",
       "0      2600  1980  1989         9"
      ]
     },
     "execution_count": 32,
     "metadata": {},
     "output_type": "execute_result"
    }
   ],
   "source": [
    "platform_lifetime['lifetime']=platform_lifetime['max']-platform_lifetime['min']\n",
    "platform_lifetime.sort_values(by='max',ascending=False)"
   ]
  },
  {
   "cell_type": "code",
   "execution_count": 33,
   "metadata": {
    "scrolled": true
   },
   "outputs": [
    {
     "data": {
      "text/plain": [
       "6.0"
      ]
     },
     "execution_count": 33,
     "metadata": {},
     "output_type": "execute_result"
    }
   ],
   "source": [
    "platform_lifetime['lifetime'].median()"
   ]
  },
  {
   "cell_type": "markdown",
   "metadata": {},
   "source": [
    "- Determine what period you should take data for. To do so, look at your answers to the previous questions. The data should allow you to build a prognosis for 2017.\n",
    "\n",
    "The median lifetime of a platform is 6 years but as we seen in our data it takes 4 to 6 years to reach its profit limit for leading platforms.\n",
    "\n",
    "We will exclude platfoms that have outdated their profit limit and focus from now on only on platforms that can still be on the rise by 2017. \n",
    "\n",
    "That means that we exclude all data below 2013."
   ]
  },
  {
   "cell_type": "code",
   "execution_count": 34,
   "metadata": {},
   "outputs": [],
   "source": [
    "\n",
    "data_filtered=data[data['year_of_release'] >= 2013]"
   ]
  },
  {
   "cell_type": "code",
   "execution_count": 35,
   "metadata": {},
   "outputs": [
    {
     "data": {
      "text/html": [
       "<div>\n",
       "<style scoped>\n",
       "    .dataframe tbody tr th:only-of-type {\n",
       "        vertical-align: middle;\n",
       "    }\n",
       "\n",
       "    .dataframe tbody tr th {\n",
       "        vertical-align: top;\n",
       "    }\n",
       "\n",
       "    .dataframe thead th {\n",
       "        text-align: right;\n",
       "    }\n",
       "</style>\n",
       "<table border=\"1\" class=\"dataframe\">\n",
       "  <thead>\n",
       "    <tr style=\"text-align: right;\">\n",
       "      <th></th>\n",
       "      <th>name</th>\n",
       "      <th>platform</th>\n",
       "      <th>year_of_release</th>\n",
       "      <th>genre</th>\n",
       "      <th>na_sales</th>\n",
       "      <th>eu_sales</th>\n",
       "      <th>jp_sales</th>\n",
       "      <th>other_sales</th>\n",
       "      <th>critic_score</th>\n",
       "      <th>user_score</th>\n",
       "      <th>rating</th>\n",
       "      <th>total_sales</th>\n",
       "    </tr>\n",
       "  </thead>\n",
       "  <tbody>\n",
       "    <tr>\n",
       "      <th>16</th>\n",
       "      <td>Grand Theft Auto V</td>\n",
       "      <td>PS3</td>\n",
       "      <td>2013</td>\n",
       "      <td>Action</td>\n",
       "      <td>7.02</td>\n",
       "      <td>9.09</td>\n",
       "      <td>0.98</td>\n",
       "      <td>3.96</td>\n",
       "      <td>97.0</td>\n",
       "      <td>8.2</td>\n",
       "      <td>M</td>\n",
       "      <td>21.05</td>\n",
       "    </tr>\n",
       "    <tr>\n",
       "      <th>23</th>\n",
       "      <td>Grand Theft Auto V</td>\n",
       "      <td>X360</td>\n",
       "      <td>2013</td>\n",
       "      <td>Action</td>\n",
       "      <td>9.66</td>\n",
       "      <td>5.14</td>\n",
       "      <td>0.06</td>\n",
       "      <td>1.41</td>\n",
       "      <td>97.0</td>\n",
       "      <td>8.1</td>\n",
       "      <td>M</td>\n",
       "      <td>16.27</td>\n",
       "    </tr>\n",
       "    <tr>\n",
       "      <th>31</th>\n",
       "      <td>Call of Duty: Black Ops 3</td>\n",
       "      <td>PS4</td>\n",
       "      <td>2015</td>\n",
       "      <td>Shooter</td>\n",
       "      <td>6.03</td>\n",
       "      <td>5.86</td>\n",
       "      <td>0.36</td>\n",
       "      <td>2.38</td>\n",
       "      <td>NaN</td>\n",
       "      <td>NaN</td>\n",
       "      <td>unknown</td>\n",
       "      <td>14.63</td>\n",
       "    </tr>\n",
       "    <tr>\n",
       "      <th>33</th>\n",
       "      <td>Pokemon X/Pokemon Y</td>\n",
       "      <td>3DS</td>\n",
       "      <td>2013</td>\n",
       "      <td>Role-Playing</td>\n",
       "      <td>5.28</td>\n",
       "      <td>4.19</td>\n",
       "      <td>4.35</td>\n",
       "      <td>0.78</td>\n",
       "      <td>NaN</td>\n",
       "      <td>NaN</td>\n",
       "      <td>unknown</td>\n",
       "      <td>14.60</td>\n",
       "    </tr>\n",
       "    <tr>\n",
       "      <th>42</th>\n",
       "      <td>Grand Theft Auto V</td>\n",
       "      <td>PS4</td>\n",
       "      <td>2014</td>\n",
       "      <td>Action</td>\n",
       "      <td>3.96</td>\n",
       "      <td>6.31</td>\n",
       "      <td>0.38</td>\n",
       "      <td>1.97</td>\n",
       "      <td>97.0</td>\n",
       "      <td>8.3</td>\n",
       "      <td>M</td>\n",
       "      <td>12.62</td>\n",
       "    </tr>\n",
       "    <tr>\n",
       "      <th>...</th>\n",
       "      <td>...</td>\n",
       "      <td>...</td>\n",
       "      <td>...</td>\n",
       "      <td>...</td>\n",
       "      <td>...</td>\n",
       "      <td>...</td>\n",
       "      <td>...</td>\n",
       "      <td>...</td>\n",
       "      <td>...</td>\n",
       "      <td>...</td>\n",
       "      <td>...</td>\n",
       "      <td>...</td>\n",
       "    </tr>\n",
       "    <tr>\n",
       "      <th>16703</th>\n",
       "      <td>Strawberry Nauts</td>\n",
       "      <td>PSV</td>\n",
       "      <td>2016</td>\n",
       "      <td>Adventure</td>\n",
       "      <td>0.00</td>\n",
       "      <td>0.00</td>\n",
       "      <td>0.01</td>\n",
       "      <td>0.00</td>\n",
       "      <td>NaN</td>\n",
       "      <td>NaN</td>\n",
       "      <td>unknown</td>\n",
       "      <td>0.01</td>\n",
       "    </tr>\n",
       "    <tr>\n",
       "      <th>16707</th>\n",
       "      <td>Aiyoku no Eustia</td>\n",
       "      <td>PSV</td>\n",
       "      <td>2014</td>\n",
       "      <td>Misc</td>\n",
       "      <td>0.00</td>\n",
       "      <td>0.00</td>\n",
       "      <td>0.01</td>\n",
       "      <td>0.00</td>\n",
       "      <td>NaN</td>\n",
       "      <td>NaN</td>\n",
       "      <td>unknown</td>\n",
       "      <td>0.01</td>\n",
       "    </tr>\n",
       "    <tr>\n",
       "      <th>16710</th>\n",
       "      <td>Samurai Warriors: Sanada Maru</td>\n",
       "      <td>PS3</td>\n",
       "      <td>2016</td>\n",
       "      <td>Action</td>\n",
       "      <td>0.00</td>\n",
       "      <td>0.00</td>\n",
       "      <td>0.01</td>\n",
       "      <td>0.00</td>\n",
       "      <td>NaN</td>\n",
       "      <td>NaN</td>\n",
       "      <td>unknown</td>\n",
       "      <td>0.01</td>\n",
       "    </tr>\n",
       "    <tr>\n",
       "      <th>16712</th>\n",
       "      <td>Haitaka no Psychedelica</td>\n",
       "      <td>PSV</td>\n",
       "      <td>2016</td>\n",
       "      <td>Adventure</td>\n",
       "      <td>0.00</td>\n",
       "      <td>0.00</td>\n",
       "      <td>0.01</td>\n",
       "      <td>0.00</td>\n",
       "      <td>NaN</td>\n",
       "      <td>NaN</td>\n",
       "      <td>unknown</td>\n",
       "      <td>0.01</td>\n",
       "    </tr>\n",
       "    <tr>\n",
       "      <th>16714</th>\n",
       "      <td>Winning Post 8 2016</td>\n",
       "      <td>PSV</td>\n",
       "      <td>2016</td>\n",
       "      <td>Simulation</td>\n",
       "      <td>0.00</td>\n",
       "      <td>0.00</td>\n",
       "      <td>0.01</td>\n",
       "      <td>0.00</td>\n",
       "      <td>NaN</td>\n",
       "      <td>NaN</td>\n",
       "      <td>unknown</td>\n",
       "      <td>0.01</td>\n",
       "    </tr>\n",
       "  </tbody>\n",
       "</table>\n",
       "<p>2233 rows × 12 columns</p>\n",
       "</div>"
      ],
      "text/plain": [
       "                                name platform  year_of_release         genre  \\\n",
       "16                Grand Theft Auto V      PS3             2013        Action   \n",
       "23                Grand Theft Auto V     X360             2013        Action   \n",
       "31         Call of Duty: Black Ops 3      PS4             2015       Shooter   \n",
       "33               Pokemon X/Pokemon Y      3DS             2013  Role-Playing   \n",
       "42                Grand Theft Auto V      PS4             2014        Action   \n",
       "...                              ...      ...              ...           ...   \n",
       "16703               Strawberry Nauts      PSV             2016     Adventure   \n",
       "16707               Aiyoku no Eustia      PSV             2014          Misc   \n",
       "16710  Samurai Warriors: Sanada Maru      PS3             2016        Action   \n",
       "16712        Haitaka no Psychedelica      PSV             2016     Adventure   \n",
       "16714            Winning Post 8 2016      PSV             2016    Simulation   \n",
       "\n",
       "       na_sales  eu_sales  jp_sales  other_sales  critic_score  user_score  \\\n",
       "16         7.02      9.09      0.98         3.96          97.0         8.2   \n",
       "23         9.66      5.14      0.06         1.41          97.0         8.1   \n",
       "31         6.03      5.86      0.36         2.38           NaN         NaN   \n",
       "33         5.28      4.19      4.35         0.78           NaN         NaN   \n",
       "42         3.96      6.31      0.38         1.97          97.0         8.3   \n",
       "...         ...       ...       ...          ...           ...         ...   \n",
       "16703      0.00      0.00      0.01         0.00           NaN         NaN   \n",
       "16707      0.00      0.00      0.01         0.00           NaN         NaN   \n",
       "16710      0.00      0.00      0.01         0.00           NaN         NaN   \n",
       "16712      0.00      0.00      0.01         0.00           NaN         NaN   \n",
       "16714      0.00      0.00      0.01         0.00           NaN         NaN   \n",
       "\n",
       "        rating  total_sales  \n",
       "16           M        21.05  \n",
       "23           M        16.27  \n",
       "31     unknown        14.63  \n",
       "33     unknown        14.60  \n",
       "42           M        12.62  \n",
       "...        ...          ...  \n",
       "16703  unknown         0.01  \n",
       "16707  unknown         0.01  \n",
       "16710  unknown         0.01  \n",
       "16712  unknown         0.01  \n",
       "16714  unknown         0.01  \n",
       "\n",
       "[2233 rows x 12 columns]"
      ]
     },
     "execution_count": 35,
     "metadata": {},
     "output_type": "execute_result"
    }
   ],
   "source": [
    "data_filtered"
   ]
  },
  {
   "cell_type": "markdown",
   "metadata": {},
   "source": [
    "- Which platforms are leading in sales? Which ones are growing or shrinking? Select several potentially profitable platforms.\n"
   ]
  },
  {
   "cell_type": "code",
   "execution_count": 36,
   "metadata": {},
   "outputs": [
    {
     "data": {
      "text/html": [
       "<div>\n",
       "<style scoped>\n",
       "    .dataframe tbody tr th:only-of-type {\n",
       "        vertical-align: middle;\n",
       "    }\n",
       "\n",
       "    .dataframe tbody tr th {\n",
       "        vertical-align: top;\n",
       "    }\n",
       "\n",
       "    .dataframe thead th {\n",
       "        text-align: right;\n",
       "    }\n",
       "</style>\n",
       "<table border=\"1\" class=\"dataframe\">\n",
       "  <thead>\n",
       "    <tr style=\"text-align: right;\">\n",
       "      <th></th>\n",
       "      <th>platform</th>\n",
       "      <th>total_sales</th>\n",
       "    </tr>\n",
       "  </thead>\n",
       "  <tbody>\n",
       "    <tr>\n",
       "      <th>0</th>\n",
       "      <td>DS</td>\n",
       "      <td>1.54</td>\n",
       "    </tr>\n",
       "    <tr>\n",
       "      <th>1</th>\n",
       "      <td>PSP</td>\n",
       "      <td>3.50</td>\n",
       "    </tr>\n",
       "    <tr>\n",
       "      <th>2</th>\n",
       "      <td>Wii</td>\n",
       "      <td>13.66</td>\n",
       "    </tr>\n",
       "    <tr>\n",
       "      <th>3</th>\n",
       "      <td>PSV</td>\n",
       "      <td>32.99</td>\n",
       "    </tr>\n",
       "    <tr>\n",
       "      <th>4</th>\n",
       "      <td>PC</td>\n",
       "      <td>39.43</td>\n",
       "    </tr>\n",
       "    <tr>\n",
       "      <th>5</th>\n",
       "      <td>WiiU</td>\n",
       "      <td>64.63</td>\n",
       "    </tr>\n",
       "    <tr>\n",
       "      <th>6</th>\n",
       "      <td>X360</td>\n",
       "      <td>136.80</td>\n",
       "    </tr>\n",
       "    <tr>\n",
       "      <th>7</th>\n",
       "      <td>3DS</td>\n",
       "      <td>143.25</td>\n",
       "    </tr>\n",
       "    <tr>\n",
       "      <th>8</th>\n",
       "      <td>XOne</td>\n",
       "      <td>159.32</td>\n",
       "    </tr>\n",
       "    <tr>\n",
       "      <th>9</th>\n",
       "      <td>PS3</td>\n",
       "      <td>181.43</td>\n",
       "    </tr>\n",
       "    <tr>\n",
       "      <th>10</th>\n",
       "      <td>PS4</td>\n",
       "      <td>314.14</td>\n",
       "    </tr>\n",
       "  </tbody>\n",
       "</table>\n",
       "</div>"
      ],
      "text/plain": [
       "   platform  total_sales\n",
       "0        DS         1.54\n",
       "1       PSP         3.50\n",
       "2       Wii        13.66\n",
       "3       PSV        32.99\n",
       "4        PC        39.43\n",
       "5      WiiU        64.63\n",
       "6      X360       136.80\n",
       "7       3DS       143.25\n",
       "8      XOne       159.32\n",
       "9       PS3       181.43\n",
       "10      PS4       314.14"
      ]
     },
     "execution_count": 36,
     "metadata": {},
     "output_type": "execute_result"
    }
   ],
   "source": [
    "data_filtered[['platform','total_sales']].groupby(['platform']).sum().sort_values(by='total_sales').reset_index()"
   ]
  },
  {
   "cell_type": "markdown",
   "metadata": {},
   "source": [
    "most profitable platform in the years since 2013 is PS4, after that is PS3 and XOne."
   ]
  },
  {
   "cell_type": "code",
   "execution_count": 37,
   "metadata": {},
   "outputs": [],
   "source": [
    "xone_data =  data[data['platform']=='XOne']\n",
    "ps3_data =  data[data['platform']=='PS3']\n",
    "ps4_data =  data[data['platform']=='PS4']"
   ]
  },
  {
   "cell_type": "code",
   "execution_count": 38,
   "metadata": {
    "scrolled": true
   },
   "outputs": [
    {
     "data": {
      "image/png": "[encoded data removed]",
      "text/plain": [
       "<Figure size 1080x360 with 1 Axes>"
      ]
     },
     "metadata": {
      "needs_background": "light"
     },
     "output_type": "display_data"
    }
   ],
   "source": [
    "fig, axes = plt.subplots(figsize=(15, 5))\n",
    "sns.histplot(data=ps3_data,x='year_of_release', kde=True,color='green')\n",
    "sns.histplot(data=xone_data,x='year_of_release', kde=True,color='red')\n",
    "sns.histplot(data=ps4_data,x='year_of_release', kde=True,color='blue')\n",
    "plt.show()"
   ]
  },
  {
   "cell_type": "markdown",
   "metadata": {},
   "source": [
    "**review**\n",
    "\n",
    "as we see in the graph PS3 is already declining by 2013 but XOne and PS4 were on the rise, when PS4 is rising sharper than XOne, and are seem to have a good profit potential.\n"
   ]
  },
  {
   "cell_type": "markdown",
   "metadata": {},
   "source": [
    "- Build a box plot for the global sales of all games, broken down by platform. Are the differences in sales significant? \n",
    "- What about average sales on various platforms? Describe your findings.\n",
    "\n",
    "\n",
    "\n"
   ]
  },
  {
   "cell_type": "code",
   "execution_count": 39,
   "metadata": {
    "scrolled": true
   },
   "outputs": [
    {
     "data": {
      "image/png": "[encoded data removed]",
      "text/plain": [
       "<Figure size 1080x360 with 1 Axes>"
      ]
     },
     "metadata": {
      "needs_background": "light"
     },
     "output_type": "display_data"
    }
   ],
   "source": [
    "fig, axes = plt.subplots(figsize=(15, 5))\n",
    "ax=sns.boxplot(x='platform', y='total_sales', data=data_filtered,showfliers = False)\n",
    "plt.show()"
   ]
  },
  {
   "cell_type": "markdown",
   "metadata": {},
   "source": [
    "**Observations**\n",
    "\n",
    "The platform with the highest total sales average is XBOX360 but we know that this platform is gradually declining.\n",
    "Wii platform exhibits high boundaries but a relatively low average point.\n",
    "The platform we are iterested in are PS4 and XOne which seem to have smaller boundaries but relatively average points and outliers.\n",
    "\n",
    "- Overall, the difference in sales are significant and the only profitable platforms that are presented in the boxplot are XBOX360, PS4, XOne and Wii.\n",
    "\n",
    "- The platforms we are only interested in, PS4 and XOne, do resamble eachother in quartile values over though the average value of XOne is higher then the PS4 average; The quartile range of PS4 is slighlty bogger than XOne.   "
   ]
  },
  {
   "cell_type": "markdown",
   "metadata": {},
   "source": [
    "---------------------------"
   ]
  },
  {
   "cell_type": "markdown",
   "metadata": {},
   "source": [
    "**plan**\n",
    "- Take a look at how user and professional reviews affect sales for one popular platform (you choose). Build a scatter plot and calculate the correlation between reviews and sales. Draw conclusions.\n",
    "\n",
    "- Keeping your conclusions in mind, compare the sales of the same games on other platforms\n",
    "\n",
    "For this part at first we will take a look on the PS4 paltform and how user and professional reviews affect the sales of this platform.\n",
    "\n",
    "And secondly, we will take a look on the XOne paltform and how user and professional reviews affect the sales of this platform.\n",
    "\n",
    "- We will do it by presenting a correlation dataframe and a scatterplot graph\n"
   ]
  },
  {
   "cell_type": "code",
   "execution_count": 40,
   "metadata": {},
   "outputs": [],
   "source": [
    "xone_data_2013 =  data_filtered[data_filtered['platform']=='XOne']\n",
    "ps4_data_2013 =  data_filtered[data_filtered['platform']=='PS4']"
   ]
  },
  {
   "cell_type": "code",
   "execution_count": 41,
   "metadata": {
    "scrolled": false
   },
   "outputs": [
    {
     "data": {
      "text/html": [
       "<div>\n",
       "<style scoped>\n",
       "    .dataframe tbody tr th:only-of-type {\n",
       "        vertical-align: middle;\n",
       "    }\n",
       "\n",
       "    .dataframe tbody tr th {\n",
       "        vertical-align: top;\n",
       "    }\n",
       "\n",
       "    .dataframe thead th {\n",
       "        text-align: right;\n",
       "    }\n",
       "</style>\n",
       "<table border=\"1\" class=\"dataframe\">\n",
       "  <thead>\n",
       "    <tr style=\"text-align: right;\">\n",
       "      <th></th>\n",
       "      <th>total_sales</th>\n",
       "      <th>critic_score</th>\n",
       "      <th>user_score</th>\n",
       "    </tr>\n",
       "  </thead>\n",
       "  <tbody>\n",
       "    <tr>\n",
       "      <th>31</th>\n",
       "      <td>14.63</td>\n",
       "      <td>NaN</td>\n",
       "      <td>NaN</td>\n",
       "    </tr>\n",
       "    <tr>\n",
       "      <th>42</th>\n",
       "      <td>12.62</td>\n",
       "      <td>97.0</td>\n",
       "      <td>8.3</td>\n",
       "    </tr>\n",
       "    <tr>\n",
       "      <th>77</th>\n",
       "      <td>8.58</td>\n",
       "      <td>82.0</td>\n",
       "      <td>4.3</td>\n",
       "    </tr>\n",
       "    <tr>\n",
       "      <th>87</th>\n",
       "      <td>7.98</td>\n",
       "      <td>NaN</td>\n",
       "      <td>NaN</td>\n",
       "    </tr>\n",
       "    <tr>\n",
       "      <th>92</th>\n",
       "      <td>7.66</td>\n",
       "      <td>83.0</td>\n",
       "      <td>5.7</td>\n",
       "    </tr>\n",
       "    <tr>\n",
       "      <th>...</th>\n",
       "      <td>...</td>\n",
       "      <td>...</td>\n",
       "      <td>...</td>\n",
       "    </tr>\n",
       "    <tr>\n",
       "      <th>16500</th>\n",
       "      <td>0.01</td>\n",
       "      <td>69.0</td>\n",
       "      <td>7.5</td>\n",
       "    </tr>\n",
       "    <tr>\n",
       "      <th>16503</th>\n",
       "      <td>0.01</td>\n",
       "      <td>NaN</td>\n",
       "      <td>NaN</td>\n",
       "    </tr>\n",
       "    <tr>\n",
       "      <th>16526</th>\n",
       "      <td>0.01</td>\n",
       "      <td>61.0</td>\n",
       "      <td>7.9</td>\n",
       "    </tr>\n",
       "    <tr>\n",
       "      <th>16530</th>\n",
       "      <td>0.01</td>\n",
       "      <td>51.0</td>\n",
       "      <td>5.5</td>\n",
       "    </tr>\n",
       "    <tr>\n",
       "      <th>16585</th>\n",
       "      <td>0.01</td>\n",
       "      <td>NaN</td>\n",
       "      <td>NaN</td>\n",
       "    </tr>\n",
       "  </tbody>\n",
       "</table>\n",
       "<p>392 rows × 3 columns</p>\n",
       "</div>"
      ],
      "text/plain": [
       "       total_sales  critic_score  user_score\n",
       "31           14.63           NaN         NaN\n",
       "42           12.62          97.0         8.3\n",
       "77            8.58          82.0         4.3\n",
       "87            7.98           NaN         NaN\n",
       "92            7.66          83.0         5.7\n",
       "...            ...           ...         ...\n",
       "16500         0.01          69.0         7.5\n",
       "16503         0.01           NaN         NaN\n",
       "16526         0.01          61.0         7.9\n",
       "16530         0.01          51.0         5.5\n",
       "16585         0.01           NaN         NaN\n",
       "\n",
       "[392 rows x 3 columns]"
      ]
     },
     "execution_count": 41,
     "metadata": {},
     "output_type": "execute_result"
    }
   ],
   "source": [
    "ps4_scatter = ps4_data_2013[['total_sales','critic_score','user_score']]\n",
    "xone_scatter =  xone_data_2013[['critic_score','user_score','total_sales']]\n",
    "ps4_scatter"
   ]
  },
  {
   "cell_type": "code",
   "execution_count": 42,
   "metadata": {},
   "outputs": [
    {
     "data": {
      "image/png": "[encoded data removed]",
      "text/plain": [
       "<Figure size 540x540 with 12 Axes>"
      ]
     },
     "metadata": {
      "needs_background": "light"
     },
     "output_type": "display_data"
    }
   ],
   "source": [
    "sns.pairplot(ps4_scatter)\n",
    "plt.show()"
   ]
  },
  {
   "cell_type": "code",
   "execution_count": 43,
   "metadata": {},
   "outputs": [
    {
     "data": {
      "text/html": [
       "<div>\n",
       "<style scoped>\n",
       "    .dataframe tbody tr th:only-of-type {\n",
       "        vertical-align: middle;\n",
       "    }\n",
       "\n",
       "    .dataframe tbody tr th {\n",
       "        vertical-align: top;\n",
       "    }\n",
       "\n",
       "    .dataframe thead th {\n",
       "        text-align: right;\n",
       "    }\n",
       "</style>\n",
       "<table border=\"1\" class=\"dataframe\">\n",
       "  <thead>\n",
       "    <tr style=\"text-align: right;\">\n",
       "      <th></th>\n",
       "      <th>total_sales</th>\n",
       "      <th>critic_score</th>\n",
       "      <th>user_score</th>\n",
       "    </tr>\n",
       "  </thead>\n",
       "  <tbody>\n",
       "    <tr>\n",
       "      <th>total_sales</th>\n",
       "      <td>1.000000</td>\n",
       "      <td>0.406568</td>\n",
       "      <td>-0.031957</td>\n",
       "    </tr>\n",
       "    <tr>\n",
       "      <th>critic_score</th>\n",
       "      <td>0.406568</td>\n",
       "      <td>1.000000</td>\n",
       "      <td>0.557654</td>\n",
       "    </tr>\n",
       "    <tr>\n",
       "      <th>user_score</th>\n",
       "      <td>-0.031957</td>\n",
       "      <td>0.557654</td>\n",
       "      <td>1.000000</td>\n",
       "    </tr>\n",
       "  </tbody>\n",
       "</table>\n",
       "</div>"
      ],
      "text/plain": [
       "              total_sales  critic_score  user_score\n",
       "total_sales      1.000000      0.406568   -0.031957\n",
       "critic_score     0.406568      1.000000    0.557654\n",
       "user_score      -0.031957      0.557654    1.000000"
      ]
     },
     "execution_count": 43,
     "metadata": {},
     "output_type": "execute_result"
    }
   ],
   "source": [
    "ps4_scatter.corr()"
   ]
  },
  {
   "cell_type": "code",
   "execution_count": 44,
   "metadata": {},
   "outputs": [
    {
     "data": {
      "image/png": "[encoded data removed]",
      "text/plain": [
       "<Figure size 540x540 with 12 Axes>"
      ]
     },
     "metadata": {},
     "output_type": "display_data"
    }
   ],
   "source": [
    "sns.set_theme(style=\"ticks\")\n",
    "sns.pairplot(xone_scatter)\n",
    "plt.show()"
   ]
  },
  {
   "cell_type": "code",
   "execution_count": 45,
   "metadata": {},
   "outputs": [
    {
     "data": {
      "text/html": [
       "<div>\n",
       "<style scoped>\n",
       "    .dataframe tbody tr th:only-of-type {\n",
       "        vertical-align: middle;\n",
       "    }\n",
       "\n",
       "    .dataframe tbody tr th {\n",
       "        vertical-align: top;\n",
       "    }\n",
       "\n",
       "    .dataframe thead th {\n",
       "        text-align: right;\n",
       "    }\n",
       "</style>\n",
       "<table border=\"1\" class=\"dataframe\">\n",
       "  <thead>\n",
       "    <tr style=\"text-align: right;\">\n",
       "      <th></th>\n",
       "      <th>critic_score</th>\n",
       "      <th>user_score</th>\n",
       "      <th>total_sales</th>\n",
       "    </tr>\n",
       "  </thead>\n",
       "  <tbody>\n",
       "    <tr>\n",
       "      <th>critic_score</th>\n",
       "      <td>1.000000</td>\n",
       "      <td>0.472462</td>\n",
       "      <td>0.416998</td>\n",
       "    </tr>\n",
       "    <tr>\n",
       "      <th>user_score</th>\n",
       "      <td>0.472462</td>\n",
       "      <td>1.000000</td>\n",
       "      <td>-0.068925</td>\n",
       "    </tr>\n",
       "    <tr>\n",
       "      <th>total_sales</th>\n",
       "      <td>0.416998</td>\n",
       "      <td>-0.068925</td>\n",
       "      <td>1.000000</td>\n",
       "    </tr>\n",
       "  </tbody>\n",
       "</table>\n",
       "</div>"
      ],
      "text/plain": [
       "              critic_score  user_score  total_sales\n",
       "critic_score      1.000000    0.472462     0.416998\n",
       "user_score        0.472462    1.000000    -0.068925\n",
       "total_sales       0.416998   -0.068925     1.000000"
      ]
     },
     "execution_count": 45,
     "metadata": {},
     "output_type": "execute_result"
    }
   ],
   "source": [
    "xone_scatter.corr()"
   ]
  },
  {
   "cell_type": "markdown",
   "metadata": {},
   "source": [
    "**observtion**\n",
    "\n",
    "- There is a correlation between critic_score and total_sales. Which sugget that professional reviews do have an affect on the total sales of games for the platforms we chose.\n",
    "\n",
    "- User reviews however dont have a correlation at all with the total sales.  \n",
    "\n",
    "Now lets compare the sales of the same games on the other leading platforms we have on our data- X360"
   ]
  },
  {
   "cell_type": "code",
   "execution_count": 46,
   "metadata": {},
   "outputs": [],
   "source": [
    "x360_data_2013 =  data_filtered[data_filtered['platform']=='X360']\n",
    "#wii_data_2013 =  data_filtered[data_filtered['platform']=='Wii']\n",
    "x360_scatter = x360_data_2013[['total_sales','critic_score','user_score']]\n",
    "#wii_scatter =  wii_data_2013[['critic_score','user_score','total_sales']]"
   ]
  },
  {
   "cell_type": "code",
   "execution_count": 47,
   "metadata": {},
   "outputs": [
    {
     "data": {
      "text/html": [
       "<div>\n",
       "<style scoped>\n",
       "    .dataframe tbody tr th:only-of-type {\n",
       "        vertical-align: middle;\n",
       "    }\n",
       "\n",
       "    .dataframe tbody tr th {\n",
       "        vertical-align: top;\n",
       "    }\n",
       "\n",
       "    .dataframe thead th {\n",
       "        text-align: right;\n",
       "    }\n",
       "</style>\n",
       "<table border=\"1\" class=\"dataframe\">\n",
       "  <thead>\n",
       "    <tr style=\"text-align: right;\">\n",
       "      <th></th>\n",
       "      <th>total_sales</th>\n",
       "      <th>critic_score</th>\n",
       "      <th>user_score</th>\n",
       "    </tr>\n",
       "  </thead>\n",
       "  <tbody>\n",
       "    <tr>\n",
       "      <th>total_sales</th>\n",
       "      <td>1.000000</td>\n",
       "      <td>0.350345</td>\n",
       "      <td>-0.011742</td>\n",
       "    </tr>\n",
       "    <tr>\n",
       "      <th>critic_score</th>\n",
       "      <td>0.350345</td>\n",
       "      <td>1.000000</td>\n",
       "      <td>0.520946</td>\n",
       "    </tr>\n",
       "    <tr>\n",
       "      <th>user_score</th>\n",
       "      <td>-0.011742</td>\n",
       "      <td>0.520946</td>\n",
       "      <td>1.000000</td>\n",
       "    </tr>\n",
       "  </tbody>\n",
       "</table>\n",
       "</div>"
      ],
      "text/plain": [
       "              total_sales  critic_score  user_score\n",
       "total_sales      1.000000      0.350345   -0.011742\n",
       "critic_score     0.350345      1.000000    0.520946\n",
       "user_score      -0.011742      0.520946    1.000000"
      ]
     },
     "execution_count": 47,
     "metadata": {},
     "output_type": "execute_result"
    }
   ],
   "source": [
    "x360_scatter.corr()"
   ]
  },
  {
   "cell_type": "code",
   "execution_count": 48,
   "metadata": {
    "scrolled": false
   },
   "outputs": [
    {
     "data": {
      "image/png": "[encoded data removed]",
      "text/plain": [
       "<Figure size 540x540 with 12 Axes>"
      ]
     },
     "metadata": {},
     "output_type": "display_data"
    }
   ],
   "source": [
    "x360_scatter.corr()\n",
    "sns.pairplot(x360_scatter)\n",
    "plt.show()"
   ]
  },
  {
   "cell_type": "markdown",
   "metadata": {},
   "source": [
    "For the X360 we can see also see a correlation between Professional reviews to total sales. \n",
    "\n",
    "It shows a pattern for the platforms total sales. "
   ]
  },
  {
   "cell_type": "markdown",
   "metadata": {},
   "source": [
    "-----------------"
   ]
  },
  {
   "cell_type": "markdown",
   "metadata": {},
   "source": [
    "- Take a look at the general distribution of games by genre. What can we say about the most profitable genres? Can you generalize about genres with high and low sales?"
   ]
  },
  {
   "cell_type": "code",
   "execution_count": 49,
   "metadata": {
    "scrolled": false
   },
   "outputs": [
    {
     "name": "stdout",
     "output_type": "stream",
     "text": [
      "           genre  name  total_sales\n",
      "0         Action   766       321.87\n",
      "1      Adventure   245        23.64\n",
      "2       Fighting    80        35.31\n",
      "3           Misc   155        62.82\n",
      "4       Platform    74        42.63\n",
      "5         Puzzle    17         3.17\n",
      "6         Racing    85        39.89\n",
      "7   Role-Playing   292       145.89\n",
      "8        Shooter   187       232.98\n",
      "9     Simulation    62        21.76\n",
      "10        Sports   214       150.65\n",
      "11      Strategy    56        10.08\n"
     ]
    }
   ],
   "source": [
    "games_by_genre= data_filtered.groupby('genre')[['name', 'total_sales']].agg({'name': 'count', 'total_sales': 'sum'}).reset_index().sort_values(by='genre')\n",
    "print(games_by_genre)"
   ]
  },
  {
   "cell_type": "markdown",
   "metadata": {},
   "source": [
    "- A boxplot of the game genres by their total sales.\n",
    "- We can see the mean and the outliers of eech genre here."
   ]
  },
  {
   "cell_type": "code",
   "execution_count": 50,
   "metadata": {},
   "outputs": [
    {
     "data": {
      "image/png": "[encoded data removed]",
      "text/plain": [
       "<Figure size 1080x720 with 1 Axes>"
      ]
     },
     "metadata": {},
     "output_type": "display_data"
    }
   ],
   "source": [
    "fig, axes = plt.subplots(figsize=(15, 10))\n",
    "ax=sns.boxplot(x='genre', y='total_sales', data=data_filtered,showfliers = False)\n",
    "plt.title('Boxplot of games per genre')\n",
    "plt.show()"
   ]
  },
  {
   "cell_type": "code",
   "execution_count": 51,
   "metadata": {
    "scrolled": false
   },
   "outputs": [
    {
     "data": {
      "image/png": "[encoded data removed]",
      "text/plain": [
       "<Figure size 1080x360 with 1 Axes>"
      ]
     },
     "metadata": {},
     "output_type": "display_data"
    }
   ],
   "source": [
    "fig, axes = plt.subplots(figsize=(15, 5))\n",
    "sns.set_theme(style=\"whitegrid\")\n",
    "ax = sns.barplot(x=\"genre\", y=\"name\", data=games_by_genre)\n",
    "plt.title('Barplot of games per genre')\n",
    "plt.show()"
   ]
  },
  {
   "cell_type": "code",
   "execution_count": 52,
   "metadata": {},
   "outputs": [
    {
     "data": {
      "image/png": "[encoded data removed]",
      "text/plain": [
       "<Figure size 1080x360 with 1 Axes>"
      ]
     },
     "metadata": {},
     "output_type": "display_data"
    }
   ],
   "source": [
    "fig, axes = plt.subplots(figsize=(15, 5))\n",
    "ax = sns.barplot(x=\"genre\", y=\"total_sales\", data=games_by_genre,palette=\"Blues_d\")\n",
    "plt.title('Barplot of total sales per genre')\n",
    "plt.show()"
   ]
  },
  {
   "cell_type": "code",
   "execution_count": 53,
   "metadata": {},
   "outputs": [
    {
     "data": {
      "image/png": "[encoded data removed]",
      "text/plain": [
       "<Figure size 1080x576 with 1 Axes>"
      ]
     },
     "metadata": {},
     "output_type": "display_data"
    }
   ],
   "source": [
    "genre_dist = data_filtered.pivot_table(index='genre', values='total_sales', aggfunc=('mean')).sort_values(by=['total_sales'],ascending=False).reset_index()\n",
    "plt.figure(figsize = (15,8))\n",
    "sns.boxplot(data = genre_dist, x='genre', y='total_sales', showfliers=False, showmeans=True, meanprops={\"marker\": \"D\",\n",
    "                       \"markeredgecolor\": \"red\",\n",
    "                       \"markersize\": \"10\"})\n",
    "plt.show()"
   ]
  },
  {
   "cell_type": "markdown",
   "metadata": {},
   "source": [
    "**Observations**\n",
    "\n",
    "by providing 2 barplots:\n",
    "- Upper describing number games per genre that was released from 2013 until 2016.\n",
    "\n",
    "- The bottom describing the total sales per genre fro m2013 until 2016.\n",
    "\n",
    "Looking at the boxplot:\n",
    "\n",
    "- The most profitble genre is the Shoter genre regardless of it number of games per year. Secong most profitble genre is Sports. Regardelss the high number of games for the A ction genre this genre is not a profitble as it would seem to be.\n",
    "\n",
    "We can say that the most popular and profitable genre of games is Action genre in terms of game releases and in total sales.\n",
    "The second most released game genres were role-playing and adventure but in terms of profit the socond highest is shooter genre that is followed by Sports, eventhough shooter genre is 5th and Sports genre is the 4th in game releases. \n",
    "\n",
    "The data observed through these graphs and the Boxplot suggests that the genres sport and Shooter are the most profit potential among the genres as they do not have a high game count but a high profit."
   ]
  },
  {
   "cell_type": "markdown",
   "metadata": {},
   "source": [
    "----------------"
   ]
  },
  {
   "cell_type": "markdown",
   "metadata": {},
   "source": [
    "**Step overview**\n",
    "\n",
    "In this step on Exploratory data analysis we gathered a good amlint of indormation regarding our data.\n",
    "We Looked at how many games were released in different years and It seems that in 2008 and 2009 there was the biggest amount of games, 1427 and 1426, that was ever made by 2016.\n",
    "\n",
    "\n",
    "We noticed that the data started growing noticably at 1994, before that there were less that annual 100 games and after 1994 that number of games that were released annualy started jumping and at times doubling themselves each year.\n",
    " After 2008, there was a declining trend of game releases per year that stabilized beetween 500-600 games in the last years of 2013 to 2016. \n",
    "\n",
    "\n",
    "In all of the graphs of our platforms there was a visible distribution of ascending and gradually descending in the period of 10 years. For example, PS2 used to be the most popular platform in the early 2000 as its distibuiton seemed to be the most stable troughout the years until it reached a plateau between 02 to 06 and standed as the most popular platform of that time.\n",
    "\n",
    "\n",
    "By 2005, XBOX-360 came out and then at 2006 Wii and PS3 came out and started gaining popularity. Gradualy, sales of PS2 started going down and by 2010 XBOX-360 sales were now declining and hinting that there were another platform that was gaining popularity, which was the PS3.\n",
    "Then we saw that the lifetime of our leading platforms are about 10 years and it reaches its peak in terms of profit in its midlife, about 5-6 yers, we knew that the median lifetime of a platform is 6 years but as we seen in our data it takes 4 to 6 years to reach its profit limit for leading platforms. So we filtered the data to a minimum year of 2013 in order to target any platform that are on the rise and could be profitable in 2017.\n",
    "\n",
    "\n",
    "Afrer we excluded platfoms that have outdated their profit limit in order to focus from now on only on platforms that can still be on the rise by 2017. Overall, the difference in sales was significant and the only profitable platforms that were presented in the data were XBOX360, PS4, XOne and Wii.\n",
    "\n",
    "\n",
    "The platform with the highest total sales average in the data was XBOX360 but we already know that this platform is gradually declining. contrary, Wii platform exhibits high boundaries but a relatively low average point. The platform we were most iterested in were PS4 and XOne which seemed to have smaller boundaries but relatively average points and outliers.\n",
    "\n",
    "Overall, the difference in sales were significant and the only profitable platforms that are presented in the boxplot were XBOX360, PS4, XOne and Wii.\n",
    "\n",
    "The platforms we are only interested in, PS4 and XOne, which resambled eachother troughout the data and in their quartile values. The average value of XOne was higher then the PS4 average but the the quartile range of PS4 is slighlty bogger than XOne.\n",
    "\n",
    "Interestingly There was a correlation between critic_score and total_sales. Which suggeted that professional reviews do have an affect on the total sales of games for the platforms we chose. but user reviews had no correlation to total sales atall.\n",
    "\n",
    "After looking the the data through boxplot graphs comparing total sales and genres We can say that the most popular and profitable genre of the games is Action genre in terms of game releases and in total sales.\n",
    "The second most released game genres were role-playing and adventure but in terms of profit the socond highest is shooter genre that is followed by Sports, eventhough shooter genre is 5th and Sports genre is the 4th in game releases.\n",
    "\n",
    "concluding the data we observed through these graphs we suggest that the genres sport and Shooter are the most profit potential among the genres as they do not have a high game count but a high profit."
   ]
  },
  {
   "cell_type": "markdown",
   "metadata": {},
   "source": [
    "---------------------"
   ]
  },
  {
   "cell_type": "markdown",
   "metadata": {},
   "source": [
    "# Step 4 - Create a user profile for each region"
   ]
  },
  {
   "cell_type": "markdown",
   "metadata": {},
   "source": [
    "**In this step we intnend to:**\n",
    "\n",
    "For each region tha twe have in our dataset we intend to identify the top 5 platforms and describe variations in their market shares from region to region.\n",
    "\n",
    "Observe the top 5 genres for each region\n",
    "\n",
    "And see if, and if so how, the ESRB (prefered age of audience) reviews effect the sales of each regions.   \n",
    "\n"
   ]
  },
  {
   "cell_type": "markdown",
   "metadata": {},
   "source": [
    "For each region (NA, EU, JP), determine:\n",
    "\n",
    "The top five platforms. Describe variations in their market shares from region to region.\n",
    "\n",
    "The top five genres. Explain the difference.\n",
    "\n",
    "Do ESRB ratings affect sales in individual regions?\n"
   ]
  },
  {
   "cell_type": "code",
   "execution_count": 54,
   "metadata": {
    "scrolled": true
   },
   "outputs": [
    {
     "data": {
      "text/html": [
       "<div>\n",
       "<style scoped>\n",
       "    .dataframe tbody tr th:only-of-type {\n",
       "        vertical-align: middle;\n",
       "    }\n",
       "\n",
       "    .dataframe tbody tr th {\n",
       "        vertical-align: top;\n",
       "    }\n",
       "\n",
       "    .dataframe thead th {\n",
       "        text-align: right;\n",
       "    }\n",
       "</style>\n",
       "<table border=\"1\" class=\"dataframe\">\n",
       "  <thead>\n",
       "    <tr style=\"text-align: right;\">\n",
       "      <th></th>\n",
       "      <th>platform</th>\n",
       "      <th>total_sales</th>\n",
       "      <th>na_sales</th>\n",
       "      <th>jp_sales</th>\n",
       "      <th>eu_sales</th>\n",
       "    </tr>\n",
       "  </thead>\n",
       "  <tbody>\n",
       "    <tr>\n",
       "      <th>4</th>\n",
       "      <td>PS4</td>\n",
       "      <td>314.14</td>\n",
       "      <td>108.74</td>\n",
       "      <td>15.96</td>\n",
       "      <td>141.09</td>\n",
       "    </tr>\n",
       "    <tr>\n",
       "      <th>3</th>\n",
       "      <td>PS3</td>\n",
       "      <td>181.43</td>\n",
       "      <td>63.50</td>\n",
       "      <td>23.35</td>\n",
       "      <td>67.81</td>\n",
       "    </tr>\n",
       "    <tr>\n",
       "      <th>10</th>\n",
       "      <td>XOne</td>\n",
       "      <td>159.32</td>\n",
       "      <td>93.12</td>\n",
       "      <td>0.34</td>\n",
       "      <td>51.59</td>\n",
       "    </tr>\n",
       "    <tr>\n",
       "      <th>0</th>\n",
       "      <td>3DS</td>\n",
       "      <td>143.25</td>\n",
       "      <td>38.20</td>\n",
       "      <td>67.81</td>\n",
       "      <td>30.96</td>\n",
       "    </tr>\n",
       "    <tr>\n",
       "      <th>9</th>\n",
       "      <td>X360</td>\n",
       "      <td>136.80</td>\n",
       "      <td>81.66</td>\n",
       "      <td>0.51</td>\n",
       "      <td>42.52</td>\n",
       "    </tr>\n",
       "    <tr>\n",
       "      <th>8</th>\n",
       "      <td>WiiU</td>\n",
       "      <td>64.63</td>\n",
       "      <td>29.21</td>\n",
       "      <td>10.88</td>\n",
       "      <td>19.85</td>\n",
       "    </tr>\n",
       "    <tr>\n",
       "      <th>2</th>\n",
       "      <td>PC</td>\n",
       "      <td>39.43</td>\n",
       "      <td>11.11</td>\n",
       "      <td>0.00</td>\n",
       "      <td>25.36</td>\n",
       "    </tr>\n",
       "    <tr>\n",
       "      <th>6</th>\n",
       "      <td>PSV</td>\n",
       "      <td>32.99</td>\n",
       "      <td>5.04</td>\n",
       "      <td>18.59</td>\n",
       "      <td>6.10</td>\n",
       "    </tr>\n",
       "    <tr>\n",
       "      <th>7</th>\n",
       "      <td>Wii</td>\n",
       "      <td>13.66</td>\n",
       "      <td>6.56</td>\n",
       "      <td>0.05</td>\n",
       "      <td>5.93</td>\n",
       "    </tr>\n",
       "    <tr>\n",
       "      <th>5</th>\n",
       "      <td>PSP</td>\n",
       "      <td>3.50</td>\n",
       "      <td>0.00</td>\n",
       "      <td>3.29</td>\n",
       "      <td>0.17</td>\n",
       "    </tr>\n",
       "    <tr>\n",
       "      <th>1</th>\n",
       "      <td>DS</td>\n",
       "      <td>1.54</td>\n",
       "      <td>0.57</td>\n",
       "      <td>0.00</td>\n",
       "      <td>0.85</td>\n",
       "    </tr>\n",
       "  </tbody>\n",
       "</table>\n",
       "</div>"
      ],
      "text/plain": [
       "   platform  total_sales  na_sales  jp_sales  eu_sales\n",
       "4       PS4       314.14    108.74     15.96    141.09\n",
       "3       PS3       181.43     63.50     23.35     67.81\n",
       "10     XOne       159.32     93.12      0.34     51.59\n",
       "0       3DS       143.25     38.20     67.81     30.96\n",
       "9      X360       136.80     81.66      0.51     42.52\n",
       "8      WiiU        64.63     29.21     10.88     19.85\n",
       "2        PC        39.43     11.11      0.00     25.36\n",
       "6       PSV        32.99      5.04     18.59      6.10\n",
       "7       Wii        13.66      6.56      0.05      5.93\n",
       "5       PSP         3.50      0.00      3.29      0.17\n",
       "1        DS         1.54      0.57      0.00      0.85"
      ]
     },
     "execution_count": 54,
     "metadata": {},
     "output_type": "execute_result"
    }
   ],
   "source": [
    "data_filtered.groupby(['platform'])['total_sales','na_sales','jp_sales','eu_sales'].sum().reset_index().sort_values(by='total_sales', ascending=False)"
   ]
  },
  {
   "cell_type": "markdown",
   "metadata": {},
   "source": [
    "This dataframe represents the sales of each platform in all the regions we will build a profile in this step."
   ]
  },
  {
   "cell_type": "markdown",
   "metadata": {},
   "source": [
    "-----------------"
   ]
  },
  {
   "cell_type": "markdown",
   "metadata": {},
   "source": [
    "**NA region profile**"
   ]
  },
  {
   "cell_type": "markdown",
   "metadata": {},
   "source": [
    "- top 5 platform of NA region "
   ]
  },
  {
   "cell_type": "code",
   "execution_count": 55,
   "metadata": {
    "scrolled": true
   },
   "outputs": [
    {
     "data": {
      "text/html": [
       "<div>\n",
       "<style scoped>\n",
       "    .dataframe tbody tr th:only-of-type {\n",
       "        vertical-align: middle;\n",
       "    }\n",
       "\n",
       "    .dataframe tbody tr th {\n",
       "        vertical-align: top;\n",
       "    }\n",
       "\n",
       "    .dataframe thead th {\n",
       "        text-align: right;\n",
       "    }\n",
       "</style>\n",
       "<table border=\"1\" class=\"dataframe\">\n",
       "  <thead>\n",
       "    <tr style=\"text-align: right;\">\n",
       "      <th></th>\n",
       "      <th>total_sales</th>\n",
       "      <th>na_sales</th>\n",
       "    </tr>\n",
       "    <tr>\n",
       "      <th>platform</th>\n",
       "      <th></th>\n",
       "      <th></th>\n",
       "    </tr>\n",
       "  </thead>\n",
       "  <tbody>\n",
       "    <tr>\n",
       "      <th>PS4</th>\n",
       "      <td>314.14</td>\n",
       "      <td>108.74</td>\n",
       "    </tr>\n",
       "    <tr>\n",
       "      <th>XOne</th>\n",
       "      <td>159.32</td>\n",
       "      <td>93.12</td>\n",
       "    </tr>\n",
       "    <tr>\n",
       "      <th>X360</th>\n",
       "      <td>136.80</td>\n",
       "      <td>81.66</td>\n",
       "    </tr>\n",
       "    <tr>\n",
       "      <th>PS3</th>\n",
       "      <td>181.43</td>\n",
       "      <td>63.50</td>\n",
       "    </tr>\n",
       "    <tr>\n",
       "      <th>3DS</th>\n",
       "      <td>143.25</td>\n",
       "      <td>38.20</td>\n",
       "    </tr>\n",
       "  </tbody>\n",
       "</table>\n",
       "</div>"
      ],
      "text/plain": [
       "          total_sales  na_sales\n",
       "platform                       \n",
       "PS4            314.14    108.74\n",
       "XOne           159.32     93.12\n",
       "X360           136.80     81.66\n",
       "PS3            181.43     63.50\n",
       "3DS            143.25     38.20"
      ]
     },
     "execution_count": 55,
     "metadata": {},
     "output_type": "execute_result"
    }
   ],
   "source": [
    "na_platform_profile = data_filtered.groupby(['platform'])['total_sales','na_sales'].sum().sort_values(by='na_sales',ascending=False)\n",
    "na_platform_profile.head(5)"
   ]
  },
  {
   "cell_type": "markdown",
   "metadata": {},
   "source": [
    "- Top 5 genres of NA region"
   ]
  },
  {
   "cell_type": "code",
   "execution_count": 56,
   "metadata": {
    "scrolled": true
   },
   "outputs": [
    {
     "data": {
      "text/html": [
       "<div>\n",
       "<style scoped>\n",
       "    .dataframe tbody tr th:only-of-type {\n",
       "        vertical-align: middle;\n",
       "    }\n",
       "\n",
       "    .dataframe tbody tr th {\n",
       "        vertical-align: top;\n",
       "    }\n",
       "\n",
       "    .dataframe thead th {\n",
       "        text-align: right;\n",
       "    }\n",
       "</style>\n",
       "<table border=\"1\" class=\"dataframe\">\n",
       "  <thead>\n",
       "    <tr style=\"text-align: right;\">\n",
       "      <th></th>\n",
       "      <th>total_sales</th>\n",
       "      <th>na_sales</th>\n",
       "    </tr>\n",
       "    <tr>\n",
       "      <th>genre</th>\n",
       "      <th></th>\n",
       "      <th></th>\n",
       "    </tr>\n",
       "  </thead>\n",
       "  <tbody>\n",
       "    <tr>\n",
       "      <th>Action</th>\n",
       "      <td>321.87</td>\n",
       "      <td>126.05</td>\n",
       "    </tr>\n",
       "    <tr>\n",
       "      <th>Shooter</th>\n",
       "      <td>232.98</td>\n",
       "      <td>109.74</td>\n",
       "    </tr>\n",
       "    <tr>\n",
       "      <th>Sports</th>\n",
       "      <td>150.65</td>\n",
       "      <td>65.27</td>\n",
       "    </tr>\n",
       "    <tr>\n",
       "      <th>Role-Playing</th>\n",
       "      <td>145.89</td>\n",
       "      <td>46.40</td>\n",
       "    </tr>\n",
       "    <tr>\n",
       "      <th>Misc</th>\n",
       "      <td>62.82</td>\n",
       "      <td>27.49</td>\n",
       "    </tr>\n",
       "  </tbody>\n",
       "</table>\n",
       "</div>"
      ],
      "text/plain": [
       "              total_sales  na_sales\n",
       "genre                              \n",
       "Action             321.87    126.05\n",
       "Shooter            232.98    109.74\n",
       "Sports             150.65     65.27\n",
       "Role-Playing       145.89     46.40\n",
       "Misc                62.82     27.49"
      ]
     },
     "execution_count": 56,
     "metadata": {},
     "output_type": "execute_result"
    }
   ],
   "source": [
    "na_genre_profile = data_filtered.groupby(['genre'])['total_sales','na_sales'].sum().sort_values(by='na_sales',ascending=False)\n",
    "na_genre_profile.head(5)"
   ]
  },
  {
   "cell_type": "markdown",
   "metadata": {},
   "source": [
    "- What ratings are at the top of the sales in the NA region "
   ]
  },
  {
   "cell_type": "code",
   "execution_count": 57,
   "metadata": {
    "scrolled": true
   },
   "outputs": [
    {
     "data": {
      "text/html": [
       "<div>\n",
       "<style scoped>\n",
       "    .dataframe tbody tr th:only-of-type {\n",
       "        vertical-align: middle;\n",
       "    }\n",
       "\n",
       "    .dataframe tbody tr th {\n",
       "        vertical-align: top;\n",
       "    }\n",
       "\n",
       "    .dataframe thead th {\n",
       "        text-align: right;\n",
       "    }\n",
       "</style>\n",
       "<table border=\"1\" class=\"dataframe\">\n",
       "  <thead>\n",
       "    <tr style=\"text-align: right;\">\n",
       "      <th></th>\n",
       "      <th>total_sales</th>\n",
       "      <th>na_sales</th>\n",
       "    </tr>\n",
       "    <tr>\n",
       "      <th>rating</th>\n",
       "      <th></th>\n",
       "      <th></th>\n",
       "    </tr>\n",
       "  </thead>\n",
       "  <tbody>\n",
       "    <tr>\n",
       "      <th>M</th>\n",
       "      <td>371.68</td>\n",
       "      <td>165.21</td>\n",
       "    </tr>\n",
       "    <tr>\n",
       "      <th>unknown</th>\n",
       "      <td>276.84</td>\n",
       "      <td>89.42</td>\n",
       "    </tr>\n",
       "    <tr>\n",
       "      <th>E</th>\n",
       "      <td>200.16</td>\n",
       "      <td>79.05</td>\n",
       "    </tr>\n",
       "    <tr>\n",
       "      <th>E10+</th>\n",
       "      <td>115.39</td>\n",
       "      <td>54.24</td>\n",
       "    </tr>\n",
       "    <tr>\n",
       "      <th>T</th>\n",
       "      <td>126.62</td>\n",
       "      <td>49.79</td>\n",
       "    </tr>\n",
       "  </tbody>\n",
       "</table>\n",
       "</div>"
      ],
      "text/plain": [
       "         total_sales  na_sales\n",
       "rating                        \n",
       "M             371.68    165.21\n",
       "unknown       276.84     89.42\n",
       "E             200.16     79.05\n",
       "E10+          115.39     54.24\n",
       "T             126.62     49.79"
      ]
     },
     "execution_count": 57,
     "metadata": {},
     "output_type": "execute_result"
    }
   ],
   "source": [
    "na_rating_profile = data_filtered.groupby(['rating'])['total_sales','na_sales'].sum().sort_values(by='na_sales',ascending=False)\n",
    "na_rating_profile.head(5)"
   ]
  },
  {
   "cell_type": "code",
   "execution_count": 58,
   "metadata": {},
   "outputs": [
    {
     "data": {
      "image/png": "[encoded data removed]",
      "text/plain": [
       "<Figure size 1080x360 with 1 Axes>"
      ]
     },
     "metadata": {},
     "output_type": "display_data"
    }
   ],
   "source": [
    "fig, axes = plt.subplots(figsize=(15, 5))\n",
    "ax=sns.boxplot(x='rating', y='na_sales', data=data_filtered,showfliers = False)\n",
    "plt.title('Boxplot of NA sales per rating')\n",
    "plt.show()"
   ]
  },
  {
   "cell_type": "markdown",
   "metadata": {},
   "source": [
    "The NA region profile:\n",
    "\n",
    "- The most popular platform for this profile is the PS4, its followed by XOne and X360.\n",
    "\n",
    "- The majority of this profile sales are on games in the Action and Shooter genre.\n",
    "\n",
    "- The ratings of its popular games are rated M.\n"
   ]
  },
  {
   "cell_type": "markdown",
   "metadata": {},
   "source": [
    "-----------------"
   ]
  },
  {
   "cell_type": "markdown",
   "metadata": {},
   "source": [
    "**EU region profile**"
   ]
  },
  {
   "cell_type": "markdown",
   "metadata": {},
   "source": [
    "- Top 5 platforms in EU region"
   ]
  },
  {
   "cell_type": "code",
   "execution_count": 59,
   "metadata": {
    "scrolled": true
   },
   "outputs": [
    {
     "data": {
      "text/html": [
       "<div>\n",
       "<style scoped>\n",
       "    .dataframe tbody tr th:only-of-type {\n",
       "        vertical-align: middle;\n",
       "    }\n",
       "\n",
       "    .dataframe tbody tr th {\n",
       "        vertical-align: top;\n",
       "    }\n",
       "\n",
       "    .dataframe thead th {\n",
       "        text-align: right;\n",
       "    }\n",
       "</style>\n",
       "<table border=\"1\" class=\"dataframe\">\n",
       "  <thead>\n",
       "    <tr style=\"text-align: right;\">\n",
       "      <th></th>\n",
       "      <th>total_sales</th>\n",
       "      <th>eu_sales</th>\n",
       "    </tr>\n",
       "    <tr>\n",
       "      <th>platform</th>\n",
       "      <th></th>\n",
       "      <th></th>\n",
       "    </tr>\n",
       "  </thead>\n",
       "  <tbody>\n",
       "    <tr>\n",
       "      <th>PS4</th>\n",
       "      <td>314.14</td>\n",
       "      <td>141.09</td>\n",
       "    </tr>\n",
       "    <tr>\n",
       "      <th>PS3</th>\n",
       "      <td>181.43</td>\n",
       "      <td>67.81</td>\n",
       "    </tr>\n",
       "    <tr>\n",
       "      <th>XOne</th>\n",
       "      <td>159.32</td>\n",
       "      <td>51.59</td>\n",
       "    </tr>\n",
       "    <tr>\n",
       "      <th>X360</th>\n",
       "      <td>136.80</td>\n",
       "      <td>42.52</td>\n",
       "    </tr>\n",
       "    <tr>\n",
       "      <th>3DS</th>\n",
       "      <td>143.25</td>\n",
       "      <td>30.96</td>\n",
       "    </tr>\n",
       "  </tbody>\n",
       "</table>\n",
       "</div>"
      ],
      "text/plain": [
       "          total_sales  eu_sales\n",
       "platform                       \n",
       "PS4            314.14    141.09\n",
       "PS3            181.43     67.81\n",
       "XOne           159.32     51.59\n",
       "X360           136.80     42.52\n",
       "3DS            143.25     30.96"
      ]
     },
     "execution_count": 59,
     "metadata": {},
     "output_type": "execute_result"
    }
   ],
   "source": [
    "eu_platform_profile = data_filtered.groupby(['platform'])['total_sales','eu_sales'].sum().sort_values(by='eu_sales',ascending=False)\n",
    "eu_platform_profile.head(5)"
   ]
  },
  {
   "cell_type": "markdown",
   "metadata": {},
   "source": [
    "- Top 5 genres in EU region"
   ]
  },
  {
   "cell_type": "code",
   "execution_count": 60,
   "metadata": {},
   "outputs": [
    {
     "data": {
      "text/html": [
       "<div>\n",
       "<style scoped>\n",
       "    .dataframe tbody tr th:only-of-type {\n",
       "        vertical-align: middle;\n",
       "    }\n",
       "\n",
       "    .dataframe tbody tr th {\n",
       "        vertical-align: top;\n",
       "    }\n",
       "\n",
       "    .dataframe thead th {\n",
       "        text-align: right;\n",
       "    }\n",
       "</style>\n",
       "<table border=\"1\" class=\"dataframe\">\n",
       "  <thead>\n",
       "    <tr style=\"text-align: right;\">\n",
       "      <th></th>\n",
       "      <th>total_sales</th>\n",
       "      <th>eu_sales</th>\n",
       "    </tr>\n",
       "    <tr>\n",
       "      <th>genre</th>\n",
       "      <th></th>\n",
       "      <th></th>\n",
       "    </tr>\n",
       "  </thead>\n",
       "  <tbody>\n",
       "    <tr>\n",
       "      <th>Action</th>\n",
       "      <td>321.87</td>\n",
       "      <td>118.13</td>\n",
       "    </tr>\n",
       "    <tr>\n",
       "      <th>Shooter</th>\n",
       "      <td>232.98</td>\n",
       "      <td>87.86</td>\n",
       "    </tr>\n",
       "    <tr>\n",
       "      <th>Sports</th>\n",
       "      <td>150.65</td>\n",
       "      <td>60.52</td>\n",
       "    </tr>\n",
       "    <tr>\n",
       "      <th>Role-Playing</th>\n",
       "      <td>145.89</td>\n",
       "      <td>36.97</td>\n",
       "    </tr>\n",
       "    <tr>\n",
       "      <th>Racing</th>\n",
       "      <td>39.89</td>\n",
       "      <td>20.19</td>\n",
       "    </tr>\n",
       "  </tbody>\n",
       "</table>\n",
       "</div>"
      ],
      "text/plain": [
       "              total_sales  eu_sales\n",
       "genre                              \n",
       "Action             321.87    118.13\n",
       "Shooter            232.98     87.86\n",
       "Sports             150.65     60.52\n",
       "Role-Playing       145.89     36.97\n",
       "Racing              39.89     20.19"
      ]
     },
     "execution_count": 60,
     "metadata": {},
     "output_type": "execute_result"
    }
   ],
   "source": [
    "eu_genre_profile = data_filtered.groupby(['genre'])['total_sales','eu_sales'].sum().sort_values(by='eu_sales',ascending=False)\n",
    "eu_genre_profile.head(5)"
   ]
  },
  {
   "cell_type": "markdown",
   "metadata": {},
   "source": [
    "- What ratings are at the top of the sales in the EU region "
   ]
  },
  {
   "cell_type": "code",
   "execution_count": 61,
   "metadata": {
    "scrolled": false
   },
   "outputs": [
    {
     "data": {
      "text/html": [
       "<div>\n",
       "<style scoped>\n",
       "    .dataframe tbody tr th:only-of-type {\n",
       "        vertical-align: middle;\n",
       "    }\n",
       "\n",
       "    .dataframe tbody tr th {\n",
       "        vertical-align: top;\n",
       "    }\n",
       "\n",
       "    .dataframe thead th {\n",
       "        text-align: right;\n",
       "    }\n",
       "</style>\n",
       "<table border=\"1\" class=\"dataframe\">\n",
       "  <thead>\n",
       "    <tr style=\"text-align: right;\">\n",
       "      <th></th>\n",
       "      <th>total_sales</th>\n",
       "      <th>eu_sales</th>\n",
       "    </tr>\n",
       "    <tr>\n",
       "      <th>rating</th>\n",
       "      <th></th>\n",
       "      <th></th>\n",
       "    </tr>\n",
       "  </thead>\n",
       "  <tbody>\n",
       "    <tr>\n",
       "      <th>M</th>\n",
       "      <td>371.68</td>\n",
       "      <td>145.32</td>\n",
       "    </tr>\n",
       "    <tr>\n",
       "      <th>E</th>\n",
       "      <td>200.16</td>\n",
       "      <td>83.36</td>\n",
       "    </tr>\n",
       "    <tr>\n",
       "      <th>unknown</th>\n",
       "      <td>276.84</td>\n",
       "      <td>78.91</td>\n",
       "    </tr>\n",
       "    <tr>\n",
       "      <th>E10+</th>\n",
       "      <td>115.39</td>\n",
       "      <td>42.69</td>\n",
       "    </tr>\n",
       "    <tr>\n",
       "      <th>T</th>\n",
       "      <td>126.62</td>\n",
       "      <td>41.95</td>\n",
       "    </tr>\n",
       "  </tbody>\n",
       "</table>\n",
       "</div>"
      ],
      "text/plain": [
       "         total_sales  eu_sales\n",
       "rating                        \n",
       "M             371.68    145.32\n",
       "E             200.16     83.36\n",
       "unknown       276.84     78.91\n",
       "E10+          115.39     42.69\n",
       "T             126.62     41.95"
      ]
     },
     "execution_count": 61,
     "metadata": {},
     "output_type": "execute_result"
    }
   ],
   "source": [
    "eu_rating_profile = data_filtered.groupby(['rating'])['total_sales','eu_sales'].sum().sort_values(by='eu_sales',ascending=False)\n",
    "eu_rating_profile.head(5)"
   ]
  },
  {
   "cell_type": "code",
   "execution_count": 62,
   "metadata": {},
   "outputs": [
    {
     "data": {
      "image/png": "[encoded data removed]",
      "text/plain": [
       "<Figure size 1080x360 with 1 Axes>"
      ]
     },
     "metadata": {},
     "output_type": "display_data"
    }
   ],
   "source": [
    "fig, axes = plt.subplots(figsize=(15, 5))\n",
    "ax=sns.boxplot(x='rating', y='eu_sales', data=data_filtered,showfliers = False)\n",
    "plt.title('Boxplot of NA sales per rating')\n",
    "plt.show()"
   ]
  },
  {
   "cell_type": "markdown",
   "metadata": {},
   "source": [
    "The EU region profile:\n",
    "\n",
    "- The most popular platform for this profile is the PS4, its followed by PS3 and XOne.\n",
    "\n",
    "- The majority of this profile sales are on games in the Action and Shooter genre.\n",
    "\n",
    "- The ratings of its popular games are rated M.\n",
    "\n",
    "NA and EU profiles are very similiar in all selected parametes."
   ]
  },
  {
   "cell_type": "markdown",
   "metadata": {},
   "source": [
    "**JP region profile**"
   ]
  },
  {
   "cell_type": "markdown",
   "metadata": {},
   "source": [
    "- Top 5 platforms in JP region"
   ]
  },
  {
   "cell_type": "code",
   "execution_count": 63,
   "metadata": {},
   "outputs": [
    {
     "data": {
      "text/html": [
       "<div>\n",
       "<style scoped>\n",
       "    .dataframe tbody tr th:only-of-type {\n",
       "        vertical-align: middle;\n",
       "    }\n",
       "\n",
       "    .dataframe tbody tr th {\n",
       "        vertical-align: top;\n",
       "    }\n",
       "\n",
       "    .dataframe thead th {\n",
       "        text-align: right;\n",
       "    }\n",
       "</style>\n",
       "<table border=\"1\" class=\"dataframe\">\n",
       "  <thead>\n",
       "    <tr style=\"text-align: right;\">\n",
       "      <th></th>\n",
       "      <th>total_sales</th>\n",
       "      <th>jp_sales</th>\n",
       "    </tr>\n",
       "    <tr>\n",
       "      <th>platform</th>\n",
       "      <th></th>\n",
       "      <th></th>\n",
       "    </tr>\n",
       "  </thead>\n",
       "  <tbody>\n",
       "    <tr>\n",
       "      <th>3DS</th>\n",
       "      <td>143.25</td>\n",
       "      <td>67.81</td>\n",
       "    </tr>\n",
       "    <tr>\n",
       "      <th>PS3</th>\n",
       "      <td>181.43</td>\n",
       "      <td>23.35</td>\n",
       "    </tr>\n",
       "    <tr>\n",
       "      <th>PSV</th>\n",
       "      <td>32.99</td>\n",
       "      <td>18.59</td>\n",
       "    </tr>\n",
       "    <tr>\n",
       "      <th>PS4</th>\n",
       "      <td>314.14</td>\n",
       "      <td>15.96</td>\n",
       "    </tr>\n",
       "    <tr>\n",
       "      <th>WiiU</th>\n",
       "      <td>64.63</td>\n",
       "      <td>10.88</td>\n",
       "    </tr>\n",
       "  </tbody>\n",
       "</table>\n",
       "</div>"
      ],
      "text/plain": [
       "          total_sales  jp_sales\n",
       "platform                       \n",
       "3DS            143.25     67.81\n",
       "PS3            181.43     23.35\n",
       "PSV             32.99     18.59\n",
       "PS4            314.14     15.96\n",
       "WiiU            64.63     10.88"
      ]
     },
     "execution_count": 63,
     "metadata": {},
     "output_type": "execute_result"
    }
   ],
   "source": [
    "jp_platform_profile = data_filtered.groupby(['platform'])['total_sales','jp_sales'].sum().sort_values(by='jp_sales',ascending=False)\n",
    "jp_platform_profile.head(5)"
   ]
  },
  {
   "cell_type": "markdown",
   "metadata": {},
   "source": [
    "- Top 5 genres in JP region"
   ]
  },
  {
   "cell_type": "code",
   "execution_count": 64,
   "metadata": {},
   "outputs": [
    {
     "data": {
      "text/html": [
       "<div>\n",
       "<style scoped>\n",
       "    .dataframe tbody tr th:only-of-type {\n",
       "        vertical-align: middle;\n",
       "    }\n",
       "\n",
       "    .dataframe tbody tr th {\n",
       "        vertical-align: top;\n",
       "    }\n",
       "\n",
       "    .dataframe thead th {\n",
       "        text-align: right;\n",
       "    }\n",
       "</style>\n",
       "<table border=\"1\" class=\"dataframe\">\n",
       "  <thead>\n",
       "    <tr style=\"text-align: right;\">\n",
       "      <th></th>\n",
       "      <th>total_sales</th>\n",
       "      <th>jp_sales</th>\n",
       "    </tr>\n",
       "    <tr>\n",
       "      <th>genre</th>\n",
       "      <th></th>\n",
       "      <th></th>\n",
       "    </tr>\n",
       "  </thead>\n",
       "  <tbody>\n",
       "    <tr>\n",
       "      <th>Role-Playing</th>\n",
       "      <td>145.89</td>\n",
       "      <td>51.04</td>\n",
       "    </tr>\n",
       "    <tr>\n",
       "      <th>Action</th>\n",
       "      <td>321.87</td>\n",
       "      <td>40.49</td>\n",
       "    </tr>\n",
       "    <tr>\n",
       "      <th>Misc</th>\n",
       "      <td>62.82</td>\n",
       "      <td>9.20</td>\n",
       "    </tr>\n",
       "    <tr>\n",
       "      <th>Fighting</th>\n",
       "      <td>35.31</td>\n",
       "      <td>7.65</td>\n",
       "    </tr>\n",
       "    <tr>\n",
       "      <th>Shooter</th>\n",
       "      <td>232.98</td>\n",
       "      <td>6.61</td>\n",
       "    </tr>\n",
       "  </tbody>\n",
       "</table>\n",
       "</div>"
      ],
      "text/plain": [
       "              total_sales  jp_sales\n",
       "genre                              \n",
       "Role-Playing       145.89     51.04\n",
       "Action             321.87     40.49\n",
       "Misc                62.82      9.20\n",
       "Fighting            35.31      7.65\n",
       "Shooter            232.98      6.61"
      ]
     },
     "execution_count": 64,
     "metadata": {},
     "output_type": "execute_result"
    }
   ],
   "source": [
    "jp_genre_profile = data_filtered.groupby(['genre'])['total_sales','jp_sales'].sum().sort_values(by='jp_sales',ascending=False)\n",
    "jp_genre_profile.head(5)"
   ]
  },
  {
   "cell_type": "markdown",
   "metadata": {},
   "source": [
    "- What ratings are at the top of the sales in the EU region "
   ]
  },
  {
   "cell_type": "code",
   "execution_count": 65,
   "metadata": {
    "scrolled": false
   },
   "outputs": [
    {
     "data": {
      "text/html": [
       "<div>\n",
       "<style scoped>\n",
       "    .dataframe tbody tr th:only-of-type {\n",
       "        vertical-align: middle;\n",
       "    }\n",
       "\n",
       "    .dataframe tbody tr th {\n",
       "        vertical-align: top;\n",
       "    }\n",
       "\n",
       "    .dataframe thead th {\n",
       "        text-align: right;\n",
       "    }\n",
       "</style>\n",
       "<table border=\"1\" class=\"dataframe\">\n",
       "  <thead>\n",
       "    <tr style=\"text-align: right;\">\n",
       "      <th></th>\n",
       "      <th>total_sales</th>\n",
       "      <th>jp_sales</th>\n",
       "    </tr>\n",
       "    <tr>\n",
       "      <th>rating</th>\n",
       "      <th></th>\n",
       "      <th></th>\n",
       "    </tr>\n",
       "  </thead>\n",
       "  <tbody>\n",
       "    <tr>\n",
       "      <th>unknown</th>\n",
       "      <td>276.84</td>\n",
       "      <td>85.05</td>\n",
       "    </tr>\n",
       "    <tr>\n",
       "      <th>T</th>\n",
       "      <td>126.62</td>\n",
       "      <td>20.59</td>\n",
       "    </tr>\n",
       "    <tr>\n",
       "      <th>E</th>\n",
       "      <td>200.16</td>\n",
       "      <td>15.14</td>\n",
       "    </tr>\n",
       "    <tr>\n",
       "      <th>M</th>\n",
       "      <td>371.68</td>\n",
       "      <td>14.11</td>\n",
       "    </tr>\n",
       "    <tr>\n",
       "      <th>E10+</th>\n",
       "      <td>115.39</td>\n",
       "      <td>5.89</td>\n",
       "    </tr>\n",
       "  </tbody>\n",
       "</table>\n",
       "</div>"
      ],
      "text/plain": [
       "         total_sales  jp_sales\n",
       "rating                        \n",
       "unknown       276.84     85.05\n",
       "T             126.62     20.59\n",
       "E             200.16     15.14\n",
       "M             371.68     14.11\n",
       "E10+          115.39      5.89"
      ]
     },
     "execution_count": 65,
     "metadata": {},
     "output_type": "execute_result"
    }
   ],
   "source": [
    "jp_rating_profile = data_filtered.groupby(['rating'])['total_sales','jp_sales'].sum().sort_values(by='jp_sales',ascending=False)\n",
    "jp_rating_profile"
   ]
  },
  {
   "cell_type": "code",
   "execution_count": 66,
   "metadata": {
    "scrolled": true
   },
   "outputs": [
    {
     "data": {
      "image/png": "[encoded data removed]",
      "text/plain": [
       "<Figure size 1080x360 with 1 Axes>"
      ]
     },
     "metadata": {},
     "output_type": "display_data"
    }
   ],
   "source": [
    "fig, axes = plt.subplots(figsize=(15, 5))\n",
    "ax=sns.boxplot(x='rating', y='jp_sales', data=data_filtered,showfliers = False)\n",
    "plt.title('Boxplot of JP sales per rating')\n",
    "plt.show()"
   ]
  },
  {
   "cell_type": "markdown",
   "metadata": {},
   "source": [
    "The JP region profile:\n",
    "\n",
    "- The most popular platform for this profile is the 3DS and is foloowed by PS3.\n",
    "\n",
    "- The majority of this profile sales are on games in the Role-Playing and Action genre.\n",
    "\n",
    "- Theres a high amoiunt of unknown values in the rating column that cound indicate a different rating system for the games.\n",
    "\n",
    "- The ratings of its popular games are rated T.\n",
    "\n",
    "This profile is very different from the other 2. Not accounting for its smaller sales share it varies in all the selected parameters from the other profiles. "
   ]
  },
  {
   "cell_type": "markdown",
   "metadata": {},
   "source": [
    "**Step overview**\n",
    "\n",
    "In this step we made a user profile for the regions: NA, UN and JP.\n",
    "\n",
    "After comparing between the 3 user profiles in dataframes and boxplots we came to the conclutions that:\n",
    "\n",
    "- NA and UE profiles are similar in genre preferences, Action and Shooter, and ESRB ratings, M, for their games.\n",
    "- NA and UE also prefer the PS4 platform.\n",
    "- JP profile is differnt from NA and UE in everything as it prefets the 3DS platform and Role-Playing games for T ESRB rating.\n",
    "- Japan has noticebly high number of unknown values in the genre column when compared to the other region. it could suggest a different rating system of games unique for this region.  "
   ]
  },
  {
   "cell_type": "markdown",
   "metadata": {},
   "source": [
    "--------------"
   ]
  },
  {
   "cell_type": "markdown",
   "metadata": {},
   "source": [
    "# Step 5 - Test the following hypotheses:\n"
   ]
  },
  {
   "cell_type": "markdown",
   "metadata": {},
   "source": [
    "- In this step we itend to check:\n",
    "\n",
    "**—Average user ratings of the Xbox One and PC platforms are the same.**\n",
    "\n",
    "**—Average user ratings for the Action and Sports genres are different.**\n",
    "\n",
    "- the alpha threshold value for this hypothesis is 0.05.\n",
    "\n",
    "**Procedure**\n",
    "\n",
    " - For the first hypothesis:\n",
    "\n",
    "    H0: Average user ratings of the Xbox One platform equal to Average user ratings of the  PC platform.\n",
    "\n",
    "    H1:  Average user ratings of the Xbox One platform is not equal to Average user ratings of the  PC platform.\n",
    "    \n",
    "1) We will seperate the user rating values from the dataframes to test out our hypothesis of them.\n",
    "\n",
    "2) We will compare the user ratings of this 2 different platform by using t-test.\n",
    "\n",
    "3) Presenting findings.\n",
    "\n",
    "\n",
    "  - For the second hypothesis:\n",
    "\n",
    "    H0: Average user ratings for the Action genre are not different from the Average user ratings for the Sports genre.\n",
    "\n",
    "    H1: Average user ratings for the Action genre are different from the Average user ratings for the Sports genre.\n",
    "       \n",
    "1) We will seperate the user rating values from the dataframes to test out our hypothesis of them.\n",
    "\n",
    "2) We will compare the user ratings of this 2 different genres by using t-test.\n",
    "\n",
    "3) Presenting findings."
   ]
  },
  {
   "cell_type": "markdown",
   "metadata": {},
   "source": [
    "--------------------"
   ]
  },
  {
   "cell_type": "markdown",
   "metadata": {},
   "source": [
    "**First Hypothesis**\n",
    "\n",
    "H0: Average user ratings of the Xbox One platform equal to Average user ratings of the PC platform.\n",
    "\n",
    "H1: Average user ratings of the Xbox One platform is not equal to Average user ratings of the PC platform."
   ]
  },
  {
   "cell_type": "markdown",
   "metadata": {},
   "source": [
    "1) seperating the data we need from the dataframe:"
   ]
  },
  {
   "cell_type": "code",
   "execution_count": 67,
   "metadata": {},
   "outputs": [],
   "source": [
    "xone = data[(data.platform == 'XOne')  & (data.user_score.notna())]['user_score'].astype(float)\n",
    "pc = data[(data.platform == 'PC')  & (data.user_score.notna())]['user_score'].astype(float)\n",
    "\n",
    "alpha = 0.05"
   ]
  },
  {
   "cell_type": "code",
   "execution_count": 68,
   "metadata": {},
   "outputs": [
    {
     "data": {
      "text/plain": [
       "165      7.9\n",
       "179      5.4\n",
       "242      6.4\n",
       "270      6.2\n",
       "373      4.1\n",
       "        ... \n",
       "16544    6.8\n",
       "16597    6.0\n",
       "16630    8.2\n",
       "16643    6.6\n",
       "16660    6.7\n",
       "Name: user_score, Length: 182, dtype: float64"
      ]
     },
     "execution_count": 68,
     "metadata": {},
     "output_type": "execute_result"
    }
   ],
   "source": [
    "xone"
   ]
  },
  {
   "cell_type": "markdown",
   "metadata": {},
   "source": [
    "we will condunt a levene test in order to test the assumption of whether the equality of the 2 variances is valid "
   ]
  },
  {
   "cell_type": "code",
   "execution_count": 69,
   "metadata": {
    "scrolled": true
   },
   "outputs": [
    {
     "data": {
      "text/plain": [
       "False"
      ]
     },
     "execution_count": 69,
     "metadata": {},
     "output_type": "execute_result"
    }
   ],
   "source": [
    "stat, p = levene(xone, pc)\n",
    "p<0.05"
   ]
  },
  {
   "cell_type": "markdown",
   "metadata": {},
   "source": [
    "2) We will compare the user ratings of this 2 different platform by using t-test."
   ]
  },
  {
   "cell_type": "code",
   "execution_count": 70,
   "metadata": {},
   "outputs": [],
   "source": [
    "first_result = stats.ttest_ind(xone, pc,equal_var=False)"
   ]
  },
  {
   "cell_type": "code",
   "execution_count": 71,
   "metadata": {
    "scrolled": true
   },
   "outputs": [
    {
     "name": "stdout",
     "output_type": "stream",
     "text": [
      "We reject the null hypothesis\n"
     ]
    }
   ],
   "source": [
    "if first_result.pvalue < alpha:\n",
    "    print(\"We reject the null hypothesis\")\n",
    "else:\n",
    "    print(\"We can't reject the null hypothesis\")"
   ]
  },
  {
   "cell_type": "markdown",
   "metadata": {},
   "source": [
    "3) Presenting findings."
   ]
  },
  {
   "cell_type": "code",
   "execution_count": 72,
   "metadata": {
    "scrolled": true
   },
   "outputs": [
    {
     "name": "stdout",
     "output_type": "stream",
     "text": [
      "6.521428571428572\n",
      "7.065960264900661\n"
     ]
    }
   ],
   "source": [
    "print(xone.mean())\n",
    "print(pc.mean())"
   ]
  },
  {
   "cell_type": "markdown",
   "metadata": {},
   "source": [
    "After running our data sample through a t-test with a statistical significance level of 0.05 our hypothesis on the Equality of the Means of Paired Samples was that we reject the Null Hypothesis as and the Average user ratings of the Xbox One platform not equal to Average user ratings of the PC platform withing 95% of the selected sample."
   ]
  },
  {
   "cell_type": "markdown",
   "metadata": {},
   "source": [
    "--------------------"
   ]
  },
  {
   "cell_type": "markdown",
   "metadata": {},
   "source": [
    "**The second hypothesis:**\n",
    "\n",
    "H0: Average user ratings for the Action genre are not different from the Average user ratings for the Sports genre.\n",
    "\n",
    "H1: Average user ratings for the Action genre are different from the Average user ratings for the Sports genre."
   ]
  },
  {
   "cell_type": "markdown",
   "metadata": {},
   "source": [
    "1) seperating the data we need from the dataframe:"
   ]
  },
  {
   "cell_type": "code",
   "execution_count": 73,
   "metadata": {},
   "outputs": [],
   "source": [
    "action = data[(data['genre'] == 'Action') & (data.user_score.notna())]['user_score'].astype(float)\n",
    "\n",
    "sports = data[(data['genre'] == 'Sports') & (data.user_score.notna())]['user_score'].astype(float)\n",
    "\n",
    "alpha = 0.05"
   ]
  },
  {
   "cell_type": "markdown",
   "metadata": {},
   "source": [
    "we will condunt a levene test in order to test the assumption of whether the equality of the 2 variances is valid "
   ]
  },
  {
   "cell_type": "code",
   "execution_count": 74,
   "metadata": {},
   "outputs": [
    {
     "data": {
      "text/plain": [
       "True"
      ]
     },
     "execution_count": 74,
     "metadata": {},
     "output_type": "execute_result"
    }
   ],
   "source": [
    "stat, p = levene(action, sports)\n",
    "p<0.05"
   ]
  },
  {
   "cell_type": "markdown",
   "metadata": {},
   "source": [
    "2) We will compare the user ratings of this 2 different platform by using t-test."
   ]
  },
  {
   "cell_type": "code",
   "execution_count": 75,
   "metadata": {},
   "outputs": [],
   "source": [
    "second_result = stats.ttest_ind(action, sports,equal_var=True)"
   ]
  },
  {
   "cell_type": "code",
   "execution_count": 76,
   "metadata": {},
   "outputs": [
    {
     "name": "stdout",
     "output_type": "stream",
     "text": [
      "We reject the null hypothesis\n"
     ]
    }
   ],
   "source": [
    "if first_result.pvalue < alpha:\n",
    "    print(\"We reject the null hypothesis\")\n",
    "else:\n",
    "    print(\"We can't reject the null hypothesis\")"
   ]
  },
  {
   "cell_type": "markdown",
   "metadata": {},
   "source": [
    "3) Presenting findings."
   ]
  },
  {
   "cell_type": "code",
   "execution_count": 77,
   "metadata": {},
   "outputs": [
    {
     "name": "stdout",
     "output_type": "stream",
     "text": [
      "7.058129175946549\n",
      "6.951433857539316\n"
     ]
    }
   ],
   "source": [
    "print(action.mean())\n",
    "print(sports.mean())"
   ]
  },
  {
   "cell_type": "markdown",
   "metadata": {},
   "source": [
    "After running our data sample through a t-test with a statistical significance level of 0.05 our hypothesis on the Equality of the Means of Paired Samples was that we reject the Null Hypothesis as and the Average user ratings of the Action genre are not equal to Average user ratings of the sports genre withing 95% of the selected sample."
   ]
  },
  {
   "cell_type": "markdown",
   "metadata": {},
   "source": [
    "# Step 6 - Write a general conclusion"
   ]
  },
  {
   "cell_type": "markdown",
   "metadata": {},
   "source": [
    "In this project we were assigned with a dataset that covers historical game sales from an open source.\n",
    "our tast was to dentify patterns that determine whether a game succeeds or not in order to allow us to spot potential big winners and plan advertising campaigns for the upcomingyeaer of 2017.\n",
    "\n",
    "After analysing and observing the data we conducted several conclutions that we devived in 5 steps. \n",
    "\n",
    "**Genreal conclutions**\n",
    "\n",
    "- conclutions of step 1 \n",
    "\n",
    "In this step we took a first look at the data. The data consisted of 16715 and 11 columns.\n",
    "There was a large amount of missing values in certain column that some of them we couldnt ommit because of their significant amount.\n",
    "\n",
    "\n",
    "- conclutions of step 2\n",
    "\n",
    "In this step we replaced the column names to lower letters in order to allign the sanalysis with the right format.\n",
    "We then dealt with missing values in the columns [name],[genre] and [year_of_release].\n",
    "In many columns we didnt change or ommit any missing values in the score column because of their large amount and our innability to replace the missing values.\n",
    "We changed the TBD value to NaN in the columns [year_of_release] and [user_score] in order to remove all the string from those columns and change the types of the columns.\n",
    "We cteated a new column that calculates the total sales of each game, we called it [total_sales].\n",
    "\n",
    "- conclutions of step 3 \n",
    "\n",
    "In this step on Exploratory data analysis we gathered a good amlint of indormation regarding our data.\n",
    "We Looked at how many games were released in different years and It seems that in 2008 and 2009 there was the biggest amount of games, 1427 and 1426, that was ever made by 2016.\n",
    "\n",
    "\n",
    "We noticed that the data started growing noticably at 1994, before that there were less that annual 100 games and after 1994 that number of games that were released annualy started jumping and at times doubling themselves each year.\n",
    " After 2008, there was a declining trend of game releases per year that stabilized beetween 500-600 games in the last years of 2013 to 2016. \n",
    "\n",
    "\n",
    "In all of the graphs of our platforms there was a visible distribution of ascending and gradually descending in the period of 10 years. For example, PS2 used to be the most popular platform in the early 2000 as its distibuiton seemed to be the most stable troughout the years until it reached a plateau between 02 to 06 and standed as the most popular platform of that time.\n",
    "\n",
    "\n",
    "By 2005, XBOX-360 came out and then at 2006 Wii and PS3 came out and started gaining popularity. Gradualy, sales of PS2 started going down and by 2010 XBOX-360 sales were now declining and hinting that there were another platform that was gaining popularity, which was the PS3.\n",
    "Then we saw that the lifetime of our leading platforms are about 10 years and it reaches its peak in terms of profit in its midlife, about 5-6 yers, we knew that the median lifetime of a platform is 6 years but as we seen in our data it takes 4 to 6 years to reach its profit limit for leading platforms. So we filtered the data to a minimum year of 2013 in order to target any platform that are on the rise and could be profitable in 2017.\n",
    "\n",
    "\n",
    "Afrer we excluded platfoms that have outdated their profit limit in order to focus from now on only on platforms that can still be on the rise by 2017. Overall, the difference in sales was significant and the only profitable platforms that were presented in the data were XBOX360, PS4, XOne and Wii.\n",
    "\n",
    "\n",
    "The platform with the highest total sales average in the data was XBOX360 but we already know that this platform is gradually declining. contrary, Wii platform exhibits high boundaries but a relatively low average point. The platform we were most iterested in were PS4 and XOne which seemed to have smaller boundaries but relatively average points and outliers.\n",
    "\n",
    "Overall, the difference in sales were significant and the only profitable platforms that are presented in the boxplot were XBOX360, PS4, XOne and Wii.\n",
    "\n",
    "The platforms we are only interested in, PS4 and XOne, which resambled eachother troughout the data and in their quartile values. The average value of XOne was higher then the PS4 average but the the quartile range of PS4 is slighlty bogger than XOne.\n",
    "\n",
    "Interestingly There was a correlation between critic_score and total_sales. Which suggeted that professional reviews do have an affect on the total sales of games for the platforms we chose. but user reviews had no correlation to total sales atall.\n",
    "\n",
    "After looking the the data through boxplot graphs comparing total sales and genres We can say that the most popular and profitable genre of the games is Action genre in terms of game releases and in total sales.\n",
    "The second most released game genres were role-playing and adventure but in terms of profit the socond highest is shooter genre that is followed by Sports, eventhough shooter genre is 5th and Sports genre is the 4th in game releases.\n",
    "\n",
    "concluding the data we observed through these graphs we suggest that the genres sport and Shooter are the most profit potential among the genres as they do not have a high game count but a high profit.\n",
    "\n",
    "- conclutions of step 4\n",
    "\n",
    "In this step we made a user profile for the regions: NA, UN and JP.\n",
    "\n",
    "After comparing between the 3 user profiles in dataframes and boxplots we came to the conclutions that:\n",
    "\n",
    "-NA and UE profiles are similar in genre preferences, Action and Shooter, and ESRB ratings, M, for their games.\n",
    "\n",
    "-NA and UE also prefer the PS4 platform.\n",
    "\n",
    "-JP profile is differnt from NA and UE in everything as it prefets the 3DS platform and Role-Playing games for T ESRB rating. \n",
    "\n",
    "- conclutions of step 5\n",
    "\n",
    "For the first hypothesis : Average user ratings of the Xbox One and PC platforms are the same.\n",
    "\n",
    "After running our data sample through a t-test with a statistical significance level of 0.05 our hypothesis on the Equality of the Means of Paired Samples was that we reject the Null Hypothesis as and the Average user ratings of the Xbox One platform not equal to Average user ratings of the PC platform withing 95% of the selected sample.\n",
    "\n",
    "For the seconf hypothesis: Average user ratings for the Action and Sports genres are different.\n",
    "\n",
    "After running our data sample through a t-test with a statistical significance level of 0.05 our hypothesis on the Equality of the Means of Paired Samples was that we reject the Null Hypothesis as and the Average user ratings of the Action genre are not equal to Average user ratings of the sports genre withing 95% of the selected sample."
   ]
  }
 ],
 "metadata": {
  "ExecuteTimeLog": [
   {
    "duration": 1308,
    "start_time": "2022-08-29T17:02:02.558Z"
   },
   {
    "duration": 137,
    "start_time": "2022-08-29T17:02:03.868Z"
   },
   {
    "duration": 101,
    "start_time": "2022-08-29T17:02:04.293Z"
   },
   {
    "duration": 95,
    "start_time": "2022-08-29T17:02:30.486Z"
   },
   {
    "duration": 45,
    "start_time": "2022-08-29T17:02:31.102Z"
   },
   {
    "duration": 3,
    "start_time": "2022-08-29T18:30:13.344Z"
   },
   {
    "duration": 3,
    "start_time": "2022-08-29T18:32:24.014Z"
   },
   {
    "duration": 23,
    "start_time": "2022-08-29T18:32:34.387Z"
   },
   {
    "duration": 15,
    "start_time": "2022-08-29T18:33:20.755Z"
   },
   {
    "duration": 19,
    "start_time": "2022-08-29T18:41:50.128Z"
   },
   {
    "duration": 24,
    "start_time": "2022-08-29T18:42:05.872Z"
   },
   {
    "duration": 9,
    "start_time": "2022-08-29T18:43:27.600Z"
   },
   {
    "duration": 33,
    "start_time": "2022-08-29T18:43:35.515Z"
   },
   {
    "duration": 15,
    "start_time": "2022-08-29T18:44:03.144Z"
   },
   {
    "duration": 16,
    "start_time": "2022-08-29T18:59:09.245Z"
   },
   {
    "duration": 9,
    "start_time": "2022-08-29T19:42:11.181Z"
   },
   {
    "duration": 15,
    "start_time": "2022-08-29T19:43:47.235Z"
   },
   {
    "duration": 7,
    "start_time": "2022-08-29T19:44:02.359Z"
   },
   {
    "duration": 14,
    "start_time": "2022-08-29T19:44:06.763Z"
   },
   {
    "duration": 8,
    "start_time": "2022-08-29T19:44:29.195Z"
   },
   {
    "duration": 7,
    "start_time": "2022-08-29T19:44:52.014Z"
   },
   {
    "duration": 5,
    "start_time": "2022-08-29T19:44:58.295Z"
   },
   {
    "duration": 16,
    "start_time": "2022-08-29T19:55:56.910Z"
   },
   {
    "duration": 63,
    "start_time": "2022-08-29T19:56:12.682Z"
   },
   {
    "duration": 3,
    "start_time": "2022-08-29T19:56:16.588Z"
   },
   {
    "duration": 62,
    "start_time": "2022-08-29T19:56:17.268Z"
   },
   {
    "duration": 62,
    "start_time": "2022-08-29T19:56:17.835Z"
   },
   {
    "duration": 60,
    "start_time": "2022-08-29T20:00:25.560Z"
   },
   {
    "duration": 47,
    "start_time": "2022-08-29T20:00:28.311Z"
   },
   {
    "duration": 12,
    "start_time": "2022-08-29T20:00:40.971Z"
   },
   {
    "duration": 10,
    "start_time": "2022-08-29T20:09:36.096Z"
   },
   {
    "duration": 15,
    "start_time": "2022-08-29T20:41:43.297Z"
   },
   {
    "duration": 13,
    "start_time": "2022-08-29T20:41:44.413Z"
   },
   {
    "duration": 18,
    "start_time": "2022-08-29T20:43:26.398Z"
   },
   {
    "duration": 6,
    "start_time": "2022-08-29T20:50:21.936Z"
   },
   {
    "duration": 52,
    "start_time": "2022-08-29T20:53:46.090Z"
   },
   {
    "duration": 50,
    "start_time": "2022-08-29T20:53:50.608Z"
   },
   {
    "duration": 64,
    "start_time": "2022-08-29T20:53:51.000Z"
   },
   {
    "duration": 14,
    "start_time": "2022-08-29T20:53:53.395Z"
   },
   {
    "duration": 10,
    "start_time": "2022-08-29T20:53:56.069Z"
   },
   {
    "duration": 16,
    "start_time": "2022-08-29T20:54:36.072Z"
   },
   {
    "duration": 1404,
    "start_time": "2022-08-30T08:37:38.355Z"
   },
   {
    "duration": 439,
    "start_time": "2022-08-30T08:37:39.761Z"
   },
   {
    "duration": 64,
    "start_time": "2022-08-30T08:37:40.202Z"
   },
   {
    "duration": 16,
    "start_time": "2022-08-30T08:37:44.965Z"
   },
   {
    "duration": 10,
    "start_time": "2022-08-30T08:37:46.153Z"
   },
   {
    "duration": 16,
    "start_time": "2022-08-30T08:37:47.405Z"
   },
   {
    "duration": 5,
    "start_time": "2022-08-30T08:37:49.727Z"
   },
   {
    "duration": 15,
    "start_time": "2022-08-30T08:37:56.491Z"
   },
   {
    "duration": 7,
    "start_time": "2022-08-30T08:55:50.578Z"
   },
   {
    "duration": 11,
    "start_time": "2022-08-30T08:56:01.501Z"
   },
   {
    "duration": 3,
    "start_time": "2022-08-30T09:18:52.874Z"
   },
   {
    "duration": 16,
    "start_time": "2022-08-30T09:18:58.336Z"
   },
   {
    "duration": 3,
    "start_time": "2022-08-30T09:59:44.402Z"
   },
   {
    "duration": 7,
    "start_time": "2022-08-30T10:10:35.826Z"
   },
   {
    "duration": 13,
    "start_time": "2022-08-30T10:33:47.268Z"
   },
   {
    "duration": 28,
    "start_time": "2022-08-30T10:34:06.170Z"
   },
   {
    "duration": 57,
    "start_time": "2022-08-30T10:34:19.451Z"
   },
   {
    "duration": 13,
    "start_time": "2022-08-30T10:34:43.343Z"
   },
   {
    "duration": 20,
    "start_time": "2022-08-30T10:34:47.854Z"
   },
   {
    "duration": 12,
    "start_time": "2022-08-30T10:35:19.235Z"
   },
   {
    "duration": 983,
    "start_time": "2022-08-30T10:41:00.506Z"
   },
   {
    "duration": 7,
    "start_time": "2022-08-30T10:41:49.764Z"
   },
   {
    "duration": 16,
    "start_time": "2022-08-30T10:43:11.744Z"
   },
   {
    "duration": 10,
    "start_time": "2022-08-30T10:43:20.921Z"
   },
   {
    "duration": 7,
    "start_time": "2022-08-30T10:43:31.363Z"
   },
   {
    "duration": 10,
    "start_time": "2022-08-30T10:43:32.095Z"
   },
   {
    "duration": 6,
    "start_time": "2022-08-30T10:44:30.528Z"
   },
   {
    "duration": 5,
    "start_time": "2022-08-30T10:44:31.592Z"
   },
   {
    "duration": 11,
    "start_time": "2022-08-30T10:44:33.833Z"
   },
   {
    "duration": 6,
    "start_time": "2022-08-30T10:44:38.919Z"
   },
   {
    "duration": 4,
    "start_time": "2022-08-30T10:44:39.637Z"
   },
   {
    "duration": 5,
    "start_time": "2022-08-30T10:44:55.763Z"
   },
   {
    "duration": 9,
    "start_time": "2022-08-30T10:45:13.931Z"
   },
   {
    "duration": 25,
    "start_time": "2022-08-30T10:49:41.742Z"
   },
   {
    "duration": 14,
    "start_time": "2022-08-30T11:06:18.440Z"
   },
   {
    "duration": 13,
    "start_time": "2022-08-30T11:06:36.645Z"
   },
   {
    "duration": 13,
    "start_time": "2022-08-30T11:06:46.482Z"
   },
   {
    "duration": 11,
    "start_time": "2022-08-30T11:06:54.508Z"
   },
   {
    "duration": 11,
    "start_time": "2022-08-30T11:07:01.437Z"
   },
   {
    "duration": 14,
    "start_time": "2022-08-30T11:07:20.104Z"
   },
   {
    "duration": 8,
    "start_time": "2022-08-30T11:31:59.018Z"
   },
   {
    "duration": 15,
    "start_time": "2022-08-30T11:32:04.139Z"
   },
   {
    "duration": 265,
    "start_time": "2022-08-30T11:32:58.049Z"
   },
   {
    "duration": 1385,
    "start_time": "2022-08-30T11:33:04.945Z"
   },
   {
    "duration": 166,
    "start_time": "2022-08-30T11:33:32.315Z"
   },
   {
    "duration": 1467,
    "start_time": "2022-08-30T11:34:11.619Z"
   },
   {
    "duration": 255,
    "start_time": "2022-08-30T11:34:17.694Z"
   },
   {
    "duration": 528,
    "start_time": "2022-08-30T11:37:52.733Z"
   },
   {
    "duration": 125,
    "start_time": "2022-08-30T11:37:57.211Z"
   },
   {
    "duration": 133,
    "start_time": "2022-08-30T11:38:11.270Z"
   },
   {
    "duration": 425,
    "start_time": "2022-08-30T11:38:28.621Z"
   },
   {
    "duration": 171,
    "start_time": "2022-08-30T11:39:09.599Z"
   },
   {
    "duration": 136,
    "start_time": "2022-08-30T11:39:44.613Z"
   },
   {
    "duration": 175,
    "start_time": "2022-08-30T11:39:52.982Z"
   },
   {
    "duration": 157,
    "start_time": "2022-08-30T11:42:09.329Z"
   },
   {
    "duration": 379,
    "start_time": "2022-08-30T11:42:23.302Z"
   },
   {
    "duration": 362,
    "start_time": "2022-08-30T11:42:33.535Z"
   },
   {
    "duration": 352,
    "start_time": "2022-08-30T11:42:38.567Z"
   },
   {
    "duration": 8,
    "start_time": "2022-08-30T13:08:58.559Z"
   },
   {
    "duration": 13,
    "start_time": "2022-08-30T13:09:13.944Z"
   },
   {
    "duration": 14,
    "start_time": "2022-08-30T13:10:34.602Z"
   },
   {
    "duration": 59,
    "start_time": "2022-08-30T13:10:54.400Z"
   },
   {
    "duration": 327,
    "start_time": "2022-08-30T13:11:12.331Z"
   },
   {
    "duration": 150,
    "start_time": "2022-08-30T13:22:59.015Z"
   },
   {
    "duration": 139,
    "start_time": "2022-08-30T13:23:17.682Z"
   },
   {
    "duration": 14,
    "start_time": "2022-08-30T13:23:37.845Z"
   },
   {
    "duration": 552,
    "start_time": "2022-08-30T13:23:40.099Z"
   },
   {
    "duration": 7,
    "start_time": "2022-08-30T13:51:57.506Z"
   },
   {
    "duration": 6,
    "start_time": "2022-08-30T13:52:00.012Z"
   },
   {
    "duration": 16,
    "start_time": "2022-08-30T13:52:01.124Z"
   },
   {
    "duration": 9,
    "start_time": "2022-08-30T13:52:05.536Z"
   },
   {
    "duration": 28,
    "start_time": "2022-08-30T13:52:06.913Z"
   },
   {
    "duration": 12,
    "start_time": "2022-08-30T13:55:39.978Z"
   },
   {
    "duration": 16,
    "start_time": "2022-08-30T13:55:44.650Z"
   },
   {
    "duration": 14,
    "start_time": "2022-08-30T13:56:02.110Z"
   },
   {
    "duration": 14,
    "start_time": "2022-08-30T13:56:17.360Z"
   },
   {
    "duration": 1505,
    "start_time": "2022-08-30T15:25:46.077Z"
   },
   {
    "duration": 126,
    "start_time": "2022-08-30T15:26:07.309Z"
   },
   {
    "duration": 13,
    "start_time": "2022-08-30T15:29:11.353Z"
   },
   {
    "duration": 13,
    "start_time": "2022-08-30T15:29:29.083Z"
   },
   {
    "duration": 14,
    "start_time": "2022-08-30T15:29:34.393Z"
   },
   {
    "duration": 11,
    "start_time": "2022-08-30T15:30:05.083Z"
   },
   {
    "duration": 5,
    "start_time": "2022-08-30T15:32:48.844Z"
   },
   {
    "duration": 9,
    "start_time": "2022-08-30T15:32:49.800Z"
   },
   {
    "duration": 29,
    "start_time": "2022-08-30T15:33:50.754Z"
   },
   {
    "duration": 9,
    "start_time": "2022-08-30T15:34:26.906Z"
   },
   {
    "duration": 12,
    "start_time": "2022-08-30T15:34:46.077Z"
   },
   {
    "duration": 136,
    "start_time": "2022-08-30T15:35:01.546Z"
   },
   {
    "duration": 144,
    "start_time": "2022-08-30T15:35:14.282Z"
   },
   {
    "duration": 128,
    "start_time": "2022-08-30T15:35:28.758Z"
   },
   {
    "duration": 139,
    "start_time": "2022-08-30T15:36:11.818Z"
   },
   {
    "duration": 129,
    "start_time": "2022-08-30T15:36:54.416Z"
   },
   {
    "duration": 399,
    "start_time": "2022-08-30T15:37:14.582Z"
   },
   {
    "duration": 134,
    "start_time": "2022-08-30T15:38:48.331Z"
   },
   {
    "duration": 10,
    "start_time": "2022-08-30T15:39:00.801Z"
   },
   {
    "duration": 9,
    "start_time": "2022-08-30T15:39:23.985Z"
   },
   {
    "duration": 170,
    "start_time": "2022-08-30T15:39:32.248Z"
   },
   {
    "duration": 12,
    "start_time": "2022-08-30T15:39:37.341Z"
   },
   {
    "duration": 12,
    "start_time": "2022-08-30T15:40:23.164Z"
   },
   {
    "duration": 9,
    "start_time": "2022-08-30T15:41:08.832Z"
   },
   {
    "duration": 12,
    "start_time": "2022-08-30T15:41:21.806Z"
   },
   {
    "duration": 10,
    "start_time": "2022-08-30T15:42:30.483Z"
   },
   {
    "duration": 418,
    "start_time": "2022-08-30T15:42:39.576Z"
   },
   {
    "duration": 134,
    "start_time": "2022-08-30T15:43:53.589Z"
   },
   {
    "duration": 9,
    "start_time": "2022-08-30T15:44:12.339Z"
   },
   {
    "duration": 11,
    "start_time": "2022-08-30T15:44:40.207Z"
   },
   {
    "duration": 154,
    "start_time": "2022-08-30T15:44:46.014Z"
   },
   {
    "duration": 157,
    "start_time": "2022-08-30T15:44:55.013Z"
   },
   {
    "duration": 323,
    "start_time": "2022-08-30T15:48:14.288Z"
   },
   {
    "duration": 307,
    "start_time": "2022-08-30T15:48:24.548Z"
   },
   {
    "duration": 1819,
    "start_time": "2022-08-30T15:48:53.323Z"
   },
   {
    "duration": 264,
    "start_time": "2022-08-30T15:49:12.062Z"
   },
   {
    "duration": 15,
    "start_time": "2022-08-30T15:50:18.747Z"
   },
   {
    "duration": 16,
    "start_time": "2022-08-30T15:50:51.797Z"
   },
   {
    "duration": 20,
    "start_time": "2022-08-30T15:53:17.551Z"
   },
   {
    "duration": 16,
    "start_time": "2022-08-30T15:53:22.094Z"
   },
   {
    "duration": 325,
    "start_time": "2022-08-30T15:53:27.454Z"
   },
   {
    "duration": 169,
    "start_time": "2022-08-30T15:54:29.333Z"
   },
   {
    "duration": 159,
    "start_time": "2022-08-30T15:55:22.816Z"
   },
   {
    "duration": 346,
    "start_time": "2022-08-30T15:55:30.228Z"
   },
   {
    "duration": 374,
    "start_time": "2022-08-30T15:55:47.628Z"
   },
   {
    "duration": 262,
    "start_time": "2022-08-30T15:56:28.285Z"
   },
   {
    "duration": 339,
    "start_time": "2022-08-30T15:56:31.564Z"
   },
   {
    "duration": 261,
    "start_time": "2022-08-30T15:56:42.071Z"
   },
   {
    "duration": 358,
    "start_time": "2022-08-30T15:56:50.712Z"
   },
   {
    "duration": 1105,
    "start_time": "2022-08-30T15:58:01.321Z"
   },
   {
    "duration": 760,
    "start_time": "2022-08-30T15:58:15.279Z"
   },
   {
    "duration": 376,
    "start_time": "2022-08-30T16:01:01.028Z"
   },
   {
    "duration": 452,
    "start_time": "2022-08-30T16:01:07.059Z"
   },
   {
    "duration": 12,
    "start_time": "2022-08-30T16:17:45.642Z"
   },
   {
    "duration": 12,
    "start_time": "2022-08-30T16:17:59.181Z"
   },
   {
    "duration": 10,
    "start_time": "2022-08-30T16:18:03.755Z"
   },
   {
    "duration": 17,
    "start_time": "2022-08-30T16:18:37.444Z"
   },
   {
    "duration": 124,
    "start_time": "2022-08-30T16:18:52.685Z"
   },
   {
    "duration": 16,
    "start_time": "2022-08-30T16:19:02.500Z"
   },
   {
    "duration": 16,
    "start_time": "2022-08-30T16:19:11.780Z"
   },
   {
    "duration": 10,
    "start_time": "2022-08-30T16:19:59.395Z"
   },
   {
    "duration": 18,
    "start_time": "2022-08-30T16:20:07.180Z"
   },
   {
    "duration": 344,
    "start_time": "2022-08-30T16:20:07.546Z"
   },
   {
    "duration": 8,
    "start_time": "2022-08-30T16:20:13.041Z"
   },
   {
    "duration": 341,
    "start_time": "2022-08-30T16:20:13.547Z"
   },
   {
    "duration": 388,
    "start_time": "2022-08-30T16:20:14.731Z"
   },
   {
    "duration": 14,
    "start_time": "2022-08-30T16:53:44.005Z"
   },
   {
    "duration": 17,
    "start_time": "2022-08-30T16:55:03.296Z"
   },
   {
    "duration": 18,
    "start_time": "2022-08-30T16:55:10.218Z"
   },
   {
    "duration": 14,
    "start_time": "2022-08-30T16:55:59.540Z"
   },
   {
    "duration": 18,
    "start_time": "2022-08-30T16:56:09.412Z"
   },
   {
    "duration": 12,
    "start_time": "2022-08-30T17:00:53.579Z"
   },
   {
    "duration": 12,
    "start_time": "2022-08-30T17:01:08.375Z"
   },
   {
    "duration": 6,
    "start_time": "2022-08-30T17:02:38.088Z"
   },
   {
    "duration": 86,
    "start_time": "2022-08-30T17:49:11.357Z"
   },
   {
    "duration": 2196,
    "start_time": "2022-08-30T17:50:17.919Z"
   },
   {
    "duration": 14,
    "start_time": "2022-08-30T17:50:40.047Z"
   },
   {
    "duration": 11,
    "start_time": "2022-08-30T17:50:40.661Z"
   },
   {
    "duration": 12,
    "start_time": "2022-08-30T17:50:58.575Z"
   },
   {
    "duration": 11,
    "start_time": "2022-08-30T18:01:55.907Z"
   },
   {
    "duration": 11,
    "start_time": "2022-08-30T18:03:27.298Z"
   },
   {
    "duration": 9,
    "start_time": "2022-08-30T18:04:27.807Z"
   },
   {
    "duration": 11,
    "start_time": "2022-08-30T18:05:07.935Z"
   },
   {
    "duration": 1322,
    "start_time": "2022-08-30T18:05:09.523Z"
   },
   {
    "duration": 17,
    "start_time": "2022-08-30T18:05:40.609Z"
   },
   {
    "duration": 1246,
    "start_time": "2022-08-30T18:05:42.048Z"
   },
   {
    "duration": 13,
    "start_time": "2022-08-30T18:05:52.583Z"
   },
   {
    "duration": 10,
    "start_time": "2022-08-30T18:05:53.422Z"
   },
   {
    "duration": 5,
    "start_time": "2022-08-30T18:07:20.818Z"
   },
   {
    "duration": 9,
    "start_time": "2022-08-30T18:08:25.675Z"
   },
   {
    "duration": 9,
    "start_time": "2022-08-30T18:08:56.886Z"
   },
   {
    "duration": 5,
    "start_time": "2022-08-30T18:10:26.030Z"
   },
   {
    "duration": 13,
    "start_time": "2022-08-30T18:10:39.257Z"
   },
   {
    "duration": 11,
    "start_time": "2022-08-30T18:10:39.272Z"
   },
   {
    "duration": 5,
    "start_time": "2022-08-30T18:10:42.586Z"
   },
   {
    "duration": 12,
    "start_time": "2022-08-30T19:18:58.043Z"
   },
   {
    "duration": 322,
    "start_time": "2022-08-30T19:18:58.433Z"
   },
   {
    "duration": 295,
    "start_time": "2022-08-30T19:19:12.074Z"
   },
   {
    "duration": 987,
    "start_time": "2022-08-30T19:20:25.953Z"
   },
   {
    "duration": 10,
    "start_time": "2022-08-30T19:20:54.364Z"
   },
   {
    "duration": 10,
    "start_time": "2022-08-30T19:21:00.747Z"
   },
   {
    "duration": 11,
    "start_time": "2022-08-30T19:21:01.680Z"
   },
   {
    "duration": 913,
    "start_time": "2022-08-30T19:21:02.082Z"
   },
   {
    "duration": 1249,
    "start_time": "2022-08-30T19:21:47.772Z"
   },
   {
    "duration": 77,
    "start_time": "2022-08-30T19:23:27.656Z"
   },
   {
    "duration": 1306,
    "start_time": "2022-08-30T19:23:35.754Z"
   },
   {
    "duration": 215,
    "start_time": "2022-08-30T19:26:20.432Z"
   },
   {
    "duration": 381,
    "start_time": "2022-08-30T19:26:31.779Z"
   },
   {
    "duration": 116,
    "start_time": "2022-08-30T19:27:13.492Z"
   },
   {
    "duration": 15,
    "start_time": "2022-08-30T19:27:18.286Z"
   },
   {
    "duration": 309,
    "start_time": "2022-08-30T19:27:30.691Z"
   },
   {
    "duration": 387,
    "start_time": "2022-08-30T19:27:44.273Z"
   },
   {
    "duration": 75,
    "start_time": "2022-08-30T19:27:55.134Z"
   },
   {
    "duration": 15,
    "start_time": "2022-08-30T19:28:01.038Z"
   },
   {
    "duration": 436,
    "start_time": "2022-08-30T19:28:14.915Z"
   },
   {
    "duration": 437,
    "start_time": "2022-08-30T19:28:50.095Z"
   },
   {
    "duration": 329,
    "start_time": "2022-08-30T19:29:08.541Z"
   },
   {
    "duration": 13,
    "start_time": "2022-08-30T19:38:51.369Z"
   },
   {
    "duration": 13,
    "start_time": "2022-08-30T19:39:42.419Z"
   },
   {
    "duration": 354,
    "start_time": "2022-08-30T19:39:58.482Z"
   },
   {
    "duration": 352,
    "start_time": "2022-08-30T19:40:20.311Z"
   },
   {
    "duration": 6,
    "start_time": "2022-08-30T19:45:06.005Z"
   },
   {
    "duration": 20,
    "start_time": "2022-08-30T19:45:18.368Z"
   },
   {
    "duration": 380,
    "start_time": "2022-08-30T19:53:15.547Z"
   },
   {
    "duration": 368,
    "start_time": "2022-08-30T19:53:25.854Z"
   },
   {
    "duration": 362,
    "start_time": "2022-08-30T20:00:59.443Z"
   },
   {
    "duration": 83,
    "start_time": "2022-08-30T20:01:27.422Z"
   },
   {
    "duration": 602,
    "start_time": "2022-08-30T20:01:45.789Z"
   },
   {
    "duration": 347,
    "start_time": "2022-08-30T20:01:54.618Z"
   },
   {
    "duration": 8,
    "start_time": "2022-08-30T20:03:00.302Z"
   },
   {
    "duration": 17,
    "start_time": "2022-08-30T20:03:23.050Z"
   },
   {
    "duration": 14,
    "start_time": "2022-08-30T20:03:38.572Z"
   },
   {
    "duration": 1079,
    "start_time": "2022-08-30T20:03:45.942Z"
   },
   {
    "duration": 804,
    "start_time": "2022-08-30T20:04:29.097Z"
   },
   {
    "duration": 649,
    "start_time": "2022-08-30T20:04:58.119Z"
   },
   {
    "duration": 24,
    "start_time": "2022-08-30T20:05:51.858Z"
   },
   {
    "duration": 13,
    "start_time": "2022-08-30T20:06:50.812Z"
   },
   {
    "duration": 194,
    "start_time": "2022-08-30T20:10:29.064Z"
   },
   {
    "duration": 9,
    "start_time": "2022-08-30T20:10:34.404Z"
   },
   {
    "duration": 208,
    "start_time": "2022-08-30T20:10:35.096Z"
   },
   {
    "duration": 224,
    "start_time": "2022-08-30T20:10:42.788Z"
   },
   {
    "duration": 198,
    "start_time": "2022-08-30T20:11:20.625Z"
   },
   {
    "duration": 223,
    "start_time": "2022-08-30T20:22:45.227Z"
   },
   {
    "duration": 18,
    "start_time": "2022-08-30T20:39:09.782Z"
   },
   {
    "duration": 18,
    "start_time": "2022-08-30T20:39:10.122Z"
   },
   {
    "duration": 14,
    "start_time": "2022-08-30T20:39:11.245Z"
   },
   {
    "duration": 324,
    "start_time": "2022-08-30T20:39:11.898Z"
   },
   {
    "duration": 13,
    "start_time": "2022-08-30T20:39:12.707Z"
   },
   {
    "duration": 361,
    "start_time": "2022-08-30T20:39:13.130Z"
   },
   {
    "duration": 11,
    "start_time": "2022-08-30T20:39:14.730Z"
   },
   {
    "duration": 12,
    "start_time": "2022-08-30T20:39:15.275Z"
   },
   {
    "duration": 5,
    "start_time": "2022-08-30T20:39:15.692Z"
   },
   {
    "duration": 5,
    "start_time": "2022-08-30T20:39:16.512Z"
   },
   {
    "duration": 21,
    "start_time": "2022-08-30T20:39:17.301Z"
   },
   {
    "duration": 250,
    "start_time": "2022-08-30T20:43:39.737Z"
   },
   {
    "duration": 136,
    "start_time": "2022-08-30T21:33:01.926Z"
   },
   {
    "duration": 108,
    "start_time": "2022-08-30T21:33:07.353Z"
   },
   {
    "duration": 17,
    "start_time": "2022-08-30T21:33:51.019Z"
   },
   {
    "duration": 66,
    "start_time": "2022-08-31T11:15:30.285Z"
   },
   {
    "duration": 1550,
    "start_time": "2022-08-31T11:15:49.064Z"
   },
   {
    "duration": 91,
    "start_time": "2022-08-31T11:15:50.616Z"
   },
   {
    "duration": 66,
    "start_time": "2022-08-31T11:15:50.709Z"
   },
   {
    "duration": 27,
    "start_time": "2022-08-31T11:15:50.777Z"
   },
   {
    "duration": 9,
    "start_time": "2022-08-31T11:15:50.807Z"
   },
   {
    "duration": 17,
    "start_time": "2022-08-31T11:15:50.817Z"
   },
   {
    "duration": 8,
    "start_time": "2022-08-31T11:15:50.836Z"
   },
   {
    "duration": 11,
    "start_time": "2022-08-31T11:15:50.845Z"
   },
   {
    "duration": 7,
    "start_time": "2022-08-31T11:15:50.858Z"
   },
   {
    "duration": 43,
    "start_time": "2022-08-31T11:15:50.867Z"
   },
   {
    "duration": 10,
    "start_time": "2022-08-31T11:15:50.912Z"
   },
   {
    "duration": 10,
    "start_time": "2022-08-31T11:15:50.924Z"
   },
   {
    "duration": 23,
    "start_time": "2022-08-31T11:15:50.936Z"
   },
   {
    "duration": 5,
    "start_time": "2022-08-31T11:15:50.963Z"
   },
   {
    "duration": 38,
    "start_time": "2022-08-31T11:15:50.970Z"
   },
   {
    "duration": 12,
    "start_time": "2022-08-31T11:15:51.010Z"
   },
   {
    "duration": 26,
    "start_time": "2022-08-31T11:15:51.024Z"
   },
   {
    "duration": 13,
    "start_time": "2022-08-31T11:15:51.052Z"
   },
   {
    "duration": 444,
    "start_time": "2022-08-31T11:15:51.066Z"
   },
   {
    "duration": 14,
    "start_time": "2022-08-31T11:15:51.512Z"
   },
   {
    "duration": 352,
    "start_time": "2022-08-31T11:15:51.528Z"
   },
   {
    "duration": 10,
    "start_time": "2022-08-31T11:15:51.882Z"
   },
   {
    "duration": 242,
    "start_time": "2022-08-31T11:15:51.894Z"
   },
   {
    "duration": 0,
    "start_time": "2022-08-31T11:15:52.138Z"
   },
   {
    "duration": 0,
    "start_time": "2022-08-31T11:15:52.140Z"
   },
   {
    "duration": 0,
    "start_time": "2022-08-31T11:15:52.141Z"
   },
   {
    "duration": 1,
    "start_time": "2022-08-31T11:15:52.142Z"
   },
   {
    "duration": 0,
    "start_time": "2022-08-31T11:15:52.144Z"
   },
   {
    "duration": 0,
    "start_time": "2022-08-31T11:15:52.145Z"
   },
   {
    "duration": 0,
    "start_time": "2022-08-31T11:15:52.147Z"
   },
   {
    "duration": 0,
    "start_time": "2022-08-31T11:15:52.148Z"
   },
   {
    "duration": 0,
    "start_time": "2022-08-31T11:15:52.149Z"
   },
   {
    "duration": 11,
    "start_time": "2022-08-31T11:16:01.377Z"
   },
   {
    "duration": 135,
    "start_time": "2022-08-31T11:16:01.885Z"
   },
   {
    "duration": 419,
    "start_time": "2022-08-31T11:16:17.502Z"
   },
   {
    "duration": 13,
    "start_time": "2022-08-31T11:16:21.836Z"
   },
   {
    "duration": 13,
    "start_time": "2022-08-31T11:16:22.563Z"
   },
   {
    "duration": 5,
    "start_time": "2022-08-31T11:16:23.220Z"
   },
   {
    "duration": 5,
    "start_time": "2022-08-31T11:16:24.640Z"
   },
   {
    "duration": 24,
    "start_time": "2022-08-31T11:16:25.034Z"
   },
   {
    "duration": 13,
    "start_time": "2022-08-31T11:16:25.912Z"
   },
   {
    "duration": 9,
    "start_time": "2022-08-31T11:16:29.870Z"
   },
   {
    "duration": 258,
    "start_time": "2022-08-31T11:16:30.248Z"
   },
   {
    "duration": 19,
    "start_time": "2022-08-31T11:16:33.050Z"
   },
   {
    "duration": 316,
    "start_time": "2022-08-31T11:17:37.217Z"
   },
   {
    "duration": 265,
    "start_time": "2022-08-31T11:17:50.275Z"
   },
   {
    "duration": 255,
    "start_time": "2022-08-31T11:18:03.206Z"
   },
   {
    "duration": 261,
    "start_time": "2022-08-31T11:18:09.889Z"
   },
   {
    "duration": 26,
    "start_time": "2022-08-31T12:21:07.385Z"
   },
   {
    "duration": 1050,
    "start_time": "2022-08-31T13:38:50.349Z"
   },
   {
    "duration": 1309,
    "start_time": "2022-08-31T13:39:11.048Z"
   },
   {
    "duration": 1163,
    "start_time": "2022-08-31T13:39:57.958Z"
   },
   {
    "duration": 52,
    "start_time": "2022-08-31T13:39:59.123Z"
   },
   {
    "duration": 66,
    "start_time": "2022-08-31T13:39:59.177Z"
   },
   {
    "duration": 17,
    "start_time": "2022-08-31T13:39:59.245Z"
   },
   {
    "duration": 9,
    "start_time": "2022-08-31T13:39:59.264Z"
   },
   {
    "duration": 29,
    "start_time": "2022-08-31T13:39:59.275Z"
   },
   {
    "duration": 7,
    "start_time": "2022-08-31T13:39:59.306Z"
   },
   {
    "duration": 9,
    "start_time": "2022-08-31T13:39:59.315Z"
   },
   {
    "duration": 6,
    "start_time": "2022-08-31T13:39:59.326Z"
   },
   {
    "duration": 9,
    "start_time": "2022-08-31T13:39:59.335Z"
   },
   {
    "duration": 8,
    "start_time": "2022-08-31T13:39:59.345Z"
   },
   {
    "duration": 3,
    "start_time": "2022-08-31T13:39:59.354Z"
   },
   {
    "duration": 58,
    "start_time": "2022-08-31T13:39:59.359Z"
   },
   {
    "duration": 14,
    "start_time": "2022-08-31T13:39:59.418Z"
   },
   {
    "duration": 31,
    "start_time": "2022-08-31T13:39:59.433Z"
   },
   {
    "duration": 10,
    "start_time": "2022-08-31T13:39:59.466Z"
   },
   {
    "duration": 25,
    "start_time": "2022-08-31T13:39:59.478Z"
   },
   {
    "duration": 13,
    "start_time": "2022-08-31T13:39:59.504Z"
   },
   {
    "duration": 430,
    "start_time": "2022-08-31T13:39:59.519Z"
   },
   {
    "duration": 15,
    "start_time": "2022-08-31T13:39:59.950Z"
   },
   {
    "duration": 350,
    "start_time": "2022-08-31T13:39:59.967Z"
   },
   {
    "duration": 12,
    "start_time": "2022-08-31T13:40:00.318Z"
   },
   {
    "duration": 388,
    "start_time": "2022-08-31T13:40:00.332Z"
   },
   {
    "duration": 12,
    "start_time": "2022-08-31T13:40:00.722Z"
   },
   {
    "duration": 49,
    "start_time": "2022-08-31T13:40:00.736Z"
   },
   {
    "duration": 33,
    "start_time": "2022-08-31T13:40:00.786Z"
   },
   {
    "duration": 27,
    "start_time": "2022-08-31T13:40:00.820Z"
   },
   {
    "duration": 52,
    "start_time": "2022-08-31T13:40:00.852Z"
   },
   {
    "duration": 43,
    "start_time": "2022-08-31T13:40:00.906Z"
   },
   {
    "duration": 41,
    "start_time": "2022-08-31T13:40:00.950Z"
   },
   {
    "duration": 266,
    "start_time": "2022-08-31T13:40:00.993Z"
   },
   {
    "duration": 277,
    "start_time": "2022-08-31T13:40:01.261Z"
   },
   {
    "duration": 1838,
    "start_time": "2022-08-31T13:40:01.540Z"
   },
   {
    "duration": 15,
    "start_time": "2022-08-31T13:40:39.111Z"
   },
   {
    "duration": 4,
    "start_time": "2022-08-31T13:41:12.968Z"
   },
   {
    "duration": 935,
    "start_time": "2022-08-31T13:41:13.800Z"
   },
   {
    "duration": 818,
    "start_time": "2022-08-31T13:41:14.737Z"
   },
   {
    "duration": 9,
    "start_time": "2022-08-31T13:43:33.573Z"
   },
   {
    "duration": 4,
    "start_time": "2022-08-31T13:43:41.530Z"
   },
   {
    "duration": 883,
    "start_time": "2022-08-31T13:43:42.061Z"
   },
   {
    "duration": 5,
    "start_time": "2022-08-31T13:43:54.307Z"
   },
   {
    "duration": 526,
    "start_time": "2022-08-31T13:43:54.856Z"
   },
   {
    "duration": 5,
    "start_time": "2022-08-31T13:44:11.074Z"
   },
   {
    "duration": 943,
    "start_time": "2022-08-31T13:44:12.144Z"
   },
   {
    "duration": 27,
    "start_time": "2022-08-31T13:45:06.206Z"
   },
   {
    "duration": 22,
    "start_time": "2022-08-31T13:45:23.935Z"
   },
   {
    "duration": 12,
    "start_time": "2022-08-31T13:45:29.369Z"
   },
   {
    "duration": 14,
    "start_time": "2022-08-31T13:45:50.821Z"
   },
   {
    "duration": 9,
    "start_time": "2022-08-31T13:45:55.741Z"
   },
   {
    "duration": 9,
    "start_time": "2022-08-31T13:47:04.757Z"
   },
   {
    "duration": 266,
    "start_time": "2022-08-31T13:47:06.324Z"
   },
   {
    "duration": 6,
    "start_time": "2022-08-31T13:47:22.993Z"
   },
   {
    "duration": 256,
    "start_time": "2022-08-31T13:47:23.233Z"
   },
   {
    "duration": 10,
    "start_time": "2022-08-31T13:48:00.795Z"
   },
   {
    "duration": 894,
    "start_time": "2022-08-31T13:48:01.329Z"
   },
   {
    "duration": 9,
    "start_time": "2022-08-31T13:48:02.647Z"
   },
   {
    "duration": 9,
    "start_time": "2022-08-31T13:53:00.496Z"
   },
   {
    "duration": 385,
    "start_time": "2022-08-31T13:53:00.913Z"
   },
   {
    "duration": 12,
    "start_time": "2022-08-31T14:00:12.921Z"
   },
   {
    "duration": 1327,
    "start_time": "2022-08-31T14:00:14.124Z"
   },
   {
    "duration": 23,
    "start_time": "2022-08-31T14:00:45.527Z"
   },
   {
    "duration": 8166,
    "start_time": "2022-08-31T14:21:51.859Z"
   },
   {
    "duration": 1382,
    "start_time": "2022-08-31T14:22:22.437Z"
   },
   {
    "duration": 6,
    "start_time": "2022-08-31T14:23:45.972Z"
   },
   {
    "duration": 11,
    "start_time": "2022-08-31T14:24:14.820Z"
   },
   {
    "duration": 7,
    "start_time": "2022-08-31T14:24:19.187Z"
   },
   {
    "duration": 33,
    "start_time": "2022-08-31T14:24:19.629Z"
   },
   {
    "duration": 28,
    "start_time": "2022-08-31T14:24:27.674Z"
   },
   {
    "duration": 1183,
    "start_time": "2022-08-31T14:24:28.215Z"
   },
   {
    "duration": 8,
    "start_time": "2022-08-31T14:24:29.403Z"
   },
   {
    "duration": 5,
    "start_time": "2022-08-31T14:25:30.122Z"
   },
   {
    "duration": 19,
    "start_time": "2022-08-31T14:25:37.922Z"
   },
   {
    "duration": 983,
    "start_time": "2022-08-31T14:25:49.326Z"
   },
   {
    "duration": 11,
    "start_time": "2022-08-31T14:25:50.310Z"
   },
   {
    "duration": 18,
    "start_time": "2022-08-31T14:27:38.639Z"
   },
   {
    "duration": 1747,
    "start_time": "2022-08-31T14:27:39.429Z"
   },
   {
    "duration": 11,
    "start_time": "2022-08-31T14:27:41.178Z"
   },
   {
    "duration": 15,
    "start_time": "2022-08-31T14:27:59.657Z"
   },
   {
    "duration": 964,
    "start_time": "2022-08-31T14:28:00.147Z"
   },
   {
    "duration": 14,
    "start_time": "2022-08-31T14:31:47.707Z"
   },
   {
    "duration": 1037,
    "start_time": "2022-08-31T14:31:48.353Z"
   },
   {
    "duration": 17,
    "start_time": "2022-08-31T14:32:11.228Z"
   },
   {
    "duration": 1241,
    "start_time": "2022-08-31T14:32:11.792Z"
   },
   {
    "duration": 9,
    "start_time": "2022-08-31T14:32:13.035Z"
   },
   {
    "duration": 915,
    "start_time": "2022-08-31T14:32:15.526Z"
   },
   {
    "duration": 7,
    "start_time": "2022-08-31T14:42:23.521Z"
   },
   {
    "duration": 6,
    "start_time": "2022-08-31T14:42:36.943Z"
   },
   {
    "duration": 1244,
    "start_time": "2022-08-31T14:43:05.037Z"
   },
   {
    "duration": 54,
    "start_time": "2022-08-31T14:43:06.283Z"
   },
   {
    "duration": 84,
    "start_time": "2022-08-31T14:43:06.339Z"
   },
   {
    "duration": 18,
    "start_time": "2022-08-31T14:43:06.426Z"
   },
   {
    "duration": 12,
    "start_time": "2022-08-31T14:43:06.446Z"
   },
   {
    "duration": 21,
    "start_time": "2022-08-31T14:43:06.460Z"
   },
   {
    "duration": 24,
    "start_time": "2022-08-31T14:43:06.483Z"
   },
   {
    "duration": 12,
    "start_time": "2022-08-31T14:43:06.509Z"
   },
   {
    "duration": 6,
    "start_time": "2022-08-31T14:43:06.523Z"
   },
   {
    "duration": 10,
    "start_time": "2022-08-31T14:43:06.532Z"
   },
   {
    "duration": 8,
    "start_time": "2022-08-31T14:43:06.544Z"
   },
   {
    "duration": 3,
    "start_time": "2022-08-31T14:43:06.554Z"
   },
   {
    "duration": 59,
    "start_time": "2022-08-31T14:43:06.559Z"
   },
   {
    "duration": 5,
    "start_time": "2022-08-31T14:43:06.620Z"
   },
   {
    "duration": 27,
    "start_time": "2022-08-31T14:43:06.627Z"
   },
   {
    "duration": 11,
    "start_time": "2022-08-31T14:43:06.656Z"
   },
   {
    "duration": 36,
    "start_time": "2022-08-31T14:43:06.669Z"
   },
   {
    "duration": 30,
    "start_time": "2022-08-31T14:43:06.707Z"
   },
   {
    "duration": 15,
    "start_time": "2022-08-31T14:43:06.739Z"
   },
   {
    "duration": 436,
    "start_time": "2022-08-31T14:43:06.756Z"
   },
   {
    "duration": 16,
    "start_time": "2022-08-31T14:43:07.194Z"
   },
   {
    "duration": 394,
    "start_time": "2022-08-31T14:43:07.212Z"
   },
   {
    "duration": 12,
    "start_time": "2022-08-31T14:43:07.609Z"
   },
   {
    "duration": 389,
    "start_time": "2022-08-31T14:43:07.623Z"
   },
   {
    "duration": 15,
    "start_time": "2022-08-31T14:43:08.014Z"
   },
   {
    "duration": 14,
    "start_time": "2022-08-31T14:43:08.032Z"
   },
   {
    "duration": 11,
    "start_time": "2022-08-31T14:43:08.047Z"
   },
   {
    "duration": 12,
    "start_time": "2022-08-31T14:43:08.062Z"
   },
   {
    "duration": 49,
    "start_time": "2022-08-31T14:43:08.076Z"
   },
   {
    "duration": 13,
    "start_time": "2022-08-31T14:43:08.127Z"
   },
   {
    "duration": 13,
    "start_time": "2022-08-31T14:43:08.141Z"
   },
   {
    "duration": 293,
    "start_time": "2022-08-31T14:43:08.156Z"
   },
   {
    "duration": 286,
    "start_time": "2022-08-31T14:43:08.451Z"
   },
   {
    "duration": 6,
    "start_time": "2022-08-31T14:43:08.738Z"
   },
   {
    "duration": 16,
    "start_time": "2022-08-31T14:43:08.745Z"
   },
   {
    "duration": 1878,
    "start_time": "2022-08-31T14:43:08.763Z"
   },
   {
    "duration": 9,
    "start_time": "2022-08-31T14:43:10.643Z"
   },
   {
    "duration": 1545,
    "start_time": "2022-08-31T14:43:10.654Z"
   },
   {
    "duration": 11,
    "start_time": "2022-08-31T14:45:22.622Z"
   },
   {
    "duration": 6,
    "start_time": "2022-08-31T15:10:12.082Z"
   },
   {
    "duration": 7,
    "start_time": "2022-08-31T15:11:10.702Z"
   },
   {
    "duration": 20,
    "start_time": "2022-08-31T15:11:27.278Z"
   },
   {
    "duration": 13,
    "start_time": "2022-08-31T15:11:30.268Z"
   },
   {
    "duration": 1769,
    "start_time": "2022-08-31T15:12:11.991Z"
   },
   {
    "duration": 1607,
    "start_time": "2022-08-31T15:12:13.762Z"
   },
   {
    "duration": 10,
    "start_time": "2022-08-31T15:12:29.417Z"
   },
   {
    "duration": 12,
    "start_time": "2022-08-31T15:12:38.153Z"
   },
   {
    "duration": 11,
    "start_time": "2022-08-31T15:12:59.971Z"
   },
   {
    "duration": 9,
    "start_time": "2022-08-31T16:55:08.883Z"
   },
   {
    "duration": 12,
    "start_time": "2022-08-31T16:55:09.598Z"
   },
   {
    "duration": 1751,
    "start_time": "2022-08-31T16:55:10.326Z"
   },
   {
    "duration": 9,
    "start_time": "2022-08-31T16:55:12.080Z"
   },
   {
    "duration": 55,
    "start_time": "2022-08-31T17:23:33.007Z"
   },
   {
    "duration": 13,
    "start_time": "2022-08-31T17:23:43.185Z"
   },
   {
    "duration": 14,
    "start_time": "2022-08-31T17:23:56.156Z"
   },
   {
    "duration": 1489,
    "start_time": "2022-08-31T17:50:32.676Z"
   },
   {
    "duration": 1196,
    "start_time": "2022-08-31T18:02:34.115Z"
   },
   {
    "duration": 231,
    "start_time": "2022-08-31T18:02:47.863Z"
   },
   {
    "duration": 235,
    "start_time": "2022-08-31T18:03:02.924Z"
   },
   {
    "duration": 276,
    "start_time": "2022-08-31T18:04:06.571Z"
   },
   {
    "duration": 388,
    "start_time": "2022-08-31T18:04:54.037Z"
   },
   {
    "duration": 226,
    "start_time": "2022-08-31T18:05:05.784Z"
   },
   {
    "duration": 253,
    "start_time": "2022-08-31T18:11:10.613Z"
   },
   {
    "duration": 254,
    "start_time": "2022-08-31T18:11:47.079Z"
   },
   {
    "duration": 242,
    "start_time": "2022-08-31T18:12:13.240Z"
   },
   {
    "duration": 255,
    "start_time": "2022-08-31T18:14:26.996Z"
   },
   {
    "duration": 327,
    "start_time": "2022-08-31T18:19:24.373Z"
   },
   {
    "duration": 14,
    "start_time": "2022-08-31T18:22:38.748Z"
   },
   {
    "duration": 239,
    "start_time": "2022-08-31T18:44:33.210Z"
   },
   {
    "duration": 242,
    "start_time": "2022-08-31T18:44:40.550Z"
   },
   {
    "duration": 45,
    "start_time": "2022-09-01T14:49:28.814Z"
   },
   {
    "duration": 1288,
    "start_time": "2022-09-01T14:49:38.761Z"
   },
   {
    "duration": 97,
    "start_time": "2022-09-01T14:49:40.052Z"
   },
   {
    "duration": 65,
    "start_time": "2022-09-01T14:49:40.150Z"
   },
   {
    "duration": 17,
    "start_time": "2022-09-01T14:49:40.217Z"
   },
   {
    "duration": 21,
    "start_time": "2022-09-01T14:49:40.236Z"
   },
   {
    "duration": 15,
    "start_time": "2022-09-01T14:49:40.259Z"
   },
   {
    "duration": 5,
    "start_time": "2022-09-01T14:49:40.276Z"
   },
   {
    "duration": 11,
    "start_time": "2022-09-01T14:49:40.283Z"
   },
   {
    "duration": 5,
    "start_time": "2022-09-01T14:49:40.296Z"
   },
   {
    "duration": 8,
    "start_time": "2022-09-01T14:49:40.303Z"
   },
   {
    "duration": 8,
    "start_time": "2022-09-01T14:49:40.313Z"
   },
   {
    "duration": 36,
    "start_time": "2022-09-01T14:49:40.323Z"
   },
   {
    "duration": 20,
    "start_time": "2022-09-01T14:49:40.360Z"
   },
   {
    "duration": 5,
    "start_time": "2022-09-01T14:49:40.382Z"
   },
   {
    "duration": 17,
    "start_time": "2022-09-01T14:49:40.389Z"
   },
   {
    "duration": 11,
    "start_time": "2022-09-01T14:49:40.409Z"
   },
   {
    "duration": 39,
    "start_time": "2022-09-01T14:49:40.422Z"
   },
   {
    "duration": 23,
    "start_time": "2022-09-01T14:49:40.462Z"
   },
   {
    "duration": 13,
    "start_time": "2022-09-01T14:49:40.487Z"
   },
   {
    "duration": 393,
    "start_time": "2022-09-01T14:49:40.502Z"
   },
   {
    "duration": 15,
    "start_time": "2022-09-01T14:49:40.897Z"
   },
   {
    "duration": 313,
    "start_time": "2022-09-01T14:49:40.913Z"
   },
   {
    "duration": 11,
    "start_time": "2022-09-01T14:49:41.227Z"
   },
   {
    "duration": 344,
    "start_time": "2022-09-01T14:49:41.240Z"
   },
   {
    "duration": 11,
    "start_time": "2022-09-01T14:49:41.585Z"
   },
   {
    "duration": 10,
    "start_time": "2022-09-01T14:49:41.597Z"
   },
   {
    "duration": 8,
    "start_time": "2022-09-01T14:49:41.608Z"
   },
   {
    "duration": 4,
    "start_time": "2022-09-01T14:49:41.619Z"
   },
   {
    "duration": 39,
    "start_time": "2022-09-01T14:49:41.625Z"
   },
   {
    "duration": 12,
    "start_time": "2022-09-01T14:49:41.666Z"
   },
   {
    "duration": 8,
    "start_time": "2022-09-01T14:49:41.679Z"
   },
   {
    "duration": 235,
    "start_time": "2022-09-01T14:49:41.688Z"
   },
   {
    "duration": 302,
    "start_time": "2022-09-01T14:49:41.925Z"
   },
   {
    "duration": 5,
    "start_time": "2022-09-01T14:49:42.229Z"
   },
   {
    "duration": 23,
    "start_time": "2022-09-01T14:49:42.235Z"
   },
   {
    "duration": 1561,
    "start_time": "2022-09-01T14:49:42.260Z"
   },
   {
    "duration": 10,
    "start_time": "2022-09-01T14:49:43.823Z"
   },
   {
    "duration": 1515,
    "start_time": "2022-09-01T14:49:43.834Z"
   },
   {
    "duration": 10,
    "start_time": "2022-09-01T14:49:45.351Z"
   },
   {
    "duration": 14,
    "start_time": "2022-09-01T14:49:45.362Z"
   },
   {
    "duration": 33,
    "start_time": "2022-09-01T14:49:45.378Z"
   },
   {
    "duration": 1502,
    "start_time": "2022-09-01T14:49:45.413Z"
   },
   {
    "duration": 11,
    "start_time": "2022-09-01T14:49:46.916Z"
   },
   {
    "duration": 207,
    "start_time": "2022-09-01T14:49:46.929Z"
   },
   {
    "duration": 252,
    "start_time": "2022-09-01T14:49:47.137Z"
   },
   {
    "duration": 23,
    "start_time": "2022-09-01T14:49:47.391Z"
   },
   {
    "duration": 111,
    "start_time": "2022-09-01T14:49:47.416Z"
   },
   {
    "duration": 10,
    "start_time": "2022-09-01T14:53:10.913Z"
   },
   {
    "duration": 7,
    "start_time": "2022-09-01T14:53:37.658Z"
   },
   {
    "duration": 12,
    "start_time": "2022-09-01T14:53:48.305Z"
   },
   {
    "duration": 13,
    "start_time": "2022-09-01T14:54:15.732Z"
   },
   {
    "duration": 11,
    "start_time": "2022-09-01T14:54:22.903Z"
   },
   {
    "duration": 11,
    "start_time": "2022-09-01T14:55:58.795Z"
   },
   {
    "duration": 7,
    "start_time": "2022-09-01T14:57:49.998Z"
   },
   {
    "duration": 11,
    "start_time": "2022-09-01T14:58:24.126Z"
   },
   {
    "duration": 11,
    "start_time": "2022-09-01T14:59:11.109Z"
   },
   {
    "duration": 11,
    "start_time": "2022-09-01T15:00:02.017Z"
   },
   {
    "duration": 14,
    "start_time": "2022-09-01T15:04:25.284Z"
   },
   {
    "duration": 11,
    "start_time": "2022-09-01T15:05:33.189Z"
   },
   {
    "duration": 11,
    "start_time": "2022-09-01T15:07:17.006Z"
   },
   {
    "duration": 17,
    "start_time": "2022-09-01T15:08:00.545Z"
   },
   {
    "duration": 13,
    "start_time": "2022-09-01T15:08:06.328Z"
   },
   {
    "duration": 12,
    "start_time": "2022-09-01T15:09:03.337Z"
   },
   {
    "duration": 11,
    "start_time": "2022-09-01T15:09:57.287Z"
   },
   {
    "duration": 189,
    "start_time": "2022-09-01T15:32:48.285Z"
   },
   {
    "duration": 168,
    "start_time": "2022-09-01T15:33:49.136Z"
   },
   {
    "duration": 318,
    "start_time": "2022-09-01T15:35:04.635Z"
   },
   {
    "duration": 161,
    "start_time": "2022-09-01T15:35:34.171Z"
   },
   {
    "duration": 129,
    "start_time": "2022-09-01T15:35:34.871Z"
   },
   {
    "duration": 144,
    "start_time": "2022-09-01T15:35:35.421Z"
   },
   {
    "duration": 170,
    "start_time": "2022-09-01T15:35:51.153Z"
   },
   {
    "duration": 153,
    "start_time": "2022-09-01T15:36:31.010Z"
   },
   {
    "duration": 157,
    "start_time": "2022-09-01T15:37:48.569Z"
   },
   {
    "duration": 152,
    "start_time": "2022-09-01T15:38:20.328Z"
   },
   {
    "duration": 164,
    "start_time": "2022-09-01T15:41:56.013Z"
   },
   {
    "duration": 11,
    "start_time": "2022-09-01T15:42:08.269Z"
   },
   {
    "duration": 15,
    "start_time": "2022-09-01T15:42:11.831Z"
   },
   {
    "duration": 11,
    "start_time": "2022-09-01T15:42:17.700Z"
   },
   {
    "duration": 167,
    "start_time": "2022-09-01T15:42:21.873Z"
   },
   {
    "duration": 177,
    "start_time": "2022-09-01T15:45:22.573Z"
   },
   {
    "duration": 155,
    "start_time": "2022-09-01T15:45:46.772Z"
   },
   {
    "duration": 173,
    "start_time": "2022-09-01T15:46:04.773Z"
   },
   {
    "duration": 5,
    "start_time": "2022-09-01T17:20:51.666Z"
   },
   {
    "duration": 1110,
    "start_time": "2022-09-01T17:21:15.409Z"
   },
   {
    "duration": 50,
    "start_time": "2022-09-01T17:21:16.520Z"
   },
   {
    "duration": 56,
    "start_time": "2022-09-01T17:21:16.572Z"
   },
   {
    "duration": 27,
    "start_time": "2022-09-01T17:21:16.631Z"
   },
   {
    "duration": 16,
    "start_time": "2022-09-01T17:21:16.660Z"
   },
   {
    "duration": 15,
    "start_time": "2022-09-01T17:21:16.677Z"
   },
   {
    "duration": 7,
    "start_time": "2022-09-01T17:21:16.694Z"
   },
   {
    "duration": 10,
    "start_time": "2022-09-01T17:21:16.702Z"
   },
   {
    "duration": 8,
    "start_time": "2022-09-01T17:21:16.713Z"
   },
   {
    "duration": 33,
    "start_time": "2022-09-01T17:21:16.724Z"
   },
   {
    "duration": 17,
    "start_time": "2022-09-01T17:21:16.759Z"
   },
   {
    "duration": 51,
    "start_time": "2022-09-01T17:21:16.778Z"
   },
   {
    "duration": 7,
    "start_time": "2022-09-01T17:21:16.830Z"
   },
   {
    "duration": 27,
    "start_time": "2022-09-01T17:21:16.839Z"
   },
   {
    "duration": 6,
    "start_time": "2022-09-01T17:21:16.868Z"
   },
   {
    "duration": 32,
    "start_time": "2022-09-01T17:21:16.876Z"
   },
   {
    "duration": 18,
    "start_time": "2022-09-01T17:21:16.910Z"
   },
   {
    "duration": 17,
    "start_time": "2022-09-01T17:21:16.929Z"
   },
   {
    "duration": 34,
    "start_time": "2022-09-01T17:21:16.948Z"
   },
   {
    "duration": 19,
    "start_time": "2022-09-01T17:21:16.988Z"
   },
   {
    "duration": 434,
    "start_time": "2022-09-01T17:21:17.009Z"
   },
   {
    "duration": 19,
    "start_time": "2022-09-01T17:21:17.445Z"
   },
   {
    "duration": 334,
    "start_time": "2022-09-01T17:21:17.466Z"
   },
   {
    "duration": 11,
    "start_time": "2022-09-01T17:21:17.801Z"
   },
   {
    "duration": 362,
    "start_time": "2022-09-01T17:21:17.813Z"
   },
   {
    "duration": 13,
    "start_time": "2022-09-01T17:21:18.177Z"
   },
   {
    "duration": 11,
    "start_time": "2022-09-01T17:21:18.192Z"
   },
   {
    "duration": 8,
    "start_time": "2022-09-01T17:21:18.206Z"
   },
   {
    "duration": 13,
    "start_time": "2022-09-01T17:21:18.216Z"
   },
   {
    "duration": 40,
    "start_time": "2022-09-01T17:21:18.230Z"
   },
   {
    "duration": 12,
    "start_time": "2022-09-01T17:21:18.272Z"
   },
   {
    "duration": 8,
    "start_time": "2022-09-01T17:21:18.285Z"
   },
   {
    "duration": 276,
    "start_time": "2022-09-01T17:21:18.294Z"
   },
   {
    "duration": 252,
    "start_time": "2022-09-01T17:21:18.572Z"
   },
   {
    "duration": 5,
    "start_time": "2022-09-01T17:21:18.825Z"
   },
   {
    "duration": 26,
    "start_time": "2022-09-01T17:21:18.832Z"
   },
   {
    "duration": 1713,
    "start_time": "2022-09-01T17:21:18.860Z"
   },
   {
    "duration": 11,
    "start_time": "2022-09-01T17:21:20.575Z"
   },
   {
    "duration": 1451,
    "start_time": "2022-09-01T17:21:20.587Z"
   },
   {
    "duration": 8,
    "start_time": "2022-09-01T17:21:22.040Z"
   },
   {
    "duration": 7,
    "start_time": "2022-09-01T17:21:22.057Z"
   },
   {
    "duration": 13,
    "start_time": "2022-09-01T17:21:22.066Z"
   },
   {
    "duration": 1523,
    "start_time": "2022-09-01T17:21:22.081Z"
   },
   {
    "duration": 12,
    "start_time": "2022-09-01T17:21:23.606Z"
   },
   {
    "duration": 217,
    "start_time": "2022-09-01T17:21:23.619Z"
   },
   {
    "duration": 220,
    "start_time": "2022-09-01T17:21:23.838Z"
   },
   {
    "duration": 12,
    "start_time": "2022-09-01T17:21:24.059Z"
   },
   {
    "duration": 9,
    "start_time": "2022-09-01T17:21:24.073Z"
   },
   {
    "duration": 10,
    "start_time": "2022-09-01T17:21:24.084Z"
   },
   {
    "duration": 204,
    "start_time": "2022-09-01T17:21:24.096Z"
   },
   {
    "duration": 11,
    "start_time": "2022-09-01T17:21:24.302Z"
   },
   {
    "duration": 15,
    "start_time": "2022-09-01T17:21:24.315Z"
   },
   {
    "duration": 27,
    "start_time": "2022-09-01T17:21:24.331Z"
   },
   {
    "duration": 158,
    "start_time": "2022-09-01T17:21:24.360Z"
   },
   {
    "duration": 10,
    "start_time": "2022-09-01T17:21:24.520Z"
   },
   {
    "duration": 17,
    "start_time": "2022-09-01T17:21:24.532Z"
   },
   {
    "duration": 12,
    "start_time": "2022-09-01T17:21:24.557Z"
   },
   {
    "duration": 184,
    "start_time": "2022-09-01T17:21:24.570Z"
   },
   {
    "duration": 7,
    "start_time": "2022-09-01T17:24:35.197Z"
   },
   {
    "duration": 246,
    "start_time": "2022-09-01T17:35:29.382Z"
   },
   {
    "duration": 175,
    "start_time": "2022-09-01T17:35:41.081Z"
   },
   {
    "duration": 278,
    "start_time": "2022-09-01T17:35:53.363Z"
   },
   {
    "duration": 180,
    "start_time": "2022-09-01T17:36:05.352Z"
   },
   {
    "duration": 178,
    "start_time": "2022-09-01T17:36:18.262Z"
   },
   {
    "duration": 248,
    "start_time": "2022-09-01T17:37:05.463Z"
   },
   {
    "duration": 224,
    "start_time": "2022-09-01T17:38:07.846Z"
   },
   {
    "duration": 511,
    "start_time": "2022-09-01T17:39:00.633Z"
   },
   {
    "duration": 356,
    "start_time": "2022-09-01T17:41:40.783Z"
   },
   {
    "duration": 411,
    "start_time": "2022-09-01T17:41:55.597Z"
   },
   {
    "duration": 376,
    "start_time": "2022-09-01T17:42:07.233Z"
   },
   {
    "duration": 356,
    "start_time": "2022-09-01T17:42:20.808Z"
   },
   {
    "duration": 15,
    "start_time": "2022-09-01T17:43:11.844Z"
   },
   {
    "duration": 527,
    "start_time": "2022-09-01T17:43:17.412Z"
   },
   {
    "duration": 15,
    "start_time": "2022-09-01T17:44:31.869Z"
   },
   {
    "duration": 68,
    "start_time": "2022-09-01T17:45:59.747Z"
   },
   {
    "duration": 53,
    "start_time": "2022-09-01T17:46:57.872Z"
   },
   {
    "duration": 12,
    "start_time": "2022-09-01T17:47:02.272Z"
   },
   {
    "duration": 12,
    "start_time": "2022-09-01T17:47:08.141Z"
   },
   {
    "duration": 48,
    "start_time": "2022-09-01T17:47:25.330Z"
   },
   {
    "duration": 19,
    "start_time": "2022-09-01T17:48:59.101Z"
   },
   {
    "duration": 21,
    "start_time": "2022-09-01T17:49:08.457Z"
   },
   {
    "duration": 21,
    "start_time": "2022-09-01T17:49:47.136Z"
   },
   {
    "duration": 22,
    "start_time": "2022-09-01T17:50:04.541Z"
   },
   {
    "duration": 16,
    "start_time": "2022-09-01T17:50:35.086Z"
   },
   {
    "duration": 13,
    "start_time": "2022-09-01T18:00:44.935Z"
   },
   {
    "duration": 14,
    "start_time": "2022-09-01T18:01:43.705Z"
   },
   {
    "duration": 21,
    "start_time": "2022-09-01T18:01:55.216Z"
   },
   {
    "duration": 15,
    "start_time": "2022-09-01T18:02:12.318Z"
   },
   {
    "duration": 76,
    "start_time": "2022-09-01T18:02:18.044Z"
   },
   {
    "duration": 22,
    "start_time": "2022-09-01T18:02:29.548Z"
   },
   {
    "duration": 16,
    "start_time": "2022-09-01T18:02:43.637Z"
   },
   {
    "duration": 3,
    "start_time": "2022-09-01T18:38:26.369Z"
   },
   {
    "duration": 1155,
    "start_time": "2022-09-01T18:54:55.011Z"
   },
   {
    "duration": 50,
    "start_time": "2022-09-01T18:54:56.168Z"
   },
   {
    "duration": 59,
    "start_time": "2022-09-01T18:54:56.219Z"
   },
   {
    "duration": 16,
    "start_time": "2022-09-01T18:54:56.280Z"
   },
   {
    "duration": 9,
    "start_time": "2022-09-01T18:54:56.297Z"
   },
   {
    "duration": 19,
    "start_time": "2022-09-01T18:54:56.308Z"
   },
   {
    "duration": 29,
    "start_time": "2022-09-01T18:54:56.328Z"
   },
   {
    "duration": 8,
    "start_time": "2022-09-01T18:54:56.359Z"
   },
   {
    "duration": 6,
    "start_time": "2022-09-01T18:54:56.369Z"
   },
   {
    "duration": 8,
    "start_time": "2022-09-01T18:54:56.377Z"
   },
   {
    "duration": 7,
    "start_time": "2022-09-01T18:54:56.386Z"
   },
   {
    "duration": 6,
    "start_time": "2022-09-01T18:54:56.395Z"
   },
   {
    "duration": 4,
    "start_time": "2022-09-01T18:54:56.402Z"
   },
   {
    "duration": 50,
    "start_time": "2022-09-01T18:54:56.408Z"
   },
   {
    "duration": 5,
    "start_time": "2022-09-01T18:54:56.459Z"
   },
   {
    "duration": 21,
    "start_time": "2022-09-01T18:54:56.466Z"
   },
   {
    "duration": 12,
    "start_time": "2022-09-01T18:54:56.488Z"
   },
   {
    "duration": 6,
    "start_time": "2022-09-01T18:54:56.501Z"
   },
   {
    "duration": 24,
    "start_time": "2022-09-01T18:54:56.509Z"
   },
   {
    "duration": 29,
    "start_time": "2022-09-01T18:54:56.534Z"
   },
   {
    "duration": 357,
    "start_time": "2022-09-01T18:54:56.564Z"
   },
   {
    "duration": 419,
    "start_time": "2022-09-01T18:54:56.923Z"
   },
   {
    "duration": 18,
    "start_time": "2022-09-01T18:54:57.344Z"
   },
   {
    "duration": 329,
    "start_time": "2022-09-01T18:54:57.363Z"
   },
   {
    "duration": 10,
    "start_time": "2022-09-01T18:54:57.694Z"
   },
   {
    "duration": 357,
    "start_time": "2022-09-01T18:54:57.706Z"
   },
   {
    "duration": 12,
    "start_time": "2022-09-01T18:54:58.064Z"
   },
   {
    "duration": 12,
    "start_time": "2022-09-01T18:54:58.080Z"
   },
   {
    "duration": 5,
    "start_time": "2022-09-01T18:54:58.094Z"
   },
   {
    "duration": 6,
    "start_time": "2022-09-01T18:54:58.101Z"
   },
   {
    "duration": 50,
    "start_time": "2022-09-01T18:54:58.108Z"
   },
   {
    "duration": 13,
    "start_time": "2022-09-01T18:54:58.160Z"
   },
   {
    "duration": 12,
    "start_time": "2022-09-01T18:54:58.175Z"
   },
   {
    "duration": 243,
    "start_time": "2022-09-01T18:54:58.189Z"
   },
   {
    "duration": 351,
    "start_time": "2022-09-01T18:54:58.434Z"
   },
   {
    "duration": 5,
    "start_time": "2022-09-01T18:54:58.787Z"
   },
   {
    "duration": 15,
    "start_time": "2022-09-01T18:54:58.794Z"
   },
   {
    "duration": 1555,
    "start_time": "2022-09-01T18:54:58.810Z"
   },
   {
    "duration": 9,
    "start_time": "2022-09-01T18:55:00.367Z"
   },
   {
    "duration": 1526,
    "start_time": "2022-09-01T18:55:00.378Z"
   },
   {
    "duration": 10,
    "start_time": "2022-09-01T18:55:01.906Z"
   },
   {
    "duration": 23,
    "start_time": "2022-09-01T18:55:01.919Z"
   },
   {
    "duration": 22,
    "start_time": "2022-09-01T18:55:01.944Z"
   },
   {
    "duration": 1427,
    "start_time": "2022-09-01T18:55:01.968Z"
   },
   {
    "duration": 11,
    "start_time": "2022-09-01T18:55:03.397Z"
   },
   {
    "duration": 207,
    "start_time": "2022-09-01T18:55:03.410Z"
   },
   {
    "duration": 220,
    "start_time": "2022-09-01T18:55:03.618Z"
   },
   {
    "duration": 20,
    "start_time": "2022-09-01T18:55:03.840Z"
   },
   {
    "duration": 12,
    "start_time": "2022-09-01T18:55:03.861Z"
   },
   {
    "duration": 12,
    "start_time": "2022-09-01T18:55:03.874Z"
   },
   {
    "duration": 11,
    "start_time": "2022-09-01T18:55:03.887Z"
   },
   {
    "duration": 176,
    "start_time": "2022-09-01T18:55:03.900Z"
   },
   {
    "duration": 11,
    "start_time": "2022-09-01T18:55:04.078Z"
   },
   {
    "duration": 13,
    "start_time": "2022-09-01T18:55:04.090Z"
   },
   {
    "duration": 10,
    "start_time": "2022-09-01T18:55:04.104Z"
   },
   {
    "duration": 170,
    "start_time": "2022-09-01T18:55:04.116Z"
   },
   {
    "duration": 11,
    "start_time": "2022-09-01T18:55:04.287Z"
   },
   {
    "duration": 13,
    "start_time": "2022-09-01T18:55:04.300Z"
   },
   {
    "duration": 11,
    "start_time": "2022-09-01T18:55:04.315Z"
   },
   {
    "duration": 200,
    "start_time": "2022-09-01T18:55:04.327Z"
   },
   {
    "duration": 1284,
    "start_time": "2022-09-02T07:58:20.118Z"
   },
   {
    "duration": 94,
    "start_time": "2022-09-02T07:58:21.403Z"
   },
   {
    "duration": 62,
    "start_time": "2022-09-02T07:58:21.499Z"
   },
   {
    "duration": 14,
    "start_time": "2022-09-02T07:58:21.563Z"
   },
   {
    "duration": 31,
    "start_time": "2022-09-02T07:58:21.578Z"
   },
   {
    "duration": 24,
    "start_time": "2022-09-02T07:58:21.610Z"
   },
   {
    "duration": 23,
    "start_time": "2022-09-02T07:58:21.636Z"
   },
   {
    "duration": 32,
    "start_time": "2022-09-02T07:58:21.660Z"
   },
   {
    "duration": 11,
    "start_time": "2022-09-02T07:58:21.693Z"
   },
   {
    "duration": 12,
    "start_time": "2022-09-02T07:58:21.707Z"
   },
   {
    "duration": 24,
    "start_time": "2022-09-02T07:58:21.720Z"
   },
   {
    "duration": 19,
    "start_time": "2022-09-02T07:58:21.746Z"
   },
   {
    "duration": 8,
    "start_time": "2022-09-02T07:58:21.766Z"
   },
   {
    "duration": 35,
    "start_time": "2022-09-02T07:58:21.776Z"
   },
   {
    "duration": 4,
    "start_time": "2022-09-02T07:58:21.813Z"
   },
   {
    "duration": 32,
    "start_time": "2022-09-02T07:58:21.818Z"
   },
   {
    "duration": 13,
    "start_time": "2022-09-02T07:58:21.851Z"
   },
   {
    "duration": 20,
    "start_time": "2022-09-02T07:58:21.865Z"
   },
   {
    "duration": 33,
    "start_time": "2022-09-02T07:58:21.888Z"
   },
   {
    "duration": 12,
    "start_time": "2022-09-02T07:58:21.924Z"
   },
   {
    "duration": 352,
    "start_time": "2022-09-02T07:58:21.937Z"
   },
   {
    "duration": 473,
    "start_time": "2022-09-02T07:58:22.291Z"
   },
   {
    "duration": 13,
    "start_time": "2022-09-02T07:58:22.765Z"
   },
   {
    "duration": 321,
    "start_time": "2022-09-02T07:58:22.780Z"
   },
   {
    "duration": 9,
    "start_time": "2022-09-02T07:58:23.103Z"
   },
   {
    "duration": 340,
    "start_time": "2022-09-02T07:58:23.113Z"
   },
   {
    "duration": 12,
    "start_time": "2022-09-02T07:58:23.455Z"
   },
   {
    "duration": 12,
    "start_time": "2022-09-02T07:58:23.471Z"
   },
   {
    "duration": 22,
    "start_time": "2022-09-02T07:58:23.484Z"
   },
   {
    "duration": 20,
    "start_time": "2022-09-02T07:58:23.507Z"
   },
   {
    "duration": 30,
    "start_time": "2022-09-02T07:58:23.529Z"
   },
   {
    "duration": 36,
    "start_time": "2022-09-02T07:58:23.560Z"
   },
   {
    "duration": 13,
    "start_time": "2022-09-02T07:58:23.597Z"
   },
   {
    "duration": 260,
    "start_time": "2022-09-02T07:58:23.611Z"
   },
   {
    "duration": 332,
    "start_time": "2022-09-02T07:58:23.873Z"
   },
   {
    "duration": 4,
    "start_time": "2022-09-02T07:58:24.207Z"
   },
   {
    "duration": 13,
    "start_time": "2022-09-02T07:58:24.213Z"
   },
   {
    "duration": 1422,
    "start_time": "2022-09-02T07:58:24.239Z"
   },
   {
    "duration": 9,
    "start_time": "2022-09-02T07:58:25.662Z"
   },
   {
    "duration": 1339,
    "start_time": "2022-09-02T07:58:25.673Z"
   },
   {
    "duration": 9,
    "start_time": "2022-09-02T07:58:27.013Z"
   },
   {
    "duration": 8,
    "start_time": "2022-09-02T07:58:27.023Z"
   },
   {
    "duration": 10,
    "start_time": "2022-09-02T07:58:27.043Z"
   },
   {
    "duration": 1336,
    "start_time": "2022-09-02T07:58:27.055Z"
   },
   {
    "duration": 11,
    "start_time": "2022-09-02T07:58:28.392Z"
   },
   {
    "duration": 197,
    "start_time": "2022-09-02T07:58:28.404Z"
   },
   {
    "duration": 213,
    "start_time": "2022-09-02T07:58:28.603Z"
   },
   {
    "duration": 14,
    "start_time": "2022-09-02T07:58:28.817Z"
   },
   {
    "duration": 24,
    "start_time": "2022-09-02T07:58:28.838Z"
   },
   {
    "duration": 16,
    "start_time": "2022-09-02T07:58:28.864Z"
   },
   {
    "duration": 18,
    "start_time": "2022-09-02T07:58:28.882Z"
   },
   {
    "duration": 191,
    "start_time": "2022-09-02T07:58:28.902Z"
   },
   {
    "duration": 10,
    "start_time": "2022-09-02T07:58:29.094Z"
   },
   {
    "duration": 11,
    "start_time": "2022-09-02T07:58:29.106Z"
   },
   {
    "duration": 27,
    "start_time": "2022-09-02T07:58:29.118Z"
   },
   {
    "duration": 152,
    "start_time": "2022-09-02T07:58:29.147Z"
   },
   {
    "duration": 10,
    "start_time": "2022-09-02T07:58:29.301Z"
   },
   {
    "duration": 18,
    "start_time": "2022-09-02T07:58:29.312Z"
   },
   {
    "duration": 17,
    "start_time": "2022-09-02T07:58:29.331Z"
   },
   {
    "duration": 159,
    "start_time": "2022-09-02T07:58:29.349Z"
   },
   {
    "duration": 110,
    "start_time": "2022-09-02T08:07:00.742Z"
   },
   {
    "duration": 10,
    "start_time": "2022-09-02T08:07:36.769Z"
   },
   {
    "duration": 5,
    "start_time": "2022-09-02T08:08:00.732Z"
   },
   {
    "duration": 8,
    "start_time": "2022-09-02T08:08:41.799Z"
   },
   {
    "duration": 7,
    "start_time": "2022-09-02T08:09:15.898Z"
   },
   {
    "duration": 5,
    "start_time": "2022-09-02T08:10:30.491Z"
   },
   {
    "duration": 5,
    "start_time": "2022-09-02T08:10:58.239Z"
   },
   {
    "duration": 5,
    "start_time": "2022-09-02T08:14:28.473Z"
   },
   {
    "duration": 8,
    "start_time": "2022-09-02T08:14:54.484Z"
   },
   {
    "duration": 8,
    "start_time": "2022-09-02T08:15:32.696Z"
   },
   {
    "duration": 3,
    "start_time": "2022-09-02T08:15:42.970Z"
   },
   {
    "duration": 11,
    "start_time": "2022-09-02T08:16:18.920Z"
   },
   {
    "duration": 9,
    "start_time": "2022-09-02T08:16:38.933Z"
   },
   {
    "duration": 9,
    "start_time": "2022-09-02T08:16:45.244Z"
   },
   {
    "duration": 3,
    "start_time": "2022-09-02T08:16:48.622Z"
   },
   {
    "duration": 4,
    "start_time": "2022-09-02T08:16:49.039Z"
   },
   {
    "duration": 8,
    "start_time": "2022-09-02T08:17:51.687Z"
   },
   {
    "duration": 7,
    "start_time": "2022-09-02T08:17:59.138Z"
   },
   {
    "duration": 5,
    "start_time": "2022-09-02T08:17:59.970Z"
   },
   {
    "duration": 3,
    "start_time": "2022-09-02T08:18:00.478Z"
   },
   {
    "duration": 3,
    "start_time": "2022-09-02T08:18:00.899Z"
   },
   {
    "duration": 3,
    "start_time": "2022-09-02T08:19:17.768Z"
   },
   {
    "duration": 1066,
    "start_time": "2022-09-02T08:19:25.456Z"
   },
   {
    "duration": 50,
    "start_time": "2022-09-02T08:19:26.524Z"
   },
   {
    "duration": 58,
    "start_time": "2022-09-02T08:19:26.575Z"
   },
   {
    "duration": 15,
    "start_time": "2022-09-02T08:19:26.635Z"
   },
   {
    "duration": 16,
    "start_time": "2022-09-02T08:19:26.652Z"
   },
   {
    "duration": 14,
    "start_time": "2022-09-02T08:19:26.669Z"
   },
   {
    "duration": 8,
    "start_time": "2022-09-02T08:19:26.685Z"
   },
   {
    "duration": 9,
    "start_time": "2022-09-02T08:19:26.694Z"
   },
   {
    "duration": 6,
    "start_time": "2022-09-02T08:19:26.704Z"
   },
   {
    "duration": 27,
    "start_time": "2022-09-02T08:19:26.712Z"
   },
   {
    "duration": 8,
    "start_time": "2022-09-02T08:19:26.741Z"
   },
   {
    "duration": 20,
    "start_time": "2022-09-02T08:19:26.751Z"
   },
   {
    "duration": 11,
    "start_time": "2022-09-02T08:19:26.773Z"
   },
   {
    "duration": 23,
    "start_time": "2022-09-02T08:19:26.785Z"
   },
   {
    "duration": 4,
    "start_time": "2022-09-02T08:19:26.810Z"
   },
   {
    "duration": 25,
    "start_time": "2022-09-02T08:19:26.815Z"
   },
   {
    "duration": 9,
    "start_time": "2022-09-02T08:19:26.842Z"
   },
   {
    "duration": 8,
    "start_time": "2022-09-02T08:19:26.853Z"
   },
   {
    "duration": 25,
    "start_time": "2022-09-02T08:19:26.862Z"
   },
   {
    "duration": 11,
    "start_time": "2022-09-02T08:19:26.889Z"
   },
   {
    "duration": 362,
    "start_time": "2022-09-02T08:19:26.902Z"
   },
   {
    "duration": 411,
    "start_time": "2022-09-02T08:19:27.266Z"
   },
   {
    "duration": 14,
    "start_time": "2022-09-02T08:19:27.679Z"
   },
   {
    "duration": 296,
    "start_time": "2022-09-02T08:19:27.695Z"
   },
   {
    "duration": 10,
    "start_time": "2022-09-02T08:19:27.993Z"
   },
   {
    "duration": 306,
    "start_time": "2022-09-02T08:19:28.004Z"
   },
   {
    "duration": 11,
    "start_time": "2022-09-02T08:19:28.312Z"
   },
   {
    "duration": 10,
    "start_time": "2022-09-02T08:19:28.338Z"
   },
   {
    "duration": 6,
    "start_time": "2022-09-02T08:19:28.349Z"
   },
   {
    "duration": 7,
    "start_time": "2022-09-02T08:19:28.356Z"
   },
   {
    "duration": 20,
    "start_time": "2022-09-02T08:19:28.365Z"
   },
   {
    "duration": 11,
    "start_time": "2022-09-02T08:19:28.386Z"
   },
   {
    "duration": 8,
    "start_time": "2022-09-02T08:19:28.398Z"
   },
   {
    "duration": 231,
    "start_time": "2022-09-02T08:19:28.407Z"
   },
   {
    "duration": 310,
    "start_time": "2022-09-02T08:19:28.640Z"
   },
   {
    "duration": 6,
    "start_time": "2022-09-02T08:19:28.952Z"
   },
   {
    "duration": 25,
    "start_time": "2022-09-02T08:19:28.959Z"
   },
   {
    "duration": 1387,
    "start_time": "2022-09-02T08:19:28.986Z"
   },
   {
    "duration": 8,
    "start_time": "2022-09-02T08:19:30.374Z"
   },
   {
    "duration": 1314,
    "start_time": "2022-09-02T08:19:30.384Z"
   },
   {
    "duration": 8,
    "start_time": "2022-09-02T08:19:31.700Z"
   },
   {
    "duration": 19,
    "start_time": "2022-09-02T08:19:31.710Z"
   },
   {
    "duration": 17,
    "start_time": "2022-09-02T08:19:31.731Z"
   },
   {
    "duration": 1313,
    "start_time": "2022-09-02T08:19:31.750Z"
   },
   {
    "duration": 12,
    "start_time": "2022-09-02T08:19:33.064Z"
   },
   {
    "duration": 218,
    "start_time": "2022-09-02T08:19:33.077Z"
   },
   {
    "duration": 230,
    "start_time": "2022-09-02T08:19:33.297Z"
   },
   {
    "duration": 20,
    "start_time": "2022-09-02T08:19:33.529Z"
   },
   {
    "duration": 14,
    "start_time": "2022-09-02T08:19:33.550Z"
   },
   {
    "duration": 10,
    "start_time": "2022-09-02T08:19:33.566Z"
   },
   {
    "duration": 12,
    "start_time": "2022-09-02T08:19:33.577Z"
   },
   {
    "duration": 186,
    "start_time": "2022-09-02T08:19:33.590Z"
   },
   {
    "duration": 11,
    "start_time": "2022-09-02T08:19:33.777Z"
   },
   {
    "duration": 10,
    "start_time": "2022-09-02T08:19:33.789Z"
   },
   {
    "duration": 11,
    "start_time": "2022-09-02T08:19:33.801Z"
   },
   {
    "duration": 166,
    "start_time": "2022-09-02T08:19:33.813Z"
   },
   {
    "duration": 11,
    "start_time": "2022-09-02T08:19:33.981Z"
   },
   {
    "duration": 13,
    "start_time": "2022-09-02T08:19:33.994Z"
   },
   {
    "duration": 30,
    "start_time": "2022-09-02T08:19:34.009Z"
   },
   {
    "duration": 173,
    "start_time": "2022-09-02T08:19:34.040Z"
   },
   {
    "duration": 23,
    "start_time": "2022-09-02T08:19:34.215Z"
   },
   {
    "duration": 9,
    "start_time": "2022-09-02T08:19:34.240Z"
   },
   {
    "duration": 6,
    "start_time": "2022-09-02T08:19:34.251Z"
   },
   {
    "duration": 6,
    "start_time": "2022-09-02T08:19:34.259Z"
   },
   {
    "duration": 7,
    "start_time": "2022-09-02T08:21:09.082Z"
   },
   {
    "duration": 4,
    "start_time": "2022-09-02T08:21:09.714Z"
   },
   {
    "duration": 3,
    "start_time": "2022-09-02T08:21:10.090Z"
   },
   {
    "duration": 3,
    "start_time": "2022-09-02T08:21:10.666Z"
   },
   {
    "duration": 92,
    "start_time": "2022-09-02T08:21:11.147Z"
   },
   {
    "duration": 3,
    "start_time": "2022-09-02T08:21:45.503Z"
   },
   {
    "duration": 6,
    "start_time": "2022-09-02T08:29:38.608Z"
   },
   {
    "duration": 5,
    "start_time": "2022-09-02T08:30:07.510Z"
   },
   {
    "duration": 5,
    "start_time": "2022-09-02T08:30:22.215Z"
   },
   {
    "duration": 7,
    "start_time": "2022-09-02T08:31:11.783Z"
   },
   {
    "duration": 10,
    "start_time": "2022-09-02T08:31:12.443Z"
   },
   {
    "duration": 8,
    "start_time": "2022-09-02T08:31:20.061Z"
   },
   {
    "duration": 5,
    "start_time": "2022-09-02T08:31:20.526Z"
   },
   {
    "duration": 7,
    "start_time": "2022-09-02T08:31:43.422Z"
   },
   {
    "duration": 9,
    "start_time": "2022-09-02T08:31:44.072Z"
   },
   {
    "duration": 9,
    "start_time": "2022-09-02T08:31:46.544Z"
   },
   {
    "duration": 4,
    "start_time": "2022-09-02T08:31:48.216Z"
   },
   {
    "duration": 3,
    "start_time": "2022-09-02T08:31:48.593Z"
   },
   {
    "duration": 6,
    "start_time": "2022-09-02T08:42:27.419Z"
   },
   {
    "duration": 6,
    "start_time": "2022-09-02T08:42:27.819Z"
   },
   {
    "duration": 3,
    "start_time": "2022-09-02T08:42:39.240Z"
   },
   {
    "duration": 8,
    "start_time": "2022-09-02T08:43:32.783Z"
   },
   {
    "duration": 6,
    "start_time": "2022-09-02T08:43:51.378Z"
   },
   {
    "duration": 5,
    "start_time": "2022-09-02T08:43:51.911Z"
   },
   {
    "duration": 9,
    "start_time": "2022-09-02T08:43:53.526Z"
   },
   {
    "duration": 5,
    "start_time": "2022-09-02T08:44:21.185Z"
   },
   {
    "duration": 4,
    "start_time": "2022-09-02T08:44:33.205Z"
   },
   {
    "duration": 4,
    "start_time": "2022-09-02T08:44:36.329Z"
   },
   {
    "duration": 4,
    "start_time": "2022-09-02T08:44:36.714Z"
   },
   {
    "duration": 11,
    "start_time": "2022-09-02T08:45:46.458Z"
   },
   {
    "duration": 6,
    "start_time": "2022-09-02T08:45:47.066Z"
   },
   {
    "duration": 6,
    "start_time": "2022-09-02T08:46:54.779Z"
   },
   {
    "duration": 22,
    "start_time": "2022-09-02T08:47:01.491Z"
   },
   {
    "duration": 11,
    "start_time": "2022-09-02T08:47:02.284Z"
   },
   {
    "duration": 573,
    "start_time": "2022-09-02T08:47:02.375Z"
   },
   {
    "duration": 457,
    "start_time": "2022-09-02T08:47:02.950Z"
   },
   {
    "duration": 14,
    "start_time": "2022-09-02T08:47:03.408Z"
   },
   {
    "duration": 414,
    "start_time": "2022-09-02T08:47:03.424Z"
   },
   {
    "duration": 23,
    "start_time": "2022-09-02T08:47:03.840Z"
   },
   {
    "duration": 371,
    "start_time": "2022-09-02T08:47:03.865Z"
   },
   {
    "duration": 15,
    "start_time": "2022-09-02T08:47:04.238Z"
   },
   {
    "duration": 17,
    "start_time": "2022-09-02T08:47:04.259Z"
   },
   {
    "duration": 5,
    "start_time": "2022-09-02T08:47:04.278Z"
   },
   {
    "duration": 5,
    "start_time": "2022-09-02T08:47:04.285Z"
   },
   {
    "duration": 23,
    "start_time": "2022-09-02T08:47:04.317Z"
   },
   {
    "duration": 12,
    "start_time": "2022-09-02T08:47:05.018Z"
   },
   {
    "duration": 9,
    "start_time": "2022-09-02T08:47:05.211Z"
   },
   {
    "duration": 274,
    "start_time": "2022-09-02T08:47:05.291Z"
   },
   {
    "duration": 304,
    "start_time": "2022-09-02T08:47:05.567Z"
   },
   {
    "duration": 4,
    "start_time": "2022-09-02T08:47:05.873Z"
   },
   {
    "duration": 20,
    "start_time": "2022-09-02T08:47:05.879Z"
   },
   {
    "duration": 1626,
    "start_time": "2022-09-02T08:47:05.953Z"
   },
   {
    "duration": 9,
    "start_time": "2022-09-02T08:47:07.581Z"
   },
   {
    "duration": 1311,
    "start_time": "2022-09-02T08:47:07.591Z"
   },
   {
    "duration": 11,
    "start_time": "2022-09-02T08:47:08.905Z"
   },
   {
    "duration": 25,
    "start_time": "2022-09-02T08:47:08.917Z"
   },
   {
    "duration": 33,
    "start_time": "2022-09-02T08:47:08.944Z"
   },
   {
    "duration": 1515,
    "start_time": "2022-09-02T08:47:08.978Z"
   },
   {
    "duration": 11,
    "start_time": "2022-09-02T08:47:10.494Z"
   },
   {
    "duration": 355,
    "start_time": "2022-09-02T08:47:10.507Z"
   },
   {
    "duration": 224,
    "start_time": "2022-09-02T08:47:10.868Z"
   },
   {
    "duration": 14,
    "start_time": "2022-09-02T08:47:11.093Z"
   },
   {
    "duration": 14,
    "start_time": "2022-09-02T08:47:11.108Z"
   },
   {
    "duration": 23,
    "start_time": "2022-09-02T08:47:11.123Z"
   },
   {
    "duration": 16,
    "start_time": "2022-09-02T08:47:11.148Z"
   },
   {
    "duration": 170,
    "start_time": "2022-09-02T08:47:11.166Z"
   },
   {
    "duration": 18,
    "start_time": "2022-09-02T08:47:11.337Z"
   },
   {
    "duration": 13,
    "start_time": "2022-09-02T08:47:11.359Z"
   },
   {
    "duration": 11,
    "start_time": "2022-09-02T08:47:13.305Z"
   },
   {
    "duration": 162,
    "start_time": "2022-09-02T08:47:13.520Z"
   },
   {
    "duration": 11,
    "start_time": "2022-09-02T08:47:14.226Z"
   },
   {
    "duration": 19,
    "start_time": "2022-09-02T08:47:14.548Z"
   },
   {
    "duration": 11,
    "start_time": "2022-09-02T08:47:14.863Z"
   },
   {
    "duration": 179,
    "start_time": "2022-09-02T08:47:14.986Z"
   },
   {
    "duration": 7,
    "start_time": "2022-09-02T08:47:19.080Z"
   },
   {
    "duration": 5,
    "start_time": "2022-09-02T08:47:19.490Z"
   },
   {
    "duration": 4,
    "start_time": "2022-09-02T08:47:44.486Z"
   },
   {
    "duration": 9,
    "start_time": "2022-09-02T08:47:52.964Z"
   },
   {
    "duration": 6,
    "start_time": "2022-09-02T08:47:53.730Z"
   },
   {
    "duration": 8,
    "start_time": "2022-09-02T08:49:23.556Z"
   },
   {
    "duration": 10,
    "start_time": "2022-09-02T08:49:37.817Z"
   },
   {
    "duration": 6,
    "start_time": "2022-09-02T08:49:47.493Z"
   },
   {
    "duration": 6,
    "start_time": "2022-09-02T08:49:56.079Z"
   },
   {
    "duration": 9,
    "start_time": "2022-09-02T08:51:46.960Z"
   },
   {
    "duration": 6,
    "start_time": "2022-09-02T08:51:47.644Z"
   },
   {
    "duration": 5,
    "start_time": "2022-09-02T08:51:49.488Z"
   },
   {
    "duration": 5,
    "start_time": "2022-09-02T08:52:00.315Z"
   },
   {
    "duration": 8,
    "start_time": "2022-09-02T08:52:09.380Z"
   },
   {
    "duration": 5,
    "start_time": "2022-09-02T08:52:09.769Z"
   },
   {
    "duration": 6,
    "start_time": "2022-09-02T08:52:11.236Z"
   },
   {
    "duration": 4,
    "start_time": "2022-09-02T08:52:12.181Z"
   },
   {
    "duration": 2,
    "start_time": "2022-09-02T08:52:13.466Z"
   },
   {
    "duration": 4,
    "start_time": "2022-09-02T08:52:16.812Z"
   },
   {
    "duration": 8,
    "start_time": "2022-09-02T08:52:40.482Z"
   },
   {
    "duration": 6,
    "start_time": "2022-09-02T08:52:41.089Z"
   },
   {
    "duration": 5,
    "start_time": "2022-09-02T08:52:43.434Z"
   },
   {
    "duration": 4,
    "start_time": "2022-09-02T08:52:45.572Z"
   },
   {
    "duration": 3,
    "start_time": "2022-09-02T08:52:45.834Z"
   },
   {
    "duration": 4,
    "start_time": "2022-09-02T08:52:46.760Z"
   },
   {
    "duration": 3,
    "start_time": "2022-09-02T08:54:12.884Z"
   },
   {
    "duration": 3,
    "start_time": "2022-09-02T08:54:13.256Z"
   },
   {
    "duration": 4,
    "start_time": "2022-09-02T08:54:16.932Z"
   },
   {
    "duration": 14,
    "start_time": "2022-09-02T08:55:02.249Z"
   },
   {
    "duration": 6,
    "start_time": "2022-09-02T08:55:03.930Z"
   },
   {
    "duration": 6,
    "start_time": "2022-09-02T08:57:10.793Z"
   },
   {
    "duration": 3,
    "start_time": "2022-09-02T08:57:11.385Z"
   },
   {
    "duration": 4,
    "start_time": "2022-09-02T08:57:11.681Z"
   },
   {
    "duration": 4,
    "start_time": "2022-09-02T08:57:13.022Z"
   },
   {
    "duration": 8,
    "start_time": "2022-09-02T08:57:15.422Z"
   },
   {
    "duration": 5,
    "start_time": "2022-09-02T08:57:16.762Z"
   },
   {
    "duration": 4,
    "start_time": "2022-09-02T08:57:19.256Z"
   },
   {
    "duration": 6,
    "start_time": "2022-09-02T08:57:48.985Z"
   },
   {
    "duration": 3,
    "start_time": "2022-09-02T08:57:49.383Z"
   },
   {
    "duration": 4,
    "start_time": "2022-09-02T08:57:50.789Z"
   },
   {
    "duration": 4,
    "start_time": "2022-09-02T08:58:33.854Z"
   },
   {
    "duration": 4,
    "start_time": "2022-09-02T09:02:37.425Z"
   },
   {
    "duration": 4,
    "start_time": "2022-09-02T09:02:37.748Z"
   },
   {
    "duration": 4,
    "start_time": "2022-09-02T09:02:39.149Z"
   },
   {
    "duration": 13,
    "start_time": "2022-09-02T09:26:04.020Z"
   },
   {
    "duration": 8,
    "start_time": "2022-09-02T09:27:04.676Z"
   },
   {
    "duration": 4,
    "start_time": "2022-09-02T09:28:19.715Z"
   },
   {
    "duration": 6,
    "start_time": "2022-09-02T09:28:20.337Z"
   },
   {
    "duration": 11,
    "start_time": "2022-09-02T09:28:46.729Z"
   },
   {
    "duration": 6,
    "start_time": "2022-09-02T09:28:58.233Z"
   },
   {
    "duration": 9,
    "start_time": "2022-09-02T09:28:58.694Z"
   },
   {
    "duration": 5,
    "start_time": "2022-09-02T09:29:28.341Z"
   },
   {
    "duration": 6,
    "start_time": "2022-09-02T09:29:28.755Z"
   },
   {
    "duration": 12,
    "start_time": "2022-09-02T09:30:09.981Z"
   },
   {
    "duration": 5,
    "start_time": "2022-09-02T09:30:26.522Z"
   },
   {
    "duration": 7,
    "start_time": "2022-09-02T09:30:26.949Z"
   },
   {
    "duration": 6,
    "start_time": "2022-09-02T09:30:29.810Z"
   },
   {
    "duration": 10,
    "start_time": "2022-09-02T09:30:31.731Z"
   },
   {
    "duration": 5,
    "start_time": "2022-09-02T09:30:34.335Z"
   },
   {
    "duration": 7,
    "start_time": "2022-09-02T09:30:34.924Z"
   },
   {
    "duration": 9,
    "start_time": "2022-09-02T09:30:43.265Z"
   },
   {
    "duration": 11,
    "start_time": "2022-09-02T09:42:23.455Z"
   },
   {
    "duration": 1162,
    "start_time": "2022-09-02T10:16:55.011Z"
   },
   {
    "duration": 50,
    "start_time": "2022-09-02T10:16:56.175Z"
   },
   {
    "duration": 56,
    "start_time": "2022-09-02T10:16:56.226Z"
   },
   {
    "duration": 15,
    "start_time": "2022-09-02T10:16:56.284Z"
   },
   {
    "duration": 13,
    "start_time": "2022-09-02T10:16:56.301Z"
   },
   {
    "duration": 13,
    "start_time": "2022-09-02T10:16:56.315Z"
   },
   {
    "duration": 12,
    "start_time": "2022-09-02T10:16:56.329Z"
   },
   {
    "duration": 9,
    "start_time": "2022-09-02T10:16:56.343Z"
   },
   {
    "duration": 5,
    "start_time": "2022-09-02T10:16:56.354Z"
   },
   {
    "duration": 8,
    "start_time": "2022-09-02T10:16:56.363Z"
   },
   {
    "duration": 10,
    "start_time": "2022-09-02T10:16:56.373Z"
   },
   {
    "duration": 9,
    "start_time": "2022-09-02T10:16:56.384Z"
   },
   {
    "duration": 4,
    "start_time": "2022-09-02T10:16:56.394Z"
   },
   {
    "duration": 57,
    "start_time": "2022-09-02T10:16:56.399Z"
   },
   {
    "duration": 5,
    "start_time": "2022-09-02T10:16:56.457Z"
   },
   {
    "duration": 13,
    "start_time": "2022-09-02T10:16:56.463Z"
   },
   {
    "duration": 9,
    "start_time": "2022-09-02T10:16:56.477Z"
   },
   {
    "duration": 6,
    "start_time": "2022-09-02T10:16:56.488Z"
   },
   {
    "duration": 48,
    "start_time": "2022-09-02T10:16:56.495Z"
   },
   {
    "duration": 10,
    "start_time": "2022-09-02T10:16:56.545Z"
   },
   {
    "duration": 344,
    "start_time": "2022-09-02T10:16:56.557Z"
   },
   {
    "duration": 402,
    "start_time": "2022-09-02T10:16:56.903Z"
   },
   {
    "duration": 14,
    "start_time": "2022-09-02T10:16:57.307Z"
   },
   {
    "duration": 299,
    "start_time": "2022-09-02T10:16:57.322Z"
   },
   {
    "duration": 15,
    "start_time": "2022-09-02T10:16:57.623Z"
   },
   {
    "duration": 324,
    "start_time": "2022-09-02T10:16:57.639Z"
   },
   {
    "duration": 11,
    "start_time": "2022-09-02T10:16:57.964Z"
   },
   {
    "duration": 9,
    "start_time": "2022-09-02T10:16:57.979Z"
   },
   {
    "duration": 6,
    "start_time": "2022-09-02T10:16:57.990Z"
   },
   {
    "duration": 5,
    "start_time": "2022-09-02T10:16:57.997Z"
   },
   {
    "duration": 41,
    "start_time": "2022-09-02T10:16:58.004Z"
   },
   {
    "duration": 14,
    "start_time": "2022-09-02T10:16:58.047Z"
   },
   {
    "duration": 7,
    "start_time": "2022-09-02T10:16:58.062Z"
   },
   {
    "duration": 214,
    "start_time": "2022-09-02T10:16:58.071Z"
   },
   {
    "duration": 284,
    "start_time": "2022-09-02T10:16:58.287Z"
   },
   {
    "duration": 5,
    "start_time": "2022-09-02T10:16:58.572Z"
   },
   {
    "duration": 14,
    "start_time": "2022-09-02T10:16:58.578Z"
   },
   {
    "duration": 1416,
    "start_time": "2022-09-02T10:16:58.593Z"
   },
   {
    "duration": 9,
    "start_time": "2022-09-02T10:17:00.010Z"
   },
   {
    "duration": 1378,
    "start_time": "2022-09-02T10:17:00.020Z"
   },
   {
    "duration": 9,
    "start_time": "2022-09-02T10:17:01.399Z"
   },
   {
    "duration": 91,
    "start_time": "2022-09-02T10:17:01.409Z"
   },
   {
    "duration": 19,
    "start_time": "2022-09-02T10:17:01.501Z"
   },
   {
    "duration": 1392,
    "start_time": "2022-09-02T10:17:01.522Z"
   },
   {
    "duration": 11,
    "start_time": "2022-09-02T10:17:02.916Z"
   },
   {
    "duration": 208,
    "start_time": "2022-09-02T10:17:02.938Z"
   },
   {
    "duration": 212,
    "start_time": "2022-09-02T10:17:03.147Z"
   },
   {
    "duration": 15,
    "start_time": "2022-09-02T10:17:03.360Z"
   },
   {
    "duration": 13,
    "start_time": "2022-09-02T10:17:03.376Z"
   },
   {
    "duration": 11,
    "start_time": "2022-09-02T10:17:03.391Z"
   },
   {
    "duration": 14,
    "start_time": "2022-09-02T10:17:03.404Z"
   },
   {
    "duration": 165,
    "start_time": "2022-09-02T10:17:03.419Z"
   },
   {
    "duration": 13,
    "start_time": "2022-09-02T10:17:03.585Z"
   },
   {
    "duration": 18,
    "start_time": "2022-09-02T10:17:03.599Z"
   },
   {
    "duration": 33,
    "start_time": "2022-09-02T10:17:03.619Z"
   },
   {
    "duration": 175,
    "start_time": "2022-09-02T10:17:03.653Z"
   },
   {
    "duration": 12,
    "start_time": "2022-09-02T10:17:03.830Z"
   },
   {
    "duration": 14,
    "start_time": "2022-09-02T10:17:03.844Z"
   },
   {
    "duration": 13,
    "start_time": "2022-09-02T10:17:03.859Z"
   },
   {
    "duration": 168,
    "start_time": "2022-09-02T10:17:03.873Z"
   },
   {
    "duration": 8,
    "start_time": "2022-09-02T10:17:04.043Z"
   },
   {
    "duration": 8,
    "start_time": "2022-09-02T10:17:04.052Z"
   },
   {
    "duration": 10,
    "start_time": "2022-09-02T10:17:04.061Z"
   },
   {
    "duration": 6,
    "start_time": "2022-09-02T10:17:04.073Z"
   },
   {
    "duration": 9,
    "start_time": "2022-09-02T10:17:04.080Z"
   },
   {
    "duration": 7,
    "start_time": "2022-09-02T10:17:04.090Z"
   },
   {
    "duration": 13,
    "start_time": "2022-09-02T10:17:04.098Z"
   },
   {
    "duration": 12,
    "start_time": "2022-09-02T10:17:04.112Z"
   },
   {
    "duration": 4,
    "start_time": "2022-09-02T10:17:04.125Z"
   },
   {
    "duration": 8,
    "start_time": "2022-09-02T10:17:04.130Z"
   },
   {
    "duration": 3,
    "start_time": "2022-09-02T10:17:04.140Z"
   },
   {
    "duration": 1344,
    "start_time": "2022-09-03T09:25:46.741Z"
   },
   {
    "duration": 105,
    "start_time": "2022-09-03T09:25:48.088Z"
   },
   {
    "duration": 61,
    "start_time": "2022-09-03T09:25:48.195Z"
   },
   {
    "duration": 21,
    "start_time": "2022-09-03T09:25:48.258Z"
   },
   {
    "duration": 25,
    "start_time": "2022-09-03T09:25:48.281Z"
   },
   {
    "duration": 20,
    "start_time": "2022-09-03T09:25:48.308Z"
   },
   {
    "duration": 14,
    "start_time": "2022-09-03T09:25:48.330Z"
   },
   {
    "duration": 14,
    "start_time": "2022-09-03T09:25:48.346Z"
   },
   {
    "duration": 18,
    "start_time": "2022-09-03T09:25:48.361Z"
   },
   {
    "duration": 17,
    "start_time": "2022-09-03T09:25:48.382Z"
   },
   {
    "duration": 9,
    "start_time": "2022-09-03T09:25:48.401Z"
   },
   {
    "duration": 12,
    "start_time": "2022-09-03T09:25:48.412Z"
   },
   {
    "duration": 13,
    "start_time": "2022-09-03T09:25:48.425Z"
   },
   {
    "duration": 22,
    "start_time": "2022-09-03T09:25:48.439Z"
   },
   {
    "duration": 5,
    "start_time": "2022-09-03T09:25:48.462Z"
   },
   {
    "duration": 35,
    "start_time": "2022-09-03T09:25:48.469Z"
   },
   {
    "duration": 11,
    "start_time": "2022-09-03T09:25:48.506Z"
   },
   {
    "duration": 13,
    "start_time": "2022-09-03T09:25:48.519Z"
   },
   {
    "duration": 23,
    "start_time": "2022-09-03T09:25:48.533Z"
   },
   {
    "duration": 41,
    "start_time": "2022-09-03T09:25:48.558Z"
   },
   {
    "duration": 330,
    "start_time": "2022-09-03T09:25:48.600Z"
   },
   {
    "duration": 480,
    "start_time": "2022-09-03T09:25:48.932Z"
   },
   {
    "duration": 15,
    "start_time": "2022-09-03T09:25:49.414Z"
   },
   {
    "duration": 315,
    "start_time": "2022-09-03T09:25:49.431Z"
   },
   {
    "duration": 11,
    "start_time": "2022-09-03T09:25:49.747Z"
   },
   {
    "duration": 345,
    "start_time": "2022-09-03T09:25:49.759Z"
   },
   {
    "duration": 14,
    "start_time": "2022-09-03T09:25:50.106Z"
   },
   {
    "duration": 15,
    "start_time": "2022-09-03T09:25:50.125Z"
   },
   {
    "duration": 35,
    "start_time": "2022-09-03T09:25:50.142Z"
   },
   {
    "duration": 12,
    "start_time": "2022-09-03T09:25:50.179Z"
   },
   {
    "duration": 33,
    "start_time": "2022-09-03T09:25:50.193Z"
   },
   {
    "duration": 26,
    "start_time": "2022-09-03T09:25:50.228Z"
   },
   {
    "duration": 12,
    "start_time": "2022-09-03T09:25:50.256Z"
   },
   {
    "duration": 244,
    "start_time": "2022-09-03T09:25:50.270Z"
   },
   {
    "duration": 318,
    "start_time": "2022-09-03T09:25:50.516Z"
   },
   {
    "duration": 4,
    "start_time": "2022-09-03T09:25:50.836Z"
   },
   {
    "duration": 12,
    "start_time": "2022-09-03T09:25:50.842Z"
   },
   {
    "duration": 1383,
    "start_time": "2022-09-03T09:25:50.855Z"
   },
   {
    "duration": 8,
    "start_time": "2022-09-03T09:25:52.239Z"
   },
   {
    "duration": 1299,
    "start_time": "2022-09-03T09:25:52.249Z"
   },
   {
    "duration": 8,
    "start_time": "2022-09-03T09:25:53.550Z"
   },
   {
    "duration": 14,
    "start_time": "2022-09-03T09:25:53.560Z"
   },
   {
    "duration": 14,
    "start_time": "2022-09-03T09:25:53.575Z"
   },
   {
    "duration": 1373,
    "start_time": "2022-09-03T09:25:53.591Z"
   },
   {
    "duration": 11,
    "start_time": "2022-09-03T09:25:54.966Z"
   },
   {
    "duration": 205,
    "start_time": "2022-09-03T09:25:54.978Z"
   },
   {
    "duration": 220,
    "start_time": "2022-09-03T09:25:55.185Z"
   },
   {
    "duration": 15,
    "start_time": "2022-09-03T09:25:55.406Z"
   },
   {
    "duration": 14,
    "start_time": "2022-09-03T09:25:55.422Z"
   },
   {
    "duration": 16,
    "start_time": "2022-09-03T09:25:55.437Z"
   },
   {
    "duration": 18,
    "start_time": "2022-09-03T09:25:55.455Z"
   },
   {
    "duration": 164,
    "start_time": "2022-09-03T09:25:55.475Z"
   },
   {
    "duration": 11,
    "start_time": "2022-09-03T09:25:55.640Z"
   },
   {
    "duration": 12,
    "start_time": "2022-09-03T09:25:55.653Z"
   },
   {
    "duration": 32,
    "start_time": "2022-09-03T09:25:55.666Z"
   },
   {
    "duration": 150,
    "start_time": "2022-09-03T09:25:55.700Z"
   },
   {
    "duration": 11,
    "start_time": "2022-09-03T09:25:55.852Z"
   },
   {
    "duration": 16,
    "start_time": "2022-09-03T09:25:55.864Z"
   },
   {
    "duration": 21,
    "start_time": "2022-09-03T09:25:55.882Z"
   },
   {
    "duration": 178,
    "start_time": "2022-09-03T09:25:55.904Z"
   },
   {
    "duration": 16,
    "start_time": "2022-09-03T09:25:56.084Z"
   },
   {
    "duration": 8,
    "start_time": "2022-09-03T09:25:56.102Z"
   },
   {
    "duration": 11,
    "start_time": "2022-09-03T09:25:56.111Z"
   },
   {
    "duration": 7,
    "start_time": "2022-09-03T09:25:56.123Z"
   },
   {
    "duration": 5,
    "start_time": "2022-09-03T09:25:56.132Z"
   },
   {
    "duration": 10,
    "start_time": "2022-09-03T09:25:56.139Z"
   },
   {
    "duration": 12,
    "start_time": "2022-09-03T09:25:56.150Z"
   },
   {
    "duration": 19,
    "start_time": "2022-09-03T09:25:56.163Z"
   },
   {
    "duration": 10,
    "start_time": "2022-09-03T09:25:56.183Z"
   },
   {
    "duration": 5,
    "start_time": "2022-09-03T09:25:56.199Z"
   },
   {
    "duration": 17,
    "start_time": "2022-09-03T09:25:56.206Z"
   },
   {
    "duration": 536,
    "start_time": "2022-09-03T09:28:29.120Z"
   },
   {
    "duration": 424,
    "start_time": "2022-09-03T09:28:33.700Z"
   },
   {
    "duration": 376,
    "start_time": "2022-09-03T09:28:38.679Z"
   },
   {
    "duration": 19,
    "start_time": "2022-09-03T09:31:00.597Z"
   },
   {
    "duration": 56,
    "start_time": "2022-09-03T09:31:12.061Z"
   },
   {
    "duration": 22888,
    "start_time": "2022-09-03T09:31:17.305Z"
   },
   {
    "duration": 3923,
    "start_time": "2022-09-03T09:38:04.554Z"
   },
   {
    "duration": 3,
    "start_time": "2022-09-03T09:39:21.816Z"
   },
   {
    "duration": 123,
    "start_time": "2022-09-03T09:39:25.237Z"
   },
   {
    "duration": 21,
    "start_time": "2022-09-03T09:39:35.684Z"
   },
   {
    "duration": 2,
    "start_time": "2022-09-03T09:39:51.926Z"
   },
   {
    "duration": 898,
    "start_time": "2022-09-03T09:39:52.351Z"
   },
   {
    "duration": 3,
    "start_time": "2022-09-03T09:40:01.845Z"
   },
   {
    "duration": 681,
    "start_time": "2022-09-03T09:40:02.248Z"
   },
   {
    "duration": 24,
    "start_time": "2022-09-03T09:40:14.953Z"
   },
   {
    "duration": 8,
    "start_time": "2022-09-03T09:41:02.810Z"
   },
   {
    "duration": 215,
    "start_time": "2022-09-03T09:41:10.283Z"
   },
   {
    "duration": 4,
    "start_time": "2022-09-03T09:41:20.781Z"
   },
   {
    "duration": 8,
    "start_time": "2022-09-03T09:41:21.203Z"
   },
   {
    "duration": 211,
    "start_time": "2022-09-03T09:41:21.720Z"
   },
   {
    "duration": 13,
    "start_time": "2022-09-03T09:43:53.592Z"
   },
   {
    "duration": 50,
    "start_time": "2022-09-03T14:19:05.654Z"
   },
   {
    "duration": 1311,
    "start_time": "2022-09-03T14:19:52.565Z"
   },
   {
    "duration": 97,
    "start_time": "2022-09-03T14:19:53.878Z"
   },
   {
    "duration": 70,
    "start_time": "2022-09-03T14:19:53.977Z"
   },
   {
    "duration": 18,
    "start_time": "2022-09-03T14:19:54.049Z"
   },
   {
    "duration": 24,
    "start_time": "2022-09-03T14:19:54.069Z"
   },
   {
    "duration": 20,
    "start_time": "2022-09-03T14:19:54.094Z"
   },
   {
    "duration": 14,
    "start_time": "2022-09-03T14:19:54.115Z"
   },
   {
    "duration": 20,
    "start_time": "2022-09-03T14:19:54.131Z"
   },
   {
    "duration": 10,
    "start_time": "2022-09-03T14:19:54.152Z"
   },
   {
    "duration": 19,
    "start_time": "2022-09-03T14:19:54.164Z"
   },
   {
    "duration": 16,
    "start_time": "2022-09-03T14:19:54.184Z"
   },
   {
    "duration": 32,
    "start_time": "2022-09-03T14:19:54.201Z"
   },
   {
    "duration": 11,
    "start_time": "2022-09-03T14:19:54.234Z"
   },
   {
    "duration": 31,
    "start_time": "2022-09-03T14:19:54.247Z"
   },
   {
    "duration": 11,
    "start_time": "2022-09-03T14:19:54.280Z"
   },
   {
    "duration": 22,
    "start_time": "2022-09-03T14:19:54.293Z"
   },
   {
    "duration": 14,
    "start_time": "2022-09-03T14:19:54.316Z"
   },
   {
    "duration": 9,
    "start_time": "2022-09-03T14:19:54.332Z"
   },
   {
    "duration": 26,
    "start_time": "2022-09-03T14:19:54.343Z"
   },
   {
    "duration": 23,
    "start_time": "2022-09-03T14:19:54.371Z"
   },
   {
    "duration": 229,
    "start_time": "2022-09-03T14:19:54.396Z"
   },
   {
    "duration": 0,
    "start_time": "2022-09-03T14:19:54.628Z"
   },
   {
    "duration": 0,
    "start_time": "2022-09-03T14:19:54.629Z"
   },
   {
    "duration": 0,
    "start_time": "2022-09-03T14:19:54.630Z"
   },
   {
    "duration": 0,
    "start_time": "2022-09-03T14:19:54.631Z"
   },
   {
    "duration": 0,
    "start_time": "2022-09-03T14:19:54.632Z"
   },
   {
    "duration": 0,
    "start_time": "2022-09-03T14:19:54.633Z"
   },
   {
    "duration": 0,
    "start_time": "2022-09-03T14:19:54.634Z"
   },
   {
    "duration": 0,
    "start_time": "2022-09-03T14:19:54.635Z"
   },
   {
    "duration": 0,
    "start_time": "2022-09-03T14:19:54.637Z"
   },
   {
    "duration": 0,
    "start_time": "2022-09-03T14:19:54.637Z"
   },
   {
    "duration": 0,
    "start_time": "2022-09-03T14:19:54.638Z"
   },
   {
    "duration": 0,
    "start_time": "2022-09-03T14:19:54.639Z"
   },
   {
    "duration": 0,
    "start_time": "2022-09-03T14:19:54.640Z"
   },
   {
    "duration": 0,
    "start_time": "2022-09-03T14:19:54.641Z"
   },
   {
    "duration": 0,
    "start_time": "2022-09-03T14:19:54.642Z"
   },
   {
    "duration": 0,
    "start_time": "2022-09-03T14:19:54.643Z"
   },
   {
    "duration": 0,
    "start_time": "2022-09-03T14:19:54.644Z"
   },
   {
    "duration": 0,
    "start_time": "2022-09-03T14:19:54.645Z"
   },
   {
    "duration": 0,
    "start_time": "2022-09-03T14:19:54.646Z"
   },
   {
    "duration": 0,
    "start_time": "2022-09-03T14:19:54.647Z"
   },
   {
    "duration": 0,
    "start_time": "2022-09-03T14:19:54.648Z"
   },
   {
    "duration": 0,
    "start_time": "2022-09-03T14:19:54.686Z"
   },
   {
    "duration": 0,
    "start_time": "2022-09-03T14:19:54.687Z"
   },
   {
    "duration": 0,
    "start_time": "2022-09-03T14:19:54.688Z"
   },
   {
    "duration": 0,
    "start_time": "2022-09-03T14:19:54.689Z"
   },
   {
    "duration": 0,
    "start_time": "2022-09-03T14:19:54.690Z"
   },
   {
    "duration": 0,
    "start_time": "2022-09-03T14:19:54.691Z"
   },
   {
    "duration": 0,
    "start_time": "2022-09-03T14:19:54.693Z"
   },
   {
    "duration": 0,
    "start_time": "2022-09-03T14:19:54.694Z"
   },
   {
    "duration": 0,
    "start_time": "2022-09-03T14:19:54.695Z"
   },
   {
    "duration": 0,
    "start_time": "2022-09-03T14:19:54.696Z"
   },
   {
    "duration": 0,
    "start_time": "2022-09-03T14:19:54.697Z"
   },
   {
    "duration": 0,
    "start_time": "2022-09-03T14:19:54.699Z"
   },
   {
    "duration": 0,
    "start_time": "2022-09-03T14:19:54.700Z"
   },
   {
    "duration": 0,
    "start_time": "2022-09-03T14:19:54.701Z"
   },
   {
    "duration": 0,
    "start_time": "2022-09-03T14:19:54.702Z"
   },
   {
    "duration": 0,
    "start_time": "2022-09-03T14:19:54.703Z"
   },
   {
    "duration": 0,
    "start_time": "2022-09-03T14:19:54.704Z"
   },
   {
    "duration": 0,
    "start_time": "2022-09-03T14:19:54.705Z"
   },
   {
    "duration": 0,
    "start_time": "2022-09-03T14:19:54.706Z"
   },
   {
    "duration": 0,
    "start_time": "2022-09-03T14:19:54.707Z"
   },
   {
    "duration": 0,
    "start_time": "2022-09-03T14:19:54.709Z"
   },
   {
    "duration": 0,
    "start_time": "2022-09-03T14:19:54.710Z"
   },
   {
    "duration": 0,
    "start_time": "2022-09-03T14:19:54.711Z"
   },
   {
    "duration": 0,
    "start_time": "2022-09-03T14:19:54.712Z"
   },
   {
    "duration": 0,
    "start_time": "2022-09-03T14:19:54.713Z"
   },
   {
    "duration": 0,
    "start_time": "2022-09-03T14:19:54.714Z"
   },
   {
    "duration": 0,
    "start_time": "2022-09-03T14:19:54.715Z"
   },
   {
    "duration": 0,
    "start_time": "2022-09-03T14:19:54.716Z"
   },
   {
    "duration": 0,
    "start_time": "2022-09-03T14:19:54.718Z"
   },
   {
    "duration": 14,
    "start_time": "2022-09-03T15:22:31.455Z"
   },
   {
    "duration": 1103,
    "start_time": "2022-09-03T15:34:17.743Z"
   },
   {
    "duration": 54,
    "start_time": "2022-09-03T15:34:18.848Z"
   },
   {
    "duration": 61,
    "start_time": "2022-09-03T15:34:18.904Z"
   },
   {
    "duration": 22,
    "start_time": "2022-09-03T15:34:18.967Z"
   },
   {
    "duration": 10,
    "start_time": "2022-09-03T15:34:18.990Z"
   },
   {
    "duration": 17,
    "start_time": "2022-09-03T15:34:19.002Z"
   },
   {
    "duration": 15,
    "start_time": "2022-09-03T15:34:19.021Z"
   },
   {
    "duration": 15,
    "start_time": "2022-09-03T15:34:19.037Z"
   },
   {
    "duration": 7,
    "start_time": "2022-09-03T15:34:19.054Z"
   },
   {
    "duration": 30,
    "start_time": "2022-09-03T15:34:19.063Z"
   },
   {
    "duration": 10,
    "start_time": "2022-09-03T15:34:19.095Z"
   },
   {
    "duration": 19,
    "start_time": "2022-09-03T15:34:19.107Z"
   },
   {
    "duration": 8,
    "start_time": "2022-09-03T15:34:19.127Z"
   },
   {
    "duration": 25,
    "start_time": "2022-09-03T15:34:19.137Z"
   },
   {
    "duration": 5,
    "start_time": "2022-09-03T15:34:19.163Z"
   },
   {
    "duration": 25,
    "start_time": "2022-09-03T15:34:19.170Z"
   },
   {
    "duration": 9,
    "start_time": "2022-09-03T15:34:19.196Z"
   },
   {
    "duration": 16,
    "start_time": "2022-09-03T15:34:19.207Z"
   },
   {
    "duration": 17,
    "start_time": "2022-09-03T15:34:19.225Z"
   },
   {
    "duration": 13,
    "start_time": "2022-09-03T15:34:19.244Z"
   },
   {
    "duration": 248,
    "start_time": "2022-09-03T15:34:19.258Z"
   },
   {
    "duration": 0,
    "start_time": "2022-09-03T15:34:19.508Z"
   },
   {
    "duration": 0,
    "start_time": "2022-09-03T15:34:19.510Z"
   },
   {
    "duration": 0,
    "start_time": "2022-09-03T15:34:19.511Z"
   },
   {
    "duration": 0,
    "start_time": "2022-09-03T15:34:19.512Z"
   },
   {
    "duration": 0,
    "start_time": "2022-09-03T15:34:19.513Z"
   },
   {
    "duration": 0,
    "start_time": "2022-09-03T15:34:19.514Z"
   },
   {
    "duration": 0,
    "start_time": "2022-09-03T15:34:19.515Z"
   },
   {
    "duration": 0,
    "start_time": "2022-09-03T15:34:19.516Z"
   },
   {
    "duration": 0,
    "start_time": "2022-09-03T15:34:19.517Z"
   },
   {
    "duration": 0,
    "start_time": "2022-09-03T15:34:19.518Z"
   },
   {
    "duration": 0,
    "start_time": "2022-09-03T15:34:19.519Z"
   },
   {
    "duration": 0,
    "start_time": "2022-09-03T15:34:19.520Z"
   },
   {
    "duration": 0,
    "start_time": "2022-09-03T15:34:19.521Z"
   },
   {
    "duration": 0,
    "start_time": "2022-09-03T15:34:19.522Z"
   },
   {
    "duration": 0,
    "start_time": "2022-09-03T15:34:19.523Z"
   },
   {
    "duration": 0,
    "start_time": "2022-09-03T15:34:19.524Z"
   },
   {
    "duration": 0,
    "start_time": "2022-09-03T15:34:19.525Z"
   },
   {
    "duration": 0,
    "start_time": "2022-09-03T15:34:19.526Z"
   },
   {
    "duration": 1,
    "start_time": "2022-09-03T15:34:19.526Z"
   },
   {
    "duration": 0,
    "start_time": "2022-09-03T15:34:19.528Z"
   },
   {
    "duration": 0,
    "start_time": "2022-09-03T15:34:19.529Z"
   },
   {
    "duration": 0,
    "start_time": "2022-09-03T15:34:19.530Z"
   },
   {
    "duration": 0,
    "start_time": "2022-09-03T15:34:19.531Z"
   },
   {
    "duration": 0,
    "start_time": "2022-09-03T15:34:19.532Z"
   },
   {
    "duration": 0,
    "start_time": "2022-09-03T15:34:19.533Z"
   },
   {
    "duration": 0,
    "start_time": "2022-09-03T15:34:19.534Z"
   },
   {
    "duration": 0,
    "start_time": "2022-09-03T15:34:19.535Z"
   },
   {
    "duration": 0,
    "start_time": "2022-09-03T15:34:19.536Z"
   },
   {
    "duration": 0,
    "start_time": "2022-09-03T15:34:19.587Z"
   },
   {
    "duration": 0,
    "start_time": "2022-09-03T15:34:19.588Z"
   },
   {
    "duration": 0,
    "start_time": "2022-09-03T15:34:19.589Z"
   },
   {
    "duration": 0,
    "start_time": "2022-09-03T15:34:19.590Z"
   },
   {
    "duration": 0,
    "start_time": "2022-09-03T15:34:19.591Z"
   },
   {
    "duration": 0,
    "start_time": "2022-09-03T15:34:19.592Z"
   },
   {
    "duration": 0,
    "start_time": "2022-09-03T15:34:19.593Z"
   },
   {
    "duration": 0,
    "start_time": "2022-09-03T15:34:19.594Z"
   },
   {
    "duration": 0,
    "start_time": "2022-09-03T15:34:19.595Z"
   },
   {
    "duration": 0,
    "start_time": "2022-09-03T15:34:19.596Z"
   },
   {
    "duration": 0,
    "start_time": "2022-09-03T15:34:19.597Z"
   },
   {
    "duration": 0,
    "start_time": "2022-09-03T15:34:19.598Z"
   },
   {
    "duration": 0,
    "start_time": "2022-09-03T15:34:19.599Z"
   },
   {
    "duration": 0,
    "start_time": "2022-09-03T15:34:19.600Z"
   },
   {
    "duration": 0,
    "start_time": "2022-09-03T15:34:19.601Z"
   },
   {
    "duration": 0,
    "start_time": "2022-09-03T15:34:19.602Z"
   },
   {
    "duration": 0,
    "start_time": "2022-09-03T15:34:19.603Z"
   },
   {
    "duration": 0,
    "start_time": "2022-09-03T15:34:19.604Z"
   },
   {
    "duration": 0,
    "start_time": "2022-09-03T15:34:19.605Z"
   },
   {
    "duration": 0,
    "start_time": "2022-09-03T15:34:19.606Z"
   },
   {
    "duration": 0,
    "start_time": "2022-09-03T15:34:19.607Z"
   },
   {
    "duration": 0,
    "start_time": "2022-09-03T15:34:19.608Z"
   },
   {
    "duration": 363,
    "start_time": "2022-09-03T15:35:17.176Z"
   },
   {
    "duration": 409,
    "start_time": "2022-09-03T15:35:31.470Z"
   },
   {
    "duration": 406,
    "start_time": "2022-09-03T15:35:39.921Z"
   },
   {
    "duration": 11,
    "start_time": "2022-09-03T15:35:50.087Z"
   },
   {
    "duration": 329,
    "start_time": "2022-09-03T15:35:50.472Z"
   },
   {
    "duration": 194,
    "start_time": "2022-09-03T15:36:36.679Z"
   },
   {
    "duration": 227,
    "start_time": "2022-09-03T15:37:34.177Z"
   },
   {
    "duration": 304,
    "start_time": "2022-09-03T16:01:42.633Z"
   },
   {
    "duration": 225,
    "start_time": "2022-09-03T16:01:49.443Z"
   },
   {
    "duration": 317,
    "start_time": "2022-09-03T16:02:20.870Z"
   },
   {
    "duration": 332,
    "start_time": "2022-09-03T16:02:44.448Z"
   },
   {
    "duration": 235,
    "start_time": "2022-09-03T16:03:05.756Z"
   },
   {
    "duration": 15,
    "start_time": "2022-09-03T16:03:07.126Z"
   },
   {
    "duration": 12,
    "start_time": "2022-09-03T16:03:08.022Z"
   },
   {
    "duration": 5,
    "start_time": "2022-09-03T16:03:08.623Z"
   },
   {
    "duration": 4,
    "start_time": "2022-09-03T16:03:09.563Z"
   },
   {
    "duration": 20,
    "start_time": "2022-09-03T16:03:11.019Z"
   },
   {
    "duration": 13,
    "start_time": "2022-09-03T16:03:12.003Z"
   },
   {
    "duration": 9,
    "start_time": "2022-09-03T16:03:12.767Z"
   },
   {
    "duration": 225,
    "start_time": "2022-09-03T16:03:13.222Z"
   },
   {
    "duration": 340,
    "start_time": "2022-09-03T16:03:16.360Z"
   },
   {
    "duration": 127,
    "start_time": "2022-09-03T16:04:17.988Z"
   },
   {
    "duration": 228,
    "start_time": "2022-09-03T16:04:18.447Z"
   },
   {
    "duration": 11,
    "start_time": "2022-09-03T16:04:23.502Z"
   },
   {
    "duration": 216,
    "start_time": "2022-09-03T16:04:24.050Z"
   },
   {
    "duration": 210,
    "start_time": "2022-09-03T16:04:24.534Z"
   },
   {
    "duration": 4,
    "start_time": "2022-09-03T18:32:22.160Z"
   },
   {
    "duration": 6,
    "start_time": "2022-09-03T18:32:29.135Z"
   },
   {
    "duration": 1124,
    "start_time": "2022-09-03T18:32:44.690Z"
   },
   {
    "duration": 55,
    "start_time": "2022-09-03T18:32:45.816Z"
   },
   {
    "duration": 59,
    "start_time": "2022-09-03T18:32:45.873Z"
   },
   {
    "duration": 16,
    "start_time": "2022-09-03T18:32:45.935Z"
   },
   {
    "duration": 13,
    "start_time": "2022-09-03T18:32:45.953Z"
   },
   {
    "duration": 25,
    "start_time": "2022-09-03T18:32:45.968Z"
   },
   {
    "duration": 6,
    "start_time": "2022-09-03T18:32:45.995Z"
   },
   {
    "duration": 18,
    "start_time": "2022-09-03T18:32:46.002Z"
   },
   {
    "duration": 14,
    "start_time": "2022-09-03T18:32:46.022Z"
   },
   {
    "duration": 11,
    "start_time": "2022-09-03T18:32:46.039Z"
   },
   {
    "duration": 13,
    "start_time": "2022-09-03T18:32:46.052Z"
   },
   {
    "duration": 20,
    "start_time": "2022-09-03T18:32:46.067Z"
   },
   {
    "duration": 2,
    "start_time": "2022-09-03T18:32:46.089Z"
   },
   {
    "duration": 20,
    "start_time": "2022-09-03T18:32:46.093Z"
   },
   {
    "duration": 6,
    "start_time": "2022-09-03T18:32:46.114Z"
   },
   {
    "duration": 14,
    "start_time": "2022-09-03T18:32:46.122Z"
   },
   {
    "duration": 10,
    "start_time": "2022-09-03T18:32:46.137Z"
   },
   {
    "duration": 164,
    "start_time": "2022-09-03T18:32:46.148Z"
   },
   {
    "duration": 0,
    "start_time": "2022-09-03T18:32:46.316Z"
   },
   {
    "duration": 0,
    "start_time": "2022-09-03T18:32:46.318Z"
   },
   {
    "duration": 0,
    "start_time": "2022-09-03T18:32:46.320Z"
   },
   {
    "duration": 0,
    "start_time": "2022-09-03T18:32:46.321Z"
   },
   {
    "duration": 0,
    "start_time": "2022-09-03T18:32:46.322Z"
   },
   {
    "duration": 0,
    "start_time": "2022-09-03T18:32:46.323Z"
   },
   {
    "duration": 0,
    "start_time": "2022-09-03T18:32:46.324Z"
   },
   {
    "duration": 0,
    "start_time": "2022-09-03T18:32:46.325Z"
   },
   {
    "duration": 0,
    "start_time": "2022-09-03T18:32:46.326Z"
   },
   {
    "duration": 0,
    "start_time": "2022-09-03T18:32:46.327Z"
   },
   {
    "duration": 0,
    "start_time": "2022-09-03T18:32:46.329Z"
   },
   {
    "duration": 0,
    "start_time": "2022-09-03T18:32:46.330Z"
   },
   {
    "duration": 0,
    "start_time": "2022-09-03T18:32:46.332Z"
   },
   {
    "duration": 0,
    "start_time": "2022-09-03T18:32:46.332Z"
   },
   {
    "duration": 0,
    "start_time": "2022-09-03T18:32:46.333Z"
   },
   {
    "duration": 0,
    "start_time": "2022-09-03T18:32:46.334Z"
   },
   {
    "duration": 0,
    "start_time": "2022-09-03T18:32:46.334Z"
   },
   {
    "duration": 0,
    "start_time": "2022-09-03T18:32:46.337Z"
   },
   {
    "duration": 0,
    "start_time": "2022-09-03T18:32:46.338Z"
   },
   {
    "duration": 0,
    "start_time": "2022-09-03T18:32:46.339Z"
   },
   {
    "duration": 0,
    "start_time": "2022-09-03T18:32:46.340Z"
   },
   {
    "duration": 0,
    "start_time": "2022-09-03T18:32:46.342Z"
   },
   {
    "duration": 0,
    "start_time": "2022-09-03T18:32:46.343Z"
   },
   {
    "duration": 0,
    "start_time": "2022-09-03T18:32:46.344Z"
   },
   {
    "duration": 0,
    "start_time": "2022-09-03T18:32:46.399Z"
   },
   {
    "duration": 0,
    "start_time": "2022-09-03T18:32:46.400Z"
   },
   {
    "duration": 0,
    "start_time": "2022-09-03T18:32:46.401Z"
   },
   {
    "duration": 0,
    "start_time": "2022-09-03T18:32:46.403Z"
   },
   {
    "duration": 0,
    "start_time": "2022-09-03T18:32:46.404Z"
   },
   {
    "duration": 1,
    "start_time": "2022-09-03T18:32:46.405Z"
   },
   {
    "duration": 0,
    "start_time": "2022-09-03T18:32:46.406Z"
   },
   {
    "duration": 0,
    "start_time": "2022-09-03T18:32:46.407Z"
   },
   {
    "duration": 0,
    "start_time": "2022-09-03T18:32:46.409Z"
   },
   {
    "duration": 0,
    "start_time": "2022-09-03T18:32:46.411Z"
   },
   {
    "duration": 0,
    "start_time": "2022-09-03T18:32:46.412Z"
   },
   {
    "duration": 0,
    "start_time": "2022-09-03T18:32:46.414Z"
   },
   {
    "duration": 0,
    "start_time": "2022-09-03T18:32:46.415Z"
   },
   {
    "duration": 0,
    "start_time": "2022-09-03T18:32:46.416Z"
   },
   {
    "duration": 0,
    "start_time": "2022-09-03T18:32:46.418Z"
   },
   {
    "duration": 0,
    "start_time": "2022-09-03T18:32:46.419Z"
   },
   {
    "duration": 0,
    "start_time": "2022-09-03T18:32:46.421Z"
   },
   {
    "duration": 0,
    "start_time": "2022-09-03T18:32:46.422Z"
   },
   {
    "duration": 0,
    "start_time": "2022-09-03T18:32:46.424Z"
   },
   {
    "duration": 0,
    "start_time": "2022-09-03T18:32:46.424Z"
   },
   {
    "duration": 0,
    "start_time": "2022-09-03T18:32:46.426Z"
   },
   {
    "duration": 0,
    "start_time": "2022-09-03T18:32:46.428Z"
   },
   {
    "duration": 0,
    "start_time": "2022-09-03T18:32:46.429Z"
   },
   {
    "duration": 0,
    "start_time": "2022-09-03T18:32:46.486Z"
   },
   {
    "duration": 0,
    "start_time": "2022-09-03T18:32:46.487Z"
   },
   {
    "duration": 0,
    "start_time": "2022-09-03T18:32:46.489Z"
   },
   {
    "duration": 0,
    "start_time": "2022-09-03T18:32:46.490Z"
   },
   {
    "duration": 0,
    "start_time": "2022-09-03T18:32:46.491Z"
   },
   {
    "duration": 0,
    "start_time": "2022-09-03T18:32:46.492Z"
   },
   {
    "duration": 0,
    "start_time": "2022-09-03T18:32:46.493Z"
   },
   {
    "duration": 8,
    "start_time": "2022-09-03T18:33:03.036Z"
   },
   {
    "duration": 9,
    "start_time": "2022-09-03T18:33:53.086Z"
   },
   {
    "duration": 3,
    "start_time": "2022-09-03T18:33:54.028Z"
   },
   {
    "duration": 18,
    "start_time": "2022-09-03T18:33:56.974Z"
   },
   {
    "duration": 12,
    "start_time": "2022-09-03T18:33:57.373Z"
   },
   {
    "duration": 381,
    "start_time": "2022-09-03T18:33:57.439Z"
   },
   {
    "duration": 432,
    "start_time": "2022-09-03T18:33:57.822Z"
   },
   {
    "duration": 14,
    "start_time": "2022-09-03T18:33:58.930Z"
   },
   {
    "duration": 294,
    "start_time": "2022-09-03T18:33:58.994Z"
   },
   {
    "duration": 10,
    "start_time": "2022-09-03T18:33:59.290Z"
   },
   {
    "duration": 339,
    "start_time": "2022-09-03T18:33:59.301Z"
   },
   {
    "duration": 237,
    "start_time": "2022-09-03T18:33:59.642Z"
   },
   {
    "duration": 12,
    "start_time": "2022-09-03T18:33:59.881Z"
   },
   {
    "duration": 10,
    "start_time": "2022-09-03T18:33:59.895Z"
   },
   {
    "duration": 6,
    "start_time": "2022-09-03T18:33:59.907Z"
   },
   {
    "duration": 5,
    "start_time": "2022-09-03T18:33:59.914Z"
   },
   {
    "duration": 21,
    "start_time": "2022-09-03T18:33:59.969Z"
   },
   {
    "duration": 13,
    "start_time": "2022-09-03T18:34:00.093Z"
   },
   {
    "duration": 10,
    "start_time": "2022-09-03T18:34:00.218Z"
   },
   {
    "duration": 229,
    "start_time": "2022-09-03T18:34:00.282Z"
   },
   {
    "duration": 312,
    "start_time": "2022-09-03T18:34:00.513Z"
   },
   {
    "duration": 4,
    "start_time": "2022-09-03T18:34:00.828Z"
   },
   {
    "duration": 26,
    "start_time": "2022-09-03T18:34:00.833Z"
   },
   {
    "duration": 818,
    "start_time": "2022-09-03T18:34:00.860Z"
   },
   {
    "duration": 13,
    "start_time": "2022-09-03T18:34:01.680Z"
   },
   {
    "duration": 763,
    "start_time": "2022-09-03T18:34:01.695Z"
   },
   {
    "duration": 8,
    "start_time": "2022-09-03T18:34:02.461Z"
   },
   {
    "duration": 16,
    "start_time": "2022-09-03T18:34:02.470Z"
   },
   {
    "duration": 8,
    "start_time": "2022-09-03T18:34:02.575Z"
   },
   {
    "duration": 856,
    "start_time": "2022-09-03T18:34:02.802Z"
   },
   {
    "duration": 11,
    "start_time": "2022-09-03T18:34:04.145Z"
   },
   {
    "duration": 208,
    "start_time": "2022-09-03T18:34:04.389Z"
   },
   {
    "duration": 230,
    "start_time": "2022-09-03T18:34:04.600Z"
   },
   {
    "duration": 201,
    "start_time": "2022-09-03T18:36:27.539Z"
   },
   {
    "duration": 262,
    "start_time": "2022-09-03T18:36:35.000Z"
   },
   {
    "duration": 285,
    "start_time": "2022-09-03T18:36:45.331Z"
   },
   {
    "duration": 301,
    "start_time": "2022-09-03T18:36:54.333Z"
   },
   {
    "duration": 436,
    "start_time": "2022-09-03T18:37:11.401Z"
   },
   {
    "duration": 309,
    "start_time": "2022-09-03T18:37:45.336Z"
   },
   {
    "duration": 12,
    "start_time": "2022-09-03T18:42:34.539Z"
   },
   {
    "duration": 884,
    "start_time": "2022-09-03T18:42:34.775Z"
   },
   {
    "duration": 8,
    "start_time": "2022-09-03T18:42:35.661Z"
   },
   {
    "duration": 814,
    "start_time": "2022-09-03T18:42:35.670Z"
   },
   {
    "duration": 8,
    "start_time": "2022-09-03T18:42:36.486Z"
   },
   {
    "duration": 6,
    "start_time": "2022-09-03T18:42:36.556Z"
   },
   {
    "duration": 8,
    "start_time": "2022-09-03T18:42:37.002Z"
   },
   {
    "duration": 875,
    "start_time": "2022-09-03T18:42:37.462Z"
   },
   {
    "duration": 10,
    "start_time": "2022-09-03T18:42:42.644Z"
   },
   {
    "duration": 269,
    "start_time": "2022-09-03T18:42:44.394Z"
   },
   {
    "duration": 202,
    "start_time": "2022-09-03T18:42:45.006Z"
   },
   {
    "duration": 835,
    "start_time": "2022-09-03T18:43:31.661Z"
   },
   {
    "duration": 304,
    "start_time": "2022-09-03T18:43:38.634Z"
   },
   {
    "duration": 200,
    "start_time": "2022-09-03T18:43:50.930Z"
   },
   {
    "duration": 16,
    "start_time": "2022-09-03T18:43:54.116Z"
   },
   {
    "duration": 12,
    "start_time": "2022-09-03T18:43:56.522Z"
   },
   {
    "duration": 12,
    "start_time": "2022-09-03T18:43:57.586Z"
   },
   {
    "duration": 12,
    "start_time": "2022-09-03T18:43:58.297Z"
   },
   {
    "duration": 152,
    "start_time": "2022-09-03T18:43:58.522Z"
   },
   {
    "duration": 11,
    "start_time": "2022-09-03T18:44:03.182Z"
   },
   {
    "duration": 13,
    "start_time": "2022-09-03T18:44:03.870Z"
   },
   {
    "duration": 11,
    "start_time": "2022-09-03T18:44:04.270Z"
   },
   {
    "duration": 173,
    "start_time": "2022-09-03T18:44:04.460Z"
   },
   {
    "duration": 16,
    "start_time": "2022-09-03T18:44:05.944Z"
   },
   {
    "duration": 12,
    "start_time": "2022-09-03T18:44:07.154Z"
   },
   {
    "duration": 11,
    "start_time": "2022-09-03T18:44:08.182Z"
   },
   {
    "duration": 301,
    "start_time": "2022-09-03T18:44:08.430Z"
   },
   {
    "duration": 12,
    "start_time": "2022-09-03T18:44:13.006Z"
   },
   {
    "duration": 161,
    "start_time": "2022-09-03T18:44:13.024Z"
   },
   {
    "duration": 7,
    "start_time": "2022-09-03T18:47:05.174Z"
   },
   {
    "duration": 1010,
    "start_time": "2022-09-03T18:47:31.774Z"
   },
   {
    "duration": 7,
    "start_time": "2022-09-03T18:47:40.125Z"
   },
   {
    "duration": 50,
    "start_time": "2022-09-03T18:48:02.726Z"
   },
   {
    "duration": 6,
    "start_time": "2022-09-03T18:48:07.266Z"
   },
   {
    "duration": 13,
    "start_time": "2022-09-03T18:48:46.798Z"
   },
   {
    "duration": 10,
    "start_time": "2022-09-03T18:48:51.999Z"
   },
   {
    "duration": 5,
    "start_time": "2022-09-03T18:48:59.858Z"
   },
   {
    "duration": 6,
    "start_time": "2022-09-03T18:49:11.938Z"
   },
   {
    "duration": 20,
    "start_time": "2022-09-03T18:49:16.939Z"
   },
   {
    "duration": 7,
    "start_time": "2022-09-03T18:49:28.939Z"
   },
   {
    "duration": 1174,
    "start_time": "2022-09-03T18:50:45.183Z"
   },
   {
    "duration": 61,
    "start_time": "2022-09-03T18:50:46.360Z"
   },
   {
    "duration": 80,
    "start_time": "2022-09-03T18:50:46.423Z"
   },
   {
    "duration": 20,
    "start_time": "2022-09-03T18:50:46.506Z"
   },
   {
    "duration": 15,
    "start_time": "2022-09-03T18:50:46.527Z"
   },
   {
    "duration": 16,
    "start_time": "2022-09-03T18:50:46.544Z"
   },
   {
    "duration": 28,
    "start_time": "2022-09-03T18:50:46.562Z"
   },
   {
    "duration": 10,
    "start_time": "2022-09-03T18:50:46.592Z"
   },
   {
    "duration": 6,
    "start_time": "2022-09-03T18:50:46.604Z"
   },
   {
    "duration": 15,
    "start_time": "2022-09-03T18:50:46.613Z"
   },
   {
    "duration": 18,
    "start_time": "2022-09-03T18:50:46.629Z"
   },
   {
    "duration": 7,
    "start_time": "2022-09-03T18:50:46.649Z"
   },
   {
    "duration": 8,
    "start_time": "2022-09-03T18:50:46.657Z"
   },
   {
    "duration": 45,
    "start_time": "2022-09-03T18:50:46.666Z"
   },
   {
    "duration": 5,
    "start_time": "2022-09-03T18:50:46.712Z"
   },
   {
    "duration": 14,
    "start_time": "2022-09-03T18:50:46.718Z"
   },
   {
    "duration": 9,
    "start_time": "2022-09-03T18:50:46.733Z"
   },
   {
    "duration": 6,
    "start_time": "2022-09-03T18:50:46.743Z"
   },
   {
    "duration": 7,
    "start_time": "2022-09-03T18:50:46.750Z"
   },
   {
    "duration": 29,
    "start_time": "2022-09-03T18:50:46.759Z"
   },
   {
    "duration": 25,
    "start_time": "2022-09-03T18:50:46.789Z"
   },
   {
    "duration": 13,
    "start_time": "2022-09-03T18:50:46.816Z"
   },
   {
    "duration": 361,
    "start_time": "2022-09-03T18:50:46.830Z"
   },
   {
    "duration": 381,
    "start_time": "2022-09-03T18:50:47.194Z"
   },
   {
    "duration": 15,
    "start_time": "2022-09-03T18:50:47.577Z"
   },
   {
    "duration": 326,
    "start_time": "2022-09-03T18:50:47.594Z"
   },
   {
    "duration": 11,
    "start_time": "2022-09-03T18:50:47.921Z"
   },
   {
    "duration": 399,
    "start_time": "2022-09-03T18:50:47.935Z"
   },
   {
    "duration": 253,
    "start_time": "2022-09-03T18:50:48.336Z"
   },
   {
    "duration": 10,
    "start_time": "2022-09-03T18:50:48.591Z"
   },
   {
    "duration": 9,
    "start_time": "2022-09-03T18:50:48.603Z"
   },
   {
    "duration": 6,
    "start_time": "2022-09-03T18:50:48.614Z"
   },
   {
    "duration": 6,
    "start_time": "2022-09-03T18:50:48.622Z"
   },
   {
    "duration": 21,
    "start_time": "2022-09-03T18:50:48.629Z"
   },
   {
    "duration": 11,
    "start_time": "2022-09-03T18:50:48.651Z"
   },
   {
    "duration": 9,
    "start_time": "2022-09-03T18:50:48.687Z"
   },
   {
    "duration": 223,
    "start_time": "2022-09-03T18:50:48.698Z"
   },
   {
    "duration": 315,
    "start_time": "2022-09-03T18:50:48.923Z"
   },
   {
    "duration": 5,
    "start_time": "2022-09-03T18:50:49.240Z"
   },
   {
    "duration": 14,
    "start_time": "2022-09-03T18:50:49.247Z"
   },
   {
    "duration": 1451,
    "start_time": "2022-09-03T18:50:49.263Z"
   },
   {
    "duration": 9,
    "start_time": "2022-09-03T18:50:50.716Z"
   },
   {
    "duration": 1345,
    "start_time": "2022-09-03T18:50:50.727Z"
   },
   {
    "duration": 14,
    "start_time": "2022-09-03T18:50:52.073Z"
   },
   {
    "duration": 7,
    "start_time": "2022-09-03T18:50:52.089Z"
   },
   {
    "duration": 9,
    "start_time": "2022-09-03T18:50:52.098Z"
   },
   {
    "duration": 1342,
    "start_time": "2022-09-03T18:50:52.109Z"
   },
   {
    "duration": 10,
    "start_time": "2022-09-03T18:50:53.453Z"
   },
   {
    "duration": 277,
    "start_time": "2022-09-03T18:50:53.465Z"
   },
   {
    "duration": 196,
    "start_time": "2022-09-03T18:50:53.743Z"
   },
   {
    "duration": 218,
    "start_time": "2022-09-03T18:50:53.940Z"
   },
   {
    "duration": 16,
    "start_time": "2022-09-03T18:50:54.160Z"
   },
   {
    "duration": 11,
    "start_time": "2022-09-03T18:50:54.186Z"
   },
   {
    "duration": 10,
    "start_time": "2022-09-03T18:50:54.198Z"
   },
   {
    "duration": 12,
    "start_time": "2022-09-03T18:50:54.210Z"
   },
   {
    "duration": 295,
    "start_time": "2022-09-03T18:50:54.224Z"
   },
   {
    "duration": 11,
    "start_time": "2022-09-03T18:50:54.521Z"
   },
   {
    "duration": 13,
    "start_time": "2022-09-03T18:50:54.534Z"
   },
   {
    "duration": 10,
    "start_time": "2022-09-03T18:50:54.548Z"
   },
   {
    "duration": 186,
    "start_time": "2022-09-03T18:50:54.559Z"
   },
   {
    "duration": 12,
    "start_time": "2022-09-03T18:50:54.747Z"
   },
   {
    "duration": 26,
    "start_time": "2022-09-03T18:50:54.761Z"
   },
   {
    "duration": 10,
    "start_time": "2022-09-03T18:50:54.789Z"
   },
   {
    "duration": 178,
    "start_time": "2022-09-03T18:50:54.801Z"
   },
   {
    "duration": 11,
    "start_time": "2022-09-03T18:50:54.980Z"
   },
   {
    "duration": 8,
    "start_time": "2022-09-03T18:50:54.992Z"
   },
   {
    "duration": 9,
    "start_time": "2022-09-03T18:50:55.001Z"
   },
   {
    "duration": 6,
    "start_time": "2022-09-03T18:50:55.011Z"
   },
   {
    "duration": 6,
    "start_time": "2022-09-03T18:50:55.018Z"
   },
   {
    "duration": 6,
    "start_time": "2022-09-03T18:50:55.025Z"
   },
   {
    "duration": 11,
    "start_time": "2022-09-03T18:50:55.033Z"
   },
   {
    "duration": 5,
    "start_time": "2022-09-03T18:50:55.046Z"
   },
   {
    "duration": 7,
    "start_time": "2022-09-03T18:50:55.053Z"
   },
   {
    "duration": 3,
    "start_time": "2022-09-03T18:50:55.087Z"
   },
   {
    "duration": 11,
    "start_time": "2022-09-03T18:50:55.091Z"
   },
   {
    "duration": 1093,
    "start_time": "2022-09-03T18:56:33.943Z"
   },
   {
    "duration": 54,
    "start_time": "2022-09-03T18:56:35.038Z"
   },
   {
    "duration": 58,
    "start_time": "2022-09-03T18:56:35.093Z"
   },
   {
    "duration": 14,
    "start_time": "2022-09-03T18:56:35.153Z"
   },
   {
    "duration": 24,
    "start_time": "2022-09-03T18:56:35.169Z"
   },
   {
    "duration": 13,
    "start_time": "2022-09-03T18:56:35.194Z"
   },
   {
    "duration": 8,
    "start_time": "2022-09-03T18:56:35.208Z"
   },
   {
    "duration": 11,
    "start_time": "2022-09-03T18:56:35.217Z"
   },
   {
    "duration": 11,
    "start_time": "2022-09-03T18:56:35.229Z"
   },
   {
    "duration": 15,
    "start_time": "2022-09-03T18:56:35.241Z"
   },
   {
    "duration": 7,
    "start_time": "2022-09-03T18:56:35.257Z"
   },
   {
    "duration": 7,
    "start_time": "2022-09-03T18:56:35.287Z"
   },
   {
    "duration": 3,
    "start_time": "2022-09-03T18:56:35.295Z"
   },
   {
    "duration": 23,
    "start_time": "2022-09-03T18:56:35.301Z"
   },
   {
    "duration": 5,
    "start_time": "2022-09-03T18:56:35.325Z"
   },
   {
    "duration": 17,
    "start_time": "2022-09-03T18:56:35.331Z"
   },
   {
    "duration": 14,
    "start_time": "2022-09-03T18:56:35.349Z"
   },
   {
    "duration": 33,
    "start_time": "2022-09-03T18:56:35.365Z"
   },
   {
    "duration": 6,
    "start_time": "2022-09-03T18:56:35.399Z"
   },
   {
    "duration": 9,
    "start_time": "2022-09-03T18:56:35.407Z"
   },
   {
    "duration": 17,
    "start_time": "2022-09-03T18:56:35.417Z"
   },
   {
    "duration": 12,
    "start_time": "2022-09-03T18:56:35.436Z"
   },
   {
    "duration": 387,
    "start_time": "2022-09-03T18:56:35.449Z"
   },
   {
    "duration": 469,
    "start_time": "2022-09-03T18:56:35.838Z"
   },
   {
    "duration": 18,
    "start_time": "2022-09-03T18:56:36.309Z"
   },
   {
    "duration": 352,
    "start_time": "2022-09-03T18:56:36.330Z"
   },
   {
    "duration": 11,
    "start_time": "2022-09-03T18:56:36.684Z"
   },
   {
    "duration": 320,
    "start_time": "2022-09-03T18:56:36.696Z"
   },
   {
    "duration": 232,
    "start_time": "2022-09-03T18:56:37.018Z"
   },
   {
    "duration": 10,
    "start_time": "2022-09-03T18:56:37.252Z"
   },
   {
    "duration": 24,
    "start_time": "2022-09-03T18:56:37.263Z"
   },
   {
    "duration": 4,
    "start_time": "2022-09-03T18:56:37.289Z"
   },
   {
    "duration": 7,
    "start_time": "2022-09-03T18:56:37.294Z"
   },
   {
    "duration": 23,
    "start_time": "2022-09-03T18:56:37.302Z"
   },
   {
    "duration": 11,
    "start_time": "2022-09-03T18:56:37.326Z"
   },
   {
    "duration": 12,
    "start_time": "2022-09-03T18:56:37.338Z"
   },
   {
    "duration": 233,
    "start_time": "2022-09-03T18:56:37.351Z"
   },
   {
    "duration": 326,
    "start_time": "2022-09-03T18:56:37.586Z"
   },
   {
    "duration": 5,
    "start_time": "2022-09-03T18:56:37.913Z"
   },
   {
    "duration": 15,
    "start_time": "2022-09-03T18:56:37.919Z"
   },
   {
    "duration": 1440,
    "start_time": "2022-09-03T18:56:37.938Z"
   },
   {
    "duration": 8,
    "start_time": "2022-09-03T18:56:39.380Z"
   },
   {
    "duration": 1400,
    "start_time": "2022-09-03T18:56:39.390Z"
   },
   {
    "duration": 9,
    "start_time": "2022-09-03T18:56:40.792Z"
   },
   {
    "duration": 5,
    "start_time": "2022-09-03T18:56:40.802Z"
   },
   {
    "duration": 9,
    "start_time": "2022-09-03T18:56:40.808Z"
   },
   {
    "duration": 1368,
    "start_time": "2022-09-03T18:56:40.819Z"
   },
   {
    "duration": 11,
    "start_time": "2022-09-03T18:56:42.189Z"
   },
   {
    "duration": 276,
    "start_time": "2022-09-03T18:56:42.202Z"
   },
   {
    "duration": 197,
    "start_time": "2022-09-03T18:56:42.479Z"
   },
   {
    "duration": 204,
    "start_time": "2022-09-03T18:56:42.677Z"
   },
   {
    "duration": 17,
    "start_time": "2022-09-03T18:56:42.882Z"
   },
   {
    "duration": 10,
    "start_time": "2022-09-03T18:56:42.900Z"
   },
   {
    "duration": 11,
    "start_time": "2022-09-03T18:56:42.911Z"
   },
   {
    "duration": 8,
    "start_time": "2022-09-03T18:56:42.924Z"
   },
   {
    "duration": 299,
    "start_time": "2022-09-03T18:56:42.934Z"
   },
   {
    "duration": 10,
    "start_time": "2022-09-03T18:56:43.235Z"
   },
   {
    "duration": 16,
    "start_time": "2022-09-03T18:56:43.247Z"
   },
   {
    "duration": 23,
    "start_time": "2022-09-03T18:56:43.264Z"
   },
   {
    "duration": 162,
    "start_time": "2022-09-03T18:56:43.289Z"
   },
   {
    "duration": 10,
    "start_time": "2022-09-03T18:56:43.453Z"
   },
   {
    "duration": 23,
    "start_time": "2022-09-03T18:56:43.465Z"
   },
   {
    "duration": 12,
    "start_time": "2022-09-03T18:56:43.489Z"
   },
   {
    "duration": 178,
    "start_time": "2022-09-03T18:56:43.502Z"
   },
   {
    "duration": 8,
    "start_time": "2022-09-03T18:56:43.687Z"
   },
   {
    "duration": 10,
    "start_time": "2022-09-03T18:56:43.697Z"
   },
   {
    "duration": 6,
    "start_time": "2022-09-03T18:56:43.709Z"
   },
   {
    "duration": 4,
    "start_time": "2022-09-03T18:56:43.717Z"
   },
   {
    "duration": 7,
    "start_time": "2022-09-03T18:56:43.723Z"
   },
   {
    "duration": 5,
    "start_time": "2022-09-03T18:56:43.732Z"
   },
   {
    "duration": 10,
    "start_time": "2022-09-03T18:56:43.739Z"
   },
   {
    "duration": 7,
    "start_time": "2022-09-03T18:56:43.750Z"
   },
   {
    "duration": 29,
    "start_time": "2022-09-03T18:56:43.759Z"
   },
   {
    "duration": 6,
    "start_time": "2022-09-03T18:56:43.790Z"
   },
   {
    "duration": 5,
    "start_time": "2022-09-03T18:56:43.798Z"
   },
   {
    "duration": 6,
    "start_time": "2022-09-03T19:26:14.857Z"
   },
   {
    "duration": 4,
    "start_time": "2022-09-03T19:26:15.409Z"
   },
   {
    "duration": 7,
    "start_time": "2022-09-03T19:26:16.102Z"
   },
   {
    "duration": 15,
    "start_time": "2022-09-03T19:26:20.743Z"
   },
   {
    "duration": 13,
    "start_time": "2022-09-03T19:26:26.846Z"
   },
   {
    "duration": 406,
    "start_time": "2022-09-03T19:26:27.343Z"
   },
   {
    "duration": 527,
    "start_time": "2022-09-03T19:26:31.538Z"
   },
   {
    "duration": 15,
    "start_time": "2022-09-03T19:26:32.672Z"
   },
   {
    "duration": 360,
    "start_time": "2022-09-03T19:26:33.640Z"
   },
   {
    "duration": 11,
    "start_time": "2022-09-03T19:26:34.490Z"
   },
   {
    "duration": 383,
    "start_time": "2022-09-03T19:26:35.313Z"
   },
   {
    "duration": 299,
    "start_time": "2022-09-03T19:26:35.699Z"
   },
   {
    "duration": 17,
    "start_time": "2022-09-03T19:26:38.088Z"
   },
   {
    "duration": 14,
    "start_time": "2022-09-03T19:26:38.389Z"
   },
   {
    "duration": 5,
    "start_time": "2022-09-03T19:26:38.599Z"
   },
   {
    "duration": 5,
    "start_time": "2022-09-03T19:26:39.044Z"
   },
   {
    "duration": 21,
    "start_time": "2022-09-03T19:26:39.506Z"
   },
   {
    "duration": 12,
    "start_time": "2022-09-03T19:26:39.943Z"
   },
   {
    "duration": 9,
    "start_time": "2022-09-03T19:26:40.307Z"
   },
   {
    "duration": 415,
    "start_time": "2022-09-03T19:26:40.449Z"
   },
   {
    "duration": 276,
    "start_time": "2022-09-03T19:26:41.058Z"
   },
   {
    "duration": 5,
    "start_time": "2022-09-03T19:26:42.983Z"
   },
   {
    "duration": 13,
    "start_time": "2022-09-03T19:26:43.299Z"
   },
   {
    "duration": 1673,
    "start_time": "2022-09-03T19:26:43.587Z"
   },
   {
    "duration": 9,
    "start_time": "2022-09-03T19:26:45.263Z"
   },
   {
    "duration": 1666,
    "start_time": "2022-09-03T19:26:45.274Z"
   },
   {
    "duration": 9,
    "start_time": "2022-09-03T19:26:46.942Z"
   },
   {
    "duration": 163,
    "start_time": "2022-09-03T19:27:14.555Z"
   },
   {
    "duration": 164,
    "start_time": "2022-09-03T19:28:00.255Z"
   },
   {
    "duration": 166,
    "start_time": "2022-09-03T19:28:13.692Z"
   },
   {
    "duration": 210,
    "start_time": "2022-09-03T19:28:26.093Z"
   },
   {
    "duration": 1075,
    "start_time": "2022-09-03T19:29:46.144Z"
   },
   {
    "duration": 56,
    "start_time": "2022-09-03T19:29:47.221Z"
   },
   {
    "duration": 59,
    "start_time": "2022-09-03T19:29:47.279Z"
   },
   {
    "duration": 16,
    "start_time": "2022-09-03T19:29:47.340Z"
   },
   {
    "duration": 9,
    "start_time": "2022-09-03T19:29:47.357Z"
   },
   {
    "duration": 29,
    "start_time": "2022-09-03T19:29:47.368Z"
   },
   {
    "duration": 8,
    "start_time": "2022-09-03T19:29:47.398Z"
   },
   {
    "duration": 17,
    "start_time": "2022-09-03T19:29:47.407Z"
   },
   {
    "duration": 10,
    "start_time": "2022-09-03T19:29:47.426Z"
   },
   {
    "duration": 9,
    "start_time": "2022-09-03T19:29:47.439Z"
   },
   {
    "duration": 9,
    "start_time": "2022-09-03T19:29:47.450Z"
   },
   {
    "duration": 33,
    "start_time": "2022-09-03T19:29:47.460Z"
   },
   {
    "duration": 8,
    "start_time": "2022-09-03T19:29:47.495Z"
   },
   {
    "duration": 22,
    "start_time": "2022-09-03T19:29:47.505Z"
   },
   {
    "duration": 7,
    "start_time": "2022-09-03T19:29:47.529Z"
   },
   {
    "duration": 22,
    "start_time": "2022-09-03T19:29:47.538Z"
   },
   {
    "duration": 28,
    "start_time": "2022-09-03T19:29:47.562Z"
   },
   {
    "duration": 7,
    "start_time": "2022-09-03T19:29:47.592Z"
   },
   {
    "duration": 13,
    "start_time": "2022-09-03T19:29:47.600Z"
   },
   {
    "duration": 7,
    "start_time": "2022-09-03T19:29:47.614Z"
   },
   {
    "duration": 9,
    "start_time": "2022-09-03T19:29:47.623Z"
   },
   {
    "duration": 19,
    "start_time": "2022-09-03T19:29:47.634Z"
   },
   {
    "duration": 32,
    "start_time": "2022-09-03T19:29:47.655Z"
   },
   {
    "duration": 391,
    "start_time": "2022-09-03T19:29:47.689Z"
   },
   {
    "duration": 395,
    "start_time": "2022-09-03T19:29:48.086Z"
   },
   {
    "duration": 14,
    "start_time": "2022-09-03T19:29:48.486Z"
   },
   {
    "duration": 345,
    "start_time": "2022-09-03T19:29:48.501Z"
   },
   {
    "duration": 11,
    "start_time": "2022-09-03T19:29:48.850Z"
   },
   {
    "duration": 383,
    "start_time": "2022-09-03T19:29:48.862Z"
   },
   {
    "duration": 233,
    "start_time": "2022-09-03T19:29:49.247Z"
   },
   {
    "duration": 12,
    "start_time": "2022-09-03T19:29:49.482Z"
   },
   {
    "duration": 11,
    "start_time": "2022-09-03T19:29:49.495Z"
   },
   {
    "duration": 8,
    "start_time": "2022-09-03T19:29:49.508Z"
   },
   {
    "duration": 9,
    "start_time": "2022-09-03T19:29:49.518Z"
   },
   {
    "duration": 23,
    "start_time": "2022-09-03T19:29:49.529Z"
   },
   {
    "duration": 36,
    "start_time": "2022-09-03T19:29:49.554Z"
   },
   {
    "duration": 9,
    "start_time": "2022-09-03T19:29:49.591Z"
   },
   {
    "duration": 231,
    "start_time": "2022-09-03T19:29:49.601Z"
   },
   {
    "duration": 319,
    "start_time": "2022-09-03T19:29:49.834Z"
   },
   {
    "duration": 5,
    "start_time": "2022-09-03T19:29:50.155Z"
   },
   {
    "duration": 28,
    "start_time": "2022-09-03T19:29:50.162Z"
   },
   {
    "duration": 1461,
    "start_time": "2022-09-03T19:29:50.193Z"
   },
   {
    "duration": 8,
    "start_time": "2022-09-03T19:29:51.656Z"
   },
   {
    "duration": 1431,
    "start_time": "2022-09-03T19:29:51.665Z"
   },
   {
    "duration": 10,
    "start_time": "2022-09-03T19:29:53.098Z"
   },
   {
    "duration": 6,
    "start_time": "2022-09-03T19:29:53.110Z"
   },
   {
    "duration": 12,
    "start_time": "2022-09-03T19:29:53.118Z"
   },
   {
    "duration": 1450,
    "start_time": "2022-09-03T19:29:53.132Z"
   },
   {
    "duration": 17,
    "start_time": "2022-09-03T19:29:54.584Z"
   },
   {
    "duration": 301,
    "start_time": "2022-09-03T19:29:54.603Z"
   },
   {
    "duration": 210,
    "start_time": "2022-09-03T19:29:54.906Z"
   },
   {
    "duration": 235,
    "start_time": "2022-09-03T19:29:55.119Z"
   },
   {
    "duration": 15,
    "start_time": "2022-09-03T19:29:55.356Z"
   },
   {
    "duration": 25,
    "start_time": "2022-09-03T19:29:55.373Z"
   },
   {
    "duration": 29,
    "start_time": "2022-09-03T19:29:55.400Z"
   },
   {
    "duration": 10,
    "start_time": "2022-09-03T19:29:55.431Z"
   },
   {
    "duration": 343,
    "start_time": "2022-09-03T19:29:55.443Z"
   },
   {
    "duration": 16,
    "start_time": "2022-09-03T19:29:55.790Z"
   },
   {
    "duration": 22,
    "start_time": "2022-09-03T19:29:55.807Z"
   },
   {
    "duration": 18,
    "start_time": "2022-09-03T19:29:55.830Z"
   },
   {
    "duration": 203,
    "start_time": "2022-09-03T19:29:55.849Z"
   },
   {
    "duration": 14,
    "start_time": "2022-09-03T19:29:56.054Z"
   },
   {
    "duration": 31,
    "start_time": "2022-09-03T19:29:56.070Z"
   },
   {
    "duration": 26,
    "start_time": "2022-09-03T19:29:56.104Z"
   },
   {
    "duration": 257,
    "start_time": "2022-09-03T19:29:56.132Z"
   },
   {
    "duration": 20,
    "start_time": "2022-09-03T19:29:56.391Z"
   },
   {
    "duration": 21,
    "start_time": "2022-09-03T19:29:56.414Z"
   },
   {
    "duration": 9,
    "start_time": "2022-09-03T19:29:56.438Z"
   },
   {
    "duration": 14,
    "start_time": "2022-09-03T19:29:56.449Z"
   },
   {
    "duration": 11,
    "start_time": "2022-09-03T19:29:56.465Z"
   },
   {
    "duration": 28,
    "start_time": "2022-09-03T19:29:56.478Z"
   },
   {
    "duration": 15,
    "start_time": "2022-09-03T19:29:56.508Z"
   },
   {
    "duration": 18,
    "start_time": "2022-09-03T19:29:56.525Z"
   },
   {
    "duration": 8,
    "start_time": "2022-09-03T19:29:56.545Z"
   },
   {
    "duration": 9,
    "start_time": "2022-09-03T19:29:56.556Z"
   },
   {
    "duration": 14,
    "start_time": "2022-09-03T19:29:56.567Z"
   },
   {
    "duration": 1076,
    "start_time": "2022-09-04T16:58:07.411Z"
   },
   {
    "duration": 171,
    "start_time": "2022-09-04T16:58:08.488Z"
   },
   {
    "duration": 58,
    "start_time": "2022-09-04T16:58:08.660Z"
   },
   {
    "duration": 14,
    "start_time": "2022-09-04T16:58:08.720Z"
   },
   {
    "duration": 7,
    "start_time": "2022-09-04T16:58:08.736Z"
   },
   {
    "duration": 13,
    "start_time": "2022-09-04T16:58:08.744Z"
   },
   {
    "duration": 8,
    "start_time": "2022-09-04T16:58:08.758Z"
   },
   {
    "duration": 8,
    "start_time": "2022-09-04T16:58:08.767Z"
   },
   {
    "duration": 5,
    "start_time": "2022-09-04T16:58:08.805Z"
   },
   {
    "duration": 7,
    "start_time": "2022-09-04T16:58:08.813Z"
   },
   {
    "duration": 7,
    "start_time": "2022-09-04T16:58:08.822Z"
   },
   {
    "duration": 6,
    "start_time": "2022-09-04T16:58:08.830Z"
   },
   {
    "duration": 4,
    "start_time": "2022-09-04T16:58:08.837Z"
   },
   {
    "duration": 18,
    "start_time": "2022-09-04T16:58:08.843Z"
   },
   {
    "duration": 45,
    "start_time": "2022-09-04T16:58:08.862Z"
   },
   {
    "duration": 12,
    "start_time": "2022-09-04T16:58:08.908Z"
   },
   {
    "duration": 10,
    "start_time": "2022-09-04T16:58:08.921Z"
   },
   {
    "duration": 6,
    "start_time": "2022-09-04T16:58:08.932Z"
   },
   {
    "duration": 6,
    "start_time": "2022-09-04T16:58:08.939Z"
   },
   {
    "duration": 5,
    "start_time": "2022-09-04T16:58:08.946Z"
   },
   {
    "duration": 6,
    "start_time": "2022-09-04T16:58:08.953Z"
   },
   {
    "duration": 61,
    "start_time": "2022-09-04T16:58:08.961Z"
   },
   {
    "duration": 13,
    "start_time": "2022-09-04T16:58:09.024Z"
   },
   {
    "duration": 362,
    "start_time": "2022-09-04T16:58:09.038Z"
   },
   {
    "duration": 390,
    "start_time": "2022-09-04T16:58:09.401Z"
   },
   {
    "duration": 21,
    "start_time": "2022-09-04T16:58:09.792Z"
   },
   {
    "duration": 283,
    "start_time": "2022-09-04T16:58:09.814Z"
   },
   {
    "duration": 11,
    "start_time": "2022-09-04T16:58:10.101Z"
   },
   {
    "duration": 370,
    "start_time": "2022-09-04T16:58:10.114Z"
   },
   {
    "duration": 236,
    "start_time": "2022-09-04T16:58:10.486Z"
   },
   {
    "duration": 14,
    "start_time": "2022-09-04T16:58:10.724Z"
   },
   {
    "duration": 11,
    "start_time": "2022-09-04T16:58:10.739Z"
   },
   {
    "duration": 7,
    "start_time": "2022-09-04T16:58:10.751Z"
   },
   {
    "duration": 5,
    "start_time": "2022-09-04T16:58:10.760Z"
   },
   {
    "duration": 42,
    "start_time": "2022-09-04T16:58:10.766Z"
   },
   {
    "duration": 14,
    "start_time": "2022-09-04T16:58:10.809Z"
   },
   {
    "duration": 8,
    "start_time": "2022-09-04T16:58:10.824Z"
   },
   {
    "duration": 212,
    "start_time": "2022-09-04T16:58:10.834Z"
   },
   {
    "duration": 285,
    "start_time": "2022-09-04T16:58:11.048Z"
   },
   {
    "duration": 5,
    "start_time": "2022-09-04T16:58:11.335Z"
   },
   {
    "duration": 15,
    "start_time": "2022-09-04T16:58:11.341Z"
   },
   {
    "duration": 1351,
    "start_time": "2022-09-04T16:58:11.357Z"
   },
   {
    "duration": 8,
    "start_time": "2022-09-04T16:58:12.709Z"
   },
   {
    "duration": 1292,
    "start_time": "2022-09-04T16:58:12.718Z"
   },
   {
    "duration": 8,
    "start_time": "2022-09-04T16:58:14.011Z"
   },
   {
    "duration": 7,
    "start_time": "2022-09-04T16:58:14.020Z"
   },
   {
    "duration": 13,
    "start_time": "2022-09-04T16:58:14.028Z"
   },
   {
    "duration": 1253,
    "start_time": "2022-09-04T16:58:14.042Z"
   },
   {
    "duration": 17,
    "start_time": "2022-09-04T16:58:15.298Z"
   },
   {
    "duration": 292,
    "start_time": "2022-09-04T16:58:15.316Z"
   },
   {
    "duration": 252,
    "start_time": "2022-09-04T16:58:15.609Z"
   },
   {
    "duration": 284,
    "start_time": "2022-09-04T16:58:15.862Z"
   },
   {
    "duration": 22,
    "start_time": "2022-09-04T16:58:16.148Z"
   },
   {
    "duration": 26,
    "start_time": "2022-09-04T16:58:16.172Z"
   },
   {
    "duration": 15,
    "start_time": "2022-09-04T16:58:16.200Z"
   },
   {
    "duration": 30,
    "start_time": "2022-09-04T16:58:16.217Z"
   },
   {
    "duration": 288,
    "start_time": "2022-09-04T16:58:16.249Z"
   },
   {
    "duration": 11,
    "start_time": "2022-09-04T16:58:16.539Z"
   },
   {
    "duration": 16,
    "start_time": "2022-09-04T16:58:16.552Z"
   },
   {
    "duration": 13,
    "start_time": "2022-09-04T16:58:16.569Z"
   },
   {
    "duration": 171,
    "start_time": "2022-09-04T16:58:16.583Z"
   },
   {
    "duration": 11,
    "start_time": "2022-09-04T16:58:16.756Z"
   },
   {
    "duration": 12,
    "start_time": "2022-09-04T16:58:16.768Z"
   },
   {
    "duration": 27,
    "start_time": "2022-09-04T16:58:16.782Z"
   },
   {
    "duration": 160,
    "start_time": "2022-09-04T16:58:16.811Z"
   },
   {
    "duration": 7,
    "start_time": "2022-09-04T16:58:16.973Z"
   },
   {
    "duration": 8,
    "start_time": "2022-09-04T16:58:16.982Z"
   },
   {
    "duration": 16,
    "start_time": "2022-09-04T16:58:16.992Z"
   },
   {
    "duration": 3,
    "start_time": "2022-09-04T16:58:17.009Z"
   },
   {
    "duration": 6,
    "start_time": "2022-09-04T16:58:17.013Z"
   },
   {
    "duration": 6,
    "start_time": "2022-09-04T16:58:17.021Z"
   },
   {
    "duration": 9,
    "start_time": "2022-09-04T16:58:17.029Z"
   },
   {
    "duration": 9,
    "start_time": "2022-09-04T16:58:17.039Z"
   },
   {
    "duration": 3,
    "start_time": "2022-09-04T16:58:17.050Z"
   },
   {
    "duration": 5,
    "start_time": "2022-09-04T16:58:17.055Z"
   },
   {
    "duration": 6,
    "start_time": "2022-09-04T16:58:17.062Z"
   },
   {
    "duration": 10,
    "start_time": "2022-09-04T17:07:00.687Z"
   },
   {
    "duration": 14,
    "start_time": "2022-09-04T17:07:03.475Z"
   },
   {
    "duration": 288,
    "start_time": "2022-09-04T17:07:25.301Z"
   },
   {
    "duration": 20,
    "start_time": "2022-09-04T17:07:39.881Z"
   },
   {
    "duration": 266,
    "start_time": "2022-09-04T17:08:07.963Z"
   },
   {
    "duration": 261,
    "start_time": "2022-09-04T17:08:27.661Z"
   },
   {
    "duration": 58,
    "start_time": "2022-09-04T19:39:50.022Z"
   },
   {
    "duration": 1546,
    "start_time": "2022-09-04T19:40:22.595Z"
   },
   {
    "duration": 173,
    "start_time": "2022-09-04T19:40:24.143Z"
   },
   {
    "duration": 55,
    "start_time": "2022-09-04T19:40:24.318Z"
   },
   {
    "duration": 14,
    "start_time": "2022-09-04T19:40:24.375Z"
   },
   {
    "duration": 11,
    "start_time": "2022-09-04T19:40:24.390Z"
   },
   {
    "duration": 11,
    "start_time": "2022-09-04T19:40:24.406Z"
   },
   {
    "duration": 5,
    "start_time": "2022-09-04T19:40:24.418Z"
   },
   {
    "duration": 7,
    "start_time": "2022-09-04T19:40:24.425Z"
   },
   {
    "duration": 5,
    "start_time": "2022-09-04T19:40:24.433Z"
   },
   {
    "duration": 7,
    "start_time": "2022-09-04T19:40:24.440Z"
   },
   {
    "duration": 6,
    "start_time": "2022-09-04T19:40:24.449Z"
   },
   {
    "duration": 6,
    "start_time": "2022-09-04T19:40:24.456Z"
   },
   {
    "duration": 4,
    "start_time": "2022-09-04T19:40:24.463Z"
   },
   {
    "duration": 50,
    "start_time": "2022-09-04T19:40:24.468Z"
   },
   {
    "duration": 4,
    "start_time": "2022-09-04T19:40:24.519Z"
   },
   {
    "duration": 11,
    "start_time": "2022-09-04T19:40:24.525Z"
   },
   {
    "duration": 9,
    "start_time": "2022-09-04T19:40:24.538Z"
   },
   {
    "duration": 6,
    "start_time": "2022-09-04T19:40:24.548Z"
   },
   {
    "duration": 5,
    "start_time": "2022-09-04T19:40:24.556Z"
   },
   {
    "duration": 44,
    "start_time": "2022-09-04T19:40:24.562Z"
   },
   {
    "duration": 7,
    "start_time": "2022-09-04T19:40:24.608Z"
   },
   {
    "duration": 16,
    "start_time": "2022-09-04T19:40:24.617Z"
   },
   {
    "duration": 12,
    "start_time": "2022-09-04T19:40:24.635Z"
   },
   {
    "duration": 347,
    "start_time": "2022-09-04T19:40:24.648Z"
   },
   {
    "duration": 451,
    "start_time": "2022-09-04T19:40:24.997Z"
   },
   {
    "duration": 13,
    "start_time": "2022-09-04T19:40:25.450Z"
   },
   {
    "duration": 275,
    "start_time": "2022-09-04T19:40:25.464Z"
   },
   {
    "duration": 9,
    "start_time": "2022-09-04T19:40:25.743Z"
   },
   {
    "duration": 332,
    "start_time": "2022-09-04T19:40:25.753Z"
   },
   {
    "duration": 257,
    "start_time": "2022-09-04T19:40:26.087Z"
   },
   {
    "duration": 11,
    "start_time": "2022-09-04T19:40:26.345Z"
   },
   {
    "duration": 9,
    "start_time": "2022-09-04T19:40:26.358Z"
   },
   {
    "duration": 6,
    "start_time": "2022-09-04T19:40:26.369Z"
   },
   {
    "duration": 5,
    "start_time": "2022-09-04T19:40:26.376Z"
   },
   {
    "duration": 37,
    "start_time": "2022-09-04T19:40:26.383Z"
   },
   {
    "duration": 10,
    "start_time": "2022-09-04T19:40:26.421Z"
   },
   {
    "duration": 8,
    "start_time": "2022-09-04T19:40:26.432Z"
   },
   {
    "duration": 222,
    "start_time": "2022-09-04T19:40:26.441Z"
   },
   {
    "duration": 292,
    "start_time": "2022-09-04T19:40:26.664Z"
   },
   {
    "duration": 5,
    "start_time": "2022-09-04T19:40:26.958Z"
   },
   {
    "duration": 16,
    "start_time": "2022-09-04T19:40:26.964Z"
   },
   {
    "duration": 1418,
    "start_time": "2022-09-04T19:40:26.982Z"
   },
   {
    "duration": 8,
    "start_time": "2022-09-04T19:40:28.402Z"
   },
   {
    "duration": 1329,
    "start_time": "2022-09-04T19:40:28.412Z"
   },
   {
    "duration": 9,
    "start_time": "2022-09-04T19:40:29.743Z"
   },
   {
    "duration": 15,
    "start_time": "2022-09-04T19:40:29.754Z"
   },
   {
    "duration": 22,
    "start_time": "2022-09-04T19:40:29.771Z"
   },
   {
    "duration": 1318,
    "start_time": "2022-09-04T19:40:29.795Z"
   },
   {
    "duration": 11,
    "start_time": "2022-09-04T19:40:31.114Z"
   },
   {
    "duration": 265,
    "start_time": "2022-09-04T19:40:31.126Z"
   },
   {
    "duration": 188,
    "start_time": "2022-09-04T19:40:31.393Z"
   },
   {
    "duration": 195,
    "start_time": "2022-09-04T19:40:31.583Z"
   },
   {
    "duration": 374,
    "start_time": "2022-09-04T19:40:31.779Z"
   },
   {
    "duration": 16,
    "start_time": "2022-09-04T19:40:32.154Z"
   },
   {
    "duration": 10,
    "start_time": "2022-09-04T19:40:32.171Z"
   },
   {
    "duration": 31,
    "start_time": "2022-09-04T19:40:32.183Z"
   },
   {
    "duration": 12,
    "start_time": "2022-09-04T19:40:32.216Z"
   },
   {
    "duration": 177,
    "start_time": "2022-09-04T19:40:32.229Z"
   },
   {
    "duration": 11,
    "start_time": "2022-09-04T19:40:32.407Z"
   },
   {
    "duration": 10,
    "start_time": "2022-09-04T19:40:32.419Z"
   },
   {
    "duration": 10,
    "start_time": "2022-09-04T19:40:32.430Z"
   },
   {
    "duration": 173,
    "start_time": "2022-09-04T19:40:32.442Z"
   },
   {
    "duration": 11,
    "start_time": "2022-09-04T19:40:32.617Z"
   },
   {
    "duration": 15,
    "start_time": "2022-09-04T19:40:32.629Z"
   },
   {
    "duration": 12,
    "start_time": "2022-09-04T19:40:32.645Z"
   },
   {
    "duration": 180,
    "start_time": "2022-09-04T19:40:32.658Z"
   },
   {
    "duration": 9,
    "start_time": "2022-09-04T19:40:32.840Z"
   },
   {
    "duration": 6,
    "start_time": "2022-09-04T19:40:32.851Z"
   },
   {
    "duration": 8,
    "start_time": "2022-09-04T19:40:32.858Z"
   },
   {
    "duration": 9,
    "start_time": "2022-09-04T19:40:32.867Z"
   },
   {
    "duration": 7,
    "start_time": "2022-09-04T19:40:32.877Z"
   },
   {
    "duration": 21,
    "start_time": "2022-09-04T19:40:32.885Z"
   },
   {
    "duration": 9,
    "start_time": "2022-09-04T19:40:32.907Z"
   },
   {
    "duration": 4,
    "start_time": "2022-09-04T19:40:32.918Z"
   },
   {
    "duration": 3,
    "start_time": "2022-09-04T19:40:32.924Z"
   },
   {
    "duration": 5,
    "start_time": "2022-09-04T19:40:32.929Z"
   },
   {
    "duration": 5,
    "start_time": "2022-09-04T19:40:32.936Z"
   }
  ],
  "kernelspec": {
   "display_name": "Python 3 (ipykernel)",
   "language": "python",
   "name": "python3"
  },
  "language_info": {
   "codemirror_mode": {
    "name": "ipython",
    "version": 3
   },
   "file_extension": ".py",
   "mimetype": "text/x-python",
   "name": "python",
   "nbconvert_exporter": "python",
   "pygments_lexer": "ipython3",
   "version": "3.9.12"
  },
  "toc": {
   "base_numbering": 1,
   "nav_menu": {},
   "number_sections": true,
   "sideBar": true,
   "skip_h1_title": true,
   "title_cell": "Table of Contents",
   "title_sidebar": "Contents",
   "toc_cell": false,
   "toc_position": {},
   "toc_section_display": true,
   "toc_window_display": false
  }
 },
 "nbformat": 4,
 "nbformat_minor": 2
}
